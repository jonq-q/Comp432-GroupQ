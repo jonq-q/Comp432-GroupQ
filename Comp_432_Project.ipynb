{
  "cells": [
    {
      "cell_type": "markdown",
      "source": [
        "#Project Code\n",
        "\n",
        "\n",
        "---\n"
      ],
      "metadata": {
        "id": "KosnGMmaP05O"
      }
    },
    {
      "cell_type": "markdown",
      "source": [
        "## Task 1 training Resnet-18 ( CNN ) Model on Colorectal cancer dataset."
      ],
      "metadata": {
        "id": "INeHnyBRSAyu"
      }
    },
    {
      "cell_type": "markdown",
      "source": [
        "###Imports"
      ],
      "metadata": {
        "id": "-oIztxwAQUeA"
      }
    },
    {
      "cell_type": "code",
      "execution_count": 1,
      "metadata": {
        "id": "wGGhmFiP-7cH"
      },
      "outputs": [],
      "source": [
        "import torch\n",
        "import torchvision\n",
        "import numpy as np\n",
        "import torch.nn as nn\n",
        "import torch.optim as optim\n",
        "from torch.utils.data import DataLoader\n",
        "from torchvision import datasets, transforms\n",
        "from sklearn.metrics import classification_report\n",
        "import matplotlib.pyplot as plt\n",
        "import time\n",
        "from typing_extensions import Self\n",
        "from scipy import stats\n",
        "from sklearn.manifold import TSNE\n",
        "import plotly.express as px\n",
        "from sklearn.metrics import multilabel_confusion_matrix\n",
        "from torchvision.models import resnet18\n",
        "from sklearn import svm\n",
        "from sklearn.neighbors import KNeighborsClassifier\n",
        "from sklearn.model_selection import train_test_split"
      ]
    },
    {
      "cell_type": "code",
      "source": [
        "pip install thop"
      ],
      "metadata": {
        "id": "BVbQCQGIV5bq",
        "colab": {
          "base_uri": "https://localhost:8080/"
        },
        "outputId": "2501fd31-2609-4cb2-cddd-8a0a2846441f"
      },
      "execution_count": 2,
      "outputs": [
        {
          "output_type": "stream",
          "name": "stdout",
          "text": [
            "Collecting thop\n",
            "  Downloading thop-0.1.1.post2209072238-py3-none-any.whl (15 kB)\n",
            "Requirement already satisfied: torch in /usr/local/lib/python3.10/dist-packages (from thop) (2.1.0+cu118)\n",
            "Requirement already satisfied: filelock in /usr/local/lib/python3.10/dist-packages (from torch->thop) (3.13.1)\n",
            "Requirement already satisfied: typing-extensions in /usr/local/lib/python3.10/dist-packages (from torch->thop) (4.5.0)\n",
            "Requirement already satisfied: sympy in /usr/local/lib/python3.10/dist-packages (from torch->thop) (1.12)\n",
            "Requirement already satisfied: networkx in /usr/local/lib/python3.10/dist-packages (from torch->thop) (3.2.1)\n",
            "Requirement already satisfied: jinja2 in /usr/local/lib/python3.10/dist-packages (from torch->thop) (3.1.2)\n",
            "Requirement already satisfied: fsspec in /usr/local/lib/python3.10/dist-packages (from torch->thop) (2023.6.0)\n",
            "Requirement already satisfied: triton==2.1.0 in /usr/local/lib/python3.10/dist-packages (from torch->thop) (2.1.0)\n",
            "Requirement already satisfied: MarkupSafe>=2.0 in /usr/local/lib/python3.10/dist-packages (from jinja2->torch->thop) (2.1.3)\n",
            "Requirement already satisfied: mpmath>=0.19 in /usr/local/lib/python3.10/dist-packages (from sympy->torch->thop) (1.3.0)\n",
            "Installing collected packages: thop\n",
            "Successfully installed thop-0.1.1.post2209072238\n"
          ]
        }
      ]
    },
    {
      "cell_type": "code",
      "source": [
        "from thop import profile"
      ],
      "metadata": {
        "id": "enmo07MeWAJz"
      },
      "execution_count": 3,
      "outputs": []
    },
    {
      "cell_type": "markdown",
      "source": [
        "### Importing datasets from github."
      ],
      "metadata": {
        "id": "lfBbHby3QWfA"
      }
    },
    {
      "cell_type": "code",
      "execution_count": 4,
      "metadata": {
        "id": "rnnr8Nk_lUTw",
        "colab": {
          "base_uri": "https://localhost:8080/"
        },
        "outputId": "3e2f9be8-392e-4f3c-eb59-7161aabd751c"
      },
      "outputs": [
        {
          "output_type": "stream",
          "name": "stdout",
          "text": [
            "Mounted at /content/drive/\n",
            "Looks that a private key is already created. If you have already push it to github, no action required.\n",
            " Otherwise, Please go to https://github.com/settings/ssh/new to upload the following key: \n",
            "ssh-ed25519 AAAAC3NzaC1lZDI1NTE5AAAAIPNHesHoZ8yifpxV8MpOj9wzeMMzniVoRcF992tjnH5Y root@b3bd0b87503a\n",
            "\n",
            "Please use SSH method to clone repo.\n"
          ]
        }
      ],
      "source": [
        "!wget -q https://raw.githubusercontent.com/tsunrise/colab-github/main/colab_github.py\n",
        "import colab_github\n",
        "colab_github.github_auth(persistent_key=True)\n",
        "\n",
        "# method to import git data into colab taken from:\n",
        "# https://github.com/tsunrise/colab-github"
      ]
    },
    {
      "cell_type": "markdown",
      "source": [
        "cloning"
      ],
      "metadata": {
        "id": "ZZrmdj6FQlWe"
      }
    },
    {
      "cell_type": "code",
      "source": [
        "!git clone git@github.com:jonq-q/Comp432-GroupQ.git"
      ],
      "metadata": {
        "colab": {
          "base_uri": "https://localhost:8080/"
        },
        "id": "lOcx5r5OUk3D",
        "outputId": "7f649c13-3d9e-4c1a-8982-2d88acebfc25"
      },
      "execution_count": 5,
      "outputs": [
        {
          "output_type": "stream",
          "name": "stdout",
          "text": [
            "Cloning into 'Comp432-GroupQ'...\n",
            "remote: Enumerating objects: 18108, done.\u001b[K\n",
            "remote: Counting objects: 100% (54/54), done.\u001b[K\n",
            "remote: Compressing objects: 100% (54/54), done.\u001b[K\n",
            "remote: Total 18108 (delta 22), reused 0 (delta 0), pack-reused 18054\u001b[K\n",
            "Receiving objects: 100% (18108/18108), 1.14 GiB | 18.07 MiB/s, done.\n",
            "Resolving deltas: 100% (39/39), done.\n",
            "Updating files: 100% (18018/18018), done.\n"
          ]
        }
      ]
    },
    {
      "cell_type": "code",
      "source": [
        "!gdown 1yzlhU-scVVv7NTBEstWMkPJOc8bUwRw9"
      ],
      "metadata": {
        "id": "y1fapE8bJUNS",
        "outputId": "feef9e50-ba8b-4c6d-8457-2147eca8f51f",
        "colab": {
          "base_uri": "https://localhost:8080/"
        }
      },
      "execution_count": 6,
      "outputs": [
        {
          "output_type": "stream",
          "name": "stdout",
          "text": [
            "Downloading...\n",
            "From: https://drive.google.com/uc?id=1yzlhU-scVVv7NTBEstWMkPJOc8bUwRw9\n",
            "To: /content/Comp432-GroupQ.zip\n",
            "100% 20.3M/20.3M [00:00<00:00, 86.1MB/s]\n"
          ]
        }
      ]
    },
    {
      "cell_type": "code",
      "source": [
        "!unzip \"/content/Comp432-GroupQ.zip\" -d \"/content/TestDatasets\""
      ],
      "metadata": {
        "id": "9GW3gxRsJX4L",
        "outputId": "e79aa21e-7a95-4695-c3bb-e27a3bd3d615",
        "colab": {
          "base_uri": "https://localhost:8080/"
        }
      },
      "execution_count": 7,
      "outputs": [
        {
          "output_type": "stream",
          "name": "stdout",
          "text": [
            "Archive:  /content/Comp432-GroupQ.zip\n",
            "   creating: /content/TestDatasets/Comp432-GroupQ/\n",
            "  inflating: /content/TestDatasets/Comp432-GroupQ/.DS_Store  \n",
            "  inflating: /content/TestDatasets/__MACOSX/Comp432-GroupQ/._.DS_Store  \n",
            "   creating: /content/TestDatasets/Comp432-GroupQ/Dataset 3/\n",
            "   creating: /content/TestDatasets/Comp432-GroupQ/Dataset 2/\n",
            "   creating: /content/TestDatasets/Comp432-GroupQ/Dataset 1/\n",
            "   creating: /content/TestDatasets/Comp432-GroupQ/Dataset 3/Animal Faces/\n",
            "  inflating: /content/TestDatasets/Comp432-GroupQ/Dataset 3/.DS_Store  \n",
            "  inflating: /content/TestDatasets/__MACOSX/Comp432-GroupQ/Dataset 3/._.DS_Store  \n",
            "  inflating: /content/TestDatasets/Comp432-GroupQ/Dataset 2/.DS_Store  \n",
            "  inflating: /content/TestDatasets/__MACOSX/Comp432-GroupQ/Dataset 2/._.DS_Store  \n",
            "   creating: /content/TestDatasets/Comp432-GroupQ/Dataset 2/Prostate Cancer/\n",
            "  inflating: /content/TestDatasets/Comp432-GroupQ/Dataset 1/.DS_Store  \n",
            "  inflating: /content/TestDatasets/__MACOSX/Comp432-GroupQ/Dataset 1/._.DS_Store  \n",
            "   creating: /content/TestDatasets/Comp432-GroupQ/Dataset 1/Colorectal Cancer  /\n",
            "   creating: /content/TestDatasets/Comp432-GroupQ/Dataset 3/Animal Faces/cat/\n",
            "  inflating: /content/TestDatasets/Comp432-GroupQ/Dataset 3/Animal Faces/.DS_Store  \n",
            "  inflating: /content/TestDatasets/__MACOSX/Comp432-GroupQ/Dataset 3/Animal Faces/._.DS_Store  \n",
            "   creating: /content/TestDatasets/Comp432-GroupQ/Dataset 3/Animal Faces/dog/\n",
            "   creating: /content/TestDatasets/Comp432-GroupQ/Dataset 3/Animal Faces/wild/\n",
            "  inflating: /content/TestDatasets/Comp432-GroupQ/Dataset 2/Prostate Cancer/.DS_Store  \n",
            "  inflating: /content/TestDatasets/__MACOSX/Comp432-GroupQ/Dataset 2/Prostate Cancer/._.DS_Store  \n",
            "   creating: /content/TestDatasets/Comp432-GroupQ/Dataset 2/Prostate Cancer/tumor/\n",
            "   creating: /content/TestDatasets/Comp432-GroupQ/Dataset 2/Prostate Cancer/nongland/\n",
            "   creating: /content/TestDatasets/Comp432-GroupQ/Dataset 2/Prostate Cancer/gland/\n",
            "  inflating: /content/TestDatasets/Comp432-GroupQ/Dataset 1/Colorectal Cancer  /.DS_Store  \n",
            "  inflating: /content/TestDatasets/__MACOSX/Comp432-GroupQ/Dataset 1/Colorectal Cancer  /._.DS_Store  \n",
            "   creating: /content/TestDatasets/Comp432-GroupQ/Dataset 1/Colorectal Cancer  /NORM/\n",
            "   creating: /content/TestDatasets/Comp432-GroupQ/Dataset 1/Colorectal Cancer  /MUS/\n",
            "   creating: /content/TestDatasets/Comp432-GroupQ/Dataset 1/Colorectal Cancer  /STR/\n",
            "  inflating: /content/TestDatasets/Comp432-GroupQ/Dataset 3/Animal Faces/cat/pixabay_cat_002646.jpg  \n",
            "  inflating: /content/TestDatasets/__MACOSX/Comp432-GroupQ/Dataset 3/Animal Faces/cat/._pixabay_cat_002646.jpg  \n",
            "  inflating: /content/TestDatasets/Comp432-GroupQ/Dataset 3/Animal Faces/cat/pixabay_cat_002647.jpg  \n",
            "  inflating: /content/TestDatasets/__MACOSX/Comp432-GroupQ/Dataset 3/Animal Faces/cat/._pixabay_cat_002647.jpg  \n",
            "  inflating: /content/TestDatasets/Comp432-GroupQ/Dataset 3/Animal Faces/cat/pixabay_cat_002653.jpg  \n",
            "  inflating: /content/TestDatasets/__MACOSX/Comp432-GroupQ/Dataset 3/Animal Faces/cat/._pixabay_cat_002653.jpg  \n",
            "  inflating: /content/TestDatasets/Comp432-GroupQ/Dataset 3/Animal Faces/cat/pixabay_cat_002645.jpg  \n",
            "  inflating: /content/TestDatasets/__MACOSX/Comp432-GroupQ/Dataset 3/Animal Faces/cat/._pixabay_cat_002645.jpg  \n",
            "  inflating: /content/TestDatasets/Comp432-GroupQ/Dataset 3/Animal Faces/cat/pixabay_cat_002679.jpg  \n",
            "  inflating: /content/TestDatasets/__MACOSX/Comp432-GroupQ/Dataset 3/Animal Faces/cat/._pixabay_cat_002679.jpg  \n",
            "  inflating: /content/TestDatasets/Comp432-GroupQ/Dataset 3/Animal Faces/cat/pixabay_cat_002678.jpg  \n",
            "  inflating: /content/TestDatasets/__MACOSX/Comp432-GroupQ/Dataset 3/Animal Faces/cat/._pixabay_cat_002678.jpg  \n",
            "  inflating: /content/TestDatasets/Comp432-GroupQ/Dataset 3/Animal Faces/cat/pixabay_cat_002644.jpg  \n",
            "  inflating: /content/TestDatasets/__MACOSX/Comp432-GroupQ/Dataset 3/Animal Faces/cat/._pixabay_cat_002644.jpg  \n",
            "  inflating: /content/TestDatasets/Comp432-GroupQ/Dataset 3/Animal Faces/cat/pixabay_cat_002668.jpg  \n",
            "  inflating: /content/TestDatasets/__MACOSX/Comp432-GroupQ/Dataset 3/Animal Faces/cat/._pixabay_cat_002668.jpg  \n",
            "  inflating: /content/TestDatasets/Comp432-GroupQ/Dataset 3/Animal Faces/cat/pixabay_cat_002654.jpg  \n",
            "  inflating: /content/TestDatasets/__MACOSX/Comp432-GroupQ/Dataset 3/Animal Faces/cat/._pixabay_cat_002654.jpg  \n",
            "  inflating: /content/TestDatasets/Comp432-GroupQ/Dataset 3/Animal Faces/cat/pixabay_cat_002682.jpg  \n",
            "  inflating: /content/TestDatasets/__MACOSX/Comp432-GroupQ/Dataset 3/Animal Faces/cat/._pixabay_cat_002682.jpg  \n",
            "  inflating: /content/TestDatasets/Comp432-GroupQ/Dataset 3/Animal Faces/cat/pixabay_cat_002655.jpg  \n",
            "  inflating: /content/TestDatasets/__MACOSX/Comp432-GroupQ/Dataset 3/Animal Faces/cat/._pixabay_cat_002655.jpg  \n",
            "  inflating: /content/TestDatasets/Comp432-GroupQ/Dataset 3/Animal Faces/cat/pixabay_cat_002669.jpg  \n",
            "  inflating: /content/TestDatasets/__MACOSX/Comp432-GroupQ/Dataset 3/Animal Faces/cat/._pixabay_cat_002669.jpg  \n",
            "  inflating: /content/TestDatasets/Comp432-GroupQ/Dataset 3/Animal Faces/cat/pixabay_cat_002657.jpg  \n",
            "  inflating: /content/TestDatasets/__MACOSX/Comp432-GroupQ/Dataset 3/Animal Faces/cat/._pixabay_cat_002657.jpg  \n",
            "  inflating: /content/TestDatasets/Comp432-GroupQ/Dataset 3/Animal Faces/cat/pixabay_cat_002643.jpg  \n",
            "  inflating: /content/TestDatasets/__MACOSX/Comp432-GroupQ/Dataset 3/Animal Faces/cat/._pixabay_cat_002643.jpg  \n",
            "  inflating: /content/TestDatasets/Comp432-GroupQ/Dataset 3/Animal Faces/cat/pixabay_cat_002680.jpg  \n",
            "  inflating: /content/TestDatasets/__MACOSX/Comp432-GroupQ/Dataset 3/Animal Faces/cat/._pixabay_cat_002680.jpg  \n",
            "  inflating: /content/TestDatasets/Comp432-GroupQ/Dataset 3/Animal Faces/cat/pixabay_cat_002681.jpg  \n",
            "  inflating: /content/TestDatasets/__MACOSX/Comp432-GroupQ/Dataset 3/Animal Faces/cat/._pixabay_cat_002681.jpg  \n",
            "  inflating: /content/TestDatasets/Comp432-GroupQ/Dataset 3/Animal Faces/cat/pixabay_cat_002656.jpg  \n",
            "  inflating: /content/TestDatasets/__MACOSX/Comp432-GroupQ/Dataset 3/Animal Faces/cat/._pixabay_cat_002656.jpg  \n",
            "  inflating: /content/TestDatasets/Comp432-GroupQ/Dataset 3/Animal Faces/cat/pixabay_cat_002673.jpg  \n",
            "  inflating: /content/TestDatasets/__MACOSX/Comp432-GroupQ/Dataset 3/Animal Faces/cat/._pixabay_cat_002673.jpg  \n",
            "  inflating: /content/TestDatasets/Comp432-GroupQ/Dataset 3/Animal Faces/cat/pixabay_cat_002667.jpg  \n",
            "  inflating: /content/TestDatasets/__MACOSX/Comp432-GroupQ/Dataset 3/Animal Faces/cat/._pixabay_cat_002667.jpg  \n",
            "  inflating: /content/TestDatasets/Comp432-GroupQ/Dataset 3/Animal Faces/cat/pixabay_cat_002666.jpg  \n",
            "  inflating: /content/TestDatasets/__MACOSX/Comp432-GroupQ/Dataset 3/Animal Faces/cat/._pixabay_cat_002666.jpg  \n",
            "  inflating: /content/TestDatasets/Comp432-GroupQ/Dataset 3/Animal Faces/cat/pixabay_cat_002672.jpg  \n",
            "  inflating: /content/TestDatasets/__MACOSX/Comp432-GroupQ/Dataset 3/Animal Faces/cat/._pixabay_cat_002672.jpg  \n",
            "  inflating: /content/TestDatasets/Comp432-GroupQ/Dataset 3/Animal Faces/cat/pixabay_cat_002664.jpg  \n",
            "  inflating: /content/TestDatasets/__MACOSX/Comp432-GroupQ/Dataset 3/Animal Faces/cat/._pixabay_cat_002664.jpg  \n",
            "  inflating: /content/TestDatasets/Comp432-GroupQ/Dataset 3/Animal Faces/cat/pixabay_cat_002670.jpg  \n",
            "  inflating: /content/TestDatasets/__MACOSX/Comp432-GroupQ/Dataset 3/Animal Faces/cat/._pixabay_cat_002670.jpg  \n",
            "  inflating: /content/TestDatasets/Comp432-GroupQ/Dataset 3/Animal Faces/cat/pixabay_cat_002658.jpg  \n",
            "  inflating: /content/TestDatasets/__MACOSX/Comp432-GroupQ/Dataset 3/Animal Faces/cat/._pixabay_cat_002658.jpg  \n",
            "  inflating: /content/TestDatasets/Comp432-GroupQ/Dataset 3/Animal Faces/cat/pixabay_cat_002659.jpg  \n",
            "  inflating: /content/TestDatasets/__MACOSX/Comp432-GroupQ/Dataset 3/Animal Faces/cat/._pixabay_cat_002659.jpg  \n",
            "  inflating: /content/TestDatasets/Comp432-GroupQ/Dataset 3/Animal Faces/cat/pixabay_cat_002671.jpg  \n",
            "  inflating: /content/TestDatasets/__MACOSX/Comp432-GroupQ/Dataset 3/Animal Faces/cat/._pixabay_cat_002671.jpg  \n",
            "  inflating: /content/TestDatasets/Comp432-GroupQ/Dataset 3/Animal Faces/cat/pixabay_cat_002665.jpg  \n",
            "  inflating: /content/TestDatasets/__MACOSX/Comp432-GroupQ/Dataset 3/Animal Faces/cat/._pixabay_cat_002665.jpg  \n",
            "  inflating: /content/TestDatasets/Comp432-GroupQ/Dataset 3/Animal Faces/cat/pixabay_cat_002675.jpg  \n",
            "  inflating: /content/TestDatasets/__MACOSX/Comp432-GroupQ/Dataset 3/Animal Faces/cat/._pixabay_cat_002675.jpg  \n",
            "  inflating: /content/TestDatasets/Comp432-GroupQ/Dataset 3/Animal Faces/cat/pixabay_cat_002674.jpg  \n",
            "  inflating: /content/TestDatasets/__MACOSX/Comp432-GroupQ/Dataset 3/Animal Faces/cat/._pixabay_cat_002674.jpg  \n",
            "  inflating: /content/TestDatasets/Comp432-GroupQ/Dataset 3/Animal Faces/cat/pixabay_cat_002660.jpg  \n",
            "  inflating: /content/TestDatasets/__MACOSX/Comp432-GroupQ/Dataset 3/Animal Faces/cat/._pixabay_cat_002660.jpg  \n",
            "  inflating: /content/TestDatasets/Comp432-GroupQ/Dataset 3/Animal Faces/cat/pixabay_cat_002648.jpg  \n",
            "  inflating: /content/TestDatasets/__MACOSX/Comp432-GroupQ/Dataset 3/Animal Faces/cat/._pixabay_cat_002648.jpg  \n",
            "  inflating: /content/TestDatasets/Comp432-GroupQ/Dataset 3/Animal Faces/cat/pixabay_cat_002676.jpg  \n",
            "  inflating: /content/TestDatasets/__MACOSX/Comp432-GroupQ/Dataset 3/Animal Faces/cat/._pixabay_cat_002676.jpg  \n",
            "  inflating: /content/TestDatasets/Comp432-GroupQ/Dataset 3/Animal Faces/cat/pixabay_cat_002663.jpg  \n",
            "  inflating: /content/TestDatasets/__MACOSX/Comp432-GroupQ/Dataset 3/Animal Faces/cat/._pixabay_cat_002663.jpg  \n",
            "  inflating: /content/TestDatasets/Comp432-GroupQ/Dataset 3/Animal Faces/cat/pixabay_cat_002677.jpg  \n",
            "  inflating: /content/TestDatasets/__MACOSX/Comp432-GroupQ/Dataset 3/Animal Faces/cat/._pixabay_cat_002677.jpg  \n",
            "  inflating: /content/TestDatasets/Comp432-GroupQ/Dataset 3/Animal Faces/dog/pixabay_dog_001876.jpg  \n",
            "  inflating: /content/TestDatasets/__MACOSX/Comp432-GroupQ/Dataset 3/Animal Faces/dog/._pixabay_dog_001876.jpg  \n",
            "  inflating: /content/TestDatasets/Comp432-GroupQ/Dataset 3/Animal Faces/dog/pixabay_dog_001889.jpg  \n",
            "  inflating: /content/TestDatasets/__MACOSX/Comp432-GroupQ/Dataset 3/Animal Faces/dog/._pixabay_dog_001889.jpg  \n",
            "  inflating: /content/TestDatasets/Comp432-GroupQ/Dataset 3/Animal Faces/dog/pixabay_dog_001888.jpg  \n",
            "  inflating: /content/TestDatasets/__MACOSX/Comp432-GroupQ/Dataset 3/Animal Faces/dog/._pixabay_dog_001888.jpg  \n",
            "  inflating: /content/TestDatasets/Comp432-GroupQ/Dataset 3/Animal Faces/dog/pixabay_dog_001877.jpg  \n",
            "  inflating: /content/TestDatasets/__MACOSX/Comp432-GroupQ/Dataset 3/Animal Faces/dog/._pixabay_dog_001877.jpg  \n",
            "  inflating: /content/TestDatasets/Comp432-GroupQ/Dataset 3/Animal Faces/dog/pixabay_dog_001861.jpg  \n",
            "  inflating: /content/TestDatasets/__MACOSX/Comp432-GroupQ/Dataset 3/Animal Faces/dog/._pixabay_dog_001861.jpg  \n",
            "  inflating: /content/TestDatasets/Comp432-GroupQ/Dataset 3/Animal Faces/dog/pixabay_dog_001875.jpg  \n",
            "  inflating: /content/TestDatasets/__MACOSX/Comp432-GroupQ/Dataset 3/Animal Faces/dog/._pixabay_dog_001875.jpg  \n",
            "  inflating: /content/TestDatasets/Comp432-GroupQ/Dataset 3/Animal Faces/dog/pixabay_dog_001874.jpg  \n",
            "  inflating: /content/TestDatasets/__MACOSX/Comp432-GroupQ/Dataset 3/Animal Faces/dog/._pixabay_dog_001874.jpg  \n",
            "  inflating: /content/TestDatasets/Comp432-GroupQ/Dataset 3/Animal Faces/dog/pixabay_dog_001870.jpg  \n",
            "  inflating: /content/TestDatasets/__MACOSX/Comp432-GroupQ/Dataset 3/Animal Faces/dog/._pixabay_dog_001870.jpg  \n",
            "  inflating: /content/TestDatasets/Comp432-GroupQ/Dataset 3/Animal Faces/dog/pixabay_dog_001858.jpg  \n",
            "  inflating: /content/TestDatasets/__MACOSX/Comp432-GroupQ/Dataset 3/Animal Faces/dog/._pixabay_dog_001858.jpg  \n",
            "  inflating: /content/TestDatasets/Comp432-GroupQ/Dataset 3/Animal Faces/dog/pixabay_dog_001859.jpg  \n",
            "  inflating: /content/TestDatasets/__MACOSX/Comp432-GroupQ/Dataset 3/Animal Faces/dog/._pixabay_dog_001859.jpg  \n",
            "  inflating: /content/TestDatasets/Comp432-GroupQ/Dataset 3/Animal Faces/dog/pixabay_dog_001871.jpg  \n",
            "  inflating: /content/TestDatasets/__MACOSX/Comp432-GroupQ/Dataset 3/Animal Faces/dog/._pixabay_dog_001871.jpg  \n",
            "  inflating: /content/TestDatasets/Comp432-GroupQ/Dataset 3/Animal Faces/dog/pixabay_dog_001865.jpg  \n",
            "  inflating: /content/TestDatasets/__MACOSX/Comp432-GroupQ/Dataset 3/Animal Faces/dog/._pixabay_dog_001865.jpg  \n",
            "  inflating: /content/TestDatasets/Comp432-GroupQ/Dataset 3/Animal Faces/dog/pixabay_dog_001873.jpg  \n",
            "  inflating: /content/TestDatasets/__MACOSX/Comp432-GroupQ/Dataset 3/Animal Faces/dog/._pixabay_dog_001873.jpg  \n",
            "  inflating: /content/TestDatasets/Comp432-GroupQ/Dataset 3/Animal Faces/dog/pixabay_dog_001867.jpg  \n",
            "  inflating: /content/TestDatasets/__MACOSX/Comp432-GroupQ/Dataset 3/Animal Faces/dog/._pixabay_dog_001867.jpg  \n",
            "  inflating: /content/TestDatasets/Comp432-GroupQ/Dataset 3/Animal Faces/dog/pixabay_dog_001866.jpg  \n",
            "  inflating: /content/TestDatasets/__MACOSX/Comp432-GroupQ/Dataset 3/Animal Faces/dog/._pixabay_dog_001866.jpg  \n",
            "  inflating: /content/TestDatasets/Comp432-GroupQ/Dataset 3/Animal Faces/dog/pixabay_dog_001872.jpg  \n",
            "  inflating: /content/TestDatasets/__MACOSX/Comp432-GroupQ/Dataset 3/Animal Faces/dog/._pixabay_dog_001872.jpg  \n",
            "  inflating: /content/TestDatasets/Comp432-GroupQ/Dataset 3/Animal Faces/dog/pixabay_dog_001857.jpg  \n",
            "  inflating: /content/TestDatasets/__MACOSX/Comp432-GroupQ/Dataset 3/Animal Faces/dog/._pixabay_dog_001857.jpg  \n",
            "  inflating: /content/TestDatasets/Comp432-GroupQ/Dataset 3/Animal Faces/dog/pixabay_dog_001881.jpg  \n",
            "  inflating: /content/TestDatasets/__MACOSX/Comp432-GroupQ/Dataset 3/Animal Faces/dog/._pixabay_dog_001881.jpg  \n",
            "  inflating: /content/TestDatasets/Comp432-GroupQ/Dataset 3/Animal Faces/dog/pixabay_dog_001856.jpg  \n",
            "  inflating: /content/TestDatasets/__MACOSX/Comp432-GroupQ/Dataset 3/Animal Faces/dog/._pixabay_dog_001856.jpg  \n",
            "  inflating: /content/TestDatasets/Comp432-GroupQ/Dataset 3/Animal Faces/dog/pixabay_dog_001868.jpg  \n",
            "  inflating: /content/TestDatasets/__MACOSX/Comp432-GroupQ/Dataset 3/Animal Faces/dog/._pixabay_dog_001868.jpg  \n",
            "  inflating: /content/TestDatasets/Comp432-GroupQ/Dataset 3/Animal Faces/dog/pixabay_dog_001883.jpg  \n",
            "  inflating: /content/TestDatasets/__MACOSX/Comp432-GroupQ/Dataset 3/Animal Faces/dog/._pixabay_dog_001883.jpg  \n",
            "  inflating: /content/TestDatasets/Comp432-GroupQ/Dataset 3/Animal Faces/dog/pixabay_dog_001882.jpg  \n",
            "  inflating: /content/TestDatasets/__MACOSX/Comp432-GroupQ/Dataset 3/Animal Faces/dog/._pixabay_dog_001882.jpg  \n",
            "  inflating: /content/TestDatasets/Comp432-GroupQ/Dataset 3/Animal Faces/dog/pixabay_dog_001855.jpg  \n",
            "  inflating: /content/TestDatasets/__MACOSX/Comp432-GroupQ/Dataset 3/Animal Faces/dog/._pixabay_dog_001855.jpg  \n",
            "  inflating: /content/TestDatasets/Comp432-GroupQ/Dataset 3/Animal Faces/dog/pixabay_dog_001869.jpg  \n",
            "  inflating: /content/TestDatasets/__MACOSX/Comp432-GroupQ/Dataset 3/Animal Faces/dog/._pixabay_dog_001869.jpg  \n",
            "  inflating: /content/TestDatasets/Comp432-GroupQ/Dataset 3/Animal Faces/dog/pixabay_dog_001879.jpg  \n",
            "  inflating: /content/TestDatasets/__MACOSX/Comp432-GroupQ/Dataset 3/Animal Faces/dog/._pixabay_dog_001879.jpg  \n",
            "  inflating: /content/TestDatasets/Comp432-GroupQ/Dataset 3/Animal Faces/dog/pixabay_dog_001886.jpg  \n",
            "  inflating: /content/TestDatasets/__MACOSX/Comp432-GroupQ/Dataset 3/Animal Faces/dog/._pixabay_dog_001886.jpg  \n",
            "  inflating: /content/TestDatasets/Comp432-GroupQ/Dataset 3/Animal Faces/dog/pixabay_dog_001892.jpg  \n",
            "  inflating: /content/TestDatasets/__MACOSX/Comp432-GroupQ/Dataset 3/Animal Faces/dog/._pixabay_dog_001892.jpg  \n",
            "  inflating: /content/TestDatasets/Comp432-GroupQ/Dataset 3/Animal Faces/dog/pixabay_dog_001887.jpg  \n",
            "  inflating: /content/TestDatasets/__MACOSX/Comp432-GroupQ/Dataset 3/Animal Faces/dog/._pixabay_dog_001887.jpg  \n",
            "  inflating: /content/TestDatasets/Comp432-GroupQ/Dataset 3/Animal Faces/dog/pixabay_dog_001878.jpg  \n",
            "  inflating: /content/TestDatasets/__MACOSX/Comp432-GroupQ/Dataset 3/Animal Faces/dog/._pixabay_dog_001878.jpg  \n",
            "  inflating: /content/TestDatasets/Comp432-GroupQ/Dataset 3/Animal Faces/dog/pixabay_dog_001891.jpg  \n",
            "  inflating: /content/TestDatasets/__MACOSX/Comp432-GroupQ/Dataset 3/Animal Faces/dog/._pixabay_dog_001891.jpg  \n",
            "  inflating: /content/TestDatasets/Comp432-GroupQ/Dataset 3/Animal Faces/dog/pixabay_dog_001885.jpg  \n",
            "  inflating: /content/TestDatasets/__MACOSX/Comp432-GroupQ/Dataset 3/Animal Faces/dog/._pixabay_dog_001885.jpg  \n",
            "  inflating: /content/TestDatasets/Comp432-GroupQ/Dataset 3/Animal Faces/dog/pixabay_dog_001884.jpg  \n",
            "  inflating: /content/TestDatasets/__MACOSX/Comp432-GroupQ/Dataset 3/Animal Faces/dog/._pixabay_dog_001884.jpg  \n",
            "  inflating: /content/TestDatasets/Comp432-GroupQ/Dataset 3/Animal Faces/dog/pixabay_dog_001890.jpg  \n",
            "  inflating: /content/TestDatasets/__MACOSX/Comp432-GroupQ/Dataset 3/Animal Faces/dog/._pixabay_dog_001890.jpg  \n",
            "  inflating: /content/TestDatasets/Comp432-GroupQ/Dataset 3/Animal Faces/wild/flickr_wild_003066.jpg  \n",
            "  inflating: /content/TestDatasets/__MACOSX/Comp432-GroupQ/Dataset 3/Animal Faces/wild/._flickr_wild_003066.jpg  \n",
            "  inflating: /content/TestDatasets/Comp432-GroupQ/Dataset 3/Animal Faces/wild/flickr_wild_003059.jpg  \n",
            "  inflating: /content/TestDatasets/__MACOSX/Comp432-GroupQ/Dataset 3/Animal Faces/wild/._flickr_wild_003059.jpg  \n",
            "  inflating: /content/TestDatasets/Comp432-GroupQ/Dataset 3/Animal Faces/wild/flickr_wild_003058.jpg  \n",
            "  inflating: /content/TestDatasets/__MACOSX/Comp432-GroupQ/Dataset 3/Animal Faces/wild/._flickr_wild_003058.jpg  \n",
            "  inflating: /content/TestDatasets/Comp432-GroupQ/Dataset 3/Animal Faces/wild/flickr_wild_003064.jpg  \n",
            "  inflating: /content/TestDatasets/__MACOSX/Comp432-GroupQ/Dataset 3/Animal Faces/wild/._flickr_wild_003064.jpg  \n",
            "  inflating: /content/TestDatasets/Comp432-GroupQ/Dataset 3/Animal Faces/wild/flickr_wild_003070.jpg  \n",
            "  inflating: /content/TestDatasets/__MACOSX/Comp432-GroupQ/Dataset 3/Animal Faces/wild/._flickr_wild_003070.jpg  \n",
            "  inflating: /content/TestDatasets/Comp432-GroupQ/Dataset 3/Animal Faces/wild/flickr_wild_003048.jpg  \n",
            "  inflating: /content/TestDatasets/__MACOSX/Comp432-GroupQ/Dataset 3/Animal Faces/wild/._flickr_wild_003048.jpg  \n",
            "  inflating: /content/TestDatasets/Comp432-GroupQ/Dataset 3/Animal Faces/wild/flickr_wild_003049.jpg  \n",
            "  inflating: /content/TestDatasets/__MACOSX/Comp432-GroupQ/Dataset 3/Animal Faces/wild/._flickr_wild_003049.jpg  \n",
            "  inflating: /content/TestDatasets/Comp432-GroupQ/Dataset 3/Animal Faces/wild/flickr_wild_003063.jpg  \n",
            "  inflating: /content/TestDatasets/__MACOSX/Comp432-GroupQ/Dataset 3/Animal Faces/wild/._flickr_wild_003063.jpg  \n",
            "  inflating: /content/TestDatasets/Comp432-GroupQ/Dataset 3/Animal Faces/wild/flickr_wild_003062.jpg  \n",
            "  inflating: /content/TestDatasets/__MACOSX/Comp432-GroupQ/Dataset 3/Animal Faces/wild/._flickr_wild_003062.jpg  \n",
            "  inflating: /content/TestDatasets/Comp432-GroupQ/Dataset 3/Animal Faces/wild/flickr_wild_003038.jpg  \n",
            "  inflating: /content/TestDatasets/__MACOSX/Comp432-GroupQ/Dataset 3/Animal Faces/wild/._flickr_wild_003038.jpg  \n",
            "  inflating: /content/TestDatasets/Comp432-GroupQ/Dataset 3/Animal Faces/wild/flickr_wild_003033.jpg  \n",
            "  inflating: /content/TestDatasets/__MACOSX/Comp432-GroupQ/Dataset 3/Animal Faces/wild/._flickr_wild_003033.jpg  \n",
            "  inflating: /content/TestDatasets/Comp432-GroupQ/Dataset 3/Animal Faces/wild/flickr_wild_003032.jpg  \n",
            "  inflating: /content/TestDatasets/__MACOSX/Comp432-GroupQ/Dataset 3/Animal Faces/wild/._flickr_wild_003032.jpg  \n",
            "  inflating: /content/TestDatasets/Comp432-GroupQ/Dataset 3/Animal Faces/wild/flickr_wild_003036.jpg  \n",
            "  inflating: /content/TestDatasets/__MACOSX/Comp432-GroupQ/Dataset 3/Animal Faces/wild/._flickr_wild_003036.jpg  \n",
            "  inflating: /content/TestDatasets/Comp432-GroupQ/Dataset 3/Animal Faces/wild/flickr_wild_003037.jpg  \n",
            "  inflating: /content/TestDatasets/__MACOSX/Comp432-GroupQ/Dataset 3/Animal Faces/wild/._flickr_wild_003037.jpg  \n",
            "  inflating: /content/TestDatasets/Comp432-GroupQ/Dataset 3/Animal Faces/wild/flickr_wild_003035.jpg  \n",
            "  inflating: /content/TestDatasets/__MACOSX/Comp432-GroupQ/Dataset 3/Animal Faces/wild/._flickr_wild_003035.jpg  \n",
            "  inflating: /content/TestDatasets/Comp432-GroupQ/Dataset 3/Animal Faces/wild/flickr_wild_003034.jpg  \n",
            "  inflating: /content/TestDatasets/__MACOSX/Comp432-GroupQ/Dataset 3/Animal Faces/wild/._flickr_wild_003034.jpg  \n",
            "  inflating: /content/TestDatasets/Comp432-GroupQ/Dataset 3/Animal Faces/wild/flickr_wild_003047.jpg  \n",
            "  inflating: /content/TestDatasets/__MACOSX/Comp432-GroupQ/Dataset 3/Animal Faces/wild/._flickr_wild_003047.jpg  \n",
            "  inflating: /content/TestDatasets/Comp432-GroupQ/Dataset 3/Animal Faces/wild/flickr_wild_003053.jpg  \n",
            "  inflating: /content/TestDatasets/__MACOSX/Comp432-GroupQ/Dataset 3/Animal Faces/wild/._flickr_wild_003053.jpg  \n",
            "  inflating: /content/TestDatasets/Comp432-GroupQ/Dataset 3/Animal Faces/wild/flickr_wild_003052.jpg  \n",
            "  inflating: /content/TestDatasets/__MACOSX/Comp432-GroupQ/Dataset 3/Animal Faces/wild/._flickr_wild_003052.jpg  \n",
            "  inflating: /content/TestDatasets/Comp432-GroupQ/Dataset 3/Animal Faces/wild/flickr_wild_003046.jpg  \n",
            "  inflating: /content/TestDatasets/__MACOSX/Comp432-GroupQ/Dataset 3/Animal Faces/wild/._flickr_wild_003046.jpg  \n",
            "  inflating: /content/TestDatasets/Comp432-GroupQ/Dataset 3/Animal Faces/wild/flickr_wild_003050.jpg  \n",
            "  inflating: /content/TestDatasets/__MACOSX/Comp432-GroupQ/Dataset 3/Animal Faces/wild/._flickr_wild_003050.jpg  \n",
            "  inflating: /content/TestDatasets/Comp432-GroupQ/Dataset 3/Animal Faces/wild/flickr_wild_003044.jpg  \n",
            "  inflating: /content/TestDatasets/__MACOSX/Comp432-GroupQ/Dataset 3/Animal Faces/wild/._flickr_wild_003044.jpg  \n",
            "  inflating: /content/TestDatasets/Comp432-GroupQ/Dataset 3/Animal Faces/wild/flickr_wild_003045.jpg  \n",
            "  inflating: /content/TestDatasets/__MACOSX/Comp432-GroupQ/Dataset 3/Animal Faces/wild/._flickr_wild_003045.jpg  \n",
            "  inflating: /content/TestDatasets/Comp432-GroupQ/Dataset 3/Animal Faces/wild/flickr_wild_003051.jpg  \n",
            "  inflating: /content/TestDatasets/__MACOSX/Comp432-GroupQ/Dataset 3/Animal Faces/wild/._flickr_wild_003051.jpg  \n",
            "  inflating: /content/TestDatasets/Comp432-GroupQ/Dataset 3/Animal Faces/wild/flickr_wild_003069.jpg  \n",
            "  inflating: /content/TestDatasets/__MACOSX/Comp432-GroupQ/Dataset 3/Animal Faces/wild/._flickr_wild_003069.jpg  \n",
            "  inflating: /content/TestDatasets/Comp432-GroupQ/Dataset 3/Animal Faces/wild/flickr_wild_003055.jpg  \n",
            "  inflating: /content/TestDatasets/__MACOSX/Comp432-GroupQ/Dataset 3/Animal Faces/wild/._flickr_wild_003055.jpg  \n",
            "  inflating: /content/TestDatasets/Comp432-GroupQ/Dataset 3/Animal Faces/wild/flickr_wild_003041.jpg  \n",
            "  inflating: /content/TestDatasets/__MACOSX/Comp432-GroupQ/Dataset 3/Animal Faces/wild/._flickr_wild_003041.jpg  \n",
            "  inflating: /content/TestDatasets/Comp432-GroupQ/Dataset 3/Animal Faces/wild/flickr_wild_003054.jpg  \n",
            "  inflating: /content/TestDatasets/__MACOSX/Comp432-GroupQ/Dataset 3/Animal Faces/wild/._flickr_wild_003054.jpg  \n",
            "  inflating: /content/TestDatasets/Comp432-GroupQ/Dataset 3/Animal Faces/wild/flickr_wild_003068.jpg  \n",
            "  inflating: /content/TestDatasets/__MACOSX/Comp432-GroupQ/Dataset 3/Animal Faces/wild/._flickr_wild_003068.jpg  \n",
            "  inflating: /content/TestDatasets/Comp432-GroupQ/Dataset 3/Animal Faces/wild/flickr_wild_003042.jpg  \n",
            "  inflating: /content/TestDatasets/__MACOSX/Comp432-GroupQ/Dataset 3/Animal Faces/wild/._flickr_wild_003042.jpg  \n",
            "  inflating: /content/TestDatasets/Comp432-GroupQ/Dataset 3/Animal Faces/wild/flickr_wild_003056.jpg  \n",
            "  inflating: /content/TestDatasets/__MACOSX/Comp432-GroupQ/Dataset 3/Animal Faces/wild/._flickr_wild_003056.jpg  \n",
            "  inflating: /content/TestDatasets/Comp432-GroupQ/Dataset 3/Animal Faces/wild/flickr_wild_003057.jpg  \n",
            "  inflating: /content/TestDatasets/__MACOSX/Comp432-GroupQ/Dataset 3/Animal Faces/wild/._flickr_wild_003057.jpg  \n",
            "  inflating: /content/TestDatasets/Comp432-GroupQ/Dataset 3/Animal Faces/wild/flickr_wild_003043.jpg  \n",
            "  inflating: /content/TestDatasets/__MACOSX/Comp432-GroupQ/Dataset 3/Animal Faces/wild/._flickr_wild_003043.jpg  \n",
            "  inflating: /content/TestDatasets/Comp432-GroupQ/Dataset 2/Prostate Cancer/tumor/tu.17.jpg  \n",
            "  inflating: /content/TestDatasets/__MACOSX/Comp432-GroupQ/Dataset 2/Prostate Cancer/tumor/._tu.17.jpg  \n",
            "  inflating: /content/TestDatasets/Comp432-GroupQ/Dataset 2/Prostate Cancer/tumor/tu.6.jpg  \n",
            "  inflating: /content/TestDatasets/__MACOSX/Comp432-GroupQ/Dataset 2/Prostate Cancer/tumor/._tu.6.jpg  \n",
            "  inflating: /content/TestDatasets/Comp432-GroupQ/Dataset 2/Prostate Cancer/tumor/tu.7.jpg  \n",
            "  inflating: /content/TestDatasets/__MACOSX/Comp432-GroupQ/Dataset 2/Prostate Cancer/tumor/._tu.7.jpg  \n",
            "  inflating: /content/TestDatasets/Comp432-GroupQ/Dataset 2/Prostate Cancer/tumor/tu.16.jpg  \n",
            "  inflating: /content/TestDatasets/__MACOSX/Comp432-GroupQ/Dataset 2/Prostate Cancer/tumor/._tu.16.jpg  \n",
            "  inflating: /content/TestDatasets/Comp432-GroupQ/Dataset 2/Prostate Cancer/tumor/tu.14.jpg  \n",
            "  inflating: /content/TestDatasets/__MACOSX/Comp432-GroupQ/Dataset 2/Prostate Cancer/tumor/._tu.14.jpg  \n",
            "  inflating: /content/TestDatasets/Comp432-GroupQ/Dataset 2/Prostate Cancer/tumor/tu.28.jpg  \n",
            "  inflating: /content/TestDatasets/__MACOSX/Comp432-GroupQ/Dataset 2/Prostate Cancer/tumor/._tu.28.jpg  \n",
            "  inflating: /content/TestDatasets/Comp432-GroupQ/Dataset 2/Prostate Cancer/tumor/tu.5.jpg  \n",
            "  inflating: /content/TestDatasets/__MACOSX/Comp432-GroupQ/Dataset 2/Prostate Cancer/tumor/._tu.5.jpg  \n",
            "  inflating: /content/TestDatasets/Comp432-GroupQ/Dataset 2/Prostate Cancer/tumor/tu.4.jpg  \n",
            "  inflating: /content/TestDatasets/__MACOSX/Comp432-GroupQ/Dataset 2/Prostate Cancer/tumor/._tu.4.jpg  \n",
            "  inflating: /content/TestDatasets/Comp432-GroupQ/Dataset 2/Prostate Cancer/tumor/tu.29.jpg  \n",
            "  inflating: /content/TestDatasets/__MACOSX/Comp432-GroupQ/Dataset 2/Prostate Cancer/tumor/._tu.29.jpg  \n",
            "  inflating: /content/TestDatasets/Comp432-GroupQ/Dataset 2/Prostate Cancer/tumor/tu.15.jpg  \n",
            "  inflating: /content/TestDatasets/__MACOSX/Comp432-GroupQ/Dataset 2/Prostate Cancer/tumor/._tu.15.jpg  \n",
            "  inflating: /content/TestDatasets/Comp432-GroupQ/Dataset 2/Prostate Cancer/tumor/tu.11.jpg  \n",
            "  inflating: /content/TestDatasets/__MACOSX/Comp432-GroupQ/Dataset 2/Prostate Cancer/tumor/._tu.11.jpg  \n",
            "  inflating: /content/TestDatasets/Comp432-GroupQ/Dataset 2/Prostate Cancer/tumor/tu.1.jpg  \n",
            "  inflating: /content/TestDatasets/__MACOSX/Comp432-GroupQ/Dataset 2/Prostate Cancer/tumor/._tu.1.jpg  \n",
            "  inflating: /content/TestDatasets/Comp432-GroupQ/Dataset 2/Prostate Cancer/tumor/tu.10.jpg  \n",
            "  inflating: /content/TestDatasets/__MACOSX/Comp432-GroupQ/Dataset 2/Prostate Cancer/tumor/._tu.10.jpg  \n",
            "  inflating: /content/TestDatasets/Comp432-GroupQ/Dataset 2/Prostate Cancer/tumor/tu.12.jpg  \n",
            "  inflating: /content/TestDatasets/__MACOSX/Comp432-GroupQ/Dataset 2/Prostate Cancer/tumor/._tu.12.jpg  \n",
            "  inflating: /content/TestDatasets/Comp432-GroupQ/Dataset 2/Prostate Cancer/tumor/tu.3.jpg  \n",
            "  inflating: /content/TestDatasets/__MACOSX/Comp432-GroupQ/Dataset 2/Prostate Cancer/tumor/._tu.3.jpg  \n",
            "  inflating: /content/TestDatasets/Comp432-GroupQ/Dataset 2/Prostate Cancer/tumor/tu.2.jpg  \n",
            "  inflating: /content/TestDatasets/__MACOSX/Comp432-GroupQ/Dataset 2/Prostate Cancer/tumor/._tu.2.jpg  \n",
            "  inflating: /content/TestDatasets/Comp432-GroupQ/Dataset 2/Prostate Cancer/tumor/tu.13.jpg  \n",
            "  inflating: /content/TestDatasets/__MACOSX/Comp432-GroupQ/Dataset 2/Prostate Cancer/tumor/._tu.13.jpg  \n",
            "  inflating: /content/TestDatasets/Comp432-GroupQ/Dataset 2/Prostate Cancer/tumor/tu.22.jpg  \n",
            "  inflating: /content/TestDatasets/__MACOSX/Comp432-GroupQ/Dataset 2/Prostate Cancer/tumor/._tu.22.jpg  \n",
            "  inflating: /content/TestDatasets/Comp432-GroupQ/Dataset 2/Prostate Cancer/tumor/tu.23.jpg  \n",
            "  inflating: /content/TestDatasets/__MACOSX/Comp432-GroupQ/Dataset 2/Prostate Cancer/tumor/._tu.23.jpg  \n",
            "  inflating: /content/TestDatasets/Comp432-GroupQ/Dataset 2/Prostate Cancer/tumor/tu.21.jpg  \n",
            "  inflating: /content/TestDatasets/__MACOSX/Comp432-GroupQ/Dataset 2/Prostate Cancer/tumor/._tu.21.jpg  \n",
            "  inflating: /content/TestDatasets/Comp432-GroupQ/Dataset 2/Prostate Cancer/tumor/tu.20.jpg  \n",
            "  inflating: /content/TestDatasets/__MACOSX/Comp432-GroupQ/Dataset 2/Prostate Cancer/tumor/._tu.20.jpg  \n",
            "  inflating: /content/TestDatasets/Comp432-GroupQ/Dataset 2/Prostate Cancer/tumor/tu.18.jpg  \n",
            "  inflating: /content/TestDatasets/__MACOSX/Comp432-GroupQ/Dataset 2/Prostate Cancer/tumor/._tu.18.jpg  \n",
            "  inflating: /content/TestDatasets/Comp432-GroupQ/Dataset 2/Prostate Cancer/tumor/tu.30.jpg  \n",
            "  inflating: /content/TestDatasets/__MACOSX/Comp432-GroupQ/Dataset 2/Prostate Cancer/tumor/._tu.30.jpg  \n",
            "  inflating: /content/TestDatasets/Comp432-GroupQ/Dataset 2/Prostate Cancer/tumor/tu.24.jpg  \n",
            "  inflating: /content/TestDatasets/__MACOSX/Comp432-GroupQ/Dataset 2/Prostate Cancer/tumor/._tu.24.jpg  \n",
            "  inflating: /content/TestDatasets/Comp432-GroupQ/Dataset 2/Prostate Cancer/tumor/tu.9.jpg  \n",
            "  inflating: /content/TestDatasets/__MACOSX/Comp432-GroupQ/Dataset 2/Prostate Cancer/tumor/._tu.9.jpg  \n",
            "  inflating: /content/TestDatasets/Comp432-GroupQ/Dataset 2/Prostate Cancer/tumor/tu.8.jpg  \n",
            "  inflating: /content/TestDatasets/__MACOSX/Comp432-GroupQ/Dataset 2/Prostate Cancer/tumor/._tu.8.jpg  \n",
            "  inflating: /content/TestDatasets/Comp432-GroupQ/Dataset 2/Prostate Cancer/tumor/tu.25.jpg  \n",
            "  inflating: /content/TestDatasets/__MACOSX/Comp432-GroupQ/Dataset 2/Prostate Cancer/tumor/._tu.25.jpg  \n",
            "  inflating: /content/TestDatasets/Comp432-GroupQ/Dataset 2/Prostate Cancer/tumor/tu.31.jpg  \n",
            "  inflating: /content/TestDatasets/__MACOSX/Comp432-GroupQ/Dataset 2/Prostate Cancer/tumor/._tu.31.jpg  \n",
            "  inflating: /content/TestDatasets/Comp432-GroupQ/Dataset 2/Prostate Cancer/tumor/tu.19.jpg  \n",
            "  inflating: /content/TestDatasets/__MACOSX/Comp432-GroupQ/Dataset 2/Prostate Cancer/tumor/._tu.19.jpg  \n",
            "  inflating: /content/TestDatasets/Comp432-GroupQ/Dataset 2/Prostate Cancer/tumor/tu.27.jpg  \n",
            "  inflating: /content/TestDatasets/__MACOSX/Comp432-GroupQ/Dataset 2/Prostate Cancer/tumor/._tu.27.jpg  \n",
            "  inflating: /content/TestDatasets/Comp432-GroupQ/Dataset 2/Prostate Cancer/tumor/tu.33.jpg  \n",
            "  inflating: /content/TestDatasets/__MACOSX/Comp432-GroupQ/Dataset 2/Prostate Cancer/tumor/._tu.33.jpg  \n",
            "  inflating: /content/TestDatasets/Comp432-GroupQ/Dataset 2/Prostate Cancer/tumor/tu.32.jpg  \n",
            "  inflating: /content/TestDatasets/__MACOSX/Comp432-GroupQ/Dataset 2/Prostate Cancer/tumor/._tu.32.jpg  \n",
            "  inflating: /content/TestDatasets/Comp432-GroupQ/Dataset 2/Prostate Cancer/tumor/tu.26.jpg  \n",
            "  inflating: /content/TestDatasets/__MACOSX/Comp432-GroupQ/Dataset 2/Prostate Cancer/tumor/._tu.26.jpg  \n",
            "  inflating: /content/TestDatasets/Comp432-GroupQ/Dataset 2/Prostate Cancer/nongland/nongl.9.jpg  \n",
            "  inflating: /content/TestDatasets/__MACOSX/Comp432-GroupQ/Dataset 2/Prostate Cancer/nongland/._nongl.9.jpg  \n",
            "  inflating: /content/TestDatasets/Comp432-GroupQ/Dataset 2/Prostate Cancer/nongland/nongl.11.jpg  \n",
            "  inflating: /content/TestDatasets/__MACOSX/Comp432-GroupQ/Dataset 2/Prostate Cancer/nongland/._nongl.11.jpg  \n",
            "  inflating: /content/TestDatasets/Comp432-GroupQ/Dataset 2/Prostate Cancer/nongland/nongl.10.jpg  \n",
            "  inflating: /content/TestDatasets/__MACOSX/Comp432-GroupQ/Dataset 2/Prostate Cancer/nongland/._nongl.10.jpg  \n",
            "  inflating: /content/TestDatasets/Comp432-GroupQ/Dataset 2/Prostate Cancer/nongland/nongl.8.jpg  \n",
            "  inflating: /content/TestDatasets/__MACOSX/Comp432-GroupQ/Dataset 2/Prostate Cancer/nongland/._nongl.8.jpg  \n",
            "  inflating: /content/TestDatasets/Comp432-GroupQ/Dataset 2/Prostate Cancer/nongland/nongl.12.jpg  \n",
            "  inflating: /content/TestDatasets/__MACOSX/Comp432-GroupQ/Dataset 2/Prostate Cancer/nongland/._nongl.12.jpg  \n",
            "  inflating: /content/TestDatasets/Comp432-GroupQ/Dataset 2/Prostate Cancer/nongland/nongl.13.jpg  \n",
            "  inflating: /content/TestDatasets/__MACOSX/Comp432-GroupQ/Dataset 2/Prostate Cancer/nongland/._nongl.13.jpg  \n",
            "  inflating: /content/TestDatasets/Comp432-GroupQ/Dataset 2/Prostate Cancer/nongland/nongl.17.jpg  \n",
            "  inflating: /content/TestDatasets/__MACOSX/Comp432-GroupQ/Dataset 2/Prostate Cancer/nongland/._nongl.17.jpg  \n",
            "  inflating: /content/TestDatasets/Comp432-GroupQ/Dataset 2/Prostate Cancer/nongland/nongl.16.jpg  \n",
            "  inflating: /content/TestDatasets/__MACOSX/Comp432-GroupQ/Dataset 2/Prostate Cancer/nongland/._nongl.16.jpg  \n",
            "  inflating: /content/TestDatasets/Comp432-GroupQ/Dataset 2/Prostate Cancer/nongland/nongl.14.jpg  \n",
            "  inflating: /content/TestDatasets/__MACOSX/Comp432-GroupQ/Dataset 2/Prostate Cancer/nongland/._nongl.14.jpg  \n",
            "  inflating: /content/TestDatasets/Comp432-GroupQ/Dataset 2/Prostate Cancer/nongland/nongl.28.jpg  \n",
            "  inflating: /content/TestDatasets/__MACOSX/Comp432-GroupQ/Dataset 2/Prostate Cancer/nongland/._nongl.28.jpg  \n",
            "  inflating: /content/TestDatasets/Comp432-GroupQ/Dataset 2/Prostate Cancer/nongland/nongl.29.jpg  \n",
            "  inflating: /content/TestDatasets/__MACOSX/Comp432-GroupQ/Dataset 2/Prostate Cancer/nongland/._nongl.29.jpg  \n",
            "  inflating: /content/TestDatasets/Comp432-GroupQ/Dataset 2/Prostate Cancer/nongland/nongl.15.jpg  \n",
            "  inflating: /content/TestDatasets/__MACOSX/Comp432-GroupQ/Dataset 2/Prostate Cancer/nongland/._nongl.15.jpg  \n",
            "  inflating: /content/TestDatasets/Comp432-GroupQ/Dataset 2/Prostate Cancer/nongland/nongl.18.jpg  \n",
            "  inflating: /content/TestDatasets/__MACOSX/Comp432-GroupQ/Dataset 2/Prostate Cancer/nongland/._nongl.18.jpg  \n",
            "  inflating: /content/TestDatasets/Comp432-GroupQ/Dataset 2/Prostate Cancer/nongland/nongl.30.jpg  \n",
            "  inflating: /content/TestDatasets/__MACOSX/Comp432-GroupQ/Dataset 2/Prostate Cancer/nongland/._nongl.30.jpg  \n",
            "  inflating: /content/TestDatasets/Comp432-GroupQ/Dataset 2/Prostate Cancer/nongland/nongl.24.jpg  \n",
            "  inflating: /content/TestDatasets/__MACOSX/Comp432-GroupQ/Dataset 2/Prostate Cancer/nongland/._nongl.24.jpg  \n",
            "  inflating: /content/TestDatasets/Comp432-GroupQ/Dataset 2/Prostate Cancer/nongland/nongl.25.jpg  \n",
            "  inflating: /content/TestDatasets/__MACOSX/Comp432-GroupQ/Dataset 2/Prostate Cancer/nongland/._nongl.25.jpg  \n",
            "  inflating: /content/TestDatasets/Comp432-GroupQ/Dataset 2/Prostate Cancer/nongland/nongl.31.jpg  \n",
            "  inflating: /content/TestDatasets/__MACOSX/Comp432-GroupQ/Dataset 2/Prostate Cancer/nongland/._nongl.31.jpg  \n",
            "  inflating: /content/TestDatasets/Comp432-GroupQ/Dataset 2/Prostate Cancer/nongland/nongl.19.jpg  \n",
            "  inflating: /content/TestDatasets/__MACOSX/Comp432-GroupQ/Dataset 2/Prostate Cancer/nongland/._nongl.19.jpg  \n",
            "  inflating: /content/TestDatasets/Comp432-GroupQ/Dataset 2/Prostate Cancer/nongland/nongl.1.jpg  \n",
            "  inflating: /content/TestDatasets/__MACOSX/Comp432-GroupQ/Dataset 2/Prostate Cancer/nongland/._nongl.1.jpg  \n",
            "  inflating: /content/TestDatasets/Comp432-GroupQ/Dataset 2/Prostate Cancer/nongland/nongl.3.jpg  \n",
            "  inflating: /content/TestDatasets/__MACOSX/Comp432-GroupQ/Dataset 2/Prostate Cancer/nongland/._nongl.3.jpg  \n",
            "  inflating: /content/TestDatasets/Comp432-GroupQ/Dataset 2/Prostate Cancer/nongland/nongl.27.jpg  \n",
            "  inflating: /content/TestDatasets/__MACOSX/Comp432-GroupQ/Dataset 2/Prostate Cancer/nongland/._nongl.27.jpg  \n",
            "  inflating: /content/TestDatasets/Comp432-GroupQ/Dataset 2/Prostate Cancer/nongland/nongl.33.jpg  \n",
            "  inflating: /content/TestDatasets/__MACOSX/Comp432-GroupQ/Dataset 2/Prostate Cancer/nongland/._nongl.33.jpg  \n",
            "  inflating: /content/TestDatasets/Comp432-GroupQ/Dataset 2/Prostate Cancer/nongland/nongl.32.jpg  \n",
            "  inflating: /content/TestDatasets/__MACOSX/Comp432-GroupQ/Dataset 2/Prostate Cancer/nongland/._nongl.32.jpg  \n",
            "  inflating: /content/TestDatasets/Comp432-GroupQ/Dataset 2/Prostate Cancer/nongland/nongl.26.jpg  \n",
            "  inflating: /content/TestDatasets/__MACOSX/Comp432-GroupQ/Dataset 2/Prostate Cancer/nongland/._nongl.26.jpg  \n",
            "  inflating: /content/TestDatasets/Comp432-GroupQ/Dataset 2/Prostate Cancer/nongland/nongl.2.jpg  \n",
            "  inflating: /content/TestDatasets/__MACOSX/Comp432-GroupQ/Dataset 2/Prostate Cancer/nongland/._nongl.2.jpg  \n",
            "  inflating: /content/TestDatasets/Comp432-GroupQ/Dataset 2/Prostate Cancer/nongland/nongl.6.jpg  \n",
            "  inflating: /content/TestDatasets/__MACOSX/Comp432-GroupQ/Dataset 2/Prostate Cancer/nongland/._nongl.6.jpg  \n",
            "  inflating: /content/TestDatasets/Comp432-GroupQ/Dataset 2/Prostate Cancer/nongland/nongl.22.jpg  \n",
            "  inflating: /content/TestDatasets/__MACOSX/Comp432-GroupQ/Dataset 2/Prostate Cancer/nongland/._nongl.22.jpg  \n",
            "  inflating: /content/TestDatasets/Comp432-GroupQ/Dataset 2/Prostate Cancer/nongland/nongl.23.jpg  \n",
            "  inflating: /content/TestDatasets/__MACOSX/Comp432-GroupQ/Dataset 2/Prostate Cancer/nongland/._nongl.23.jpg  \n",
            "  inflating: /content/TestDatasets/Comp432-GroupQ/Dataset 2/Prostate Cancer/nongland/nongl.7.jpg  \n",
            "  inflating: /content/TestDatasets/__MACOSX/Comp432-GroupQ/Dataset 2/Prostate Cancer/nongland/._nongl.7.jpg  \n",
            "  inflating: /content/TestDatasets/Comp432-GroupQ/Dataset 2/Prostate Cancer/nongland/nongl.5.jpg  \n",
            "  inflating: /content/TestDatasets/__MACOSX/Comp432-GroupQ/Dataset 2/Prostate Cancer/nongland/._nongl.5.jpg  \n",
            "  inflating: /content/TestDatasets/Comp432-GroupQ/Dataset 2/Prostate Cancer/nongland/nongl.21.jpg  \n",
            "  inflating: /content/TestDatasets/__MACOSX/Comp432-GroupQ/Dataset 2/Prostate Cancer/nongland/._nongl.21.jpg  \n",
            "  inflating: /content/TestDatasets/Comp432-GroupQ/Dataset 2/Prostate Cancer/nongland/nongl.20.jpg  \n",
            "  inflating: /content/TestDatasets/__MACOSX/Comp432-GroupQ/Dataset 2/Prostate Cancer/nongland/._nongl.20.jpg  \n",
            "  inflating: /content/TestDatasets/Comp432-GroupQ/Dataset 2/Prostate Cancer/nongland/nongl.4.jpg  \n",
            "  inflating: /content/TestDatasets/__MACOSX/Comp432-GroupQ/Dataset 2/Prostate Cancer/nongland/._nongl.4.jpg  \n",
            "  inflating: /content/TestDatasets/Comp432-GroupQ/Dataset 2/Prostate Cancer/gland/gland.35.jpg  \n",
            "  inflating: /content/TestDatasets/__MACOSX/Comp432-GroupQ/Dataset 2/Prostate Cancer/gland/._gland.35.jpg  \n",
            "  inflating: /content/TestDatasets/Comp432-GroupQ/Dataset 2/Prostate Cancer/gland/gland.21.jpg  \n",
            "  inflating: /content/TestDatasets/__MACOSX/Comp432-GroupQ/Dataset 2/Prostate Cancer/gland/._gland.21.jpg  \n",
            "  inflating: /content/TestDatasets/Comp432-GroupQ/Dataset 2/Prostate Cancer/gland/gland.20.jpg  \n",
            "  inflating: /content/TestDatasets/__MACOSX/Comp432-GroupQ/Dataset 2/Prostate Cancer/gland/._gland.20.jpg  \n",
            "  inflating: /content/TestDatasets/Comp432-GroupQ/Dataset 2/Prostate Cancer/gland/gland.34.jpg  \n",
            "  inflating: /content/TestDatasets/__MACOSX/Comp432-GroupQ/Dataset 2/Prostate Cancer/gland/._gland.34.jpg  \n",
            "  inflating: /content/TestDatasets/Comp432-GroupQ/Dataset 2/Prostate Cancer/gland/gland.22.jpg  \n",
            "  inflating: /content/TestDatasets/__MACOSX/Comp432-GroupQ/Dataset 2/Prostate Cancer/gland/._gland.22.jpg  \n",
            "  inflating: /content/TestDatasets/Comp432-GroupQ/Dataset 2/Prostate Cancer/gland/gland.36.jpg  \n",
            "  inflating: /content/TestDatasets/__MACOSX/Comp432-GroupQ/Dataset 2/Prostate Cancer/gland/._gland.36.jpg  \n",
            "  inflating: /content/TestDatasets/Comp432-GroupQ/Dataset 2/Prostate Cancer/gland/gland.37.jpg  \n",
            "  inflating: /content/TestDatasets/__MACOSX/Comp432-GroupQ/Dataset 2/Prostate Cancer/gland/._gland.37.jpg  \n",
            "  inflating: /content/TestDatasets/Comp432-GroupQ/Dataset 2/Prostate Cancer/gland/gland.23.jpg  \n",
            "  inflating: /content/TestDatasets/__MACOSX/Comp432-GroupQ/Dataset 2/Prostate Cancer/gland/._gland.23.jpg  \n",
            "  inflating: /content/TestDatasets/Comp432-GroupQ/Dataset 2/Prostate Cancer/gland/gland.27.jpg  \n",
            "  inflating: /content/TestDatasets/__MACOSX/Comp432-GroupQ/Dataset 2/Prostate Cancer/gland/._gland.27.jpg  \n",
            "  inflating: /content/TestDatasets/Comp432-GroupQ/Dataset 2/Prostate Cancer/gland/gland.33.jpg  \n",
            "  inflating: /content/TestDatasets/__MACOSX/Comp432-GroupQ/Dataset 2/Prostate Cancer/gland/._gland.33.jpg  \n",
            "  inflating: /content/TestDatasets/Comp432-GroupQ/Dataset 2/Prostate Cancer/gland/gland.32.jpg  \n",
            "  inflating: /content/TestDatasets/__MACOSX/Comp432-GroupQ/Dataset 2/Prostate Cancer/gland/._gland.32.jpg  \n",
            "  inflating: /content/TestDatasets/Comp432-GroupQ/Dataset 2/Prostate Cancer/gland/gland.26.jpg  \n",
            "  inflating: /content/TestDatasets/__MACOSX/Comp432-GroupQ/Dataset 2/Prostate Cancer/gland/._gland.26.jpg  \n",
            "  inflating: /content/TestDatasets/Comp432-GroupQ/Dataset 2/Prostate Cancer/gland/gland.30.jpg  \n",
            "  inflating: /content/TestDatasets/__MACOSX/Comp432-GroupQ/Dataset 2/Prostate Cancer/gland/._gland.30.jpg  \n",
            "  inflating: /content/TestDatasets/Comp432-GroupQ/Dataset 2/Prostate Cancer/gland/gland.24.jpg  \n",
            "  inflating: /content/TestDatasets/__MACOSX/Comp432-GroupQ/Dataset 2/Prostate Cancer/gland/._gland.24.jpg  \n",
            "  inflating: /content/TestDatasets/Comp432-GroupQ/Dataset 2/Prostate Cancer/gland/gland.18.jpg  \n",
            "  inflating: /content/TestDatasets/__MACOSX/Comp432-GroupQ/Dataset 2/Prostate Cancer/gland/._gland.18.jpg  \n",
            "  inflating: /content/TestDatasets/Comp432-GroupQ/Dataset 2/Prostate Cancer/gland/gland.19.jpg  \n",
            "  inflating: /content/TestDatasets/__MACOSX/Comp432-GroupQ/Dataset 2/Prostate Cancer/gland/._gland.19.jpg  \n",
            "  inflating: /content/TestDatasets/Comp432-GroupQ/Dataset 2/Prostate Cancer/gland/gland.25.jpg  \n",
            "  inflating: /content/TestDatasets/__MACOSX/Comp432-GroupQ/Dataset 2/Prostate Cancer/gland/._gland.25.jpg  \n",
            "  inflating: /content/TestDatasets/Comp432-GroupQ/Dataset 2/Prostate Cancer/gland/gland.31.jpg  \n",
            "  inflating: /content/TestDatasets/__MACOSX/Comp432-GroupQ/Dataset 2/Prostate Cancer/gland/._gland.31.jpg  \n",
            "  inflating: /content/TestDatasets/Comp432-GroupQ/Dataset 2/Prostate Cancer/gland/gland.42.jpg  \n",
            "  inflating: /content/TestDatasets/__MACOSX/Comp432-GroupQ/Dataset 2/Prostate Cancer/gland/._gland.42.jpg  \n",
            "  inflating: /content/TestDatasets/Comp432-GroupQ/Dataset 2/Prostate Cancer/gland/gland.43.jpg  \n",
            "  inflating: /content/TestDatasets/__MACOSX/Comp432-GroupQ/Dataset 2/Prostate Cancer/gland/._gland.43.jpg  \n",
            "  inflating: /content/TestDatasets/Comp432-GroupQ/Dataset 2/Prostate Cancer/gland/gland.41.jpg  \n",
            "  inflating: /content/TestDatasets/__MACOSX/Comp432-GroupQ/Dataset 2/Prostate Cancer/gland/._gland.41.jpg  \n",
            "  inflating: /content/TestDatasets/Comp432-GroupQ/Dataset 2/Prostate Cancer/gland/gland.40.jpg  \n",
            "  inflating: /content/TestDatasets/__MACOSX/Comp432-GroupQ/Dataset 2/Prostate Cancer/gland/._gland.40.jpg  \n",
            "  inflating: /content/TestDatasets/Comp432-GroupQ/Dataset 2/Prostate Cancer/gland/gland.28.jpg  \n",
            "  inflating: /content/TestDatasets/__MACOSX/Comp432-GroupQ/Dataset 2/Prostate Cancer/gland/._gland.28.jpg  \n",
            "  inflating: /content/TestDatasets/Comp432-GroupQ/Dataset 2/Prostate Cancer/gland/gland.14.jpg  \n",
            "  inflating: /content/TestDatasets/__MACOSX/Comp432-GroupQ/Dataset 2/Prostate Cancer/gland/._gland.14.jpg  \n",
            "  inflating: /content/TestDatasets/Comp432-GroupQ/Dataset 2/Prostate Cancer/gland/gland.15.jpg  \n",
            "  inflating: /content/TestDatasets/__MACOSX/Comp432-GroupQ/Dataset 2/Prostate Cancer/gland/._gland.15.jpg  \n",
            "  inflating: /content/TestDatasets/Comp432-GroupQ/Dataset 2/Prostate Cancer/gland/gland.29.jpg  \n",
            "  inflating: /content/TestDatasets/__MACOSX/Comp432-GroupQ/Dataset 2/Prostate Cancer/gland/._gland.29.jpg  \n",
            "  inflating: /content/TestDatasets/Comp432-GroupQ/Dataset 2/Prostate Cancer/gland/gland.17.jpg  \n",
            "  inflating: /content/TestDatasets/__MACOSX/Comp432-GroupQ/Dataset 2/Prostate Cancer/gland/._gland.17.jpg  \n",
            "  inflating: /content/TestDatasets/Comp432-GroupQ/Dataset 2/Prostate Cancer/gland/gland.16.jpg  \n",
            "  inflating: /content/TestDatasets/__MACOSX/Comp432-GroupQ/Dataset 2/Prostate Cancer/gland/._gland.16.jpg  \n",
            "  inflating: /content/TestDatasets/Comp432-GroupQ/Dataset 2/Prostate Cancer/gland/gland.12.jpg  \n",
            "  inflating: /content/TestDatasets/__MACOSX/Comp432-GroupQ/Dataset 2/Prostate Cancer/gland/._gland.12.jpg  \n",
            "  inflating: /content/TestDatasets/Comp432-GroupQ/Dataset 2/Prostate Cancer/gland/gland.13.jpg  \n",
            "  inflating: /content/TestDatasets/__MACOSX/Comp432-GroupQ/Dataset 2/Prostate Cancer/gland/._gland.13.jpg  \n",
            "  inflating: /content/TestDatasets/Comp432-GroupQ/Dataset 2/Prostate Cancer/gland/gland.11.jpg  \n",
            "  inflating: /content/TestDatasets/__MACOSX/Comp432-GroupQ/Dataset 2/Prostate Cancer/gland/._gland.11.jpg  \n",
            "  inflating: /content/TestDatasets/Comp432-GroupQ/Dataset 2/Prostate Cancer/gland/gland.39.jpg  \n",
            "  inflating: /content/TestDatasets/__MACOSX/Comp432-GroupQ/Dataset 2/Prostate Cancer/gland/._gland.39.jpg  \n",
            "  inflating: /content/TestDatasets/Comp432-GroupQ/Dataset 2/Prostate Cancer/gland/gland.38.jpg  \n",
            "  inflating: /content/TestDatasets/__MACOSX/Comp432-GroupQ/Dataset 2/Prostate Cancer/gland/._gland.38.jpg  \n",
            "  inflating: /content/TestDatasets/Comp432-GroupQ/Dataset 2/Prostate Cancer/gland/gland.10.jpg  \n",
            "  inflating: /content/TestDatasets/__MACOSX/Comp432-GroupQ/Dataset 2/Prostate Cancer/gland/._gland.10.jpg  \n",
            "  inflating: /content/TestDatasets/Comp432-GroupQ/Dataset 1/Colorectal Cancer  /NORM/NORM-ACAANNPV.tif  \n",
            "  inflating: /content/TestDatasets/__MACOSX/Comp432-GroupQ/Dataset 1/Colorectal Cancer  /NORM/._NORM-ACAANNPV.tif  \n",
            "  inflating: /content/TestDatasets/Comp432-GroupQ/Dataset 1/Colorectal Cancer  /NORM/NORM-ACEQVKWF.tif  \n",
            "  inflating: /content/TestDatasets/__MACOSX/Comp432-GroupQ/Dataset 1/Colorectal Cancer  /NORM/._NORM-ACEQVKWF.tif  \n",
            "  inflating: /content/TestDatasets/Comp432-GroupQ/Dataset 1/Colorectal Cancer  /NORM/NORM-ACFFNKVK.tif  \n",
            "  inflating: /content/TestDatasets/__MACOSX/Comp432-GroupQ/Dataset 1/Colorectal Cancer  /NORM/._NORM-ACFFNKVK.tif  \n",
            "  inflating: /content/TestDatasets/Comp432-GroupQ/Dataset 1/Colorectal Cancer  /NORM/NORM-AATMKQLF.tif  \n",
            "  inflating: /content/TestDatasets/__MACOSX/Comp432-GroupQ/Dataset 1/Colorectal Cancer  /NORM/._NORM-AATMKQLF.tif  \n",
            "  inflating: /content/TestDatasets/Comp432-GroupQ/Dataset 1/Colorectal Cancer  /NORM/NORM-AAVSLPQL.tif  \n",
            "  inflating: /content/TestDatasets/__MACOSX/Comp432-GroupQ/Dataset 1/Colorectal Cancer  /NORM/._NORM-AAVSLPQL.tif  \n",
            "  inflating: /content/TestDatasets/Comp432-GroupQ/Dataset 1/Colorectal Cancer  /NORM/NORM-AAINPQSQ.tif  \n",
            "  inflating: /content/TestDatasets/__MACOSX/Comp432-GroupQ/Dataset 1/Colorectal Cancer  /NORM/._NORM-AAINPQSQ.tif  \n",
            "  inflating: /content/TestDatasets/Comp432-GroupQ/Dataset 1/Colorectal Cancer  /NORM/NORM-AAEGDEQR.tif  \n",
            "  inflating: /content/TestDatasets/__MACOSX/Comp432-GroupQ/Dataset 1/Colorectal Cancer  /NORM/._NORM-AAEGDEQR.tif  \n",
            "  inflating: /content/TestDatasets/Comp432-GroupQ/Dataset 1/Colorectal Cancer  /NORM/NORM-AAQEDDPC.tif  \n",
            "  inflating: /content/TestDatasets/__MACOSX/Comp432-GroupQ/Dataset 1/Colorectal Cancer  /NORM/._NORM-AAQEDDPC.tif  \n",
            "  inflating: /content/TestDatasets/Comp432-GroupQ/Dataset 1/Colorectal Cancer  /NORM/NORM-AAQPPHFC.tif  \n",
            "  inflating: /content/TestDatasets/__MACOSX/Comp432-GroupQ/Dataset 1/Colorectal Cancer  /NORM/._NORM-AAQPPHFC.tif  \n",
            "  inflating: /content/TestDatasets/Comp432-GroupQ/Dataset 1/Colorectal Cancer  /NORM/NORM-AADHIVHI.tif  \n",
            "  inflating: /content/TestDatasets/__MACOSX/Comp432-GroupQ/Dataset 1/Colorectal Cancer  /NORM/._NORM-AADHIVHI.tif  \n",
            "  inflating: /content/TestDatasets/Comp432-GroupQ/Dataset 1/Colorectal Cancer  /NORM/NORM-ACGYPDHF.tif  \n",
            "  inflating: /content/TestDatasets/__MACOSX/Comp432-GroupQ/Dataset 1/Colorectal Cancer  /NORM/._NORM-ACGYPDHF.tif  \n",
            "  inflating: /content/TestDatasets/Comp432-GroupQ/Dataset 1/Colorectal Cancer  /NORM/NORM-AAQEKDVL.tif  \n",
            "  inflating: /content/TestDatasets/__MACOSX/Comp432-GroupQ/Dataset 1/Colorectal Cancer  /NORM/._NORM-AAQEKDVL.tif  \n",
            "  inflating: /content/TestDatasets/Comp432-GroupQ/Dataset 1/Colorectal Cancer  /NORM/NORM-ACENKHFW.tif  \n",
            "  inflating: /content/TestDatasets/__MACOSX/Comp432-GroupQ/Dataset 1/Colorectal Cancer  /NORM/._NORM-ACENKHFW.tif  \n",
            "  inflating: /content/TestDatasets/Comp432-GroupQ/Dataset 1/Colorectal Cancer  /NORM/NORM-ACGGQEQL.tif  \n",
            "  inflating: /content/TestDatasets/__MACOSX/Comp432-GroupQ/Dataset 1/Colorectal Cancer  /NORM/._NORM-ACGGQEQL.tif  \n",
            "  inflating: /content/TestDatasets/Comp432-GroupQ/Dataset 1/Colorectal Cancer  /NORM/NORM-AAAKGLVQ.tif  \n",
            "  inflating: /content/TestDatasets/__MACOSX/Comp432-GroupQ/Dataset 1/Colorectal Cancer  /NORM/._NORM-AAAKGLVQ.tif  \n",
            "  inflating: /content/TestDatasets/Comp432-GroupQ/Dataset 1/Colorectal Cancer  /NORM/NORM-AASQSWTC.tif  \n",
            "  inflating: /content/TestDatasets/__MACOSX/Comp432-GroupQ/Dataset 1/Colorectal Cancer  /NORM/._NORM-AASQSWTC.tif  \n",
            "  inflating: /content/TestDatasets/Comp432-GroupQ/Dataset 1/Colorectal Cancer  /NORM/NORM-ACGTQHEM.tif  \n",
            "  inflating: /content/TestDatasets/__MACOSX/Comp432-GroupQ/Dataset 1/Colorectal Cancer  /NORM/._NORM-ACGTQHEM.tif  \n",
            "  inflating: /content/TestDatasets/Comp432-GroupQ/Dataset 1/Colorectal Cancer  /NORM/NORM-AAMFMYAK.tif  \n",
            "  inflating: /content/TestDatasets/__MACOSX/Comp432-GroupQ/Dataset 1/Colorectal Cancer  /NORM/._NORM-AAMFMYAK.tif  \n",
            "  inflating: /content/TestDatasets/Comp432-GroupQ/Dataset 1/Colorectal Cancer  /NORM/NORM-AAGYAITA.tif  \n",
            "  inflating: /content/TestDatasets/__MACOSX/Comp432-GroupQ/Dataset 1/Colorectal Cancer  /NORM/._NORM-AAGYAITA.tif  \n",
            "  inflating: /content/TestDatasets/Comp432-GroupQ/Dataset 1/Colorectal Cancer  /NORM/NORM-ACGGYPNA.tif  \n",
            "  inflating: /content/TestDatasets/__MACOSX/Comp432-GroupQ/Dataset 1/Colorectal Cancer  /NORM/._NORM-ACGGYPNA.tif  \n",
            "  inflating: /content/TestDatasets/Comp432-GroupQ/Dataset 1/Colorectal Cancer  /NORM/NORM-ACDFGYFH.tif  \n",
            "  inflating: /content/TestDatasets/__MACOSX/Comp432-GroupQ/Dataset 1/Colorectal Cancer  /NORM/._NORM-ACDFGYFH.tif  \n",
            "  inflating: /content/TestDatasets/Comp432-GroupQ/Dataset 1/Colorectal Cancer  /NORM/NORM-AAQFFIMW.tif  \n",
            "  inflating: /content/TestDatasets/__MACOSX/Comp432-GroupQ/Dataset 1/Colorectal Cancer  /NORM/._NORM-AAQFFIMW.tif  \n",
            "  inflating: /content/TestDatasets/Comp432-GroupQ/Dataset 1/Colorectal Cancer  /NORM/NORM-ACDMIPPT.tif  \n",
            "  inflating: /content/TestDatasets/__MACOSX/Comp432-GroupQ/Dataset 1/Colorectal Cancer  /NORM/._NORM-ACDMIPPT.tif  \n",
            "  inflating: /content/TestDatasets/Comp432-GroupQ/Dataset 1/Colorectal Cancer  /NORM/NORM-AAGHSCIG.tif  \n",
            "  inflating: /content/TestDatasets/__MACOSX/Comp432-GroupQ/Dataset 1/Colorectal Cancer  /NORM/._NORM-AAGHSCIG.tif  \n",
            "  inflating: /content/TestDatasets/Comp432-GroupQ/Dataset 1/Colorectal Cancer  /NORM/NORM-ACCASYIS.tif  \n",
            "  inflating: /content/TestDatasets/__MACOSX/Comp432-GroupQ/Dataset 1/Colorectal Cancer  /NORM/._NORM-ACCASYIS.tif  \n",
            "  inflating: /content/TestDatasets/Comp432-GroupQ/Dataset 1/Colorectal Cancer  /NORM/NORM-AAVACQRN.tif  \n",
            "  inflating: /content/TestDatasets/__MACOSX/Comp432-GroupQ/Dataset 1/Colorectal Cancer  /NORM/._NORM-AAVACQRN.tif  \n",
            "  inflating: /content/TestDatasets/Comp432-GroupQ/Dataset 1/Colorectal Cancer  /NORM/NORM-ACAVNYDC.tif  \n",
            "  inflating: /content/TestDatasets/__MACOSX/Comp432-GroupQ/Dataset 1/Colorectal Cancer  /NORM/._NORM-ACAVNYDC.tif  \n",
            "  inflating: /content/TestDatasets/Comp432-GroupQ/Dataset 1/Colorectal Cancer  /NORM/NORM-ACAMSPSR.tif  \n",
            "  inflating: /content/TestDatasets/__MACOSX/Comp432-GroupQ/Dataset 1/Colorectal Cancer  /NORM/._NORM-ACAMSPSR.tif  \n",
            "  inflating: /content/TestDatasets/Comp432-GroupQ/Dataset 1/Colorectal Cancer  /NORM/NORM-AADSPCKQ.tif  \n",
            "  inflating: /content/TestDatasets/__MACOSX/Comp432-GroupQ/Dataset 1/Colorectal Cancer  /NORM/._NORM-AADSPCKQ.tif  \n",
            "  inflating: /content/TestDatasets/Comp432-GroupQ/Dataset 1/Colorectal Cancer  /NORM/NORM-AACDFTPS.tif  \n",
            "  inflating: /content/TestDatasets/__MACOSX/Comp432-GroupQ/Dataset 1/Colorectal Cancer  /NORM/._NORM-AACDFTPS.tif  \n",
            "  inflating: /content/TestDatasets/Comp432-GroupQ/Dataset 1/Colorectal Cancer  /NORM/NORM-AATGICAF.tif  \n",
            "  inflating: /content/TestDatasets/__MACOSX/Comp432-GroupQ/Dataset 1/Colorectal Cancer  /NORM/._NORM-AATGICAF.tif  \n",
            "  inflating: /content/TestDatasets/Comp432-GroupQ/Dataset 1/Colorectal Cancer  /NORM/NORM-AATIDRTK.tif  \n",
            "  inflating: /content/TestDatasets/__MACOSX/Comp432-GroupQ/Dataset 1/Colorectal Cancer  /NORM/._NORM-AATIDRTK.tif  \n",
            "  inflating: /content/TestDatasets/Comp432-GroupQ/Dataset 1/Colorectal Cancer  /NORM/NORM-AATCMIRP.tif  \n",
            "  inflating: /content/TestDatasets/__MACOSX/Comp432-GroupQ/Dataset 1/Colorectal Cancer  /NORM/._NORM-AATCMIRP.tif  \n",
            "  inflating: /content/TestDatasets/Comp432-GroupQ/Dataset 1/Colorectal Cancer  /MUS/MUS-ACCMQQKC.tif  \n",
            "  inflating: /content/TestDatasets/__MACOSX/Comp432-GroupQ/Dataset 1/Colorectal Cancer  /MUS/._MUS-ACCMQQKC.tif  \n",
            "  inflating: /content/TestDatasets/Comp432-GroupQ/Dataset 1/Colorectal Cancer  /MUS/MUS-ACCHQECH.tif  \n",
            "  inflating: /content/TestDatasets/__MACOSX/Comp432-GroupQ/Dataset 1/Colorectal Cancer  /MUS/._MUS-ACCHQECH.tif  \n",
            "  inflating: /content/TestDatasets/Comp432-GroupQ/Dataset 1/Colorectal Cancer  /MUS/MUS-AAIVTSEF.tif  \n",
            "  inflating: /content/TestDatasets/__MACOSX/Comp432-GroupQ/Dataset 1/Colorectal Cancer  /MUS/._MUS-AAIVTSEF.tif  \n",
            "  inflating: /content/TestDatasets/Comp432-GroupQ/Dataset 1/Colorectal Cancer  /MUS/MUS-ACDCRCGI.tif  \n",
            "  inflating: /content/TestDatasets/__MACOSX/Comp432-GroupQ/Dataset 1/Colorectal Cancer  /MUS/._MUS-ACDCRCGI.tif  \n",
            "  inflating: /content/TestDatasets/Comp432-GroupQ/Dataset 1/Colorectal Cancer  /MUS/MUS-ACFGQIQE.tif  \n",
            "  inflating: /content/TestDatasets/__MACOSX/Comp432-GroupQ/Dataset 1/Colorectal Cancer  /MUS/._MUS-ACFGQIQE.tif  \n",
            "  inflating: /content/TestDatasets/Comp432-GroupQ/Dataset 1/Colorectal Cancer  /MUS/MUS-AATMMLLD.tif  \n",
            "  inflating: /content/TestDatasets/__MACOSX/Comp432-GroupQ/Dataset 1/Colorectal Cancer  /MUS/._MUS-AATMMLLD.tif  \n",
            "  inflating: /content/TestDatasets/Comp432-GroupQ/Dataset 1/Colorectal Cancer  /MUS/MUS-AAEKNQNW.tif  \n",
            "  inflating: /content/TestDatasets/__MACOSX/Comp432-GroupQ/Dataset 1/Colorectal Cancer  /MUS/._MUS-AAEKNQNW.tif  \n",
            "  inflating: /content/TestDatasets/Comp432-GroupQ/Dataset 1/Colorectal Cancer  /MUS/MUS-ACAPSEAA.tif  \n",
            "  inflating: /content/TestDatasets/__MACOSX/Comp432-GroupQ/Dataset 1/Colorectal Cancer  /MUS/._MUS-ACAPSEAA.tif  \n",
            "  inflating: /content/TestDatasets/Comp432-GroupQ/Dataset 1/Colorectal Cancer  /MUS/MUS-AAVLKVNF.tif  \n",
            "  inflating: /content/TestDatasets/__MACOSX/Comp432-GroupQ/Dataset 1/Colorectal Cancer  /MUS/._MUS-AAVLKVNF.tif  \n",
            "  inflating: /content/TestDatasets/Comp432-GroupQ/Dataset 1/Colorectal Cancer  /MUS/MUS-AATIFRMS.tif  \n",
            "  inflating: /content/TestDatasets/__MACOSX/Comp432-GroupQ/Dataset 1/Colorectal Cancer  /MUS/._MUS-AATIFRMS.tif  \n",
            "  inflating: /content/TestDatasets/Comp432-GroupQ/Dataset 1/Colorectal Cancer  /MUS/MUS-AAKHYDPK.tif  \n",
            "  inflating: /content/TestDatasets/__MACOSX/Comp432-GroupQ/Dataset 1/Colorectal Cancer  /MUS/._MUS-AAKHYDPK.tif  \n",
            "  inflating: /content/TestDatasets/Comp432-GroupQ/Dataset 1/Colorectal Cancer  /MUS/MUS-AAVYIFRP.tif  \n",
            "  inflating: /content/TestDatasets/__MACOSX/Comp432-GroupQ/Dataset 1/Colorectal Cancer  /MUS/._MUS-AAVYIFRP.tif  \n",
            "  inflating: /content/TestDatasets/Comp432-GroupQ/Dataset 1/Colorectal Cancer  /MUS/MUS-AAQKHCHH.tif  \n",
            "  inflating: /content/TestDatasets/__MACOSX/Comp432-GroupQ/Dataset 1/Colorectal Cancer  /MUS/._MUS-AAQKHCHH.tif  \n",
            "  inflating: /content/TestDatasets/Comp432-GroupQ/Dataset 1/Colorectal Cancer  /MUS/MUS-AATEEKGR.tif  \n",
            "  inflating: /content/TestDatasets/__MACOSX/Comp432-GroupQ/Dataset 1/Colorectal Cancer  /MUS/._MUS-AATEEKGR.tif  \n",
            "  inflating: /content/TestDatasets/Comp432-GroupQ/Dataset 1/Colorectal Cancer  /MUS/MUS-AAEMWDQI.tif  \n",
            "  inflating: /content/TestDatasets/__MACOSX/Comp432-GroupQ/Dataset 1/Colorectal Cancer  /MUS/._MUS-AAEMWDQI.tif  \n",
            "  inflating: /content/TestDatasets/Comp432-GroupQ/Dataset 1/Colorectal Cancer  /MUS/MUS-AAHDVEAI.tif  \n",
            "  inflating: /content/TestDatasets/__MACOSX/Comp432-GroupQ/Dataset 1/Colorectal Cancer  /MUS/._MUS-AAHDVEAI.tif  \n",
            "  inflating: /content/TestDatasets/Comp432-GroupQ/Dataset 1/Colorectal Cancer  /MUS/MUS-ACGFWWWA.tif  \n",
            "  inflating: /content/TestDatasets/__MACOSX/Comp432-GroupQ/Dataset 1/Colorectal Cancer  /MUS/._MUS-ACGFWWWA.tif  \n",
            "  inflating: /content/TestDatasets/Comp432-GroupQ/Dataset 1/Colorectal Cancer  /MUS/MUS-AAMRNIEH.tif  \n",
            "  inflating: /content/TestDatasets/__MACOSX/Comp432-GroupQ/Dataset 1/Colorectal Cancer  /MUS/._MUS-AAMRNIEH.tif  \n",
            "  inflating: /content/TestDatasets/Comp432-GroupQ/Dataset 1/Colorectal Cancer  /MUS/MUS-AAQYLTGY.tif  \n",
            "  inflating: /content/TestDatasets/__MACOSX/Comp432-GroupQ/Dataset 1/Colorectal Cancer  /MUS/._MUS-AAQYLTGY.tif  \n",
            "  inflating: /content/TestDatasets/Comp432-GroupQ/Dataset 1/Colorectal Cancer  /MUS/MUS-AASEMVGI.tif  \n",
            "  inflating: /content/TestDatasets/__MACOSX/Comp432-GroupQ/Dataset 1/Colorectal Cancer  /MUS/._MUS-AASEMVGI.tif  \n",
            "  inflating: /content/TestDatasets/Comp432-GroupQ/Dataset 1/Colorectal Cancer  /MUS/MUS-AAYFDALY.tif  \n",
            "  inflating: /content/TestDatasets/__MACOSX/Comp432-GroupQ/Dataset 1/Colorectal Cancer  /MUS/._MUS-AAYFDALY.tif  \n",
            "  inflating: /content/TestDatasets/Comp432-GroupQ/Dataset 1/Colorectal Cancer  /MUS/MUS-AAPPVEPI.tif  \n",
            "  inflating: /content/TestDatasets/__MACOSX/Comp432-GroupQ/Dataset 1/Colorectal Cancer  /MUS/._MUS-AAPPVEPI.tif  \n",
            "  inflating: /content/TestDatasets/Comp432-GroupQ/Dataset 1/Colorectal Cancer  /MUS/MUS-AAYPCYYV.tif  \n",
            "  inflating: /content/TestDatasets/__MACOSX/Comp432-GroupQ/Dataset 1/Colorectal Cancer  /MUS/._MUS-AAYPCYYV.tif  \n",
            "  inflating: /content/TestDatasets/Comp432-GroupQ/Dataset 1/Colorectal Cancer  /MUS/MUS-AAFYMWCV.tif  \n",
            "  inflating: /content/TestDatasets/__MACOSX/Comp432-GroupQ/Dataset 1/Colorectal Cancer  /MUS/._MUS-AAFYMWCV.tif  \n",
            "  inflating: /content/TestDatasets/Comp432-GroupQ/Dataset 1/Colorectal Cancer  /MUS/MUS-AAEELFLW.tif  \n",
            "  inflating: /content/TestDatasets/__MACOSX/Comp432-GroupQ/Dataset 1/Colorectal Cancer  /MUS/._MUS-AAEELFLW.tif  \n",
            "  inflating: /content/TestDatasets/Comp432-GroupQ/Dataset 1/Colorectal Cancer  /MUS/MUS-AAPADNIY.tif  \n",
            "  inflating: /content/TestDatasets/__MACOSX/Comp432-GroupQ/Dataset 1/Colorectal Cancer  /MUS/._MUS-AAPADNIY.tif  \n",
            "  inflating: /content/TestDatasets/Comp432-GroupQ/Dataset 1/Colorectal Cancer  /MUS/MUS-AAIKAIIA.tif  \n",
            "  inflating: /content/TestDatasets/__MACOSX/Comp432-GroupQ/Dataset 1/Colorectal Cancer  /MUS/._MUS-AAIKAIIA.tif  \n",
            "  inflating: /content/TestDatasets/Comp432-GroupQ/Dataset 1/Colorectal Cancer  /MUS/MUS-AADNSWYC.tif  \n",
            "  inflating: /content/TestDatasets/__MACOSX/Comp432-GroupQ/Dataset 1/Colorectal Cancer  /MUS/._MUS-AADNSWYC.tif  \n",
            "  inflating: /content/TestDatasets/Comp432-GroupQ/Dataset 1/Colorectal Cancer  /MUS/MUS-ACCQNLGS.tif  \n",
            "  inflating: /content/TestDatasets/__MACOSX/Comp432-GroupQ/Dataset 1/Colorectal Cancer  /MUS/._MUS-ACCQNLGS.tif  \n",
            "  inflating: /content/TestDatasets/Comp432-GroupQ/Dataset 1/Colorectal Cancer  /MUS/MUS-AASVYIKC.tif  \n",
            "  inflating: /content/TestDatasets/__MACOSX/Comp432-GroupQ/Dataset 1/Colorectal Cancer  /MUS/._MUS-AASVYIKC.tif  \n",
            "  inflating: /content/TestDatasets/Comp432-GroupQ/Dataset 1/Colorectal Cancer  /MUS/MUS-ACFCNLAA.tif  \n",
            "  inflating: /content/TestDatasets/__MACOSX/Comp432-GroupQ/Dataset 1/Colorectal Cancer  /MUS/._MUS-ACFCNLAA.tif  \n",
            "  inflating: /content/TestDatasets/Comp432-GroupQ/Dataset 1/Colorectal Cancer  /MUS/MUS-ACFMMRPK.tif  \n",
            "  inflating: /content/TestDatasets/__MACOSX/Comp432-GroupQ/Dataset 1/Colorectal Cancer  /MUS/._MUS-ACFMMRPK.tif  \n",
            "  inflating: /content/TestDatasets/Comp432-GroupQ/Dataset 1/Colorectal Cancer  /MUS/MUS-AAMWLGWL.tif  \n",
            "  inflating: /content/TestDatasets/__MACOSX/Comp432-GroupQ/Dataset 1/Colorectal Cancer  /MUS/._MUS-AAMWLGWL.tif  \n",
            "  inflating: /content/TestDatasets/Comp432-GroupQ/Dataset 1/Colorectal Cancer  /MUS/MUS-AANFWSHK.tif  \n",
            "  inflating: /content/TestDatasets/__MACOSX/Comp432-GroupQ/Dataset 1/Colorectal Cancer  /MUS/._MUS-AANFWSHK.tif  \n",
            "  inflating: /content/TestDatasets/Comp432-GroupQ/Dataset 1/Colorectal Cancer  /STR/STR-AAWPTINK.tif  \n",
            "  inflating: /content/TestDatasets/__MACOSX/Comp432-GroupQ/Dataset 1/Colorectal Cancer  /STR/._STR-AAWPTINK.tif  \n",
            "  inflating: /content/TestDatasets/Comp432-GroupQ/Dataset 1/Colorectal Cancer  /STR/STR-ACHRFGIK.tif  \n",
            "  inflating: /content/TestDatasets/__MACOSX/Comp432-GroupQ/Dataset 1/Colorectal Cancer  /STR/._STR-ACHRFGIK.tif  \n",
            "  inflating: /content/TestDatasets/Comp432-GroupQ/Dataset 1/Colorectal Cancer  /STR/STR-ACKAVKMI.tif  \n",
            "  inflating: /content/TestDatasets/__MACOSX/Comp432-GroupQ/Dataset 1/Colorectal Cancer  /STR/._STR-ACKAVKMI.tif  \n",
            "  inflating: /content/TestDatasets/Comp432-GroupQ/Dataset 1/Colorectal Cancer  /STR/STR-ACKILWHA.tif  \n",
            "  inflating: /content/TestDatasets/__MACOSX/Comp432-GroupQ/Dataset 1/Colorectal Cancer  /STR/._STR-ACKILWHA.tif  \n",
            "  inflating: /content/TestDatasets/Comp432-GroupQ/Dataset 1/Colorectal Cancer  /STR/STR-AASERCGV.tif  \n",
            "  inflating: /content/TestDatasets/__MACOSX/Comp432-GroupQ/Dataset 1/Colorectal Cancer  /STR/._STR-AASERCGV.tif  \n",
            "  inflating: /content/TestDatasets/Comp432-GroupQ/Dataset 1/Colorectal Cancer  /STR/STR-AADLAKYL.tif  \n",
            "  inflating: /content/TestDatasets/__MACOSX/Comp432-GroupQ/Dataset 1/Colorectal Cancer  /STR/._STR-AADLAKYL.tif  \n",
            "  inflating: /content/TestDatasets/Comp432-GroupQ/Dataset 1/Colorectal Cancer  /STR/STR-AAPLVLNH.tif  \n",
            "  inflating: /content/TestDatasets/__MACOSX/Comp432-GroupQ/Dataset 1/Colorectal Cancer  /STR/._STR-AAPLVLNH.tif  \n",
            "  inflating: /content/TestDatasets/Comp432-GroupQ/Dataset 1/Colorectal Cancer  /STR/STR-AAKQMDRI.tif  \n",
            "  inflating: /content/TestDatasets/__MACOSX/Comp432-GroupQ/Dataset 1/Colorectal Cancer  /STR/._STR-AAKQMDRI.tif  \n",
            "  inflating: /content/TestDatasets/Comp432-GroupQ/Dataset 1/Colorectal Cancer  /STR/STR-AAFCHSKD.tif  \n",
            "  inflating: /content/TestDatasets/__MACOSX/Comp432-GroupQ/Dataset 1/Colorectal Cancer  /STR/._STR-AAFCHSKD.tif  \n",
            "  inflating: /content/TestDatasets/Comp432-GroupQ/Dataset 1/Colorectal Cancer  /STR/STR-ACKLLDQV.tif  \n",
            "  inflating: /content/TestDatasets/__MACOSX/Comp432-GroupQ/Dataset 1/Colorectal Cancer  /STR/._STR-ACKLLDQV.tif  \n",
            "  inflating: /content/TestDatasets/Comp432-GroupQ/Dataset 1/Colorectal Cancer  /STR/STR-ACFRNHAC.tif  \n",
            "  inflating: /content/TestDatasets/__MACOSX/Comp432-GroupQ/Dataset 1/Colorectal Cancer  /STR/._STR-ACFRNHAC.tif  \n",
            "  inflating: /content/TestDatasets/Comp432-GroupQ/Dataset 1/Colorectal Cancer  /STR/STR-AASIEAGD.tif  \n",
            "  inflating: /content/TestDatasets/__MACOSX/Comp432-GroupQ/Dataset 1/Colorectal Cancer  /STR/._STR-AASIEAGD.tif  \n",
            "  inflating: /content/TestDatasets/Comp432-GroupQ/Dataset 1/Colorectal Cancer  /STR/STR-AARGWRRS.tif  \n",
            "  inflating: /content/TestDatasets/__MACOSX/Comp432-GroupQ/Dataset 1/Colorectal Cancer  /STR/._STR-AARGWRRS.tif  \n",
            "  inflating: /content/TestDatasets/Comp432-GroupQ/Dataset 1/Colorectal Cancer  /STR/STR-ACKDYSDG.tif  \n",
            "  inflating: /content/TestDatasets/__MACOSX/Comp432-GroupQ/Dataset 1/Colorectal Cancer  /STR/._STR-ACKDYSDG.tif  \n",
            "  inflating: /content/TestDatasets/Comp432-GroupQ/Dataset 1/Colorectal Cancer  /STR/STR-ACETRCNF.tif  \n",
            "  inflating: /content/TestDatasets/__MACOSX/Comp432-GroupQ/Dataset 1/Colorectal Cancer  /STR/._STR-ACETRCNF.tif  \n",
            "  inflating: /content/TestDatasets/Comp432-GroupQ/Dataset 1/Colorectal Cancer  /STR/STR-AAMAYWIW.tif  \n",
            "  inflating: /content/TestDatasets/__MACOSX/Comp432-GroupQ/Dataset 1/Colorectal Cancer  /STR/._STR-AAMAYWIW.tif  \n",
            "  inflating: /content/TestDatasets/Comp432-GroupQ/Dataset 1/Colorectal Cancer  /STR/STR-AAPNYWIR.tif  \n",
            "  inflating: /content/TestDatasets/__MACOSX/Comp432-GroupQ/Dataset 1/Colorectal Cancer  /STR/._STR-AAPNYWIR.tif  \n",
            "  inflating: /content/TestDatasets/Comp432-GroupQ/Dataset 1/Colorectal Cancer  /STR/STR-AANQRMRV.tif  \n",
            "  inflating: /content/TestDatasets/__MACOSX/Comp432-GroupQ/Dataset 1/Colorectal Cancer  /STR/._STR-AANQRMRV.tif  \n",
            "  inflating: /content/TestDatasets/Comp432-GroupQ/Dataset 1/Colorectal Cancer  /STR/STR-AAPAPIHK.tif  \n",
            "  inflating: /content/TestDatasets/__MACOSX/Comp432-GroupQ/Dataset 1/Colorectal Cancer  /STR/._STR-AAPAPIHK.tif  \n",
            "  inflating: /content/TestDatasets/Comp432-GroupQ/Dataset 1/Colorectal Cancer  /STR/STR-ACKCVDHQ.tif  \n",
            "  inflating: /content/TestDatasets/__MACOSX/Comp432-GroupQ/Dataset 1/Colorectal Cancer  /STR/._STR-ACKCVDHQ.tif  \n",
            "  inflating: /content/TestDatasets/Comp432-GroupQ/Dataset 1/Colorectal Cancer  /STR/STR-AALPFLFW.tif  \n",
            "  inflating: /content/TestDatasets/__MACOSX/Comp432-GroupQ/Dataset 1/Colorectal Cancer  /STR/._STR-AALPFLFW.tif  \n",
            "  inflating: /content/TestDatasets/Comp432-GroupQ/Dataset 1/Colorectal Cancer  /STR/STR-ACGENSPR.tif  \n",
            "  inflating: /content/TestDatasets/__MACOSX/Comp432-GroupQ/Dataset 1/Colorectal Cancer  /STR/._STR-ACGENSPR.tif  \n",
            "  inflating: /content/TestDatasets/Comp432-GroupQ/Dataset 1/Colorectal Cancer  /STR/STR-ACKYTVDV.tif  \n",
            "  inflating: /content/TestDatasets/__MACOSX/Comp432-GroupQ/Dataset 1/Colorectal Cancer  /STR/._STR-ACKYTVDV.tif  \n",
            "  inflating: /content/TestDatasets/Comp432-GroupQ/Dataset 1/Colorectal Cancer  /STR/STR-AALPVMFV.tif  \n",
            "  inflating: /content/TestDatasets/__MACOSX/Comp432-GroupQ/Dataset 1/Colorectal Cancer  /STR/._STR-AALPVMFV.tif  \n",
            "  inflating: /content/TestDatasets/Comp432-GroupQ/Dataset 1/Colorectal Cancer  /STR/STR-AAKSFSFP.tif  \n",
            "  inflating: /content/TestDatasets/__MACOSX/Comp432-GroupQ/Dataset 1/Colorectal Cancer  /STR/._STR-AAKSFSFP.tif  \n",
            "  inflating: /content/TestDatasets/Comp432-GroupQ/Dataset 1/Colorectal Cancer  /STR/STR-AAHVNFQF.tif  \n",
            "  inflating: /content/TestDatasets/__MACOSX/Comp432-GroupQ/Dataset 1/Colorectal Cancer  /STR/._STR-AAHVNFQF.tif  \n",
            "  inflating: /content/TestDatasets/Comp432-GroupQ/Dataset 1/Colorectal Cancer  /STR/STR-AARSAWVG.tif  \n",
            "  inflating: /content/TestDatasets/__MACOSX/Comp432-GroupQ/Dataset 1/Colorectal Cancer  /STR/._STR-AARSAWVG.tif  \n",
            "  inflating: /content/TestDatasets/Comp432-GroupQ/Dataset 1/Colorectal Cancer  /STR/STR-ACLLPKNT.tif  \n",
            "  inflating: /content/TestDatasets/__MACOSX/Comp432-GroupQ/Dataset 1/Colorectal Cancer  /STR/._STR-ACLLPKNT.tif  \n",
            "  inflating: /content/TestDatasets/Comp432-GroupQ/Dataset 1/Colorectal Cancer  /STR/STR-AAFYSQRL.tif  \n",
            "  inflating: /content/TestDatasets/__MACOSX/Comp432-GroupQ/Dataset 1/Colorectal Cancer  /STR/._STR-AAFYSQRL.tif  \n",
            "  inflating: /content/TestDatasets/Comp432-GroupQ/Dataset 1/Colorectal Cancer  /STR/STR-AAMMVRTS.tif  \n",
            "  inflating: /content/TestDatasets/__MACOSX/Comp432-GroupQ/Dataset 1/Colorectal Cancer  /STR/._STR-AAMMVRTS.tif  \n",
            "  inflating: /content/TestDatasets/Comp432-GroupQ/Dataset 1/Colorectal Cancer  /STR/STR-ACETRMPP.tif  \n",
            "  inflating: /content/TestDatasets/__MACOSX/Comp432-GroupQ/Dataset 1/Colorectal Cancer  /STR/._STR-ACETRMPP.tif  \n",
            "  inflating: /content/TestDatasets/Comp432-GroupQ/Dataset 1/Colorectal Cancer  /STR/STR-AAHWHGNT.tif  \n",
            "  inflating: /content/TestDatasets/__MACOSX/Comp432-GroupQ/Dataset 1/Colorectal Cancer  /STR/._STR-AAHWHGNT.tif  \n",
            "  inflating: /content/TestDatasets/Comp432-GroupQ/Dataset 1/Colorectal Cancer  /STR/STR-AAPRWGFL.tif  \n",
            "  inflating: /content/TestDatasets/__MACOSX/Comp432-GroupQ/Dataset 1/Colorectal Cancer  /STR/._STR-AAPRWGFL.tif  \n"
          ]
        }
      ]
    },
    {
      "cell_type": "markdown",
      "source": [
        "Select if you want to use full datasets or sample test datasets"
      ],
      "metadata": {
        "id": "MFjnOUTKG4p9"
      }
    },
    {
      "cell_type": "code",
      "source": [
        "#path = \"/content/Comp432-GroupQ/\"\n",
        "path = \"/content/TestDatasets/Comp432-GroupQ/\""
      ],
      "metadata": {
        "id": "LlSXfRxUGvxK"
      },
      "execution_count": 8,
      "outputs": []
    },
    {
      "cell_type": "markdown",
      "source": [
        "### Data Onboarding"
      ],
      "metadata": {
        "id": "cKqJxpIrRTSe"
      }
    },
    {
      "cell_type": "code",
      "execution_count": 11,
      "metadata": {
        "id": "nrWSomotvgKw"
      },
      "outputs": [],
      "source": [
        "dataset = datasets.ImageFolder(\"/content/Comp432-GroupQ/Dataset 1/Colorectal Cancer /\", transforms.Compose([\n",
        "        torchvision.transforms.ColorJitter(hue=.05, saturation=.05),\n",
        "        torchvision.transforms.RandomHorizontalFlip(),\n",
        "        torchvision.transforms.RandomRotation(20),\n",
        "        transforms.ToTensor(),\n",
        "        transforms.Normalize([0.485, 0.456, 0.406], [0.229, 0.224, 0.225])]))\n",
        "\n",
        "train_set, test_set = torch.utils.data.random_split(dataset,[0.7,0.3])                # splits dataset into specified ratios\n",
        "train_loader = DataLoader(train_set,shuffle=True,batch_size=32, num_workers=0)         # create train loader\n",
        "test_loader = DataLoader(test_set,batch_size=32, num_workers=0)  # create test loader"
      ]
    },
    {
      "cell_type": "markdown",
      "source": [
        "### Model 1 creation: Resnet - 18: CNN (no pretraining)"
      ],
      "metadata": {
        "id": "SuDQZseIRVXR"
      }
    },
    {
      "cell_type": "code",
      "execution_count": null,
      "metadata": {
        "colab": {
          "base_uri": "https://localhost:8080/"
        },
        "id": "Lq6KVtqwBOXd",
        "outputId": "bdee361a-58b5-478f-9b58-b1ffe517f3f6"
      },
      "outputs": [
        {
          "output_type": "stream",
          "name": "stderr",
          "text": [
            "Downloading: \"https://github.com/pytorch/vision/zipball/v0.10.0\" to /root/.cache/torch/hub/v0.10.0.zip\n",
            "/usr/local/lib/python3.10/dist-packages/torchvision/models/_utils.py:208: UserWarning: The parameter 'pretrained' is deprecated since 0.13 and may be removed in the future, please use 'weights' instead.\n",
            "  warnings.warn(\n",
            "/usr/local/lib/python3.10/dist-packages/torchvision/models/_utils.py:223: UserWarning: Arguments other than a weight enum or `None` for 'weights' are deprecated since 0.13 and may be removed in the future. The current behavior is equivalent to passing `weights=None`.\n",
            "  warnings.warn(msg)\n"
          ]
        }
      ],
      "source": [
        "model = torch.hub.load('pytorch/vision:v0.10.0', 'resnet18', pretrained=False)\n",
        "\n",
        "if torch.cuda.is_available():\n",
        "    model = model.to('cuda')\n",
        "\n",
        "loss = nn.CrossEntropyLoss()\n",
        "optimizer = optim.Adam(model.parameters(), lr=0.0001)"
      ]
    },
    {
      "cell_type": "markdown",
      "source": [
        "Model training"
      ],
      "metadata": {
        "id": "LlPoilDGRo0H"
      }
    },
    {
      "cell_type": "code",
      "execution_count": null,
      "metadata": {
        "colab": {
          "base_uri": "https://localhost:8080/"
        },
        "id": "ILwUd3kMJe4S",
        "outputId": "7c0f17b5-2dcd-461a-ea2c-5ebebbb2afcd"
      },
      "outputs": [
        {
          "output_type": "stream",
          "name": "stdout",
          "text": [
            "Training time for one epoch: 46.982632875442505 seconds\n",
            "Epoch 1/20, Loss: 1.4368, Accuracy: 72.24%\n",
            "Training time for one epoch: 40.50851559638977 seconds\n",
            "Epoch 2/20, Loss: 0.4603, Accuracy: 82.79%\n",
            "Training time for one epoch: 39.70610451698303 seconds\n",
            "Epoch 3/20, Loss: 0.3795, Accuracy: 84.74%\n",
            "Training time for one epoch: 41.08207106590271 seconds\n",
            "Epoch 4/20, Loss: 0.3168, Accuracy: 87.64%\n",
            "Training time for one epoch: 38.17673349380493 seconds\n",
            "Epoch 5/20, Loss: 0.2735, Accuracy: 89.95%\n",
            "Training time for one epoch: 42.29413938522339 seconds\n",
            "Epoch 6/20, Loss: 0.2489, Accuracy: 91.05%\n",
            "Training time for one epoch: 38.5475435256958 seconds\n",
            "Epoch 7/20, Loss: 0.2409, Accuracy: 90.93%\n",
            "Training time for one epoch: 39.25230956077576 seconds\n",
            "Epoch 8/20, Loss: 0.2004, Accuracy: 92.57%\n",
            "Training time for one epoch: 38.34820032119751 seconds\n",
            "Epoch 9/20, Loss: 0.1996, Accuracy: 92.81%\n",
            "Training time for one epoch: 38.80532932281494 seconds\n",
            "Epoch 10/20, Loss: 0.1898, Accuracy: 92.81%\n",
            "Training time for one epoch: 38.82995128631592 seconds\n",
            "Epoch 11/20, Loss: 0.1710, Accuracy: 93.38%\n",
            "Training time for one epoch: 38.420762062072754 seconds\n",
            "Epoch 12/20, Loss: 0.1702, Accuracy: 93.43%\n",
            "Training time for one epoch: 39.210129499435425 seconds\n",
            "Epoch 13/20, Loss: 0.1445, Accuracy: 94.79%\n",
            "Training time for one epoch: 38.162009477615356 seconds\n",
            "Epoch 14/20, Loss: 0.1585, Accuracy: 94.19%\n",
            "Training time for one epoch: 39.53595948219299 seconds\n",
            "Epoch 15/20, Loss: 0.1446, Accuracy: 94.31%\n",
            "Training time for one epoch: 38.36534285545349 seconds\n",
            "Epoch 16/20, Loss: 0.1401, Accuracy: 94.64%\n",
            "Training time for one epoch: 39.43251705169678 seconds\n",
            "Epoch 17/20, Loss: 0.1177, Accuracy: 95.79%\n",
            "Training time for one epoch: 38.4481155872345 seconds\n",
            "Epoch 18/20, Loss: 0.1129, Accuracy: 95.67%\n",
            "Training time for one epoch: 39.32668113708496 seconds\n",
            "Epoch 19/20, Loss: 0.1222, Accuracy: 94.98%\n",
            "Training time for one epoch: 38.927363872528076 seconds\n",
            "Epoch 20/20, Loss: 0.1141, Accuracy: 95.50%\n"
          ]
        }
      ],
      "source": [
        "num_epochs = 20\n",
        "train_losses = []\n",
        "train_accuracies = []\n",
        "\n",
        "for epoch in range(num_epochs):\n",
        "    start_time = time.time()\n",
        "    model.train()\n",
        "    current_loss = 0.0\n",
        "    correct = 0\n",
        "    total = 0\n",
        "    round = 0\n",
        "\n",
        "    for inputs, labels in train_loader:\n",
        "        inputs, labels = inputs.to('cuda'), labels.to('cuda')\n",
        "        optimizer.zero_grad()\n",
        "        y_pred = model(inputs)\n",
        "        l = loss(y_pred, labels)\n",
        "        l.backward()\n",
        "        optimizer.step()\n",
        "\n",
        "        current_loss += l.item()\n",
        "        _, predicted = torch.max(y_pred.data, 1)\n",
        "        total += labels.size(0)\n",
        "        correct += (predicted == labels).sum().item()\n",
        "\n",
        "    end_time = time.time()\n",
        "    elapsed_time = end_time - start_time\n",
        "    print(f\"Training time for one epoch: {elapsed_time} seconds\")\n",
        "    train_accuracy = 100 * correct / total\n",
        "    train_loss = current_loss / len(train_loader)\n",
        "    train_accuracies.append(train_accuracy)\n",
        "    train_losses.append(train_loss)\n",
        "    print(f'Epoch {epoch + 1}/{num_epochs}, Loss: {train_loss:.4f}, Accuracy: {train_accuracy:.2f}%')"
      ]
    },
    {
      "cell_type": "markdown",
      "source": [
        "Flop calculation"
      ],
      "metadata": {
        "id": "jxjOhRmeWQtR"
      }
    },
    {
      "cell_type": "code",
      "source": [
        "# Input tensor (batch size, channels, height, width)\n",
        "input_tensor = torch.randn(1, 3, 224, 224).to('cuda')\n",
        "\n",
        "flops, params = profile(model, inputs=(input_tensor,))\n",
        "\n",
        "print(f\"Number of FLOPs: {flops / 1e9} G FLOPs\")"
      ],
      "metadata": {
        "id": "RnLGW_KS72Rl",
        "colab": {
          "base_uri": "https://localhost:8080/"
        },
        "outputId": "fe6f400c-4053-4723-88ef-562bf63984e4"
      },
      "execution_count": null,
      "outputs": [
        {
          "output_type": "stream",
          "name": "stdout",
          "text": [
            "[INFO] Register count_convNd() for <class 'torch.nn.modules.conv.Conv2d'>.\n",
            "[INFO] Register count_normalization() for <class 'torch.nn.modules.batchnorm.BatchNorm2d'>.\n",
            "[INFO] Register zero_ops() for <class 'torch.nn.modules.activation.ReLU'>.\n",
            "[INFO] Register zero_ops() for <class 'torch.nn.modules.pooling.MaxPool2d'>.\n",
            "[INFO] Register zero_ops() for <class 'torch.nn.modules.container.Sequential'>.\n",
            "[INFO] Register count_adap_avgpool() for <class 'torch.nn.modules.pooling.AdaptiveAvgPool2d'>.\n",
            "[INFO] Register count_linear() for <class 'torch.nn.modules.linear.Linear'>.\n",
            "Number of FLOPs: 1.824033792 G FLOPs\n"
          ]
        }
      ]
    },
    {
      "cell_type": "markdown",
      "source": [
        "Code validation"
      ],
      "metadata": {
        "id": "bUKqn9f6WUEc"
      }
    },
    {
      "cell_type": "code",
      "execution_count": null,
      "metadata": {
        "colab": {
          "base_uri": "https://localhost:8080/"
        },
        "id": "JxWOBSMkRESH",
        "outputId": "e26c14c1-f72e-4ef3-803a-9874ad077b3b"
      },
      "outputs": [
        {
          "output_type": "stream",
          "name": "stdout",
          "text": [
            "Validation loss: 0.006389651906210929, accuracy: 0.9255555555555556\n",
            "              precision    recall  f1-score   support\n",
            "\n",
            "         MUS       0.98      0.79      0.87       599\n",
            "        NORM       0.99      0.99      0.99       594\n",
            "         STR       0.82      0.98      0.89       607\n",
            "\n",
            "    accuracy                           0.92      1800\n",
            "   macro avg       0.93      0.92      0.92      1800\n",
            "weighted avg       0.93      0.92      0.92      1800\n",
            "\n"
          ]
        }
      ],
      "source": [
        "val_loss = []\n",
        "\n",
        "with torch.no_grad():\n",
        "          model.eval()\n",
        "          running_loss = 0.0\n",
        "          running_score = 0.0\n",
        "          for image,label in test_loader:\n",
        "                image = image.to('cuda')\n",
        "                label = label.to('cuda')\n",
        "                optimizer.zero_grad()\n",
        "                y_pred = model.forward(image)\n",
        "                l = loss(y_pred,label)\n",
        "                running_loss += l.item()\n",
        "\n",
        "                val, index_ = torch.max(y_pred,axis=1)\n",
        "                running_score += torch.sum(index_ == label.data).item()\n",
        "\n",
        "          epoch_score = running_score/len(test_loader.dataset)\n",
        "          epoch_loss = running_loss/len(test_loader.dataset)\n",
        "          val_loss.append(epoch_loss)\n",
        "          print(\"Validation loss: {}, accuracy: {}\".format(epoch_loss,epoch_score))\n",
        "\n",
        "          all_predictions = []\n",
        "          true_labels = []\n",
        "          for inputs, labels in test_loader:\n",
        "              inputs, labels = inputs.to('cuda'), labels.to('cuda')\n",
        "              outputs = model.forward(inputs)\n",
        "              _, predicted = torch.max(outputs.data, 1)\n",
        "              all_predictions.extend(predicted.cpu().numpy())\n",
        "              true_labels.extend(labels.cpu().numpy())\n",
        "\n",
        "classification_rep = classification_report(true_labels, all_predictions, target_names=dataset.classes)\n",
        "print(classification_rep)"
      ]
    },
    {
      "cell_type": "markdown",
      "metadata": {
        "id": "8jjPh3d2amIe"
      },
      "source": [
        "Saving trained model (note: may require adjusting directories depending on your drive)"
      ]
    },
    {
      "cell_type": "code",
      "execution_count": null,
      "metadata": {
        "id": "TeTdDu_YR16c"
      },
      "outputs": [],
      "source": [
        "torch.save(model.state_dict(), '/content/drive/My Drive/TrainedModel')"
      ]
    },
    {
      "cell_type": "code",
      "execution_count": 9,
      "metadata": {
        "id": "8k40xiMg7GXv",
        "colab": {
          "base_uri": "https://localhost:8080/"
        },
        "outputId": "8b3dd2ff-4647-4bd0-d0dc-36aa351fdd89"
      },
      "outputs": [
        {
          "output_type": "stream",
          "name": "stderr",
          "text": [
            "Downloading: \"https://github.com/pytorch/vision/zipball/v0.10.0\" to /root/.cache/torch/hub/v0.10.0.zip\n",
            "/usr/local/lib/python3.10/dist-packages/torchvision/models/_utils.py:208: UserWarning: The parameter 'pretrained' is deprecated since 0.13 and may be removed in the future, please use 'weights' instead.\n",
            "  warnings.warn(\n",
            "/usr/local/lib/python3.10/dist-packages/torchvision/models/_utils.py:223: UserWarning: Arguments other than a weight enum or `None` for 'weights' are deprecated since 0.13 and may be removed in the future. The current behavior is equivalent to passing `weights=None`.\n",
            "  warnings.warn(msg)\n"
          ]
        },
        {
          "output_type": "execute_result",
          "data": {
            "text/plain": [
              "<All keys matched successfully>"
            ]
          },
          "metadata": {},
          "execution_count": 9
        }
      ],
      "source": [
        "pretrained_model = torch.hub.load('pytorch/vision:v0.10.0', 'resnet18', pretrained=False)\n",
        "\n",
        "#RostislavRu\n",
        "#pretrained_model.load_state_dict(torch.load('/content/drive/My Drive/Comp 432/TrainedModel', map_location=torch.device('cuda')),strict=False)\n",
        "\n",
        "#Jonq-q\n",
        "pretrained_model.load_state_dict(torch.load('/content/drive/My Drive/TrainedModel', map_location=torch.device('cuda')),strict=False)"
      ]
    },
    {
      "cell_type": "markdown",
      "source": [
        "Checking model after saving"
      ],
      "metadata": {
        "id": "0hCGPTPOceVi"
      }
    },
    {
      "cell_type": "code",
      "execution_count": 12,
      "metadata": {
        "colab": {
          "base_uri": "https://localhost:8080/"
        },
        "id": "0chnAIXX7Qxl",
        "outputId": "730eba23-df6b-453e-82dd-7a6553a4a319"
      },
      "outputs": [
        {
          "output_type": "stream",
          "name": "stdout",
          "text": [
            "              precision    recall  f1-score   support\n",
            "\n",
            "         MUS       0.95      0.92      0.94       584\n",
            "        NORM       0.99      0.99      0.99       619\n",
            "         STR       0.92      0.95      0.93       597\n",
            "\n",
            "    accuracy                           0.95      1800\n",
            "   macro avg       0.95      0.95      0.95      1800\n",
            "weighted avg       0.95      0.95      0.95      1800\n",
            "\n"
          ]
        }
      ],
      "source": [
        "pretrained_model.to('cuda')\n",
        "\n",
        "with torch.no_grad():\n",
        "          pretrained_model.eval()\n",
        "          all_predictions = []\n",
        "          true_labels = []\n",
        "          for inputs, labels in test_loader:\n",
        "              inputs, labels = inputs.to('cuda'), labels.to('cuda')\n",
        "              outputs = pretrained_model.forward(inputs)\n",
        "              _, predicted = torch.max(outputs.data, 1)\n",
        "              all_predictions.extend(predicted.cpu().numpy())\n",
        "              true_labels.extend(labels.cpu().numpy())\n",
        "\n",
        "classification_rep = classification_report(true_labels, all_predictions, target_names=dataset.classes)\n",
        "print(classification_rep)"
      ]
    },
    {
      "cell_type": "markdown",
      "source": [
        "Confusion matrix"
      ],
      "metadata": {
        "id": "3Ef0eLFmdGHz"
      }
    },
    {
      "cell_type": "code",
      "execution_count": 13,
      "metadata": {
        "colab": {
          "base_uri": "https://localhost:8080/"
        },
        "id": "RhxkjQS9lOAC",
        "outputId": "28bb4d44-698e-47dc-b140-62da3784ec4a"
      },
      "outputs": [
        {
          "output_type": "stream",
          "name": "stdout",
          "text": [
            "[[[1188   28]\n",
            "  [  45  539]]\n",
            "\n",
            " [[1177    4]\n",
            "  [   7  612]]\n",
            "\n",
            " [[1153   50]\n",
            "  [  30  567]]]\n"
          ]
        }
      ],
      "source": [
        "confMatrix = multilabel_confusion_matrix(true_labels, all_predictions, labels=[0, 1, 2])\n",
        "print(confMatrix)"
      ]
    },
    {
      "cell_type": "markdown",
      "source": [
        "Model layers"
      ],
      "metadata": {
        "id": "3TFQu0xbdL_S"
      }
    },
    {
      "cell_type": "code",
      "execution_count": null,
      "metadata": {
        "id": "kVStMbnQlTav"
      },
      "outputs": [],
      "source": [
        "pretrained_model"
      ]
    },
    {
      "cell_type": "markdown",
      "source": [
        "### Model visualization on Dataset 1 with t-SNE"
      ],
      "metadata": {
        "id": "x_pwnyQ8dO76"
      }
    },
    {
      "cell_type": "markdown",
      "source": [
        "### Approach 1"
      ],
      "metadata": {
        "id": "T5mT6GcpFTaG"
      }
    },
    {
      "cell_type": "code",
      "execution_count": 17,
      "metadata": {
        "id": "t1HS7SWuNM7J"
      },
      "outputs": [],
      "source": [
        "device=torch.device(\"cuda:0\"if torch.cuda.is_available() else \"cpu\")"
      ]
    },
    {
      "cell_type": "code",
      "execution_count": null,
      "metadata": {
        "id": "oXzDan6T6C5B"
      },
      "outputs": [],
      "source": [
        "#print(list(pretrained_model.children()))\n",
        "features=list(pretrained_model.children())[:-1] #only remove fc\n",
        "model_out=nn.Sequential(*features).to(device)\n",
        "def for_feature(loader):\n",
        "  data_tmp=[]\n",
        "  label_tmp=[]\n",
        "\n",
        "  with torch.no_grad():\n",
        "      for img,label in loader:\n",
        "        img=img.to(device)\n",
        "\n",
        "        output1=model_out(img)\n",
        "\n",
        "        data_tmp.append(output1.cpu().numpy())\n",
        "        label_tmp.append(label.cpu().numpy())\n",
        "\n",
        "  return np.vstack(data_tmp), np.hstack(label_tmp)"
      ]
    },
    {
      "cell_type": "code",
      "source": [
        "trained_feature, trained_label=for_feature(train_loader)"
      ],
      "metadata": {
        "id": "kdSFIHPJahJ-"
      },
      "execution_count": null,
      "outputs": []
    },
    {
      "cell_type": "code",
      "source": [
        "trained_feature_n = trained_feature.reshape(4200,512)"
      ],
      "metadata": {
        "id": "j23ifqP2iZl9"
      },
      "execution_count": null,
      "outputs": []
    },
    {
      "cell_type": "code",
      "execution_count": null,
      "metadata": {
        "colab": {
          "base_uri": "https://localhost:8080/"
        },
        "id": "HnsYB_AmiTzt",
        "outputId": "cc52a6e6-50c6-4538-e11d-9d1b94b1da19"
      },
      "outputs": [
        {
          "output_type": "execute_result",
          "data": {
            "text/plain": [
              "DescribeResult(nobs=4200, minmax=(0, 2), mean=0.9980952380952381, variance=0.6653928939997052, skewness=0.003495506834209032, kurtosis=-1.4967624852399835)"
            ]
          },
          "metadata": {},
          "execution_count": 19
        }
      ],
      "source": [
        "stats.describe(trained_label)"
      ]
    },
    {
      "cell_type": "code",
      "execution_count": null,
      "metadata": {
        "id": "J0_9YaaHdgIv",
        "outputId": "2e7fbf17-3853-4fca-8310-ce52f1ecd13e",
        "colab": {
          "base_uri": "https://localhost:8080/",
          "height": 542
        }
      },
      "outputs": [
        {
          "output_type": "display_data",
          "data": {
            "text/html": [
              "<html>\n",
              "<head><meta charset=\"utf-8\" /></head>\n",
              "<body>\n",
              "    <div>            <script src=\"https://cdnjs.cloudflare.com/ajax/libs/mathjax/2.7.5/MathJax.js?config=TeX-AMS-MML_SVG\"></script><script type=\"text/javascript\">if (window.MathJax && window.MathJax.Hub && window.MathJax.Hub.Config) {window.MathJax.Hub.Config({SVG: {font: \"STIX-Web\"}});}</script>                <script type=\"text/javascript\">window.PlotlyConfig = {MathJaxConfig: 'local'};</script>\n",
              "        <script charset=\"utf-8\" src=\"https://cdn.plot.ly/plotly-2.24.1.min.js\"></script>                <div id=\"9732e45f-0f5f-4e80-b588-a3a931f81945\" class=\"plotly-graph-div\" style=\"height:525px; width:100%;\"></div>            <script type=\"text/javascript\">                                    window.PLOTLYENV=window.PLOTLYENV || {};                                    if (document.getElementById(\"9732e45f-0f5f-4e80-b588-a3a931f81945\")) {                    Plotly.newPlot(                        \"9732e45f-0f5f-4e80-b588-a3a931f81945\",                        [{\"hovertemplate\":\"x=%{x}\\u003cbr\\u003eindex=%{y}\\u003cbr\\u003e=%{marker.color}\\u003cextra\\u003e\\u003c\\u002fextra\\u003e\",\"legendgroup\":\"\",\"marker\":{\"color\":[1,2,0,1,1,0,1,0,0,0,1,1,0,2,1,2,0,0,2,0,0,2,1,0,2,1,0,1,1,1,2,1,1,0,2,0,0,1,2,2,2,1,0,2,1,0,0,0,2,1,2,0,2,2,0,2,1,2,2,2,0,1,0,0,2,1,1,2,1,1,0,0,2,2,2,2,1,0,1,0,1,2,0,0,1,1,1,0,0,2,2,0,2,0,1,1,2,2,1,0,1,1,0,0,1,1,0,0,2,1,2,0,0,2,0,0,1,1,0,1,2,2,1,2,1,2,2,2,1,2,1,0,0,2,2,1,2,2,1,0,1,1,1,2,1,0,1,1,1,1,1,0,0,2,2,2,2,0,2,0,1,2,2,0,2,1,1,0,1,0,2,1,0,2,2,1,2,0,2,0,2,0,2,2,1,2,1,0,2,1,1,2,0,0,2,1,2,0,2,2,2,1,1,0,1,0,1,1,2,2,0,0,1,1,2,1,0,2,2,0,0,0,2,2,2,0,0,2,2,1,2,0,0,0,0,0,2,2,0,1,0,2,1,0,0,2,2,2,2,0,1,1,2,2,0,1,0,0,2,0,1,1,1,2,0,0,2,1,0,2,0,2,2,0,0,0,0,2,1,1,2,2,2,0,1,1,0,1,0,1,1,2,2,0,0,2,2,0,0,1,0,1,0,1,0,1,2,0,0,1,0,2,1,2,0,1,1,0,0,1,0,1,1,2,2,1,2,1,0,1,2,0,2,2,0,1,1,1,1,2,0,0,0,2,0,1,1,1,0,1,0,0,2,2,1,0,2,2,2,0,0,2,2,0,0,0,1,0,2,2,0,2,0,2,0,0,0,2,2,0,1,0,0,2,2,2,2,2,1,2,2,2,1,2,1,2,1,0,2,2,1,1,2,2,0,1,0,1,2,2,2,2,2,1,1,0,1,2,1,0,0,1,0,2,1,0,0,2,1,2,2,0,2,2,0,0,0,1,1,2,2,2,0,1,0,0,0,2,2,1,2,0,2,0,1,0,1,2,1,2,0,1,2,2,0,1,1,1,2,0,2,2,2,2,2,1,1,1,0,1,0,2,0,1,0,2,0,1,2,1,1,2,2,2,2,1,2,1,0,1,1,2,2,2,2,2,0,2,2,0,1,1,1,0,1,1,2,1,0,0,0,1,0,0,0,0,1,1,2,0,0,1,1,0,2,1,1,2,1,1,2,1,1,2,2,2,2,1,2,0,0,2,1,2,2,2,1,1,1,0,1,0,0,1,2,0,2,2,0,1,0,0,2,1,1,0,0,1,0,2,1,1,2,0,1,0,1,2,1,0,0,2,2,0,1,2,0,2,0,2,2,2,1,1,2,0,0,1,1,2,2,1,1,0,2,2,0,1,0,1,1,0,1,2,1,2,2,1,0,1,2,0,2,1,0,2,0,1,0,2,1,2,1,2,0,1,1,1,0,2,0,2,2,1,2,1,0,2,0,1,0,1,0,2,0,0,1,1,1,0,0,1,0,0,2,2,1,1,0,0,0,1,2,2,2,0,2,0,2,2,2,2,1,0,0,1,0,2,1,0,1,0,0,0,2,1,2,2,0,2,0,2,2,1,2,0,2,0,2,1,0,1,0,2,1,1,2,0,0,0,0,2,0,0,0,2,2,0,1,0,1,1,1,1,0,0,0,2,1,0,2,0,2,0,1,1,1,0,2,2,1,0,2,2,0,0,1,0,0,2,1,2,1,0,2,0,2,0,0,1,2,2,0,0,2,0,2,2,2,0,0,0,1,0,0,2,2,1,0,2,2,1,1,0,1,1,2,1,1,0,0,1,1,2,2,2,1,2,0,2,0,2,1,2,1,0,2,0,0,0,1,0,1,0,1,2,1,0,1,0,2,1,1,1,2,2,1,2,0,1,1,2,0,2,0,0,2,1,1,2,1,2,0,1,2,2,1,1,0,0,1,2,0,0,1,1,0,0,1,1,2,1,2,1,1,0,1,2,2,0,2,1,1,1,1,2,2,0,1,0,1,1,1,0,1,1,1,2,0,2,2,0,1,1,1,0,2,0,2,0,2,1,1,1,1,1,2,2,2,1,0,1,2,2,2,2,2,1,2,2,0,0,1,2,2,1,0,2,1,0,2,0,1,1,2,2,1,1,0,1,1,1,0,1,2,1,1,2,2,0,1,1,1,0,1,1,2,1,0,1,2,1,2,1,1,2,0,1,0,2,2,0,0,2,1,0,1,0,2,1,1,0,0,1,2,1,2,0,1,0,1,0,2,2,1,1,0,1,1,1,0,0,0,1,1,0,0,2,0,0,0,2,1,2,2,1,0,1,2,2,1,1,1,0,2,0,1,0,1,1,1,2,1,2,0,2,2,1,2,1,1,0,1,0,0,2,2,1,1,0,0,2,1,0,1,0,0,2,0,1,2,0,0,1,0,1,0,1,1,2,1,2,1,0,1,1,0,2,2,0,2,2,1,1,2,2,1,0,0,2,0,2,0,2,1,0,0,2,2,1,1,1,2,0,1,2,1,1,1,1,2,1,1,2,1,1,2,1,2,1,1,0,1,0,0,0,1,0,2,0,0,2,2,2,1,2,2,2,0,0,1,2,0,1,0,0,0,0,2,0,2,2,0,0,1,0,0,1,1,0,0,0,0,0,1,2,2,1,0,0,0,0,2,1,1,0,1,2,1,1,1,2,0,2,0,0,1,2,1,2,1,1,0,1,1,1,0,2,0,0,2,1,2,1,1,2,2,1,1,1,1,2,1,0,1,1,0,2,0,0,2,0,0,0,1,2,2,1,1,2,1,2,0,2,2,2,1,2,2,0,2,0,0,1,1,1,0,1,1,0,0,2,1,1,2,2,1,1,1,2,0,0,0,0,1,0,2,2,1,0,1,1,0,2,2,0,0,0,2,1,0,2,0,0,1,1,2,2,1,0,0,0,0,2,1,0,0,2,0,2,1,1,2,1,0,1,2,0,0,1,0,2,1,1,0,1,1,0,2,0,0,0,1,1,1,1,2,1,1,0,1,2,2,1,0,2,1,2,2,1,0,1,0,1,2,1,2,0,2,1,2,0,1,1,0,2,0,1,1,2,2,0,0,1,2,2,0,2,2,0,0,2,1,2,2,0,2,1,0,0,1,0,1,0,2,1,1,1,2,2,0,2,2,0,0,2,0,1,2,2,0,2,0,1,2,1,2,0,2,2,2,1,0,2,1,2,0,1,1,2,2,0,1,1,0,0,2,1,1,2,0,2,0,2,0,0,0,1,0,2,1,0,1,2,0,1,2,1,2,0,1,0,2,1,2,2,2,2,2,0,0,1,0,1,0,0,2,1,1,2,1,1,0,1,0,2,2,1,0,2,0,0,2,2,1,0,0,2,1,1,2,0,2,1,2,0,2,0,1,1,0,1,1,0,0,0,2,0,2,1,1,2,1,0,1,0,2,2,0,1,0,2,1,2,0,2,0,1,2,0,2,0,2,2,1,0,0,2,0,1,1,2,2,1,0,2,1,0,0,1,2,0,0,1,1,0,2,1,1,2,2,1,0,2,2,0,0,2,2,2,2,2,1,0,1,2,1,0,2,1,1,2,1,2,1,1,2,1,2,2,0,1,0,1,0,1,1,1,1,2,1,0,0,1,0,1,2,2,0,0,1,1,1,0,2,1,1,2,0,0,0,0,1,0,0,1,2,2,1,2,1,2,2,1,2,0,0,2,0,0,0,2,2,1,1,0,0,0,1,0,0,0,0,2,0,1,1,2,0,0,1,0,1,0,1,1,1,2,2,0,1,0,2,1,2,1,2,0,0,0,1,2,1,0,1,2,2,0,1,0,0,1,2,2,1,0,2,2,2,1,2,2,2,2,1,0,0,0,0,1,2,0,2,2,0,1,0,1,0,2,1,0,1,2,2,0,1,0,0,2,2,2,1,0,1,0,0,2,2,1,0,0,1,2,0,1,2,1,1,2,2,0,1,1,2,2,0,0,1,1,1,1,2,2,1,2,1,1,2,1,0,0,0,2,1,0,0,0,0,0,1,2,0,2,1,0,2,2,1,2,0,0,0,2,1,2,1,1,1,1,0,2,2,2,2,1,0,2,2,2,1,1,1,1,1,1,2,2,1,1,2,2,1,2,2,1,1,0,0,1,0,2,1,2,0,1,2,0,2,0,2,0,1,1,1,2,2,1,2,0,0,1,2,0,1,1,1,0,0,0,2,2,0,2,0,2,0,1,2,1,2,1,0,1,0,0,1,1,1,0,2,2,1,2,1,2,0,1,2,0,0,2,1,2,2,0,1,1,1,0,1,2,1,1,2,2,0,1,1,1,1,1,0,2,2,1,2,0,2,0,2,2,2,1,2,0,2,2,2,2,1,1,2,1,0,2,0,1,0,1,2,0,1,1,2,2,0,1,2,1,1,0,1,2,0,1,1,1,1,1,0,0,0,2,1,1,1,0,0,0,2,2,2,0,2,2,1,1,2,2,1,1,2,1,0,2,1,0,1,0,1,1,0,1,1,0,0,0,2,0,2,0,0,1,0,2,1,0,2,0,0,2,0,2,0,2,0,0,2,0,0,2,2,1,0,0,0,2,2,0,2,2,0,2,0,1,1,0,2,1,0,0,2,2,1,1,1,2,0,1,1,0,2,1,2,0,0,0,2,1,2,0,2,0,2,0,0,2,1,0,0,2,0,0,2,0,2,1,0,0,0,1,0,2,1,1,0,2,0,2,1,0,0,1,1,1,0,0,0,1,2,1,0,2,1,2,1,2,0,1,1,2,2,1,1,0,1,0,2,2,0,2,2,2,1,2,1,0,0,1,2,0,1,1,0,1,1,0,1,2,0,1,2,1,0,0,0,0,0,0,2,1,1,1,0,2,1,2,0,0,2,1,0,0,0,2,1,0,1,0,0,0,2,2,2,1,1,0,1,2,2,2,0,0,0,2,1,1,0,2,2,0,0,1,1,0,1,2,1,0,1,1,0,2,0,1,0,1,1,2,1,2,1,0,2,2,2,2,2,2,1,0,2,0,1,2,0,2,2,2,1,0,0,1,2,2,2,1,1,1,1,1,2,1,0,1,2,1,2,0,1,1,1,0,2,1,0,1,1,0,2,0,2,0,1,1,0,0,1,0,2,2,1,2,0,1,1,0,2,2,1,1,2,0,0,1,1,0,1,1,1,1,2,2,0,0,1,2,1,0,0,0,1,1,1,1,2,1,2,0,0,0,2,1,1,0,2,0,1,2,2,2,2,0,2,0,1,0,0,1,2,0,1,2,0,0,2,2,0,0,1,1,2,0,0,0,0,2,1,1,0,1,0,2,0,2,0,1,1,1,1,1,0,0,2,1,0,0,1,1,0,0,2,0,1,1,1,2,0,0,2,0,0,1,2,2,2,1,2,0,2,0,1,1,0,2,2,2,0,0,1,1,2,2,2,1,1,0,2,2,1,1,1,1,0,2,2,1,1,1,2,1,0,1,1,2,0,0,2,0,0,2,1,2,2,2,0,1,2,2,0,2,1,0,2,0,2,0,0,1,2,2,2,2,2,0,2,2,2,0,0,0,1,1,1,1,0,2,0,1,1,2,2,0,0,2,1,2,0,2,1,0,2,0,0,1,0,2,2,2,2,0,2,1,2,1,1,2,1,2,2,2,0,1,2,0,0,1,2,2,0,2,0,1,1,0,1,1,1,0,2,2,0,0,2,2,1,0,0,0,1,2,2,0,2,1,2,0,1,1,2,2,0,0,1,1,1,0,1,0,0,0,0,1,0,0,1,2,1,0,1,1,1,2,2,2,2,2,2,1,2,2,1,0,1,2,2,0,1,0,1,2,0,1,0,0,1,0,1,2,2,2,2,2,1,1,0,1,0,2,0,2,0,1,0,2,2,1,0,0,2,1,0,0,2,2,0,2,0,0,0,2,1,1,1,1,2,2,1,2,2,2,2,0,0,2,0,1,0,0,0,1,0,0,1,0,2,0,2,2,1,1,0,0,2,2,2,2,1,0,2,2,0,0,0,1,1,0,2,1,0,2,0,1,0,2,1,2,2,0,1,0,2,0,2,1,0,0,0,1,2,2,1,1,2,2,1,2,0,1,1,2,2,0,2,1,2,1,1,2,0,0,0,1,1,2,1,0,1,0,0,2,0,1,2,2,2,2,1,2,0,1,2,1,0,2,0,0,1,1,0,1,2,2,0,1,0,2,2,1,1,1,1,1,0,2,1,0,1,1,2,2,2,1,0,1,0,0,0,2,0,2,0,0,1,0,1,1,2,0,1,2,1,2,1,2,1,0,1,2,2,2,1,2,2,0,0,0,0,2,0,2,2,0,2,2,0,2,2,2,0,2,0,2,0,1,0,1,2,2,2,1,0,0,1,0,0,1,2,0,2,0,1,0,2,1,2,2,1,0,0,2,1,0,0,0,0,0,1,1,0,0,1,0,1,0,1,0,0,1,0,0,0,1,2,1,2,1,1,1,2,2,0,2,0,2,0,1,0,1,1,0,0,0,0,1,2,0,0,2,0,1,1,2,1,0,2,0,2,0,0,0,0,1,0,1,1,1,2,1,0,2,1,1,1,1,1,1,2,2,2,0,0,2,1,1,1,2,1,0,1,2,0,1,0,2,1,2,0,0,2,2,0,0,2,0,2,0,1,1,2,0,2,2,0,0,0,0,1,0,1,2,2,2,1,2,1,2,0,2,0,0,1,2,2,2,1,1,2,0,0,0,2,2,2,2,1,1,2,1,0,2,2,2,2,2,1,0,0,0,0,1,1,0,0,1,1,2,0,0,1,2,1,0,2,2,0,0,0,0,2,1,2,2,2,2,0,1,0,1,0,0,0,1,2,0,0,1,0,1,0,2,0,0,1,1,2,2,2,0,1,1,0,2,1,0,1,0,0,0,0,0,2,2,1,2,2,1,2,0,0,0,2,2,0,2,0,2,0,1,2,2,0,0,1,0,1,0,2,0,2,2,0,2,0,2,2,2,2,0,0,0,1,0,1,0,0,2,2,2,1,1,0,2,0,0,1,1,2,2,1,0,1,0,1,2,2,1,0,1,1,1,2,0,2,0,2,2,2,1,1,0,0,2,2,1,1,2,0,2,1,0,1,1,0,2,0,1,2,0,2,1,1,1,0,0,2,2,1,1,2,0,2,0,2,0,1,2,2,2,2,2,1,1,1,2,0,1,1,1,0,1,1,1,1,0,2,0,1,2,1,1,1,2,2,2,2,1,2,1,0,1,1,0,2,2,0,2,0,1,1,0,2,2,1,0,0,2,2,2,2,1,0,0,0,2,0,1,0,0,0,0,2,2,2,2,2,1,1,0,1,0,2,2,1,1,2,1,0,0,2,1,0,2,1,0,0,0,0,2,1,0,2,0,0,1,2,1,1,0,1,2,1,1,2,2,1,2,0,0,1,1,1,2,2,0,0,0,0,1,0,2,2,1,2,2,2,0,0,1,1,2,0,0,0,0,1,1,1,0,0,1,2,2,2,2,2,0,1,2,2,2,2,0,2,2,2,1,2,1,0,0,1,0,1,1,1,2,0,2,2,0,0,0,1,1,2,0,2,1,2,2,1,2,0,2,2,2,2,1,0,2,0,0,1,1,1,0,0,2,2,0,1,1,0,2,2,2,2,0,0,1,2,1,2,1,0,2,0,0,1,2,1,2,2,0,0,2,2,2,0,0,0,0,2,0,1,1,1,1,2,0,2,2,0,2,1,1,2,1,2,2,1,1,0,0,0,2,2,1,0,2,1,0,1,2,0,2,0,0,1,2,0,0,2,0,2,0,1,0,1,1,1,1,1,0,0,0,1,2,2,0,2,2,1,1,1,2,1,1,0,0,2,1,2,1,0,2,2,1,2,1,0,0,0,1,0,2,2,2,1,2,1,0,0,0,1,2,0,0,0,2,0,2,1,2,2,0,2,0,0,1,2,1,1,1,2,2,2,0,2,2,2,1,2,0,1,1,1,1,0,1,1,2,1,1,1,1,0,1,0,2,1,2,1,0,2,1,2,0,2,2,1,0,0,0,0,1,0,0,0,1,0,1,0,0,1,1,1,1,2,1,0,2,1,1,0,1,1,1,2,1,0,2,0,2,0,1,0,2,1,1,1,0,0,0,2,0,2,1,0,0,2,1,0,0,0,0,1,1,1,0,2,0,0,2,1,2,0,0,2,2,2,1,2,1,0,1,0,2,1,1,0,1,0,1,0,2,1,2,0,2,0,1,2,1,2,2,0,2,1,2,2,2,1,2,0,0,0,2,1,1,1,2,1,1,2,0,2,1,1,1,0,2,2,1,1,2,0,2,2,1,1,2,2,1,2,2,0,1,0,2,1,2,1,1,1,2,2,1,1,0,1,0,1,0,0,1,2,0,2,2,0,2,2,1,1,0,0,1,0,1,2,0,2,0,2,1,2,2,0,1,0,2,2,1,2,2,0,1,0,2,2,0,1,2,1,2,0,2,0,1,2,0,1,2,1,2,1,2,0,2,1,2,1,2,2,2,0,1,2,2,1,1,2,0,1,0,1,1,0,1,2,1,0,1,1,1,0,0,1,2,1,1,0,1,2,0,1,2,1,0,1,0,1,1,2,0,1,2,0,2,1,1,0,1,2,1,1,0,1,0,2,2,2,2,0,1,2,2,1,0,0,0,2,0,2,1,2,1,1,0,2,1,0,2,0,2,1,0,1,1,2,1,1,1,1,1,0,0,2,1,1,0,2,1,2,2,1,2,2,2,2,0,1,1,0,2,1,1,1,0,0,0,1,1,2,2,2,1,0,1,0,1,0,1,0,2,1,1,2,0,1,0,2,0,0,0,0,1,2,1,1,1,1,1,0,2,0,1,2,0,1,2,0,0,1,1,1,2,0,1,0,1,1,1,1,0,0,1,0,1,1,0,1,1,0,2,2,2,2,2,0,1,2,0,0,1,2,2,0,2,1,2,0,1,2,0,1,0,0,1,2,1,0,1,1,1,1,2,2,1,1,1,0,0,1,0,1,2,1,0,0,0,2,0,0,2,2,2,1,2,1,0,0,2,0,0,0,1,2,2,1,0,0,0,0,2,0,1,0,0,2,1,0,1,2,2,2,0,0,0,2,1,1,1,1,1,0,2,1,0,0,2,0,2,1,0,2,0,1,0,2,0,1,2,0,0,2,0,2,2,1,0,0,1,2,2,2,0,2,2,0,2,0,2,2,0,2,2,2,1,1,2,1,1,2,0,0,0,1,0,1,1,0,2,2,1,2,0,1,0,2,2,2,1,2,0,1,1,2,0,1,1,0,1,0,0,0,0,0,1,0,0,1,2,1,1,1,0,1,2,0,1,0,0,0,0,1,2,1,1,0,1,2,2,0,1,1,0,2,2,0,2,0,2,2,2,2,1,2,1,1,1,2,2,1,1,0,1],\"coloraxis\":\"coloraxis\",\"symbol\":\"circle\"},\"mode\":\"markers\",\"name\":\"\",\"showlegend\":false,\"x\":[19.524845123291016,-15.130562782287598,20.843210220336914,27.53322982788086,12.196704864501953,19.877803802490234,19.889028549194336,38.18684387207031,12.014488220214844,9.71445083618164,18.35169792175293,18.526042938232422,29.582632064819336,-32.10173034667969,16.021629333496094,-15.974345207214355,7.895765781402588,18.11788558959961,-21.33806037902832,52.728694915771484,36.75177001953125,-25.716796875,-16.47852897644043,10.883668899536133,18.7529239654541,-9.217619895935059,9.858114242553711,19.65622901916504,26.282285690307617,1.2355014085769653,-29.383657455444336,7.786214828491211,-27.530275344848633,24.840789794921875,9.188324928283691,39.25773239135742,34.73463439941406,27.18645668029785,-9.890074729919434,-24.4738712310791,-24.7144718170166,12.800091743469238,56.33134078979492,-41.87070083618164,16.072771072387695,57.948333740234375,15.996196746826172,24.31392478942871,-8.717206001281738,-19.431976318359375,-14.14530086517334,13.61056137084961,-29.47234535217285,-22.83837890625,-2.6038007736206055,-42.84906005859375,1.9257651567459106,-46.49564743041992,-28.671489715576172,-36.0191650390625,-8.817781448364258,-20.208518981933594,-0.39204341173171997,14.72275447845459,-31.97937774658203,-5.008610248565674,26.48908805847168,-33.56914520263672,9.385273933410645,-5.068120002746582,25.256263732910156,-15.156449317932129,-35.03851318359375,-35.73017883300781,-48.18674087524414,-23.871435165405273,4.8001251220703125,46.48969650268555,-30.151376724243164,27.42926025390625,1.198756456375122,-33.13893127441406,46.78932571411133,37.83964920043945,-10.494645118713379,-14.986052513122559,-0.5254568457603455,25.153736114501953,0.016401806846261024,10.095245361328125,-37.04030990600586,18.233444213867188,-30.064775466918945,56.350101470947266,10.035379409790039,-2.2673678398132324,-45.662879943847656,-1.541672706604004,25.439117431640625,-0.39541158080101013,-23.01071548461914,9.279090881347656,33.54644775390625,0.7280785441398621,-15.716910362243652,-9.366961479187012,22.032712936401367,-1.6119592189788818,-28.304048538208008,17.871950149536133,-23.07883071899414,16.83599281311035,21.2150821685791,-43.85977554321289,0.4777913987636566,-13.460665702819824,-12.359630584716797,2.133525848388672,14.371272087097168,-10.422750473022461,-44.43193817138672,-8.44338321685791,-28.1534423828125,-33.76496124267578,-28.452106475830078,-29.614521026611328,-25.08492088317871,-36.94218444824219,22.573348999023438,-47.546504974365234,31.611042022705078,30.854351043701172,-11.18470287322998,-18.520496368408203,-48.12450408935547,0.9238805770874023,-34.60852813720703,-28.350223541259766,-23.729290008544922,-5.705604076385498,-15.313206672668457,-13.10987377166748,-3.392340660095215,-16.485248565673828,1.6579344272613525,36.83794403076172,-16.67730712890625,-9.94475269317627,13.106624603271484,-22.949350357055664,14.438451766967773,20.712078094482422,20.552278518676758,-42.6203498840332,-30.530317306518555,-44.72659683227539,-40.97718811035156,24.16887664794922,-32.502586364746094,26.875898361206055,14.909918785095215,-10.21246337890625,-15.544682502746582,14.18874454498291,-40.32193374633789,27.510154724121094,28.543352127075195,8.320780754089355,-19.093420028686523,31.051050186157227,-33.162723541259766,-13.516203880310059,14.10360050201416,-24.397119522094727,-22.362924575805664,17.98481559753418,-42.71356964111328,5.229664325714111,-47.33386993408203,49.04684066772461,-10.379572868347168,29.233304977416992,13.627288818359375,-16.959060668945312,-14.268539428710938,-33.32406234741211,-7.455350399017334,2.9047129154205322,-18.242036819458008,29.69472312927246,30.95950698852539,-6.343097686767578,6.466035842895508,25.0738525390625,-28.703781127929688,13.804486274719238,-25.018125534057617,58.330196380615234,-34.9371223449707,-31.76209831237793,-34.13794708251953,24.091943740844727,-0.02473892644047737,20.347505569458008,0.9810124635696411,35.70954513549805,-2.740041971206665,7.023760795593262,-19.231229782104492,-17.585548400878906,14.550202369689941,5.846765518188477,15.115599632263184,7.236905574798584,-26.62193489074707,11.933965682983398,22.97416877746582,-42.28596878051758,-27.340606689453125,-13.45882511138916,53.463401794433594,31.47469711303711,-25.502836227416992,-29.586414337158203,-32.0815315246582,56.951683044433594,33.72713088989258,-42.8618049621582,-38.65999984741211,-23.45035743713379,-21.300323486328125,10.825935363769531,-22.28919219970703,11.614490509033203,8.431954383850098,37.8645133972168,-18.574909210205078,-21.15073585510254,28.316022872924805,23.656169891357422,7.23187780380249,-16.79152488708496,-4.503833293914795,10.708629608154297,17.393213272094727,-17.000640869140625,-26.98751449584961,-47.329532623291016,-18.461429595947266,4.690720558166504,20.372539520263672,0.6176551580429077,-18.91937828063965,-30.200637817382812,22.254119873046875,12.293404579162598,41.090171813964844,21.08705711364746,-40.61296463012695,25.967750549316406,28.4113826751709,-21.478084564208984,19.4788818359375,-24.38741111755371,55.88135528564453,27.37337875366211,-41.45400619506836,-9.368765830993652,38.03425598144531,-14.621228218078613,36.887725830078125,-36.27996826171875,-34.44198989868164,11.52155590057373,16.81110954284668,-1.1686745882034302,-2.8918962478637695,-23.230091094970703,-1.4291661977767944,19.967620849609375,-32.7843017578125,-46.33308792114258,-15.950526237487793,26.146291732788086,17.192312240600586,4.045726776123047,52.65202713012695,9.860050201416016,4.235032558441162,9.921515464782715,5.308590412139893,-11.58836555480957,-14.629980087280273,37.97611999511719,50.58468246459961,-42.54106521606445,-30.439294815063477,24.49686050415039,30.632579803466797,-25.286067962646484,0.7193326354026794,13.108759880065918,17.539628982543945,6.182615756988525,33.79377746582031,2.985654830932617,-41.79015350341797,16.147069931030273,8.540650367736816,17.194644927978516,27.05771827697754,-27.635295867919922,4.224638938903809,-6.402091026306152,19.936033248901367,9.913664817810059,7.451344966888428,53.2843132019043,38.725162506103516,13.26901626586914,9.857674598693848,-18.01252555847168,20.60651206970215,-28.280986785888672,-16.226634979248047,-16.44669532775879,-40.655128479003906,-29.28384780883789,16.567920684814453,12.930341720581055,-29.398406982421875,54.75478744506836,-8.021138191223145,-7.896768569946289,33.66666793823242,-30.04802131652832,26.336284637451172,-25.04722023010254,3.395435333251953,-16.589187622070312,14.18481159210205,47.98774719238281,-17.59946060180664,-22.669414520263672,47.149810791015625,-26.083208084106445,-7.609711647033691,-0.9319723844528198,9.076850891113281,22.2474422454834,46.01082229614258,51.436988830566406,-29.312885284423828,-46.269630432128906,27.61241340637207,20.34514045715332,-37.8253173828125,-28.64484405517578,-26.834300994873047,12.473957061767578,52.63182067871094,-37.9390869140625,-46.62660217285156,22.35150146484375,-4.89509916305542,16.587921142578125,-11.736123085021973,52.69783020019531,-32.687618255615234,-28.40294647216797,59.80524826049805,-32.587947845458984,0.9021618962287903,-22.96201515197754,46.19044876098633,8.929336547851562,0.5105070471763611,-18.204544067382812,-23.54328155517578,17.403915405273438,18.002429962158203,10.37770938873291,46.569252014160156,-41.985252380371094,-28.739334106445312,-29.79338264465332,-31.728914260864258,-23.265769958496094,14.895526885986328,-30.721555709838867,-34.45976257324219,-38.488365173339844,0.4930800795555115,-40.84580612182617,-6.44166374206543,-24.317794799804688,-2.5353400707244873,6.490896224975586,-26.51143455505371,-29.160642623901367,16.128162384033203,2.931051731109619,-35.05721664428711,-33.49886703491211,-23.815906524658203,-4.780267238616943,42.37137985229492,2.400343179702759,-27.366195678710938,-42.606239318847656,-36.05439376831055,-29.96913719177246,-35.16039276123047,-3.5788800716400146,9.897526741027832,17.2293758392334,10.305708885192871,-14.536511421203613,-17.31745147705078,21.90067481994629,25.041391372680664,-30.85525131225586,-10.952908515930176,-11.98575496673584,-4.551976203918457,25.748903274536133,24.103763580322266,19.724210739135742,20.693744659423828,-42.60016632080078,-28.311203002929688,20.884645462036133,-25.75616455078125,-17.51231575012207,26.76274871826172,46.765926361083984,55.20167541503906,29.41790199279785,-3.258160352706909,-43.24754333496094,-34.539207458496094,-36.91918182373047,32.2669677734375,13.214664459228516,35.74704360961914,31.55933952331543,56.31005096435547,-33.397220611572266,-42.69548034667969,-14.393224716186523,-24.071983337402344,42.83992004394531,-40.617069244384766,37.018280029296875,11.393750190734863,21.109615325927734,30.811046600341797,-17.55489730834961,13.295807838439941,-19.050373077392578,40.22871398925781,-29.492355346679688,9.559488296508789,10.998116493225098,26.64963150024414,1.6645665168762207,-21.879161834716797,6.485879898071289,10.951003074645996,45.793758392333984,-27.340036392211914,-33.945030212402344,-29.12228775024414,-33.66462707519531,-42.883853912353516,21.731470108032227,21.529712677001953,23.948781967163086,29.01302146911621,17.70683479309082,20.700389862060547,-25.615375518798828,-14.252098083496094,-9.835329055786133,33.03205490112305,-29.536468505859375,53.00617980957031,6.360850811004639,-27.444175720214844,-7.964109897613525,-4.095823287963867,-30.39762306213379,-16.002586364746094,-14.754512786865234,-15.320510864257812,26.1274356842041,-22.54762840270996,14.26501178741455,43.01157760620117,-5.438934803009033,-9.386476516723633,-27.129793167114258,-16.924707412719727,-32.845909118652344,-32.80634307861328,-30.121232986450195,24.879613876342773,-20.340242385864258,-37.412696838378906,23.10942840576172,26.491519927978516,-15.544578552246094,-22.2518253326416,23.51581382751465,10.078324317932129,3.0156850814819336,-28.21546173095703,3.9810500144958496,18.160369873046875,58.52327346801758,16.58149528503418,13.387911796569824,55.495811462402344,53.49919891357422,12.419829368591309,22.294631958007812,-13.695159912109375,-6.211314678192139,-18.892784118652344,7.247127532958984,6.055600166320801,-1.1553013324737549,-14.864778518676758,37.589820861816406,-30.00497817993164,24.326324462890625,-5.452033519744873,-22.390396118164062,12.88979434967041,-6.829489231109619,-17.65769386291504,12.524530410766602,9.973392486572266,-30.80535316467285,-31.280864715576172,-38.5994873046875,-14.845308303833008,-1.8566855192184448,-37.07497787475586,-0.10457208752632141,24.607973098754883,-41.317073822021484,-16.336204528808594,-16.86750602722168,-26.99620246887207,-36.80720901489258,19.18284797668457,26.515682220458984,0.16450448334217072,30.53628158569336,2.011368989944458,13.497631072998047,41.33617401123047,4.552175045013428,-31.055152893066406,54.03664016723633,-35.56117630004883,-45.507320404052734,39.10252380371094,26.0391788482666,29.268184661865234,11.531423568725586,-40.64875411987305,15.47693920135498,-18.889657974243164,-17.676685333251953,-0.7523568272590637,8.229120254516602,3.840036392211914,-12.717880249023438,26.366107940673828,18.651620864868164,-38.66923141479492,26.08810806274414,-5.438000679016113,-22.900842666625977,31.00125503540039,-27.165836334228516,7.042940139770508,56.018428802490234,49.02215576171875,-30.353357315063477,-30.49966812133789,32.9386100769043,-23.89241600036621,-0.7910838723182678,27.65275001525879,-20.69685173034668,9.15898323059082,-24.975933074951172,-9.495125770568848,-18.883756637573242,13.859797477722168,-0.3932233154773712,-35.42142868041992,35.21461486816406,55.163578033447266,-0.1077210083603859,-18.53257179260254,-17.989810943603516,-34.89078903198242,-24.553436279296875,-19.574926376342773,16.341327667236328,-50.148319244384766,-45.08450698852539,-1.389346718788147,-19.85710906982422,37.84322738647461,-28.899436950683594,4.367408752441406,59.35493087768555,27.79031753540039,-34.13671112060547,-12.276860237121582,-3.7630059719085693,-18.658931732177734,21.58169937133789,47.3455696105957,4.474301338195801,-27.040422439575195,11.306414604187012,-31.495357513427734,1.8705766201019287,28.89572525024414,-21.451026916503906,51.91360855102539,-4.673091888427734,-2.1452603340148926,-45.4415168762207,-17.6611385345459,-29.223953247070312,1.3800495862960815,-19.71647071838379,-5.010801792144775,14.641888618469238,14.137445449829102,-18.818256378173828,49.90522766113281,-27.97612762451172,3.330688714981079,-7.99332332611084,-40.55208969116211,-13.142609596252441,-41.95758819580078,-5.235607624053955,-3.944873332977295,-28.92093276977539,-1.8593181371688843,0.47721296548843384,22.05834197998047,-15.40986442565918,17.33538246154785,-27.752241134643555,32.69107437133789,15.620265007019043,9.861969947814941,17.91237449645996,12.711730003356934,26.37500762939453,47.6160888671875,22.749202728271484,38.26901626586914,30.006267547607422,-27.84341049194336,-23.719335556030273,-10.905848503112793,-11.24328327178955,50.24715042114258,21.044652938842773,45.289947509765625,-2.034649133682251,-23.72827911376953,-37.29904556274414,-39.23240280151367,35.45302200317383,-27.977914810180664,29.59258270263672,-41.91938400268555,-25.199106216430664,-31.466787338256836,-27.655000686645508,-24.330324172973633,13.336203575134277,27.57316017150879,9.889679908752441,9.668741226196289,-27.25105857849121,-8.542123794555664,10.931297302246094,-1.8554003238677979,45.19012451171875,26.359041213989258,-5.477106094360352,-15.231956481933594,18.043142318725586,-15.936480522155762,-44.17839050292969,25.009235382080078,-22.408432006835938,13.433530807495117,-18.765472412109375,-48.490966796875,-14.217290878295898,-27.98423957824707,38.88918685913086,-37.22990036010742,-5.082338333129883,-48.42595672607422,-7.20314359664917,-6.642324924468994,-9.579076766967773,52.695587158203125,-34.70494079589844,26.803321838378906,7.579855442047119,-26.082279205322266,4.699276924133301,54.77416229248047,54.152496337890625,4.394749641418457,-11.932257652282715,24.467113494873047,54.13047409057617,38.895347595214844,-32.80141067504883,-27.375741958618164,49.18948745727539,-22.067340850830078,22.99980926513672,-23.1585693359375,-22.91995620727539,-12.21056079864502,-20.559335708618164,21.570287704467773,-6.312638282775879,12.466798782348633,-21.222137451171875,-5.91494083404541,27.748140335083008,-7.564217567443848,38.83828353881836,-28.266145706176758,8.437444686889648,-24.810075759887695,-10.757475852966309,11.23205280303955,23.213031768798828,7.300293922424316,-0.7806310057640076,10.419092178344727,21.414052963256836,-34.76740264892578,-36.19255828857422,55.48909378051758,5.717483997344971,10.854020118713379,41.57429504394531,-9.467002868652344,-19.39175796508789,-2.227189779281616,-17.727577209472656,-21.797521591186523,9.711719512939453,-34.292869567871094,13.113896369934082,-29.621931076049805,53.07731246948242,26.63587760925293,5.6982927322387695,-20.82209587097168,-0.7969345450401306,0.07027465105056763,44.34288024902344,-9.875503540039062,12.5853910446167,-16.703983306884766,-19.195194244384766,-5.799957275390625,50.04496383666992,20.404211044311523,54.69346618652344,-26.788063049316406,22.864328384399414,32.257423400878906,-46.54228973388672,-24.95585060119629,13.802411079406738,39.32592010498047,-40.31755828857422,-36.24171447753906,-22.559938430786133,4.853522777557373,51.563114166259766,16.416852951049805,-4.768601417541504,-23.601913452148438,-4.453847408294678,-2.6104867458343506,54.13041687011719,45.95267868041992,19.280832290649414,10.949929237365723,-41.73968505859375,-24.368698120117188,-34.424400329589844,-20.706375122070312,-26.942842483520508,18.294309616088867,-47.474952697753906,-1.5379079580307007,-21.32744026184082,29.26679801940918,-30.085289001464844,15.673501014709473,24.395557403564453,-10.781606674194336,55.854148864746094,10.272496223449707,9.529317855834961,27.653841018676758,27.930038452148438,-13.128423690795898,3.8495218753814697,21.493383407592773,-31.96139907836914,10.669107437133789,40.216896057128906,-24.8583927154541,46.74631881713867,-33.28723907470703,-16.226238250732422,26.32786750793457,5.7780656814575195,-36.898765563964844,-20.573040008544922,-11.210524559020996,-35.350650787353516,56.81135559082031,-31.108169555664062,3.3034214973449707,-29.086994171142578,23.88493537902832,-40.766197204589844,11.821755409240723,17.197961807250977,-38.70267105102539,11.349719047546387,-25.685693740844727,-29.43947410583496,-28.158315658569336,-32.63785171508789,22.123151779174805,-7.192646026611328,-7.599594593048096,-24.500438690185547,3.310166358947754,-18.243087768554688,51.657676696777344,26.641441345214844,-10.070590019226074,-7.836605072021484,21.576181411743164,5.660974025726318,12.749741554260254,18.714237213134766,11.618818283081055,41.423980712890625,18.355506896972656,17.76062774658203,-26.774030685424805,11.191665649414062,-15.349275588989258,-7.242151737213135,-11.017904281616211,-10.239355087280273,15.600215911865234,-23.431650161743164,-42.91677474975586,9.282242774963379,-31.11680030822754,-16.258201599121094,-17.591419219970703,3.6436986923217773,-9.92324447631836,-23.901968002319336,-43.191890716552734,29.75640106201172,6.070127010345459,54.54237365722656,22.412065505981445,-4.757359981536865,-13.361592292785645,38.09321975708008,-24.84881591796875,-2.9184460639953613,17.535289764404297,-40.22859573364258,57.25819396972656,-33.47013473510742,-17.290328979492188,20.86025047302246,19.109636306762695,16.076446533203125,1.6305270195007324,7.011274814605713,-39.0067138671875,17.42341423034668,-18.148963928222656,52.39670181274414,-15.496075630187988,23.20621681213379,29.2706356048584,-6.174792289733887,-0.6759518980979919,11.763206481933594,-48.402828216552734,-26.753408432006836,-38.15532302856445,15.665186882019043,25.971540451049805,-22.760025024414062,-20.095142364501953,-38.37553787231445,-23.63886070251465,-27.876989364624023,-42.911033630371094,18.76317596435547,-31.504562377929688,-44.887916564941406,30.200563430786133,27.172012329101562,8.515541076660156,-13.509851455688477,-24.35178565979004,-17.443513870239258,20.356781005859375,-42.996910095214844,-9.501538276672363,49.31818389892578,-11.62334156036377,43.20829772949219,25.954952239990234,-3.8431131839752197,-35.26251983642578,-49.32316207885742,-27.477598190307617,25.565078735351562,38.280616760253906,28.765626907348633,-11.840059280395508,11.845629692077637,49.27727508544922,19.79633903503418,-18.183002471923828,-0.7719336748123169,4.822796821594238,-47.36505889892578,-21.24143409729004,7.007986545562744,9.161808013916016,24.747459411621094,-5.805121898651123,21.475059509277344,25.35282325744629,7.692918300628662,-35.80442810058594,-20.42861557006836,-5.91018009185791,-11.960994720458984,-33.13460922241211,-16.77086067199707,-33.356895446777344,-11.48210334777832,-20.25179100036621,-18.613483428955078,27.734943389892578,-8.96104621887207,50.86065673828125,-24.23573875427246,-18.90047836303711,20.568132400512695,10.112942695617676,-35.43490219116211,-24.700551986694336,16.962133407592773,16.90007972717285,47.44976043701172,-12.629406929016113,-7.551665306091309,1.724194049835205,11.552322387695312,57.86003875732422,-9.777331352233887,-15.676288604736328,-28.722261428833008,-6.277474403381348,20.45638656616211,26.124469757080078,21.297489166259766,11.073808670043945,17.471811294555664,-36.0053596496582,-36.425758361816406,2.616530418395996,24.54589080810547,-4.923214435577393,-14.903680801391602,27.713184356689453,17.62433433532715,8.695328712463379,-6.006673336029053,3.3712024688720703,25.872282028198242,-0.03308683633804321,58.766265869140625,-0.12686125934123993,-25.412450790405273,24.3662109375,23.603755950927734,26.816349029541016,-16.535675048828125,-18.51622772216797,-27.9129638671875,-15.292718887329102,6.483713626861572,26.133243560791016,4.941078186035156,-19.020206451416016,-32.9348258972168,5.314004421234131,14.075705528259277,1.6590546369552612,25.731639862060547,-31.7825927734375,7.580992698669434,-18.878734588623047,2.927557945251465,-0.37959539890289307,14.453125953674316,15.068081855773926,-37.282081604003906,25.325660705566406,-26.8574161529541,6.13076639175415,-39.25490951538086,-42.46442413330078,6.890789031982422,-45.6368408203125,4.721567153930664,13.427935600280762,21.661636352539062,9.751701354980469,54.257110595703125,5.675690174102783,-24.68354034423828,-41.26496505737305,19.390419006347656,-1.74518620967865,-3.5716664791107178,10.589847564697266,-43.3675537109375,1.1267049312591553,3.4683759212493896,26.796937942504883,-1.7572376728057861,32.00825500488281,6.141876697540283,59.30945587158203,4.534193992614746,-47.192935943603516,-0.4113646149635315,31.939443588256836,21.216907501220703,-10.948938369750977,9.384322166442871,44.89327621459961,2.892118453979492,15.634819030761719,-22.718318939208984,19.263023376464844,-27.080604553222656,4.551185131072998,24.42748260498047,-0.5153058171272278,-19.606149673461914,31.027938842773438,-14.820589065551758,-36.64849090576172,56.34501647949219,-34.27725601196289,-28.450651168823242,6.887589454650879,-12.460367202758789,-24.031896591186523,-26.343257904052734,-10.541818618774414,-1.2919163703918457,4.257104396820068,-36.38026809692383,8.58536434173584,-28.779953002929688,48.225765228271484,-39.5566520690918,9.974380493164062,58.20303726196289,25.28680419921875,-23.740556716918945,8.105395317077637,14.195682525634766,-27.285306930541992,-3.54042387008667,-22.339916229248047,-3.6028528213500977,18.180099487304688,-30.234668731689453,3.340712070465088,8.469098091125488,-4.813599586486816,10.601631164550781,-17.094219207763672,7.063197612762451,-5.419665336608887,-15.995625495910645,6.43814754486084,26.114952087402344,-37.98016357421875,12.011303901672363,-32.431941986083984,-24.79442596435547,-8.501119613647461,-3.3391013145446777,23.26158905029297,20.046432495117188,25.49702262878418,-4.447179317474365,-15.719347953796387,-21.36366081237793,-42.367828369140625,44.46330642700195,7.564310550689697,-35.55733871459961,-41.41812515258789,-44.509918212890625,-6.250859260559082,-42.995819091796875,-23.582624435424805,-20.86034393310547,21.946195602416992,24.761198043823242,20.7481746673584,-44.33464431762695,28.521080017089844,-13.283349990844727,14.478084564208984,11.143012046813965,43.44210433959961,-0.8259766697883606,-23.00865936279297,51.95155334472656,-18.79378318786621,-20.36737823486328,27.74359703063965,50.597049713134766,28.153057098388672,46.97623825073242,39.08500671386719,-25.649141311645508,-12.796133041381836,-2.400273084640503,27.35750389099121,-7.915177345275879,-4.3410162925720215,8.738396644592285,1.7647373676300049,-27.798751831054688,-32.34906768798828,-17.886165618896484,21.108184814453125,4.712220668792725,23.076810836791992,49.798851013183594,-27.490571975708008,-8.461368560791016,22.767650604248047,21.041128158569336,-15.127704620361328,-35.94691848754883,1.662461280822754,23.40159034729004,-1.5843210220336914,-39.85974884033203,1.6792352199554443,10.595817565917969,-16.50048828125,6.120774745941162,3.8631632328033447,-40.08973693847656,2.571427583694458,-20.356430053710938,-0.9375253319740295,0.4760265350341797,-2.0786023139953613,5.865690231323242,-6.2240166664123535,12.558283805847168,5.993336200714111,-38.66721725463867,-3.766361951828003,20.704744338989258,-22.76066017150879,-3.9237022399902344,-17.491823196411133,-12.145691871643066,-0.8549081683158875,-34.5210075378418,-43.16669464111328,24.752626419067383,30.649322509765625,-15.010714530944824,-6.498571395874023,14.673758506774902,14.242403030395508,22.94939422607422,10.582863807678223,7.7353410720825195,40.22142028808594,-21.67911720275879,27.690284729003906,25.04206657409668,-31.72500991821289,54.093055725097656,33.20103073120117,21.4227237701416,-4.81128454208374,-43.0868034362793,-44.259403228759766,13.5794095993042,-13.17880916595459,-22.19715690612793,9.779728889465332,-33.75125503540039,6.621930122375488,-43.07456588745117,-38.32327651977539,-9.142833709716797,-5.788873672485352,-29.045276641845703,-34.53108596801758,4.2012152671813965,-37.709228515625,15.150203704833984,29.087377548217773,9.370949745178223,11.153006553649902,-15.639080047607422,23.900800704956055,-7.823927402496338,31.105731964111328,37.57371520996094,19.78721809387207,-8.809393882751465,-28.394920349121094,-26.53413200378418,-21.934995651245117,-31.110567092895508,7.353745460510254,12.373369216918945,16.70306396484375,-25.20284652709961,13.487324714660645,15.697240829467773,27.548181533813477,24.32782745361328,-25.294658660888672,26.726587295532227,-19.499624252319336,-36.35248947143555,-9.858712196350098,-2.888460874557495,1.8058704137802124,-5.652397155761719,21.698421478271484,-48.5688591003418,-15.878747940063477,57.09579086303711,19.0797119140625,48.399410247802734,-41.74693298339844,-10.953978538513184,11.932044982910156,-8.07680606842041,41.25417709350586,21.759227752685547,29.201751708984375,-10.480380058288574,-27.038171768188477,-20.463268280029297,12.233857154846191,3.363332986831665,56.81087875366211,20.13057518005371,5.698124408721924,-40.25826644897461,-28.817020416259766,5.876676082611084,13.693338394165039,-25.241270065307617,7.776057243347168,-16.04496955871582,-18.109230041503906,-11.734197616577148,-29.930627822875977,-10.212885856628418,37.88225173950195,0.5606130957603455,-31.13841438293457,58.581600189208984,17.790367126464844,29.078420639038086,48.78623962402344,-35.546836853027344,17.92533302307129,24.646499633789062,3.8572895526885986,28.896135330200195,-1.6709939241409302,-2.000309467315674,-29.600261688232422,2.7728111743927,29.499935150146484,-6.424741744995117,2.0779480934143066,-3.886098861694336,8.5728120803833,12.20858097076416,-26.86663246154785,20.792715072631836,-10.66423511505127,47.176307678222656,-14.716143608093262,-43.63652801513672,-18.320789337158203,-8.694266319274902,55.33972930908203,-44.873687744140625,30.145750045776367,-30.878192901611328,-31.245296478271484,11.881576538085938,6.434970378875732,22.544172286987305,51.262020111083984,8.043249130249023,-23.129838943481445,-16.120105743408203,-29.024227142333984,11.87674617767334,-35.269264221191406,32.70293045043945,-18.279987335205078,36.904258728027344,0.2132979929447174,27.66412925720215,30.847314834594727,-20.307037353515625,7.25669527053833,-6.5692057609558105,-6.969588279724121,-28.71613311767578,-27.346153259277344,-1.8083319664001465,11.664987564086914,-10.042534828186035,-12.444662094116211,-28.93828010559082,-10.557400703430176,-26.759719848632812,-33.8118896484375,51.53839874267578,35.98076248168945,-34.51119613647461,-1.7276108264923096,-26.055192947387695,-18.611125946044922,26.151201248168945,-33.28399658203125,-16.557125091552734,10.978696823120117,-9.940738677978516,15.006940841674805,29.324399948120117,-17.533552169799805,47.448760986328125,-17.343435287475586,26.60588836669922,3.4935076236724854,-14.197985649108887,-20.11617660522461,-47.2109489440918,56.91085433959961,-31.144344329833984,-26.860830307006836,50.67136001586914,26.634326934814453,-27.95990562438965,22.80147361755371,-5.356826305389404,-12.536090850830078,-28.640901565551758,48.27789306640625,-41.02231216430664,18.34412956237793,-9.7950439453125,-38.04362869262695,25.000856399536133,-39.05137634277344,11.968297958374023,-30.94190788269043,-17.926000595092773,-34.779388427734375,27.56116485595703,9.22043514251709,-18.29322052001953,29.72712516784668,-21.369739532470703,21.940092086791992,19.966970443725586,14.319146156311035,-34.898616790771484,-46.80803680419922,54.97682571411133,27.33774757385254,-18.20343017578125,55.08667755126953,3.2931551933288574,-19.126564025878906,10.974125862121582,-20.559289932250977,-25.197534561157227,22.278629302978516,-33.36870193481445,9.103117942810059,-24.57465934753418,-0.5890296697616577,9.635764122009277,-0.5690919756889343,-14.596210479736328,18.101009368896484,-25.85757064819336,-16.838224411010742,49.37370681762695,-24.4360294342041,-33.190269470214844,7.582463264465332,-14.74257755279541,-21.02438735961914,-17.71953773498535,-23.572057723999023,12.727506637573242,-14.154322624206543,50.69240951538086,-28.085357666015625,30.500789642333984,-31.717527389526367,-32.380950927734375,-22.25031280517578,-16.15848159790039,-31.6887149810791,23.11714744567871,-4.174412727355957,-9.127843856811523,18.107051849365234,16.07355308532715,52.31673812866211,23.39520835876465,-24.682546615600586,-6.43340539932251,0.4353025257587433,-37.51604080200195,4.878490924835205,4.81374454498291,51.188655853271484,-0.27307236194610596,48.81480407714844,-20.25760269165039,-43.83287811279297,1.5813500881195068,26.415176391601562,-17.088911056518555,35.46824645996094,53.21735763549805,-29.551193237304688,-46.15421676635742,21.036136627197266,43.20856857299805,-10.005043983459473,-24.03909683227539,-14.006454467773438,8.194790840148926,4.330551624298096,38.59687423706055,-41.97600555419922,20.57040023803711,-16.878171920776367,28.692718505859375,-32.97810745239258,26.317651748657227,9.319987297058105,-16.84879493713379,29.15292739868164,23.051128387451172,-0.14967463910579681,13.410566329956055,20.998964309692383,23.572193145751953,0.6728007793426514,53.48502731323242,-24.277467727661133,18.195528030395508,19.049171447753906,-32.9205207824707,26.02433967590332,48.986183166503906,-9.413488388061523,9.665027618408203,-9.35550308227539,-24.383705139160156,15.27678394317627,12.439332008361816,51.095855712890625,-22.498125076293945,-14.540557861328125,-9.290604591369629,44.89063262939453,-37.719261169433594,27.33275032043457,25.18049430847168,-24.095985412597656,14.956999778747559,-31.136232376098633,-6.410868167877197,-28.092121124267578,-15.798733711242676,-8.614581108093262,23.924442291259766,53.34023666381836,-34.11945724487305,7.7360663414001465,17.63540267944336,7.5821146965026855,-33.78708267211914,-8.766037940979004,4.554110050201416,21.122692108154297,-22.18296241760254,-0.7152249217033386,6.944240570068359,2.5974299907684326,23.073150634765625,-28.399757385253906,27.886796951293945,34.50702667236328,-12.264616012573242,17.665016174316406,29.95133399963379,-47.6253547668457,-9.90718936920166,-11.504314422607422,-10.90298080444336,-33.450584411621094,-17.5488338470459,37.23255920410156,-41.917991638183594,-25.457773208618164,27.383211135864258,50.0761604309082,-19.1429500579834,22.353269577026367,-32.735618591308594,-36.08336639404297,-37.046104431152344,12.762215614318848,15.543795585632324,-6.348090648651123,-38.19083023071289,22.112424850463867,8.511662483215332,-22.26852798461914,24.21201515197754,25.470834732055664,-36.48887252807617,-22.47062873840332,-39.00715255737305,-19.37465476989746,-1.2861882448196411,-26.42981719970703,3.1475400924682617,-43.520057678222656,-19.1423397064209,27.59600067138672,15.522204399108887,5.809899806976318,-30.8685302734375,6.107837677001953,-10.599905967712402,-19.70528793334961,26.62096405029297,18.20426368713379,-31.946775436401367,0.08483146131038666,38.737335205078125,20.642696380615234,-28.250347137451172,27.69275665283203,-4.51416015625,-15.278532981872559,-22.168285369873047,55.606685638427734,36.700347900390625,-22.260967254638672,26.25588607788086,5.099005222320557,28.059707641601562,-30.933536529541016,-27.813770294189453,-3.9766793251037598,-15.900727272033691,5.101761341094971,45.37776565551758,54.32759475708008,20.878686904907227,4.597117900848389,29.866256713867188,40.90110778808594,-17.675844192504883,-26.524648666381836,-2.744081735610962,2.4496302604675293,-31.543912887573242,2.7507927417755127,-23.992145538330078,-6.126676082611084,-17.221126556396484,-17.77048683166504,27.309886932373047,-8.832863807678223,-24.801616668701172,-0.5286105275154114,26.506101608276367,45.407066345214844,-9.477874755859375,-23.583683013916016,-15.062838554382324,11.039583206176758,30.753612518310547,43.015647888183594,52.09479904174805,-27.874818801879883,59.257198333740234,38.484954833984375,8.128774642944336,19.831336975097656,-23.401554107666016,16.66925811767578,-20.87274169921875,-18.707576751708984,-38.52097702026367,48.2504997253418,17.89423942565918,-7.424036979675293,44.38457489013672,18.938940048217773,25.00935173034668,5.585428714752197,18.85230255126953,-19.864622116088867,-25.537717819213867,-21.87445640563965,51.79017639160156,17.02581214904785,-5.735317230224609,-13.81616497039795,-26.340105056762695,-37.42222595214844,-10.977931022644043,-27.89141082763672,17.544435501098633,47.56106185913086,4.805135250091553,-22.438270568847656,-34.172874450683594,18.71099090576172,58.56737518310547,4.4901275634765625,-18.41958999633789,-7.620630264282227,26.614885330200195,15.5015869140625,22.71027374267578,39.46209716796875,16.770591735839844,-33.65348434448242,-25.911773681640625,-4.828573226928711,38.908748626708984,-33.55220413208008,-15.664444923400879,-47.29067611694336,-12.772469520568848,-12.89706802368164,-16.55185317993164,-28.13548469543457,-17.348196029663086,16.413103103637695,-4.378469467163086,30.266889572143555,27.106279373168945,10.179912567138672,-10.423225402832031,-22.117984771728516,38.8085823059082,-14.624556541442871,-34.41327667236328,24.793336868286133,13.05057430267334,8.170282363891602,29.911880493164062,48.02192306518555,-41.685638427734375,-8.859517097473145,15.49608039855957,-22.50535011291504,-38.6428337097168,9.188111305236816,24.84274673461914,-8.535395622253418,22.739389419555664,23.284000396728516,-41.130489349365234,-36.82448196411133,-20.79787254333496,-18.79964256286621,17.040040969848633,-4.244365215301514,54.15871047973633,-11.268926620483398,-29.6042537689209,-37.15944290161133,-7.083337306976318,17.776823043823242,26.23255157470703,16.31290626525879,-24.256864547729492,3.434929132461548,7.697387218475342,-19.335344314575195,-18.681949615478516,-17.87093162536621,-36.844337463378906,-33.89138412475586,-2.658372402191162,25.89652442932129,9.004425048828125,-38.47064208984375,-16.07192039489746,55.74931335449219,0.6714064478874207,-11.759748458862305,16.279464721679688,20.911527633666992,12.839988708496094,-42.95719909667969,-39.03960037231445,-28.41967010498047,-24.19334602355957,20.598745346069336,0.46300071477890015,-21.11884880065918,4.4122538566589355,27.94624900817871,20.734086990356445,39.028282165527344,-33.356319427490234,27.18059730529785,54.406219482421875,53.3155403137207,57.73274612426758,26.656635284423828,26.981555938720703,-28.4451847076416,-15.9051513671875,29.15911865234375,-33.31854248046875,6.822856426239014,0.36283475160598755,-31.933399200439453,-36.552242279052734,-12.51939582824707,-41.60415267944336,2.9192514419555664,19.421852111816406,55.28733444213867,-45.09370422363281,24.757741928100586,-42.668033599853516,-14.862944602966309,12.729646682739258,7.558711051940918,-17.853073120117188,33.690635681152344,-27.334203720092773,-19.035486221313477,-48.05483627319336,6.6966986656188965,-16.257909774780273,48.680381774902344,-38.732357025146484,-43.69587707519531,-46.287593841552734,12.116519927978516,11.806672096252441,22.512603759765625,-26.92745590209961,0.31640952825546265,-3.758030414581299,-45.62335205078125,-27.434965133666992,-17.69069480895996,15.071247100830078,-17.558189392089844,-41.410919189453125,12.238876342773438,-25.70831871032715,-36.138301849365234,-12.892462730407715,-0.7337263822555542,22.943557739257812,55.705448150634766,-8.606382369995117,49.347816467285156,-34.239986419677734,26.968313217163086,-20.147645950317383,8.526703834533691,17.977449417114258,-32.22096633911133,-5.095728874206543,-46.05906677246094,6.451378345489502,-47.25875473022461,48.7120361328125,-18.31104278564453,-12.889039993286133,-5.747104644775391,-16.65764808654785,11.054696083068848,14.264779090881348,-18.477266311645508,21.853578567504883,21.85696792602539,18.383718490600586,6.567971229553223,-5.28462553024292,-0.092648446559906,11.969564437866211,6.535739421844482,6.084441661834717,25.221853256225586,20.247814178466797,-45.03538131713867,-40.46571350097656,35.628387451171875,-17.479652404785156,-2.567720413208008,-33.62749481201172,45.75178909301758,-25.077739715576172,-22.506277084350586,-15.598278045654297,-28.68699836730957,12.5994291305542,39.78966522216797,22.330883026123047,7.633151054382324,16.96394157409668,9.619746208190918,-9.69672966003418,-14.262152671813965,17.63490867614746,-41.352657318115234,-12.154797554016113,-5.897029876708984,-31.654701232910156,-23.570175170898438,-43.084163665771484,52.20732116699219,8.063918113708496,-26.28565788269043,10.329778671264648,27.291929244995117,-9.347692489624023,-10.93690299987793,-16.240556716918945,-4.87933874130249,24.409887313842773,22.51955795288086,19.676828384399414,21.361421585083008,16.621723175048828,10.157855987548828,-22.75965118408203,32.64440155029297,29.10871124267578,-43.70817947387695,-20.297555923461914,26.508316040039062,1.1552839279174805,18.6158390045166,21.64173126220703,-1.5322479009628296,-19.743972778320312,6.103634834289551,-19.395925521850586,-17.599611282348633,-20.770240783691406,-35.82709884643555,25.90145492553711,-48.731842041015625,9.1253023147583,-31.14275360107422,-49.03663635253906,-33.49651336669922,21.027793884277344,-21.564809799194336,16.173547744750977,-24.10577392578125,-36.91139602661133,-22.319726943969727,6.038152694702148,15.448246955871582,8.27056884765625,-35.45811462402344,2.172457218170166,49.118194580078125,-31.262344360351562,56.47304153442383,5.245896339416504,58.37424087524414,4.215560436248779,-34.5195426940918,56.21238708496094,22.482837677001953,-9.261712074279785,-39.16552734375,-29.660686492919922,44.62205505371094,0.25396212935447693,-23.52202033996582,16.43272590637207,2.7319438457489014,15.056650161743164,-6.7805280685424805,-44.715301513671875,5.455292224884033,-11.610584259033203,6.642360687255859,24.036861419677734,-14.805180549621582,0.5506411790847778,0.05098975449800491,8.482833862304688,21.482797622680664,-14.357446670532227,27.5775203704834,-2.9077649116516113,6.938971042633057,40.036781311035156,20.518795013427734,46.802345275878906,-31.12735939025879,-42.58905029296875,-33.496803283691406,26.084888458251953,-7.943410873413086,-40.37691116333008,-29.60783576965332,18.495758056640625,-9.676430702209473,-30.533479690551758,23.648006439208984,14.383262634277344,-21.994253158569336,21.832990646362305,19.52615737915039,-23.18134117126465,-30.069133758544922,9.895157814025879,28.557598114013672,17.061500549316406,-27.562705993652344,2.9950520992279053,10.634222030639648,-5.290053844451904,-9.913847923278809,28.32750701904297,17.409204483032227,55.87761306762695,-43.34574508666992,55.0504150390625,-37.50861740112305,31.401351928710938,21.293012619018555,1.5700892210006714,25.225250244140625,4.578897953033447,19.787006378173828,24.729801177978516,-38.647560119628906,23.915483474731445,10.823357582092285,-36.08217239379883,38.48248291015625,-22.303462982177734,11.34686279296875,-38.65874481201172,26.054201126098633,36.063201904296875,-18.170196533203125,13.9877347946167,11.413756370544434,-30.46282386779785,-20.424245834350586,25.883651733398438,17.4434871673584,50.758602142333984,8.22332763671875,-38.32728576660156,-24.380191802978516,4.825444221496582,-31.923816680908203,-24.655080795288086,13.664334297180176,-33.4525146484375,14.266260147094727,-6.896444320678711,3.687059164047241,-7.822836399078369,-29.351543426513672,-3.6146183013916016,27.174495697021484,26.89999008178711,-34.73006820678711,-41.78388214111328,1.8607890605926514,-31.458765029907227,-20.76658821105957,-32.91836166381836,54.82210922241211,-1.7586948871612549,17.53333854675293,22.769615173339844,-26.322994232177734,-8.770235061645508,-45.3176383972168,48.41826248168945,43.275978088378906,9.494599342346191,-34.60466384887695,18.644969940185547,-22.790973663330078,25.306018829345703,-31.220779418945312,13.206930160522461,-48.040042877197266,39.18640899658203,25.173320770263672,-33.87018966674805,-1.109546184539795,16.48333168029785,36.69861602783203,-35.03411102294922,55.401668548583984,39.22419357299805,-39.38215637207031,7.824898719787598,-37.65693664550781,16.009601593017578,-10.374533653259277,53.267372131347656,4.669189453125,-11.290163040161133,27.523483276367188,-47.615840911865234,12.699416160583496,25.23164939880371,-4.816481590270996,-48.19873809814453,2.3114266395568848,-43.561668395996094,-4.455557346343994,57.414146423339844,28.780202865600586,-24.012126922607422,2.18241024017334,10.992331504821777,-0.19019414484500885,14.105332374572754,39.686851501464844,18.530548095703125,-26.531124114990234,7.223061561584473,8.322380065917969,-29.681438446044922,-19.59256935119629,-46.46331024169922,18.84560203552246,-44.1170539855957,6.721396446228027,10.423059463500977,5.181102275848389,-24.350914001464844,-34.38996505737305,-20.717893600463867,26.278135299682617,14.790353775024414,-7.7052226066589355,56.304298400878906,-31.694013595581055,-44.34514236450195,-17.647869110107422,-34.07130432128906,-37.65377426147461,-22.274045944213867,-16.044654846191406,-40.950767517089844,-10.773015975952148,49.63222122192383,6.644317150115967,3.1863367557525635,-18.826406478881836,30.160749435424805,10.092440605163574,22.68178367614746,47.62574005126953,-17.349651336669922,1.2175086736679077,8.07070255279541,20.369401931762695,-49.092262268066406,38.19744110107422,-16.51286506652832,-30.582414627075195,-26.754318237304688,24.381792068481445,40.39255905151367,55.340328216552734,23.2094783782959,57.651649475097656,24.416805267333984,-43.40807342529297,-8.663911819458008,25.5283203125,14.63153076171875,55.03742980957031,-22.842041015625,15.220288276672363,-18.31106948852539,36.32090377807617,30.838773727416992,-28.33814239501953,-1.3627294301986694,3.6350021362304688,49.552188873291016,54.4088134765625,-38.263397216796875,32.793575286865234,27.709386825561523,5.779881954193115,25.40305519104004,13.927891731262207,52.673194885253906,-20.366804122924805,-21.09973907470703,-34.999778747558594,-18.381906509399414,27.963890075683594,45.942840576171875,-0.9264360070228577,-34.656402587890625,-18.685951232910156,-20.14040184020996,26.136302947998047,18.521120071411133,46.48548126220703,-34.70989227294922,-5.7259016036987305,31.284231185913086,53.918617248535156,-34.620750427246094,-41.35906982421875,-1.0762155055999756,35.60197448730469,-9.149779319763184,-16.537195205688477,-3.9987118244171143,13.949319839477539,-43.84308624267578,25.38018035888672,14.09582233428955,-20.10091781616211,-10.570414543151855,53.807071685791016,-19.816598892211914,26.495899200439453,24.962623596191406,48.98081588745117,28.6840763092041,-18.244325637817383,-31.036664962768555,10.2290678024292,-22.041162490844727,-7.257625579833984,9.08657455444336,-47.337276458740234,-34.676944732666016,-19.386056900024414,-28.624813079833984,-15.101274490356445,-32.2651252746582,7.819773197174072,38.35422897338867,-28.069976806640625,56.938453674316406,-27.353069305419922,-25.307456970214844,9.359552383422852,-31.69369125366211,-46.292598724365234,-0.7285042405128479,8.427186012268066,25.782243728637695,59.12142562866211,-0.8066556453704834,-16.745264053344727,-18.42681121826172,-19.271469116210938,-3.7872345447540283,-25.405485153198242,8.187451362609863,-1.2158712148666382,-21.053964614868164,-26.687515258789062,1.267349123954773,37.305908203125,11.144781112670898,-27.32767105102539,26.333084106445312,-26.054351806640625,22.70653533935547,-16.052534103393555,23.803768157958984,-5.425553321838379,24.887069702148438,-1.4911198616027832,-2.5491554737091064,24.31057357788086,10.366559028625488,3.039644956588745,21.911468505859375,-27.66180419921875,52.37650680541992,-20.038860321044922,8.875308990478516,21.600414276123047,9.344337463378906,-5.734210014343262,53.591896057128906,14.659854888916016,38.37135696411133,-34.80472183227539,-4.633827209472656,-26.158666610717773,-48.3303108215332,52.988529205322266,-4.120846748352051,16.976425170898438,25.559404373168945,-24.45808219909668,-23.73565673828125,-14.930004119873047,24.47793197631836,-20.080047607421875,52.854461669921875,3.0304646492004395,18.303525924682617,-14.444418907165527,41.08123016357422,27.32541847229004,-0.03499078378081322,-23.94237518310547,-28.64801788330078,-40.323204040527344,-36.99003982543945,21.67262840270996,24.507259368896484,-10.18864631652832,-48.0399169921875,16.462352752685547,8.97520637512207,4.324256420135498,9.735240936279297,10.751368522644043,-9.94361400604248,17.471588134765625,-28.074201583862305,-39.554649353027344,27.05678367614746,-14.218576431274414,20.067768096923828,49.16815948486328,29.365489959716797,-15.148863792419434,-23.746440887451172,14.043198585510254,26.042875289916992,-16.672340393066406,11.402997016906738,7.494192600250244,-42.79631042480469,-33.76071548461914,-6.701187610626221,-14.125061988830566,12.971074104309082,-28.444910049438477,25.236093521118164,14.596548080444336,26.767070770263672,5.256686210632324,-12.403816223144531,-36.46651077270508,36.57939910888672,-9.276436805725098,-33.856834411621094,55.650718688964844,53.96052551269531,-24.877531051635742,-36.695796966552734,-0.9364332556724548,30.43450927734375,-7.706395149230957,-17.825180053710938,-29.6675968170166,57.377899169921875,10.255885124206543,40.32509994506836,54.8927001953125,-20.96343994140625,24.172767639160156,32.29060363769531,24.873737335205078,-18.555118560791016,18.523406982421875,5.3220930099487305,48.567996978759766,-22.473615646362305,15.55852222442627,-22.2440128326416,11.0842924118042,-18.61871910095215,12.127934455871582,5.611668109893799,17.432519912719727,-2.0803205966949463,-28.56065559387207,5.517156600952148,10.083144187927246,23.432682037353516,10.99441146850586,27.711130142211914,21.21116828918457,13.916399955749512,-42.865135192871094,22.935691833496094,-14.613748550415039,-4.814018726348877,-19.59258270263672,-32.21159362792969,26.785924911499023,6.288088321685791,-33.24668884277344,-15.6110200881958,51.976470947265625,-7.063457489013672,-33.096805572509766,-8.281464576721191,-22.99634552001953,3.561505079269409,-31.497594833374023,5.72112512588501,-39.59413528442383,20.9483642578125,25.004966735839844,12.852953910827637,34.051326751708984,-24.436767578125,-37.76829147338867,-26.139629364013672,23.501895904541016,16.047252655029297,-9.74994945526123,13.8380765914917,-21.410554885864258,-38.791831970214844,-38.57119369506836,0.9904877543449402,26.01011848449707,19.95573616027832,-41.14656448364258,-11.111958503723145,-2.4458324909210205,7.5189738273620605,29.58700180053711,-3.576594114303589,25.661710739135742,-41.308040618896484,-22.5028133392334,-3.6427547931671143,-10.770410537719727,-14.328360557556152,-20.688201904296875,15.915185928344727,25.434810638427734,12.818906784057617,13.079939842224121,-29.91451644897461,40.134307861328125,10.13491153717041,-18.27311897277832,35.493621826171875,8.410608291625977,-19.813379287719727,16.174428939819336,-27.239139556884766,-24.870555877685547,-22.47365951538086,39.65108871459961,14.48367977142334,-42.198822021484375,-35.816612243652344,3.746703863143921,-32.633140563964844,25.927064895629883,6.115869045257568,-48.8443603515625,47.27833557128906,-29.113338470458984,2.9159467220306396,13.50379467010498,9.037755012512207,-9.587263107299805,-29.40888023376465,-16.747600555419922,-24.69992446899414,-31.092580795288086,8.61417293548584,-17.980974197387695,-19.519071578979492,-24.685062408447266,21.085514068603516,26.698328018188477,35.286624908447266,22.509214401245117,26.114595413208008,8.277307510375977,-8.305523872375488,-2.138106346130371,-26.091466903686523,9.761784553527832,7.707550525665283,21.00446128845215,-33.63457107543945,-43.336997985839844,41.58568572998047,4.324221134185791,-46.612613677978516,4.553786754608154,-29.844303131103516,-3.788628339767456,-13.374067306518555,20.965682983398438,38.99412155151367,-36.620361328125,17.300065994262695,53.966583251953125,5.168790817260742,18.540895462036133,-41.15940856933594,-18.46888542175293,-47.747474670410156,-39.57212448120117,50.47910690307617,-16.108949661254883,29.615447998046875,-38.44664001464844,7.884722709655762,10.29379653930664,-28.323856353759766,-6.409298896789551,-42.96435546875,-16.176010131835938,-35.05572509765625,21.531661987304688,-20.942283630371094,-28.838539123535156,24.017892837524414,27.440881729125977,5.214497089385986,-38.31694030761719,4.829693794250488,37.58180236816406,-19.50931167602539,7.1757965087890625,-12.363752365112305,2.9312069416046143,11.545060157775879,-19.796157836914062,29.726356506347656,20.584270477294922,51.25799560546875,-6.60877799987793,-18.155189514160156,48.09540939331055,55.632389068603516,-24.147192001342773,-42.01838684082031,-6.386268138885498,23.92689323425293,11.551517486572266,15.81845760345459,16.415346145629883,-37.66436004638672,-26.000669479370117,45.68813705444336,-18.14987564086914,17.72410774230957,-30.149723052978516,22.04644203186035,-1.2340526580810547,26.24480438232422,-30.501951217651367,-45.027793884277344,-8.952982902526855,22.653657913208008,-5.2939653396606445,25.295835494995117,-24.413530349731445,28.243013381958008,-5.177513599395752,23.34734344482422,49.785213470458984,15.497243881225586,6.967560768127441,3.5677053928375244,11.942793846130371,28.771957397460938,13.041595458984375,-15.596466064453125,-17.473102569580078,8.743609428405762,-16.900989532470703,2.415353536605835,26.146150588989258,-49.545196533203125,-31.056499481201172,-40.6769905090332,-14.411969184875488,-3.6133322715759277,-39.299041748046875,24.461721420288086,-28.24098777770996,-17.09385871887207,-11.459249496459961,4.49500846862793,-28.829824447631836,-35.69339370727539,4.340267181396484,50.133689880371094,5.726607799530029,4.166109085083008,-5.036013126373291,-26.13780403137207,4.551384449005127,31.494461059570312,2.3388895988464355,6.068679332733154,-20.553287506103516,22.43156623840332,2.4122607707977295,-37.34165954589844,-46.19090270996094,-35.879085540771484,-28.260509490966797,-34.35419845581055,14.334602355957031,29.75952911376953,21.208070755004883,16.986560821533203,19.388774871826172,-46.70161056518555,2.9340097904205322,-33.499874114990234,21.290943145751953,-4.916321754455566,-7.46954345703125,-40.06166458129883,-17.038299560546875,0.4116241931915283,24.526813507080078,34.77885055541992,-17.13961410522461,18.38398551940918,11.28612232208252,22.395484924316406,-46.72704315185547,0.06315144896507263,-2.1939163208007812,-27.92316246032715,21.435941696166992,21.612504959106445,27.439420700073242,-32.89027786254883,29.480243682861328,-6.441472053527832,0.01197569165378809,11.98563003540039,-31.41687774658203,-15.054034233093262,-20.372989654541016,-38.265262603759766,0.6202318072319031,-13.846101760864258,-24.618270874023438,-1.2075189352035522,27.5163516998291,-43.01240158081055,27.32383918762207,16.74970245361328,15.263813018798828,29.51545524597168,58.2747688293457,29.54775047302246,8.755903244018555,15.21956729888916,-21.50023651123047,6.614488124847412,-44.317420959472656,-2.7854092121124268,-44.29414749145508,-23.91874885559082,5.188647747039795,8.815486907958984,12.011791229248047,7.557130336761475,-4.631253719329834,-33.83300018310547,-23.187774658203125,-13.584610939025879,-31.272016525268555,13.252820014953613,-45.56033706665039,-34.55638122558594,15.468534469604492,15.963591575622559,48.0590934753418,23.71160125732422,-28.640775680541992,46.31828689575195,-28.45852279663086,4.951056003570557,23.46013832092285,-29.06184959411621,45.37632369995117,-2.5938806533813477,34.4632453918457,-28.341411590576172,21.066818237304688,-28.498371124267578,-29.7841739654541,54.98420333862305,-11.006693840026855,29.79947853088379,-30.19814682006836,21.532575607299805,-27.768417358398438,5.248758316040039,56.61518478393555,-0.2614532709121704,54.841522216796875,-7.746710777282715,-16.303022384643555,-15.742040634155273,13.889667510986328,7.211729049682617,-32.30743408203125,-30.173261642456055,13.657742500305176,-45.582462310791016,29.895618438720703,10.85766887664795,-11.200669288635254,-39.18547821044922,-17.55230712890625,35.14901351928711,-40.43794631958008,17.949695587158203,-27.765810012817383,20.316492080688477,13.697328567504883,-42.49288558959961,20.154447555541992,59.000221252441406,24.097248077392578,32.63157653808594,-0.17381402850151062,-24.11256980895996,14.159819602966309,17.929931640625,-28.383384704589844,34.80137252807617,38.282596588134766,-33.70814514160156,-1.0906082391738892,-12.274703979492188,-21.14677619934082,-34.416927337646484,-44.32423782348633,-41.13583755493164,12.28795051574707,-41.67039489746094,15.82433032989502,-27.00806427001953,-25.323471069335938,8.864330291748047,54.33836364746094,-29.451618194580078,38.26791000366211,11.004669189453125,10.440454483032227,13.789409637451172,35.73170852661133,-1.2005306482315063,-37.57704162597656,-37.30946731567383,10.897327423095703,-6.883516311645508,14.704720497131348,-18.481483459472656,-39.709861755371094,-19.965837478637695,-15.24220085144043,-20.760560989379883,-23.601076126098633,-28.2352352142334,4.323441505432129,-42.65697479248047,-1.0303903818130493,39.74822998046875,7.432047367095947,-25.59463882446289,-13.338784217834473,-13.561107635498047,-43.9936637878418,30.165380477905273,52.61430740356445,-28.93303871154785,38.388484954833984,26.839441299438477,12.570688247680664,-17.469383239746094,24.12812042236328,-23.76179313659668,13.128195762634277,28.464454650878906,22.365768432617188,32.40087890625,8.275702476501465,19.299585342407227,-19.223526000976562,20.387603759765625,-17.38875389099121,-27.751131057739258,23.31878089904785,-16.945533752441406,18.06582260131836,-35.017574310302734,16.611854553222656,6.042572021484375,7.866586208343506,-22.21816635131836,-16.593149185180664,-23.171932220458984,-1.2548298835754395,-27.354877471923828,-26.706186294555664,-4.769975185394287,19.25129508972168,19.971237182617188,57.634029388427734,-36.429527282714844,45.69525909423828,-23.96349334716797,-47.96588897705078,-4.4812421798706055,-17.86665153503418,-19.977148056030273,24.318012237548828,-26.73497772216797,-21.905460357666016,-31.31194305419922,34.76905822753906,-33.53468704223633,28.115312576293945,-44.954795837402344,-2.603524923324585,13.47585391998291,28.570478439331055,-20.83956527709961,-32.952003479003906,-19.28160285949707,-20.010744094848633,7.906186103820801,11.540792465209961,9.466063499450684,17.93105125427246,25.573501586914062,29.97105598449707,8.39709186553955,-24.584257125854492,25.776447296142578,-43.44840621948242,-2.3658783435821533,15.763495445251465,22.653743743896484,-11.22789478302002,4.793648719787598,-34.69274139404297,-41.157806396484375,2.863758087158203,37.49604034423828,23.04868507385254,-31.371797561645508,11.845429420471191,23.304765701293945,25.98259735107422,25.413942337036133,9.174026489257812,17.437896728515625,-18.297517776489258,19.07310676574707,54.28861618041992,30.622142791748047,-0.8501885533332825,-5.571444988250732,26.51030158996582,37.17636489868164,-14.137564659118652,35.91510772705078,29.03553009033203,-16.1705265045166,31.711597442626953,-1.7347246408462524,36.457767486572266,16.16683578491211,-26.494483947753906,-20.07478904724121,-20.141366958618164,23.45953941345215,-28.782489776611328,26.909337997436523,-14.312532424926758,-26.303878784179688,3.9532370567321777,-32.18423080444336,4.9843244552612305,-34.28035354614258,37.65463638305664,-10.816339492797852,18.247610092163086,-8.399295806884766,29.042985916137695,47.12783432006836,50.20882034301758,54.626155853271484,45.59062957763672,-11.488386154174805,-33.84937286376953,26.57910919189453,30.56851577758789,-17.971651077270508,51.98152160644531,18.419775009155273,26.44106674194336,-35.10702896118164,9.410831451416016,28.903888702392578,-47.789676666259766,35.06293869018555,-37.38285446166992,27.43683433532715,52.64649963378906,18.915298461914062,7.30015754699707,7.739449977874756,47.467899322509766,8.989497184753418,-14.771939277648926,18.226181030273438,-7.171875476837158,-12.158313751220703,55.66610336303711,-19.347620010375977,-5.954126834869385,-6.731827259063721,14.017417907714844,13.642450332641602,27.321582794189453,3.6784708499908447,-34.44252395629883,-28.489425659179688,-29.868534088134766,9.559549331665039,31.823705673217773,-29.874250411987305,31.58918571472168,-14.159111976623535,-17.083141326904297,-36.903770446777344,24.84209442138672,34.39726638793945,13.49863338470459,-32.769046783447266,58.39440155029297,-1.1551315784454346,8.466962814331055,-33.27618408203125,9.558255195617676,-26.5540714263916,53.53842544555664,52.664432525634766,-37.27326202392578,-26.907827377319336,7.232828140258789,18.876758575439453,-14.862988471984863,52.655094146728516,-47.180057525634766,11.056678771972656,9.328351974487305,-6.608245849609375,-33.41368103027344,8.276782035827637,-42.301841735839844,-35.20500946044922,-8.443330764770508,44.83701705932617,53.76389694213867,38.11079406738281,15.243887901306152,18.626317977905273,-0.09746143221855164,-48.12784957885742,-41.97332000732422,-17.763397216796875,-22.24395751953125,-29.32035255432129,8.904486656188965,-25.803993225097656,6.6777215003967285,-33.675907135009766,37.31083679199219,4.24711275100708,11.901944160461426,-41.44738006591797,-32.43172836303711,-29.26634407043457,9.681442260742188,-6.219011306762695,-45.416786193847656,11.836670875549316,56.144325256347656,25.589168548583984,-27.252559661865234,-21.72463035583496,-36.48463439941406,-22.919837951660156,23.087173461914062,-26.829769134521484,-8.935041427612305,17.986021041870117,26.576961517333984,-46.94038009643555,-14.43050479888916,-17.0449161529541,-23.690786361694336,-31.963674545288086,16.616819381713867,58.28326416015625,19.453872680664062,47.21900177001953,21.717973709106445,-8.9735107421875,13.637624740600586,46.0418586730957,49.801151275634766,-23.056100845336914,-11.35539436340332,-26.5394229888916,-4.182098388671875,-2.4420130252838135,29.348447799682617,-24.08273696899414,16.955446243286133,28.527420043945312,-36.126060485839844,-23.229957580566406,53.96302795410156,52.18859100341797,5.389980316162109,27.564273834228516,9.627326965332031,-12.584820747375488,-28.249954223632812,-17.155609130859375,-39.335086822509766,-36.56605529785156,28.152002334594727,8.555561065673828,49.81129455566406,-7.735446453094482,20.550729751586914,15.510976791381836,6.583075523376465,4.316243648529053,-33.38459777832031,4.946410655975342,8.737031936645508,-21.60331153869629,12.672689437866211,0.18419253826141357,20.710369110107422,-38.228511810302734,25.340557098388672,54.04249954223633,30.29769515991211,16.20420265197754,-22.57500648498535,-16.56696319580078,-9.829276084899902,39.70594024658203,7.020893573760986,19.395614624023438,6.677225589752197,-29.062776565551758,-22.777057647705078,9.16287899017334,-22.57439613342285,11.812966346740723,48.91960906982422,-5.422770023345947,16.428869247436523,5.938154697418213,-15.697413444519043,-28.140239715576172,-9.206000328063965,-21.80161476135254,-18.204853057861328,-4.897733688354492,-26.36945152282715,11.43543815612793,24.977018356323242,18.205322265625,-27.577341079711914,-17.566730499267578,7.484230995178223,-13.6271390914917,27.074735641479492,-22.364839553833008,12.879961013793945,2.693603515625,-36.18408203125,-18.840831756591797,33.5357551574707,6.531085014343262,28.555599212646484,7.45200777053833,12.430777549743652,6.88909387588501,-25.80143928527832,31.632333755493164,-31.617464065551758,-29.801151275634766,51.298152923583984,-36.77161407470703,9.596099853515625,-10.043224334716797,-42.847991943359375,-44.25242614746094,-19.19438934326172,15.076407432556152,52.81788635253906,16.368816375732422,11.602448463439941,55.012916564941406,-6.115427017211914,51.044979095458984,47.51523208618164,-25.839723587036133,-40.5557861328125,-32.466094970703125,15.016932487487793,-7.018738269805908,-0.02970711514353752,-40.092708587646484,53.87374496459961,49.20644760131836,8.954508781433105,20.341745376586914,-17.82929229736328,-17.82332992553711,-22.81522560119629,-0.5786807537078857,-25.83868980407715,-2.754826068878174,-20.769895553588867,-28.452985763549805,-22.692712783813477,-7.925246715545654,9.633136749267578,25.062440872192383,22.74306297302246,-30.766416549682617,-16.738401412963867,20.17579460144043,-42.217533111572266,58.781368255615234,-46.37396240234375,-16.754749298095703,-25.249074935913086,10.648188591003418,4.7060370445251465,13.190887451171875,4.368629455566406,-31.74879264831543,-45.593685150146484,15.87608528137207,4.789477825164795,-32.719451904296875,49.529296875,-28.852222442626953,-6.789618968963623,23.055498123168945,24.782400131225586,-16.235109329223633,57.191070556640625,-48.216331481933594,38.711143493652344,-12.655367851257324,-43.264801025390625,19.777198791503906,-37.254642486572266,5.709408760070801,-16.89541244506836,24.00950813293457,3.1847984790802,1.66268789768219,-40.449134826660156,-35.50890350341797,16.190261840820312,-5.040714263916016,-27.688392639160156,28.649274826049805,-32.028228759765625,22.228416442871094,-24.114028930664062,24.74820327758789,6.161767959594727,-16.396629333496094,-21.515609741210938,-46.44154739379883,-47.17744827270508,-38.226226806640625,20.581926345825195,28.61171531677246,-14.492255210876465,-10.306038856506348,19.07452392578125,-12.870220184326172,8.301158905029297,15.67839241027832,6.26041841506958,6.581090927124023,-16.856351852416992,1.9533374309539795,31.123798370361328,46.774749755859375,-28.58877944946289,36.513832092285156,3.1454265117645264,-19.898151397705078,-16.346887588500977,16.01151466369629,3.7195234298706055,-28.946748733520508,-35.5176887512207,-39.42308807373047,-39.5550537109375,25.269344329833984,-29.58591079711914,14.087189674377441,22.00366973876953,21.85124969482422,-3.3022408485412598,13.259757041931152,-16.48897361755371,-31.909961700439453,45.59862518310547,-34.705997467041016,-7.344531536102295,15.625703811645508,2.6338517665863037,54.27251434326172,-29.03858757019043,-15.453689575195312,6.593198299407959,19.260700225830078,9.942546844482422,-19.646244049072266,-13.639897346496582,-19.659320831298828,-21.248348236083984,-13.361236572265625,-0.7944601774215698,29.336732864379883,53.23824691772461,-42.21476364135742,11.077081680297852,-1.0616555213928223,16.177196502685547,52.527427673339844,-4.674611568450928,18.444351196289062,-25.757631301879883,-35.04491424560547,-24.48876190185547,-27.190563201904297,5.30925989151001,-7.567144870758057,18.36168098449707,28.7903995513916,5.620171546936035,49.50767135620117,-41.45737838745117,-37.92397689819336,-6.721889972686768,20.518627166748047,8.707462310791016,17.553070068359375,28.196352005004883,9.897676467895508,-47.20830535888672,11.010958671569824,6.183126926422119,-36.16566467285156,0.9229515194892883,49.74762725830078,50.83475875854492,17.054685592651367,21.96687889099121,-17.897476196289062,23.857131958007812,22.805007934570312,-42.711708068847656,48.33717346191406,9.820947647094727,16.71207046508789,-43.24019241333008,-18.75377655029297,17.35041618347168,23.385435104370117,2.5069899559020996,-35.16574478149414,18.850244522094727,-12.950090408325195,-46.73823928833008,-45.13884353637695,19.49136734008789,-41.13230895996094,3.371882200241089,20.75054168701172,16.264177322387695,-21.160614013671875,-23.171998977661133,-15.067985534667969,-32.23983383178711,4.455498218536377,32.66596984863281,8.302748680114746,15.258298873901367,-25.80890464782715,24.672521591186523,-36.29598617553711,-35.32512283325195,13.541230201721191,-43.91412353515625,-31.73994255065918,-16.893951416015625,21.44056510925293,27.64017677307129,-24.1494140625,-1.9047995805740356,18.843006134033203,12.507353782653809,-6.6313862800598145,13.306523323059082,48.21634292602539,21.384502410888672,-14.570184707641602,-27.509666442871094,54.4329833984375,11.775315284729004,21.360815048217773,-5.278966426849365,-25.586200714111328,-17.986879348754883,-45.06852722167969,-32.268516540527344,-9.301313400268555,-4.21071195602417,-35.393890380859375,-31.717708587646484,-27.598249435424805,-16.358558654785156,24.126314163208008,-41.4986457824707,11.581480026245117,-35.502079010009766,-2.3776981830596924,-44.99374008178711,15.907130241394043,32.132999420166016,-19.33954620361328,-16.430429458618164,21.458721160888672,-4.486477851867676,15.845130920410156,-11.399211883544922,-23.478633880615234,15.885950088500977,-43.08110046386719,-34.781776428222656,48.459712982177734,36.2374267578125,-6.82912540435791,6.95590877532959,2.08998441696167,-34.230953216552734,3.757488250732422,-38.02557373046875,5.402591705322266,-21.306896209716797,-21.061845779418945,-7.297133445739746,-33.23317337036133,12.252476692199707,-29.882801055908203,-44.60890579223633,-32.16072082519531,15.827592849731445,0.00954313576221466,22.006685256958008,6.8125481605529785,-2.247572422027588,-1.1751275062561035,8.192723274230957,-17.414621353149414,-10.039361000061035,29.838773727416992,53.09321594238281,-30.271318435668945,-43.88172149658203,55.916847229003906,4.968506813049316,4.735541820526123,18.091930389404297,-36.12180709838867,-46.68280792236328,-21.31903839111328,-46.92559051513672,25.87862205505371,52.63652420043945,-15.21264362335205,-31.851593017578125,14.483283996582031,-16.65087127685547,4.452840805053711,3.548555612564087,-25.476993560791016,13.172892570495605,55.231040954589844,8.741802215576172,-34.542781829833984,23.20848846435547,-44.19369888305664,-37.47161865234375,40.70160675048828,48.8536491394043,-31.62953758239746,-18.496788024902344,-33.57709503173828,-7.947738170623779,24.62196922302246,35.88451385498047,48.692657470703125,-46.97396469116211,13.255794525146484,11.243705749511719,4.727348804473877,-9.561511993408203,0.5089378356933594,-16.925830841064453,55.90706253051758,-24.474388122558594,-6.03957462310791,14.081759452819824,-21.63180923461914,-15.874346733093262,-18.547698974609375,-20.549694061279297,16.808961868286133,-42.96688461303711,-32.561580657958984,29.64622688293457,1.728249430656433,57.072288513183594,8.647163391113281,-5.393595218658447,-33.450897216796875,-32.375938415527344,12.040699005126953,9.870356559753418,-28.738323211669922,-6.628705024719238,3.701666831970215,7.233891487121582,-3.8505420684814453,9.566007614135742,-28.714548110961914,37.69736099243164,-3.823438882827759,1.0635781288146973,-47.26944351196289,50.0925407409668,31.73271369934082,-13.96239185333252,11.399062156677246,-18.77420425415039,47.59563064575195,15.349249839782715,-0.6521981358528137,-15.702463150024414,28.737680435180664,-28.636716842651367,-19.888870239257812,4.847391128540039,-10.38149642944336,45.18831253051758,54.71091079711914,20.77610206604004,-32.248802185058594,-40.22487258911133,50.75988006591797,-41.5989875793457,-24.329099655151367,-4.654078006744385,-4.026708126068115,18.38506317138672,-45.77566909790039,-3.190880537033081,15.10185432434082,61.87139129638672,32.23513412475586,-9.94320011138916,-10.354546546936035,-22.39000129699707,10.994112014770508,21.928884506225586,-12.668195724487305,18.758262634277344,12.446953773498535,-24.905431747436523,20.38184928894043,30.22108268737793,27.26627540588379,36.64030075073242,11.184808731079102,16.134178161621094,-35.45659255981445,-17.395448684692383,-37.30527114868164,10.290863990783691,-21.693666458129883,-6.9438676834106445,22.04266357421875,36.848018646240234,28.853912353515625,3.2470357418060303,-23.590768814086914,43.88561248779297,47.69448471069336,54.4417610168457,-17.527090072631836,14.751935005187988,-36.899024963378906,-8.082199096679688,-18.905534744262695,-27.267303466796875,51.60298538208008,-29.946212768554688,13.963027954101562,13.19021987915039,-9.289780616760254,-34.97787857055664,-12.85507869720459,10.065241813659668,-12.614848136901855,-16.58602523803711,-32.42803192138672,-33.343894958496094,15.164825439453125,-39.295082092285156,-31.472097396850586,-15.45443058013916,15.282987594604492,-27.64583969116211,16.501548767089844,6.972797870635986,26.07350730895996,-16.18641471862793,-25.223373413085938,48.22755813598633,-11.809782028198242,-20.76080894470215,-33.54206848144531,6.1661763191223145,-24.45625877380371,-2.4762842655181885,15.982906341552734,-1.4498491287231445,10.559073448181152,19.75351905822754,0.6077585220336914,-4.472692012786865,-43.997032165527344,23.24924087524414,22.308887481689453,-32.8751335144043,-17.4088134765625,-32.74592590332031,26.730228424072266,-18.968372344970703,-33.879600524902344,-22.389684677124023,47.17112350463867,21.745031356811523,26.75000762939453,-2.3124940395355225,11.447301864624023,20.68195152282715,48.80411911010742,-2.30169677734375,0.020483527332544327,38.26291275024414,-3.782085657119751,23.590805053710938,17.50679588317871,19.676420211791992,13.77209758758545,-13.348932266235352,-15.356017112731934,-36.37512969970703,10.10507869720459,51.511329650878906,-25.25124740600586,9.824572563171387,15.710545539855957,46.91025924682617,-13.730290412902832,-12.518714904785156,-0.7898770570755005,-28.203649520874023,22.36168670654297,8.249829292297363,-41.309261322021484,13.902219772338867,-18.281278610229492,15.786947250366211,-30.455875396728516,54.96763229370117,-46.54878616333008,2.2217633724212646,-3.6418216228485107,9.37893295288086,51.63317108154297,27.643959045410156,9.976842880249023,-40.985206604003906,49.627662658691406,-24.933908462524414,19.905929565429688,54.162437438964844,22.961397171020508,-47.37602615356445,-22.61583709716797,26.5096492767334,32.30249786376953,-3.0618736743927,14.57578182220459,14.074644088745117,7.369322299957275,2.25011944770813,17.6021671295166,-47.04286193847656,8.55516529083252,6.134296417236328,8.405820846557617,4.621201992034912,-37.15826416015625,-3.355597972869873,25.22850799560547,-37.06354522705078,-26.92445945739746,-32.41136169433594,-8.211047172546387,-29.347471237182617,2.5795810222625732,21.2663631439209,-17.75726890563965,50.9035530090332,-40.61277770996094,17.953720092773438,-12.15242862701416,49.188720703125,0.13085071742534637,17.226106643676758,-25.396162033081055,16.233036041259766,-27.52771759033203,-6.42171573638916,-38.86371612548828,29.680343627929688,-25.912551879882812,52.65018844604492,23.699796676635742,-31.782258987426758,-19.57697296142578,-41.602149963378906,-16.439292907714844,54.724456787109375,-35.792808532714844,-6.585567951202393,-28.58623695373535,-20.436067581176758,-19.493961334228516,0.9464529752731323,-47.2210693359375,-10.560468673706055,12.58967113494873,36.70152282714844,-15.201203346252441,6.090273857116699,8.85686206817627,-13.779157638549805,-38.715118408203125,24.041610717773438,17.190345764160156,-28.741275787353516,20.22501564025879,-29.2359676361084,-2.706409454345703,27.84271812438965,7.721888065338135,11.541650772094727,-28.00071907043457,-21.35005760192871,5.516878128051758,26.3727970123291,-23.98261260986328,40.62062454223633,-24.554351806640625,-44.89944839477539,28.168100357055664,-25.84716033935547,-32.78431701660156,-27.14139747619629,-19.792724609375,8.881379127502441,-31.765689849853516,21.361268997192383,-8.72775936126709,22.805471420288086,-34.164066314697266,12.773298263549805,-24.241416931152344,-18.797245025634766,3.0674381256103516,2.6696603298187256,-38.56377410888672,-25.104145050048828,-15.167563438415527,11.427839279174805,47.28581237792969,21.095134735107422,53.62250900268555,11.974649429321289,26.272064208984375,18.92799949645996,-8.244831085205078,-13.187178611755371,48.346839904785156,-29.690336227416992,-4.176916122436523,21.095718383789062,-26.504356384277344,-33.319129943847656,-30.68195915222168,-13.347275733947754,-1.1839807033538818,45.6130256652832,-14.461533546447754,15.002765655517578,-13.4681978225708,-40.46608352661133,8.519387245178223,-39.10331726074219,28.10401153564453,-21.684968948364258,3.4918673038482666,-27.391220092773438,-26.198020935058594,48.736915588378906,26.196813583374023,-5.754119873046875,-23.475509643554688,-27.936059951782227,9.849860191345215,-15.36058521270752,-41.50531005859375,19.448617935180664,6.710097789764404,30.831544876098633,-16.37722396850586,-16.083620071411133,12.494861602783203,16.81800651550293,-27.39653205871582,26.7486572265625,-41.02977752685547,26.54003143310547,-32.69371795654297,-1.8527202606201172,26.642017364501953,-27.465951919555664,12.633136749267578,-5.963516712188721,-29.453628540039062,-25.466154098510742,-28.41896629333496,-4.741633892059326,6.44911527633667,50.11112594604492,3.1762192249298096,12.33991527557373,-38.23907470703125,0.4339011013507843,-39.28187942504883,-30.965843200683594,-38.50941467285156,24.840957641601562,0.3587142825126648,-15.311678886413574,-17.057849884033203,-3.0992462635040283,8.921546936035156,-24.829906463623047,-3.7582006454467773,17.850540161132812,8.995576858520508,-29.937162399291992,18.422266006469727,47.89922332763672,12.245732307434082,-26.737865447998047,-16.06954574584961,9.846871376037598,-10.979551315307617,2.1409788131713867,20.003765106201172,20.884477615356445,26.69672393798828,-22.492366790771484,-22.741436004638672,-5.284416675567627,-18.089601516723633,-4.707848072052002,-5.581689834594727,-40.15416717529297,45.547794342041016,22.917850494384766,-47.49713897705078,-2.369917631149292,19.49285888671875,2.727785110473633,22.207416534423828,-5.432818412780762,-27.972267150878906,-20.742074966430664,26.476964950561523,-8.93707275390625,-24.581050872802734,3.4678804874420166,-19.22406768798828,-2.069071054458618,-27.626787185668945,39.73515701293945,-4.402460098266602,-8.418249130249023,-16.795024871826172,-3.4534785747528076,5.4055094718933105,-13.117987632751465,-3.0204739570617676,-43.93828201293945,-32.212059020996094,-42.54109573364258,12.310493469238281,-0.27753692865371704,2.063692808151245,-37.76382064819336,-47.19793701171875,25.926485061645508,11.309041976928711,25.905183792114258,53.29563522338867,-31.993389129638672,57.76103591918945,-21.53817367553711,5.744642734527588,-35.69193649291992,30.118104934692383,29.022075653076172,24.01801300048828,-31.37320327758789,21.2999267578125,-4.500729560852051,-35.62616729736328,21.162189483642578,-44.34477996826172,13.460607528686523,5.179987907409668,-10.272607803344727,1.537723183631897,-41.087642669677734,26.70812225341797,-14.702872276306152,15.133118629455566,-16.14710235595703,27.346643447875977,21.57386589050293,-0.21044187247753143,-10.057746887207031,13.496932983398438,-6.749844551086426,50.220184326171875,-14.904520034790039,1.0149542093276978,-18.989086151123047,-35.603614807128906,28.160377502441406,19.29964256286621,-46.747798919677734,-18.217084884643555,-22.91431999206543,21.243501663208008,-8.091352462768555,1.5969974994659424,27.40428352355957,-33.405609130859375,17.655380249023438,17.08133888244629,7.48912239074707,54.86195755004883,30.66221809387207,10.630828857421875,-14.55652904510498,-13.145303726196289,-43.376625061035156,-39.59780502319336,-43.85917282104492,29.477155685424805,0.5709990859031677,-15.30716609954834,21.597822189331055,-17.541305541992188,50.9167366027832,12.719717979431152,18.979963302612305,-42.40031051635742,6.507327556610107,-4.516807556152344,-2.619464874267578,6.2709269523620605,15.433710098266602,49.60833740234375,-29.792701721191406,53.151981353759766,7.509527206420898,21.0874080657959,55.983646392822266,-7.591926097869873,-24.29221534729004,11.408915519714355,7.982294082641602,-17.310565948486328,-31.076946258544922,11.741382598876953,42.96006774902344,-23.326309204101562,43.263221740722656,22.050058364868164,-50.162353515625,-11.91604232788086,1.7501986026763916,-37.80115509033203,26.63239097595215,-7.992401123046875,21.072608947753906,-16.614961624145508,10.426078796386719,-16.687631607055664,50.27167892456055,9.270546913146973,30.519813537597656,22.971101760864258,13.303070068359375,3.7030441761016846,14.547348022460938,3.0255560874938965,55.272945404052734,-30.45057487487793,20.12854766845703,10.433506965637207,7.056965351104736,15.594759941101074,-29.469982147216797,-1.197536587715149,45.91223907470703,-24.783376693725586,-34.184932708740234,-46.82212829589844,-3.426560401916504,-29.26919174194336,37.70205307006836,23.43108558654785,-18.330249786376953,-1.1153523921966553,13.86295223236084,29.22795867919922,-8.953585624694824,-28.67243003845215,50.35676193237305,-28.584972381591797,25.93222427368164,-0.34586215019226074,52.54001235961914,-3.6616241931915283,-46.497779846191406,5.065168857574463,12.33338737487793,58.175941467285156,-15.985498428344727,-25.303953170776367,-20.30596351623535,11.778962135314941,26.51494598388672,-6.000006675720215,11.325124740600586,0.9743525385856628,14.23396110534668,-33.203147888183594,-29.410093307495117,26.262605667114258,-10.558674812316895,28.52202796936035,47.302433013916016,56.117984771728516,-15.74494743347168,22.422863006591797,14.332714080810547,-16.057329177856445,-8.940685272216797,40.39540100097656,47.738773345947266,52.51444625854492,-37.39287567138672,-16.899559020996094,19.836654663085938,-16.41312026977539,-16.218402862548828,-33.61566925048828,-9.015737533569336,-32.232093811035156,4.284774303436279,34.99419021606445,49.92487335205078,-18.315261840820312,6.914916038513184,6.370555400848389,40.13451385498047,20.579496383666992,-21.506412506103516,-17.94679832458496,13.328906059265137,8.068682670593262,4.325016975402832,6.207208156585693,58.07980728149414,-43.33510971069336,18.129121780395508,-16.957670211791992,31.467239379882812,9.915240287780762,-45.40562057495117,3.1812729835510254,26.987836837768555,11.781815528869629,-30.387697219848633,-21.880170822143555,-31.736122131347656,23.1717529296875,27.821033477783203,35.01240158081055,-21.8933162689209,-6.444233417510986,8.760133743286133,-2.9842066764831543,8.735898971557617,26.80354881286621,23.083581924438477,-32.76889419555664,16.15485191345215,35.5586051940918,24.28709602355957,-29.47585678100586,22.297773361206055,-37.14665603637695,24.704299926757812,19.137022018432617,-12.775968551635742,29.907865524291992,-27.003219604492188,-19.96346664428711,-44.977970123291016,26.870925903320312,-29.886005401611328,-37.53147888183594,1.612498164176941,20.376079559326172,-28.664838790893555,5.731858730316162,-42.558631896972656,-17.466083526611328,9.175808906555176,53.38161087036133,27.753801345825195,11.542037963867188,-31.320951461791992,-20.236513137817383,-23.08292579650879,54.507667541503906,-4.9420928955078125,-41.156089782714844,46.69948959350586,-20.90272331237793,12.20287036895752,-30.535722732543945,-28.804977416992188,25.026824951171875,-35.863372802734375,6.569108486175537,-15.369104385375977,24.879108428955078,32.33004379272461,-35.31231689453125,7.9458818435668945,-7.915119647979736,-23.629257202148438,9.590554237365723,17.69171905517578,8.060113906860352,25.286266326904297,25.64942169189453,-3.9453237056732178,-6.3562846183776855,5.48075532913208,-28.36474609375,-44.85651397705078,27.41324234008789,-47.31398010253906,18.280757904052734,-9.768890380859375,21.71583366394043,-19.51280403137207,-43.01551055908203,-17.08331298828125,-15.45540714263916,-35.79898452758789,34.82011413574219,-7.432449817657471,1.7358938455581665,-21.441686630249023,6.27608585357666,-18.44057846069336,-1.8572232723236084,-9.286808967590332,16.193199157714844,20.97403907775879,50.73402404785156,13.690816879272461,53.25343704223633,48.59730529785156,18.6735897064209,33.630558013916016,39.52146911621094,-1.741752028465271,-44.73220443725586,10.859649658203125,17.327449798583984,1.8016252517700195,4.816323757171631,12.35774040222168,-33.745365142822266,8.249797821044922,-17.6817626953125,50.98810958862305,11.164244651794434,14.626130104064941,33.352169036865234,-6.835270404815674,-29.197956085205078,-30.164613723754883,23.067663192749023,52.485450744628906,9.02081298828125,-15.726106643676758,-30.34145164489746,23.30901527404785,-13.229805946350098,21.85376739501953,15.031797409057617,-47.167823791503906,-47.771636962890625,14.051502227783203,-31.745927810668945,25.064899444580078,-43.678794860839844,-37.113487243652344,-25.31155014038086,-36.67007827758789,-6.699382781982422,8.860827445983887,-1.723104476928711,21.13639259338379,-1.055000901222229,0.5308259129524231,-18.393089294433594,21.774927139282227,15.100945472717285,13.31619644165039,8.239677429199219],\"xaxis\":\"x\",\"y\":[0,1,2,3,4,5,6,7,8,9,10,11,12,13,14,15,16,17,18,19,20,21,22,23,24,25,26,27,28,29,30,31,32,33,34,35,36,37,38,39,40,41,42,43,44,45,46,47,48,49,50,51,52,53,54,55,56,57,58,59,60,61,62,63,64,65,66,67,68,69,70,71,72,73,74,75,76,77,78,79,80,81,82,83,84,85,86,87,88,89,90,91,92,93,94,95,96,97,98,99,100,101,102,103,104,105,106,107,108,109,110,111,112,113,114,115,116,117,118,119,120,121,122,123,124,125,126,127,128,129,130,131,132,133,134,135,136,137,138,139,140,141,142,143,144,145,146,147,148,149,150,151,152,153,154,155,156,157,158,159,160,161,162,163,164,165,166,167,168,169,170,171,172,173,174,175,176,177,178,179,180,181,182,183,184,185,186,187,188,189,190,191,192,193,194,195,196,197,198,199,200,201,202,203,204,205,206,207,208,209,210,211,212,213,214,215,216,217,218,219,220,221,222,223,224,225,226,227,228,229,230,231,232,233,234,235,236,237,238,239,240,241,242,243,244,245,246,247,248,249,250,251,252,253,254,255,256,257,258,259,260,261,262,263,264,265,266,267,268,269,270,271,272,273,274,275,276,277,278,279,280,281,282,283,284,285,286,287,288,289,290,291,292,293,294,295,296,297,298,299,300,301,302,303,304,305,306,307,308,309,310,311,312,313,314,315,316,317,318,319,320,321,322,323,324,325,326,327,328,329,330,331,332,333,334,335,336,337,338,339,340,341,342,343,344,345,346,347,348,349,350,351,352,353,354,355,356,357,358,359,360,361,362,363,364,365,366,367,368,369,370,371,372,373,374,375,376,377,378,379,380,381,382,383,384,385,386,387,388,389,390,391,392,393,394,395,396,397,398,399,400,401,402,403,404,405,406,407,408,409,410,411,412,413,414,415,416,417,418,419,420,421,422,423,424,425,426,427,428,429,430,431,432,433,434,435,436,437,438,439,440,441,442,443,444,445,446,447,448,449,450,451,452,453,454,455,456,457,458,459,460,461,462,463,464,465,466,467,468,469,470,471,472,473,474,475,476,477,478,479,480,481,482,483,484,485,486,487,488,489,490,491,492,493,494,495,496,497,498,499,500,501,502,503,504,505,506,507,508,509,510,511,512,513,514,515,516,517,518,519,520,521,522,523,524,525,526,527,528,529,530,531,532,533,534,535,536,537,538,539,540,541,542,543,544,545,546,547,548,549,550,551,552,553,554,555,556,557,558,559,560,561,562,563,564,565,566,567,568,569,570,571,572,573,574,575,576,577,578,579,580,581,582,583,584,585,586,587,588,589,590,591,592,593,594,595,596,597,598,599,600,601,602,603,604,605,606,607,608,609,610,611,612,613,614,615,616,617,618,619,620,621,622,623,624,625,626,627,628,629,630,631,632,633,634,635,636,637,638,639,640,641,642,643,644,645,646,647,648,649,650,651,652,653,654,655,656,657,658,659,660,661,662,663,664,665,666,667,668,669,670,671,672,673,674,675,676,677,678,679,680,681,682,683,684,685,686,687,688,689,690,691,692,693,694,695,696,697,698,699,700,701,702,703,704,705,706,707,708,709,710,711,712,713,714,715,716,717,718,719,720,721,722,723,724,725,726,727,728,729,730,731,732,733,734,735,736,737,738,739,740,741,742,743,744,745,746,747,748,749,750,751,752,753,754,755,756,757,758,759,760,761,762,763,764,765,766,767,768,769,770,771,772,773,774,775,776,777,778,779,780,781,782,783,784,785,786,787,788,789,790,791,792,793,794,795,796,797,798,799,800,801,802,803,804,805,806,807,808,809,810,811,812,813,814,815,816,817,818,819,820,821,822,823,824,825,826,827,828,829,830,831,832,833,834,835,836,837,838,839,840,841,842,843,844,845,846,847,848,849,850,851,852,853,854,855,856,857,858,859,860,861,862,863,864,865,866,867,868,869,870,871,872,873,874,875,876,877,878,879,880,881,882,883,884,885,886,887,888,889,890,891,892,893,894,895,896,897,898,899,900,901,902,903,904,905,906,907,908,909,910,911,912,913,914,915,916,917,918,919,920,921,922,923,924,925,926,927,928,929,930,931,932,933,934,935,936,937,938,939,940,941,942,943,944,945,946,947,948,949,950,951,952,953,954,955,956,957,958,959,960,961,962,963,964,965,966,967,968,969,970,971,972,973,974,975,976,977,978,979,980,981,982,983,984,985,986,987,988,989,990,991,992,993,994,995,996,997,998,999,1000,1001,1002,1003,1004,1005,1006,1007,1008,1009,1010,1011,1012,1013,1014,1015,1016,1017,1018,1019,1020,1021,1022,1023,1024,1025,1026,1027,1028,1029,1030,1031,1032,1033,1034,1035,1036,1037,1038,1039,1040,1041,1042,1043,1044,1045,1046,1047,1048,1049,1050,1051,1052,1053,1054,1055,1056,1057,1058,1059,1060,1061,1062,1063,1064,1065,1066,1067,1068,1069,1070,1071,1072,1073,1074,1075,1076,1077,1078,1079,1080,1081,1082,1083,1084,1085,1086,1087,1088,1089,1090,1091,1092,1093,1094,1095,1096,1097,1098,1099,1100,1101,1102,1103,1104,1105,1106,1107,1108,1109,1110,1111,1112,1113,1114,1115,1116,1117,1118,1119,1120,1121,1122,1123,1124,1125,1126,1127,1128,1129,1130,1131,1132,1133,1134,1135,1136,1137,1138,1139,1140,1141,1142,1143,1144,1145,1146,1147,1148,1149,1150,1151,1152,1153,1154,1155,1156,1157,1158,1159,1160,1161,1162,1163,1164,1165,1166,1167,1168,1169,1170,1171,1172,1173,1174,1175,1176,1177,1178,1179,1180,1181,1182,1183,1184,1185,1186,1187,1188,1189,1190,1191,1192,1193,1194,1195,1196,1197,1198,1199,1200,1201,1202,1203,1204,1205,1206,1207,1208,1209,1210,1211,1212,1213,1214,1215,1216,1217,1218,1219,1220,1221,1222,1223,1224,1225,1226,1227,1228,1229,1230,1231,1232,1233,1234,1235,1236,1237,1238,1239,1240,1241,1242,1243,1244,1245,1246,1247,1248,1249,1250,1251,1252,1253,1254,1255,1256,1257,1258,1259,1260,1261,1262,1263,1264,1265,1266,1267,1268,1269,1270,1271,1272,1273,1274,1275,1276,1277,1278,1279,1280,1281,1282,1283,1284,1285,1286,1287,1288,1289,1290,1291,1292,1293,1294,1295,1296,1297,1298,1299,1300,1301,1302,1303,1304,1305,1306,1307,1308,1309,1310,1311,1312,1313,1314,1315,1316,1317,1318,1319,1320,1321,1322,1323,1324,1325,1326,1327,1328,1329,1330,1331,1332,1333,1334,1335,1336,1337,1338,1339,1340,1341,1342,1343,1344,1345,1346,1347,1348,1349,1350,1351,1352,1353,1354,1355,1356,1357,1358,1359,1360,1361,1362,1363,1364,1365,1366,1367,1368,1369,1370,1371,1372,1373,1374,1375,1376,1377,1378,1379,1380,1381,1382,1383,1384,1385,1386,1387,1388,1389,1390,1391,1392,1393,1394,1395,1396,1397,1398,1399,1400,1401,1402,1403,1404,1405,1406,1407,1408,1409,1410,1411,1412,1413,1414,1415,1416,1417,1418,1419,1420,1421,1422,1423,1424,1425,1426,1427,1428,1429,1430,1431,1432,1433,1434,1435,1436,1437,1438,1439,1440,1441,1442,1443,1444,1445,1446,1447,1448,1449,1450,1451,1452,1453,1454,1455,1456,1457,1458,1459,1460,1461,1462,1463,1464,1465,1466,1467,1468,1469,1470,1471,1472,1473,1474,1475,1476,1477,1478,1479,1480,1481,1482,1483,1484,1485,1486,1487,1488,1489,1490,1491,1492,1493,1494,1495,1496,1497,1498,1499,1500,1501,1502,1503,1504,1505,1506,1507,1508,1509,1510,1511,1512,1513,1514,1515,1516,1517,1518,1519,1520,1521,1522,1523,1524,1525,1526,1527,1528,1529,1530,1531,1532,1533,1534,1535,1536,1537,1538,1539,1540,1541,1542,1543,1544,1545,1546,1547,1548,1549,1550,1551,1552,1553,1554,1555,1556,1557,1558,1559,1560,1561,1562,1563,1564,1565,1566,1567,1568,1569,1570,1571,1572,1573,1574,1575,1576,1577,1578,1579,1580,1581,1582,1583,1584,1585,1586,1587,1588,1589,1590,1591,1592,1593,1594,1595,1596,1597,1598,1599,1600,1601,1602,1603,1604,1605,1606,1607,1608,1609,1610,1611,1612,1613,1614,1615,1616,1617,1618,1619,1620,1621,1622,1623,1624,1625,1626,1627,1628,1629,1630,1631,1632,1633,1634,1635,1636,1637,1638,1639,1640,1641,1642,1643,1644,1645,1646,1647,1648,1649,1650,1651,1652,1653,1654,1655,1656,1657,1658,1659,1660,1661,1662,1663,1664,1665,1666,1667,1668,1669,1670,1671,1672,1673,1674,1675,1676,1677,1678,1679,1680,1681,1682,1683,1684,1685,1686,1687,1688,1689,1690,1691,1692,1693,1694,1695,1696,1697,1698,1699,1700,1701,1702,1703,1704,1705,1706,1707,1708,1709,1710,1711,1712,1713,1714,1715,1716,1717,1718,1719,1720,1721,1722,1723,1724,1725,1726,1727,1728,1729,1730,1731,1732,1733,1734,1735,1736,1737,1738,1739,1740,1741,1742,1743,1744,1745,1746,1747,1748,1749,1750,1751,1752,1753,1754,1755,1756,1757,1758,1759,1760,1761,1762,1763,1764,1765,1766,1767,1768,1769,1770,1771,1772,1773,1774,1775,1776,1777,1778,1779,1780,1781,1782,1783,1784,1785,1786,1787,1788,1789,1790,1791,1792,1793,1794,1795,1796,1797,1798,1799,1800,1801,1802,1803,1804,1805,1806,1807,1808,1809,1810,1811,1812,1813,1814,1815,1816,1817,1818,1819,1820,1821,1822,1823,1824,1825,1826,1827,1828,1829,1830,1831,1832,1833,1834,1835,1836,1837,1838,1839,1840,1841,1842,1843,1844,1845,1846,1847,1848,1849,1850,1851,1852,1853,1854,1855,1856,1857,1858,1859,1860,1861,1862,1863,1864,1865,1866,1867,1868,1869,1870,1871,1872,1873,1874,1875,1876,1877,1878,1879,1880,1881,1882,1883,1884,1885,1886,1887,1888,1889,1890,1891,1892,1893,1894,1895,1896,1897,1898,1899,1900,1901,1902,1903,1904,1905,1906,1907,1908,1909,1910,1911,1912,1913,1914,1915,1916,1917,1918,1919,1920,1921,1922,1923,1924,1925,1926,1927,1928,1929,1930,1931,1932,1933,1934,1935,1936,1937,1938,1939,1940,1941,1942,1943,1944,1945,1946,1947,1948,1949,1950,1951,1952,1953,1954,1955,1956,1957,1958,1959,1960,1961,1962,1963,1964,1965,1966,1967,1968,1969,1970,1971,1972,1973,1974,1975,1976,1977,1978,1979,1980,1981,1982,1983,1984,1985,1986,1987,1988,1989,1990,1991,1992,1993,1994,1995,1996,1997,1998,1999,2000,2001,2002,2003,2004,2005,2006,2007,2008,2009,2010,2011,2012,2013,2014,2015,2016,2017,2018,2019,2020,2021,2022,2023,2024,2025,2026,2027,2028,2029,2030,2031,2032,2033,2034,2035,2036,2037,2038,2039,2040,2041,2042,2043,2044,2045,2046,2047,2048,2049,2050,2051,2052,2053,2054,2055,2056,2057,2058,2059,2060,2061,2062,2063,2064,2065,2066,2067,2068,2069,2070,2071,2072,2073,2074,2075,2076,2077,2078,2079,2080,2081,2082,2083,2084,2085,2086,2087,2088,2089,2090,2091,2092,2093,2094,2095,2096,2097,2098,2099,2100,2101,2102,2103,2104,2105,2106,2107,2108,2109,2110,2111,2112,2113,2114,2115,2116,2117,2118,2119,2120,2121,2122,2123,2124,2125,2126,2127,2128,2129,2130,2131,2132,2133,2134,2135,2136,2137,2138,2139,2140,2141,2142,2143,2144,2145,2146,2147,2148,2149,2150,2151,2152,2153,2154,2155,2156,2157,2158,2159,2160,2161,2162,2163,2164,2165,2166,2167,2168,2169,2170,2171,2172,2173,2174,2175,2176,2177,2178,2179,2180,2181,2182,2183,2184,2185,2186,2187,2188,2189,2190,2191,2192,2193,2194,2195,2196,2197,2198,2199,2200,2201,2202,2203,2204,2205,2206,2207,2208,2209,2210,2211,2212,2213,2214,2215,2216,2217,2218,2219,2220,2221,2222,2223,2224,2225,2226,2227,2228,2229,2230,2231,2232,2233,2234,2235,2236,2237,2238,2239,2240,2241,2242,2243,2244,2245,2246,2247,2248,2249,2250,2251,2252,2253,2254,2255,2256,2257,2258,2259,2260,2261,2262,2263,2264,2265,2266,2267,2268,2269,2270,2271,2272,2273,2274,2275,2276,2277,2278,2279,2280,2281,2282,2283,2284,2285,2286,2287,2288,2289,2290,2291,2292,2293,2294,2295,2296,2297,2298,2299,2300,2301,2302,2303,2304,2305,2306,2307,2308,2309,2310,2311,2312,2313,2314,2315,2316,2317,2318,2319,2320,2321,2322,2323,2324,2325,2326,2327,2328,2329,2330,2331,2332,2333,2334,2335,2336,2337,2338,2339,2340,2341,2342,2343,2344,2345,2346,2347,2348,2349,2350,2351,2352,2353,2354,2355,2356,2357,2358,2359,2360,2361,2362,2363,2364,2365,2366,2367,2368,2369,2370,2371,2372,2373,2374,2375,2376,2377,2378,2379,2380,2381,2382,2383,2384,2385,2386,2387,2388,2389,2390,2391,2392,2393,2394,2395,2396,2397,2398,2399,2400,2401,2402,2403,2404,2405,2406,2407,2408,2409,2410,2411,2412,2413,2414,2415,2416,2417,2418,2419,2420,2421,2422,2423,2424,2425,2426,2427,2428,2429,2430,2431,2432,2433,2434,2435,2436,2437,2438,2439,2440,2441,2442,2443,2444,2445,2446,2447,2448,2449,2450,2451,2452,2453,2454,2455,2456,2457,2458,2459,2460,2461,2462,2463,2464,2465,2466,2467,2468,2469,2470,2471,2472,2473,2474,2475,2476,2477,2478,2479,2480,2481,2482,2483,2484,2485,2486,2487,2488,2489,2490,2491,2492,2493,2494,2495,2496,2497,2498,2499,2500,2501,2502,2503,2504,2505,2506,2507,2508,2509,2510,2511,2512,2513,2514,2515,2516,2517,2518,2519,2520,2521,2522,2523,2524,2525,2526,2527,2528,2529,2530,2531,2532,2533,2534,2535,2536,2537,2538,2539,2540,2541,2542,2543,2544,2545,2546,2547,2548,2549,2550,2551,2552,2553,2554,2555,2556,2557,2558,2559,2560,2561,2562,2563,2564,2565,2566,2567,2568,2569,2570,2571,2572,2573,2574,2575,2576,2577,2578,2579,2580,2581,2582,2583,2584,2585,2586,2587,2588,2589,2590,2591,2592,2593,2594,2595,2596,2597,2598,2599,2600,2601,2602,2603,2604,2605,2606,2607,2608,2609,2610,2611,2612,2613,2614,2615,2616,2617,2618,2619,2620,2621,2622,2623,2624,2625,2626,2627,2628,2629,2630,2631,2632,2633,2634,2635,2636,2637,2638,2639,2640,2641,2642,2643,2644,2645,2646,2647,2648,2649,2650,2651,2652,2653,2654,2655,2656,2657,2658,2659,2660,2661,2662,2663,2664,2665,2666,2667,2668,2669,2670,2671,2672,2673,2674,2675,2676,2677,2678,2679,2680,2681,2682,2683,2684,2685,2686,2687,2688,2689,2690,2691,2692,2693,2694,2695,2696,2697,2698,2699,2700,2701,2702,2703,2704,2705,2706,2707,2708,2709,2710,2711,2712,2713,2714,2715,2716,2717,2718,2719,2720,2721,2722,2723,2724,2725,2726,2727,2728,2729,2730,2731,2732,2733,2734,2735,2736,2737,2738,2739,2740,2741,2742,2743,2744,2745,2746,2747,2748,2749,2750,2751,2752,2753,2754,2755,2756,2757,2758,2759,2760,2761,2762,2763,2764,2765,2766,2767,2768,2769,2770,2771,2772,2773,2774,2775,2776,2777,2778,2779,2780,2781,2782,2783,2784,2785,2786,2787,2788,2789,2790,2791,2792,2793,2794,2795,2796,2797,2798,2799,2800,2801,2802,2803,2804,2805,2806,2807,2808,2809,2810,2811,2812,2813,2814,2815,2816,2817,2818,2819,2820,2821,2822,2823,2824,2825,2826,2827,2828,2829,2830,2831,2832,2833,2834,2835,2836,2837,2838,2839,2840,2841,2842,2843,2844,2845,2846,2847,2848,2849,2850,2851,2852,2853,2854,2855,2856,2857,2858,2859,2860,2861,2862,2863,2864,2865,2866,2867,2868,2869,2870,2871,2872,2873,2874,2875,2876,2877,2878,2879,2880,2881,2882,2883,2884,2885,2886,2887,2888,2889,2890,2891,2892,2893,2894,2895,2896,2897,2898,2899,2900,2901,2902,2903,2904,2905,2906,2907,2908,2909,2910,2911,2912,2913,2914,2915,2916,2917,2918,2919,2920,2921,2922,2923,2924,2925,2926,2927,2928,2929,2930,2931,2932,2933,2934,2935,2936,2937,2938,2939,2940,2941,2942,2943,2944,2945,2946,2947,2948,2949,2950,2951,2952,2953,2954,2955,2956,2957,2958,2959,2960,2961,2962,2963,2964,2965,2966,2967,2968,2969,2970,2971,2972,2973,2974,2975,2976,2977,2978,2979,2980,2981,2982,2983,2984,2985,2986,2987,2988,2989,2990,2991,2992,2993,2994,2995,2996,2997,2998,2999,3000,3001,3002,3003,3004,3005,3006,3007,3008,3009,3010,3011,3012,3013,3014,3015,3016,3017,3018,3019,3020,3021,3022,3023,3024,3025,3026,3027,3028,3029,3030,3031,3032,3033,3034,3035,3036,3037,3038,3039,3040,3041,3042,3043,3044,3045,3046,3047,3048,3049,3050,3051,3052,3053,3054,3055,3056,3057,3058,3059,3060,3061,3062,3063,3064,3065,3066,3067,3068,3069,3070,3071,3072,3073,3074,3075,3076,3077,3078,3079,3080,3081,3082,3083,3084,3085,3086,3087,3088,3089,3090,3091,3092,3093,3094,3095,3096,3097,3098,3099,3100,3101,3102,3103,3104,3105,3106,3107,3108,3109,3110,3111,3112,3113,3114,3115,3116,3117,3118,3119,3120,3121,3122,3123,3124,3125,3126,3127,3128,3129,3130,3131,3132,3133,3134,3135,3136,3137,3138,3139,3140,3141,3142,3143,3144,3145,3146,3147,3148,3149,3150,3151,3152,3153,3154,3155,3156,3157,3158,3159,3160,3161,3162,3163,3164,3165,3166,3167,3168,3169,3170,3171,3172,3173,3174,3175,3176,3177,3178,3179,3180,3181,3182,3183,3184,3185,3186,3187,3188,3189,3190,3191,3192,3193,3194,3195,3196,3197,3198,3199,3200,3201,3202,3203,3204,3205,3206,3207,3208,3209,3210,3211,3212,3213,3214,3215,3216,3217,3218,3219,3220,3221,3222,3223,3224,3225,3226,3227,3228,3229,3230,3231,3232,3233,3234,3235,3236,3237,3238,3239,3240,3241,3242,3243,3244,3245,3246,3247,3248,3249,3250,3251,3252,3253,3254,3255,3256,3257,3258,3259,3260,3261,3262,3263,3264,3265,3266,3267,3268,3269,3270,3271,3272,3273,3274,3275,3276,3277,3278,3279,3280,3281,3282,3283,3284,3285,3286,3287,3288,3289,3290,3291,3292,3293,3294,3295,3296,3297,3298,3299,3300,3301,3302,3303,3304,3305,3306,3307,3308,3309,3310,3311,3312,3313,3314,3315,3316,3317,3318,3319,3320,3321,3322,3323,3324,3325,3326,3327,3328,3329,3330,3331,3332,3333,3334,3335,3336,3337,3338,3339,3340,3341,3342,3343,3344,3345,3346,3347,3348,3349,3350,3351,3352,3353,3354,3355,3356,3357,3358,3359,3360,3361,3362,3363,3364,3365,3366,3367,3368,3369,3370,3371,3372,3373,3374,3375,3376,3377,3378,3379,3380,3381,3382,3383,3384,3385,3386,3387,3388,3389,3390,3391,3392,3393,3394,3395,3396,3397,3398,3399,3400,3401,3402,3403,3404,3405,3406,3407,3408,3409,3410,3411,3412,3413,3414,3415,3416,3417,3418,3419,3420,3421,3422,3423,3424,3425,3426,3427,3428,3429,3430,3431,3432,3433,3434,3435,3436,3437,3438,3439,3440,3441,3442,3443,3444,3445,3446,3447,3448,3449,3450,3451,3452,3453,3454,3455,3456,3457,3458,3459,3460,3461,3462,3463,3464,3465,3466,3467,3468,3469,3470,3471,3472,3473,3474,3475,3476,3477,3478,3479,3480,3481,3482,3483,3484,3485,3486,3487,3488,3489,3490,3491,3492,3493,3494,3495,3496,3497,3498,3499,3500,3501,3502,3503,3504,3505,3506,3507,3508,3509,3510,3511,3512,3513,3514,3515,3516,3517,3518,3519,3520,3521,3522,3523,3524,3525,3526,3527,3528,3529,3530,3531,3532,3533,3534,3535,3536,3537,3538,3539,3540,3541,3542,3543,3544,3545,3546,3547,3548,3549,3550,3551,3552,3553,3554,3555,3556,3557,3558,3559,3560,3561,3562,3563,3564,3565,3566,3567,3568,3569,3570,3571,3572,3573,3574,3575,3576,3577,3578,3579,3580,3581,3582,3583,3584,3585,3586,3587,3588,3589,3590,3591,3592,3593,3594,3595,3596,3597,3598,3599,3600,3601,3602,3603,3604,3605,3606,3607,3608,3609,3610,3611,3612,3613,3614,3615,3616,3617,3618,3619,3620,3621,3622,3623,3624,3625,3626,3627,3628,3629,3630,3631,3632,3633,3634,3635,3636,3637,3638,3639,3640,3641,3642,3643,3644,3645,3646,3647,3648,3649,3650,3651,3652,3653,3654,3655,3656,3657,3658,3659,3660,3661,3662,3663,3664,3665,3666,3667,3668,3669,3670,3671,3672,3673,3674,3675,3676,3677,3678,3679,3680,3681,3682,3683,3684,3685,3686,3687,3688,3689,3690,3691,3692,3693,3694,3695,3696,3697,3698,3699,3700,3701,3702,3703,3704,3705,3706,3707,3708,3709,3710,3711,3712,3713,3714,3715,3716,3717,3718,3719,3720,3721,3722,3723,3724,3725,3726,3727,3728,3729,3730,3731,3732,3733,3734,3735,3736,3737,3738,3739,3740,3741,3742,3743,3744,3745,3746,3747,3748,3749,3750,3751,3752,3753,3754,3755,3756,3757,3758,3759,3760,3761,3762,3763,3764,3765,3766,3767,3768,3769,3770,3771,3772,3773,3774,3775,3776,3777,3778,3779,3780,3781,3782,3783,3784,3785,3786,3787,3788,3789,3790,3791,3792,3793,3794,3795,3796,3797,3798,3799,3800,3801,3802,3803,3804,3805,3806,3807,3808,3809,3810,3811,3812,3813,3814,3815,3816,3817,3818,3819,3820,3821,3822,3823,3824,3825,3826,3827,3828,3829,3830,3831,3832,3833,3834,3835,3836,3837,3838,3839,3840,3841,3842,3843,3844,3845,3846,3847,3848,3849,3850,3851,3852,3853,3854,3855,3856,3857,3858,3859,3860,3861,3862,3863,3864,3865,3866,3867,3868,3869,3870,3871,3872,3873,3874,3875,3876,3877,3878,3879,3880,3881,3882,3883,3884,3885,3886,3887,3888,3889,3890,3891,3892,3893,3894,3895,3896,3897,3898,3899,3900,3901,3902,3903,3904,3905,3906,3907,3908,3909,3910,3911,3912,3913,3914,3915,3916,3917,3918,3919,3920,3921,3922,3923,3924,3925,3926,3927,3928,3929,3930,3931,3932,3933,3934,3935,3936,3937,3938,3939,3940,3941,3942,3943,3944,3945,3946,3947,3948,3949,3950,3951,3952,3953,3954,3955,3956,3957,3958,3959,3960,3961,3962,3963,3964,3965,3966,3967,3968,3969,3970,3971,3972,3973,3974,3975,3976,3977,3978,3979,3980,3981,3982,3983,3984,3985,3986,3987,3988,3989,3990,3991,3992,3993,3994,3995,3996,3997,3998,3999,4000,4001,4002,4003,4004,4005,4006,4007,4008,4009,4010,4011,4012,4013,4014,4015,4016,4017,4018,4019,4020,4021,4022,4023,4024,4025,4026,4027,4028,4029,4030,4031,4032,4033,4034,4035,4036,4037,4038,4039,4040,4041,4042,4043,4044,4045,4046,4047,4048,4049,4050,4051,4052,4053,4054,4055,4056,4057,4058,4059,4060,4061,4062,4063,4064,4065,4066,4067,4068,4069,4070,4071,4072,4073,4074,4075,4076,4077,4078,4079,4080,4081,4082,4083,4084,4085,4086,4087,4088,4089,4090,4091,4092,4093,4094,4095,4096,4097,4098,4099,4100,4101,4102,4103,4104,4105,4106,4107,4108,4109,4110,4111,4112,4113,4114,4115,4116,4117,4118,4119,4120,4121,4122,4123,4124,4125,4126,4127,4128,4129,4130,4131,4132,4133,4134,4135,4136,4137,4138,4139,4140,4141,4142,4143,4144,4145,4146,4147,4148,4149,4150,4151,4152,4153,4154,4155,4156,4157,4158,4159,4160,4161,4162,4163,4164,4165,4166,4167,4168,4169,4170,4171,4172,4173,4174,4175,4176,4177,4178,4179,4180,4181,4182,4183,4184,4185,4186,4187,4188,4189,4190,4191,4192,4193,4194,4195,4196,4197,4198,4199],\"yaxis\":\"y\",\"type\":\"scattergl\"}],                        {\"template\":{\"data\":{\"histogram2dcontour\":[{\"type\":\"histogram2dcontour\",\"colorbar\":{\"outlinewidth\":0,\"ticks\":\"\"},\"colorscale\":[[0.0,\"#0d0887\"],[0.1111111111111111,\"#46039f\"],[0.2222222222222222,\"#7201a8\"],[0.3333333333333333,\"#9c179e\"],[0.4444444444444444,\"#bd3786\"],[0.5555555555555556,\"#d8576b\"],[0.6666666666666666,\"#ed7953\"],[0.7777777777777778,\"#fb9f3a\"],[0.8888888888888888,\"#fdca26\"],[1.0,\"#f0f921\"]]}],\"choropleth\":[{\"type\":\"choropleth\",\"colorbar\":{\"outlinewidth\":0,\"ticks\":\"\"}}],\"histogram2d\":[{\"type\":\"histogram2d\",\"colorbar\":{\"outlinewidth\":0,\"ticks\":\"\"},\"colorscale\":[[0.0,\"#0d0887\"],[0.1111111111111111,\"#46039f\"],[0.2222222222222222,\"#7201a8\"],[0.3333333333333333,\"#9c179e\"],[0.4444444444444444,\"#bd3786\"],[0.5555555555555556,\"#d8576b\"],[0.6666666666666666,\"#ed7953\"],[0.7777777777777778,\"#fb9f3a\"],[0.8888888888888888,\"#fdca26\"],[1.0,\"#f0f921\"]]}],\"heatmap\":[{\"type\":\"heatmap\",\"colorbar\":{\"outlinewidth\":0,\"ticks\":\"\"},\"colorscale\":[[0.0,\"#0d0887\"],[0.1111111111111111,\"#46039f\"],[0.2222222222222222,\"#7201a8\"],[0.3333333333333333,\"#9c179e\"],[0.4444444444444444,\"#bd3786\"],[0.5555555555555556,\"#d8576b\"],[0.6666666666666666,\"#ed7953\"],[0.7777777777777778,\"#fb9f3a\"],[0.8888888888888888,\"#fdca26\"],[1.0,\"#f0f921\"]]}],\"heatmapgl\":[{\"type\":\"heatmapgl\",\"colorbar\":{\"outlinewidth\":0,\"ticks\":\"\"},\"colorscale\":[[0.0,\"#0d0887\"],[0.1111111111111111,\"#46039f\"],[0.2222222222222222,\"#7201a8\"],[0.3333333333333333,\"#9c179e\"],[0.4444444444444444,\"#bd3786\"],[0.5555555555555556,\"#d8576b\"],[0.6666666666666666,\"#ed7953\"],[0.7777777777777778,\"#fb9f3a\"],[0.8888888888888888,\"#fdca26\"],[1.0,\"#f0f921\"]]}],\"contourcarpet\":[{\"type\":\"contourcarpet\",\"colorbar\":{\"outlinewidth\":0,\"ticks\":\"\"}}],\"contour\":[{\"type\":\"contour\",\"colorbar\":{\"outlinewidth\":0,\"ticks\":\"\"},\"colorscale\":[[0.0,\"#0d0887\"],[0.1111111111111111,\"#46039f\"],[0.2222222222222222,\"#7201a8\"],[0.3333333333333333,\"#9c179e\"],[0.4444444444444444,\"#bd3786\"],[0.5555555555555556,\"#d8576b\"],[0.6666666666666666,\"#ed7953\"],[0.7777777777777778,\"#fb9f3a\"],[0.8888888888888888,\"#fdca26\"],[1.0,\"#f0f921\"]]}],\"surface\":[{\"type\":\"surface\",\"colorbar\":{\"outlinewidth\":0,\"ticks\":\"\"},\"colorscale\":[[0.0,\"#0d0887\"],[0.1111111111111111,\"#46039f\"],[0.2222222222222222,\"#7201a8\"],[0.3333333333333333,\"#9c179e\"],[0.4444444444444444,\"#bd3786\"],[0.5555555555555556,\"#d8576b\"],[0.6666666666666666,\"#ed7953\"],[0.7777777777777778,\"#fb9f3a\"],[0.8888888888888888,\"#fdca26\"],[1.0,\"#f0f921\"]]}],\"mesh3d\":[{\"type\":\"mesh3d\",\"colorbar\":{\"outlinewidth\":0,\"ticks\":\"\"}}],\"scatter\":[{\"fillpattern\":{\"fillmode\":\"overlay\",\"size\":10,\"solidity\":0.2},\"type\":\"scatter\"}],\"parcoords\":[{\"type\":\"parcoords\",\"line\":{\"colorbar\":{\"outlinewidth\":0,\"ticks\":\"\"}}}],\"scatterpolargl\":[{\"type\":\"scatterpolargl\",\"marker\":{\"colorbar\":{\"outlinewidth\":0,\"ticks\":\"\"}}}],\"bar\":[{\"error_x\":{\"color\":\"#2a3f5f\"},\"error_y\":{\"color\":\"#2a3f5f\"},\"marker\":{\"line\":{\"color\":\"#E5ECF6\",\"width\":0.5},\"pattern\":{\"fillmode\":\"overlay\",\"size\":10,\"solidity\":0.2}},\"type\":\"bar\"}],\"scattergeo\":[{\"type\":\"scattergeo\",\"marker\":{\"colorbar\":{\"outlinewidth\":0,\"ticks\":\"\"}}}],\"scatterpolar\":[{\"type\":\"scatterpolar\",\"marker\":{\"colorbar\":{\"outlinewidth\":0,\"ticks\":\"\"}}}],\"histogram\":[{\"marker\":{\"pattern\":{\"fillmode\":\"overlay\",\"size\":10,\"solidity\":0.2}},\"type\":\"histogram\"}],\"scattergl\":[{\"type\":\"scattergl\",\"marker\":{\"colorbar\":{\"outlinewidth\":0,\"ticks\":\"\"}}}],\"scatter3d\":[{\"type\":\"scatter3d\",\"line\":{\"colorbar\":{\"outlinewidth\":0,\"ticks\":\"\"}},\"marker\":{\"colorbar\":{\"outlinewidth\":0,\"ticks\":\"\"}}}],\"scattermapbox\":[{\"type\":\"scattermapbox\",\"marker\":{\"colorbar\":{\"outlinewidth\":0,\"ticks\":\"\"}}}],\"scatterternary\":[{\"type\":\"scatterternary\",\"marker\":{\"colorbar\":{\"outlinewidth\":0,\"ticks\":\"\"}}}],\"scattercarpet\":[{\"type\":\"scattercarpet\",\"marker\":{\"colorbar\":{\"outlinewidth\":0,\"ticks\":\"\"}}}],\"carpet\":[{\"aaxis\":{\"endlinecolor\":\"#2a3f5f\",\"gridcolor\":\"white\",\"linecolor\":\"white\",\"minorgridcolor\":\"white\",\"startlinecolor\":\"#2a3f5f\"},\"baxis\":{\"endlinecolor\":\"#2a3f5f\",\"gridcolor\":\"white\",\"linecolor\":\"white\",\"minorgridcolor\":\"white\",\"startlinecolor\":\"#2a3f5f\"},\"type\":\"carpet\"}],\"table\":[{\"cells\":{\"fill\":{\"color\":\"#EBF0F8\"},\"line\":{\"color\":\"white\"}},\"header\":{\"fill\":{\"color\":\"#C8D4E3\"},\"line\":{\"color\":\"white\"}},\"type\":\"table\"}],\"barpolar\":[{\"marker\":{\"line\":{\"color\":\"#E5ECF6\",\"width\":0.5},\"pattern\":{\"fillmode\":\"overlay\",\"size\":10,\"solidity\":0.2}},\"type\":\"barpolar\"}],\"pie\":[{\"automargin\":true,\"type\":\"pie\"}]},\"layout\":{\"autotypenumbers\":\"strict\",\"colorway\":[\"#636efa\",\"#EF553B\",\"#00cc96\",\"#ab63fa\",\"#FFA15A\",\"#19d3f3\",\"#FF6692\",\"#B6E880\",\"#FF97FF\",\"#FECB52\"],\"font\":{\"color\":\"#2a3f5f\"},\"hovermode\":\"closest\",\"hoverlabel\":{\"align\":\"left\"},\"paper_bgcolor\":\"white\",\"plot_bgcolor\":\"#E5ECF6\",\"polar\":{\"bgcolor\":\"#E5ECF6\",\"angularaxis\":{\"gridcolor\":\"white\",\"linecolor\":\"white\",\"ticks\":\"\"},\"radialaxis\":{\"gridcolor\":\"white\",\"linecolor\":\"white\",\"ticks\":\"\"}},\"ternary\":{\"bgcolor\":\"#E5ECF6\",\"aaxis\":{\"gridcolor\":\"white\",\"linecolor\":\"white\",\"ticks\":\"\"},\"baxis\":{\"gridcolor\":\"white\",\"linecolor\":\"white\",\"ticks\":\"\"},\"caxis\":{\"gridcolor\":\"white\",\"linecolor\":\"white\",\"ticks\":\"\"}},\"coloraxis\":{\"colorbar\":{\"outlinewidth\":0,\"ticks\":\"\"}},\"colorscale\":{\"sequential\":[[0.0,\"#0d0887\"],[0.1111111111111111,\"#46039f\"],[0.2222222222222222,\"#7201a8\"],[0.3333333333333333,\"#9c179e\"],[0.4444444444444444,\"#bd3786\"],[0.5555555555555556,\"#d8576b\"],[0.6666666666666666,\"#ed7953\"],[0.7777777777777778,\"#fb9f3a\"],[0.8888888888888888,\"#fdca26\"],[1.0,\"#f0f921\"]],\"sequentialminus\":[[0.0,\"#0d0887\"],[0.1111111111111111,\"#46039f\"],[0.2222222222222222,\"#7201a8\"],[0.3333333333333333,\"#9c179e\"],[0.4444444444444444,\"#bd3786\"],[0.5555555555555556,\"#d8576b\"],[0.6666666666666666,\"#ed7953\"],[0.7777777777777778,\"#fb9f3a\"],[0.8888888888888888,\"#fdca26\"],[1.0,\"#f0f921\"]],\"diverging\":[[0,\"#8e0152\"],[0.1,\"#c51b7d\"],[0.2,\"#de77ae\"],[0.3,\"#f1b6da\"],[0.4,\"#fde0ef\"],[0.5,\"#f7f7f7\"],[0.6,\"#e6f5d0\"],[0.7,\"#b8e186\"],[0.8,\"#7fbc41\"],[0.9,\"#4d9221\"],[1,\"#276419\"]]},\"xaxis\":{\"gridcolor\":\"white\",\"linecolor\":\"white\",\"ticks\":\"\",\"title\":{\"standoff\":15},\"zerolinecolor\":\"white\",\"automargin\":true,\"zerolinewidth\":2},\"yaxis\":{\"gridcolor\":\"white\",\"linecolor\":\"white\",\"ticks\":\"\",\"title\":{\"standoff\":15},\"zerolinecolor\":\"white\",\"automargin\":true,\"zerolinewidth\":2},\"scene\":{\"xaxis\":{\"backgroundcolor\":\"#E5ECF6\",\"gridcolor\":\"white\",\"linecolor\":\"white\",\"showbackground\":true,\"ticks\":\"\",\"zerolinecolor\":\"white\",\"gridwidth\":2},\"yaxis\":{\"backgroundcolor\":\"#E5ECF6\",\"gridcolor\":\"white\",\"linecolor\":\"white\",\"showbackground\":true,\"ticks\":\"\",\"zerolinecolor\":\"white\",\"gridwidth\":2},\"zaxis\":{\"backgroundcolor\":\"#E5ECF6\",\"gridcolor\":\"white\",\"linecolor\":\"white\",\"showbackground\":true,\"ticks\":\"\",\"zerolinecolor\":\"white\",\"gridwidth\":2}},\"shapedefaults\":{\"line\":{\"color\":\"#2a3f5f\"}},\"annotationdefaults\":{\"arrowcolor\":\"#2a3f5f\",\"arrowhead\":0,\"arrowwidth\":1},\"geo\":{\"bgcolor\":\"white\",\"landcolor\":\"#E5ECF6\",\"subunitcolor\":\"white\",\"showland\":true,\"showlakes\":true,\"lakecolor\":\"white\"},\"title\":{\"x\":0.05},\"mapbox\":{\"style\":\"light\"}}},\"xaxis\":{\"anchor\":\"y\",\"domain\":[0.0,1.0],\"title\":{\"text\":\"x\"}},\"yaxis\":{\"anchor\":\"x\",\"domain\":[0.0,1.0],\"title\":{\"text\":\"index\"}},\"coloraxis\":{\"colorbar\":{\"title\":{\"text\":\"\"}},\"colorscale\":[[0.0,\"#0d0887\"],[0.1111111111111111,\"#46039f\"],[0.2222222222222222,\"#7201a8\"],[0.3333333333333333,\"#9c179e\"],[0.4444444444444444,\"#bd3786\"],[0.5555555555555556,\"#d8576b\"],[0.6666666666666666,\"#ed7953\"],[0.7777777777777778,\"#fb9f3a\"],[0.8888888888888888,\"#fdca26\"],[1.0,\"#f0f921\"]]},\"legend\":{\"tracegroupgap\":0},\"margin\":{\"t\":60}},                        {\"responsive\": true}                    ).then(function(){\n",
              "                            \n",
              "var gd = document.getElementById('9732e45f-0f5f-4e80-b588-a3a931f81945');\n",
              "var x = new MutationObserver(function (mutations, observer) {{\n",
              "        var display = window.getComputedStyle(gd).display;\n",
              "        if (!display || display === 'none') {{\n",
              "            console.log([gd, 'removed!']);\n",
              "            Plotly.purge(gd);\n",
              "            observer.disconnect();\n",
              "        }}\n",
              "}});\n",
              "\n",
              "// Listen for the removal of the full notebook cells\n",
              "var notebookContainer = gd.closest('#notebook-container');\n",
              "if (notebookContainer) {{\n",
              "    x.observe(notebookContainer, {childList: true});\n",
              "}}\n",
              "\n",
              "// Listen for the clearing of the current output cell\n",
              "var outputEl = gd.closest('.output');\n",
              "if (outputEl) {{\n",
              "    x.observe(outputEl, {childList: true});\n",
              "}}\n",
              "\n",
              "                        })                };                            </script>        </div>\n",
              "</body>\n",
              "</html>"
            ]
          },
          "metadata": {}
        }
      ],
      "source": [
        "tsne=TSNE(n_components=2, random_state=0, learning_rate='auto')\n",
        "projections=tsne.fit_transform(trained_feature_n)\n",
        "fig=px.scatter(projections[:,0], projections[:,1], color = trained_label, labels={\"color\":\"\"})\n",
        "fig.show()"
      ]
    },
    {
      "cell_type": "markdown",
      "source": [
        "### Approach 2"
      ],
      "metadata": {
        "id": "DcrMtf1NFt-t"
      }
    },
    {
      "cell_type": "code",
      "source": [
        "d1Path = path +  \"Dataset 1/Colorectal Cancer  \"\n",
        "\n",
        "dataset1 = datasets.ImageFolder(d1Path, transforms.Compose([\n",
        "        torchvision.transforms.Resize((224,224)),\n",
        "        torchvision.transforms.ColorJitter(hue=.05, saturation=.05),\n",
        "        torchvision.transforms.RandomHorizontalFlip(),\n",
        "        torchvision.transforms.RandomRotation(20),\n",
        "        transforms.ToTensor(),\n",
        "        transforms.Normalize([0.485, 0.456, 0.406], [0.229, 0.224, 0.225])]))\n",
        "\n",
        "dataloader_sc = DataLoader(dataset1, batch_size=64, shuffle=True)"
      ],
      "metadata": {
        "id": "eIw17g1HH9i-"
      },
      "execution_count": 15,
      "outputs": []
    },
    {
      "cell_type": "code",
      "source": [
        "features = list(pretrained_model.children())[:-1] #only remove fc\n",
        "resnet_nohead = nn.Sequential(*features).to(device)\n",
        "resnet_nohead = resnet_nohead.eval()"
      ],
      "metadata": {
        "id": "JZ_dJlO7Icq2"
      },
      "execution_count": 18,
      "outputs": []
    },
    {
      "cell_type": "code",
      "source": [
        "all_features = []\n",
        "all_labels = []\n",
        "\n",
        "resnet_nohead.to(device)\n",
        "\n",
        "with torch.no_grad():\n",
        "    for images, labels in dataloader_sc:\n",
        "        images = images.to(device)\n",
        "        labels = labels.to(device)\n",
        "        features = resnet_nohead(images)\n",
        "        features = features.squeeze().cpu().numpy()\n",
        "        all_features.append(features)\n",
        "        all_labels.append(labels.cpu().numpy())\n",
        "\n",
        "# Concatenate features and labels\n",
        "all_features = np.concatenate(all_features, axis=0)\n",
        "all_labels = np.concatenate(all_labels, axis=0)"
      ],
      "metadata": {
        "id": "14XAK_0XqHeg"
      },
      "execution_count": 19,
      "outputs": []
    },
    {
      "cell_type": "code",
      "source": [
        "tsne = TSNE(n_components=2, random_state=42)\n",
        "embedded_features = tsne.fit_transform(all_features)"
      ],
      "metadata": {
        "id": "UD_sE2l5tm8b"
      },
      "execution_count": 20,
      "outputs": []
    },
    {
      "cell_type": "code",
      "source": [
        "# Plot the t-SNE embeddings with different colors for each class\n",
        "plt.scatter(embedded_features[all_labels == 0, 0], embedded_features[all_labels == 0, 1], label='MUS',s=10)\n",
        "plt.scatter(embedded_features[all_labels == 1, 0], embedded_features[all_labels == 1, 1], label='NORM',s=10)\n",
        "plt.scatter(embedded_features[all_labels == 2, 0], embedded_features[all_labels == 2, 1], label='STR',s=10)\n",
        "\n",
        "plt.title('t-SNE Visualization of ResNet-18 Features on dataset 1')\n",
        "plt.legend()\n",
        "plt.show()"
      ],
      "metadata": {
        "colab": {
          "base_uri": "https://localhost:8080/",
          "height": 452
        },
        "id": "_CHW-r7cqNvD",
        "outputId": "dda3442a-a4d8-461c-e7c2-d687aa7a06ab"
      },
      "execution_count": 21,
      "outputs": [
        {
          "output_type": "display_data",
          "data": {
            "text/plain": [
              "<Figure size 640x480 with 1 Axes>"
            ],
            "image/png": "[encoded data removed]"
          },
          "metadata": {}
        }
      ]
    },
    {
      "cell_type": "markdown",
      "source": [
        "## Task 2: Pre-trained CNN applications on different datasets"
      ],
      "metadata": {
        "id": "p2xJZpWsF6uZ"
      }
    },
    {
      "cell_type": "markdown",
      "source": [
        "###Scenario 1: Locally trained CNN applied to dataset 2, with KNN and SVM classification"
      ],
      "metadata": {
        "id": "N0guknPQtc7M"
      }
    },
    {
      "cell_type": "code",
      "source": [
        "d2Path = path + \"Dataset 2/Prostate Cancer/\"\n",
        "\n",
        "#task 2 Pretrained ResNet18 applied to Dataset2 & 3\n",
        "dataset2 = datasets.ImageFolder(d2Path, transforms.Compose([\n",
        "        torchvision.transforms.Resize((224,224)),\n",
        "        torchvision.transforms.ColorJitter(hue=.05, saturation=.05),\n",
        "        torchvision.transforms.RandomHorizontalFlip(),\n",
        "        torchvision.transforms.RandomRotation(20),\n",
        "        transforms.ToTensor(),\n",
        "        transforms.Normalize([0.485, 0.456, 0.406], [0.229, 0.224, 0.225])]))\n",
        "\n",
        "dataloader_sc1 = DataLoader(dataset2, batch_size=64, shuffle=True)"
      ],
      "metadata": {
        "id": "4falhgicL2H2"
      },
      "execution_count": 22,
      "outputs": []
    },
    {
      "cell_type": "code",
      "source": [
        "features = list(pretrained_model.children())[:-1] #only remove fc\n",
        "resnet_nohead = nn.Sequential(*features).to(device)\n",
        "resnet_nohead = resnet_nohead.eval()"
      ],
      "metadata": {
        "id": "5nyXlk2hs246"
      },
      "execution_count": 23,
      "outputs": []
    },
    {
      "cell_type": "markdown",
      "source": [
        "model output extraction"
      ],
      "metadata": {
        "id": "5vXPgzq_Gxfm"
      }
    },
    {
      "cell_type": "code",
      "source": [
        "all_features = []\n",
        "all_labels = []\n",
        "\n",
        "resnet_nohead.to(device)\n",
        "\n",
        "with torch.no_grad():\n",
        "    for images, labels in dataloader_sc1:\n",
        "        images = images.to(device)\n",
        "        labels = labels.to(device)\n",
        "        features = resnet_nohead(images)\n",
        "        features = features.squeeze().cpu().numpy()\n",
        "        all_features.append(features)\n",
        "        all_labels.append(labels.cpu().numpy())\n",
        "\n",
        "# Concatenate features and labels\n",
        "all_features = np.concatenate(all_features, axis=0)\n",
        "all_labels = np.concatenate(all_labels, axis=0)"
      ],
      "metadata": {
        "id": "OXUUzCHONEnz"
      },
      "execution_count": 24,
      "outputs": []
    },
    {
      "cell_type": "markdown",
      "source": [
        "t-SNE"
      ],
      "metadata": {
        "id": "SmBD1MjKG2GT"
      }
    },
    {
      "cell_type": "code",
      "source": [
        "tsne = TSNE(n_components=2, random_state=42)\n",
        "embedded_features = tsne.fit_transform(all_features)"
      ],
      "metadata": {
        "id": "xbAOz0-8s3GA"
      },
      "execution_count": 25,
      "outputs": []
    },
    {
      "cell_type": "code",
      "source": [
        "# Plot the t-SNE embeddings with different colors for each class\n",
        "plt.scatter(embedded_features[all_labels == 0, 0], embedded_features[all_labels == 0, 1], label='Gland',s=10)\n",
        "plt.scatter(embedded_features[all_labels == 1, 0], embedded_features[all_labels == 1, 1], label='Nongland',s=10)\n",
        "plt.scatter(embedded_features[all_labels == 2, 0], embedded_features[all_labels == 2, 1], label='Tumor',s=10)\n",
        "\n",
        "plt.title('t-SNE Visualization of ResNet-18 Features on dataset 2')\n",
        "plt.legend()\n",
        "plt.show()"
      ],
      "metadata": {
        "id": "4wO7h73hvEsO",
        "outputId": "02581e00-56af-48d9-c7cf-bf41eed4344e",
        "colab": {
          "base_uri": "https://localhost:8080/",
          "height": 452
        }
      },
      "execution_count": 26,
      "outputs": [
        {
          "output_type": "display_data",
          "data": {
            "text/plain": [
              "<Figure size 640x480 with 1 Axes>"
            ],
            "image/png": "[encoded data removed]"
          },
          "metadata": {}
        }
      ]
    },
    {
      "cell_type": "markdown",
      "source": [
        "### KNN classification"
      ],
      "metadata": {
        "id": "1SvHlJoxG7b7"
      }
    },
    {
      "cell_type": "code",
      "source": [
        "def extract_features(model, dataloader):\n",
        "    model.eval()\n",
        "    all_features, all_labels = [], []\n",
        "    with torch.no_grad():\n",
        "        for images, labels in dataloader:\n",
        "            images = images.to(device)\n",
        "            labels = labels.to(device)\n",
        "            features = model(images)\n",
        "            all_features.append(features.squeeze().cpu().numpy())\n",
        "            all_labels.extend(labels.cpu().numpy())\n",
        "    return np.vstack(all_features), np.array(all_labels)\n",
        "\n",
        "# Extract features from the dataset\n",
        "features, labels = extract_features(resnet_nohead, dataloader_sc1)"
      ],
      "metadata": {
        "id": "FWSMr3mr--kf"
      },
      "execution_count": 27,
      "outputs": []
    },
    {
      "cell_type": "code",
      "source": [
        "X_train, X_test, y_train, y_test = train_test_split(features, labels, test_size=0.3, random_state=42)\n",
        "\n",
        "# Create k-NN classifier\n",
        "knn_classifier = KNeighborsClassifier(n_neighbors=3)\n",
        "knn_classifier.fit(X_train, y_train)\n",
        "\n",
        "# Evaluate the model\n",
        "accuracy = knn_classifier.score(X_test, y_test)\n",
        "print(f'Accuracy: {accuracy * 100:.2f}%')"
      ],
      "metadata": {
        "id": "K_xfAECXDT7r",
        "outputId": "04fbc087-5cd2-445a-d125-5e7219ead2c7",
        "colab": {
          "base_uri": "https://localhost:8080/"
        }
      },
      "execution_count": 28,
      "outputs": [
        {
          "output_type": "stream",
          "name": "stdout",
          "text": [
            "Accuracy: 86.67%\n"
          ]
        }
      ]
    },
    {
      "cell_type": "code",
      "source": [
        "y_pred_knn = knn_classifier.predict(X_test)\n",
        "\n",
        "# Classification Report\n",
        "print(\"Classification Report:\\n\", classification_report(y_test, y_pred_knn))"
      ],
      "metadata": {
        "id": "oc23ge51DWEi",
        "outputId": "22cc4327-a39e-4c2f-830d-831e30f236f7",
        "colab": {
          "base_uri": "https://localhost:8080/"
        }
      },
      "execution_count": 29,
      "outputs": [
        {
          "output_type": "stream",
          "name": "stdout",
          "text": [
            "Classification Report:\n",
            "               precision    recall  f1-score   support\n",
            "\n",
            "           0       0.80      0.89      0.84         9\n",
            "           1       0.92      0.92      0.92        13\n",
            "           2       0.86      0.75      0.80         8\n",
            "\n",
            "    accuracy                           0.87        30\n",
            "   macro avg       0.86      0.85      0.86        30\n",
            "weighted avg       0.87      0.87      0.87        30\n",
            "\n"
          ]
        }
      ]
    },
    {
      "cell_type": "code",
      "source": [
        "confMatrix_knn = multilabel_confusion_matrix(y_test, y_pred_knn)\n",
        "print(confMatrix_knn)"
      ],
      "metadata": {
        "id": "vHDvp0ubDYm5",
        "outputId": "23353e92-a6b8-454e-c92c-9270d5022347",
        "colab": {
          "base_uri": "https://localhost:8080/"
        }
      },
      "execution_count": 30,
      "outputs": [
        {
          "output_type": "stream",
          "name": "stdout",
          "text": [
            "[[[19  2]\n",
            "  [ 1  8]]\n",
            "\n",
            " [[16  1]\n",
            "  [ 1 12]]\n",
            "\n",
            " [[21  1]\n",
            "  [ 2  6]]]\n"
          ]
        }
      ]
    },
    {
      "cell_type": "markdown",
      "source": [
        "### SVM Classification"
      ],
      "metadata": {
        "id": "rhCuP2HqHDli"
      }
    },
    {
      "cell_type": "code",
      "source": [
        "svm_classifier = svm.SVC()\n",
        "svm_classifier.fit(X_train, y_train)\n",
        "\n",
        "# Evaluate the SVM model\n",
        "y_pred_svm = svm_classifier.predict(X_test)"
      ],
      "metadata": {
        "id": "WdD2Fcv8DbaT"
      },
      "execution_count": 31,
      "outputs": []
    },
    {
      "cell_type": "code",
      "source": [
        "print(\"Classification Report (SVM):\\n\", classification_report(y_test, y_pred_svm))"
      ],
      "metadata": {
        "id": "iD69UVndDdr4",
        "outputId": "7e49ae76-02dc-4013-bb9f-e65d5fa43058",
        "colab": {
          "base_uri": "https://localhost:8080/"
        }
      },
      "execution_count": 32,
      "outputs": [
        {
          "output_type": "stream",
          "name": "stdout",
          "text": [
            "Classification Report (SVM):\n",
            "               precision    recall  f1-score   support\n",
            "\n",
            "           0       0.75      1.00      0.86         9\n",
            "           1       1.00      0.92      0.96        13\n",
            "           2       0.83      0.62      0.71         8\n",
            "\n",
            "    accuracy                           0.87        30\n",
            "   macro avg       0.86      0.85      0.84        30\n",
            "weighted avg       0.88      0.87      0.86        30\n",
            "\n"
          ]
        }
      ]
    },
    {
      "cell_type": "code",
      "source": [
        "confMatrix_svm = multilabel_confusion_matrix(y_test, y_pred_svm)\n",
        "print(confMatrix_svm)"
      ],
      "metadata": {
        "id": "7cbiYhzBDf9-",
        "outputId": "ff8bfec3-a677-4a91-fecd-2525f2bcbb9f",
        "colab": {
          "base_uri": "https://localhost:8080/"
        }
      },
      "execution_count": 33,
      "outputs": [
        {
          "output_type": "stream",
          "name": "stdout",
          "text": [
            "[[[18  3]\n",
            "  [ 0  9]]\n",
            "\n",
            " [[17  0]\n",
            "  [ 1 12]]\n",
            "\n",
            " [[21  1]\n",
            "  [ 3  5]]]\n"
          ]
        }
      ]
    },
    {
      "cell_type": "markdown",
      "source": [
        "## Scenario 2: Locally trained CNN on Dataset 3"
      ],
      "metadata": {
        "id": "KkvNaOvZdmFp"
      }
    },
    {
      "cell_type": "code",
      "source": [
        "d3Path = path + \"Dataset 3/Animal Faces\"\n",
        "\n",
        "dataset3 = datasets.ImageFolder(d3Path, transforms.Compose([\n",
        "        torchvision.transforms.Resize((224,224)),\n",
        "        torchvision.transforms.ColorJitter(hue=.05, saturation=.05),\n",
        "        torchvision.transforms.RandomHorizontalFlip(),\n",
        "        torchvision.transforms.RandomRotation(20),\n",
        "        transforms.ToTensor(),\n",
        "        transforms.Normalize([0.485, 0.456, 0.406], [0.229, 0.224, 0.225])]))\n",
        "\n",
        "dataloader_sc2 = DataLoader(dataset3, batch_size=64, shuffle=True)"
      ],
      "metadata": {
        "id": "fuR6khpud3ix"
      },
      "execution_count": 34,
      "outputs": []
    },
    {
      "cell_type": "code",
      "source": [
        "all_features_2 = []\n",
        "all_labels_2 = []\n",
        "\n",
        "resnet_nohead.to(device)\n",
        "\n",
        "with torch.no_grad():\n",
        "    for images, labels in dataloader_sc2:\n",
        "        images = images.to(device)\n",
        "        labels = labels.to(device)\n",
        "        features = resnet_nohead(images)\n",
        "        features = features.squeeze().cpu().numpy()\n",
        "        all_features_2.append(features)\n",
        "        all_labels_2.append(labels.cpu().numpy())\n",
        "\n",
        "# Concatenate features and labels\n",
        "all_features_2 = np.concatenate(all_features_2, axis=0)\n",
        "all_labels_2 = np.concatenate(all_labels_2, axis=0)"
      ],
      "metadata": {
        "id": "HW7vaGBaeDat"
      },
      "execution_count": 35,
      "outputs": []
    },
    {
      "cell_type": "code",
      "source": [
        "tsne = TSNE(n_components=2, random_state=42)\n",
        "embedded_features = tsne.fit_transform(all_features_2)"
      ],
      "metadata": {
        "id": "Av2eMOV2eMHR"
      },
      "execution_count": 36,
      "outputs": []
    },
    {
      "cell_type": "code",
      "source": [
        "# Plot the t-SNE embeddings with different colors for each class\n",
        "plt.scatter(embedded_features[all_labels == 0, 0], embedded_features[all_labels == 0, 1], label='cat',s=10)\n",
        "plt.scatter(embedded_features[all_labels == 1, 0], embedded_features[all_labels == 1, 1], label='dog',s=10)\n",
        "plt.scatter(embedded_features[all_labels == 2, 0], embedded_features[all_labels == 2, 1], label='wild',s=10)\n",
        "\n",
        "plt.title('t-SNE Visualization of ResNet-18 Features on dataset 3')\n",
        "plt.legend()\n",
        "plt.show()"
      ],
      "metadata": {
        "colab": {
          "base_uri": "https://localhost:8080/",
          "height": 452
        },
        "id": "D-84EJT2eMz_",
        "outputId": "b2f35528-27e9-4d9a-ce39-6b38ba669dfe"
      },
      "execution_count": 37,
      "outputs": [
        {
          "output_type": "display_data",
          "data": {
            "text/plain": [
              "<Figure size 640x480 with 1 Axes>"
            ],
            "image/png": "[encoded data removed]"
          },
          "metadata": {}
        }
      ]
    },
    {
      "cell_type": "markdown",
      "source": [
        "## Scenario 3: Pre-trained (ImageNet) CNN applied to dataset 2"
      ],
      "metadata": {
        "id": "QSYj63dAePZl"
      }
    },
    {
      "cell_type": "markdown",
      "source": [
        "Model declaration"
      ],
      "metadata": {
        "id": "OlWufnyJw-AL"
      }
    },
    {
      "cell_type": "code",
      "source": [
        "net_pre=resnet18(weights=torchvision.models.ResNet18_Weights.IMAGENET1K_V1)\n",
        "net_pre.fc=nn.Linear(net_pre.fc.in_features,3)\n",
        "features = list(net_pre.children())[:-1] #only remove fc\n",
        "resnet_nohead = nn.Sequential(*features).to(device)\n",
        "resnet_nohead = resnet_nohead.eval()"
      ],
      "metadata": {
        "id": "OYrRUvbZo-eW",
        "colab": {
          "base_uri": "https://localhost:8080/"
        },
        "outputId": "850cdb55-56c6-447a-c592-006f7768a6ad"
      },
      "execution_count": 38,
      "outputs": [
        {
          "output_type": "stream",
          "name": "stderr",
          "text": [
            "Downloading: \"https://download.pytorch.org/models/resnet18-f37072fd.pth\" to /root/.cache/torch/hub/checkpoints/resnet18-f37072fd.pth\n",
            "100%|██████████| 44.7M/44.7M [00:00<00:00, 127MB/s]\n"
          ]
        }
      ]
    },
    {
      "cell_type": "code",
      "source": [
        "all_features_pre_2 = []\n",
        "all_labels_pre_2 = []\n",
        "\n",
        "resnet_nohead.to(device)\n",
        "\n",
        "with torch.no_grad():\n",
        "    for images, labels in dataloader_sc1:\n",
        "        images = images.to(device)\n",
        "        labels = labels.to(device)\n",
        "        features = resnet_nohead(images)\n",
        "        features = features.squeeze().cpu().numpy()\n",
        "        all_features_pre_2.append(features)\n",
        "        all_labels_pre_2.append(labels.cpu().numpy())\n",
        "\n",
        "# Concatenate features and labels\n",
        "all_features_pre_2= np.concatenate(all_features_pre_2, axis=0)\n",
        "all_labels_pre_2 = np.concatenate(all_labels_pre_2, axis=0)"
      ],
      "metadata": {
        "id": "LwZixlNTxSiG"
      },
      "execution_count": 39,
      "outputs": []
    },
    {
      "cell_type": "code",
      "source": [
        "tsne = TSNE(n_components=2, random_state=42)\n",
        "embedded_features_pre_2 = tsne.fit_transform(all_features_pre_2)"
      ],
      "metadata": {
        "id": "PVhsc1E2xdrH"
      },
      "execution_count": 40,
      "outputs": []
    },
    {
      "cell_type": "code",
      "source": [
        "# Plot the t-SNE embeddings with different colors for each class\n",
        "plt.scatter(embedded_features_pre_2[all_labels_pre_2 == 0, 0], embedded_features_pre_2[all_labels_pre_2 == 0, 1], label='gland', s=10)\n",
        "plt.scatter(embedded_features_pre_2[all_labels_pre_2 == 1, 0], embedded_features_pre_2[all_labels_pre_2 == 1, 1], label='nongland', s=10)\n",
        "plt.scatter(embedded_features_pre_2[all_labels_pre_2 == 2, 0], embedded_features_pre_2[all_labels_pre_2 == 2, 1], label='tumor', s=10)\n",
        "\n",
        "plt.title('t-SNE Visualization of ResNet-18(imagenet) Features on dataset 2')\n",
        "plt.legend()\n",
        "plt.show()"
      ],
      "metadata": {
        "id": "VlA10iqpxn67",
        "outputId": "0efa7643-2916-4b6d-e829-f28434afc2a1",
        "colab": {
          "base_uri": "https://localhost:8080/",
          "height": 452
        }
      },
      "execution_count": 41,
      "outputs": [
        {
          "output_type": "display_data",
          "data": {
            "text/plain": [
              "<Figure size 640x480 with 1 Axes>"
            ],
            "image/png": "[encoded data removed]"
          },
          "metadata": {}
        }
      ]
    },
    {
      "cell_type": "markdown",
      "source": [
        "## Scenario 4: Pre-trained (ImageNet) CNN applied to dataset 3"
      ],
      "metadata": {
        "id": "-6F13kuU7-NJ"
      }
    },
    {
      "cell_type": "code",
      "source": [
        "all_features_pre_3 = []\n",
        "all_labels_pre_3= []\n",
        "\n",
        "resnet_nohead.to(device)\n",
        "\n",
        "with torch.no_grad():\n",
        "    for images, labels in dataloader_sc2:\n",
        "        images = images.to(device)\n",
        "        labels = labels.to(device)\n",
        "        features = resnet_nohead(images)\n",
        "        features = features.squeeze().cpu().numpy()\n",
        "        all_features_pre_3.append(features)\n",
        "        all_labels_pre_3.append(labels.cpu().numpy())\n",
        "\n",
        "# Concatenate features and labels\n",
        "all_features_pre_3= np.concatenate(all_features_pre_3, axis=0)\n",
        "all_labels_pre_3 = np.concatenate(all_labels_pre_3, axis=0)"
      ],
      "metadata": {
        "id": "R4kKc7iJ8Gnb"
      },
      "execution_count": 42,
      "outputs": []
    },
    {
      "cell_type": "code",
      "source": [
        "tsne = TSNE(n_components=2, random_state=42)\n",
        "embedded_features_pre_3 = tsne.fit_transform(all_features_pre_3)"
      ],
      "metadata": {
        "id": "Bo8uEpLB8OZy"
      },
      "execution_count": 43,
      "outputs": []
    },
    {
      "cell_type": "code",
      "source": [
        "plt.scatter(embedded_features_pre_3[all_labels_pre_3 == 0, 0], embedded_features_pre_3[all_labels_pre_3 == 0, 1], label='cat',s=10)\n",
        "plt.scatter(embedded_features_pre_3[all_labels_pre_3 == 1, 0], embedded_features_pre_3[all_labels_pre_3 == 1, 1], label='dog',s=10)\n",
        "plt.scatter(embedded_features_pre_3[all_labels_pre_3 == 2, 0], embedded_features_pre_3[all_labels_pre_3 == 2, 1], label='wild',s=10)\n",
        "\n",
        "plt.title('t-SNE Visualization of ResNet-18(imagenet) Features on dataset 3')\n",
        "plt.legend()\n",
        "plt.show()"
      ],
      "metadata": {
        "id": "Wt9chRC_9A_-",
        "outputId": "8adca8d8-12d1-464c-afc1-37223554ce8d",
        "colab": {
          "base_uri": "https://localhost:8080/",
          "height": 452
        }
      },
      "execution_count": 44,
      "outputs": [
        {
          "output_type": "display_data",
          "data": {
            "text/plain": [
              "<Figure size 640x480 with 1 Axes>"
            ],
            "image/png": "[encoded data removed]"
          },
          "metadata": {}
        }
      ]
    }
  ],
  "metadata": {
    "accelerator": "GPU",
    "colab": {
      "provenance": []
    },
    "kernelspec": {
      "display_name": "Python 3",
      "name": "python3"
    },
    "language_info": {
      "name": "python"
    }
  },
  "nbformat": 4,
  "nbformat_minor": 0
}