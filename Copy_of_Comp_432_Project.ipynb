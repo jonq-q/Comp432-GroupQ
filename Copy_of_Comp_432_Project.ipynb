{
  "cells": [
    {
      "cell_type": "code",
      "execution_count": 1,
      "metadata": {
        "id": "wGGhmFiP-7cH"
      },
      "outputs": [],
      "source": [
        "import torch\n",
        "import torchvision\n",
        "import numpy as np\n",
        "import torch.nn as nn\n",
        "import torch.optim as optim\n",
        "from torch.utils.data import DataLoader\n",
        "from torchvision import datasets, transforms\n",
        "from sklearn.metrics import classification_report\n",
        "import matplotlib.pyplot as plt"
      ]
    },
    {
      "cell_type": "code",
      "execution_count": 2,
      "metadata": {
        "id": "rnnr8Nk_lUTw",
        "colab": {
          "base_uri": "https://localhost:8080/"
        },
        "outputId": "d7693e73-f3a7-4550-e6c1-019c11813297"
      },
      "outputs": [
        {
          "output_type": "stream",
          "name": "stdout",
          "text": [
            "Mounted at /content/drive/\n",
            "Please go to https://github.com/settings/ssh/new to upload the following key: \n",
            "ssh-ed25519 AAAAC3NzaC1lZDI1NTE5AAAAIPNHesHoZ8yifpxV8MpOj9wzeMMzniVoRcF992tjnH5Y root@b3bd0b87503a\n",
            "\n",
            "Please use SSH method to clone repo.\n"
          ]
        }
      ],
      "source": [
        "!wget -q https://raw.githubusercontent.com/tsunrise/colab-github/main/colab_github.py\n",
        "import colab_github\n",
        "colab_github.github_auth(persistent_key=True)\n",
        "\n",
        "# method to import git data into colab taken from:\n",
        "# https://github.com/tsunrise/colab-github"
      ]
    },
    {
      "cell_type": "code",
      "source": [
        "!git clone git@github.com:jonq-q/Comp432-GroupQ.git"
      ],
      "metadata": {
        "colab": {
          "base_uri": "https://localhost:8080/"
        },
        "id": "lOcx5r5OUk3D",
        "outputId": "6e0c8be2-a454-4d73-821e-cff276a8e069"
      },
      "execution_count": 4,
      "outputs": [
        {
          "output_type": "stream",
          "name": "stdout",
          "text": [
            "Cloning into 'Comp432-GroupQ'...\n",
            "remote: Enumerating objects: 18060, done.\u001b[K\n",
            "remote: Counting objects: 100% (6/6), done.\u001b[K\n",
            "remote: Compressing objects: 100% (6/6), done.\u001b[K\n",
            "remote: Total 18060 (delta 1), reused 0 (delta 0), pack-reused 18054\u001b[K\n",
            "Receiving objects: 100% (18060/18060), 1.14 GiB | 36.89 MiB/s, done.\n",
            "Resolving deltas: 100% (18/18), done.\n",
            "Updating files: 100% (18018/18018), done.\n"
          ]
        }
      ]
    },
    {
      "cell_type": "code",
      "execution_count": null,
      "metadata": {
        "colab": {
          "base_uri": "https://localhost:8080/"
        },
        "id": "F9wvKgBI8RwQ",
        "outputId": "ac3da601-3237-4d6e-d29a-7585911ad61b"
      },
      "outputs": [
        {
          "output_type": "stream",
          "name": "stdout",
          "text": [
            "Drive already mounted at /content/drive; to attempt to forcibly remount, call drive.mount(\"/content/drive\", force_remount=True).\n"
          ]
        }
      ],
      "source": [
        "#from google.colab import drive\n",
        "#drive.mount('/content/drive')"
      ]
    },
    {
      "cell_type": "code",
      "source": [
        "!ls /content/Comp432-GroupQ/Dataset\\ 1"
      ],
      "metadata": {
        "id": "3j7P51R1YYVf",
        "outputId": "599f260f-9d1a-4dab-ffb5-3b82a6646e37",
        "colab": {
          "base_uri": "https://localhost:8080/"
        }
      },
      "execution_count": 34,
      "outputs": [
        {
          "output_type": "stream",
          "name": "stdout",
          "text": [
            "'Colorectal Cancer '\n"
          ]
        }
      ]
    },
    {
      "cell_type": "code",
      "execution_count": 35,
      "metadata": {
        "id": "nrWSomotvgKw"
      },
      "outputs": [],
      "source": [
        "dataset = datasets.ImageFolder(\"/content/Comp432-GroupQ/Dataset 1/Colorectal Cancer /\", transforms.Compose([\n",
        "        torchvision.transforms.ColorJitter(hue=.05, saturation=.05),\n",
        "        torchvision.transforms.RandomHorizontalFlip(),\n",
        "        torchvision.transforms.RandomRotation(20),\n",
        "        transforms.ToTensor(),\n",
        "        transforms.Normalize([0.485, 0.456, 0.406], [0.229, 0.224, 0.225])]))\n",
        "\n",
        "train_set, test_set = torch.utils.data.random_split(dataset,[0.7,0.3])                # splits dataset into specified ratios\n",
        "train_loader = DataLoader(train_set,shuffle=True,batch_size=32, num_workers=0)         # create train loader\n",
        "test_loader = DataLoader(test_set,batch_size=32, num_workers=0)  # create test loader"
      ]
    },
    {
      "cell_type": "code",
      "execution_count": 36,
      "metadata": {
        "colab": {
          "base_uri": "https://localhost:8080/"
        },
        "id": "Lq6KVtqwBOXd",
        "outputId": "d4bc7a4d-b273-4518-8749-797fe7b70793"
      },
      "outputs": [
        {
          "output_type": "stream",
          "name": "stderr",
          "text": [
            "Using cache found in /root/.cache/torch/hub/pytorch_vision_v0.10.0\n",
            "/usr/local/lib/python3.10/dist-packages/torchvision/models/_utils.py:208: UserWarning: The parameter 'pretrained' is deprecated since 0.13 and may be removed in the future, please use 'weights' instead.\n",
            "  warnings.warn(\n",
            "/usr/local/lib/python3.10/dist-packages/torchvision/models/_utils.py:223: UserWarning: Arguments other than a weight enum or `None` for 'weights' are deprecated since 0.13 and may be removed in the future. The current behavior is equivalent to passing `weights=None`.\n",
            "  warnings.warn(msg)\n"
          ]
        }
      ],
      "source": [
        "model = torch.hub.load('pytorch/vision:v0.10.0', 'resnet18', pretrained=False)\n",
        "\n",
        "if torch.cuda.is_available():\n",
        "    model = model.to('cuda')\n",
        "\n",
        "loss = nn.CrossEntropyLoss()\n",
        "optimizer = optim.Adam(model.parameters(), lr=0.0001)"
      ]
    },
    {
      "cell_type": "code",
      "execution_count": 37,
      "metadata": {
        "colab": {
          "base_uri": "https://localhost:8080/"
        },
        "id": "ILwUd3kMJe4S",
        "outputId": "8370e0af-87b2-4fb6-ecc7-6f9cddb1fcf5"
      },
      "outputs": [
        {
          "output_type": "stream",
          "name": "stdout",
          "text": [
            "Epoch 1/10, Loss: 1.2735, Accuracy: 73.55%\n",
            "Epoch 2/10, Loss: 0.4718, Accuracy: 82.17%\n",
            "Epoch 3/10, Loss: 0.4103, Accuracy: 83.79%\n",
            "Epoch 4/10, Loss: 0.3535, Accuracy: 86.74%\n",
            "Epoch 5/10, Loss: 0.2823, Accuracy: 89.21%\n",
            "Epoch 6/10, Loss: 0.2919, Accuracy: 88.86%\n",
            "Epoch 7/10, Loss: 0.2459, Accuracy: 90.81%\n",
            "Epoch 8/10, Loss: 0.2275, Accuracy: 91.17%\n",
            "Epoch 9/10, Loss: 0.2140, Accuracy: 92.12%\n",
            "Epoch 10/10, Loss: 0.2168, Accuracy: 92.10%\n"
          ]
        }
      ],
      "source": [
        "num_epochs = 10\n",
        "train_losses = []\n",
        "train_accuracies = []\n",
        "\n",
        "for epoch in range(num_epochs):\n",
        "    model.train()\n",
        "    current_loss = 0.0\n",
        "    correct = 0\n",
        "    total = 0\n",
        "    round = 0\n",
        "\n",
        "    for inputs, labels in train_loader:\n",
        "        #print(inputs.shape)\n",
        "        #print(inputs)\n",
        "        inputs, labels = inputs.to('cuda'), labels.to('cuda')\n",
        "        optimizer.zero_grad()\n",
        "        y_pred = model(inputs)\n",
        "        l = loss(y_pred, labels)\n",
        "        l.backward()\n",
        "        optimizer.step()\n",
        "        #round += 1\n",
        "        #print(round)\n",
        "\n",
        "        current_loss += l.item()\n",
        "        _, predicted = torch.max(y_pred.data, 1)\n",
        "        total += labels.size(0)\n",
        "        correct += (predicted == labels).sum().item()\n",
        "\n",
        "    train_accuracy = 100 * correct / total\n",
        "    train_loss = current_loss / len(train_loader)\n",
        "    train_accuracies.append(train_accuracy)\n",
        "    train_losses.append(train_loss)\n",
        "    print(f'Epoch {epoch + 1}/{num_epochs}, Loss: {train_loss:.4f}, Accuracy: {train_accuracy:.2f}%')"
      ]
    },
    {
      "cell_type": "code",
      "execution_count": 38,
      "metadata": {
        "colab": {
          "base_uri": "https://localhost:8080/"
        },
        "id": "JxWOBSMkRESH",
        "outputId": "69671750-ae5f-40b7-8d02-e5ca004dff8f"
      },
      "outputs": [
        {
          "output_type": "stream",
          "name": "stdout",
          "text": [
            "Validation loss: 0.007431185195843379, accuracy: 0.9038888888888889\n",
            "              precision    recall  f1-score   support\n",
            "\n",
            "         MUS       0.84      0.98      0.90       636\n",
            "        NORM       0.94      0.98      0.96       574\n",
            "         STR       0.97      0.77      0.86       590\n",
            "\n",
            "    accuracy                           0.91      1800\n",
            "   macro avg       0.92      0.91      0.91      1800\n",
            "weighted avg       0.92      0.91      0.91      1800\n",
            "\n"
          ]
        }
      ],
      "source": [
        "val_loss = []\n",
        "\n",
        "with torch.no_grad():\n",
        "          model.eval()\n",
        "          running_loss = 0.0\n",
        "          running_score = 0.0\n",
        "          for image,label in test_loader:\n",
        "                image = image.to('cuda')\n",
        "                label = label.to('cuda')\n",
        "                optimizer.zero_grad()\n",
        "                y_pred = model.forward(image)\n",
        "                l = loss(y_pred,label)\n",
        "                running_loss += l.item()\n",
        "\n",
        "                val, index_ = torch.max(y_pred,axis=1)\n",
        "                running_score += torch.sum(index_ == label.data).item()\n",
        "\n",
        "          epoch_score = running_score/len(test_loader.dataset)\n",
        "          epoch_loss = running_loss/len(test_loader.dataset)\n",
        "          val_loss.append(epoch_loss)\n",
        "          print(\"Validation loss: {}, accuracy: {}\".format(epoch_loss,epoch_score))\n",
        "\n",
        "          all_predictions = []\n",
        "          true_labels = []\n",
        "          for inputs, labels in test_loader:\n",
        "              inputs, labels = inputs.to('cuda'), labels.to('cuda')\n",
        "              outputs = model.forward(inputs)\n",
        "              _, predicted = torch.max(outputs.data, 1)\n",
        "              all_predictions.extend(predicted.cpu().numpy())\n",
        "              true_labels.extend(labels.cpu().numpy())\n",
        "\n",
        "classification_rep = classification_report(true_labels, all_predictions, target_names=dataset.classes)\n",
        "print(classification_rep)"
      ]
    },
    {
      "cell_type": "markdown",
      "metadata": {
        "id": "8jjPh3d2amIe"
      },
      "source": [
        "**Save trained model from dataset 1**"
      ]
    },
    {
      "cell_type": "code",
      "execution_count": null,
      "metadata": {
        "id": "TeTdDu_YR16c"
      },
      "outputs": [],
      "source": [
        "torch.save(model.state_dict(), '/content/drive/My Drive/TrainedModel')"
      ]
    },
    {
      "cell_type": "code",
      "execution_count": 26,
      "metadata": {
        "colab": {
          "base_uri": "https://localhost:8080/"
        },
        "id": "8k40xiMg7GXv",
        "outputId": "3174b5c7-4341-4e42-9454-a1da2d6be11c"
      },
      "outputs": [
        {
          "output_type": "stream",
          "name": "stderr",
          "text": [
            "Using cache found in /root/.cache/torch/hub/pytorch_vision_v0.10.0\n"
          ]
        },
        {
          "output_type": "execute_result",
          "data": {
            "text/plain": [
              "<All keys matched successfully>"
            ]
          },
          "metadata": {},
          "execution_count": 26
        }
      ],
      "source": [
        "pretrained_model = torch.hub.load('pytorch/vision:v0.10.0', 'resnet18', pretrained=False)\n",
        "pretrained_model.load_state_dict(torch.load('/content/drive/My Drive/Comp 432/TrainedModel', map_location=torch.device('cuda')))"
      ]
    },
    {
      "cell_type": "code",
      "execution_count": 39,
      "metadata": {
        "colab": {
          "base_uri": "https://localhost:8080/"
        },
        "id": "0chnAIXX7Qxl",
        "outputId": "c85dc4db-dfb6-4e15-a1ff-a3b5d5032472"
      },
      "outputs": [
        {
          "output_type": "stream",
          "name": "stdout",
          "text": [
            "              precision    recall  f1-score   support\n",
            "\n",
            "         MUS       0.95      0.92      0.93       636\n",
            "        NORM       1.00      0.99      0.99       574\n",
            "         STR       0.91      0.95      0.93       590\n",
            "\n",
            "    accuracy                           0.95      1800\n",
            "   macro avg       0.95      0.95      0.95      1800\n",
            "weighted avg       0.95      0.95      0.95      1800\n",
            "\n"
          ]
        }
      ],
      "source": [
        "pretrained_model.to('cuda')\n",
        "\n",
        "with torch.no_grad():\n",
        "          pretrained_model.eval()\n",
        "          all_predictions = []\n",
        "          true_labels = []\n",
        "          for inputs, labels in test_loader:\n",
        "              inputs, labels = inputs.to('cuda'), labels.to('cuda')\n",
        "              outputs = pretrained_model.forward(inputs)\n",
        "              _, predicted = torch.max(outputs.data, 1)\n",
        "              all_predictions.extend(predicted.cpu().numpy())\n",
        "              true_labels.extend(labels.cpu().numpy())\n",
        "\n",
        "classification_rep = classification_report(true_labels, all_predictions, target_names=dataset.classes)\n",
        "print(classification_rep)"
      ]
    },
    {
      "cell_type": "code",
      "execution_count": 40,
      "metadata": {
        "colab": {
          "base_uri": "https://localhost:8080/"
        },
        "id": "RhxkjQS9lOAC",
        "outputId": "11ef1096-1def-44bd-c535-2754c08ee216"
      },
      "outputs": [
        {
          "output_type": "stream",
          "name": "stdout",
          "text": [
            "[[[1131   33]\n",
            "  [  52  584]]\n",
            "\n",
            " [[1225    1]\n",
            "  [   8  566]]\n",
            "\n",
            " [[1154   56]\n",
            "  [  30  560]]]\n"
          ]
        }
      ],
      "source": [
        "from sklearn.metrics import multilabel_confusion_matrix\n",
        "\n",
        "confMatrix = multilabel_confusion_matrix(true_labels, all_predictions, labels=[0, 1, 2])\n",
        "print(confMatrix)"
      ]
    },
    {
      "cell_type": "code",
      "source": [
        "enumerate(train_loader)"
      ],
      "metadata": {
        "colab": {
          "base_uri": "https://localhost:8080/"
        },
        "id": "QllwMh5y7NbR",
        "outputId": "e96576b2-5ebb-49c1-adc9-82f4d08376d0"
      },
      "execution_count": null,
      "outputs": [
        {
          "output_type": "execute_result",
          "data": {
            "text/plain": [
              "<enumerate at 0x7d8447e39640>"
            ]
          },
          "metadata": {},
          "execution_count": 15
        }
      ]
    },
    {
      "cell_type": "code",
      "execution_count": null,
      "metadata": {
        "colab": {
          "base_uri": "https://localhost:8080/"
        },
        "id": "kVStMbnQlTav",
        "outputId": "c2c042e8-87c8-4870-9229-8b04f4acb300"
      },
      "outputs": [
        {
          "output_type": "execute_result",
          "data": {
            "text/plain": [
              "ResNet(\n",
              "  (conv1): Conv2d(3, 64, kernel_size=(7, 7), stride=(2, 2), padding=(3, 3), bias=False)\n",
              "  (bn1): BatchNorm2d(64, eps=1e-05, momentum=0.1, affine=True, track_running_stats=True)\n",
              "  (relu): ReLU(inplace=True)\n",
              "  (maxpool): MaxPool2d(kernel_size=3, stride=2, padding=1, dilation=1, ceil_mode=False)\n",
              "  (layer1): Sequential(\n",
              "    (0): BasicBlock(\n",
              "      (conv1): Conv2d(64, 64, kernel_size=(3, 3), stride=(1, 1), padding=(1, 1), bias=False)\n",
              "      (bn1): BatchNorm2d(64, eps=1e-05, momentum=0.1, affine=True, track_running_stats=True)\n",
              "      (relu): ReLU(inplace=True)\n",
              "      (conv2): Conv2d(64, 64, kernel_size=(3, 3), stride=(1, 1), padding=(1, 1), bias=False)\n",
              "      (bn2): BatchNorm2d(64, eps=1e-05, momentum=0.1, affine=True, track_running_stats=True)\n",
              "    )\n",
              "    (1): BasicBlock(\n",
              "      (conv1): Conv2d(64, 64, kernel_size=(3, 3), stride=(1, 1), padding=(1, 1), bias=False)\n",
              "      (bn1): BatchNorm2d(64, eps=1e-05, momentum=0.1, affine=True, track_running_stats=True)\n",
              "      (relu): ReLU(inplace=True)\n",
              "      (conv2): Conv2d(64, 64, kernel_size=(3, 3), stride=(1, 1), padding=(1, 1), bias=False)\n",
              "      (bn2): BatchNorm2d(64, eps=1e-05, momentum=0.1, affine=True, track_running_stats=True)\n",
              "    )\n",
              "  )\n",
              "  (layer2): Sequential(\n",
              "    (0): BasicBlock(\n",
              "      (conv1): Conv2d(64, 128, kernel_size=(3, 3), stride=(2, 2), padding=(1, 1), bias=False)\n",
              "      (bn1): BatchNorm2d(128, eps=1e-05, momentum=0.1, affine=True, track_running_stats=True)\n",
              "      (relu): ReLU(inplace=True)\n",
              "      (conv2): Conv2d(128, 128, kernel_size=(3, 3), stride=(1, 1), padding=(1, 1), bias=False)\n",
              "      (bn2): BatchNorm2d(128, eps=1e-05, momentum=0.1, affine=True, track_running_stats=True)\n",
              "      (downsample): Sequential(\n",
              "        (0): Conv2d(64, 128, kernel_size=(1, 1), stride=(2, 2), bias=False)\n",
              "        (1): BatchNorm2d(128, eps=1e-05, momentum=0.1, affine=True, track_running_stats=True)\n",
              "      )\n",
              "    )\n",
              "    (1): BasicBlock(\n",
              "      (conv1): Conv2d(128, 128, kernel_size=(3, 3), stride=(1, 1), padding=(1, 1), bias=False)\n",
              "      (bn1): BatchNorm2d(128, eps=1e-05, momentum=0.1, affine=True, track_running_stats=True)\n",
              "      (relu): ReLU(inplace=True)\n",
              "      (conv2): Conv2d(128, 128, kernel_size=(3, 3), stride=(1, 1), padding=(1, 1), bias=False)\n",
              "      (bn2): BatchNorm2d(128, eps=1e-05, momentum=0.1, affine=True, track_running_stats=True)\n",
              "    )\n",
              "  )\n",
              "  (layer3): Sequential(\n",
              "    (0): BasicBlock(\n",
              "      (conv1): Conv2d(128, 256, kernel_size=(3, 3), stride=(2, 2), padding=(1, 1), bias=False)\n",
              "      (bn1): BatchNorm2d(256, eps=1e-05, momentum=0.1, affine=True, track_running_stats=True)\n",
              "      (relu): ReLU(inplace=True)\n",
              "      (conv2): Conv2d(256, 256, kernel_size=(3, 3), stride=(1, 1), padding=(1, 1), bias=False)\n",
              "      (bn2): BatchNorm2d(256, eps=1e-05, momentum=0.1, affine=True, track_running_stats=True)\n",
              "      (downsample): Sequential(\n",
              "        (0): Conv2d(128, 256, kernel_size=(1, 1), stride=(2, 2), bias=False)\n",
              "        (1): BatchNorm2d(256, eps=1e-05, momentum=0.1, affine=True, track_running_stats=True)\n",
              "      )\n",
              "    )\n",
              "    (1): BasicBlock(\n",
              "      (conv1): Conv2d(256, 256, kernel_size=(3, 3), stride=(1, 1), padding=(1, 1), bias=False)\n",
              "      (bn1): BatchNorm2d(256, eps=1e-05, momentum=0.1, affine=True, track_running_stats=True)\n",
              "      (relu): ReLU(inplace=True)\n",
              "      (conv2): Conv2d(256, 256, kernel_size=(3, 3), stride=(1, 1), padding=(1, 1), bias=False)\n",
              "      (bn2): BatchNorm2d(256, eps=1e-05, momentum=0.1, affine=True, track_running_stats=True)\n",
              "    )\n",
              "  )\n",
              "  (layer4): Sequential(\n",
              "    (0): BasicBlock(\n",
              "      (conv1): Conv2d(256, 512, kernel_size=(3, 3), stride=(2, 2), padding=(1, 1), bias=False)\n",
              "      (bn1): BatchNorm2d(512, eps=1e-05, momentum=0.1, affine=True, track_running_stats=True)\n",
              "      (relu): ReLU(inplace=True)\n",
              "      (conv2): Conv2d(512, 512, kernel_size=(3, 3), stride=(1, 1), padding=(1, 1), bias=False)\n",
              "      (bn2): BatchNorm2d(512, eps=1e-05, momentum=0.1, affine=True, track_running_stats=True)\n",
              "      (downsample): Sequential(\n",
              "        (0): Conv2d(256, 512, kernel_size=(1, 1), stride=(2, 2), bias=False)\n",
              "        (1): BatchNorm2d(512, eps=1e-05, momentum=0.1, affine=True, track_running_stats=True)\n",
              "      )\n",
              "    )\n",
              "    (1): BasicBlock(\n",
              "      (conv1): Conv2d(512, 512, kernel_size=(3, 3), stride=(1, 1), padding=(1, 1), bias=False)\n",
              "      (bn1): BatchNorm2d(512, eps=1e-05, momentum=0.1, affine=True, track_running_stats=True)\n",
              "      (relu): ReLU(inplace=True)\n",
              "      (conv2): Conv2d(512, 512, kernel_size=(3, 3), stride=(1, 1), padding=(1, 1), bias=False)\n",
              "      (bn2): BatchNorm2d(512, eps=1e-05, momentum=0.1, affine=True, track_running_stats=True)\n",
              "    )\n",
              "  )\n",
              "  (avgpool): AdaptiveAvgPool2d(output_size=(1, 1))\n",
              "  (fc): Linear(in_features=512, out_features=1000, bias=True)\n",
              ")"
            ]
          },
          "metadata": {},
          "execution_count": 16
        }
      ],
      "source": [
        "pretrained_model"
      ]
    },
    {
      "cell_type": "code",
      "execution_count": null,
      "metadata": {
        "colab": {
          "base_uri": "https://localhost:8080/"
        },
        "id": "kbOjmj10sgqc",
        "outputId": "1621e220-da8b-485e-f02f-dc946143fdad"
      },
      "outputs": [
        {
          "output_type": "execute_result",
          "data": {
            "text/plain": [
              "<generator object Module.children at 0x7d8447e136f0>"
            ]
          },
          "metadata": {},
          "execution_count": 17
        }
      ],
      "source": [
        "pretrained_model.children()"
      ]
    },
    {
      "cell_type": "code",
      "execution_count": 41,
      "metadata": {
        "id": "t1HS7SWuNM7J"
      },
      "outputs": [],
      "source": [
        "device=torch.device(\"cuda:0\"if torch.cuda.is_available() else \"cpu\")"
      ]
    },
    {
      "cell_type": "code",
      "execution_count": 42,
      "metadata": {
        "colab": {
          "base_uri": "https://localhost:8080/"
        },
        "id": "oXzDan6T6C5B",
        "outputId": "de35bc82-ad73-47b6-a22c-ffebf6dc026f"
      },
      "outputs": [
        {
          "output_type": "stream",
          "name": "stdout",
          "text": [
            "[Conv2d(3, 64, kernel_size=(7, 7), stride=(2, 2), padding=(3, 3), bias=False), BatchNorm2d(64, eps=1e-05, momentum=0.1, affine=True, track_running_stats=True), ReLU(inplace=True), MaxPool2d(kernel_size=3, stride=2, padding=1, dilation=1, ceil_mode=False), Sequential(\n",
            "  (0): BasicBlock(\n",
            "    (conv1): Conv2d(64, 64, kernel_size=(3, 3), stride=(1, 1), padding=(1, 1), bias=False)\n",
            "    (bn1): BatchNorm2d(64, eps=1e-05, momentum=0.1, affine=True, track_running_stats=True)\n",
            "    (relu): ReLU(inplace=True)\n",
            "    (conv2): Conv2d(64, 64, kernel_size=(3, 3), stride=(1, 1), padding=(1, 1), bias=False)\n",
            "    (bn2): BatchNorm2d(64, eps=1e-05, momentum=0.1, affine=True, track_running_stats=True)\n",
            "  )\n",
            "  (1): BasicBlock(\n",
            "    (conv1): Conv2d(64, 64, kernel_size=(3, 3), stride=(1, 1), padding=(1, 1), bias=False)\n",
            "    (bn1): BatchNorm2d(64, eps=1e-05, momentum=0.1, affine=True, track_running_stats=True)\n",
            "    (relu): ReLU(inplace=True)\n",
            "    (conv2): Conv2d(64, 64, kernel_size=(3, 3), stride=(1, 1), padding=(1, 1), bias=False)\n",
            "    (bn2): BatchNorm2d(64, eps=1e-05, momentum=0.1, affine=True, track_running_stats=True)\n",
            "  )\n",
            "), Sequential(\n",
            "  (0): BasicBlock(\n",
            "    (conv1): Conv2d(64, 128, kernel_size=(3, 3), stride=(2, 2), padding=(1, 1), bias=False)\n",
            "    (bn1): BatchNorm2d(128, eps=1e-05, momentum=0.1, affine=True, track_running_stats=True)\n",
            "    (relu): ReLU(inplace=True)\n",
            "    (conv2): Conv2d(128, 128, kernel_size=(3, 3), stride=(1, 1), padding=(1, 1), bias=False)\n",
            "    (bn2): BatchNorm2d(128, eps=1e-05, momentum=0.1, affine=True, track_running_stats=True)\n",
            "    (downsample): Sequential(\n",
            "      (0): Conv2d(64, 128, kernel_size=(1, 1), stride=(2, 2), bias=False)\n",
            "      (1): BatchNorm2d(128, eps=1e-05, momentum=0.1, affine=True, track_running_stats=True)\n",
            "    )\n",
            "  )\n",
            "  (1): BasicBlock(\n",
            "    (conv1): Conv2d(128, 128, kernel_size=(3, 3), stride=(1, 1), padding=(1, 1), bias=False)\n",
            "    (bn1): BatchNorm2d(128, eps=1e-05, momentum=0.1, affine=True, track_running_stats=True)\n",
            "    (relu): ReLU(inplace=True)\n",
            "    (conv2): Conv2d(128, 128, kernel_size=(3, 3), stride=(1, 1), padding=(1, 1), bias=False)\n",
            "    (bn2): BatchNorm2d(128, eps=1e-05, momentum=0.1, affine=True, track_running_stats=True)\n",
            "  )\n",
            "), Sequential(\n",
            "  (0): BasicBlock(\n",
            "    (conv1): Conv2d(128, 256, kernel_size=(3, 3), stride=(2, 2), padding=(1, 1), bias=False)\n",
            "    (bn1): BatchNorm2d(256, eps=1e-05, momentum=0.1, affine=True, track_running_stats=True)\n",
            "    (relu): ReLU(inplace=True)\n",
            "    (conv2): Conv2d(256, 256, kernel_size=(3, 3), stride=(1, 1), padding=(1, 1), bias=False)\n",
            "    (bn2): BatchNorm2d(256, eps=1e-05, momentum=0.1, affine=True, track_running_stats=True)\n",
            "    (downsample): Sequential(\n",
            "      (0): Conv2d(128, 256, kernel_size=(1, 1), stride=(2, 2), bias=False)\n",
            "      (1): BatchNorm2d(256, eps=1e-05, momentum=0.1, affine=True, track_running_stats=True)\n",
            "    )\n",
            "  )\n",
            "  (1): BasicBlock(\n",
            "    (conv1): Conv2d(256, 256, kernel_size=(3, 3), stride=(1, 1), padding=(1, 1), bias=False)\n",
            "    (bn1): BatchNorm2d(256, eps=1e-05, momentum=0.1, affine=True, track_running_stats=True)\n",
            "    (relu): ReLU(inplace=True)\n",
            "    (conv2): Conv2d(256, 256, kernel_size=(3, 3), stride=(1, 1), padding=(1, 1), bias=False)\n",
            "    (bn2): BatchNorm2d(256, eps=1e-05, momentum=0.1, affine=True, track_running_stats=True)\n",
            "  )\n",
            "), Sequential(\n",
            "  (0): BasicBlock(\n",
            "    (conv1): Conv2d(256, 512, kernel_size=(3, 3), stride=(2, 2), padding=(1, 1), bias=False)\n",
            "    (bn1): BatchNorm2d(512, eps=1e-05, momentum=0.1, affine=True, track_running_stats=True)\n",
            "    (relu): ReLU(inplace=True)\n",
            "    (conv2): Conv2d(512, 512, kernel_size=(3, 3), stride=(1, 1), padding=(1, 1), bias=False)\n",
            "    (bn2): BatchNorm2d(512, eps=1e-05, momentum=0.1, affine=True, track_running_stats=True)\n",
            "    (downsample): Sequential(\n",
            "      (0): Conv2d(256, 512, kernel_size=(1, 1), stride=(2, 2), bias=False)\n",
            "      (1): BatchNorm2d(512, eps=1e-05, momentum=0.1, affine=True, track_running_stats=True)\n",
            "    )\n",
            "  )\n",
            "  (1): BasicBlock(\n",
            "    (conv1): Conv2d(512, 512, kernel_size=(3, 3), stride=(1, 1), padding=(1, 1), bias=False)\n",
            "    (bn1): BatchNorm2d(512, eps=1e-05, momentum=0.1, affine=True, track_running_stats=True)\n",
            "    (relu): ReLU(inplace=True)\n",
            "    (conv2): Conv2d(512, 512, kernel_size=(3, 3), stride=(1, 1), padding=(1, 1), bias=False)\n",
            "    (bn2): BatchNorm2d(512, eps=1e-05, momentum=0.1, affine=True, track_running_stats=True)\n",
            "  )\n",
            "), AdaptiveAvgPool2d(output_size=(1, 1)), Linear(in_features=512, out_features=1000, bias=True)]\n"
          ]
        }
      ],
      "source": [
        "from typing_extensions import Self\n",
        "print(list(pretrained_model.children()))\n",
        "#features=list(pretrained_model.children())[:-2] #rid pooling and fc\n",
        "features=list(pretrained_model.children())[:-1] #only remove fc\n",
        "model_out=nn.Sequential(*features).to(device)\n",
        "def for_feature(loader):\n",
        "  data_tmp=[]\n",
        "  label_tmp=[]\n",
        "\n",
        "  with torch.no_grad():\n",
        "      for img,label in loader:\n",
        "        img=img.to(device)\n",
        "       # labels=labels.to(device)\n",
        "        #labels=torch.torch.tensor(labels, dtype=torch.long)\n",
        "\n",
        "        output1=model_out(img)\n",
        "\n",
        "       # labels1=np.array([int(i) for in in lablels])\n",
        "       # for i in labels1:\n",
        "        #    label1=i\n",
        "         #   lasds.append(labels)\n",
        "          #  for i in outputs:\n",
        "           #     tmp.append(i)\n",
        "            #labels = labels.to(DEVICE)\n",
        "            #outputs = torch.tensor(outputs)\n",
        "           # outputs = outputs.to(DEVICE)\n",
        "           ## loss = loss_fn(outputs, labels)\n",
        "          #  test_loss += loss.item()\n",
        "           # ps = torch.exp(outputs)\n",
        "           # top_p, top_class = ps.topk(1, dim=1)\n",
        "          #  equals = top_class == labels.view(*top_class.shape)\n",
        "          #  accuracy += torch.mean(equals.type(torch.FloatTensor)).item()\n",
        "        #acc.append(accuracy / len(test_loader))\n",
        "\n",
        "#lapsds = torch.Tensor(lasds)\n",
        "#tmp = torch.Tensor(tmp)\n",
        "#print(acc)\n",
        "# with open('ResNet_Test_FTLoss.txt', 'w') as f:\n",
        "#     for item in loss_FocalLoss:\n",
        "#         f.write(\"%s\\n\" % item)\n",
        "        #output=nn.functional.softmax(output1,dim=0)#not needed i think\n",
        "        data_tmp.append(output1.cpu().numpy())\n",
        "        label_tmp.append(label.cpu().numpy())\n",
        "        #print('label: ' +str(label))\n",
        "\n",
        "\n",
        "\n",
        "  return np.vstack(data_tmp), np.hstack(label_tmp)\n",
        "\n",
        "#np.save(\"Feature_ResNet_Test\", tmp)\n",
        "#np.save(\"Label_ResNet_Test\", lasds)\n",
        "\n",
        "\n"
      ]
    },
    {
      "cell_type": "code",
      "source": [
        "trained_feature, trained_label=for_feature(train_loader)"
      ],
      "metadata": {
        "id": "kdSFIHPJahJ-"
      },
      "execution_count": 43,
      "outputs": []
    },
    {
      "cell_type": "code",
      "execution_count": null,
      "metadata": {
        "colab": {
          "base_uri": "https://localhost:8080/"
        },
        "id": "ctUXiB33e2MM",
        "outputId": "4f234104-e865-4bb9-ccde-0b75b46d87bc"
      },
      "outputs": [
        {
          "output_type": "execute_result",
          "data": {
            "text/plain": [
              "array([[[[1.4567748 ]],\n",
              "\n",
              "        [[2.1761758 ]],\n",
              "\n",
              "        [[0.42183247]],\n",
              "\n",
              "        ...,\n",
              "\n",
              "        [[1.8665917 ]],\n",
              "\n",
              "        [[0.02740316]],\n",
              "\n",
              "        [[0.32328293]]],\n",
              "\n",
              "\n",
              "       [[[1.1903226 ]],\n",
              "\n",
              "        [[0.3890672 ]],\n",
              "\n",
              "        [[0.17162059]],\n",
              "\n",
              "        ...,\n",
              "\n",
              "        [[0.72148335]],\n",
              "\n",
              "        [[1.0154445 ]],\n",
              "\n",
              "        [[0.29301634]]],\n",
              "\n",
              "\n",
              "       [[[1.4535049 ]],\n",
              "\n",
              "        [[2.1874237 ]],\n",
              "\n",
              "        [[0.42623675]],\n",
              "\n",
              "        ...,\n",
              "\n",
              "        [[1.9371736 ]],\n",
              "\n",
              "        [[0.02388712]],\n",
              "\n",
              "        [[0.31092116]]],\n",
              "\n",
              "\n",
              "       ...,\n",
              "\n",
              "\n",
              "       [[[1.5259755 ]],\n",
              "\n",
              "        [[2.244106  ]],\n",
              "\n",
              "        [[0.44283777]],\n",
              "\n",
              "        ...,\n",
              "\n",
              "        [[1.9384283 ]],\n",
              "\n",
              "        [[0.04457682]],\n",
              "\n",
              "        [[0.33210197]]],\n",
              "\n",
              "\n",
              "       [[[1.4833624 ]],\n",
              "\n",
              "        [[2.2563384 ]],\n",
              "\n",
              "        [[0.42646915]],\n",
              "\n",
              "        ...,\n",
              "\n",
              "        [[1.9350481 ]],\n",
              "\n",
              "        [[0.02035372]],\n",
              "\n",
              "        [[0.32039255]]],\n",
              "\n",
              "\n",
              "       [[[1.1620165 ]],\n",
              "\n",
              "        [[0.37747237]],\n",
              "\n",
              "        [[0.19465993]],\n",
              "\n",
              "        ...,\n",
              "\n",
              "        [[0.7225223 ]],\n",
              "\n",
              "        [[0.47790852]],\n",
              "\n",
              "        [[0.30377996]]]], dtype=float32)"
            ]
          },
          "metadata": {},
          "execution_count": 21
        }
      ],
      "source": [
        "trained_feature"
      ]
    },
    {
      "cell_type": "code",
      "execution_count": 44,
      "metadata": {
        "colab": {
          "base_uri": "https://localhost:8080/"
        },
        "id": "6amxQmo8iAdB",
        "outputId": "2eecd2c3-7130-461e-dc48-44fdd83f8943"
      },
      "outputs": [
        {
          "output_type": "execute_result",
          "data": {
            "text/plain": [
              "(4200, 512, 1, 1)"
            ]
          },
          "metadata": {},
          "execution_count": 44
        }
      ],
      "source": [
        "trained_feature.shape"
      ]
    },
    {
      "cell_type": "code",
      "source": [
        "trained_feature_n=trained_feature.reshape(4200,512)"
      ],
      "metadata": {
        "id": "j23ifqP2iZl9"
      },
      "execution_count": 45,
      "outputs": []
    },
    {
      "cell_type": "code",
      "execution_count": 46,
      "metadata": {
        "colab": {
          "base_uri": "https://localhost:8080/"
        },
        "id": "HnsYB_AmiTzt",
        "outputId": "cfc33e44-a50b-410d-dc75-c12d326e9115"
      },
      "outputs": [
        {
          "output_type": "execute_result",
          "data": {
            "text/plain": [
              "DescribeResult(nobs=4200, minmax=(0, 2), mean=1.010952380952381, variance=0.6605135009469374, skewness=-0.0200259735181674, kurtosis=-1.4854010839395957)"
            ]
          },
          "metadata": {},
          "execution_count": 46
        }
      ],
      "source": [
        "from scipy import stats\n",
        "stats.describe(trained_label)\n",
        "#trained_label.describe()"
      ]
    },
    {
      "cell_type": "code",
      "execution_count": 47,
      "metadata": {
        "colab": {
          "base_uri": "https://localhost:8080/"
        },
        "id": "j2NQ1ZqRiZ-C",
        "outputId": "f429f19f-6a64-4b0b-fb14-9dcd84730b91"
      },
      "outputs": [
        {
          "output_type": "execute_result",
          "data": {
            "text/plain": [
              "(4200,)"
            ]
          },
          "metadata": {},
          "execution_count": 47
        }
      ],
      "source": [
        "trained_label.shape"
      ]
    },
    {
      "cell_type": "code",
      "execution_count": 48,
      "metadata": {
        "id": "xonNLFdkYdTf"
      },
      "outputs": [],
      "source": [
        "#T-SNE\n",
        "from sklearn.manifold import TSNE\n",
        "import plotly.express as px\n",
        "#plot_matrix_grid(model.coef_[0].T.reshape(-1,224,224))"
      ]
    },
    {
      "cell_type": "code",
      "execution_count": 49,
      "metadata": {
        "colab": {
          "base_uri": "https://localhost:8080/",
          "height": 542
        },
        "id": "J0_9YaaHdgIv",
        "outputId": "06a1c406-bf2e-426d-cf50-cbcae711fbd7"
      },
      "outputs": [
        {
          "output_type": "display_data",
          "data": {
            "text/html": [
              "<html>\n",
              "<head><meta charset=\"utf-8\" /></head>\n",
              "<body>\n",
              "    <div>            <script src=\"https://cdnjs.cloudflare.com/ajax/libs/mathjax/2.7.5/MathJax.js?config=TeX-AMS-MML_SVG\"></script><script type=\"text/javascript\">if (window.MathJax && window.MathJax.Hub && window.MathJax.Hub.Config) {window.MathJax.Hub.Config({SVG: {font: \"STIX-Web\"}});}</script>                <script type=\"text/javascript\">window.PlotlyConfig = {MathJaxConfig: 'local'};</script>\n",
              "        <script charset=\"utf-8\" src=\"https://cdn.plot.ly/plotly-2.24.1.min.js\"></script>                <div id=\"8c78b905-2938-4a33-a712-3f36bd053a5b\" class=\"plotly-graph-div\" style=\"height:525px; width:100%;\"></div>            <script type=\"text/javascript\">                                    window.PLOTLYENV=window.PLOTLYENV || {};                                    if (document.getElementById(\"8c78b905-2938-4a33-a712-3f36bd053a5b\")) {                    Plotly.newPlot(                        \"8c78b905-2938-4a33-a712-3f36bd053a5b\",                        [{\"hovertemplate\":\"x=%{x}\\u003cbr\\u003eindex=%{y}\\u003cbr\\u003e=%{marker.color}\\u003cextra\\u003e\\u003c\\u002fextra\\u003e\",\"legendgroup\":\"\",\"marker\":{\"color\":[0,2,2,2,2,2,2,1,0,2,1,0,2,1,0,1,1,2,2,2,2,0,0,1,2,0,2,2,0,1,1,1,0,0,2,2,2,1,1,1,1,1,0,0,0,0,1,1,1,0,2,1,2,1,0,2,1,0,0,2,0,1,0,1,2,0,1,1,1,1,0,0,0,2,1,0,2,0,0,2,0,0,2,2,0,1,1,1,1,0,2,1,2,2,1,2,2,0,1,2,0,1,0,1,2,0,1,0,1,0,2,2,2,2,1,2,0,2,1,0,2,0,1,2,1,0,2,0,2,2,0,1,2,1,2,0,1,2,0,0,1,0,0,2,0,1,2,1,1,1,1,1,0,2,2,1,2,1,1,2,1,0,0,2,1,0,2,0,2,2,1,0,0,1,0,0,2,0,1,2,2,1,1,2,1,2,2,1,2,0,1,1,1,2,1,1,0,0,0,0,1,1,2,0,2,2,2,2,0,0,0,1,2,1,0,0,1,2,2,2,0,1,0,1,1,1,0,2,0,1,2,2,1,0,2,2,2,0,2,0,2,1,2,1,2,0,1,1,1,0,1,1,2,2,1,1,0,1,1,2,1,1,0,0,2,0,1,2,0,2,0,2,0,0,1,2,1,1,0,0,2,2,0,0,0,1,0,2,2,0,1,2,2,0,1,2,2,0,1,1,2,0,2,1,2,2,2,2,0,0,0,2,2,2,1,0,2,2,0,0,2,1,2,0,0,2,0,0,1,1,2,1,2,0,1,1,2,2,1,0,1,2,0,2,0,0,2,0,1,0,2,0,0,1,2,1,2,0,0,2,0,2,1,2,1,0,2,2,0,0,2,0,1,2,2,0,2,1,0,1,2,0,1,0,0,1,1,0,2,1,0,1,1,1,0,0,2,2,1,1,1,1,1,2,0,0,2,0,2,1,1,2,1,0,2,2,2,1,0,2,2,2,2,1,1,1,2,0,1,2,0,1,0,2,1,0,1,0,1,1,0,1,0,2,2,0,2,0,0,2,2,1,0,0,2,1,2,0,0,2,1,0,2,2,2,0,0,1,0,2,1,1,2,1,1,1,2,0,2,0,1,1,1,0,0,2,0,1,2,0,0,0,1,1,0,1,0,2,0,0,1,1,1,2,2,0,2,2,1,1,1,1,0,2,0,0,0,1,2,1,2,1,2,0,1,1,1,1,0,0,1,1,2,1,2,0,1,2,0,2,2,1,0,2,2,2,2,2,1,1,2,1,2,2,0,0,0,0,1,2,1,2,1,0,2,2,2,0,1,2,1,2,2,1,1,0,2,0,1,0,2,2,2,2,1,0,0,2,2,2,2,1,2,2,2,1,0,0,2,2,0,1,2,2,1,2,2,0,2,0,0,0,1,1,2,2,0,1,2,1,2,2,0,0,2,1,2,0,0,2,0,0,1,2,2,0,0,2,1,0,2,1,0,1,0,0,1,1,1,2,0,1,0,2,2,1,1,2,1,0,0,2,2,1,1,1,1,2,1,2,2,2,2,0,2,2,2,2,2,1,2,2,0,0,0,2,1,0,2,2,1,1,2,1,0,2,1,2,2,2,0,1,1,1,1,1,1,1,2,1,2,0,2,2,0,2,0,0,0,1,0,2,1,2,1,1,0,1,0,1,2,2,2,1,0,1,1,0,0,2,0,0,2,0,2,1,0,1,2,0,1,1,1,1,1,0,2,0,1,1,2,1,1,1,2,1,0,2,0,1,2,1,0,2,0,2,2,1,0,1,0,1,0,1,0,1,2,0,2,1,0,2,0,2,1,2,1,2,1,1,1,1,0,1,2,0,0,2,1,2,0,2,1,1,1,2,2,0,2,0,0,1,0,0,0,2,0,1,0,2,0,1,1,0,2,2,0,1,2,2,0,0,1,1,2,2,0,1,1,1,1,2,2,1,2,0,1,2,0,2,2,1,1,0,0,2,1,1,1,2,2,1,1,0,0,0,0,2,2,1,2,1,2,2,2,1,2,2,0,0,1,1,0,2,1,0,0,2,2,0,2,1,1,0,1,0,1,0,1,0,2,2,1,0,1,2,0,1,0,0,1,0,2,2,1,0,0,0,0,0,0,1,2,1,0,2,2,1,1,1,2,1,2,2,1,2,0,2,0,2,1,1,0,1,0,2,0,2,0,1,2,1,1,2,0,2,1,1,1,1,0,0,0,1,1,0,1,1,0,2,0,1,2,1,0,1,0,2,2,2,1,1,1,2,1,1,1,2,2,0,2,2,1,2,1,1,2,0,1,2,1,2,0,2,0,0,0,1,2,0,2,1,1,0,0,0,1,0,0,2,2,0,0,0,2,2,2,2,1,2,0,0,2,2,1,2,1,2,2,0,0,0,1,2,0,0,2,1,2,2,1,1,0,1,1,1,1,0,0,1,1,1,2,0,2,0,0,2,0,1,0,0,0,1,1,0,2,2,0,2,0,2,0,0,1,1,1,0,0,0,0,1,0,2,2,2,1,1,0,1,1,1,0,0,0,1,2,1,0,0,1,2,2,2,1,0,0,1,1,1,2,1,1,2,1,0,2,1,0,1,1,2,1,2,0,0,0,2,1,0,0,0,2,1,0,1,1,2,0,2,1,2,1,1,1,1,1,2,0,1,1,2,1,1,0,0,0,1,0,2,1,2,2,0,2,2,0,0,1,2,1,2,0,0,0,1,2,2,1,2,1,0,2,1,1,2,1,1,0,0,2,1,0,0,1,1,0,2,0,2,0,0,1,2,0,1,1,0,0,1,1,2,2,2,2,2,2,2,1,1,1,2,2,0,1,0,2,0,2,2,1,1,2,2,0,1,2,0,2,2,0,1,0,2,2,1,0,1,2,1,2,0,1,2,2,1,2,0,1,2,0,1,0,0,2,1,1,0,1,1,0,0,0,1,2,2,1,2,2,0,1,1,0,0,0,0,0,1,2,2,1,1,0,0,2,2,1,0,1,0,1,1,2,0,1,1,1,0,2,1,1,1,0,1,2,1,2,0,0,2,1,1,0,2,1,2,2,2,2,1,1,0,0,1,0,0,1,0,2,0,2,1,0,0,2,0,0,0,0,0,2,2,2,1,2,2,1,2,2,2,1,0,1,1,1,2,0,2,1,0,1,2,1,2,1,1,0,0,1,2,0,2,2,1,0,2,2,1,0,0,2,0,0,0,0,0,1,2,1,0,0,0,2,2,1,1,1,0,1,1,0,2,0,2,1,0,2,1,2,0,0,1,1,2,2,2,0,1,0,2,2,2,2,2,1,0,1,2,2,1,2,0,2,1,1,2,2,2,2,2,1,0,0,1,2,2,1,1,0,1,1,2,0,0,1,2,0,0,0,1,2,1,2,2,0,0,0,1,2,1,0,2,1,1,2,1,0,1,1,1,0,1,0,0,0,1,2,1,2,2,2,1,2,1,1,0,2,2,2,2,0,2,1,2,0,0,2,2,1,2,1,0,2,1,2,0,1,0,2,0,0,2,0,1,0,0,0,2,1,0,1,0,2,0,0,2,1,1,1,1,1,0,2,1,2,2,1,2,2,1,0,0,1,0,2,2,2,1,2,0,0,0,1,1,1,0,0,1,1,2,2,0,0,1,1,2,2,0,1,0,0,1,1,0,1,2,0,2,2,1,1,1,2,1,1,1,0,0,2,0,2,2,0,1,1,0,1,2,2,1,1,0,0,0,0,0,2,2,2,1,0,2,0,1,1,0,1,1,1,0,2,2,0,0,1,1,1,1,2,1,2,0,1,1,2,2,1,1,2,1,2,1,1,0,2,2,1,0,2,1,1,2,0,2,0,0,0,2,0,0,0,2,1,0,0,0,2,2,0,0,2,1,0,2,1,1,0,2,2,1,2,1,2,1,2,0,0,2,1,0,1,1,1,2,1,1,2,0,1,1,0,2,0,1,2,1,0,2,1,2,2,1,1,2,2,2,0,1,2,1,1,2,2,1,1,0,0,1,0,0,0,1,2,2,2,0,0,1,2,0,2,1,1,1,1,0,2,1,1,0,0,1,2,2,0,2,1,1,0,1,2,2,2,2,0,0,2,0,1,1,0,0,1,0,2,0,2,1,0,1,1,1,2,0,1,2,0,2,2,0,2,2,1,0,0,1,0,2,1,1,2,1,2,0,2,2,0,0,2,1,1,0,0,2,1,0,2,2,0,2,2,0,1,0,2,0,1,2,1,1,1,0,0,1,1,1,2,0,2,2,1,1,0,0,0,1,2,1,0,1,0,2,1,1,0,2,0,2,1,0,0,0,1,0,0,1,1,1,1,0,2,2,0,0,2,1,2,2,1,1,1,2,2,2,1,2,1,1,1,1,2,2,1,0,1,0,1,2,1,2,2,1,0,2,0,2,2,2,0,2,1,0,0,2,0,1,1,2,2,1,2,1,2,0,0,2,2,0,0,1,2,1,2,0,0,1,1,1,1,0,1,1,0,0,0,1,2,0,1,2,0,0,1,0,2,2,1,1,2,1,0,1,2,1,0,2,1,0,0,0,2,0,1,2,0,1,1,2,0,1,1,1,0,1,0,2,1,2,0,0,0,2,0,0,0,2,2,1,2,2,1,0,1,0,2,1,0,2,1,2,0,1,0,2,0,0,0,1,2,0,0,0,2,1,0,1,1,1,1,0,1,2,1,1,1,1,0,1,1,1,1,0,0,1,0,1,0,2,0,0,2,0,0,2,2,0,0,0,1,2,2,1,0,2,2,2,2,2,2,2,1,0,1,1,0,0,2,0,2,2,1,2,0,1,1,1,1,0,1,0,1,0,2,2,0,2,1,0,2,2,2,2,0,1,1,1,0,1,1,1,0,1,1,0,1,0,2,2,2,1,0,0,1,1,2,1,1,2,2,2,2,0,2,0,0,0,2,0,0,2,2,2,2,2,2,0,2,2,1,2,1,0,0,1,1,1,1,1,0,0,1,0,0,0,1,0,2,0,1,2,1,1,0,0,0,2,0,2,1,1,0,2,1,2,0,1,1,1,2,1,1,1,1,1,2,0,2,1,2,0,1,0,0,0,0,1,1,1,2,1,2,1,0,2,1,2,1,1,0,1,0,0,0,1,0,0,0,2,2,1,0,2,0,2,0,0,1,0,1,0,2,2,1,0,2,2,1,1,0,1,2,1,2,2,2,0,1,2,0,0,1,2,0,2,0,0,1,2,0,2,0,0,2,1,1,1,1,1,0,1,2,1,0,1,0,1,1,0,2,0,2,0,1,1,2,2,1,0,2,1,1,2,2,2,2,1,2,1,0,1,2,1,1,0,0,1,0,1,2,2,2,2,2,1,2,2,1,2,2,2,0,0,0,1,1,2,0,2,0,2,0,1,0,0,0,2,1,0,0,2,0,1,0,1,1,0,1,1,1,1,2,2,2,1,2,2,0,0,0,2,0,1,1,1,1,2,0,0,2,0,1,2,1,0,2,0,2,2,0,0,0,2,1,1,1,0,1,0,0,2,1,1,0,2,0,1,0,0,0,0,1,2,2,2,1,1,2,1,2,1,2,2,1,0,0,2,1,2,0,2,1,1,1,0,0,1,2,0,0,1,2,0,2,1,1,1,1,2,2,2,1,2,2,1,0,0,2,0,0,2,2,1,0,1,0,2,1,1,2,1,1,2,1,2,1,2,0,0,2,1,1,2,1,1,1,0,2,1,0,1,1,2,0,0,2,2,0,0,0,0,1,0,0,1,2,1,2,1,2,0,2,0,1,0,0,2,1,0,0,1,2,2,1,0,2,2,2,1,2,0,1,2,0,1,0,0,0,0,2,0,0,0,1,2,1,0,2,0,1,0,2,0,2,0,2,1,0,1,0,0,0,0,2,1,1,1,0,2,2,0,1,2,2,1,0,0,2,0,0,1,1,2,2,0,1,0,2,0,0,1,2,0,1,0,0,1,2,2,1,1,1,0,1,0,2,2,2,0,0,0,1,1,2,1,1,1,1,2,0,1,2,1,2,1,0,2,0,2,0,2,2,0,2,1,1,2,2,0,0,0,2,1,2,2,1,1,2,0,0,1,0,1,2,2,1,0,2,1,1,1,1,1,1,0,2,1,1,0,1,1,0,2,2,0,1,1,0,1,2,1,0,2,2,2,0,1,0,0,1,1,0,0,0,0,1,1,1,1,2,0,1,1,1,0,0,2,2,2,0,1,2,2,0,2,1,2,2,1,2,0,2,2,0,1,2,1,1,1,1,1,2,1,2,1,2,2,2,2,2,2,0,1,0,1,1,1,0,1,0,2,0,2,2,2,0,1,2,2,1,2,2,0,2,2,1,0,1,0,0,2,2,1,2,1,1,0,0,1,2,0,2,0,2,2,1,0,0,1,0,2,0,2,2,0,0,1,1,0,0,2,2,0,0,1,1,2,1,1,1,2,0,2,2,2,2,0,0,2,1,0,1,2,2,0,0,2,1,1,1,2,0,1,2,1,2,0,1,2,1,0,2,0,2,2,1,2,2,0,2,0,2,1,2,2,2,2,2,1,2,0,2,0,1,0,0,0,2,1,2,0,0,1,2,2,1,0,0,1,0,2,2,0,2,1,0,1,0,0,0,2,1,0,0,0,1,0,1,2,1,2,2,2,2,2,2,2,2,2,1,0,1,2,0,1,2,1,1,2,1,2,1,0,0,0,1,0,2,1,0,2,1,2,2,1,1,2,1,2,1,2,0,1,2,1,0,2,1,0,2,1,1,0,0,0,1,0,0,0,0,2,0,2,1,0,2,1,0,1,0,1,2,2,0,2,0,2,1,1,2,0,1,0,0,1,2,0,2,2,1,1,1,2,0,1,2,1,1,0,0,2,1,1,1,2,0,0,2,0,1,0,0,1,2,1,0,2,2,2,2,0,2,1,2,1,1,1,1,2,0,2,1,1,0,0,0,2,2,2,0,1,0,1,2,1,0,1,0,1,1,2,1,1,2,0,0,2,2,2,1,1,0,0,1,2,2,0,2,2,1,1,1,1,1,0,2,2,2,2,0,0,1,2,2,0,1,1,2,0,1,2,1,1,2,1,2,0,1,0,1,1,1,0,1,0,0,1,0,1,0,1,0,2,0,2,0,1,2,1,1,1,0,2,0,0,0,1,0,0,0,2,2,0,0,0,0,2,2,2,1,2,0,0,0,1,2,0,0,1,2,1,0,1,0,2,0,1,1,2,0,2,0,1,2,2,0,2,2,2,2,0,1,0,0,1,2,2,1,2,1,2,1,2,1,0,2,1,1,2,2,1,1,0,1,2,0,0,0,0,0,2,2,0,0,2,0,2,1,2,1,1,1,0,2,1,0,2,1,0,1,0,2,1,1,2,0,0,1,0,0,0,1,1,0,2,1,2,1,1,0,0,0,1,2,1,0,1,0,2,1,1,0,0,2,0,0,0,2,1,2,1,0,2,2,0,0,2,2,2,1,0,0,1,0,0,1,2,1,2,2,2,0,0,0,2,1,0,0,2,0,1,1,2,0,1,1,1,2,1,1,2,2,1,1,1,1,1,0,0,0,2,0,1,0,2,1,2,0,2,2,0,0,2,0,0,2,2,1,2,1,1,1,2,0,1,1,0,1,1,2,0,0,2,2,2,0,1,2,0,2,0,1,0,2,1,0,1,0,1,1,2,0,2,2,2,1,0,2,0,1,1,2,1,1,0,2,0,0,2,2,1,1,1,1,2,0,2,0,2,2,2,2,1,0,0,1,0,0,2,1,2,0,2,0,2,2,2,0,1,0,1,0,0,2,1,0,2,2,0,1,2,0,2,2,0,1,0,2,2,1,2,1,2,2,0,1,0,0,2,0,0,2,0,1,0,1,0,0,1,2,2,1,2,0,2,0,0,2,2,0,2,1,2,0,1,0,2,0,1,0,2,2,2,0,2,0,2,2,2,0,0,2,1,1,0,2,2,2,0,1,1,0,1,2,1,2,2,1,1,0,1,1,1,1,1,2,2,0,1,1,1,1,0,2,0,1,1,2,2,2,0,2,1,0,0,1,1,1,2,0,2,1,1,2,0,1,2,2,2,2,0,1,0,1,1,2,2,2,2,2,2,2,0,1,2,1,0,0,0,2,0,1,2,2,1,2,2,1,2,2,0,1,1,0,0,0,2,1,1,0,0,1,1,2,2,1,2,0,1,2,0,1,1,1,1,2,2,2,1,2,1,1,1,0,1,1,2,1,2,0,0,0,1,0,1,0,1,1,0,2,2,1,0,0,1,2,2,0,2,1,2,1,1,2,0,0,0,1,1,2,0,1,2,2,2,0,1,0,1,1,1,0,1,0,2,1,2,1,1,1,2,2,1,2,1,2,2,0,0,0,0,1,2,0,0,1,2,2,0,1,0,1,1,2,1,1,0,1,0,1,1,2,0,2,2,1,1,2,1,0,0,0,1,0,0,0,1,1,2,2,2,0,0,0,0,0,0,0,2,0,1,0,2,2,0,0,2,0,1,0,0,0,2,2,0,1,2,2,2,0,1,1,0,0,0,2,0,1,2,0,2,2,2,0,2,2,1,2,1,0,0,2,1,1,1,0,2,2,0,2,2,1,1,1,1,0,2,0,0,2,1,2,2,1,0,2,0,2,1,1,1,2,0,2,2,0,2,1,2,0,2,0,0,1,1,2,2,1,1,2,1,0,2,2,1,2,1,2,2,2,0,0,2,1,1,0,0,0,1,1,1,1,1,0,0,2,1,1,0,1,2,2,0,0,1,2,1,1,1,2,1,1,2,1,1,1,2,0,2,2,2,2,2,2,1,0,2,1,2,0,0,0,0,1,1,0,0,1,0,0,0,2,2,2,1,1,1,1,2,0,2,2,0,1,2,2,0,0,1,1,0,1,0,2,0,0,2,1,1,1,0,1,1,1,1,2,2,0,1,1,2,0,0,1,1,0,2,2,2,1,1,1,0,2,0,2,0,2,0,1,2,2,0,2,0,0,2,1,2,0,0,2,1,0,1,2,2,0,2,1,2,1,0,2,1,2,0,2,0,1,0,1,0,2,0,2,0,0,1,0,0,0,1,2,0,1,2,2,2,1,1,0,2,1,0,0,2,1,2,1,1,2,1,1,1,2,1,2,1,0,0,1,1,0,1,2,1,0,1,1,2,0,1,0,0,1,2,0,1,2,0,0,0,1,2,1,2,0,1,0,0,1,0,1,2,0,2,0,1,0,2,0,0,1,2,1,2,0,1,0,2,0,0,1,1,2,2,2,2,0,2,0,0,1,0,1,2,1,1,0,2,2,2,2,2,1,2,0,1,2,2,0,1,1,2,0,1,0,2,1,2,2,1,1,1,1,0,2,0,0,0,1,0,0,0,2,0,1,2,0,2,1,2,0,2,2,2,2,0,2,0,1,2,0,0,2,1,1,2,2,2,1,1,0,0,2,0,0,2,0,2,2,1,1,1,0,2,0,0,2,2],\"coloraxis\":\"coloraxis\",\"symbol\":\"circle\"},\"mode\":\"markers\",\"name\":\"\",\"showlegend\":false,\"x\":[58.63224792480469,-8.926633834838867,2.0562446117401123,-7.917847156524658,-7.452775955200195,-32.62197494506836,-11.264657974243164,26.069223403930664,14.15534496307373,-39.2084846496582,13.044837951660156,44.42281723022461,-3.968801259994507,-21.65234375,36.07252502441406,-29.61332893371582,-5.238738536834717,-47.690834045410156,-21.00128173828125,-43.831459045410156,-2.704172372817993,59.61310577392578,13.288277626037598,19.227657318115234,-18.73728370666504,47.37456512451172,-6.014543056488037,-11.411161422729492,8.27524185180664,15.317817687988281,7.843192100524902,17.403518676757812,3.141913414001465,28.804969787597656,-5.447413921356201,-42.923179626464844,-45.23381805419922,2.0103211402893066,-11.545686721801758,-7.042373180389404,-7.506716728210449,15.208049774169922,-5.830968379974365,15.645410537719727,35.998138427734375,42.66259002685547,16.33921241760254,12.073970794677734,-14.403739929199219,44.7155647277832,-4.969768047332764,-4.8967604637146,-19.30358123779297,-18.404754638671875,29.61628532409668,-10.726675033569336,-16.644454956054688,26.222179412841797,10.568339347839355,-40.80691146850586,-5.192483901977539,-16.11001205444336,29.351707458496094,-3.1911187171936035,4.673092842102051,0.6985898613929749,-24.483726501464844,6.484142303466797,0.9620258212089539,-7.829148769378662,19.124225616455078,-2.2158565521240234,26.58679962158203,-52.43922805786133,-1.6290767192840576,49.19208908081055,-18.73579978942871,27.792903900146484,5.632948398590088,-11.985776901245117,46.99592971801758,57.332847595214844,-10.282848358154297,12.569836616516113,1.989791750907898,27.3243465423584,-5.369410037994385,20.366718292236328,-8.76457405090332,-3.329838991165161,-7.477355480194092,-19.207820892333984,-42.469154357910156,-43.757503509521484,18.98417854309082,-39.700599670410156,-8.411863327026367,38.91083526611328,-11.620136260986328,-1.8034001588821411,32.62972640991211,-4.068886756896973,6.057375431060791,14.497313499450684,-27.452970504760742,-4.531769752502441,-12.100358009338379,26.167552947998047,-21.107866287231445,48.74916076660156,-41.92168426513672,-12.66921329498291,-33.714725494384766,-9.689468383789062,-23.403209686279297,-21.40941619873047,-6.235147476196289,-43.734619140625,-18.32781410217285,51.45098876953125,-34.91317367553711,56.596927642822266,-26.207050323486328,-36.938377380371094,-5.311367511749268,29.1160888671875,-11.111445426940918,35.21211624145508,-22.1392879486084,-25.006181716918945,43.953758239746094,-8.09929084777832,-40.122825622558594,-6.258472442626953,-25.313974380493164,53.22427749633789,-16.46027946472168,-53.89634704589844,44.49568176269531,58.684425354003906,18.85169219970703,-5.133067607879639,9.178070068359375,-48.473018646240234,44.32550048828125,-2.3227293491363525,-0.4376026391983032,9.448801040649414,-3.8016457557678223,17.71654510498047,-5.830529689788818,-5.900121688842773,10.471465110778809,-42.47343826293945,8.928406715393066,6.707973480224609,2.3315815925598145,31.530977249145508,-3.5363638401031494,-2.713104486465454,-16.703203201293945,34.68935775756836,45.083744049072266,-7.63222074508667,-19.277755737304688,43.44810485839844,7.755424976348877,14.037184715270996,-1.3880254030227661,-5.134378910064697,-7.022608280181885,5.6051716804504395,2.362316131591797,8.33549690246582,40.66704177856445,6.8241658210754395,-25.829280853271484,52.655086517333984,-13.806297302246094,-4.336418151855469,-52.20304489135742,5.346836090087891,1.895090937614441,-10.832955360412598,-19.166067123413086,-11.176114082336426,-6.559810161590576,-2.8471763134002686,-5.790379524230957,55.598106384277344,20.79913902282715,27.515268325805664,24.337343215942383,-51.66987609863281,-17.572444915771484,-18.777334213256836,21.858423233032227,0.7513529658317566,44.58293914794922,38.830684661865234,12.497688293457031,3.491227149963379,-42.53911590576172,55.10396194458008,-26.17957305908203,-18.640764236450195,-50.63930130004883,-12.251569747924805,36.13279724121094,-1.5612396001815796,52.01417922973633,25.358915328979492,-40.95412063598633,-17.948213577270508,30.283388137817383,43.03947830200195,-12.4214448928833,-39.05337142944336,-43.738792419433594,-19.318944931030273,35.804691314697266,-16.44053077697754,9.246095657348633,29.51744842529297,7.108514308929443,-6.9248857498168945,30.963502883911133,-30.283533096313477,40.5336799621582,-10.313498497009277,-16.988204956054688,-57.14418411254883,12.621240615844727,28.37499237060547,-2.769190549850464,-42.7974967956543,-15.826762199401855,11.882472038269043,-30.86124038696289,28.376672744750977,-2.2372519969940186,10.662471771240234,-3.4765303134918213,0.4772758185863495,-6.9245924949646,-0.3787906765937805,15.653251647949219,1.295702576637268,-6.060752868652344,56.694461822509766,20.513925552368164,2.715865135192871,-48.34599685668945,-9.360601425170898,28.846656799316406,-4.2001471519470215,-0.7447658777236938,-27.39054298400879,12.899735450744629,-47.83869934082031,25.692407608032227,-13.741544723510742,29.122827529907227,51.10061264038086,-16.076784133911133,12.497236251831055,-28.466598510742188,-19.404081344604492,1.564125895500183,-9.295215606689453,22.634260177612305,-5.2768659591674805,33.56099319458008,32.39164733886719,-20.654869079589844,-8.035951614379883,-6.876547813415527,-8.912302017211914,-26.717700958251953,56.09708786010742,-3.293553590774536,-57.86027526855469,3.1930034160614014,4.5944108963012695,3.4468657970428467,-9.067302703857422,46.1129035949707,-42.25812911987305,-11.522998809814453,39.73988342285156,14.318507194519043,-30.219663619995117,-13.710004806518555,50.979305267333984,-10.087346076965332,-34.499847412109375,-6.519244194030762,34.33518600463867,-2.1490423679351807,23.03894805908203,-5.717399597167969,27.141799926757812,-35.446197509765625,-8.390748023986816,-22.420249938964844,-42.647605895996094,-34.40191650390625,-39.06423568725586,49.7593994140625,40.110618591308594,27.780309677124023,-33.82190704345703,-35.63581466674805,-6.553885459899902,-8.339170455932617,43.353004455566406,-41.797943115234375,-23.100597381591797,40.73648452758789,38.84642791748047,-32.81572341918945,7.803679466247559,-46.16286849975586,57.7338981628418,43.518123626708984,-9.304852485656738,-14.268259048461914,9.155193328857422,-17.667203903198242,-2.9570510387420654,-41.927650451660156,-9.720656394958496,-11.215144157409668,45.053627014160156,9.866328239440918,24.30581283569336,-9.944490432739258,-8.176705360412598,-18.534175872802734,52.69630813598633,-7.188128471374512,-46.04444885253906,54.948448181152344,-36.808841705322266,44.12070846557617,11.138323783874512,-33.25813674926758,23.428298950195312,-14.172176361083984,13.205050468444824,-56.059627532958984,15.034643173217773,34.344825744628906,-2.6965622901916504,12.451739311218262,27.445873260498047,7.747134685516357,20.731290817260742,46.30521011352539,-5.160191535949707,36.347068786621094,-42.10296630859375,19.52534294128418,-53.10895919799805,-7.763447284698486,15.606193542480469,-52.39708709716797,-11.118768692016602,42.18370056152344,-25.981046676635742,11.991366386413574,30.8134822845459,-3.81679368019104,-44.13951110839844,-34.47062301635742,45.631553649902344,-54.27399826049805,21.480525970458984,27.903676986694336,21.125818252563477,-40.61064147949219,15.253459930419922,4.659361839294434,42.37258529663086,30.27867317199707,28.153593063354492,3.091499090194702,10.559683799743652,-38.336605072021484,-13.44153881072998,42.59248352050781,-21.786901473999023,-5.839428424835205,26.789134979248047,43.49626922607422,34.09882354736328,-40.89104080200195,-51.81655502319336,2.143742799758911,8.761218070983887,-4.7828874588012695,-3.24481463432312,25.67568588256836,0.13712631165981293,14.951919555664062,30.402671813964844,-13.850326538085938,42.24081802368164,-19.551176071166992,-17.65363883972168,6.123101711273193,-32.769168853759766,-16.69468116760254,36.06845474243164,-7.62190055847168,-35.255226135253906,-31.274349212646484,-10.67984676361084,21.243892669677734,-22.353836059570312,-54.95858383178711,-18.907991409301758,-4.623041152954102,-14.515605926513672,-5.873665809631348,29.302268981933594,-51.8817138671875,58.663047790527344,-8.263544082641602,-48.38770294189453,52.465721130371094,-14.545809745788574,27.476295471191406,-0.0514792799949646,-14.320300102233887,5.428230285644531,-21.232189178466797,53.259429931640625,28.91169548034668,1.7999190092086792,43.868892669677734,-15.460232734680176,58.32850646972656,-28.3935489654541,-30.777244567871094,1.0000165700912476,-1.2157171964645386,50.682403564453125,35.61736297607422,-34.4678840637207,6.565304279327393,27.919898986816406,45.90171813964844,44.95708084106445,-54.04166030883789,-19.07535743713379,-11.338343620300293,33.74989700317383,23.520143508911133,-10.590726852416992,27.28447914123535,26.5327205657959,-10.626935958862305,-44.82352828979492,-21.44165802001953,33.24422836303711,-8.982657432556152,11.737255096435547,26.05454444885254,-7.104576587677002,10.70812702178955,13.645007133483887,-24.112165451049805,-16.895444869995117,-7.907422065734863,2.141151189804077,-46.34669494628906,54.9012451171875,-1.5234014987945557,32.85696029663086,8.02548599243164,-3.948007345199585,-26.791160583496094,9.475624084472656,-7.761373996734619,-10.729010581970215,17.576169967651367,15.634511947631836,-41.05319595336914,32.37590026855469,45.39168167114258,44.89723205566406,23.639907836914062,-12.303360939025879,3.195448160171509,-6.296113014221191,59.36595916748047,-37.79214096069336,7.824621200561523,46.55502700805664,-11.012065887451172,-27.8488826751709,10.183711051940918,-48.358299255371094,-55.56828689575195,-6.168625831604004,-38.09851837158203,-29.3557186126709,7.853822708129883,7.591114521026611,27.867891311645508,-1.6481621265411377,-30.248624801635742,-45.082096099853516,12.058701515197754,55.60737228393555,36.25678634643555,-17.90518569946289,-8.29172420501709,26.35596466064453,-53.860408782958984,22.89576530456543,-35.536922454833984,45.972999572753906,15.77698802947998,-5.61153507232666,-5.000239849090576,-17.228174209594727,55.406673431396484,13.810730934143066,17.372526168823242,-16.76753807067871,-19.64932632446289,6.0825090408325195,9.250818252563477,2.794273614883423,-2.9471821784973145,-30.405487060546875,26.39323616027832,-27.34440803527832,-14.344697952270508,-20.68210220336914,28.353906631469727,-22.42732048034668,-18.777530670166016,-5.624251842498779,-45.57024002075195,-56.564247131347656,8.82973575592041,1.8676731586456299,-17.88165283203125,17.16626739501953,-57.64411163330078,-26.266332626342773,22.34859848022461,47.15629577636719,10.510557174682617,41.52720642089844,16.880115509033203,-48.822998046875,-3.02284836769104,29.876115798950195,-0.9367828965187073,35.25799560546875,-22.21913719177246,-53.62651443481445,-6.512380123138428,52.35783386230469,-10.100189208984375,-36.94647979736328,-2.3994603157043457,-28.350666046142578,-11.072298049926758,-15.650046348571777,-9.983531951904297,51.44942855834961,-42.39586639404297,46.46988296508789,2.660461664199829,46.1243896484375,-34.2161750793457,-5.500613689422607,-50.084938049316406,-21.87209129333496,12.655598640441895,15.315605163574219,10.270332336425781,-53.061641693115234,-51.877681732177734,-7.914128303527832,-11.062677383422852,-21.86081886291504,-20.915536880493164,-5.376842498779297,-2.7914485931396484,-22.447893142700195,15.613752365112305,52.36940383911133,-18.12630271911621,5.8110671043396,29.55475425720215,-4.492791652679443,-18.652822494506836,-4.609285831451416,-5.592019557952881,-51.50139617919922,-9.419413566589355,47.902305603027344,-24.910675048828125,38.36558532714844,15.720566749572754,24.588708877563477,-2.5544421672821045,0.861083447933197,-43.481380462646484,-33.564945220947266,-7.846756458282471,26.965625762939453,-30.634002685546875,-19.827533721923828,-12.401373863220215,-44.27043151855469,29.249238967895508,47.67182540893555,-42.334617614746094,-7.075418472290039,-43.73149871826172,34.673641204833984,18.746803283691406,-35.000484466552734,47.11227798461914,-6.542525291442871,7.864839553833008,-43.34766387939453,-30.4757022857666,48.34457778930664,23.708778381347656,-6.013254642486572,23.044193267822266,-2.6541545391082764,-41.85978698730469,12.653390884399414,38.63299560546875,-9.24392032623291,57.23701477050781,0.36463409662246704,11.1231689453125,30.736509323120117,-2.9636714458465576,-7.0866851806640625,52.619239807128906,-18.12359619140625,20.359033584594727,-43.88126754760742,-47.92481231689453,18.81973648071289,-11.447367668151855,-18.912761688232422,-2.2201364040374756,23.174930572509766,1.862367868423462,-3.7288341522216797,-17.416017532348633,2.1402060985565186,17.08515167236328,-10.73326301574707,8.821925163269043,-54.56818389892578,6.812074661254883,-46.653846740722656,-20.127979278564453,-30.0098819732666,-52.652278900146484,19.98270606994629,-46.39552307128906,-26.039512634277344,-31.318798065185547,-26.706859588623047,-55.95482635498047,-5.456681251525879,0.2901795208454132,-26.68112564086914,41.31747055053711,-10.036879539489746,41.101322174072266,-1.72754967212677,2.363704204559326,41.01848602294922,-53.799625396728516,-55.015872955322266,5.92421293258667,10.507442474365234,-54.75382995605469,13.454558372497559,2.5257911682128906,-53.641117095947266,-6.182610988616943,-53.746307373046875,-41.99979782104492,-30.104873657226562,2.0342788696289062,-8.685004234313965,4.828988075256348,14.036713600158691,-16.293720245361328,26.64910125732422,14.364738464355469,0.48348504304885864,-38.03453826904297,2.4040286540985107,-55.843719482421875,22.399805068969727,-41.665771484375,-4.19569730758667,51.58844757080078,-17.708402633666992,53.526607513427734,39.345638275146484,-5.037278652191162,-14.647899627685547,42.190372467041016,-2.586829662322998,22.51972007751465,-55.78593444824219,-15.179631233215332,13.686640739440918,43.14460754394531,-4.194788455963135,15.351537704467773,7.364308834075928,-5.539175033569336,-23.781545639038086,-15.600335121154785,-17.057552337646484,10.064207077026367,14.569737434387207,-16.520549774169922,46.364112854003906,33.352718353271484,-8.6018705368042,25.305622100830078,52.51078796386719,-11.723438262939453,33.54133605957031,-10.163556098937988,-28.040769577026367,36.21348571777344,-8.638121604919434,-11.306530952453613,1.0899171829223633,-17.480566024780273,-13.923693656921387,9.773418426513672,-19.040077209472656,7.189337730407715,14.87595272064209,-39.233177185058594,35.57292556762695,30.190837860107422,6.522968769073486,-40.072120666503906,9.165626525878906,-23.440176010131836,14.372883796691895,0.43413233757019043,-15.054889678955078,28.486095428466797,-31.859779357910156,22.71949577331543,-26.084115982055664,5.820577144622803,-19.540678024291992,9.294394493103027,-53.969932556152344,16.727140426635742,0.4327659010887146,-37.34149932861328,9.31159496307373,35.38438415527344,-19.21923828125,53.199806213378906,15.90726089477539,3.160339117050171,27.65215301513672,42.753684997558594,16.624483108520508,-20.138057708740234,48.65294647216797,-56.88837432861328,-4.765634059906006,37.98861312866211,-52.009918212890625,10.373090744018555,-13.122895240783691,1.5331976413726807,-23.18620491027832,-1.900762915611267,-37.490386962890625,-10.578621864318848,-7.014822006225586,-0.3347707986831665,2.2007875442504883,47.424163818359375,-7.367116928100586,-22.97264289855957,44.99800491333008,15.170123100280762,-35.62533187866211,-13.45412540435791,-12.90194034576416,10.86190128326416,-0.9596744775772095,3.9554097652435303,-18.260448455810547,0.10743367671966553,-34.91349411010742,-26.611169815063477,35.755558013916016,-51.638240814208984,18.36367416381836,20.291893005371094,20.90456199645996,-0.047566380351781845,17.556198120117188,54.90113830566406,-18.92630386352539,9.164084434509277,8.678400993347168,19.595251083374023,-2.0681395530700684,0.05809435248374939,-3.4583218097686768,25.788753509521484,-3.2714011669158936,-14.2000150680542,-42.54335021972656,18.737751007080078,-8.246098518371582,9.146605491638184,-28.21539878845215,4.527528285980225,-11.413399696350098,15.228937149047852,-17.751983642578125,-40.8404655456543,-33.90949630737305,25.182851791381836,9.76768970489502,-20.458742141723633,19.142637252807617,26.568355560302734,-37.13042068481445,-52.45686721801758,-5.13036584854126,-21.30234718322754,36.46860122680664,-26.224445343017578,-32.33012008666992,2.871561288833618,-4.519861698150635,-45.133880615234375,-15.324131965637207,16.00225067138672,43.71848678588867,10.515990257263184,-8.17541790008545,10.335677146911621,-5.146266460418701,-15.897598266601562,-5.179920673370361,-25.734973907470703,13.422745704650879,0.09534730762243271,11.193904876708984,-3.948953628540039,25.636383056640625,0.4919424057006836,-28.079551696777344,-29.673418045043945,10.85354232788086,-46.07618713378906,-19.038249969482422,-30.301366806030273,-6.215830326080322,-34.22969055175781,19.70085334777832,12.32418155670166,-11.566229820251465,8.728094100952148,14.722537994384766,-7.239373207092285,26.846473693847656,-5.300601482391357,-45.115570068359375,11.246294021606445,6.96832799911499,4.553506851196289,-11.113153457641602,-39.236881256103516,-0.4981191158294678,-21.626232147216797,-0.6327623724937439,10.71670150756836,29.194961547851562,-12.150611877441406,-6.505984783172607,12.067289352416992,52.75446319580078,11.778053283691406,26.9710636138916,-41.011661529541016,-49.468509674072266,-5.725822448730469,24.454120635986328,19.734310150146484,-5.842497825622559,0.6641511917114258,-19.13150978088379,15.114762306213379,48.01234817504883,-24.333587646484375,-28.619596481323242,-11.618621826171875,-33.84707260131836,5.65059757232666,41.666465759277344,48.917850494384766,31.955265045166016,43.971744537353516,35.61637496948242,-8.217830657958984,-2.0931894779205322,-8.847968101501465,-1.6218565702438354,-3.7748281955718994,-55.06858825683594,-56.944786071777344,-1.9229649305343628,-26.88735008239746,6.507506370544434,-19.813295364379883,6.842279434204102,-25.41031837463379,2.081777811050415,-26.725950241088867,-33.08662414550781,0.45558109879493713,-49.25522994995117,46.67779541015625,-4.576935768127441,20.442411422729492,-15.343376159667969,41.2237663269043,1.3058711290359497,40.83073806762695,-28.094810485839844,18.989337921142578,-34.07181167602539,51.011512756347656,27.90936279296875,-14.593687057495117,-7.875640869140625,-18.93867301940918,-44.21774673461914,12.058565139770508,-30.673532485961914,-2.0384128093719482,-0.8824639916419983,26.706941604614258,15.8530912399292,8.388142585754395,56.2661247253418,18.767349243164062,27.18459701538086,12.842342376708984,45.52544021606445,3.4382381439208984,-17.69072151184082,49.36126708984375,-26.436792373657227,43.457305908203125,-4.456972122192383,-22.123525619506836,24.215784072875977,32.51127243041992,10.188226699829102,29.317838668823242,-30.29477310180664,-20.221973419189453,-37.70936584472656,23.083030700683594,22.375490188598633,-2.711228132247925,-49.74129867553711,22.412874221801758,5.987113952636719,18.73613166809082,-18.578062057495117,-32.67001724243164,-0.7055378556251526,-12.003113746643066,-14.536406517028809,-24.102006912231445,-52.480499267578125,-27.236555099487305,-23.305879592895508,-6.356030464172363,52.616416931152344,-2.7253201007843018,1.2629153728485107,8.754353523254395,-57.10050582885742,17.014144897460938,-42.221256256103516,36.185203552246094,10.756291389465332,5.795798301696777,5.043051719665527,-18.341819763183594,38.449764251708984,-40.73720169067383,-6.296899795532227,28.39040184020996,-13.491509437561035,49.359886169433594,19.217138290405273,-12.420557022094727,-17.637916564941406,-10.998846054077148,-34.70820617675781,-16.270038604736328,35.21288299560547,3.2268800735473633,33.01329040527344,-16.434967041015625,-53.56598663330078,-49.23891067504883,-40.540771484375,-14.231462478637695,-3.5809166431427,20.465362548828125,37.38097381591797,8.792707443237305,-19.384014129638672,8.73737621307373,-18.8512020111084,3.942967176437378,-45.28000259399414,-40.044795989990234,57.368560791015625,16.791357040405273,32.00095748901367,12.627143859863281,-29.028806686401367,56.811702728271484,28.37976837158203,-3.1036345958709717,-9.780356407165527,-37.42490768432617,-36.53802490234375,-25.03685760498047,-18.31618881225586,55.853118896484375,-13.198378562927246,-5.097548007965088,4.375059127807617,-9.564000129699707,24.64801597595215,50.75921630859375,-7.736868381500244,-18.346240997314453,-25.313562393188477,-43.05116271972656,-1.2709614038467407,-33.813358306884766,18.50613784790039,46.906517028808594,-41.35445022583008,57.858238220214844,19.142539978027344,41.634639739990234,27.803083419799805,13.631051063537598,15.911280632019043,-18.452970504760742,-0.2522408366203308,2.8042941093444824,-11.675237655639648,6.112104415893555,-44.019126892089844,9.713932991027832,10.870681762695312,51.44158935546875,55.73984146118164,4.162143230438232,7.495265007019043,23.29280662536621,0.20939671993255615,45.75018310546875,16.597557067871094,33.153934478759766,-15.44437026977539,17.951662063598633,-11.162489891052246,-34.234840393066406,-28.248607635498047,-10.313810348510742,16.656606674194336,52.999290466308594,3.9659087657928467,-16.859376907348633,1.0769331455230713,21.186086654663086,-7.803232192993164,58.648658752441406,1.7685778141021729,-25.45611000061035,-19.380008697509766,30.270551681518555,58.13516616821289,-2.421361207962036,-41.73043441772461,-39.73847961425781,-28.635896682739258,13.776424407958984,37.080039978027344,23.11872673034668,6.226536750793457,-2.504540205001831,10.68333625793457,-25.214290618896484,-7.443577766418457,-15.246471405029297,-42.83100509643555,-21.080829620361328,-18.723337173461914,-20.41566276550293,10.822502136230469,37.435302734375,-21.043407440185547,-5.759822368621826,-43.608192443847656,-0.46571335196495056,-0.19845828413963318,25.21478271484375,46.05952835083008,40.72331237792969,-43.89284896850586,19.068513870239258,15.928396224975586,50.3370246887207,-26.116579055786133,-51.949005126953125,-0.2460600733757019,14.876261711120605,11.007184028625488,-3.2959706783294678,-19.344810485839844,8.629841804504395,-29.612154006958008,-12.647527694702148,-28.78986930847168,7.6983160972595215,-14.69440746307373,4.477327346801758,9.468887329101562,3.924044370651245,-33.3775634765625,18.74118423461914,-25.635839462280273,-10.03044319152832,-55.17958068847656,-10.942370414733887,-17.11274528503418,8.372090339660645,46.829933166503906,26.705368041992188,8.8580904006958,34.39665603637695,-8.480093955993652,29.761241912841797,-44.84273147583008,-7.276721000671387,27.881357192993164,-38.297569274902344,-47.17729187011719,5.457274913787842,8.284127235412598,7.836976051330566,3.1125810146331787,-24.356338500976562,-0.9968045353889465,17.702957153320312,-0.9276191592216492,43.67089080810547,23.688316345214844,-24.28976058959961,-40.811832427978516,1.8026481866836548,-45.73738098144531,18.49998664855957,47.98854446411133,-54.5154914855957,-20.008989334106445,10.769753456115723,-9.00151538848877,-3.181936740875244,27.492019653320312,6.203920841217041,6.882999420166016,-48.34343338012695,-4.083005905151367,43.436275482177734,21.9500675201416,26.250465393066406,-28.907184600830078,49.448692321777344,-28.740459442138672,16.98704719543457,-27.562219619750977,58.57889175415039,48.29390335083008,-19.97414207458496,-51.23809051513672,12.781174659729004,-4.6710124015808105,-25.377071380615234,41.86648941040039,43.77810287475586,-17.837644577026367,-14.348010063171387,12.28178882598877,19.15915870666504,-30.21904945373535,-24.97072410583496,-11.40694808959961,-35.00125503540039,-51.69633483886719,-12.881769180297852,7.915467739105225,18.627273559570312,-16.725576400756836,-45.95209884643555,24.338396072387695,-18.993675231933594,0.30943652987480164,-41.13148498535156,15.15723705291748,-24.71673583984375,-9.872182846069336,9.509593963623047,17.37613296508789,8.86691951751709,-29.935806274414062,39.49171447753906,15.209890365600586,-29.483844757080078,46.1341667175293,-32.13134765625,-26.392311096191406,-5.337367534637451,-27.08872413635254,35.040409088134766,-39.501747131347656,-5.803786277770996,17.879777908325195,41.6496696472168,-17.527795791625977,-51.69316101074219,-2.753760576248169,1.6814520359039307,18.180347442626953,18.012544631958008,-47.94666290283203,-44.512264251708984,-12.40740966796875,-18.931068420410156,47.08570098876953,-15.341053009033203,-7.323698997497559,23.03130340576172,-17.89012908935547,47.05950927734375,5.99215030670166,-30.38405418395996,26.66871452331543,-17.52497100830078,29.591106414794922,-8.45488452911377,22.28740882873535,22.54651641845703,27.83635902404785,1.6658265590667725,22.04227638244629,-1.1494693756103516,-4.594539642333984,-9.106575965881348,-13.742147445678711,-34.14407730102539,29.228267669677734,3.835192918777466,-19.019163131713867,-5.254431247711182,54.2765998840332,30.67481231689453,55.12089920043945,57.723140716552734,3.8408236503601074,-10.729811668395996,-8.066873550415039,-5.368274688720703,-2.990975856781006,47.29720687866211,55.21749496459961,-34.01657485961914,4.059621334075928,24.14803123474121,52.17431640625,9.385760307312012,43.80049133300781,-18.13019371032715,-25.436471939086914,-43.74353790283203,12.454094886779785,-12.817347526550293,27.757892608642578,18.8293514251709,-14.419719696044922,-43.59040069580078,1.7068471908569336,27.162723541259766,27.274686813354492,45.977882385253906,19.856916427612305,-41.932552337646484,-24.614744186401367,1.135132908821106,45.22937774658203,6.816006660461426,0.2469484657049179,-17.27001190185547,28.737552642822266,22.014314651489258,-51.49614715576172,9.65262508392334,-6.797751426696777,-11.825543403625488,-23.27167510986328,-40.4381103515625,23.00166130065918,-10.422835350036621,9.875743865966797,39.0043830871582,3.998098850250244,27.842729568481445,57.566349029541016,21.700815200805664,13.029777526855469,-48.905311584472656,32.64060592651367,-33.37973403930664,-1.4703494310379028,35.56382369995117,38.70500183105469,10.601272583007812,16.338895797729492,34.26057052612305,19.30167007446289,28.19432258605957,56.77452087402344,-41.343406677246094,-38.457679748535156,-34.35990524291992,-5.938502788543701,-55.88679122924805,-23.915128707885742,-23.90107536315918,-15.730755805969238,-29.86296844482422,-44.97846984863281,-17.521141052246094,36.48721694946289,10.746010780334473,-6.162988662719727,-0.007619848009198904,-15.229316711425781,-5.449041843414307,-53.13900375366211,-19.14771270751953,46.366878509521484,19.160432815551758,-52.76530075073242,-0.6480356454849243,-14.009164810180664,-12.774046897888184,-6.526676177978516,23.17693519592285,25.093008041381836,8.11963176727295,-20.985315322875977,0.5610905885696411,-51.52767562866211,-22.475704193115234,15.86666202545166,21.5646915435791,-35.20903778076172,-6.156457901000977,6.696048736572266,18.43831443786621,-13.71725082397461,-29.207763671875,41.839256286621094,41.76167297363281,29.04380989074707,46.86118698120117,-1.844730257987976,-11.498169898986816,-54.99435043334961,12.01780891418457,26.64824104309082,43.634586334228516,37.3394889831543,-55.21360778808594,-45.602542877197266,-21.311372756958008,-5.238384246826172,8.471479415893555,-21.773761749267578,2.689507484436035,25.80052375793457,22.91828155517578,-47.59543228149414,8.629995346069336,-11.062981605529785,31.742053985595703,29.454587936401367,-16.715396881103516,-13.654799461364746,-48.4407958984375,43.262672424316406,11.76600456237793,13.256545066833496,2.049070358276367,-9.640692710876465,-44.1706428527832,-18.768400192260742,17.317773818969727,-14.575750350952148,50.499507904052734,-23.51728630065918,2.1839981079101562,-34.61954879760742,-55.46995544433594,0.5266876220703125,-13.430567741394043,3.170806407928467,-26.707965850830078,-23.49327278137207,-46.22290802001953,-3.8210606575012207,-0.48654109239578247,1.2296624183654785,-46.214210510253906,-25.022424697875977,-0.4119660258293152,-27.52199363708496,-12.324380874633789,-55.43791198730469,-16.503509521484375,-10.697897911071777,-1.4557229280471802,54.504215240478516,40.79383087158203,29.303638458251953,-17.7894287109375,-46.22256851196289,-8.532183647155762,-1.9851831197738647,49.27764129638672,0.6062071323394775,0.6432792544364929,-47.29750061035156,39.61087417602539,26.975893020629883,28.79241371154785,-22.876832962036133,16.110767364501953,44.51355743408203,6.68760871887207,-11.297447204589844,-29.603504180908203,-18.405298233032227,-53.641387939453125,-36.77284622192383,6.592893600463867,20.027612686157227,12.05320930480957,-13.037477493286133,-51.02811813354492,11.554891586303711,6.476200103759766,-6.234311580657959,-16.156097412109375,9.020657539367676,-52.681217193603516,19.963008880615234,22.145931243896484,14.342656135559082,-22.588016510009766,-16.870271682739258,2.46347713470459,17.555984497070312,41.93452453613281,26.131458282470703,55.511497497558594,-18.565282821655273,-55.16425323486328,31.404193878173828,-8.620532035827637,-16.47243309020996,-55.7091178894043,-8.618857383728027,-0.8433829545974731,-12.768521308898926,20.014272689819336,2.683746099472046,-22.58466148376465,-31.753734588623047,-5.574560642242432,-32.68727493286133,1.1193832159042358,-1.0463731288909912,20.173259735107422,-40.85591506958008,29.80539894104004,33.64701461791992,-38.907474517822266,-27.117361068725586,-16.198814392089844,-40.46901321411133,29.247066497802734,48.96652603149414,-15.296045303344727,-7.817764759063721,-33.62217712402344,-28.584442138671875,25.090688705444336,34.41514587402344,-47.461978912353516,14.519328117370605,41.80813980102539,-43.15702819824219,32.74272537231445,-3.549816131591797,34.13294982910156,-4.083834648132324,53.407344818115234,-17.945680618286133,17.643051147460938,-3.053934335708618,27.080812454223633,38.356380462646484,-5.086540699005127,53.576171875,48.466426849365234,-10.263420104980469,-21.11989974975586,-26.025392532348633,-2.1831939220428467,-27.23777961730957,-10.833641052246094,42.33987045288086,-31.029836654663086,-0.0359061099588871,-32.45648193359375,-6.819002151489258,27.896028518676758,-3.3821465969085693,-52.29310607910156,4.638007640838623,18.288022994995117,42.85601806640625,-2.211587429046631,19.8583927154541,-30.6098690032959,-27.52056312561035,-36.14664077758789,-19.581584930419922,-10.870365142822266,45.28386688232422,53.49320602416992,38.347537994384766,-25.04054832458496,25.080387115478516,4.418436050415039,10.904587745666504,29.064788818359375,25.25078773498535,24.885236740112305,-39.551551818847656,-40.58224105834961,45.22815704345703,8.076602935791016,-0.8130348920822144,6.111025333404541,8.26596736907959,4.973209857940674,20.432212829589844,-11.965328216552734,32.2789306640625,-2.9392125606536865,-3.229133129119873,23.584257125854492,21.773883819580078,7.5860419273376465,-12.050559043884277,47.53317642211914,-19.923263549804688,1.1274524927139282,-10.21604061126709,26.444677352905273,1.5097622871398926,-45.280120849609375,11.607686042785645,19.057924270629883,-15.17308521270752,26.354602813720703,40.997318267822266,-28.688316345214844,4.731551647186279,-38.24041748046875,-11.89373779296875,35.817047119140625,5.486700534820557,22.04240608215332,36.41104507446289,-19.705488204956055,-49.16952896118164,-25.652446746826172,-0.21594199538230896,-0.05181317403912544,15.351334571838379,21.508893966674805,1.3676286935806274,46.79098892211914,34.6606559753418,-27.054595947265625,-6.914206027984619,-43.1663818359375,-14.922297477722168,40.35788345336914,-21.48502540588379,26.57011604309082,19.924474716186523,-26.88051414489746,26.375539779663086,-10.251238822937012,-20.00722885131836,-7.783816814422607,53.61255645751953,-53.057708740234375,-46.18721008300781,44.1222038269043,9.74128532409668,31.130050659179688,-1.4368094205856323,-12.250978469848633,13.458436012268066,-51.187095642089844,25.60690689086914,-8.509760856628418,13.602737426757812,-4.850172996520996,3.2966437339782715,-12.707568168640137,-39.11997604370117,22.791292190551758,-2.4624946117401123,0.9831043481826782,-2.5884227752685547,-33.94633483886719,8.53421401977539,-12.110917091369629,52.18293380737305,-43.63407897949219,-50.17433547973633,9.402606964111328,33.99553680419922,-19.344440460205078,-0.4650495946407318,25.533958435058594,-20.735624313354492,55.56676483154297,-20.981245040893555,43.308353424072266,-0.3406978249549866,2.543478012084961,-23.612998962402344,47.33456802368164,28.445146560668945,21.98430824279785,-20.512035369873047,-18.063331604003906,-4.914661407470703,8.144331932067871,38.8264274597168,-25.59679412841797,32.41611099243164,-10.211868286132812,48.715572357177734,-4.616066932678223,24.46276092529297,8.996362686157227,-29.589214324951172,-1.0618305206298828,10.282609939575195,57.294586181640625,-57.38909912109375,-23.078840255737305,-10.124335289001465,-20.438629150390625,-24.318090438842773,-42.39659118652344,-4.061441421508789,-32.711971282958984,13.372655868530273,42.417015075683594,-3.632704973220825,-13.163434028625488,11.343929290771484,-6.958752155303955,18.87364387512207,-8.597611427307129,-4.96030330657959,-10.381307601928711,12.9487886428833,2.9620018005371094,39.63393783569336,-13.69898509979248,11.698399543762207,22.343629837036133,-49.85958480834961,17.52256202697754,30.720571517944336,-25.97217559814453,-22.55713653564453,39.638118743896484,-23.671295166015625,9.972739219665527,-5.426329135894775,-55.72340393066406,-0.2064252346754074,15.31918716430664,-17.1176815032959,-35.69588851928711,-30.30097770690918,46.89887619018555,-10.70371150970459,-5.438994884490967,5.836147308349609,23.131664276123047,-24.911779403686523,-26.365251541137695,4.879879951477051,24.707481384277344,11.78746509552002,12.025344848632812,-0.46928146481513977,8.62824535369873,13.852431297302246,-8.061812400817871,7.995641231536865,-8.588521003723145,-13.56418514251709,0.06901584565639496,48.58361053466797,1.4094760417938232,3.3438637256622314,-5.220763206481934,43.03322982788086,-11.333891868591309,-3.041440963745117,-6.676318168640137,4.506775856018066,-15.8505859375,42.18177795410156,-44.19969940185547,-2.13645601272583,-8.962401390075684,52.30855941772461,32.520965576171875,-12.95594596862793,-32.95426940917969,4.178237438201904,-2.7643356323242188,-25.479537963867188,-9.901042938232422,23.737117767333984,45.96816635131836,-15.558272361755371,-2.0155181884765625,-23.24121856689453,-31.66781997680664,-22.076248168945312,26.28644561767578,46.40472412109375,-24.997493743896484,17.2006778717041,-8.680465698242188,-24.830486297607422,31.273990631103516,29.21316146850586,26.18276023864746,-6.238120079040527,1.6940970420837402,8.496048927307129,-12.887020111083984,11.584006309509277,46.85657501220703,-1.3329182863235474,-7.470039367675781,8.776657104492188,-22.186471939086914,9.148356437683105,4.155603408813477,21.051942825317383,-5.64102029800415,-30.097288131713867,-7.281955242156982,8.46497917175293,6.312410831451416,2.016434669494629,8.795461654663086,22.979394912719727,58.02793884277344,-12.646112442016602,29.17704200744629,-34.29033279418945,18.917259216308594,18.399627685546875,-55.05393981933594,-23.049924850463867,-44.471923828125,6.389537811279297,-20.14824676513672,-7.057022571563721,30.914148330688477,29.618194580078125,-52.63351058959961,9.373236656188965,-20.065570831298828,43.779544830322266,35.045082092285156,-55.58488845825195,-22.608768463134766,43.016319274902344,-30.970947265625,-0.2976824641227722,55.27519989013672,11.966785430908203,-36.69965362548828,47.34714126586914,20.739818572998047,42.5804557800293,-39.353172302246094,21.15167808532715,22.098962783813477,-44.78768539428711,-17.623340606689453,14.506113052368164,-6.35706901550293,26.654403686523438,13.398394584655762,15.830131530761719,-2.521703004837036,-2.5594871044158936,-26.98720359802246,47.53044891357422,-43.522552490234375,-53.709251403808594,-19.7254581451416,23.168357849121094,17.019845962524414,58.94651794433594,45.022708892822266,2.457648277282715,-35.77313232421875,3.029557466506958,40.40568923950195,2.9756760597229004,34.25345230102539,-52.57823944091797,21.372358322143555,0.45816856622695923,31.43062973022461,-52.01802062988281,-18.162269592285156,-17.595027923583984,-11.749876976013184,36.60940933227539,18.34366226196289,17.037250518798828,-6.0859055519104,52.79273223876953,7.764941215515137,-10.581987380981445,20.96380043029785,-24.24726676940918,14.738072395324707,21.91945457458496,-19.310989379882812,-20.65204429626465,58.407920837402344,33.48236846923828,-14.488809585571289,27.616830825805664,-29.65658950805664,-46.93647766113281,10.938735961914062,14.315428733825684,-2.5089235305786133,-16.746755599975586,-52.18376922607422,-12.716200828552246,-4.721574306488037,-42.800628662109375,-19.324682235717773,-15.9979248046875,3.1687512397766113,17.948341369628906,-14.03918170928955,-49.941837310791016,17.406291961669922,50.57901382446289,-17.03484535217285,0.9818136692047119,8.11344051361084,-24.49965476989746,2.07452392578125,-51.0531120300293,-48.16269302368164,14.617392539978027,6.079447269439697,4.717902660369873,25.8971004486084,-1.9588507413864136,-16.141918182373047,-56.37142562866211,15.53125286102295,-36.97607421875,7.522545337677002,50.28144836425781,36.709842681884766,14.251167297363281,29.773529052734375,16.156984329223633,8.6829195022583,-5.0010833740234375,-29.397525787353516,-2.864089012145996,-38.56336212158203,16.825952529907227,-50.82790756225586,22.802202224731445,23.646268844604492,-29.374086380004883,-26.871694564819336,50.038333892822266,47.20573425292969,18.98757553100586,-48.17753219604492,24.785921096801758,-32.97930908203125,24.429309844970703,33.594146728515625,7.3383026123046875,-26.228612899780273,13.75542163848877,22.37995719909668,31.07821273803711,7.8812947273254395,2.2283899784088135,46.39982223510742,55.113285064697266,10.944807052612305,-8.045644760131836,-5.486034393310547,48.08982849121094,21.591175079345703,-26.428314208984375,38.7662467956543,24.36314582824707,-4.001357555389404,14.157791137695312,-43.24153518676758,-19.19185447692871,8.260130882263184,2.358538866043091,-18.643007278442383,-4.8310933113098145,-13.11572551727295,-18.126699447631836,-5.317765712738037,-8.360017776489258,36.38728332519531,-47.05974578857422,-15.3545560836792,50.57976150512695,19.428625106811523,3.6739861965179443,-53.36539840698242,17.827037811279297,-8.589879035949707,-35.69027328491211,41.026222229003906,3.5446701049804688,2.066317081451416,-13.979279518127441,42.47822952270508,-2.4434258937835693,7.527513027191162,4.1400837898254395,29.57722282409668,-27.81168556213379,34.94697189331055,-53.21754837036133,6.8830718994140625,-25.56966209411621,49.951473236083984,33.659908294677734,40.980438232421875,-35.512184143066406,8.056808471679688,20.77406883239746,36.59774398803711,-40.32891845703125,-19.98650360107422,24.296892166137695,-19.202268600463867,-4.630175590515137,-22.499807357788086,21.409881591796875,28.11516571044922,11.582871437072754,-52.13893127441406,-18.945486068725586,45.94556427001953,-5.944839954376221,3.797258138656616,-34.551048278808594,41.24650955200195,7.9987897872924805,8.595565795898438,-1.7522414922714233,27.110383987426758,-18.069551467895508,24.207881927490234,9.079818725585938,-11.40548324584961,10.309438705444336,-0.060766853392124176,46.87095260620117,-48.63111877441406,-24.0882625579834,51.61931228637695,-16.684192657470703,1.0328742265701294,14.351186752319336,18.801355361938477,8.706869125366211,20.09878158569336,-36.38139724731445,22.832796096801758,28.611541748046875,12.04621696472168,-2.44633412361145,32.385616302490234,7.286004543304443,21.115798950195312,-23.775968551635742,0.30243489146232605,53.92085647583008,57.517112731933594,1.8489168882369995,44.683021545410156,-13.80688762664795,53.346736907958984,-48.11546325683594,53.44544219970703,20.083520889282227,-7.409841537475586,3.689101219177246,34.439483642578125,40.79924392700195,-29.13149070739746,54.11435317993164,11.540058135986328,17.824880599975586,2.2541794776916504,-29.88503074645996,-22.220300674438477,-26.108753204345703,48.154884338378906,-19.445093154907227,-4.363068580627441,-54.37789535522461,-45.31571578979492,-8.834820747375488,-19.352970123291016,-30.34446144104004,15.448999404907227,36.19647216796875,-12.751216888427734,7.0910162925720215,40.07039260864258,54.44268035888672,-7.674160003662109,13.034683227539062,-51.31392288208008,-53.486724853515625,-4.3211259841918945,-6.604104042053223,9.419522285461426,11.959280967712402,-4.178657531738281,-0.9623291492462158,-5.182421684265137,38.12442398071289,-18.19139862060547,52.211551666259766,7.852200031280518,40.03120803833008,-56.912174224853516,-23.802227020263672,25.022748947143555,-7.650290489196777,15.071101188659668,56.65485763549805,-4.4114909172058105,-52.219627380371094,-39.669002532958984,-23.782468795776367,58.02497863769531,-18.14463996887207,-14.916872024536133,15.20195198059082,41.45808410644531,23.838773727416992,25.378498077392578,2.8772952556610107,6.531435012817383,-6.294050216674805,-22.167856216430664,15.1126708984375,10.592094421386719,3.66420316696167,-35.57644271850586,-47.578514099121094,-18.084693908691406,28.100126266479492,21.816364288330078,5.473944187164307,29.85690689086914,-14.921122550964355,-21.454378128051758,9.90241527557373,-15.808895111083984,-29.413387298583984,-6.0376362800598145,-26.080322265625,3.089951992034912,18.491729736328125,-57.290950775146484,8.908319473266602,33.09168243408203,37.55467224121094,-17.964054107666016,44.864837646484375,29.963708877563477,-3.571695327758789,-34.64109802246094,-30.975183486938477,-20.417221069335938,-29.928861618041992,-4.239863395690918,1.2588317394256592,-38.05685806274414,-34.163299560546875,-14.243229866027832,-40.333099365234375,-8.370808601379395,41.9698371887207,21.52533721923828,-23.07284164428711,-16.813283920288086,-16.425521850585938,-11.439119338989258,-6.128380298614502,34.71601104736328,27.129220962524414,5.921331405639648,49.752193450927734,43.92596435546875,45.965614318847656,13.302010536193848,55.05817413330078,-17.514225006103516,44.70222854614258,7.926550388336182,-10.02406120300293,11.383916854858398,2.686741828918457,46.39733123779297,28.010242462158203,9.013816833496094,-51.89030456542969,18.503948211669922,1.1904220581054688,-7.691277980804443,14.514303207397461,52.733551025390625,-21.953693389892578,-0.21095508337020874,-28.667993545532227,29.15571403503418,-5.846508502960205,26.99393081665039,-8.63330364227295,-33.00947952270508,-6.115251541137695,8.021645545959473,-0.36481544375419617,-12.965553283691406,12.780120849609375,1.662545919418335,-5.89617919921875,-55.764488220214844,-15.50220775604248,-55.69005584716797,10.922009468078613,26.01383399963379,54.31065368652344,23.711061477661133,37.7528076171875,53.80934143066406,-4.3984222412109375,16.200679779052734,12.554803848266602,-17.926471710205078,16.888832092285156,-0.9341643452644348,19.26165199279785,50.34502029418945,-32.11769104003906,2.504197359085083,-23.7906551361084,-19.569326400756836,-21.216672897338867,2.182415008544922,-1.0553972721099854,55.550498962402344,33.280574798583984,46.007347106933594,-4.7437520027160645,36.50810241699219,32.57128143310547,14.183150291442871,-20.704299926757812,-30.89095687866211,-19.543292999267578,46.95526885986328,-12.021873474121094,-0.7169634699821472,-33.15144348144531,39.74842834472656,33.462196350097656,17.290376663208008,38.88682174682617,-5.394379615783691,9.53355884552002,-12.552947998046875,-40.344947814941406,4.038999080657959,56.56196975708008,-18.357919692993164,-45.73104476928711,-23.221668243408203,-8.164751052856445,20.002769470214844,-19.146644592285156,-24.016855239868164,-15.995162010192871,-21.016265869140625,-22.035104751586914,-32.65560531616211,32.99702453613281,-13.116133689880371,-37.18021011352539,10.607390403747559,17.548667907714844,27.122316360473633,-1.496167778968811,31.84804916381836,-40.15519332885742,47.95662307739258,38.36128616333008,25.443645477294922,-44.68022537231445,24.97209930419922,1.456769585609436,35.914894104003906,42.0540885925293,-22.449420928955078,8.110442161560059,19.868717193603516,19.610286712646484,3.5899996757507324,-18.486101150512695,51.02633285522461,15.081411361694336,-20.55543327331543,9.577950477600098,55.229026794433594,-3.1257078647613525,33.84835433959961,18.897789001464844,16.563905715942383,-6.895764350891113,-1.325056791305542,45.59965896606445,-44.37232208251953,44.48644256591797,17.241117477416992,6.195374011993408,-33.34728240966797,-25.34926986694336,-24.838924407958984,14.592888832092285,-34.294837951660156,-23.400772094726562,-9.022710800170898,-30.034961700439453,-39.474483489990234,-50.620704650878906,-39.164268493652344,22.77712631225586,-41.10282897949219,14.035759925842285,7.692807197570801,-21.343097686767578,-12.765437126159668,6.415591239929199,-11.876152992248535,56.04775619506836,9.974708557128906,12.760614395141602,28.920146942138672,-2.5434012413024902,-33.879608154296875,-47.843475341796875,-54.196250915527344,-51.974327087402344,-40.945655822753906,4.2038068771362305,-24.17890739440918,-15.434112548828125,-16.621845245361328,-29.050369262695312,-53.40074920654297,-0.7498868107795715,6.460418224334717,45.41899108886719,36.05865478515625,-0.09673584997653961,-16.724319458007812,-27.71781349182129,7.057830333709717,-21.750499725341797,12.839350700378418,-10.293432235717773,-11.500506401062012,-29.696163177490234,15.604435920715332,6.660061359405518,53.22956466674805,-56.4608039855957,-3.8626081943511963,20.36126136779785,17.763002395629883,-41.78003692626953,46.39216995239258,-15.204723358154297,18.44068145751953,23.505687713623047,-19.736595153808594,29.46830177307129,5.663388252258301,-13.521200180053711,2.235884428024292,-15.949822425842285,-43.523983001708984,-26.07866096496582,-54.15589904785156,1.5368640422821045,-5.128206729888916,-31.211654663085938,49.94983673095703,22.9692325592041,58.384952545166016,-36.791656494140625,7.282081604003906,3.9866347312927246,7.185888290405273,18.778362274169922,24.553709030151367,-28.748363494873047,-3.929342031478882,47.66032028198242,-38.47167205810547,34.21073913574219,-14.284526824951172,-11.442509651184082,20.328710556030273,52.07369613647461,-16.935880661010742,21.661964416503906,-58.09530258178711,-11.581700325012207,5.995276927947998,29.05122947692871,48.3338508605957,-8.374161720275879,-10.163971900939941,2.4293220043182373,-22.930341720581055,57.519935607910156,13.86613655090332,33.983421325683594,27.71148681640625,-9.828404426574707,12.550792694091797,-15.786301612854004,42.96825408935547,-49.49445343017578,14.62263298034668,7.075321674346924,5.833165645599365,37.01060485839844,21.699560165405273,54.032169342041016,14.987442970275879,-7.645741939544678,-31.515548706054688,-12.384503364562988,14.953337669372559,26.76829719543457,-6.083847522735596,23.130935668945312,-11.664052963256836,22.506656646728516,-42.07845687866211,-8.907957077026367,-14.588918685913086,-8.165373802185059,-15.200556755065918,-10.608888626098633,29.872604370117188,-6.651938438415527,9.79529094696045,-56.956214904785156,-11.794585227966309,-1.718909740447998,1.0195682048797607,55.08323287963867,34.58929443359375,20.873180389404297,-38.76502990722656,0.379968523979187,26.044586181640625,-3.7557780742645264,-13.077286720275879,9.54662036895752,-34.68772888183594,4.460381984710693,9.137456893920898,-21.964725494384766,-18.09052276611328,-31.172164916992188,-30.642162322998047,-20.351825714111328,22.480222702026367,-50.16764450073242,-27.52385139465332,26.635589599609375,24.683332443237305,9.597001075744629,-11.53168773651123,54.9394645690918,23.83293914794922,-20.79534149169922,-55.41284942626953,9.059697151184082,13.864034652709961,19.96187400817871,47.74901580810547,-7.134681224822998,-1.1582331657409668,8.30738353729248,-9.867168426513672,21.81839942932129,-5.161716461181641,-19.823575973510742,8.244997024536133,-29.218969345092773,1.719861626625061,-11.950088500976562,54.82767868041992,31.570438385009766,-47.584617614746094,16.606956481933594,9.311949729919434,-31.81025505065918,25.862958908081055,-24.602384567260742,-22.23971939086914,35.206016540527344,-11.457575798034668,-17.2781925201416,49.65758514404297,-3.476681709289551,-16.939037322998047,-17.797677993774414,-23.556293487548828,7.284143447875977,-47.43439483642578,-14.141074180603027,53.04549789428711,17.774547576904297,54.56904983520508,49.6043586730957,28.244291305541992,55.38457107543945,36.09498596191406,26.195907592773438,-41.84354019165039,-26.352514266967773,-53.995079040527344,-24.89630889892578,-33.8271484375,24.913639068603516,-16.309900283813477,6.856895446777344,22.198352813720703,32.02112579345703,2.0867578983306885,-7.731171131134033,-22.82308006286621,29.00206184387207,43.15614700317383,-1.2307368516921997,-39.32301330566406,-30.251750946044922,-23.379770278930664,30.246519088745117,-13.357440948486328,-35.44953155517578,-40.723854064941406,-4.228843688964844,-45.98451232910156,15.543118476867676,24.7824764251709,-10.452544212341309,55.50687789916992,-5.098217964172363,7.3462443351745605,24.670555114746094,34.87428665161133,41.333290100097656,-17.302297592163086,56.38678741455078,40.58570098876953,-29.418184280395508,-6.736510276794434,-47.64894104003906,2.1241352558135986,23.210739135742188,-28.534204483032227,27.5500431060791,-22.52372932434082,15.046392440795898,-11.862263679504395,46.665550231933594,-45.17107009887695,53.04262161254883,-30.490253448486328,4.031471252441406,12.472309112548828,-7.057900905609131,56.13514709472656,56.784488677978516,13.397727966308594,0.08107220381498337,11.359041213989258,-10.487356185913086,13.401727676391602,-27.036731719970703,-4.330111980438232,-25.495309829711914,-26.878461837768555,45.949886322021484,0.6774760484695435,-11.97461986541748,-20.71538734436035,19.992271423339844,46.18208694458008,41.249717712402344,-13.710331916809082,8.834846496582031,29.372215270996094,28.201833724975586,-7.696631908416748,-9.901762008666992,-47.08677291870117,48.45768737792969,-7.601233959197998,-19.133817672729492,-52.335838317871094,42.542022705078125,40.64155197143555,-0.636580228805542,-34.778141021728516,3.1896471977233887,-0.024388184770941734,-1.749025821685791,30.18555450439453,20.20096778869629,-42.071224212646484,-0.4833897650241852,-18.432392120361328,-25.79248809814453,1.7663660049438477,15.428455352783203,-27.525665283203125,34.67264938354492,-0.8998632431030273,3.3071959018707275,-3.702255964279175,-2.1502809524536133,40.06717300415039,39.57693099975586,-12.596447944641113,-17.7546443939209,-44.20072555541992,-22.7157039642334,0.058078546077013016,11.62781047821045,-24.11557388305664,-38.71621322631836,47.20016860961914,-11.285280227661133,-33.745330810546875,-23.365367889404297,-57.0984001159668,-4.120763778686523,7.082962512969971,-6.440771102905273,9.822061538696289,-32.34885025024414,56.632904052734375,-28.773839950561523,-11.335472106933594,21.064908981323242,-49.826053619384766,32.47050476074219,9.624959945678711,-28.549619674682617,-34.35556411743164,16.421791076660156,14.375896453857422,1.049443006515503,-10.105523109436035,28.132661819458008,-29.127323150634766,-53.559120178222656,3.529461145401001,-19.634674072265625,-26.04197883605957,32.40052032470703,13.67196273803711,11.064518928527832,9.128189086914062,26.02818489074707,-27.849559783935547,-16.839405059814453,26.643396377563477,13.246329307556152,-15.5645112991333,-16.075830459594727,-0.4763549268245697,-23.393829345703125,-16.617586135864258,-17.872907638549805,0.8580772280693054,25.564184188842773,-21.88357162475586,-21.77210235595703,-0.7474994659423828,45.13014602661133,-3.4611189365386963,-20.526824951171875,58.6965446472168,-16.44829559326172,10.129044532775879,21.35435676574707,-5.439236164093018,-8.6658353805542,26.020246505737305,-26.48229217529297,-27.44195556640625,-25.823406219482422,28.11565399169922,-36.846553802490234,0.07481907308101654,-25.90450096130371,54.276329040527344,22.977876663208008,36.25961685180664,19.206825256347656,-17.035646438598633,-3.98604416847229,17.995769500732422,19.310028076171875,46.89033889770508,32.004364013671875,1.24070143699646,22.017536163330078,-19.41508674621582,-17.41192626953125,-26.407333374023438,20.80914878845215,-2.9484689235687256,-16.468679428100586,12.285914421081543,2.0409975051879883,-23.023122787475586,-19.573596954345703,-36.51772689819336,-42.25547409057617,22.844650268554688,-3.533003807067871,-1.8932825326919556,1.155659794807434,32.67851638793945,-38.50727844238281,23.16703224182129,1.3603014945983887,3.72080659866333,-3.687018394470215,-27.79730224609375,52.23343276977539,-22.342954635620117,-10.547967910766602,7.8063178062438965,-22.56151580810547,-5.864441871643066,-26.235544204711914,-27.148048400878906,-4.814958572387695,-4.276820659637451,-5.063032627105713,-21.231395721435547,-6.147261142730713,-35.5396614074707,-3.062955856323242,-16.276233673095703,-52.091346740722656,-18.81885528564453,-11.435128211975098,-23.44357681274414,-51.6525993347168,58.32603454589844,-3.20159912109375,0.6695781946182251,-22.014202117919922,10.476859092712402,-2.8721821308135986,55.115352630615234,0.2828157842159271,3.8221330642700195,-21.170276641845703,13.628670692443848,-3.6111183166503906,-34.79141616821289,-34.67523193359375,23.427268981933594,-9.78464412689209,-0.3323022127151489,-19.059476852416992,7.727743148803711,-54.35454559326172,-0.19676129519939423,48.825321197509766,-20.350204467773438,10.605880737304688,1.3387959003448486,33.062564849853516,0.36447155475616455,55.020328521728516,41.28290939331055,-54.196533203125,-30.72450828552246,5.481349468231201,-1.3209197521209717,27.311399459838867,16.616121292114258,36.13726043701172,39.01813507080078,-19.915197372436523,-52.5695686340332,11.620719909667969,20.509113311767578,38.357845306396484,-21.781949996948242,-14.879830360412598,23.493955612182617,44.72476577758789,32.135501861572266,-18.216968536376953,55.637943267822266,-54.57770538330078,23.009082794189453,10.331509590148926,-23.70191192626953,55.2303466796875,51.24778366088867,-4.192834377288818,-17.525224685668945,-19.6879825592041,33.51362609863281,0.3463844656944275,-52.603092193603516,59.595550537109375,9.751994132995605,1.3110578060150146,-2.6080942153930664,-20.232473373413086,-3.9205493927001953,-13.398641586303711,-18.501033782958984,-42.57929611206055,21.743370056152344,-7.016789436340332,-34.046226501464844,-51.03647232055664,-34.378299713134766,21.12918472290039,35.0657958984375,-31.346817016601562,3.742884635925293,42.83317184448242,-15.219799995422363,-35.46004104614258,-23.877103805541992,56.223819732666016,35.2833251953125,-44.878822326660156,8.543780326843262,-12.733881950378418,18.916278839111328,-1.0324875116348267,47.61506652832031,-2.7110188007354736,-17.479816436767578,9.732426643371582,-51.53046798706055,38.29064178466797,19.99942398071289,-56.57329177856445,29.864032745361328,29.181371688842773,-57.072265625,2.180173635482788,-26.56692123413086,10.939637184143066,-7.756202697753906,-52.27849578857422,-54.10485076904297,32.167362213134766,-54.30942916870117,18.581527709960938,-53.669273376464844,17.831193923950195,-33.82715606689453,-6.854637622833252,-24.637182235717773,1.8710055351257324,-26.818145751953125,-5.404971599578857,-15.541526794433594,-10.546499252319336,-52.390838623046875,10.414759635925293,-7.88337516784668,20.52257537841797,22.95781707763672,49.09678268432617,-5.028168678283691,-23.28168487548828,3.2092504501342773,18.011531829833984,26.26783561706543,9.189217567443848,-11.678485870361328,-42.504695892333984,-10.028544425964355,8.275633811950684,5.551880359649658,-17.009605407714844,32.392208099365234,-35.84150314331055,-57.757484436035156,14.894726753234863,1.743788480758667,-4.764824867248535,56.652366638183594,-5.580426216125488,-9.097551345825195,48.79454803466797,20.212160110473633,-30.067378997802734,-8.921876907348633,53.28448486328125,14.053361892700195,41.729652404785156,-24.844465255737305,25.423152923583984,15.021778106689453,-35.07560729980469,-18.874591827392578,-13.949868202209473,0.7551601529121399,-33.94280242919922,-25.551084518432617,-51.86758041381836,-20.092798233032227,-30.00752067565918,-18.361629486083984,-13.822931289672852,-2.383965015411377,42.02927780151367,-6.870097637176514,-6.662429332733154,41.286746978759766,-0.8576701879501343,-40.05527877807617,9.987020492553711,3.3800206184387207,-7.651665210723877,17.968690872192383,-34.39038848876953,28.81589126586914,39.66962814331055,53.8542594909668,50.760223388671875,9.080163955688477,13.706171989440918,-55.998146057128906,-15.22488784790039,0.2181362509727478,-31.022998809814453,3.8771238327026367,-52.33405303955078,-13.735713005065918,-26.821327209472656,1.8865504264831543,-53.95450210571289,-18.414371490478516,3.7461464405059814,-10.763833999633789,-24.063278198242188,34.83877182006836,-9.378626823425293,-51.61237335205078,-17.14580535888672,36.450679779052734,-17.912555694580078,3.3240559101104736,-11.021459579467773,-2.178464651107788,-13.502801895141602,26.523710250854492,14.627387046813965,34.799468994140625,24.928298950195312,-9.205510139465332,52.18140411376953,19.704620361328125,17.34610366821289,37.1465950012207,-35.56737518310547,23.327152252197266,-14.645220756530762,-26.899290084838867,39.415950775146484,-41.44858932495117,8.537144660949707,9.938658714294434,-24.220651626586914,55.13282775878906,-10.60407829284668,-35.03497314453125,-54.71586227416992,40.47812271118164,-48.321372985839844,11.695267677307129,-42.08057403564453,15.212928771972656,-8.319417953491211,-25.665515899658203,23.498422622680664,-8.227744102478027,33.36826705932617,57.88526153564453,15.057350158691406,-15.518887519836426,40.04130172729492,-24.923831939697266,-40.792110443115234,29.289594650268555,24.15739631652832,25.268978118896484,-43.249595642089844,24.948246002197266,20.62864112854004,-28.81792449951172,-15.990248680114746,-17.214008331298828,25.429946899414062,30.849002838134766,-42.4822998046875,-16.20931053161621,18.853044509887695,30.524181365966797,-32.33586120605469,24.771516799926758,4.373743057250977,1.0085854530334473,34.45283126831055,-15.229593276977539,-1.729282259941101,-7.806083679199219,-11.618980407714844,-5.049202919006348,9.243014335632324,57.80554962158203,-6.677000522613525,-34.46451950073242,-12.195281982421875,-55.761016845703125,9.798446655273438,-11.092781066894531,-2.84407901763916,-18.650100708007812,-15.61708927154541,-25.58318328857422,31.72042465209961,-6.533624649047852,-54.438636779785156,4.079214572906494,-57.04981994628906,8.907041549682617,-24.959028244018555,36.41316604614258,38.875831604003906,46.4473876953125,-29.99580192565918,8.26642894744873,-14.201342582702637,51.189247131347656,22.60584831237793,56.37594985961914,10.533623695373535,-5.377473831176758,-19.70692253112793,10.5455961227417,-2.915882110595703,35.83905792236328,25.689714431762695,-19.772563934326172,-31.27142333984375,-6.647713661193848,14.618066787719727,-13.248361587524414,30.09004020690918,-18.51511001586914,2.0235602855682373,-15.993806838989258,-52.18088912963867,-15.712231636047363,-15.12035846710205,10.228876113891602,40.60136032104492,5.255068302154541,-5.171006202697754,-42.06660079956055,27.75878143310547,-21.54720687866211,-34.56901168823242,-9.295978546142578,5.819291114807129,-17.577085494995117,1.2889769077301025,-14.725886344909668,25.796781539916992,-7.405128479003906,-30.752174377441406,-54.215999603271484,-30.471633911132812,56.35432052612305,2.269958972930908,-15.049001693725586,-53.6040153503418,-25.6262149810791,39.86516571044922,-19.88520622253418,27.997087478637695,-42.21664047241211,35.90184783935547,-4.837856292724609,7.135734558105469,26.671676635742188,-21.37774658203125,-11.276693344116211,-2.9762141704559326,-3.9563534259796143,-7.071203231811523,0.9121602177619934,-5.576657295227051,17.83080291748047,-15.908833503723145,13.284399032592773,52.272560119628906,-4.6689958572387695,1.2148215770721436,-0.895669162273407,-17.139942169189453,41.59019470214844,-1.2688106298446655,33.577388763427734,16.296907424926758,27.16958999633789,-6.2689595222473145,54.854530334472656,-39.772682189941406,32.691566467285156,-3.2308144569396973,-19.173442840576172,0.6100904941558838,-18.38227653503418,-5.822790145874023,12.585148811340332,1.6831730604171753,4.052983283996582,51.91111755371094,11.201254844665527,25.025388717651367,-19.360815048217773,33.99335861206055,9.005125999450684,33.04613494873047,-17.8986759185791,-5.789665699005127,45.169837951660156,49.58590316772461,39.833980560302734,-33.35454177856445,-42.86415481567383,-47.74462127685547,-26.060789108276367,0.5061540603637695,12.070489883422852,11.298811912536621,25.187604904174805,-0.9370293021202087,-44.49491500854492,47.58635711669922,51.06475067138672,6.1683878898620605,-27.615819931030273,-6.777434825897217,56.163089752197266,-0.6849223375320435,-8.155019760131836,-7.390526294708252,45.97047424316406,-5.930553436279297,-6.880520820617676,-20.885944366455078,43.98568344116211,-35.38189697265625,-18.388578414916992,-23.889036178588867,-5.253041744232178,-49.460086822509766,23.46186637878418,-56.70460510253906,1.017698884010315,-23.227062225341797,-43.113136291503906,5.362700462341309,-0.5857301950454712,-18.65390396118164,46.092098236083984,25.311622619628906,-43.34120559692383,-21.812213897705078,17.0737247467041,-18.948945999145508,8.4921236038208,-55.243621826171875,-4.518372058868408,-19.164243698120117,-18.39474105834961,13.059980392456055,-22.562650680541992,-2.8036062717437744,-3.5922913551330566,-31.141963958740234,-26.980661392211914,16.522523880004883,4.622396945953369,15.255597114562988,-6.72955322265625,-56.7175178527832,44.81417465209961,8.75778865814209,27.056854248046875,37.01308059692383,57.60944747924805,-19.25421905517578,-48.89311981201172,39.27164840698242,42.14016342163086,-34.5908088684082,57.07251739501953,-2.058464765548706,-25.108112335205078,-42.1253662109375,-7.223300457000732,-23.020614624023438,-24.128206253051758,44.670326232910156,-32.74614715576172,6.940927505493164,17.01130485534668,-8.141423225402832,-5.269632816314697,-15.072389602661133,6.892223358154297,47.45146179199219,-31.892887115478516,29.533740997314453,-3.8519961833953857,-14.377375602722168,22.977054595947266,0.38416820764541626,19.304059982299805,2.04954195022583,28.510025024414062,52.762020111083984,-25.013757705688477,-2.2786989212036133,38.75551986694336,-11.11905288696289,10.837882041931152,-37.639312744140625,18.0290470123291,21.497604370117188,19.925146102905273,17.143259048461914,17.21265411376953,13.404988288879395,-1.2189480066299438,-8.581611633300781,39.25688934326172,-21.430831909179688,39.12937545776367,-2.755260467529297,-3.2573587894439697,25.580095291137695,12.57632064819336,3.691316604614258,-45.65143585205078,35.98135757446289,37.33974838256836,20.88161277770996,-52.47600555419922,-22.098424911499023,-11.75810432434082,29.22861099243164,-6.222764015197754,-24.989330291748047,-49.30483627319336,57.98637008666992,45.06324005126953,-16.653945922851562,-40.88195037841797,14.126727104187012,-24.52751922607422,-2.9247562885284424,23.716999053955078,-5.634499549865723,40.27906036376953,4.383826732635498,-10.795941352844238,-32.835899353027344,16.83580780029297,-20.332416534423828,-53.07931900024414,-43.27154541015625,0.9988583326339722,46.20150375366211,45.96334457397461,-42.783695220947266,9.390265464782715,43.177005767822266,40.91942596435547,-34.65153503417969,41.45897674560547,-14.864750862121582,-12.34956169128418,-5.797555923461914,33.12663650512695,-13.991771697998047,-5.917147636413574,-5.041173934936523,-11.052868843078613,-6.478975772857666,-3.601640224456787,-52.11001968383789,-52.41735076904297,0.01655763015151024,-2.1315345764160156,20.041126251220703,25.190013885498047,20.252376556396484,30.219711303710938,39.222251892089844,43.86436080932617,-33.733829498291016,53.443580627441406,-23.404293060302734,45.42429733276367,-28.249971389770508,-4.7039875984191895,-44.620086669921875,1.1581873893737793,-41.97100067138672,-11.503402709960938,58.76433181762695,23.617538452148438,-19.523935317993164,27.311193466186523,16.626483917236328,-16.29189682006836,-1.86013662815094,30.36885643005371,-29.61357307434082,21.123947143554688,12.102126121520996,-5.626376628875732,-41.65602111816406,-18.875593185424805,28.386493682861328,-7.167873382568359,41.652854919433594,16.018795013427734,-2.6439125537872314,-28.409778594970703,2.168428659439087,55.18986892700195,-56.81850051879883,-3.0287022590637207,-42.81145477294922,49.29252243041992,-16.727811813354492,-7.913720607757568,55.202674865722656,-11.621335983276367,3.035964250564575,-3.178388833999634,52.92379379272461,-36.30975341796875,-3.0629589557647705,2.837691307067871,-15.211641311645508,13.295441627502441,-7.915398120880127,-10.802046775817871,-19.703821182250977,0.31738680601119995,-42.945831298828125,-41.48778533935547,-8.898033142089844,2.9582128524780273,26.273479461669922,-8.378691673278809,13.65751838684082,12.60512924194336,-19.681076049804688,-12.403166770935059,16.862091064453125,14.478485107421875,7.4327898025512695,-19.38776969909668,34.01499938964844,16.80298614501953,-11.58657455444336,-18.508235931396484,18.7171630859375,18.954458236694336,13.407015800476074,32.57011032104492,-56.74872589111328,57.15556716918945,-23.61410140991211,11.2739896774292,-25.143688201904297,-27.38963508605957,-19.31906509399414,-39.4271354675293,19.937986373901367,19.27180290222168,46.12952423095703,-6.572124481201172,45.91445541381836,-14.463910102844238,-44.1797981262207,1.8322046995162964,-25.57892417907715,43.56756591796875,-18.389558792114258,59.32746124267578,-15.472573280334473,-5.884031295776367,-56.72518539428711,14.289848327636719,8.896635055541992,54.064369201660156,-22.51031494140625,49.82627868652344,50.03818130493164,-37.36140823364258,13.262426376342773,28.323530197143555,-4.413794994354248,-14.430559158325195,12.033987998962402,20.735610961914062,-31.241718292236328,43.32583999633789,-30.20952033996582,-20.22052764892578,9.537736892700195,6.3289594650268555,47.302120208740234,-9.44055461883545,-29.005231857299805,-27.41376495361328,-8.378800392150879,14.68271541595459,1.3664826154708862,-8.776537895202637,57.646968841552734,8.928791046142578,19.117000579833984,55.96257400512695,-19.07122802734375,16.404983520507812,19.456912994384766,-35.98786926269531,41.77164840698242,-21.38823699951172,27.58225440979004,4.14185905456543,38.84865951538086,15.042475700378418,-29.866342544555664,-7.5855937004089355,-38.314002990722656,28.593421936035156,-22.98198890686035,22.01951026916504,-47.21269607543945,54.605224609375,40.772254943847656,-38.98986053466797,15.736650466918945,46.180938720703125,-55.37491989135742,5.163700580596924,-11.82497787475586,35.17532730102539,-16.309656143188477,43.957366943359375,-33.902584075927734,0.17875909805297852,-4.81430196762085,15.020699501037598,-22.754470825195312,-31.617544174194336,-8.967646598815918,20.624217987060547,-6.038121700286865,-8.959260940551758,-0.8133214116096497,-19.10236358642578,-48.77899932861328,-1.4186453819274902,50.92203903198242,-28.128406524658203,-27.50688934326172,-21.065900802612305,34.0340690612793,-8.548274040222168,-14.600685119628906,-52.49582290649414,-6.204493522644043,21.938257217407227,19.49384307861328,49.59153747558594,-3.421734571456909,-11.424036026000977,10.61866569519043,-55.4798583984375,-17.253751754760742,-6.6742987632751465,-24.385902404785156,42.006591796875,0.45658746361732483,30.51416015625,-26.31764030456543,-12.495598793029785,-24.216920852661133,-25.508930206298828,-26.5205078125,34.233028411865234,-25.091442108154297,-18.49138641357422,-22.350563049316406,1.1773838996887207,42.556922912597656,-48.191043853759766,22.58537483215332,13.12534236907959,-3.285724401473999,-26.062665939331055,-25.162450790405273,-3.784445285797119,20.059038162231445,4.330005168914795,14.621112823486328,-11.097859382629395,57.62095642089844,5.133709907531738,-17.478635787963867,-19.428844451904297,-31.408023834228516,22.56770133972168,-14.93501091003418,-18.811138153076172,19.882997512817383,-40.213680267333984,0.16883975267410278,-7.420595645904541,-4.503698825836182,-5.5392961502075195,-27.566635131835938,-34.52675247192383,45.449039459228516,31.76483917236328,23.286781311035156,-26.63860321044922,-54.1473274230957,-5.839471817016602,-8.437304496765137,-14.80732250213623,-28.8221378326416,-50.87432098388672,-23.601943969726562,-36.35380935668945,51.82904815673828,-8.625118255615234,-53.0074462890625,31.515743255615234,-1.9368847608566284,38.953189849853516,46.98415756225586,-14.539677619934082,53.20286560058594,-28.602384567260742,-18.933029174804688,-22.174386978149414,-22.566434860229492,-54.05425262451172,-0.46085265278816223,-21.3354549407959,-48.98347854614258,-8.609002113342285,48.71843719482422,-21.742395401000977,-4.754717826843262,16.832460403442383,30.66141700744629,35.671443939208984,-39.33920669555664,-1.8858619928359985,24.74971580505371,37.77368927001953,42.09049606323242,-19.201335906982422,-2.900160789489746,-51.10258102416992,-27.433788299560547,15.398761749267578,-13.499713897705078,47.759681701660156,4.145434856414795,-8.277548789978027,20.608516693115234,11.467777252197266,2.860405445098877,27.144689559936523,-5.516109466552734,-11.057511329650879,-10.864230155944824,-15.054140090942383,-7.220154762268066,-49.56907272338867,-3.301504611968994,25.93839454650879,-2.6613943576812744,48.792049407958984,11.456645965576172,8.770299911499023,-17.75320053100586,15.057762145996094,-24.22011947631836,54.41791534423828,17.859697341918945,28.782957077026367,3.6233229637145996,54.3516731262207,-7.653784275054932,40.894187927246094,10.033329963684082,22.37887954711914,4.837549209594727,-0.6178666949272156,-13.663704872131348,16.826175689697266,1.790400743484497,9.059907913208008,27.15685272216797,-12.281132698059082,-57.56050491333008,17.128904342651367,-53.140865325927734,-1.8033219575881958,-20.992883682250977,-6.764968395233154,-16.152660369873047,-12.275580406188965,32.25626754760742,16.069618225097656,24.521045684814453,22.4501895904541,-3.6591334342956543,-51.52725601196289,50.90732192993164,-21.509380340576172,-42.40430450439453,-27.30786895751953,-42.84202575683594,44.07079315185547,2.068507432937622,32.58179473876953,-15.915325164794922,-14.754150390625,12.997437477111816,48.426517486572266,-18.147701263427734,58.871952056884766,1.080726146697998,-6.0508713722229,4.607186317443848,31.893091201782227,-6.022205352783203,-7.424692630767822,23.36112403869629,-5.802981376647949,18.664405822753906,-42.51343536376953,-14.3333101272583,-4.275623321533203,-51.33421325683594,41.89772033691406,8.766660690307617,-21.75247573852539,19.3867244720459,-23.323284149169922,-29.87722396850586,37.03062438964844,24.996849060058594,-28.479764938354492,-55.07178497314453,-46.31586837768555,47.351341247558594,-14.596511840820312,18.76274299621582,28.324020385742188,17.30868911743164,-57.478118896484375,22.407297134399414,18.517305374145508,22.60894012451172,-2.544822931289673,49.79840087890625,26.226459503173828,-21.592077255249023,-21.51712417602539,35.707359313964844,-43.202850341796875,-11.435806274414062,-27.56077003479004,-1.2733148336410522,-21.603519439697266,3.649038314819336,54.42344284057617,18.375015258789062,11.579297065734863,29.922863006591797,21.165605545043945,-3.6877825260162354,24.44048309326172,-6.935241222381592,12.345673561096191,-41.98882293701172,-31.84395408630371,-14.852112770080566,34.64837646484375,53.129920959472656,37.50289535522461,-6.693586826324463,46.79108428955078,53.57764434814453,0.3660265803337097,-33.469486236572266,34.03361511230469,18.15367889404297,8.528273582458496,-5.455898284912109,-5.202371597290039,55.78181838989258,21.32585906982422,-19.383996963500977,5.043010234832764,25.781888961791992,-6.463223934173584,47.30153274536133,10.533947944641113,-6.983449935913086,4.54045295715332,-5.376130104064941,21.158607482910156,-29.519607543945312,-47.999053955078125,-30.802705764770508,20.472768783569336,-0.2959862947463989,-20.881206512451172,28.30442237854004,3.1780388355255127,45.41132354736328,-19.60078239440918,24.4361629486084,-10.750542640686035,-12.594233512878418,0.20926979184150696,-35.66160583496094,-48.3223876953125,-32.669742584228516,54.96221160888672,-18.452503204345703,-31.454832077026367,12.712690353393555,-48.92061996459961,6.802879333496094,51.00035858154297,-5.135851860046387,-53.96798324584961,28.072040557861328,15.854125022888184,24.474699020385742,1.91983962059021,5.009971618652344,3.4992361068725586,2.802272319793701,-54.00642776489258,-42.004554748535156,-5.575056552886963,-1.9132487773895264,-11.710586547851562,0.8866174221038818,58.10317611694336,-42.869659423828125,20.234222412109375,31.874267578125,-54.38505172729492,-6.851679801940918,-29.608068466186523,4.050670146942139,0.30792292952537537,29.99675178527832,-12.148548126220703,35.29556655883789,-5.566774845123291,2.9353678226470947,19.772903442382812,-5.957103252410889,-23.687211990356445,14.326009750366211,-0.8331186175346375,-16.194053649902344,33.84645080566406,-54.963165283203125,16.940649032592773,-8.020458221435547,2.0360984802246094,-13.466979026794434,19.98234748840332,35.03591537475586,7.266515731811523,14.447247505187988,-34.78471374511719,-38.8525505065918,-1.841581106185913,-5.8702168464660645,13.583718299865723,-15.029958724975586,46.334774017333984,-48.651466369628906,-27.360090255737305,-5.507482528686523,-11.46257495880127,-5.868951797485352,-38.2498779296875,3.712458372116089,-29.82422637939453,3.748051881790161,36.54319381713867,-4.725073337554932,13.774374961853027,19.89299964904785,53.00216293334961,19.540328979492188,-2.3000192642211914,-24.728939056396484,-7.559682846069336,-17.603195190429688,2.380164384841919,-3.30810809135437,1.6853704452514648,9.226048469543457,-0.12869718670845032,13.902368545532227,27.33776092529297,-3.5833520889282227,17.318313598632812,-45.14027404785156,-25.425357818603516,35.3134765625,27.00057029724121,-16.380983352661133,-31.328617095947266,-19.095224380493164,23.114639282226562,31.416799545288086,-7.68397855758667,-5.036588191986084,-26.393461227416992,-9.760167121887207,-7.291416168212891,-7.275302410125732,-16.171606063842773,-19.22913932800293,27.29913330078125,-10.67204475402832,-27.064207077026367,-12.119499206542969,-37.027305603027344,-39.26259994506836,-34.351219177246094,-28.118833541870117,56.567962646484375,-44.592044830322266,-4.3019795417785645,-44.2838020324707,55.727603912353516,24.806400299072266,30.967634201049805,31.450885772705078,17.106359481811523,-26.487728118896484,19.615415573120117,20.584335327148438,-16.710887908935547,58.42402648925781,34.21866989135742,-6.00905704498291,8.423861503601074,1.5439640283584595,9.885154724121094,-12.472746849060059,29.427459716796875,31.827869415283203,-18.113399505615234,-5.469165802001953,38.58536148071289,-54.22075271606445,-56.56645202636719,36.843379974365234,27.26211166381836,-34.51525115966797,-42.48746871948242,2.784480333328247,6.337101936340332,25.30385971069336,14.165007591247559,42.46854782104492,4.239198684692383,45.405548095703125,-28.22121810913086,23.12594223022461,31.882728576660156,-44.68174743652344,13.154435157775879,-5.196914196014404,-29.26637077331543,27.317745208740234,0.8492602109909058,6.699035167694092,17.348045349121094,19.102752685546875,-2.2290399074554443,-41.706085205078125,1.5924497842788696,-22.596643447875977,14.328817367553711,-37.65769958496094,49.21097183227539,33.19855880737305,8.479654312133789,-13.722761154174805,10.250638008117676,-12.077658653259277,-11.629343032836914,-41.1479606628418,-3.6303277015686035,-0.20299480855464935,-28.755407333374023,29.940505981445312,-19.966711044311523,23.29658317565918,-25.13737678527832,18.676828384399414,-56.334564208984375,25.805166244506836,6.511082172393799,-42.221221923828125,-33.589420318603516,52.53204345703125,-36.01993942260742,44.36184310913086,41.850852966308594,-30.28536605834961,-16.390621185302734,4.081961631774902,19.265439987182617,43.48123550415039,-29.890422821044922,12.192012786865234,2.0172390937805176,8.686430931091309,-54.03136444091797,-4.435223579406738,38.72315979003906,-55.81529235839844,26.454500198364258,-32.83250427246094,0.00714475754648447,9.52302360534668,-43.72208786010742,3.7485711574554443,4.560680866241455,48.1368408203125,-45.46481704711914,5.372298717498779,11.632999420166016,15.130671501159668,-5.675636291503906,-6.232769966125488,-54.98583221435547,40.83106231689453,-20.872730255126953,51.2054443359375,6.09218692779541,8.953920364379883,31.954233169555664,6.126862525939941,30.806081771850586,20.010595321655273,-43.36177062988281,55.10813522338867,4.363696098327637,-57.405521392822266,-33.18954086303711,-40.80195999145508,1.1632107496261597,-34.08194351196289,1.346002459526062,-6.960949420928955,22.122529983520508,8.920866012573242,16.99400520324707,-10.799726486206055,16.533735275268555,-27.06003189086914,-25.827167510986328,7.045658588409424,-4.941778182983398,-17.284481048583984,-15.114764213562012,-18.59852409362793,-13.244037628173828,-0.8748694062232971,-4.670711517333984,-6.392872333526611,12.383732795715332,53.072105407714844,40.12295913696289,-7.7490034103393555,21.600847244262695,-19.509769439697266,-38.68878173828125,7.663090229034424,10.26499080657959,4.9991044998168945,-2.876462936401367,4.552289009094238,33.54665756225586,-9.440083503723145,36.63017272949219,19.34861946105957,-3.4517405033111572,-53.42079162597656,32.98537063598633,18.988332748413086,-7.711299419403076,4.528969764709473,25.681961059570312,3.5936832427978516,24.41376304626465,-54.44890594482422,-20.9211368560791,-47.386512756347656,0.621835470199585,24.30352210998535,8.286459922790527,35.55820846557617,-1.8359904289245605,51.8083381652832,-12.90783405303955,-55.28528594970703,26.663841247558594,-31.901323318481445,19.334753036499023,-6.144021034240723,20.738088607788086,-1.024113416671753,-3.1550698280334473,13.30566692352295,-23.522314071655273,-25.86338233947754,2.2592902183532715,-1.6328740119934082,10.353401184082031,23.077938079833984,22.319089889526367,-49.10553741455078,50.389854431152344,43.25438690185547,25.264101028442383,-13.587464332580566,14.907774925231934,-33.394859313964844,-26.987688064575195,4.594814777374268,34.40021514892578,-57.23197555541992,30.570117950439453,24.86017417907715,12.01602840423584,32.20722198486328,-13.787354469299316,-28.524824142456055,-21.4006290435791,-3.0358009338378906,36.12701416015625,-23.506668090820312,-36.49863815307617,-12.14610481262207,-55.5661735534668,-12.928780555725098,26.13479232788086,-22.082307815551758,33.5761604309082,-18.91730308532715,-33.038753509521484,-18.842748641967773,42.009830474853516,-16.229496002197266,31.36381721496582,-22.527454376220703,15.942049980163574,18.95949935913086,33.991920471191406,-18.69679832458496,-11.857157707214355,-45.15977096557617,-28.082239151000977,16.373767852783203,-12.830985069274902,-5.858683109283447,-3.115847587585449,17.096881866455078,3.4932591915130615,2.640005111694336,47.73279571533203,57.07160949707031,30.072629928588867,19.199146270751953,28.31185531616211,23.885862350463867,-24.1868896484375,56.75996017456055,6.237684726715088,-51.926292419433594,1.217756986618042,-10.474037170410156,-18.987245559692383,-32.46654510498047,45.086910247802734,4.496110439300537,-16.137523651123047,-14.49145793914795,-22.520761489868164,23.011829376220703,-25.06117820739746,-6.225883483886719,-2.504267930984497,-48.19594192504883,32.61474609375,56.504966735839844,-18.490562438964844,-20.210058212280273,-9.183000564575195,-35.34794998168945,-3.9963338375091553,-44.33719253540039,13.40744686126709,22.921972274780273,23.133399963378906,-12.544071197509766,-6.183831214904785,37.240047454833984,41.28878402709961,-42.44363784790039,47.85902786254883,-42.83451461791992,-23.00481605529785,3.8883187770843506,-23.116506576538086,-12.725223541259766,31.89528465270996,-5.296808242797852,54.57414627075195,37.202178955078125,-8.59291934967041,-24.13729476928711],\"xaxis\":\"x\",\"y\":[0,1,2,3,4,5,6,7,8,9,10,11,12,13,14,15,16,17,18,19,20,21,22,23,24,25,26,27,28,29,30,31,32,33,34,35,36,37,38,39,40,41,42,43,44,45,46,47,48,49,50,51,52,53,54,55,56,57,58,59,60,61,62,63,64,65,66,67,68,69,70,71,72,73,74,75,76,77,78,79,80,81,82,83,84,85,86,87,88,89,90,91,92,93,94,95,96,97,98,99,100,101,102,103,104,105,106,107,108,109,110,111,112,113,114,115,116,117,118,119,120,121,122,123,124,125,126,127,128,129,130,131,132,133,134,135,136,137,138,139,140,141,142,143,144,145,146,147,148,149,150,151,152,153,154,155,156,157,158,159,160,161,162,163,164,165,166,167,168,169,170,171,172,173,174,175,176,177,178,179,180,181,182,183,184,185,186,187,188,189,190,191,192,193,194,195,196,197,198,199,200,201,202,203,204,205,206,207,208,209,210,211,212,213,214,215,216,217,218,219,220,221,222,223,224,225,226,227,228,229,230,231,232,233,234,235,236,237,238,239,240,241,242,243,244,245,246,247,248,249,250,251,252,253,254,255,256,257,258,259,260,261,262,263,264,265,266,267,268,269,270,271,272,273,274,275,276,277,278,279,280,281,282,283,284,285,286,287,288,289,290,291,292,293,294,295,296,297,298,299,300,301,302,303,304,305,306,307,308,309,310,311,312,313,314,315,316,317,318,319,320,321,322,323,324,325,326,327,328,329,330,331,332,333,334,335,336,337,338,339,340,341,342,343,344,345,346,347,348,349,350,351,352,353,354,355,356,357,358,359,360,361,362,363,364,365,366,367,368,369,370,371,372,373,374,375,376,377,378,379,380,381,382,383,384,385,386,387,388,389,390,391,392,393,394,395,396,397,398,399,400,401,402,403,404,405,406,407,408,409,410,411,412,413,414,415,416,417,418,419,420,421,422,423,424,425,426,427,428,429,430,431,432,433,434,435,436,437,438,439,440,441,442,443,444,445,446,447,448,449,450,451,452,453,454,455,456,457,458,459,460,461,462,463,464,465,466,467,468,469,470,471,472,473,474,475,476,477,478,479,480,481,482,483,484,485,486,487,488,489,490,491,492,493,494,495,496,497,498,499,500,501,502,503,504,505,506,507,508,509,510,511,512,513,514,515,516,517,518,519,520,521,522,523,524,525,526,527,528,529,530,531,532,533,534,535,536,537,538,539,540,541,542,543,544,545,546,547,548,549,550,551,552,553,554,555,556,557,558,559,560,561,562,563,564,565,566,567,568,569,570,571,572,573,574,575,576,577,578,579,580,581,582,583,584,585,586,587,588,589,590,591,592,593,594,595,596,597,598,599,600,601,602,603,604,605,606,607,608,609,610,611,612,613,614,615,616,617,618,619,620,621,622,623,624,625,626,627,628,629,630,631,632,633,634,635,636,637,638,639,640,641,642,643,644,645,646,647,648,649,650,651,652,653,654,655,656,657,658,659,660,661,662,663,664,665,666,667,668,669,670,671,672,673,674,675,676,677,678,679,680,681,682,683,684,685,686,687,688,689,690,691,692,693,694,695,696,697,698,699,700,701,702,703,704,705,706,707,708,709,710,711,712,713,714,715,716,717,718,719,720,721,722,723,724,725,726,727,728,729,730,731,732,733,734,735,736,737,738,739,740,741,742,743,744,745,746,747,748,749,750,751,752,753,754,755,756,757,758,759,760,761,762,763,764,765,766,767,768,769,770,771,772,773,774,775,776,777,778,779,780,781,782,783,784,785,786,787,788,789,790,791,792,793,794,795,796,797,798,799,800,801,802,803,804,805,806,807,808,809,810,811,812,813,814,815,816,817,818,819,820,821,822,823,824,825,826,827,828,829,830,831,832,833,834,835,836,837,838,839,840,841,842,843,844,845,846,847,848,849,850,851,852,853,854,855,856,857,858,859,860,861,862,863,864,865,866,867,868,869,870,871,872,873,874,875,876,877,878,879,880,881,882,883,884,885,886,887,888,889,890,891,892,893,894,895,896,897,898,899,900,901,902,903,904,905,906,907,908,909,910,911,912,913,914,915,916,917,918,919,920,921,922,923,924,925,926,927,928,929,930,931,932,933,934,935,936,937,938,939,940,941,942,943,944,945,946,947,948,949,950,951,952,953,954,955,956,957,958,959,960,961,962,963,964,965,966,967,968,969,970,971,972,973,974,975,976,977,978,979,980,981,982,983,984,985,986,987,988,989,990,991,992,993,994,995,996,997,998,999,1000,1001,1002,1003,1004,1005,1006,1007,1008,1009,1010,1011,1012,1013,1014,1015,1016,1017,1018,1019,1020,1021,1022,1023,1024,1025,1026,1027,1028,1029,1030,1031,1032,1033,1034,1035,1036,1037,1038,1039,1040,1041,1042,1043,1044,1045,1046,1047,1048,1049,1050,1051,1052,1053,1054,1055,1056,1057,1058,1059,1060,1061,1062,1063,1064,1065,1066,1067,1068,1069,1070,1071,1072,1073,1074,1075,1076,1077,1078,1079,1080,1081,1082,1083,1084,1085,1086,1087,1088,1089,1090,1091,1092,1093,1094,1095,1096,1097,1098,1099,1100,1101,1102,1103,1104,1105,1106,1107,1108,1109,1110,1111,1112,1113,1114,1115,1116,1117,1118,1119,1120,1121,1122,1123,1124,1125,1126,1127,1128,1129,1130,1131,1132,1133,1134,1135,1136,1137,1138,1139,1140,1141,1142,1143,1144,1145,1146,1147,1148,1149,1150,1151,1152,1153,1154,1155,1156,1157,1158,1159,1160,1161,1162,1163,1164,1165,1166,1167,1168,1169,1170,1171,1172,1173,1174,1175,1176,1177,1178,1179,1180,1181,1182,1183,1184,1185,1186,1187,1188,1189,1190,1191,1192,1193,1194,1195,1196,1197,1198,1199,1200,1201,1202,1203,1204,1205,1206,1207,1208,1209,1210,1211,1212,1213,1214,1215,1216,1217,1218,1219,1220,1221,1222,1223,1224,1225,1226,1227,1228,1229,1230,1231,1232,1233,1234,1235,1236,1237,1238,1239,1240,1241,1242,1243,1244,1245,1246,1247,1248,1249,1250,1251,1252,1253,1254,1255,1256,1257,1258,1259,1260,1261,1262,1263,1264,1265,1266,1267,1268,1269,1270,1271,1272,1273,1274,1275,1276,1277,1278,1279,1280,1281,1282,1283,1284,1285,1286,1287,1288,1289,1290,1291,1292,1293,1294,1295,1296,1297,1298,1299,1300,1301,1302,1303,1304,1305,1306,1307,1308,1309,1310,1311,1312,1313,1314,1315,1316,1317,1318,1319,1320,1321,1322,1323,1324,1325,1326,1327,1328,1329,1330,1331,1332,1333,1334,1335,1336,1337,1338,1339,1340,1341,1342,1343,1344,1345,1346,1347,1348,1349,1350,1351,1352,1353,1354,1355,1356,1357,1358,1359,1360,1361,1362,1363,1364,1365,1366,1367,1368,1369,1370,1371,1372,1373,1374,1375,1376,1377,1378,1379,1380,1381,1382,1383,1384,1385,1386,1387,1388,1389,1390,1391,1392,1393,1394,1395,1396,1397,1398,1399,1400,1401,1402,1403,1404,1405,1406,1407,1408,1409,1410,1411,1412,1413,1414,1415,1416,1417,1418,1419,1420,1421,1422,1423,1424,1425,1426,1427,1428,1429,1430,1431,1432,1433,1434,1435,1436,1437,1438,1439,1440,1441,1442,1443,1444,1445,1446,1447,1448,1449,1450,1451,1452,1453,1454,1455,1456,1457,1458,1459,1460,1461,1462,1463,1464,1465,1466,1467,1468,1469,1470,1471,1472,1473,1474,1475,1476,1477,1478,1479,1480,1481,1482,1483,1484,1485,1486,1487,1488,1489,1490,1491,1492,1493,1494,1495,1496,1497,1498,1499,1500,1501,1502,1503,1504,1505,1506,1507,1508,1509,1510,1511,1512,1513,1514,1515,1516,1517,1518,1519,1520,1521,1522,1523,1524,1525,1526,1527,1528,1529,1530,1531,1532,1533,1534,1535,1536,1537,1538,1539,1540,1541,1542,1543,1544,1545,1546,1547,1548,1549,1550,1551,1552,1553,1554,1555,1556,1557,1558,1559,1560,1561,1562,1563,1564,1565,1566,1567,1568,1569,1570,1571,1572,1573,1574,1575,1576,1577,1578,1579,1580,1581,1582,1583,1584,1585,1586,1587,1588,1589,1590,1591,1592,1593,1594,1595,1596,1597,1598,1599,1600,1601,1602,1603,1604,1605,1606,1607,1608,1609,1610,1611,1612,1613,1614,1615,1616,1617,1618,1619,1620,1621,1622,1623,1624,1625,1626,1627,1628,1629,1630,1631,1632,1633,1634,1635,1636,1637,1638,1639,1640,1641,1642,1643,1644,1645,1646,1647,1648,1649,1650,1651,1652,1653,1654,1655,1656,1657,1658,1659,1660,1661,1662,1663,1664,1665,1666,1667,1668,1669,1670,1671,1672,1673,1674,1675,1676,1677,1678,1679,1680,1681,1682,1683,1684,1685,1686,1687,1688,1689,1690,1691,1692,1693,1694,1695,1696,1697,1698,1699,1700,1701,1702,1703,1704,1705,1706,1707,1708,1709,1710,1711,1712,1713,1714,1715,1716,1717,1718,1719,1720,1721,1722,1723,1724,1725,1726,1727,1728,1729,1730,1731,1732,1733,1734,1735,1736,1737,1738,1739,1740,1741,1742,1743,1744,1745,1746,1747,1748,1749,1750,1751,1752,1753,1754,1755,1756,1757,1758,1759,1760,1761,1762,1763,1764,1765,1766,1767,1768,1769,1770,1771,1772,1773,1774,1775,1776,1777,1778,1779,1780,1781,1782,1783,1784,1785,1786,1787,1788,1789,1790,1791,1792,1793,1794,1795,1796,1797,1798,1799,1800,1801,1802,1803,1804,1805,1806,1807,1808,1809,1810,1811,1812,1813,1814,1815,1816,1817,1818,1819,1820,1821,1822,1823,1824,1825,1826,1827,1828,1829,1830,1831,1832,1833,1834,1835,1836,1837,1838,1839,1840,1841,1842,1843,1844,1845,1846,1847,1848,1849,1850,1851,1852,1853,1854,1855,1856,1857,1858,1859,1860,1861,1862,1863,1864,1865,1866,1867,1868,1869,1870,1871,1872,1873,1874,1875,1876,1877,1878,1879,1880,1881,1882,1883,1884,1885,1886,1887,1888,1889,1890,1891,1892,1893,1894,1895,1896,1897,1898,1899,1900,1901,1902,1903,1904,1905,1906,1907,1908,1909,1910,1911,1912,1913,1914,1915,1916,1917,1918,1919,1920,1921,1922,1923,1924,1925,1926,1927,1928,1929,1930,1931,1932,1933,1934,1935,1936,1937,1938,1939,1940,1941,1942,1943,1944,1945,1946,1947,1948,1949,1950,1951,1952,1953,1954,1955,1956,1957,1958,1959,1960,1961,1962,1963,1964,1965,1966,1967,1968,1969,1970,1971,1972,1973,1974,1975,1976,1977,1978,1979,1980,1981,1982,1983,1984,1985,1986,1987,1988,1989,1990,1991,1992,1993,1994,1995,1996,1997,1998,1999,2000,2001,2002,2003,2004,2005,2006,2007,2008,2009,2010,2011,2012,2013,2014,2015,2016,2017,2018,2019,2020,2021,2022,2023,2024,2025,2026,2027,2028,2029,2030,2031,2032,2033,2034,2035,2036,2037,2038,2039,2040,2041,2042,2043,2044,2045,2046,2047,2048,2049,2050,2051,2052,2053,2054,2055,2056,2057,2058,2059,2060,2061,2062,2063,2064,2065,2066,2067,2068,2069,2070,2071,2072,2073,2074,2075,2076,2077,2078,2079,2080,2081,2082,2083,2084,2085,2086,2087,2088,2089,2090,2091,2092,2093,2094,2095,2096,2097,2098,2099,2100,2101,2102,2103,2104,2105,2106,2107,2108,2109,2110,2111,2112,2113,2114,2115,2116,2117,2118,2119,2120,2121,2122,2123,2124,2125,2126,2127,2128,2129,2130,2131,2132,2133,2134,2135,2136,2137,2138,2139,2140,2141,2142,2143,2144,2145,2146,2147,2148,2149,2150,2151,2152,2153,2154,2155,2156,2157,2158,2159,2160,2161,2162,2163,2164,2165,2166,2167,2168,2169,2170,2171,2172,2173,2174,2175,2176,2177,2178,2179,2180,2181,2182,2183,2184,2185,2186,2187,2188,2189,2190,2191,2192,2193,2194,2195,2196,2197,2198,2199,2200,2201,2202,2203,2204,2205,2206,2207,2208,2209,2210,2211,2212,2213,2214,2215,2216,2217,2218,2219,2220,2221,2222,2223,2224,2225,2226,2227,2228,2229,2230,2231,2232,2233,2234,2235,2236,2237,2238,2239,2240,2241,2242,2243,2244,2245,2246,2247,2248,2249,2250,2251,2252,2253,2254,2255,2256,2257,2258,2259,2260,2261,2262,2263,2264,2265,2266,2267,2268,2269,2270,2271,2272,2273,2274,2275,2276,2277,2278,2279,2280,2281,2282,2283,2284,2285,2286,2287,2288,2289,2290,2291,2292,2293,2294,2295,2296,2297,2298,2299,2300,2301,2302,2303,2304,2305,2306,2307,2308,2309,2310,2311,2312,2313,2314,2315,2316,2317,2318,2319,2320,2321,2322,2323,2324,2325,2326,2327,2328,2329,2330,2331,2332,2333,2334,2335,2336,2337,2338,2339,2340,2341,2342,2343,2344,2345,2346,2347,2348,2349,2350,2351,2352,2353,2354,2355,2356,2357,2358,2359,2360,2361,2362,2363,2364,2365,2366,2367,2368,2369,2370,2371,2372,2373,2374,2375,2376,2377,2378,2379,2380,2381,2382,2383,2384,2385,2386,2387,2388,2389,2390,2391,2392,2393,2394,2395,2396,2397,2398,2399,2400,2401,2402,2403,2404,2405,2406,2407,2408,2409,2410,2411,2412,2413,2414,2415,2416,2417,2418,2419,2420,2421,2422,2423,2424,2425,2426,2427,2428,2429,2430,2431,2432,2433,2434,2435,2436,2437,2438,2439,2440,2441,2442,2443,2444,2445,2446,2447,2448,2449,2450,2451,2452,2453,2454,2455,2456,2457,2458,2459,2460,2461,2462,2463,2464,2465,2466,2467,2468,2469,2470,2471,2472,2473,2474,2475,2476,2477,2478,2479,2480,2481,2482,2483,2484,2485,2486,2487,2488,2489,2490,2491,2492,2493,2494,2495,2496,2497,2498,2499,2500,2501,2502,2503,2504,2505,2506,2507,2508,2509,2510,2511,2512,2513,2514,2515,2516,2517,2518,2519,2520,2521,2522,2523,2524,2525,2526,2527,2528,2529,2530,2531,2532,2533,2534,2535,2536,2537,2538,2539,2540,2541,2542,2543,2544,2545,2546,2547,2548,2549,2550,2551,2552,2553,2554,2555,2556,2557,2558,2559,2560,2561,2562,2563,2564,2565,2566,2567,2568,2569,2570,2571,2572,2573,2574,2575,2576,2577,2578,2579,2580,2581,2582,2583,2584,2585,2586,2587,2588,2589,2590,2591,2592,2593,2594,2595,2596,2597,2598,2599,2600,2601,2602,2603,2604,2605,2606,2607,2608,2609,2610,2611,2612,2613,2614,2615,2616,2617,2618,2619,2620,2621,2622,2623,2624,2625,2626,2627,2628,2629,2630,2631,2632,2633,2634,2635,2636,2637,2638,2639,2640,2641,2642,2643,2644,2645,2646,2647,2648,2649,2650,2651,2652,2653,2654,2655,2656,2657,2658,2659,2660,2661,2662,2663,2664,2665,2666,2667,2668,2669,2670,2671,2672,2673,2674,2675,2676,2677,2678,2679,2680,2681,2682,2683,2684,2685,2686,2687,2688,2689,2690,2691,2692,2693,2694,2695,2696,2697,2698,2699,2700,2701,2702,2703,2704,2705,2706,2707,2708,2709,2710,2711,2712,2713,2714,2715,2716,2717,2718,2719,2720,2721,2722,2723,2724,2725,2726,2727,2728,2729,2730,2731,2732,2733,2734,2735,2736,2737,2738,2739,2740,2741,2742,2743,2744,2745,2746,2747,2748,2749,2750,2751,2752,2753,2754,2755,2756,2757,2758,2759,2760,2761,2762,2763,2764,2765,2766,2767,2768,2769,2770,2771,2772,2773,2774,2775,2776,2777,2778,2779,2780,2781,2782,2783,2784,2785,2786,2787,2788,2789,2790,2791,2792,2793,2794,2795,2796,2797,2798,2799,2800,2801,2802,2803,2804,2805,2806,2807,2808,2809,2810,2811,2812,2813,2814,2815,2816,2817,2818,2819,2820,2821,2822,2823,2824,2825,2826,2827,2828,2829,2830,2831,2832,2833,2834,2835,2836,2837,2838,2839,2840,2841,2842,2843,2844,2845,2846,2847,2848,2849,2850,2851,2852,2853,2854,2855,2856,2857,2858,2859,2860,2861,2862,2863,2864,2865,2866,2867,2868,2869,2870,2871,2872,2873,2874,2875,2876,2877,2878,2879,2880,2881,2882,2883,2884,2885,2886,2887,2888,2889,2890,2891,2892,2893,2894,2895,2896,2897,2898,2899,2900,2901,2902,2903,2904,2905,2906,2907,2908,2909,2910,2911,2912,2913,2914,2915,2916,2917,2918,2919,2920,2921,2922,2923,2924,2925,2926,2927,2928,2929,2930,2931,2932,2933,2934,2935,2936,2937,2938,2939,2940,2941,2942,2943,2944,2945,2946,2947,2948,2949,2950,2951,2952,2953,2954,2955,2956,2957,2958,2959,2960,2961,2962,2963,2964,2965,2966,2967,2968,2969,2970,2971,2972,2973,2974,2975,2976,2977,2978,2979,2980,2981,2982,2983,2984,2985,2986,2987,2988,2989,2990,2991,2992,2993,2994,2995,2996,2997,2998,2999,3000,3001,3002,3003,3004,3005,3006,3007,3008,3009,3010,3011,3012,3013,3014,3015,3016,3017,3018,3019,3020,3021,3022,3023,3024,3025,3026,3027,3028,3029,3030,3031,3032,3033,3034,3035,3036,3037,3038,3039,3040,3041,3042,3043,3044,3045,3046,3047,3048,3049,3050,3051,3052,3053,3054,3055,3056,3057,3058,3059,3060,3061,3062,3063,3064,3065,3066,3067,3068,3069,3070,3071,3072,3073,3074,3075,3076,3077,3078,3079,3080,3081,3082,3083,3084,3085,3086,3087,3088,3089,3090,3091,3092,3093,3094,3095,3096,3097,3098,3099,3100,3101,3102,3103,3104,3105,3106,3107,3108,3109,3110,3111,3112,3113,3114,3115,3116,3117,3118,3119,3120,3121,3122,3123,3124,3125,3126,3127,3128,3129,3130,3131,3132,3133,3134,3135,3136,3137,3138,3139,3140,3141,3142,3143,3144,3145,3146,3147,3148,3149,3150,3151,3152,3153,3154,3155,3156,3157,3158,3159,3160,3161,3162,3163,3164,3165,3166,3167,3168,3169,3170,3171,3172,3173,3174,3175,3176,3177,3178,3179,3180,3181,3182,3183,3184,3185,3186,3187,3188,3189,3190,3191,3192,3193,3194,3195,3196,3197,3198,3199,3200,3201,3202,3203,3204,3205,3206,3207,3208,3209,3210,3211,3212,3213,3214,3215,3216,3217,3218,3219,3220,3221,3222,3223,3224,3225,3226,3227,3228,3229,3230,3231,3232,3233,3234,3235,3236,3237,3238,3239,3240,3241,3242,3243,3244,3245,3246,3247,3248,3249,3250,3251,3252,3253,3254,3255,3256,3257,3258,3259,3260,3261,3262,3263,3264,3265,3266,3267,3268,3269,3270,3271,3272,3273,3274,3275,3276,3277,3278,3279,3280,3281,3282,3283,3284,3285,3286,3287,3288,3289,3290,3291,3292,3293,3294,3295,3296,3297,3298,3299,3300,3301,3302,3303,3304,3305,3306,3307,3308,3309,3310,3311,3312,3313,3314,3315,3316,3317,3318,3319,3320,3321,3322,3323,3324,3325,3326,3327,3328,3329,3330,3331,3332,3333,3334,3335,3336,3337,3338,3339,3340,3341,3342,3343,3344,3345,3346,3347,3348,3349,3350,3351,3352,3353,3354,3355,3356,3357,3358,3359,3360,3361,3362,3363,3364,3365,3366,3367,3368,3369,3370,3371,3372,3373,3374,3375,3376,3377,3378,3379,3380,3381,3382,3383,3384,3385,3386,3387,3388,3389,3390,3391,3392,3393,3394,3395,3396,3397,3398,3399,3400,3401,3402,3403,3404,3405,3406,3407,3408,3409,3410,3411,3412,3413,3414,3415,3416,3417,3418,3419,3420,3421,3422,3423,3424,3425,3426,3427,3428,3429,3430,3431,3432,3433,3434,3435,3436,3437,3438,3439,3440,3441,3442,3443,3444,3445,3446,3447,3448,3449,3450,3451,3452,3453,3454,3455,3456,3457,3458,3459,3460,3461,3462,3463,3464,3465,3466,3467,3468,3469,3470,3471,3472,3473,3474,3475,3476,3477,3478,3479,3480,3481,3482,3483,3484,3485,3486,3487,3488,3489,3490,3491,3492,3493,3494,3495,3496,3497,3498,3499,3500,3501,3502,3503,3504,3505,3506,3507,3508,3509,3510,3511,3512,3513,3514,3515,3516,3517,3518,3519,3520,3521,3522,3523,3524,3525,3526,3527,3528,3529,3530,3531,3532,3533,3534,3535,3536,3537,3538,3539,3540,3541,3542,3543,3544,3545,3546,3547,3548,3549,3550,3551,3552,3553,3554,3555,3556,3557,3558,3559,3560,3561,3562,3563,3564,3565,3566,3567,3568,3569,3570,3571,3572,3573,3574,3575,3576,3577,3578,3579,3580,3581,3582,3583,3584,3585,3586,3587,3588,3589,3590,3591,3592,3593,3594,3595,3596,3597,3598,3599,3600,3601,3602,3603,3604,3605,3606,3607,3608,3609,3610,3611,3612,3613,3614,3615,3616,3617,3618,3619,3620,3621,3622,3623,3624,3625,3626,3627,3628,3629,3630,3631,3632,3633,3634,3635,3636,3637,3638,3639,3640,3641,3642,3643,3644,3645,3646,3647,3648,3649,3650,3651,3652,3653,3654,3655,3656,3657,3658,3659,3660,3661,3662,3663,3664,3665,3666,3667,3668,3669,3670,3671,3672,3673,3674,3675,3676,3677,3678,3679,3680,3681,3682,3683,3684,3685,3686,3687,3688,3689,3690,3691,3692,3693,3694,3695,3696,3697,3698,3699,3700,3701,3702,3703,3704,3705,3706,3707,3708,3709,3710,3711,3712,3713,3714,3715,3716,3717,3718,3719,3720,3721,3722,3723,3724,3725,3726,3727,3728,3729,3730,3731,3732,3733,3734,3735,3736,3737,3738,3739,3740,3741,3742,3743,3744,3745,3746,3747,3748,3749,3750,3751,3752,3753,3754,3755,3756,3757,3758,3759,3760,3761,3762,3763,3764,3765,3766,3767,3768,3769,3770,3771,3772,3773,3774,3775,3776,3777,3778,3779,3780,3781,3782,3783,3784,3785,3786,3787,3788,3789,3790,3791,3792,3793,3794,3795,3796,3797,3798,3799,3800,3801,3802,3803,3804,3805,3806,3807,3808,3809,3810,3811,3812,3813,3814,3815,3816,3817,3818,3819,3820,3821,3822,3823,3824,3825,3826,3827,3828,3829,3830,3831,3832,3833,3834,3835,3836,3837,3838,3839,3840,3841,3842,3843,3844,3845,3846,3847,3848,3849,3850,3851,3852,3853,3854,3855,3856,3857,3858,3859,3860,3861,3862,3863,3864,3865,3866,3867,3868,3869,3870,3871,3872,3873,3874,3875,3876,3877,3878,3879,3880,3881,3882,3883,3884,3885,3886,3887,3888,3889,3890,3891,3892,3893,3894,3895,3896,3897,3898,3899,3900,3901,3902,3903,3904,3905,3906,3907,3908,3909,3910,3911,3912,3913,3914,3915,3916,3917,3918,3919,3920,3921,3922,3923,3924,3925,3926,3927,3928,3929,3930,3931,3932,3933,3934,3935,3936,3937,3938,3939,3940,3941,3942,3943,3944,3945,3946,3947,3948,3949,3950,3951,3952,3953,3954,3955,3956,3957,3958,3959,3960,3961,3962,3963,3964,3965,3966,3967,3968,3969,3970,3971,3972,3973,3974,3975,3976,3977,3978,3979,3980,3981,3982,3983,3984,3985,3986,3987,3988,3989,3990,3991,3992,3993,3994,3995,3996,3997,3998,3999,4000,4001,4002,4003,4004,4005,4006,4007,4008,4009,4010,4011,4012,4013,4014,4015,4016,4017,4018,4019,4020,4021,4022,4023,4024,4025,4026,4027,4028,4029,4030,4031,4032,4033,4034,4035,4036,4037,4038,4039,4040,4041,4042,4043,4044,4045,4046,4047,4048,4049,4050,4051,4052,4053,4054,4055,4056,4057,4058,4059,4060,4061,4062,4063,4064,4065,4066,4067,4068,4069,4070,4071,4072,4073,4074,4075,4076,4077,4078,4079,4080,4081,4082,4083,4084,4085,4086,4087,4088,4089,4090,4091,4092,4093,4094,4095,4096,4097,4098,4099,4100,4101,4102,4103,4104,4105,4106,4107,4108,4109,4110,4111,4112,4113,4114,4115,4116,4117,4118,4119,4120,4121,4122,4123,4124,4125,4126,4127,4128,4129,4130,4131,4132,4133,4134,4135,4136,4137,4138,4139,4140,4141,4142,4143,4144,4145,4146,4147,4148,4149,4150,4151,4152,4153,4154,4155,4156,4157,4158,4159,4160,4161,4162,4163,4164,4165,4166,4167,4168,4169,4170,4171,4172,4173,4174,4175,4176,4177,4178,4179,4180,4181,4182,4183,4184,4185,4186,4187,4188,4189,4190,4191,4192,4193,4194,4195,4196,4197,4198,4199],\"yaxis\":\"y\",\"type\":\"scattergl\"}],                        {\"template\":{\"data\":{\"histogram2dcontour\":[{\"type\":\"histogram2dcontour\",\"colorbar\":{\"outlinewidth\":0,\"ticks\":\"\"},\"colorscale\":[[0.0,\"#0d0887\"],[0.1111111111111111,\"#46039f\"],[0.2222222222222222,\"#7201a8\"],[0.3333333333333333,\"#9c179e\"],[0.4444444444444444,\"#bd3786\"],[0.5555555555555556,\"#d8576b\"],[0.6666666666666666,\"#ed7953\"],[0.7777777777777778,\"#fb9f3a\"],[0.8888888888888888,\"#fdca26\"],[1.0,\"#f0f921\"]]}],\"choropleth\":[{\"type\":\"choropleth\",\"colorbar\":{\"outlinewidth\":0,\"ticks\":\"\"}}],\"histogram2d\":[{\"type\":\"histogram2d\",\"colorbar\":{\"outlinewidth\":0,\"ticks\":\"\"},\"colorscale\":[[0.0,\"#0d0887\"],[0.1111111111111111,\"#46039f\"],[0.2222222222222222,\"#7201a8\"],[0.3333333333333333,\"#9c179e\"],[0.4444444444444444,\"#bd3786\"],[0.5555555555555556,\"#d8576b\"],[0.6666666666666666,\"#ed7953\"],[0.7777777777777778,\"#fb9f3a\"],[0.8888888888888888,\"#fdca26\"],[1.0,\"#f0f921\"]]}],\"heatmap\":[{\"type\":\"heatmap\",\"colorbar\":{\"outlinewidth\":0,\"ticks\":\"\"},\"colorscale\":[[0.0,\"#0d0887\"],[0.1111111111111111,\"#46039f\"],[0.2222222222222222,\"#7201a8\"],[0.3333333333333333,\"#9c179e\"],[0.4444444444444444,\"#bd3786\"],[0.5555555555555556,\"#d8576b\"],[0.6666666666666666,\"#ed7953\"],[0.7777777777777778,\"#fb9f3a\"],[0.8888888888888888,\"#fdca26\"],[1.0,\"#f0f921\"]]}],\"heatmapgl\":[{\"type\":\"heatmapgl\",\"colorbar\":{\"outlinewidth\":0,\"ticks\":\"\"},\"colorscale\":[[0.0,\"#0d0887\"],[0.1111111111111111,\"#46039f\"],[0.2222222222222222,\"#7201a8\"],[0.3333333333333333,\"#9c179e\"],[0.4444444444444444,\"#bd3786\"],[0.5555555555555556,\"#d8576b\"],[0.6666666666666666,\"#ed7953\"],[0.7777777777777778,\"#fb9f3a\"],[0.8888888888888888,\"#fdca26\"],[1.0,\"#f0f921\"]]}],\"contourcarpet\":[{\"type\":\"contourcarpet\",\"colorbar\":{\"outlinewidth\":0,\"ticks\":\"\"}}],\"contour\":[{\"type\":\"contour\",\"colorbar\":{\"outlinewidth\":0,\"ticks\":\"\"},\"colorscale\":[[0.0,\"#0d0887\"],[0.1111111111111111,\"#46039f\"],[0.2222222222222222,\"#7201a8\"],[0.3333333333333333,\"#9c179e\"],[0.4444444444444444,\"#bd3786\"],[0.5555555555555556,\"#d8576b\"],[0.6666666666666666,\"#ed7953\"],[0.7777777777777778,\"#fb9f3a\"],[0.8888888888888888,\"#fdca26\"],[1.0,\"#f0f921\"]]}],\"surface\":[{\"type\":\"surface\",\"colorbar\":{\"outlinewidth\":0,\"ticks\":\"\"},\"colorscale\":[[0.0,\"#0d0887\"],[0.1111111111111111,\"#46039f\"],[0.2222222222222222,\"#7201a8\"],[0.3333333333333333,\"#9c179e\"],[0.4444444444444444,\"#bd3786\"],[0.5555555555555556,\"#d8576b\"],[0.6666666666666666,\"#ed7953\"],[0.7777777777777778,\"#fb9f3a\"],[0.8888888888888888,\"#fdca26\"],[1.0,\"#f0f921\"]]}],\"mesh3d\":[{\"type\":\"mesh3d\",\"colorbar\":{\"outlinewidth\":0,\"ticks\":\"\"}}],\"scatter\":[{\"fillpattern\":{\"fillmode\":\"overlay\",\"size\":10,\"solidity\":0.2},\"type\":\"scatter\"}],\"parcoords\":[{\"type\":\"parcoords\",\"line\":{\"colorbar\":{\"outlinewidth\":0,\"ticks\":\"\"}}}],\"scatterpolargl\":[{\"type\":\"scatterpolargl\",\"marker\":{\"colorbar\":{\"outlinewidth\":0,\"ticks\":\"\"}}}],\"bar\":[{\"error_x\":{\"color\":\"#2a3f5f\"},\"error_y\":{\"color\":\"#2a3f5f\"},\"marker\":{\"line\":{\"color\":\"#E5ECF6\",\"width\":0.5},\"pattern\":{\"fillmode\":\"overlay\",\"size\":10,\"solidity\":0.2}},\"type\":\"bar\"}],\"scattergeo\":[{\"type\":\"scattergeo\",\"marker\":{\"colorbar\":{\"outlinewidth\":0,\"ticks\":\"\"}}}],\"scatterpolar\":[{\"type\":\"scatterpolar\",\"marker\":{\"colorbar\":{\"outlinewidth\":0,\"ticks\":\"\"}}}],\"histogram\":[{\"marker\":{\"pattern\":{\"fillmode\":\"overlay\",\"size\":10,\"solidity\":0.2}},\"type\":\"histogram\"}],\"scattergl\":[{\"type\":\"scattergl\",\"marker\":{\"colorbar\":{\"outlinewidth\":0,\"ticks\":\"\"}}}],\"scatter3d\":[{\"type\":\"scatter3d\",\"line\":{\"colorbar\":{\"outlinewidth\":0,\"ticks\":\"\"}},\"marker\":{\"colorbar\":{\"outlinewidth\":0,\"ticks\":\"\"}}}],\"scattermapbox\":[{\"type\":\"scattermapbox\",\"marker\":{\"colorbar\":{\"outlinewidth\":0,\"ticks\":\"\"}}}],\"scatterternary\":[{\"type\":\"scatterternary\",\"marker\":{\"colorbar\":{\"outlinewidth\":0,\"ticks\":\"\"}}}],\"scattercarpet\":[{\"type\":\"scattercarpet\",\"marker\":{\"colorbar\":{\"outlinewidth\":0,\"ticks\":\"\"}}}],\"carpet\":[{\"aaxis\":{\"endlinecolor\":\"#2a3f5f\",\"gridcolor\":\"white\",\"linecolor\":\"white\",\"minorgridcolor\":\"white\",\"startlinecolor\":\"#2a3f5f\"},\"baxis\":{\"endlinecolor\":\"#2a3f5f\",\"gridcolor\":\"white\",\"linecolor\":\"white\",\"minorgridcolor\":\"white\",\"startlinecolor\":\"#2a3f5f\"},\"type\":\"carpet\"}],\"table\":[{\"cells\":{\"fill\":{\"color\":\"#EBF0F8\"},\"line\":{\"color\":\"white\"}},\"header\":{\"fill\":{\"color\":\"#C8D4E3\"},\"line\":{\"color\":\"white\"}},\"type\":\"table\"}],\"barpolar\":[{\"marker\":{\"line\":{\"color\":\"#E5ECF6\",\"width\":0.5},\"pattern\":{\"fillmode\":\"overlay\",\"size\":10,\"solidity\":0.2}},\"type\":\"barpolar\"}],\"pie\":[{\"automargin\":true,\"type\":\"pie\"}]},\"layout\":{\"autotypenumbers\":\"strict\",\"colorway\":[\"#636efa\",\"#EF553B\",\"#00cc96\",\"#ab63fa\",\"#FFA15A\",\"#19d3f3\",\"#FF6692\",\"#B6E880\",\"#FF97FF\",\"#FECB52\"],\"font\":{\"color\":\"#2a3f5f\"},\"hovermode\":\"closest\",\"hoverlabel\":{\"align\":\"left\"},\"paper_bgcolor\":\"white\",\"plot_bgcolor\":\"#E5ECF6\",\"polar\":{\"bgcolor\":\"#E5ECF6\",\"angularaxis\":{\"gridcolor\":\"white\",\"linecolor\":\"white\",\"ticks\":\"\"},\"radialaxis\":{\"gridcolor\":\"white\",\"linecolor\":\"white\",\"ticks\":\"\"}},\"ternary\":{\"bgcolor\":\"#E5ECF6\",\"aaxis\":{\"gridcolor\":\"white\",\"linecolor\":\"white\",\"ticks\":\"\"},\"baxis\":{\"gridcolor\":\"white\",\"linecolor\":\"white\",\"ticks\":\"\"},\"caxis\":{\"gridcolor\":\"white\",\"linecolor\":\"white\",\"ticks\":\"\"}},\"coloraxis\":{\"colorbar\":{\"outlinewidth\":0,\"ticks\":\"\"}},\"colorscale\":{\"sequential\":[[0.0,\"#0d0887\"],[0.1111111111111111,\"#46039f\"],[0.2222222222222222,\"#7201a8\"],[0.3333333333333333,\"#9c179e\"],[0.4444444444444444,\"#bd3786\"],[0.5555555555555556,\"#d8576b\"],[0.6666666666666666,\"#ed7953\"],[0.7777777777777778,\"#fb9f3a\"],[0.8888888888888888,\"#fdca26\"],[1.0,\"#f0f921\"]],\"sequentialminus\":[[0.0,\"#0d0887\"],[0.1111111111111111,\"#46039f\"],[0.2222222222222222,\"#7201a8\"],[0.3333333333333333,\"#9c179e\"],[0.4444444444444444,\"#bd3786\"],[0.5555555555555556,\"#d8576b\"],[0.6666666666666666,\"#ed7953\"],[0.7777777777777778,\"#fb9f3a\"],[0.8888888888888888,\"#fdca26\"],[1.0,\"#f0f921\"]],\"diverging\":[[0,\"#8e0152\"],[0.1,\"#c51b7d\"],[0.2,\"#de77ae\"],[0.3,\"#f1b6da\"],[0.4,\"#fde0ef\"],[0.5,\"#f7f7f7\"],[0.6,\"#e6f5d0\"],[0.7,\"#b8e186\"],[0.8,\"#7fbc41\"],[0.9,\"#4d9221\"],[1,\"#276419\"]]},\"xaxis\":{\"gridcolor\":\"white\",\"linecolor\":\"white\",\"ticks\":\"\",\"title\":{\"standoff\":15},\"zerolinecolor\":\"white\",\"automargin\":true,\"zerolinewidth\":2},\"yaxis\":{\"gridcolor\":\"white\",\"linecolor\":\"white\",\"ticks\":\"\",\"title\":{\"standoff\":15},\"zerolinecolor\":\"white\",\"automargin\":true,\"zerolinewidth\":2},\"scene\":{\"xaxis\":{\"backgroundcolor\":\"#E5ECF6\",\"gridcolor\":\"white\",\"linecolor\":\"white\",\"showbackground\":true,\"ticks\":\"\",\"zerolinecolor\":\"white\",\"gridwidth\":2},\"yaxis\":{\"backgroundcolor\":\"#E5ECF6\",\"gridcolor\":\"white\",\"linecolor\":\"white\",\"showbackground\":true,\"ticks\":\"\",\"zerolinecolor\":\"white\",\"gridwidth\":2},\"zaxis\":{\"backgroundcolor\":\"#E5ECF6\",\"gridcolor\":\"white\",\"linecolor\":\"white\",\"showbackground\":true,\"ticks\":\"\",\"zerolinecolor\":\"white\",\"gridwidth\":2}},\"shapedefaults\":{\"line\":{\"color\":\"#2a3f5f\"}},\"annotationdefaults\":{\"arrowcolor\":\"#2a3f5f\",\"arrowhead\":0,\"arrowwidth\":1},\"geo\":{\"bgcolor\":\"white\",\"landcolor\":\"#E5ECF6\",\"subunitcolor\":\"white\",\"showland\":true,\"showlakes\":true,\"lakecolor\":\"white\"},\"title\":{\"x\":0.05},\"mapbox\":{\"style\":\"light\"}}},\"xaxis\":{\"anchor\":\"y\",\"domain\":[0.0,1.0],\"title\":{\"text\":\"x\"}},\"yaxis\":{\"anchor\":\"x\",\"domain\":[0.0,1.0],\"title\":{\"text\":\"index\"}},\"coloraxis\":{\"colorbar\":{\"title\":{\"text\":\"\"}},\"colorscale\":[[0.0,\"#0d0887\"],[0.1111111111111111,\"#46039f\"],[0.2222222222222222,\"#7201a8\"],[0.3333333333333333,\"#9c179e\"],[0.4444444444444444,\"#bd3786\"],[0.5555555555555556,\"#d8576b\"],[0.6666666666666666,\"#ed7953\"],[0.7777777777777778,\"#fb9f3a\"],[0.8888888888888888,\"#fdca26\"],[1.0,\"#f0f921\"]]},\"legend\":{\"tracegroupgap\":0},\"margin\":{\"t\":60}},                        {\"responsive\": true}                    ).then(function(){\n",
              "                            \n",
              "var gd = document.getElementById('8c78b905-2938-4a33-a712-3f36bd053a5b');\n",
              "var x = new MutationObserver(function (mutations, observer) {{\n",
              "        var display = window.getComputedStyle(gd).display;\n",
              "        if (!display || display === 'none') {{\n",
              "            console.log([gd, 'removed!']);\n",
              "            Plotly.purge(gd);\n",
              "            observer.disconnect();\n",
              "        }}\n",
              "}});\n",
              "\n",
              "// Listen for the removal of the full notebook cells\n",
              "var notebookContainer = gd.closest('#notebook-container');\n",
              "if (notebookContainer) {{\n",
              "    x.observe(notebookContainer, {childList: true});\n",
              "}}\n",
              "\n",
              "// Listen for the clearing of the current output cell\n",
              "var outputEl = gd.closest('.output');\n",
              "if (outputEl) {{\n",
              "    x.observe(outputEl, {childList: true});\n",
              "}}\n",
              "\n",
              "                        })                };                            </script>        </div>\n",
              "</body>\n",
              "</html>"
            ]
          },
          "metadata": {}
        }
      ],
      "source": [
        "tsne=TSNE(n_components=2, random_state=0, learning_rate='auto')\n",
        "projections=tsne.fit_transform(trained_feature_n)\n",
        "fig=px.scatter(projections[:,0], projections[:,1], color=trained_label,labels={\"color\":\"\"})\n",
        "fig.show()"
      ]
    },
    {
      "cell_type": "code",
      "source": [
        "#task 2 Pretrained ResNet18 applied to Dataset2 & 3\n",
        "dataset2 = datasets.ImageFolder(\"/content/drive/My Drive/Comp 432/Dataset2\", transforms.Compose([\n",
        "        torchvision.transforms.Resize((224,224)),\n",
        "        torchvision.transforms.ColorJitter(hue=.05, saturation=.05),\n",
        "        torchvision.transforms.RandomHorizontalFlip(),\n",
        "        torchvision.transforms.RandomRotation(20),\n",
        "        transforms.ToTensor(),\n",
        "        transforms.Normalize([0.485, 0.456, 0.406], [0.229, 0.224, 0.225])]))\n",
        "\n",
        "train_set, test_set = torch.utils.data.random_split(dataset,[0.7,0.3])                # splits dataset into specified ratios\n",
        "train_loader = DataLoader(train_set,shuffle=True,batch_size=16, num_workers=0)         # create train loader\n",
        "test_loader = DataLoader(test_set,batch_size=16, num_workers=0)  # create test loader\n"
      ],
      "metadata": {
        "id": "4falhgicL2H2"
      },
      "execution_count": null,
      "outputs": []
    },
    {
      "cell_type": "code",
      "source": [
        "val_loss = []\n",
        "\n",
        "with torch.no_grad():\n",
        "          pretrained_model.eval()\n",
        "          running_loss = 0.0\n",
        "          running_score = 0.0\n",
        "          for image,label in test_loader:\n",
        "                image = image.to('cuda')\n",
        "                label = label.to('cuda')\n",
        "                optimizer.zero_grad()\n",
        "                y_pred = model.forward(image)\n",
        "                l = loss(y_pred,label)\n",
        "                running_loss += l.item()\n",
        "\n",
        "                val, index_ = torch.max(y_pred,axis=1)\n",
        "                running_score += torch.sum(index_ == label.data).item()\n",
        "\n",
        "          epoch_score = running_score/len(test_loader.dataset)\n",
        "          epoch_loss = running_loss/len(test_loader.dataset)\n",
        "          val_loss.append(epoch_loss)\n",
        "          print(\"Validation loss: {}, accuracy: {}\".format(epoch_loss,epoch_score))\n",
        "\n",
        "          all_predictions = []\n",
        "          true_labels = []\n",
        "          for inputs, labels in test_loader:\n",
        "              inputs, labels = inputs.to('cuda'), labels.to('cuda')\n",
        "              outputs = model.forward(inputs)\n",
        "              _, predicted = torch.max(outputs.data, 1)\n",
        "              all_predictions.extend(predicted.cpu().numpy())\n",
        "              true_labels.extend(labels.cpu().numpy())\n",
        "\n",
        "classification_rep = classification_report(true_labels, all_predictions, target_names=dataset2.classes)\n",
        "print(classification_rep)"
      ],
      "metadata": {
        "colab": {
          "base_uri": "https://localhost:8080/",
          "height": 384
        },
        "id": "OXUUzCHONEnz",
        "outputId": "54759728-5503-48c1-abdd-855705835b47"
      },
      "execution_count": null,
      "outputs": [
        {
          "output_type": "stream",
          "name": "stdout",
          "text": [
            "Validation loss: 0.629561579320063, accuracy: 0.0\n"
          ]
        },
        {
          "output_type": "error",
          "ename": "ValueError",
          "evalue": "ignored",
          "traceback": [
            "\u001b[0;31m---------------------------------------------------------------------------\u001b[0m",
            "\u001b[0;31mValueError\u001b[0m                                Traceback (most recent call last)",
            "\u001b[0;32m<ipython-input-22-7f2abe64261e>\u001b[0m in \u001b[0;36m<cell line: 32>\u001b[0;34m()\u001b[0m\n\u001b[1;32m     30\u001b[0m               \u001b[0mtrue_labels\u001b[0m\u001b[0;34m.\u001b[0m\u001b[0mextend\u001b[0m\u001b[0;34m(\u001b[0m\u001b[0mlabels\u001b[0m\u001b[0;34m.\u001b[0m\u001b[0mcpu\u001b[0m\u001b[0;34m(\u001b[0m\u001b[0;34m)\u001b[0m\u001b[0;34m.\u001b[0m\u001b[0mnumpy\u001b[0m\u001b[0;34m(\u001b[0m\u001b[0;34m)\u001b[0m\u001b[0;34m)\u001b[0m\u001b[0;34m\u001b[0m\u001b[0;34m\u001b[0m\u001b[0m\n\u001b[1;32m     31\u001b[0m \u001b[0;34m\u001b[0m\u001b[0m\n\u001b[0;32m---> 32\u001b[0;31m \u001b[0mclassification_rep\u001b[0m \u001b[0;34m=\u001b[0m \u001b[0mclassification_report\u001b[0m\u001b[0;34m(\u001b[0m\u001b[0mtrue_labels\u001b[0m\u001b[0;34m,\u001b[0m \u001b[0mall_predictions\u001b[0m\u001b[0;34m,\u001b[0m \u001b[0mtarget_names\u001b[0m\u001b[0;34m=\u001b[0m\u001b[0mdataset2\u001b[0m\u001b[0;34m.\u001b[0m\u001b[0mclasses\u001b[0m\u001b[0;34m)\u001b[0m\u001b[0;34m\u001b[0m\u001b[0;34m\u001b[0m\u001b[0m\n\u001b[0m\u001b[1;32m     33\u001b[0m \u001b[0mprint\u001b[0m\u001b[0;34m(\u001b[0m\u001b[0mclassification_rep\u001b[0m\u001b[0;34m)\u001b[0m\u001b[0;34m\u001b[0m\u001b[0;34m\u001b[0m\u001b[0m\n",
            "\u001b[0;32m/usr/local/lib/python3.10/dist-packages/sklearn/metrics/_classification.py\u001b[0m in \u001b[0;36mclassification_report\u001b[0;34m(y_true, y_pred, labels, target_names, sample_weight, digits, output_dict, zero_division)\u001b[0m\n\u001b[1;32m   2330\u001b[0m             )\n\u001b[1;32m   2331\u001b[0m         \u001b[0;32melse\u001b[0m\u001b[0;34m:\u001b[0m\u001b[0;34m\u001b[0m\u001b[0;34m\u001b[0m\u001b[0m\n\u001b[0;32m-> 2332\u001b[0;31m             raise ValueError(\n\u001b[0m\u001b[1;32m   2333\u001b[0m                 \u001b[0;34m\"Number of classes, {0}, does not match size of \"\u001b[0m\u001b[0;34m\u001b[0m\u001b[0;34m\u001b[0m\u001b[0m\n\u001b[1;32m   2334\u001b[0m                 \u001b[0;34m\"target_names, {1}. Try specifying the labels \"\u001b[0m\u001b[0;34m\u001b[0m\u001b[0;34m\u001b[0m\u001b[0m\n",
            "\u001b[0;31mValueError\u001b[0m: Number of classes, 3, does not match size of target_names, 2. Try specifying the labels parameter"
          ]
        }
      ]
    },
    {
      "cell_type": "code",
      "source": [
        "print(dataset2.classes)"
      ],
      "metadata": {
        "colab": {
          "base_uri": "https://localhost:8080/"
        },
        "id": "dzkp3HY0UYuB",
        "outputId": "28de6642-7134-48da-daed-91a15917dff9"
      },
      "execution_count": null,
      "outputs": [
        {
          "output_type": "stream",
          "name": "stdout",
          "text": [
            "['Dataset 2', '__MACOSX']\n"
          ]
        }
      ]
    },
    {
      "cell_type": "code",
      "source": [
        "import torchvision.models as models"
      ],
      "metadata": {
        "id": "ZeGPMWB8EdU9"
      },
      "execution_count": null,
      "outputs": []
    },
    {
      "cell_type": "code",
      "execution_count": null,
      "metadata": {
        "id": "6AbK63CLlM9Y",
        "colab": {
          "base_uri": "https://localhost:8080/"
        },
        "outputId": "068f3e5e-a0eb-45f4-bb5b-37f5a4a951e1"
      },
      "outputs": [
        {
          "output_type": "stream",
          "name": "stderr",
          "text": [
            "/usr/local/lib/python3.10/dist-packages/torchvision/models/_utils.py:208: UserWarning: The parameter 'pretrained' is deprecated since 0.13 and may be removed in the future, please use 'weights' instead.\n",
            "  warnings.warn(\n",
            "/usr/local/lib/python3.10/dist-packages/torchvision/models/_utils.py:223: UserWarning: Arguments other than a weight enum or `None` for 'weights' are deprecated since 0.13 and may be removed in the future. The current behavior is equivalent to passing `weights=VGG16_Weights.IMAGENET1K_V1`. You can also use `weights=VGG16_Weights.DEFAULT` to get the most up-to-date weights.\n",
            "  warnings.warn(msg)\n"
          ]
        }
      ],
      "source": [
        "device=torch.device(\"cuda\" if torch.cuda.is_available() else \"cpu\")\n",
        "VGG_16=models.vgg16(pretrained=True)"
      ]
    },
    {
      "cell_type": "code",
      "source": [
        "#loss = nn.CrossEntropyLoss()\n",
        "#optimizer_vgg16= optim.SGD(VGG_16.parameters(), lr=0.0001,momentum=0.9)"
      ],
      "metadata": {
        "id": "inJ9oASQEm6p"
      },
      "execution_count": null,
      "outputs": []
    }
  ],
  "metadata": {
    "accelerator": "GPU",
    "colab": {
      "provenance": []
    },
    "kernelspec": {
      "display_name": "Python 3",
      "name": "python3"
    },
    "language_info": {
      "name": "python"
    }
  },
  "nbformat": 4,
  "nbformat_minor": 0
}