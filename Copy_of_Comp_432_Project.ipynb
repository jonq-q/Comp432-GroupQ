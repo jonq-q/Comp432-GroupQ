{
  "cells": [
    {
      "cell_type": "code",
      "execution_count": 2,
      "metadata": {
        "id": "wGGhmFiP-7cH"
      },
      "outputs": [],
      "source": [
        "import torch\n",
        "import torchvision\n",
        "import numpy as np\n",
        "import torch.nn as nn\n",
        "import torch.optim as optim\n",
        "from torch.utils.data import DataLoader\n",
        "from torchvision import datasets, transforms\n",
        "from sklearn.metrics import classification_report\n",
        "import matplotlib.pyplot as plt"
      ]
    },
    {
      "cell_type": "code",
      "execution_count": 3,
      "metadata": {
        "id": "rnnr8Nk_lUTw",
        "colab": {
          "base_uri": "https://localhost:8080/"
        },
        "outputId": "8fa74172-02aa-4451-f5fd-91476011e811"
      },
      "outputs": [
        {
          "output_type": "stream",
          "name": "stdout",
          "text": [
            "Mounted at /content/drive/\n",
            "Looks that a private key is already created. If you have already push it to github, no action required.\n",
            " Otherwise, Please go to https://github.com/settings/ssh/new to upload the following key: \n",
            "ssh-ed25519 AAAAC3NzaC1lZDI1NTE5AAAAIPNHesHoZ8yifpxV8MpOj9wzeMMzniVoRcF992tjnH5Y root@b3bd0b87503a\n",
            "\n",
            "Please use SSH method to clone repo.\n"
          ]
        }
      ],
      "source": [
        "!wget -q https://raw.githubusercontent.com/tsunrise/colab-github/main/colab_github.py\n",
        "import colab_github\n",
        "colab_github.github_auth(persistent_key=True)\n",
        "\n",
        "# method to import git data into colab taken from:\n",
        "# https://github.com/tsunrise/colab-github"
      ]
    },
    {
      "cell_type": "code",
      "source": [
        "!git clone git@github.com:jonq-q/Comp432-GroupQ.git"
      ],
      "metadata": {
        "colab": {
          "base_uri": "https://localhost:8080/"
        },
        "id": "lOcx5r5OUk3D",
        "outputId": "c7f4ef6f-4f13-42cd-fe9b-36774b6d3bad"
      },
      "execution_count": 4,
      "outputs": [
        {
          "output_type": "stream",
          "name": "stdout",
          "text": [
            "Cloning into 'Comp432-GroupQ'...\n",
            "remote: Enumerating objects: 18063, done.\u001b[K\n",
            "remote: Counting objects: 100% (9/9), done.\u001b[K\n",
            "remote: Compressing objects: 100% (9/9), done.\u001b[K\n",
            "remote: Total 18063 (delta 2), reused 0 (delta 0), pack-reused 18054\u001b[K\n",
            "Receiving objects: 100% (18063/18063), 1.14 GiB | 37.05 MiB/s, done.\n",
            "Resolving deltas: 100% (19/19), done.\n",
            "Updating files: 100% (18018/18018), done.\n"
          ]
        }
      ]
    },
    {
      "cell_type": "code",
      "execution_count": null,
      "metadata": {
        "colab": {
          "base_uri": "https://localhost:8080/"
        },
        "id": "F9wvKgBI8RwQ",
        "outputId": "ac3da601-3237-4d6e-d29a-7585911ad61b"
      },
      "outputs": [
        {
          "output_type": "stream",
          "name": "stdout",
          "text": [
            "Drive already mounted at /content/drive; to attempt to forcibly remount, call drive.mount(\"/content/drive\", force_remount=True).\n"
          ]
        }
      ],
      "source": [
        "#from google.colab import drive\n",
        "#drive.mount('/content/drive')"
      ]
    },
    {
      "cell_type": "code",
      "source": [
        "!ls /content/Comp432-GroupQ/Dataset\\ 2"
      ],
      "metadata": {
        "id": "3j7P51R1YYVf",
        "outputId": "ef6b6fb4-d81c-4d09-df90-6555a2ce710d",
        "colab": {
          "base_uri": "https://localhost:8080/"
        }
      },
      "execution_count": 5,
      "outputs": [
        {
          "output_type": "stream",
          "name": "stdout",
          "text": [
            "'Prostate Cancer'\n"
          ]
        }
      ]
    },
    {
      "cell_type": "code",
      "execution_count": null,
      "metadata": {
        "id": "nrWSomotvgKw"
      },
      "outputs": [],
      "source": [
        "dataset = datasets.ImageFolder(\"/content/Comp432-GroupQ/Dataset 1/Colorectal Cancer /\", transforms.Compose([\n",
        "        torchvision.transforms.ColorJitter(hue=.05, saturation=.05),\n",
        "        torchvision.transforms.RandomHorizontalFlip(),\n",
        "        torchvision.transforms.RandomRotation(20),\n",
        "        transforms.ToTensor(),\n",
        "        transforms.Normalize([0.485, 0.456, 0.406], [0.229, 0.224, 0.225])]))\n",
        "\n",
        "train_set, test_set = torch.utils.data.random_split(dataset,[0.7,0.3])                # splits dataset into specified ratios\n",
        "train_loader = DataLoader(train_set,shuffle=True,batch_size=32, num_workers=0)         # create train loader\n",
        "test_loader = DataLoader(test_set,batch_size=32, num_workers=0)  # create test loader"
      ]
    },
    {
      "cell_type": "code",
      "execution_count": null,
      "metadata": {
        "colab": {
          "base_uri": "https://localhost:8080/"
        },
        "id": "Lq6KVtqwBOXd",
        "outputId": "d4bc7a4d-b273-4518-8749-797fe7b70793"
      },
      "outputs": [
        {
          "output_type": "stream",
          "name": "stderr",
          "text": [
            "Using cache found in /root/.cache/torch/hub/pytorch_vision_v0.10.0\n",
            "/usr/local/lib/python3.10/dist-packages/torchvision/models/_utils.py:208: UserWarning: The parameter 'pretrained' is deprecated since 0.13 and may be removed in the future, please use 'weights' instead.\n",
            "  warnings.warn(\n",
            "/usr/local/lib/python3.10/dist-packages/torchvision/models/_utils.py:223: UserWarning: Arguments other than a weight enum or `None` for 'weights' are deprecated since 0.13 and may be removed in the future. The current behavior is equivalent to passing `weights=None`.\n",
            "  warnings.warn(msg)\n"
          ]
        }
      ],
      "source": [
        "model = torch.hub.load('pytorch/vision:v0.10.0', 'resnet18', pretrained=False)\n",
        "\n",
        "if torch.cuda.is_available():\n",
        "    model = model.to('cuda')\n",
        "\n",
        "loss = nn.CrossEntropyLoss()\n",
        "optimizer = optim.Adam(model.parameters(), lr=0.0001)"
      ]
    },
    {
      "cell_type": "code",
      "execution_count": null,
      "metadata": {
        "colab": {
          "base_uri": "https://localhost:8080/"
        },
        "id": "ILwUd3kMJe4S",
        "outputId": "8370e0af-87b2-4fb6-ecc7-6f9cddb1fcf5"
      },
      "outputs": [
        {
          "output_type": "stream",
          "name": "stdout",
          "text": [
            "Epoch 1/10, Loss: 1.2735, Accuracy: 73.55%\n",
            "Epoch 2/10, Loss: 0.4718, Accuracy: 82.17%\n",
            "Epoch 3/10, Loss: 0.4103, Accuracy: 83.79%\n",
            "Epoch 4/10, Loss: 0.3535, Accuracy: 86.74%\n",
            "Epoch 5/10, Loss: 0.2823, Accuracy: 89.21%\n",
            "Epoch 6/10, Loss: 0.2919, Accuracy: 88.86%\n",
            "Epoch 7/10, Loss: 0.2459, Accuracy: 90.81%\n",
            "Epoch 8/10, Loss: 0.2275, Accuracy: 91.17%\n",
            "Epoch 9/10, Loss: 0.2140, Accuracy: 92.12%\n",
            "Epoch 10/10, Loss: 0.2168, Accuracy: 92.10%\n"
          ]
        }
      ],
      "source": [
        "num_epochs = 10\n",
        "train_losses = []\n",
        "train_accuracies = []\n",
        "\n",
        "for epoch in range(num_epochs):\n",
        "    model.train()\n",
        "    current_loss = 0.0\n",
        "    correct = 0\n",
        "    total = 0\n",
        "    round = 0\n",
        "\n",
        "    for inputs, labels in train_loader:\n",
        "        inputs, labels = inputs.to('cuda'), labels.to('cuda')\n",
        "        optimizer.zero_grad()\n",
        "        y_pred = model(inputs)\n",
        "        l = loss(y_pred, labels)\n",
        "        l.backward()\n",
        "        optimizer.step()\n",
        "\n",
        "        current_loss += l.item()\n",
        "        _, predicted = torch.max(y_pred.data, 1)\n",
        "        total += labels.size(0)\n",
        "        correct += (predicted == labels).sum().item()\n",
        "\n",
        "    train_accuracy = 100 * correct / total\n",
        "    train_loss = current_loss / len(train_loader)\n",
        "    train_accuracies.append(train_accuracy)\n",
        "    train_losses.append(train_loss)\n",
        "    print(f'Epoch {epoch + 1}/{num_epochs}, Loss: {train_loss:.4f}, Accuracy: {train_accuracy:.2f}%')"
      ]
    },
    {
      "cell_type": "code",
      "execution_count": null,
      "metadata": {
        "colab": {
          "base_uri": "https://localhost:8080/"
        },
        "id": "JxWOBSMkRESH",
        "outputId": "69671750-ae5f-40b7-8d02-e5ca004dff8f"
      },
      "outputs": [
        {
          "output_type": "stream",
          "name": "stdout",
          "text": [
            "Validation loss: 0.007431185195843379, accuracy: 0.9038888888888889\n",
            "              precision    recall  f1-score   support\n",
            "\n",
            "         MUS       0.84      0.98      0.90       636\n",
            "        NORM       0.94      0.98      0.96       574\n",
            "         STR       0.97      0.77      0.86       590\n",
            "\n",
            "    accuracy                           0.91      1800\n",
            "   macro avg       0.92      0.91      0.91      1800\n",
            "weighted avg       0.92      0.91      0.91      1800\n",
            "\n"
          ]
        }
      ],
      "source": [
        "val_loss = []\n",
        "\n",
        "with torch.no_grad():\n",
        "          model.eval()\n",
        "          running_loss = 0.0\n",
        "          running_score = 0.0\n",
        "          for image,label in test_loader:\n",
        "                image = image.to('cuda')\n",
        "                label = label.to('cuda')\n",
        "                optimizer.zero_grad()\n",
        "                y_pred = model.forward(image)\n",
        "                l = loss(y_pred,label)\n",
        "                running_loss += l.item()\n",
        "\n",
        "                val, index_ = torch.max(y_pred,axis=1)\n",
        "                running_score += torch.sum(index_ == label.data).item()\n",
        "\n",
        "          epoch_score = running_score/len(test_loader.dataset)\n",
        "          epoch_loss = running_loss/len(test_loader.dataset)\n",
        "          val_loss.append(epoch_loss)\n",
        "          print(\"Validation loss: {}, accuracy: {}\".format(epoch_loss,epoch_score))\n",
        "\n",
        "          all_predictions = []\n",
        "          true_labels = []\n",
        "          for inputs, labels in test_loader:\n",
        "              inputs, labels = inputs.to('cuda'), labels.to('cuda')\n",
        "              outputs = model.forward(inputs)\n",
        "              _, predicted = torch.max(outputs.data, 1)\n",
        "              all_predictions.extend(predicted.cpu().numpy())\n",
        "              true_labels.extend(labels.cpu().numpy())\n",
        "\n",
        "classification_rep = classification_report(true_labels, all_predictions, target_names=dataset.classes)\n",
        "print(classification_rep)"
      ]
    },
    {
      "cell_type": "markdown",
      "metadata": {
        "id": "8jjPh3d2amIe"
      },
      "source": [
        "**Save trained model from dataset 1**"
      ]
    },
    {
      "cell_type": "code",
      "execution_count": null,
      "metadata": {
        "id": "TeTdDu_YR16c"
      },
      "outputs": [],
      "source": [
        "torch.save(model.state_dict(), '/content/drive/My Drive/TrainedModel')"
      ]
    },
    {
      "cell_type": "code",
      "execution_count": 5,
      "metadata": {
        "colab": {
          "base_uri": "https://localhost:8080/"
        },
        "id": "8k40xiMg7GXv",
        "outputId": "d749bb8b-c3dc-48ce-9d8b-4a750a6911f9"
      },
      "outputs": [
        {
          "output_type": "stream",
          "name": "stderr",
          "text": [
            "Downloading: \"https://github.com/pytorch/vision/zipball/v0.10.0\" to /root/.cache/torch/hub/v0.10.0.zip\n",
            "/usr/local/lib/python3.10/dist-packages/torchvision/models/_utils.py:208: UserWarning: The parameter 'pretrained' is deprecated since 0.13 and may be removed in the future, please use 'weights' instead.\n",
            "  warnings.warn(\n",
            "/usr/local/lib/python3.10/dist-packages/torchvision/models/_utils.py:223: UserWarning: Arguments other than a weight enum or `None` for 'weights' are deprecated since 0.13 and may be removed in the future. The current behavior is equivalent to passing `weights=None`.\n",
            "  warnings.warn(msg)\n"
          ]
        },
        {
          "output_type": "execute_result",
          "data": {
            "text/plain": [
              "<All keys matched successfully>"
            ]
          },
          "metadata": {},
          "execution_count": 5
        }
      ],
      "source": [
        "pretrained_model = torch.hub.load('pytorch/vision:v0.10.0', 'resnet18', pretrained=False)\n",
        "pretrained_model.load_state_dict(torch.load('/content/drive/My Drive/Comp 432/TrainedModel', map_location=torch.device('cuda')))"
      ]
    },
    {
      "cell_type": "code",
      "execution_count": null,
      "metadata": {
        "colab": {
          "base_uri": "https://localhost:8080/"
        },
        "id": "0chnAIXX7Qxl",
        "outputId": "c85dc4db-dfb6-4e15-a1ff-a3b5d5032472"
      },
      "outputs": [
        {
          "output_type": "stream",
          "name": "stdout",
          "text": [
            "              precision    recall  f1-score   support\n",
            "\n",
            "         MUS       0.95      0.92      0.93       636\n",
            "        NORM       1.00      0.99      0.99       574\n",
            "         STR       0.91      0.95      0.93       590\n",
            "\n",
            "    accuracy                           0.95      1800\n",
            "   macro avg       0.95      0.95      0.95      1800\n",
            "weighted avg       0.95      0.95      0.95      1800\n",
            "\n"
          ]
        }
      ],
      "source": [
        "pretrained_model.to('cuda')\n",
        "\n",
        "with torch.no_grad():\n",
        "          pretrained_model.eval()\n",
        "          all_predictions = []\n",
        "          true_labels = []\n",
        "          for inputs, labels in test_loader:\n",
        "              inputs, labels = inputs.to('cuda'), labels.to('cuda')\n",
        "              outputs = pretrained_model.forward(inputs)\n",
        "              _, predicted = torch.max(outputs.data, 1)\n",
        "              all_predictions.extend(predicted.cpu().numpy())\n",
        "              true_labels.extend(labels.cpu().numpy())\n",
        "\n",
        "classification_rep = classification_report(true_labels, all_predictions, target_names=dataset.classes)\n",
        "print(classification_rep)"
      ]
    },
    {
      "cell_type": "code",
      "execution_count": null,
      "metadata": {
        "colab": {
          "base_uri": "https://localhost:8080/"
        },
        "id": "RhxkjQS9lOAC",
        "outputId": "11ef1096-1def-44bd-c535-2754c08ee216"
      },
      "outputs": [
        {
          "output_type": "stream",
          "name": "stdout",
          "text": [
            "[[[1131   33]\n",
            "  [  52  584]]\n",
            "\n",
            " [[1225    1]\n",
            "  [   8  566]]\n",
            "\n",
            " [[1154   56]\n",
            "  [  30  560]]]\n"
          ]
        }
      ],
      "source": [
        "from sklearn.metrics import multilabel_confusion_matrix\n",
        "\n",
        "confMatrix = multilabel_confusion_matrix(true_labels, all_predictions, labels=[0, 1, 2])\n",
        "print(confMatrix)"
      ]
    },
    {
      "cell_type": "code",
      "execution_count": null,
      "metadata": {
        "colab": {
          "base_uri": "https://localhost:8080/"
        },
        "id": "kVStMbnQlTav",
        "outputId": "c2c042e8-87c8-4870-9229-8b04f4acb300"
      },
      "outputs": [
        {
          "output_type": "execute_result",
          "data": {
            "text/plain": [
              "ResNet(\n",
              "  (conv1): Conv2d(3, 64, kernel_size=(7, 7), stride=(2, 2), padding=(3, 3), bias=False)\n",
              "  (bn1): BatchNorm2d(64, eps=1e-05, momentum=0.1, affine=True, track_running_stats=True)\n",
              "  (relu): ReLU(inplace=True)\n",
              "  (maxpool): MaxPool2d(kernel_size=3, stride=2, padding=1, dilation=1, ceil_mode=False)\n",
              "  (layer1): Sequential(\n",
              "    (0): BasicBlock(\n",
              "      (conv1): Conv2d(64, 64, kernel_size=(3, 3), stride=(1, 1), padding=(1, 1), bias=False)\n",
              "      (bn1): BatchNorm2d(64, eps=1e-05, momentum=0.1, affine=True, track_running_stats=True)\n",
              "      (relu): ReLU(inplace=True)\n",
              "      (conv2): Conv2d(64, 64, kernel_size=(3, 3), stride=(1, 1), padding=(1, 1), bias=False)\n",
              "      (bn2): BatchNorm2d(64, eps=1e-05, momentum=0.1, affine=True, track_running_stats=True)\n",
              "    )\n",
              "    (1): BasicBlock(\n",
              "      (conv1): Conv2d(64, 64, kernel_size=(3, 3), stride=(1, 1), padding=(1, 1), bias=False)\n",
              "      (bn1): BatchNorm2d(64, eps=1e-05, momentum=0.1, affine=True, track_running_stats=True)\n",
              "      (relu): ReLU(inplace=True)\n",
              "      (conv2): Conv2d(64, 64, kernel_size=(3, 3), stride=(1, 1), padding=(1, 1), bias=False)\n",
              "      (bn2): BatchNorm2d(64, eps=1e-05, momentum=0.1, affine=True, track_running_stats=True)\n",
              "    )\n",
              "  )\n",
              "  (layer2): Sequential(\n",
              "    (0): BasicBlock(\n",
              "      (conv1): Conv2d(64, 128, kernel_size=(3, 3), stride=(2, 2), padding=(1, 1), bias=False)\n",
              "      (bn1): BatchNorm2d(128, eps=1e-05, momentum=0.1, affine=True, track_running_stats=True)\n",
              "      (relu): ReLU(inplace=True)\n",
              "      (conv2): Conv2d(128, 128, kernel_size=(3, 3), stride=(1, 1), padding=(1, 1), bias=False)\n",
              "      (bn2): BatchNorm2d(128, eps=1e-05, momentum=0.1, affine=True, track_running_stats=True)\n",
              "      (downsample): Sequential(\n",
              "        (0): Conv2d(64, 128, kernel_size=(1, 1), stride=(2, 2), bias=False)\n",
              "        (1): BatchNorm2d(128, eps=1e-05, momentum=0.1, affine=True, track_running_stats=True)\n",
              "      )\n",
              "    )\n",
              "    (1): BasicBlock(\n",
              "      (conv1): Conv2d(128, 128, kernel_size=(3, 3), stride=(1, 1), padding=(1, 1), bias=False)\n",
              "      (bn1): BatchNorm2d(128, eps=1e-05, momentum=0.1, affine=True, track_running_stats=True)\n",
              "      (relu): ReLU(inplace=True)\n",
              "      (conv2): Conv2d(128, 128, kernel_size=(3, 3), stride=(1, 1), padding=(1, 1), bias=False)\n",
              "      (bn2): BatchNorm2d(128, eps=1e-05, momentum=0.1, affine=True, track_running_stats=True)\n",
              "    )\n",
              "  )\n",
              "  (layer3): Sequential(\n",
              "    (0): BasicBlock(\n",
              "      (conv1): Conv2d(128, 256, kernel_size=(3, 3), stride=(2, 2), padding=(1, 1), bias=False)\n",
              "      (bn1): BatchNorm2d(256, eps=1e-05, momentum=0.1, affine=True, track_running_stats=True)\n",
              "      (relu): ReLU(inplace=True)\n",
              "      (conv2): Conv2d(256, 256, kernel_size=(3, 3), stride=(1, 1), padding=(1, 1), bias=False)\n",
              "      (bn2): BatchNorm2d(256, eps=1e-05, momentum=0.1, affine=True, track_running_stats=True)\n",
              "      (downsample): Sequential(\n",
              "        (0): Conv2d(128, 256, kernel_size=(1, 1), stride=(2, 2), bias=False)\n",
              "        (1): BatchNorm2d(256, eps=1e-05, momentum=0.1, affine=True, track_running_stats=True)\n",
              "      )\n",
              "    )\n",
              "    (1): BasicBlock(\n",
              "      (conv1): Conv2d(256, 256, kernel_size=(3, 3), stride=(1, 1), padding=(1, 1), bias=False)\n",
              "      (bn1): BatchNorm2d(256, eps=1e-05, momentum=0.1, affine=True, track_running_stats=True)\n",
              "      (relu): ReLU(inplace=True)\n",
              "      (conv2): Conv2d(256, 256, kernel_size=(3, 3), stride=(1, 1), padding=(1, 1), bias=False)\n",
              "      (bn2): BatchNorm2d(256, eps=1e-05, momentum=0.1, affine=True, track_running_stats=True)\n",
              "    )\n",
              "  )\n",
              "  (layer4): Sequential(\n",
              "    (0): BasicBlock(\n",
              "      (conv1): Conv2d(256, 512, kernel_size=(3, 3), stride=(2, 2), padding=(1, 1), bias=False)\n",
              "      (bn1): BatchNorm2d(512, eps=1e-05, momentum=0.1, affine=True, track_running_stats=True)\n",
              "      (relu): ReLU(inplace=True)\n",
              "      (conv2): Conv2d(512, 512, kernel_size=(3, 3), stride=(1, 1), padding=(1, 1), bias=False)\n",
              "      (bn2): BatchNorm2d(512, eps=1e-05, momentum=0.1, affine=True, track_running_stats=True)\n",
              "      (downsample): Sequential(\n",
              "        (0): Conv2d(256, 512, kernel_size=(1, 1), stride=(2, 2), bias=False)\n",
              "        (1): BatchNorm2d(512, eps=1e-05, momentum=0.1, affine=True, track_running_stats=True)\n",
              "      )\n",
              "    )\n",
              "    (1): BasicBlock(\n",
              "      (conv1): Conv2d(512, 512, kernel_size=(3, 3), stride=(1, 1), padding=(1, 1), bias=False)\n",
              "      (bn1): BatchNorm2d(512, eps=1e-05, momentum=0.1, affine=True, track_running_stats=True)\n",
              "      (relu): ReLU(inplace=True)\n",
              "      (conv2): Conv2d(512, 512, kernel_size=(3, 3), stride=(1, 1), padding=(1, 1), bias=False)\n",
              "      (bn2): BatchNorm2d(512, eps=1e-05, momentum=0.1, affine=True, track_running_stats=True)\n",
              "    )\n",
              "  )\n",
              "  (avgpool): AdaptiveAvgPool2d(output_size=(1, 1))\n",
              "  (fc): Linear(in_features=512, out_features=1000, bias=True)\n",
              ")"
            ]
          },
          "metadata": {},
          "execution_count": 16
        }
      ],
      "source": [
        "pretrained_model"
      ]
    },
    {
      "cell_type": "code",
      "execution_count": 8,
      "metadata": {
        "id": "t1HS7SWuNM7J"
      },
      "outputs": [],
      "source": [
        "device=torch.device(\"cuda:0\"if torch.cuda.is_available() else \"cpu\")"
      ]
    },
    {
      "cell_type": "code",
      "execution_count": 11,
      "metadata": {
        "id": "oXzDan6T6C5B"
      },
      "outputs": [],
      "source": [
        "from typing_extensions import Self\n",
        "#print(list(pretrained_model.children()))\n",
        "features=list(pretrained_model.children())[:-1] #only remove fc\n",
        "model_out=nn.Sequential(*features).to(device)\n",
        "def for_feature(loader):\n",
        "  data_tmp=[]\n",
        "  label_tmp=[]\n",
        "\n",
        "  with torch.no_grad():\n",
        "      for img,label in loader:\n",
        "        img=img.to(device)\n",
        "\n",
        "        output1=model_out(img)\n",
        "\n",
        "        data_tmp.append(output1.cpu().numpy())\n",
        "        label_tmp.append(label.cpu().numpy())\n",
        "\n",
        "  return np.vstack(data_tmp), np.hstack(label_tmp)"
      ]
    },
    {
      "cell_type": "code",
      "source": [
        "trained_feature, trained_label=for_feature(train_loader)"
      ],
      "metadata": {
        "id": "kdSFIHPJahJ-"
      },
      "execution_count": 12,
      "outputs": []
    },
    {
      "cell_type": "code",
      "source": [
        "trained_feature_n = trained_feature.reshape(4200,512)"
      ],
      "metadata": {
        "id": "j23ifqP2iZl9"
      },
      "execution_count": 16,
      "outputs": []
    },
    {
      "cell_type": "code",
      "execution_count": 13,
      "metadata": {
        "colab": {
          "base_uri": "https://localhost:8080/"
        },
        "id": "HnsYB_AmiTzt",
        "outputId": "8051a491-d209-4a54-af73-0e850d9c26a1"
      },
      "outputs": [
        {
          "output_type": "execute_result",
          "data": {
            "text/plain": [
              "DescribeResult(nobs=4200, minmax=(0, 2), mean=1.0126190476190475, variance=0.6688095238095237, skewness=-0.023220605188730967, kurtosis=-1.5040893201027488)"
            ]
          },
          "metadata": {},
          "execution_count": 13
        }
      ],
      "source": [
        "from scipy import stats\n",
        "stats.describe(trained_label)"
      ]
    },
    {
      "cell_type": "code",
      "execution_count": 16,
      "metadata": {
        "id": "xonNLFdkYdTf"
      },
      "outputs": [],
      "source": [
        "#T-SNE\n",
        "from sklearn.manifold import TSNE\n",
        "import plotly.express as px\n",
        "#plot_matrix_grid(model.coef_[0].T.reshape(-1,224,224))"
      ]
    },
    {
      "cell_type": "code",
      "execution_count": 30,
      "metadata": {
        "colab": {
          "base_uri": "https://localhost:8080/",
          "height": 227
        },
        "id": "J0_9YaaHdgIv",
        "outputId": "84afbc23-d0aa-4a1c-d098-368576bc9bbe"
      },
      "outputs": [
        {
          "output_type": "error",
          "ename": "TypeError",
          "evalue": "ignored",
          "traceback": [
            "\u001b[0;31m---------------------------------------------------------------------------\u001b[0m",
            "\u001b[0;31mTypeError\u001b[0m                                 Traceback (most recent call last)",
            "\u001b[0;32m<ipython-input-30-0afdc175a4eb>\u001b[0m in \u001b[0;36m<cell line: 3>\u001b[0;34m()\u001b[0m\n\u001b[1;32m      1\u001b[0m \u001b[0mtsne\u001b[0m\u001b[0;34m=\u001b[0m\u001b[0mTSNE\u001b[0m\u001b[0;34m(\u001b[0m\u001b[0mn_components\u001b[0m\u001b[0;34m=\u001b[0m\u001b[0;36m2\u001b[0m\u001b[0;34m,\u001b[0m \u001b[0mrandom_state\u001b[0m\u001b[0;34m=\u001b[0m\u001b[0;36m0\u001b[0m\u001b[0;34m,\u001b[0m \u001b[0mlearning_rate\u001b[0m\u001b[0;34m=\u001b[0m\u001b[0;34m'auto'\u001b[0m\u001b[0;34m)\u001b[0m\u001b[0;34m\u001b[0m\u001b[0;34m\u001b[0m\u001b[0m\n\u001b[1;32m      2\u001b[0m \u001b[0mprojections\u001b[0m\u001b[0;34m=\u001b[0m\u001b[0mtsne\u001b[0m\u001b[0;34m.\u001b[0m\u001b[0mfit_transform\u001b[0m\u001b[0;34m(\u001b[0m\u001b[0mtrained_feature_n\u001b[0m\u001b[0;34m)\u001b[0m\u001b[0;34m\u001b[0m\u001b[0;34m\u001b[0m\u001b[0m\n\u001b[0;32m----> 3\u001b[0;31m \u001b[0mfig\u001b[0m\u001b[0;34m=\u001b[0m\u001b[0mpx\u001b[0m\u001b[0;34m.\u001b[0m\u001b[0mscatter\u001b[0m\u001b[0;34m(\u001b[0m\u001b[0mprojections\u001b[0m\u001b[0;34m[\u001b[0m\u001b[0;34m:\u001b[0m\u001b[0;34m,\u001b[0m\u001b[0;36m0\u001b[0m\u001b[0;34m]\u001b[0m\u001b[0;34m,\u001b[0m \u001b[0mprojections\u001b[0m\u001b[0;34m[\u001b[0m\u001b[0;34m:\u001b[0m\u001b[0;34m,\u001b[0m\u001b[0;36m1\u001b[0m\u001b[0;34m]\u001b[0m\u001b[0;34m,\u001b[0m \u001b[0mcolor\u001b[0m \u001b[0;34m=\u001b[0m \u001b[0mtrained_label\u001b[0m\u001b[0;34m,\u001b[0m \u001b[0mlabels\u001b[0m\u001b[0;34m=\u001b[0m\u001b[0;34m{\u001b[0m\u001b[0;34m\"color\"\u001b[0m\u001b[0;34m:\u001b[0m\u001b[0;34m\"\"\u001b[0m\u001b[0;34m}\u001b[0m\u001b[0;34m,\u001b[0m \u001b[0mcmap\u001b[0m \u001b[0;34m=\u001b[0m \u001b[0;34m'hsv'\u001b[0m\u001b[0;34m)\u001b[0m\u001b[0;34m\u001b[0m\u001b[0;34m\u001b[0m\u001b[0m\n\u001b[0m\u001b[1;32m      4\u001b[0m \u001b[0mfig\u001b[0m\u001b[0;34m.\u001b[0m\u001b[0mshow\u001b[0m\u001b[0;34m(\u001b[0m\u001b[0;34m)\u001b[0m\u001b[0;34m\u001b[0m\u001b[0;34m\u001b[0m\u001b[0m\n",
            "\u001b[0;31mTypeError\u001b[0m: scatter() got an unexpected keyword argument 'cmap'"
          ]
        }
      ],
      "source": [
        "tsne=TSNE(n_components=2, random_state=0, learning_rate='auto')\n",
        "projections=tsne.fit_transform(trained_feature_n)\n",
        "fig=px.scatter(projections[:,0], projections[:,1], color = trained_label, labels={\"color\":\"\"}, cmap = 'hsv')\n",
        "fig.show()"
      ]
    },
    {
      "cell_type": "code",
      "source": [
        "#task 2 Pretrained ResNet18 applied to Dataset2 & 3\n",
        "dataset2 = datasets.ImageFolder(\"/content/Comp432-GroupQ/Dataset 2/Prostate Cancer/\", transforms.Compose([\n",
        "        torchvision.transforms.Resize((224,224)),\n",
        "        torchvision.transforms.ColorJitter(hue=.05, saturation=.05),\n",
        "        torchvision.transforms.RandomHorizontalFlip(),\n",
        "        torchvision.transforms.RandomRotation(20),\n",
        "        transforms.ToTensor(),\n",
        "        transforms.Normalize([0.485, 0.456, 0.406], [0.229, 0.224, 0.225])]))\n",
        "\n",
        "dataloader_sc1 = DataLoader(dataset2, batch_size=64, shuffle=True)"
      ],
      "metadata": {
        "id": "4falhgicL2H2"
      },
      "execution_count": 6,
      "outputs": []
    },
    {
      "cell_type": "code",
      "source": [
        "features = list(pretrained_model.children())[:-1] #only remove fc\n",
        "resnet_nohead = nn.Sequential(*features).to(device)\n",
        "resnet_nohead = resnet_nohead.eval()"
      ],
      "metadata": {
        "id": "5nyXlk2hs246"
      },
      "execution_count": 9,
      "outputs": []
    },
    {
      "cell_type": "markdown",
      "source": [
        "**Scenario 1: Task 1 on dataset 2**"
      ],
      "metadata": {
        "id": "N0guknPQtc7M"
      }
    },
    {
      "cell_type": "code",
      "source": [
        "all_features = []\n",
        "all_labels = []\n",
        "\n",
        "resnet_nohead.to(device)\n",
        "\n",
        "with torch.no_grad():\n",
        "    for images, labels in dataloader_sc1:\n",
        "        images = images.to(device)\n",
        "        labels = labels.to(device)\n",
        "        features = resnet_nohead(images)\n",
        "        features = features.squeeze().cpu().numpy()\n",
        "        all_features.append(features)\n",
        "        all_labels.append(labels.cpu().numpy())\n",
        "\n",
        "# Concatenate features and labels\n",
        "all_features = np.concatenate(all_features, axis=0)\n",
        "all_labels = np.concatenate(all_labels, axis=0)"
      ],
      "metadata": {
        "id": "OXUUzCHONEnz"
      },
      "execution_count": 14,
      "outputs": []
    },
    {
      "cell_type": "code",
      "source": [
        "tsne = TSNE(n_components=2, random_state=42)\n",
        "embedded_features = tsne.fit_transform(all_features)\n",
        "\n",
        "# Plot the t-SNE embeddings with different colors for each class\n",
        "plt.scatter(embedded_features[all_labels == 0, 0], embedded_features[all_labels == 0, 1], label='Gland')\n",
        "plt.scatter(embedded_features[all_labels == 1, 0], embedded_features[all_labels == 1, 1], label='Nongland')\n",
        "plt.scatter(embedded_features[all_labels == 2, 0], embedded_features[all_labels == 2, 1], label='Tumor')\n",
        "\n",
        "plt.title('t-SNE Visualization of ResNet-18 Features on dataset 2')\n",
        "plt.legend()\n",
        "plt.show()"
      ],
      "metadata": {
        "id": "4wO7h73hvEsO",
        "outputId": "d4974668-a1fc-4460-944f-be8df3625eda",
        "colab": {
          "base_uri": "https://localhost:8080/",
          "height": 452
        }
      },
      "execution_count": 19,
      "outputs": [
        {
          "output_type": "display_data",
          "data": {
            "text/plain": [
              "<Figure size 640x480 with 1 Axes>"
            ],
            "image/png": "[encoded data removed]"
          },
          "metadata": {}
        }
      ]
    },
    {
      "cell_type": "code",
      "source": [
        "import torchvision.models as models"
      ],
      "metadata": {
        "id": "ZeGPMWB8EdU9"
      },
      "execution_count": null,
      "outputs": []
    },
    {
      "cell_type": "code",
      "execution_count": null,
      "metadata": {
        "id": "6AbK63CLlM9Y",
        "colab": {
          "base_uri": "https://localhost:8080/"
        },
        "outputId": "068f3e5e-a0eb-45f4-bb5b-37f5a4a951e1"
      },
      "outputs": [
        {
          "output_type": "stream",
          "name": "stderr",
          "text": [
            "/usr/local/lib/python3.10/dist-packages/torchvision/models/_utils.py:208: UserWarning: The parameter 'pretrained' is deprecated since 0.13 and may be removed in the future, please use 'weights' instead.\n",
            "  warnings.warn(\n",
            "/usr/local/lib/python3.10/dist-packages/torchvision/models/_utils.py:223: UserWarning: Arguments other than a weight enum or `None` for 'weights' are deprecated since 0.13 and may be removed in the future. The current behavior is equivalent to passing `weights=VGG16_Weights.IMAGENET1K_V1`. You can also use `weights=VGG16_Weights.DEFAULT` to get the most up-to-date weights.\n",
            "  warnings.warn(msg)\n"
          ]
        }
      ],
      "source": [
        "device=torch.device(\"cuda\" if torch.cuda.is_available() else \"cpu\")\n",
        "VGG_16=models.vgg16(pretrained=True)"
      ]
    },
    {
      "cell_type": "code",
      "source": [
        "#loss = nn.CrossEntropyLoss()\n",
        "#optimizer_vgg16= optim.SGD(VGG_16.parameters(), lr=0.0001,momentum=0.9)"
      ],
      "metadata": {
        "id": "inJ9oASQEm6p"
      },
      "execution_count": null,
      "outputs": []
    }
  ],
  "metadata": {
    "accelerator": "GPU",
    "colab": {
      "provenance": []
    },
    "kernelspec": {
      "display_name": "Python 3",
      "name": "python3"
    },
    "language_info": {
      "name": "python"
    }
  },
  "nbformat": 4,
  "nbformat_minor": 0
}