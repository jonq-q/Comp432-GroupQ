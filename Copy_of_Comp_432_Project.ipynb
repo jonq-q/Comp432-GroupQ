{
  "cells": [
    {
      "cell_type": "code",
      "execution_count": null,
      "metadata": {
        "id": "wGGhmFiP-7cH"
      },
      "outputs": [],
      "source": [
        "import torch\n",
        "import torchvision\n",
        "import numpy as np\n",
        "import torch.nn as nn\n",
        "import torch.optim as optim\n",
        "from torch.utils.data import DataLoader\n",
        "from torchvision import datasets, transforms\n",
        "from sklearn.metrics import classification_report\n",
        "import matplotlib.pyplot as plt"
      ]
    },
    {
      "cell_type": "code",
      "execution_count": 1,
      "metadata": {
        "id": "rnnr8Nk_lUTw",
        "outputId": "232ccdf6-ee2f-4b5c-c62c-8de68f893cc7",
        "colab": {
          "base_uri": "https://localhost:8080/"
        }
      },
      "outputs": [
        {
          "output_type": "stream",
          "name": "stdout",
          "text": [
            "Mounted at /content/drive/\n",
            "Please go to https://github.com/settings/ssh/new to upload the following key: \n",
            "ssh-ed25519 AAAAC3NzaC1lZDI1NTE5AAAAIKsdgQltK+JTZbl5J1o7j408pGhjNyf4YUbWJmSugvZz root@b884b6fcbf02\n",
            "\n",
            "Please use SSH method to clone repo.\n"
          ]
        }
      ],
      "source": [
        "!wget -q https://raw.githubusercontent.com/tsunrise/colab-github/main/colab_github.py\n",
        "import colab_github\n",
        "colab_github.github_auth(persistent_key=True)"
      ]
    },
    {
      "cell_type": "code",
      "source": [
        "!git clone git@github.com:jonq-q/Comp432-GroupQ.git"
      ],
      "metadata": {
        "id": "lOcx5r5OUk3D",
        "outputId": "4fdb8357-7633-4882-dd31-f4dcd9e2d6d1",
        "colab": {
          "base_uri": "https://localhost:8080/"
        }
      },
      "execution_count": 2,
      "outputs": [
        {
          "output_type": "stream",
          "name": "stdout",
          "text": [
            "Cloning into 'Comp432-GroupQ'...\n",
            "remote: Enumerating objects: 6028, done.\u001b[K\n",
            "remote: Counting objects: 100% (15/15), done.\u001b[K\n",
            "remote: Compressing objects: 100% (10/10), done.\u001b[K\n",
            "remote: Total 6028 (delta 3), reused 15 (delta 3), pack-reused 6013\u001b[K\n",
            "Receiving objects: 100% (6028/6028), 791.41 MiB | 29.24 MiB/s, done.\n",
            "Resolving deltas: 100% (5/5), done.\n",
            "Updating files: 100% (6008/6008), done.\n"
          ]
        }
      ]
    },
    {
      "cell_type": "code",
      "execution_count": null,
      "metadata": {
        "colab": {
          "base_uri": "https://localhost:8080/"
        },
        "id": "F9wvKgBI8RwQ",
        "outputId": "ac3da601-3237-4d6e-d29a-7585911ad61b"
      },
      "outputs": [
        {
          "output_type": "stream",
          "name": "stdout",
          "text": [
            "Drive already mounted at /content/drive; to attempt to forcibly remount, call drive.mount(\"/content/drive\", force_remount=True).\n"
          ]
        }
      ],
      "source": [
        "from google.colab import drive\n",
        "drive.mount('/content/drive')"
      ]
    },
    {
      "cell_type": "code",
      "execution_count": null,
      "metadata": {
        "id": "nrWSomotvgKw"
      },
      "outputs": [],
      "source": [
        "dataset = datasets.ImageFolder(\"/content/drive/My Drive/Comp 432/Dataset1/Dataset1/\", transforms.Compose([\n",
        "        torchvision.transforms.Resize((224,224)),\n",
        "        torchvision.transforms.ColorJitter(hue=.05, saturation=.05),\n",
        "        torchvision.transforms.RandomHorizontalFlip(),\n",
        "        torchvision.transforms.RandomRotation(20),\n",
        "        transforms.ToTensor(),\n",
        "        transforms.Normalize([0.485, 0.456, 0.406], [0.229, 0.224, 0.225])]))\n",
        "\n",
        "train_set, test_set = torch.utils.data.random_split(dataset,[0.7,0.3])                # splits dataset into specified ratios\n",
        "train_loader = DataLoader(train_set,shuffle=True,batch_size=16, num_workers=0)         # create train loader\n",
        "test_loader = DataLoader(test_set,batch_size=16, num_workers=0)  # create test loader"
      ]
    },
    {
      "cell_type": "code",
      "execution_count": null,
      "metadata": {
        "colab": {
          "base_uri": "https://localhost:8080/"
        },
        "id": "Lq6KVtqwBOXd",
        "outputId": "dd256a88-e880-4608-cf75-46af501dd07e"
      },
      "outputs": [
        {
          "output_type": "stream",
          "name": "stderr",
          "text": [
            "Downloading: \"https://github.com/pytorch/vision/zipball/v0.10.0\" to /root/.cache/torch/hub/v0.10.0.zip\n",
            "/usr/local/lib/python3.10/dist-packages/torchvision/models/_utils.py:208: UserWarning: The parameter 'pretrained' is deprecated since 0.13 and may be removed in the future, please use 'weights' instead.\n",
            "  warnings.warn(\n",
            "/usr/local/lib/python3.10/dist-packages/torchvision/models/_utils.py:223: UserWarning: Arguments other than a weight enum or `None` for 'weights' are deprecated since 0.13 and may be removed in the future. The current behavior is equivalent to passing `weights=None`.\n",
            "  warnings.warn(msg)\n"
          ]
        }
      ],
      "source": [
        "model = torch.hub.load('pytorch/vision:v0.10.0', 'resnet18', pretrained=False)\n",
        "\n",
        "if torch.cuda.is_available():\n",
        "    model = model.to('cuda')\n",
        "\n",
        "loss = nn.CrossEntropyLoss()\n",
        "optimizer = optim.Adam(model.parameters(), lr=0.0001)"
      ]
    },
    {
      "cell_type": "code",
      "execution_count": null,
      "metadata": {
        "colab": {
          "base_uri": "https://localhost:8080/"
        },
        "id": "ILwUd3kMJe4S",
        "outputId": "8716a467-2ee2-48f7-ad37-2ab1f637cf76"
      },
      "outputs": [
        {
          "name": "stdout",
          "output_type": "stream",
          "text": [
            "Epoch 1/10, Loss: 0.5257, Accuracy: 96.89%\n",
            "Epoch 2/10, Loss: 0.0062, Accuracy: 100.00%\n",
            "Epoch 3/10, Loss: 0.0026, Accuracy: 100.00%\n",
            "Epoch 4/10, Loss: 0.0015, Accuracy: 100.00%\n",
            "Epoch 5/10, Loss: 0.0010, Accuracy: 100.00%\n",
            "Epoch 6/10, Loss: 0.0007, Accuracy: 100.00%\n",
            "Epoch 7/10, Loss: 0.0005, Accuracy: 100.00%\n",
            "Epoch 8/10, Loss: 0.0004, Accuracy: 100.00%\n",
            "Epoch 9/10, Loss: 0.0003, Accuracy: 100.00%\n",
            "Epoch 10/10, Loss: 0.0002, Accuracy: 100.00%\n"
          ]
        }
      ],
      "source": [
        "num_epochs = 10\n",
        "train_losses = []\n",
        "train_accuracies = []\n",
        "\n",
        "for epoch in range(num_epochs):\n",
        "    model.train()\n",
        "    current_loss = 0.0\n",
        "    correct = 0\n",
        "    total = 0\n",
        "    round = 0\n",
        "\n",
        "    for inputs, labels in train_loader:\n",
        "        #print(inputs.shape)\n",
        "        #print(inputs)\n",
        "        inputs, labels = inputs.to('cuda'), labels.to('cuda')\n",
        "        optimizer.zero_grad()\n",
        "        y_pred = model(inputs)\n",
        "        l = loss(y_pred, labels)\n",
        "        l.backward()\n",
        "        optimizer.step()\n",
        "        #round += 1\n",
        "        #print(round)\n",
        "\n",
        "        current_loss += l.item()\n",
        "        _, predicted = torch.max(y_pred.data, 1)\n",
        "        total += labels.size(0)\n",
        "        correct += (predicted == labels).sum().item()\n",
        "\n",
        "    train_accuracy = 100 * correct / total\n",
        "    train_loss = current_loss / len(train_loader)\n",
        "    train_accuracies.append(train_accuracy)\n",
        "    train_losses.append(train_loss)\n",
        "    print(f'Epoch {epoch + 1}/{num_epochs}, Loss: {train_loss:.4f}, Accuracy: {train_accuracy:.2f}%')"
      ]
    },
    {
      "cell_type": "code",
      "execution_count": null,
      "metadata": {
        "colab": {
          "base_uri": "https://localhost:8080/",
          "height": 384
        },
        "id": "JxWOBSMkRESH",
        "outputId": "9ac4ef6f-f087-4a68-bc31-5fef0466fe44"
      },
      "outputs": [
        {
          "output_type": "stream",
          "name": "stdout",
          "text": [
            "Validation loss: 0.6291423743625857, accuracy: 0.0\n"
          ]
        },
        {
          "output_type": "error",
          "ename": "ValueError",
          "evalue": "ignored",
          "traceback": [
            "\u001b[0;31m---------------------------------------------------------------------------\u001b[0m",
            "\u001b[0;31mValueError\u001b[0m                                Traceback (most recent call last)",
            "\u001b[0;32m<ipython-input-18-30f67fd7a69d>\u001b[0m in \u001b[0;36m<cell line: 32>\u001b[0;34m()\u001b[0m\n\u001b[1;32m     30\u001b[0m               \u001b[0mtrue_labels\u001b[0m\u001b[0;34m.\u001b[0m\u001b[0mextend\u001b[0m\u001b[0;34m(\u001b[0m\u001b[0mlabels\u001b[0m\u001b[0;34m.\u001b[0m\u001b[0mcpu\u001b[0m\u001b[0;34m(\u001b[0m\u001b[0;34m)\u001b[0m\u001b[0;34m.\u001b[0m\u001b[0mnumpy\u001b[0m\u001b[0;34m(\u001b[0m\u001b[0;34m)\u001b[0m\u001b[0;34m)\u001b[0m\u001b[0;34m\u001b[0m\u001b[0;34m\u001b[0m\u001b[0m\n\u001b[1;32m     31\u001b[0m \u001b[0;34m\u001b[0m\u001b[0m\n\u001b[0;32m---> 32\u001b[0;31m \u001b[0mclassification_rep\u001b[0m \u001b[0;34m=\u001b[0m \u001b[0mclassification_report\u001b[0m\u001b[0;34m(\u001b[0m\u001b[0mtrue_labels\u001b[0m\u001b[0;34m,\u001b[0m \u001b[0mall_predictions\u001b[0m\u001b[0;34m,\u001b[0m \u001b[0mtarget_names\u001b[0m\u001b[0;34m=\u001b[0m\u001b[0mdataset\u001b[0m\u001b[0;34m.\u001b[0m\u001b[0mclasses\u001b[0m\u001b[0;34m)\u001b[0m\u001b[0;34m\u001b[0m\u001b[0;34m\u001b[0m\u001b[0m\n\u001b[0m\u001b[1;32m     33\u001b[0m \u001b[0mprint\u001b[0m\u001b[0;34m(\u001b[0m\u001b[0mclassification_rep\u001b[0m\u001b[0;34m)\u001b[0m\u001b[0;34m\u001b[0m\u001b[0;34m\u001b[0m\u001b[0m\n",
            "\u001b[0;32m/usr/local/lib/python3.10/dist-packages/sklearn/metrics/_classification.py\u001b[0m in \u001b[0;36mclassification_report\u001b[0;34m(y_true, y_pred, labels, target_names, sample_weight, digits, output_dict, zero_division)\u001b[0m\n\u001b[1;32m   2330\u001b[0m             )\n\u001b[1;32m   2331\u001b[0m         \u001b[0;32melse\u001b[0m\u001b[0;34m:\u001b[0m\u001b[0;34m\u001b[0m\u001b[0;34m\u001b[0m\u001b[0m\n\u001b[0;32m-> 2332\u001b[0;31m             raise ValueError(\n\u001b[0m\u001b[1;32m   2333\u001b[0m                 \u001b[0;34m\"Number of classes, {0}, does not match size of \"\u001b[0m\u001b[0;34m\u001b[0m\u001b[0;34m\u001b[0m\u001b[0m\n\u001b[1;32m   2334\u001b[0m                 \u001b[0;34m\"target_names, {1}. Try specifying the labels \"\u001b[0m\u001b[0;34m\u001b[0m\u001b[0;34m\u001b[0m\u001b[0m\n",
            "\u001b[0;31mValueError\u001b[0m: Number of classes, 3, does not match size of target_names, 1. Try specifying the labels parameter"
          ]
        }
      ],
      "source": [
        "val_loss = []\n",
        "\n",
        "with torch.no_grad():\n",
        "          model.eval()\n",
        "          running_loss = 0.0\n",
        "          running_score = 0.0\n",
        "          for image,label in test_loader:\n",
        "                image = image.to('cuda')\n",
        "                label = label.to('cuda')\n",
        "                optimizer.zero_grad()\n",
        "                y_pred = model.forward(image)\n",
        "                l = loss(y_pred,label)\n",
        "                running_loss += l.item()\n",
        "\n",
        "                val, index_ = torch.max(y_pred,axis=1)\n",
        "                running_score += torch.sum(index_ == label.data).item()\n",
        "\n",
        "          epoch_score = running_score/len(test_loader.dataset)\n",
        "          epoch_loss = running_loss/len(test_loader.dataset)\n",
        "          val_loss.append(epoch_loss)\n",
        "          print(\"Validation loss: {}, accuracy: {}\".format(epoch_loss,epoch_score))\n",
        "\n",
        "          all_predictions = []\n",
        "          true_labels = []\n",
        "          for inputs, labels in test_loader:\n",
        "              inputs, labels = inputs.to('cuda'), labels.to('cuda')\n",
        "              outputs = model.forward(inputs)\n",
        "              _, predicted = torch.max(outputs.data, 1)\n",
        "              all_predictions.extend(predicted.cpu().numpy())\n",
        "              true_labels.extend(labels.cpu().numpy())\n",
        "\n",
        "classification_rep = classification_report(true_labels, all_predictions, target_names=dataset.classes)\n",
        "print(classification_rep)"
      ]
    },
    {
      "cell_type": "markdown",
      "metadata": {
        "id": "8jjPh3d2amIe"
      },
      "source": [
        "**Save trained model from dataset 1**"
      ]
    },
    {
      "cell_type": "code",
      "execution_count": null,
      "metadata": {
        "id": "TeTdDu_YR16c"
      },
      "outputs": [],
      "source": [
        "torch.save(model.state_dict(), '/content/drive/My Drive/Comp 432/TrainedModel')"
      ]
    },
    {
      "cell_type": "code",
      "execution_count": null,
      "metadata": {
        "colab": {
          "base_uri": "https://localhost:8080/"
        },
        "id": "8k40xiMg7GXv",
        "outputId": "8a8efd65-7e28-4160-9455-17f967bbac1d"
      },
      "outputs": [
        {
          "output_type": "stream",
          "name": "stderr",
          "text": [
            "Using cache found in /root/.cache/torch/hub/pytorch_vision_v0.10.0\n",
            "/usr/local/lib/python3.10/dist-packages/torchvision/models/_utils.py:208: UserWarning: The parameter 'pretrained' is deprecated since 0.13 and may be removed in the future, please use 'weights' instead.\n",
            "  warnings.warn(\n",
            "/usr/local/lib/python3.10/dist-packages/torchvision/models/_utils.py:223: UserWarning: Arguments other than a weight enum or `None` for 'weights' are deprecated since 0.13 and may be removed in the future. The current behavior is equivalent to passing `weights=None`.\n",
            "  warnings.warn(msg)\n"
          ]
        },
        {
          "output_type": "execute_result",
          "data": {
            "text/plain": [
              "<All keys matched successfully>"
            ]
          },
          "metadata": {},
          "execution_count": 20
        }
      ],
      "source": [
        "pretrained_model = torch.hub.load('pytorch/vision:v0.10.0', 'resnet18', pretrained=False)\n",
        "pretrained_model.load_state_dict(torch.load('/content/drive/My Drive/Comp 432/TrainedModel', map_location=torch.device('cuda')))"
      ]
    },
    {
      "cell_type": "code",
      "execution_count": null,
      "metadata": {
        "colab": {
          "base_uri": "https://localhost:8080/",
          "height": 408
        },
        "id": "0chnAIXX7Qxl",
        "outputId": "6891ac6d-8408-4276-9f7e-47f6a5235b03"
      },
      "outputs": [
        {
          "output_type": "error",
          "ename": "FileNotFoundError",
          "evalue": "ignored",
          "traceback": [
            "\u001b[0;31m---------------------------------------------------------------------------\u001b[0m",
            "\u001b[0;31mFileNotFoundError\u001b[0m                         Traceback (most recent call last)",
            "\u001b[0;32m<ipython-input-24-9bef3c4aea9d>\u001b[0m in \u001b[0;36m<cell line: 3>\u001b[0;34m()\u001b[0m\n\u001b[1;32m      5\u001b[0m           \u001b[0mall_predictions\u001b[0m \u001b[0;34m=\u001b[0m \u001b[0;34m[\u001b[0m\u001b[0;34m]\u001b[0m\u001b[0;34m\u001b[0m\u001b[0;34m\u001b[0m\u001b[0m\n\u001b[1;32m      6\u001b[0m           \u001b[0mtrue_labels\u001b[0m \u001b[0;34m=\u001b[0m \u001b[0;34m[\u001b[0m\u001b[0;34m]\u001b[0m\u001b[0;34m\u001b[0m\u001b[0;34m\u001b[0m\u001b[0m\n\u001b[0;32m----> 7\u001b[0;31m           \u001b[0;32mfor\u001b[0m \u001b[0minputs\u001b[0m\u001b[0;34m,\u001b[0m \u001b[0mlabels\u001b[0m \u001b[0;32min\u001b[0m \u001b[0mtest_loader\u001b[0m\u001b[0;34m:\u001b[0m\u001b[0;34m\u001b[0m\u001b[0;34m\u001b[0m\u001b[0m\n\u001b[0m\u001b[1;32m      8\u001b[0m               \u001b[0minputs\u001b[0m\u001b[0;34m,\u001b[0m \u001b[0mlabels\u001b[0m \u001b[0;34m=\u001b[0m \u001b[0minputs\u001b[0m\u001b[0;34m.\u001b[0m\u001b[0mto\u001b[0m\u001b[0;34m(\u001b[0m\u001b[0;34m'cuda'\u001b[0m\u001b[0;34m)\u001b[0m\u001b[0;34m,\u001b[0m \u001b[0mlabels\u001b[0m\u001b[0;34m.\u001b[0m\u001b[0mto\u001b[0m\u001b[0;34m(\u001b[0m\u001b[0;34m'cuda'\u001b[0m\u001b[0;34m)\u001b[0m\u001b[0;34m\u001b[0m\u001b[0;34m\u001b[0m\u001b[0m\n\u001b[1;32m      9\u001b[0m               \u001b[0moutputs\u001b[0m \u001b[0;34m=\u001b[0m \u001b[0mpretrained_model\u001b[0m\u001b[0;34m.\u001b[0m\u001b[0mforward\u001b[0m\u001b[0;34m(\u001b[0m\u001b[0minputs\u001b[0m\u001b[0;34m)\u001b[0m\u001b[0;34m\u001b[0m\u001b[0;34m\u001b[0m\u001b[0m\n",
            "\u001b[0;32m/usr/local/lib/python3.10/dist-packages/torch/utils/data/dataloader.py\u001b[0m in \u001b[0;36m__next__\u001b[0;34m(self)\u001b[0m\n\u001b[1;32m    628\u001b[0m                 \u001b[0;31m# TODO(https://github.com/pytorch/pytorch/issues/76750)\u001b[0m\u001b[0;34m\u001b[0m\u001b[0;34m\u001b[0m\u001b[0m\n\u001b[1;32m    629\u001b[0m                 \u001b[0mself\u001b[0m\u001b[0;34m.\u001b[0m\u001b[0m_reset\u001b[0m\u001b[0;34m(\u001b[0m\u001b[0;34m)\u001b[0m  \u001b[0;31m# type: ignore[call-arg]\u001b[0m\u001b[0;34m\u001b[0m\u001b[0;34m\u001b[0m\u001b[0m\n\u001b[0;32m--> 630\u001b[0;31m             \u001b[0mdata\u001b[0m \u001b[0;34m=\u001b[0m \u001b[0mself\u001b[0m\u001b[0;34m.\u001b[0m\u001b[0m_next_data\u001b[0m\u001b[0;34m(\u001b[0m\u001b[0;34m)\u001b[0m\u001b[0;34m\u001b[0m\u001b[0;34m\u001b[0m\u001b[0m\n\u001b[0m\u001b[1;32m    631\u001b[0m             \u001b[0mself\u001b[0m\u001b[0;34m.\u001b[0m\u001b[0m_num_yielded\u001b[0m \u001b[0;34m+=\u001b[0m \u001b[0;36m1\u001b[0m\u001b[0;34m\u001b[0m\u001b[0;34m\u001b[0m\u001b[0m\n\u001b[1;32m    632\u001b[0m             \u001b[0;32mif\u001b[0m \u001b[0mself\u001b[0m\u001b[0;34m.\u001b[0m\u001b[0m_dataset_kind\u001b[0m \u001b[0;34m==\u001b[0m \u001b[0m_DatasetKind\u001b[0m\u001b[0;34m.\u001b[0m\u001b[0mIterable\u001b[0m \u001b[0;32mand\u001b[0m\u001b[0;31m \u001b[0m\u001b[0;31m\\\u001b[0m\u001b[0;34m\u001b[0m\u001b[0;34m\u001b[0m\u001b[0m\n",
            "\u001b[0;32m/usr/local/lib/python3.10/dist-packages/torch/utils/data/dataloader.py\u001b[0m in \u001b[0;36m_next_data\u001b[0;34m(self)\u001b[0m\n\u001b[1;32m    672\u001b[0m     \u001b[0;32mdef\u001b[0m \u001b[0m_next_data\u001b[0m\u001b[0;34m(\u001b[0m\u001b[0mself\u001b[0m\u001b[0;34m)\u001b[0m\u001b[0;34m:\u001b[0m\u001b[0;34m\u001b[0m\u001b[0;34m\u001b[0m\u001b[0m\n\u001b[1;32m    673\u001b[0m         \u001b[0mindex\u001b[0m \u001b[0;34m=\u001b[0m \u001b[0mself\u001b[0m\u001b[0;34m.\u001b[0m\u001b[0m_next_index\u001b[0m\u001b[0;34m(\u001b[0m\u001b[0;34m)\u001b[0m  \u001b[0;31m# may raise StopIteration\u001b[0m\u001b[0;34m\u001b[0m\u001b[0;34m\u001b[0m\u001b[0m\n\u001b[0;32m--> 674\u001b[0;31m         \u001b[0mdata\u001b[0m \u001b[0;34m=\u001b[0m \u001b[0mself\u001b[0m\u001b[0;34m.\u001b[0m\u001b[0m_dataset_fetcher\u001b[0m\u001b[0;34m.\u001b[0m\u001b[0mfetch\u001b[0m\u001b[0;34m(\u001b[0m\u001b[0mindex\u001b[0m\u001b[0;34m)\u001b[0m  \u001b[0;31m# may raise StopIteration\u001b[0m\u001b[0;34m\u001b[0m\u001b[0;34m\u001b[0m\u001b[0m\n\u001b[0m\u001b[1;32m    675\u001b[0m         \u001b[0;32mif\u001b[0m \u001b[0mself\u001b[0m\u001b[0;34m.\u001b[0m\u001b[0m_pin_memory\u001b[0m\u001b[0;34m:\u001b[0m\u001b[0;34m\u001b[0m\u001b[0;34m\u001b[0m\u001b[0m\n\u001b[1;32m    676\u001b[0m             \u001b[0mdata\u001b[0m \u001b[0;34m=\u001b[0m \u001b[0m_utils\u001b[0m\u001b[0;34m.\u001b[0m\u001b[0mpin_memory\u001b[0m\u001b[0;34m.\u001b[0m\u001b[0mpin_memory\u001b[0m\u001b[0;34m(\u001b[0m\u001b[0mdata\u001b[0m\u001b[0;34m,\u001b[0m \u001b[0mself\u001b[0m\u001b[0;34m.\u001b[0m\u001b[0m_pin_memory_device\u001b[0m\u001b[0;34m)\u001b[0m\u001b[0;34m\u001b[0m\u001b[0;34m\u001b[0m\u001b[0m\n",
            "\u001b[0;32m/usr/local/lib/python3.10/dist-packages/torch/utils/data/_utils/fetch.py\u001b[0m in \u001b[0;36mfetch\u001b[0;34m(self, possibly_batched_index)\u001b[0m\n\u001b[1;32m     47\u001b[0m         \u001b[0;32mif\u001b[0m \u001b[0mself\u001b[0m\u001b[0;34m.\u001b[0m\u001b[0mauto_collation\u001b[0m\u001b[0;34m:\u001b[0m\u001b[0;34m\u001b[0m\u001b[0;34m\u001b[0m\u001b[0m\n\u001b[1;32m     48\u001b[0m             \u001b[0;32mif\u001b[0m \u001b[0mhasattr\u001b[0m\u001b[0;34m(\u001b[0m\u001b[0mself\u001b[0m\u001b[0;34m.\u001b[0m\u001b[0mdataset\u001b[0m\u001b[0;34m,\u001b[0m \u001b[0;34m\"__getitems__\"\u001b[0m\u001b[0;34m)\u001b[0m \u001b[0;32mand\u001b[0m \u001b[0mself\u001b[0m\u001b[0;34m.\u001b[0m\u001b[0mdataset\u001b[0m\u001b[0;34m.\u001b[0m\u001b[0m__getitems__\u001b[0m\u001b[0;34m:\u001b[0m\u001b[0;34m\u001b[0m\u001b[0;34m\u001b[0m\u001b[0m\n\u001b[0;32m---> 49\u001b[0;31m                 \u001b[0mdata\u001b[0m \u001b[0;34m=\u001b[0m \u001b[0mself\u001b[0m\u001b[0;34m.\u001b[0m\u001b[0mdataset\u001b[0m\u001b[0;34m.\u001b[0m\u001b[0m__getitems__\u001b[0m\u001b[0;34m(\u001b[0m\u001b[0mpossibly_batched_index\u001b[0m\u001b[0;34m)\u001b[0m\u001b[0;34m\u001b[0m\u001b[0;34m\u001b[0m\u001b[0m\n\u001b[0m\u001b[1;32m     50\u001b[0m             \u001b[0;32melse\u001b[0m\u001b[0;34m:\u001b[0m\u001b[0;34m\u001b[0m\u001b[0;34m\u001b[0m\u001b[0m\n\u001b[1;32m     51\u001b[0m                 \u001b[0mdata\u001b[0m \u001b[0;34m=\u001b[0m \u001b[0;34m[\u001b[0m\u001b[0mself\u001b[0m\u001b[0;34m.\u001b[0m\u001b[0mdataset\u001b[0m\u001b[0;34m[\u001b[0m\u001b[0midx\u001b[0m\u001b[0;34m]\u001b[0m \u001b[0;32mfor\u001b[0m \u001b[0midx\u001b[0m \u001b[0;32min\u001b[0m \u001b[0mpossibly_batched_index\u001b[0m\u001b[0;34m]\u001b[0m\u001b[0;34m\u001b[0m\u001b[0;34m\u001b[0m\u001b[0m\n",
            "\u001b[0;32m/usr/local/lib/python3.10/dist-packages/torch/utils/data/dataset.py\u001b[0m in \u001b[0;36m__getitems__\u001b[0;34m(self, indices)\u001b[0m\n\u001b[1;32m    362\u001b[0m             \u001b[0;32mreturn\u001b[0m \u001b[0mself\u001b[0m\u001b[0;34m.\u001b[0m\u001b[0mdataset\u001b[0m\u001b[0;34m.\u001b[0m\u001b[0m__getitems__\u001b[0m\u001b[0;34m(\u001b[0m\u001b[0;34m[\u001b[0m\u001b[0mself\u001b[0m\u001b[0;34m.\u001b[0m\u001b[0mindices\u001b[0m\u001b[0;34m[\u001b[0m\u001b[0midx\u001b[0m\u001b[0;34m]\u001b[0m \u001b[0;32mfor\u001b[0m \u001b[0midx\u001b[0m \u001b[0;32min\u001b[0m \u001b[0mindices\u001b[0m\u001b[0;34m]\u001b[0m\u001b[0;34m)\u001b[0m  \u001b[0;31m# type: ignore[attr-defined]\u001b[0m\u001b[0;34m\u001b[0m\u001b[0;34m\u001b[0m\u001b[0m\n\u001b[1;32m    363\u001b[0m         \u001b[0;32melse\u001b[0m\u001b[0;34m:\u001b[0m\u001b[0;34m\u001b[0m\u001b[0;34m\u001b[0m\u001b[0m\n\u001b[0;32m--> 364\u001b[0;31m             \u001b[0;32mreturn\u001b[0m \u001b[0;34m[\u001b[0m\u001b[0mself\u001b[0m\u001b[0;34m.\u001b[0m\u001b[0mdataset\u001b[0m\u001b[0;34m[\u001b[0m\u001b[0mself\u001b[0m\u001b[0;34m.\u001b[0m\u001b[0mindices\u001b[0m\u001b[0;34m[\u001b[0m\u001b[0midx\u001b[0m\u001b[0;34m]\u001b[0m\u001b[0;34m]\u001b[0m \u001b[0;32mfor\u001b[0m \u001b[0midx\u001b[0m \u001b[0;32min\u001b[0m \u001b[0mindices\u001b[0m\u001b[0;34m]\u001b[0m\u001b[0;34m\u001b[0m\u001b[0;34m\u001b[0m\u001b[0m\n\u001b[0m\u001b[1;32m    365\u001b[0m \u001b[0;34m\u001b[0m\u001b[0m\n\u001b[1;32m    366\u001b[0m     \u001b[0;32mdef\u001b[0m \u001b[0m__len__\u001b[0m\u001b[0;34m(\u001b[0m\u001b[0mself\u001b[0m\u001b[0;34m)\u001b[0m\u001b[0;34m:\u001b[0m\u001b[0;34m\u001b[0m\u001b[0;34m\u001b[0m\u001b[0m\n",
            "\u001b[0;32m/usr/local/lib/python3.10/dist-packages/torch/utils/data/dataset.py\u001b[0m in \u001b[0;36m<listcomp>\u001b[0;34m(.0)\u001b[0m\n\u001b[1;32m    362\u001b[0m             \u001b[0;32mreturn\u001b[0m \u001b[0mself\u001b[0m\u001b[0;34m.\u001b[0m\u001b[0mdataset\u001b[0m\u001b[0;34m.\u001b[0m\u001b[0m__getitems__\u001b[0m\u001b[0;34m(\u001b[0m\u001b[0;34m[\u001b[0m\u001b[0mself\u001b[0m\u001b[0;34m.\u001b[0m\u001b[0mindices\u001b[0m\u001b[0;34m[\u001b[0m\u001b[0midx\u001b[0m\u001b[0;34m]\u001b[0m \u001b[0;32mfor\u001b[0m \u001b[0midx\u001b[0m \u001b[0;32min\u001b[0m \u001b[0mindices\u001b[0m\u001b[0;34m]\u001b[0m\u001b[0;34m)\u001b[0m  \u001b[0;31m# type: ignore[attr-defined]\u001b[0m\u001b[0;34m\u001b[0m\u001b[0;34m\u001b[0m\u001b[0m\n\u001b[1;32m    363\u001b[0m         \u001b[0;32melse\u001b[0m\u001b[0;34m:\u001b[0m\u001b[0;34m\u001b[0m\u001b[0;34m\u001b[0m\u001b[0m\n\u001b[0;32m--> 364\u001b[0;31m             \u001b[0;32mreturn\u001b[0m \u001b[0;34m[\u001b[0m\u001b[0mself\u001b[0m\u001b[0;34m.\u001b[0m\u001b[0mdataset\u001b[0m\u001b[0;34m[\u001b[0m\u001b[0mself\u001b[0m\u001b[0;34m.\u001b[0m\u001b[0mindices\u001b[0m\u001b[0;34m[\u001b[0m\u001b[0midx\u001b[0m\u001b[0;34m]\u001b[0m\u001b[0;34m]\u001b[0m \u001b[0;32mfor\u001b[0m \u001b[0midx\u001b[0m \u001b[0;32min\u001b[0m \u001b[0mindices\u001b[0m\u001b[0;34m]\u001b[0m\u001b[0;34m\u001b[0m\u001b[0;34m\u001b[0m\u001b[0m\n\u001b[0m\u001b[1;32m    365\u001b[0m \u001b[0;34m\u001b[0m\u001b[0m\n\u001b[1;32m    366\u001b[0m     \u001b[0;32mdef\u001b[0m \u001b[0m__len__\u001b[0m\u001b[0;34m(\u001b[0m\u001b[0mself\u001b[0m\u001b[0;34m)\u001b[0m\u001b[0;34m:\u001b[0m\u001b[0;34m\u001b[0m\u001b[0;34m\u001b[0m\u001b[0m\n",
            "\u001b[0;32m/usr/local/lib/python3.10/dist-packages/torchvision/datasets/folder.py\u001b[0m in \u001b[0;36m__getitem__\u001b[0;34m(self, index)\u001b[0m\n\u001b[1;32m    227\u001b[0m         \"\"\"\n\u001b[1;32m    228\u001b[0m         \u001b[0mpath\u001b[0m\u001b[0;34m,\u001b[0m \u001b[0mtarget\u001b[0m \u001b[0;34m=\u001b[0m \u001b[0mself\u001b[0m\u001b[0;34m.\u001b[0m\u001b[0msamples\u001b[0m\u001b[0;34m[\u001b[0m\u001b[0mindex\u001b[0m\u001b[0;34m]\u001b[0m\u001b[0;34m\u001b[0m\u001b[0;34m\u001b[0m\u001b[0m\n\u001b[0;32m--> 229\u001b[0;31m         \u001b[0msample\u001b[0m \u001b[0;34m=\u001b[0m \u001b[0mself\u001b[0m\u001b[0;34m.\u001b[0m\u001b[0mloader\u001b[0m\u001b[0;34m(\u001b[0m\u001b[0mpath\u001b[0m\u001b[0;34m)\u001b[0m\u001b[0;34m\u001b[0m\u001b[0;34m\u001b[0m\u001b[0m\n\u001b[0m\u001b[1;32m    230\u001b[0m         \u001b[0;32mif\u001b[0m \u001b[0mself\u001b[0m\u001b[0;34m.\u001b[0m\u001b[0mtransform\u001b[0m \u001b[0;32mis\u001b[0m \u001b[0;32mnot\u001b[0m \u001b[0;32mNone\u001b[0m\u001b[0;34m:\u001b[0m\u001b[0;34m\u001b[0m\u001b[0;34m\u001b[0m\u001b[0m\n\u001b[1;32m    231\u001b[0m             \u001b[0msample\u001b[0m \u001b[0;34m=\u001b[0m \u001b[0mself\u001b[0m\u001b[0;34m.\u001b[0m\u001b[0mtransform\u001b[0m\u001b[0;34m(\u001b[0m\u001b[0msample\u001b[0m\u001b[0;34m)\u001b[0m\u001b[0;34m\u001b[0m\u001b[0;34m\u001b[0m\u001b[0m\n",
            "\u001b[0;32m/usr/local/lib/python3.10/dist-packages/torchvision/datasets/folder.py\u001b[0m in \u001b[0;36mdefault_loader\u001b[0;34m(path)\u001b[0m\n\u001b[1;32m    266\u001b[0m         \u001b[0;32mreturn\u001b[0m \u001b[0maccimage_loader\u001b[0m\u001b[0;34m(\u001b[0m\u001b[0mpath\u001b[0m\u001b[0;34m)\u001b[0m\u001b[0;34m\u001b[0m\u001b[0;34m\u001b[0m\u001b[0m\n\u001b[1;32m    267\u001b[0m     \u001b[0;32melse\u001b[0m\u001b[0;34m:\u001b[0m\u001b[0;34m\u001b[0m\u001b[0;34m\u001b[0m\u001b[0m\n\u001b[0;32m--> 268\u001b[0;31m         \u001b[0;32mreturn\u001b[0m \u001b[0mpil_loader\u001b[0m\u001b[0;34m(\u001b[0m\u001b[0mpath\u001b[0m\u001b[0;34m)\u001b[0m\u001b[0;34m\u001b[0m\u001b[0;34m\u001b[0m\u001b[0m\n\u001b[0m\u001b[1;32m    269\u001b[0m \u001b[0;34m\u001b[0m\u001b[0m\n\u001b[1;32m    270\u001b[0m \u001b[0;34m\u001b[0m\u001b[0m\n",
            "\u001b[0;32m/usr/local/lib/python3.10/dist-packages/torchvision/datasets/folder.py\u001b[0m in \u001b[0;36mpil_loader\u001b[0;34m(path)\u001b[0m\n\u001b[1;32m    244\u001b[0m \u001b[0;32mdef\u001b[0m \u001b[0mpil_loader\u001b[0m\u001b[0;34m(\u001b[0m\u001b[0mpath\u001b[0m\u001b[0;34m:\u001b[0m \u001b[0mstr\u001b[0m\u001b[0;34m)\u001b[0m \u001b[0;34m->\u001b[0m \u001b[0mImage\u001b[0m\u001b[0;34m.\u001b[0m\u001b[0mImage\u001b[0m\u001b[0;34m:\u001b[0m\u001b[0;34m\u001b[0m\u001b[0;34m\u001b[0m\u001b[0m\n\u001b[1;32m    245\u001b[0m     \u001b[0;31m# open path as file to avoid ResourceWarning (https://github.com/python-pillow/Pillow/issues/835)\u001b[0m\u001b[0;34m\u001b[0m\u001b[0;34m\u001b[0m\u001b[0m\n\u001b[0;32m--> 246\u001b[0;31m     \u001b[0;32mwith\u001b[0m \u001b[0mopen\u001b[0m\u001b[0;34m(\u001b[0m\u001b[0mpath\u001b[0m\u001b[0;34m,\u001b[0m \u001b[0;34m\"rb\"\u001b[0m\u001b[0;34m)\u001b[0m \u001b[0;32mas\u001b[0m \u001b[0mf\u001b[0m\u001b[0;34m:\u001b[0m\u001b[0;34m\u001b[0m\u001b[0;34m\u001b[0m\u001b[0m\n\u001b[0m\u001b[1;32m    247\u001b[0m         \u001b[0mimg\u001b[0m \u001b[0;34m=\u001b[0m \u001b[0mImage\u001b[0m\u001b[0;34m.\u001b[0m\u001b[0mopen\u001b[0m\u001b[0;34m(\u001b[0m\u001b[0mf\u001b[0m\u001b[0;34m)\u001b[0m\u001b[0;34m\u001b[0m\u001b[0;34m\u001b[0m\u001b[0m\n\u001b[1;32m    248\u001b[0m         \u001b[0;32mreturn\u001b[0m \u001b[0mimg\u001b[0m\u001b[0;34m.\u001b[0m\u001b[0mconvert\u001b[0m\u001b[0;34m(\u001b[0m\u001b[0;34m\"RGB\"\u001b[0m\u001b[0;34m)\u001b[0m\u001b[0;34m\u001b[0m\u001b[0;34m\u001b[0m\u001b[0m\n",
            "\u001b[0;31mFileNotFoundError\u001b[0m: [Errno 2] No such file or directory: '/content/drive/My Drive/Comp 432/Dataset1/Dataset 1/Colorectal Cancer/NORM/NORM-FGDLNIKC.tif'"
          ]
        }
      ],
      "source": [
        "pretrained_model.to('cuda')\n",
        "\n",
        "with torch.no_grad():\n",
        "          pretrained_model.eval()\n",
        "          all_predictions = []\n",
        "          true_labels = []\n",
        "          for inputs, labels in test_loader:\n",
        "              inputs, labels = inputs.to('cuda'), labels.to('cuda')\n",
        "              outputs = pretrained_model.forward(inputs)\n",
        "              _, predicted = torch.max(outputs.data, 1)\n",
        "              all_predictions.extend(predicted.cpu().numpy())\n",
        "              true_labels.extend(labels.cpu().numpy())\n",
        "\n",
        "classification_rep = classification_report(true_labels, all_predictions, target_names=dataset.classes)\n",
        "print(classification_rep)"
      ]
    },
    {
      "cell_type": "code",
      "execution_count": null,
      "metadata": {
        "colab": {
          "base_uri": "https://localhost:8080/"
        },
        "id": "RhxkjQS9lOAC",
        "outputId": "fd91c899-afd8-45c5-a161-6a91dd5b0272"
      },
      "outputs": [
        {
          "name": "stdout",
          "output_type": "stream",
          "text": [
            "[[[   0    0]\n",
            "  [   0 1802]]\n",
            "\n",
            " [[1802    0]\n",
            "  [   0    0]]\n",
            "\n",
            " [[1802    0]\n",
            "  [   0    0]]]\n"
          ]
        }
      ],
      "source": [
        "from sklearn.metrics import multilabel_confusion_matrix\n",
        "\n",
        "confMatrix = multilabel_confusion_matrix(true_labels, all_predictions, labels=[0, 1, 2])\n",
        "print(confMatrix)"
      ]
    },
    {
      "cell_type": "code",
      "source": [
        "enumerate(train_loader)"
      ],
      "metadata": {
        "colab": {
          "base_uri": "https://localhost:8080/"
        },
        "id": "QllwMh5y7NbR",
        "outputId": "ab65e22f-2d0b-4273-9c1d-5ac27950c8bc"
      },
      "execution_count": null,
      "outputs": [
        {
          "output_type": "execute_result",
          "data": {
            "text/plain": [
              "<enumerate at 0x7df4a66e6540>"
            ]
          },
          "metadata": {},
          "execution_count": 100
        }
      ]
    },
    {
      "cell_type": "code",
      "execution_count": null,
      "metadata": {
        "colab": {
          "base_uri": "https://localhost:8080/"
        },
        "id": "kVStMbnQlTav",
        "outputId": "274fcbc3-863b-4ab8-b89f-659a6c1d4d28"
      },
      "outputs": [
        {
          "output_type": "execute_result",
          "data": {
            "text/plain": [
              "ResNet(\n",
              "  (conv1): Conv2d(3, 64, kernel_size=(7, 7), stride=(2, 2), padding=(3, 3), bias=False)\n",
              "  (bn1): BatchNorm2d(64, eps=1e-05, momentum=0.1, affine=True, track_running_stats=True)\n",
              "  (relu): ReLU(inplace=True)\n",
              "  (maxpool): MaxPool2d(kernel_size=3, stride=2, padding=1, dilation=1, ceil_mode=False)\n",
              "  (layer1): Sequential(\n",
              "    (0): BasicBlock(\n",
              "      (conv1): Conv2d(64, 64, kernel_size=(3, 3), stride=(1, 1), padding=(1, 1), bias=False)\n",
              "      (bn1): BatchNorm2d(64, eps=1e-05, momentum=0.1, affine=True, track_running_stats=True)\n",
              "      (relu): ReLU(inplace=True)\n",
              "      (conv2): Conv2d(64, 64, kernel_size=(3, 3), stride=(1, 1), padding=(1, 1), bias=False)\n",
              "      (bn2): BatchNorm2d(64, eps=1e-05, momentum=0.1, affine=True, track_running_stats=True)\n",
              "    )\n",
              "    (1): BasicBlock(\n",
              "      (conv1): Conv2d(64, 64, kernel_size=(3, 3), stride=(1, 1), padding=(1, 1), bias=False)\n",
              "      (bn1): BatchNorm2d(64, eps=1e-05, momentum=0.1, affine=True, track_running_stats=True)\n",
              "      (relu): ReLU(inplace=True)\n",
              "      (conv2): Conv2d(64, 64, kernel_size=(3, 3), stride=(1, 1), padding=(1, 1), bias=False)\n",
              "      (bn2): BatchNorm2d(64, eps=1e-05, momentum=0.1, affine=True, track_running_stats=True)\n",
              "    )\n",
              "  )\n",
              "  (layer2): Sequential(\n",
              "    (0): BasicBlock(\n",
              "      (conv1): Conv2d(64, 128, kernel_size=(3, 3), stride=(2, 2), padding=(1, 1), bias=False)\n",
              "      (bn1): BatchNorm2d(128, eps=1e-05, momentum=0.1, affine=True, track_running_stats=True)\n",
              "      (relu): ReLU(inplace=True)\n",
              "      (conv2): Conv2d(128, 128, kernel_size=(3, 3), stride=(1, 1), padding=(1, 1), bias=False)\n",
              "      (bn2): BatchNorm2d(128, eps=1e-05, momentum=0.1, affine=True, track_running_stats=True)\n",
              "      (downsample): Sequential(\n",
              "        (0): Conv2d(64, 128, kernel_size=(1, 1), stride=(2, 2), bias=False)\n",
              "        (1): BatchNorm2d(128, eps=1e-05, momentum=0.1, affine=True, track_running_stats=True)\n",
              "      )\n",
              "    )\n",
              "    (1): BasicBlock(\n",
              "      (conv1): Conv2d(128, 128, kernel_size=(3, 3), stride=(1, 1), padding=(1, 1), bias=False)\n",
              "      (bn1): BatchNorm2d(128, eps=1e-05, momentum=0.1, affine=True, track_running_stats=True)\n",
              "      (relu): ReLU(inplace=True)\n",
              "      (conv2): Conv2d(128, 128, kernel_size=(3, 3), stride=(1, 1), padding=(1, 1), bias=False)\n",
              "      (bn2): BatchNorm2d(128, eps=1e-05, momentum=0.1, affine=True, track_running_stats=True)\n",
              "    )\n",
              "  )\n",
              "  (layer3): Sequential(\n",
              "    (0): BasicBlock(\n",
              "      (conv1): Conv2d(128, 256, kernel_size=(3, 3), stride=(2, 2), padding=(1, 1), bias=False)\n",
              "      (bn1): BatchNorm2d(256, eps=1e-05, momentum=0.1, affine=True, track_running_stats=True)\n",
              "      (relu): ReLU(inplace=True)\n",
              "      (conv2): Conv2d(256, 256, kernel_size=(3, 3), stride=(1, 1), padding=(1, 1), bias=False)\n",
              "      (bn2): BatchNorm2d(256, eps=1e-05, momentum=0.1, affine=True, track_running_stats=True)\n",
              "      (downsample): Sequential(\n",
              "        (0): Conv2d(128, 256, kernel_size=(1, 1), stride=(2, 2), bias=False)\n",
              "        (1): BatchNorm2d(256, eps=1e-05, momentum=0.1, affine=True, track_running_stats=True)\n",
              "      )\n",
              "    )\n",
              "    (1): BasicBlock(\n",
              "      (conv1): Conv2d(256, 256, kernel_size=(3, 3), stride=(1, 1), padding=(1, 1), bias=False)\n",
              "      (bn1): BatchNorm2d(256, eps=1e-05, momentum=0.1, affine=True, track_running_stats=True)\n",
              "      (relu): ReLU(inplace=True)\n",
              "      (conv2): Conv2d(256, 256, kernel_size=(3, 3), stride=(1, 1), padding=(1, 1), bias=False)\n",
              "      (bn2): BatchNorm2d(256, eps=1e-05, momentum=0.1, affine=True, track_running_stats=True)\n",
              "    )\n",
              "  )\n",
              "  (layer4): Sequential(\n",
              "    (0): BasicBlock(\n",
              "      (conv1): Conv2d(256, 512, kernel_size=(3, 3), stride=(2, 2), padding=(1, 1), bias=False)\n",
              "      (bn1): BatchNorm2d(512, eps=1e-05, momentum=0.1, affine=True, track_running_stats=True)\n",
              "      (relu): ReLU(inplace=True)\n",
              "      (conv2): Conv2d(512, 512, kernel_size=(3, 3), stride=(1, 1), padding=(1, 1), bias=False)\n",
              "      (bn2): BatchNorm2d(512, eps=1e-05, momentum=0.1, affine=True, track_running_stats=True)\n",
              "      (downsample): Sequential(\n",
              "        (0): Conv2d(256, 512, kernel_size=(1, 1), stride=(2, 2), bias=False)\n",
              "        (1): BatchNorm2d(512, eps=1e-05, momentum=0.1, affine=True, track_running_stats=True)\n",
              "      )\n",
              "    )\n",
              "    (1): BasicBlock(\n",
              "      (conv1): Conv2d(512, 512, kernel_size=(3, 3), stride=(1, 1), padding=(1, 1), bias=False)\n",
              "      (bn1): BatchNorm2d(512, eps=1e-05, momentum=0.1, affine=True, track_running_stats=True)\n",
              "      (relu): ReLU(inplace=True)\n",
              "      (conv2): Conv2d(512, 512, kernel_size=(3, 3), stride=(1, 1), padding=(1, 1), bias=False)\n",
              "      (bn2): BatchNorm2d(512, eps=1e-05, momentum=0.1, affine=True, track_running_stats=True)\n",
              "    )\n",
              "  )\n",
              "  (avgpool): AdaptiveAvgPool2d(output_size=(1, 1))\n",
              "  (fc): Linear(in_features=512, out_features=1000, bias=True)\n",
              ")"
            ]
          },
          "metadata": {},
          "execution_count": 6
        }
      ],
      "source": [
        "pretrained_model"
      ]
    },
    {
      "cell_type": "code",
      "execution_count": null,
      "metadata": {
        "colab": {
          "base_uri": "https://localhost:8080/"
        },
        "id": "kbOjmj10sgqc",
        "outputId": "72aef76b-c3f8-41d5-906b-73df07059326"
      },
      "outputs": [
        {
          "output_type": "execute_result",
          "data": {
            "text/plain": [
              "<generator object Module.children at 0x7abc217fbca0>"
            ]
          },
          "metadata": {},
          "execution_count": 5
        }
      ],
      "source": [
        "pretrained_model.children()"
      ]
    },
    {
      "cell_type": "code",
      "execution_count": null,
      "metadata": {
        "id": "t1HS7SWuNM7J"
      },
      "outputs": [],
      "source": [
        "device=torch.device(\"cuda:0\"if torch.cuda.is_available() else \"cpu\")"
      ]
    },
    {
      "cell_type": "code",
      "execution_count": null,
      "metadata": {
        "colab": {
          "base_uri": "https://localhost:8080/"
        },
        "id": "oXzDan6T6C5B",
        "outputId": "43402971-0db6-4d4a-f731-5935ef414ab7"
      },
      "outputs": [
        {
          "output_type": "stream",
          "name": "stdout",
          "text": [
            "[Conv2d(3, 64, kernel_size=(7, 7), stride=(2, 2), padding=(3, 3), bias=False), BatchNorm2d(64, eps=1e-05, momentum=0.1, affine=True, track_running_stats=True), ReLU(inplace=True), MaxPool2d(kernel_size=3, stride=2, padding=1, dilation=1, ceil_mode=False), Sequential(\n",
            "  (0): BasicBlock(\n",
            "    (conv1): Conv2d(64, 64, kernel_size=(3, 3), stride=(1, 1), padding=(1, 1), bias=False)\n",
            "    (bn1): BatchNorm2d(64, eps=1e-05, momentum=0.1, affine=True, track_running_stats=True)\n",
            "    (relu): ReLU(inplace=True)\n",
            "    (conv2): Conv2d(64, 64, kernel_size=(3, 3), stride=(1, 1), padding=(1, 1), bias=False)\n",
            "    (bn2): BatchNorm2d(64, eps=1e-05, momentum=0.1, affine=True, track_running_stats=True)\n",
            "  )\n",
            "  (1): BasicBlock(\n",
            "    (conv1): Conv2d(64, 64, kernel_size=(3, 3), stride=(1, 1), padding=(1, 1), bias=False)\n",
            "    (bn1): BatchNorm2d(64, eps=1e-05, momentum=0.1, affine=True, track_running_stats=True)\n",
            "    (relu): ReLU(inplace=True)\n",
            "    (conv2): Conv2d(64, 64, kernel_size=(3, 3), stride=(1, 1), padding=(1, 1), bias=False)\n",
            "    (bn2): BatchNorm2d(64, eps=1e-05, momentum=0.1, affine=True, track_running_stats=True)\n",
            "  )\n",
            "), Sequential(\n",
            "  (0): BasicBlock(\n",
            "    (conv1): Conv2d(64, 128, kernel_size=(3, 3), stride=(2, 2), padding=(1, 1), bias=False)\n",
            "    (bn1): BatchNorm2d(128, eps=1e-05, momentum=0.1, affine=True, track_running_stats=True)\n",
            "    (relu): ReLU(inplace=True)\n",
            "    (conv2): Conv2d(128, 128, kernel_size=(3, 3), stride=(1, 1), padding=(1, 1), bias=False)\n",
            "    (bn2): BatchNorm2d(128, eps=1e-05, momentum=0.1, affine=True, track_running_stats=True)\n",
            "    (downsample): Sequential(\n",
            "      (0): Conv2d(64, 128, kernel_size=(1, 1), stride=(2, 2), bias=False)\n",
            "      (1): BatchNorm2d(128, eps=1e-05, momentum=0.1, affine=True, track_running_stats=True)\n",
            "    )\n",
            "  )\n",
            "  (1): BasicBlock(\n",
            "    (conv1): Conv2d(128, 128, kernel_size=(3, 3), stride=(1, 1), padding=(1, 1), bias=False)\n",
            "    (bn1): BatchNorm2d(128, eps=1e-05, momentum=0.1, affine=True, track_running_stats=True)\n",
            "    (relu): ReLU(inplace=True)\n",
            "    (conv2): Conv2d(128, 128, kernel_size=(3, 3), stride=(1, 1), padding=(1, 1), bias=False)\n",
            "    (bn2): BatchNorm2d(128, eps=1e-05, momentum=0.1, affine=True, track_running_stats=True)\n",
            "  )\n",
            "), Sequential(\n",
            "  (0): BasicBlock(\n",
            "    (conv1): Conv2d(128, 256, kernel_size=(3, 3), stride=(2, 2), padding=(1, 1), bias=False)\n",
            "    (bn1): BatchNorm2d(256, eps=1e-05, momentum=0.1, affine=True, track_running_stats=True)\n",
            "    (relu): ReLU(inplace=True)\n",
            "    (conv2): Conv2d(256, 256, kernel_size=(3, 3), stride=(1, 1), padding=(1, 1), bias=False)\n",
            "    (bn2): BatchNorm2d(256, eps=1e-05, momentum=0.1, affine=True, track_running_stats=True)\n",
            "    (downsample): Sequential(\n",
            "      (0): Conv2d(128, 256, kernel_size=(1, 1), stride=(2, 2), bias=False)\n",
            "      (1): BatchNorm2d(256, eps=1e-05, momentum=0.1, affine=True, track_running_stats=True)\n",
            "    )\n",
            "  )\n",
            "  (1): BasicBlock(\n",
            "    (conv1): Conv2d(256, 256, kernel_size=(3, 3), stride=(1, 1), padding=(1, 1), bias=False)\n",
            "    (bn1): BatchNorm2d(256, eps=1e-05, momentum=0.1, affine=True, track_running_stats=True)\n",
            "    (relu): ReLU(inplace=True)\n",
            "    (conv2): Conv2d(256, 256, kernel_size=(3, 3), stride=(1, 1), padding=(1, 1), bias=False)\n",
            "    (bn2): BatchNorm2d(256, eps=1e-05, momentum=0.1, affine=True, track_running_stats=True)\n",
            "  )\n",
            "), Sequential(\n",
            "  (0): BasicBlock(\n",
            "    (conv1): Conv2d(256, 512, kernel_size=(3, 3), stride=(2, 2), padding=(1, 1), bias=False)\n",
            "    (bn1): BatchNorm2d(512, eps=1e-05, momentum=0.1, affine=True, track_running_stats=True)\n",
            "    (relu): ReLU(inplace=True)\n",
            "    (conv2): Conv2d(512, 512, kernel_size=(3, 3), stride=(1, 1), padding=(1, 1), bias=False)\n",
            "    (bn2): BatchNorm2d(512, eps=1e-05, momentum=0.1, affine=True, track_running_stats=True)\n",
            "    (downsample): Sequential(\n",
            "      (0): Conv2d(256, 512, kernel_size=(1, 1), stride=(2, 2), bias=False)\n",
            "      (1): BatchNorm2d(512, eps=1e-05, momentum=0.1, affine=True, track_running_stats=True)\n",
            "    )\n",
            "  )\n",
            "  (1): BasicBlock(\n",
            "    (conv1): Conv2d(512, 512, kernel_size=(3, 3), stride=(1, 1), padding=(1, 1), bias=False)\n",
            "    (bn1): BatchNorm2d(512, eps=1e-05, momentum=0.1, affine=True, track_running_stats=True)\n",
            "    (relu): ReLU(inplace=True)\n",
            "    (conv2): Conv2d(512, 512, kernel_size=(3, 3), stride=(1, 1), padding=(1, 1), bias=False)\n",
            "    (bn2): BatchNorm2d(512, eps=1e-05, momentum=0.1, affine=True, track_running_stats=True)\n",
            "  )\n",
            "), AdaptiveAvgPool2d(output_size=(1, 1)), Linear(in_features=512, out_features=1000, bias=True)]\n"
          ]
        }
      ],
      "source": [
        "from typing_extensions import Self\n",
        "print(list(pretrained_model.children()))\n",
        "#features=list(pretrained_model.children())[:-2] #rid pooling and fc\n",
        "features=list(pretrained_model.children())[:-1] #only remove fc\n",
        "model_out=nn.Sequential(*features).to(device)\n",
        "def for_feature(loader):\n",
        "  data_tmp=[]\n",
        "  label_tmp=[]\n",
        "\n",
        "  with torch.no_grad():\n",
        "      for img,label in loader:\n",
        "        img=img.to(device)\n",
        "       # labels=labels.to(device)\n",
        "        #labels=torch.torch.tensor(labels, dtype=torch.long)\n",
        "\n",
        "        output1=model_out(img)\n",
        "\n",
        "       # labels1=np.array([int(i) for in in lablels])\n",
        "       # for i in labels1:\n",
        "        #    label1=i\n",
        "         #   lasds.append(labels)\n",
        "          #  for i in outputs:\n",
        "           #     tmp.append(i)\n",
        "            #labels = labels.to(DEVICE)\n",
        "            #outputs = torch.tensor(outputs)\n",
        "           # outputs = outputs.to(DEVICE)\n",
        "           ## loss = loss_fn(outputs, labels)\n",
        "          #  test_loss += loss.item()\n",
        "           # ps = torch.exp(outputs)\n",
        "           # top_p, top_class = ps.topk(1, dim=1)\n",
        "          #  equals = top_class == labels.view(*top_class.shape)\n",
        "          #  accuracy += torch.mean(equals.type(torch.FloatTensor)).item()\n",
        "        #acc.append(accuracy / len(test_loader))\n",
        "\n",
        "#lapsds = torch.Tensor(lasds)\n",
        "#tmp = torch.Tensor(tmp)\n",
        "#print(acc)\n",
        "# with open('ResNet_Test_FTLoss.txt', 'w') as f:\n",
        "#     for item in loss_FocalLoss:\n",
        "#         f.write(\"%s\\n\" % item)\n",
        "        #output=nn.functional.softmax(output1,dim=0)#not needed i think\n",
        "        data_tmp.append(output1.cpu().numpy())\n",
        "        label_tmp.append(label.cpu().numpy())\n",
        "        #print('label: ' +str(label))\n",
        "\n",
        "\n",
        "\n",
        "  return np.vstack(data_tmp), np.hstack(label_tmp)\n",
        "\n",
        "#np.save(\"Feature_ResNet_Test\", tmp)\n",
        "#np.save(\"Label_ResNet_Test\", lasds)\n",
        "\n",
        "\n"
      ]
    },
    {
      "cell_type": "code",
      "source": [
        "trained_feature, trained_label=for_feature(train_loader)"
      ],
      "metadata": {
        "id": "kdSFIHPJahJ-"
      },
      "execution_count": null,
      "outputs": []
    },
    {
      "cell_type": "code",
      "execution_count": null,
      "metadata": {
        "colab": {
          "base_uri": "https://localhost:8080/"
        },
        "id": "ctUXiB33e2MM",
        "outputId": "718e3a6a-ce8c-4632-d256-84718eb462ef"
      },
      "outputs": [
        {
          "output_type": "execute_result",
          "data": {
            "text/plain": [
              "array([[[[1.93820810e+00, 4.58564949e+00, 4.39166546e+00, ...,\n",
              "          3.15363693e+00, 3.06910825e+00, 1.83465016e+00],\n",
              "         [7.88431227e-01, 2.72247362e+00, 9.39314604e-01, ...,\n",
              "          0.00000000e+00, 0.00000000e+00, 0.00000000e+00],\n",
              "         [6.83952749e-01, 2.20981717e+00, 0.00000000e+00, ...,\n",
              "          0.00000000e+00, 0.00000000e+00, 0.00000000e+00],\n",
              "         ...,\n",
              "         [7.78784990e-01, 2.09466791e+00, 0.00000000e+00, ...,\n",
              "          0.00000000e+00, 0.00000000e+00, 0.00000000e+00],\n",
              "         [1.05667424e+00, 1.90065718e+00, 0.00000000e+00, ...,\n",
              "          0.00000000e+00, 0.00000000e+00, 0.00000000e+00],\n",
              "         [7.05354452e-01, 1.14998019e+00, 0.00000000e+00, ...,\n",
              "          0.00000000e+00, 0.00000000e+00, 0.00000000e+00]],\n",
              "\n",
              "        [[2.39599419e+00, 0.00000000e+00, 0.00000000e+00, ...,\n",
              "          0.00000000e+00, 0.00000000e+00, 2.50420839e-01],\n",
              "         [4.69422758e-01, 0.00000000e+00, 0.00000000e+00, ...,\n",
              "          3.26516449e-01, 5.08042812e-01, 1.55776834e+00],\n",
              "         [9.31310296e-01, 0.00000000e+00, 2.43981552e+00, ...,\n",
              "          2.91446018e+00, 3.35956931e+00, 2.87834334e+00],\n",
              "         ...,\n",
              "         [8.04938555e-01, 0.00000000e+00, 3.02067733e+00, ...,\n",
              "          2.86850095e+00, 2.86627293e+00, 2.53843045e+00],\n",
              "         [6.58795953e-01, 0.00000000e+00, 3.14766788e+00, ...,\n",
              "          2.86312866e+00, 2.98274493e+00, 2.65717459e+00],\n",
              "         [7.75756180e-01, 0.00000000e+00, 3.05375981e+00, ...,\n",
              "          3.09023595e+00, 3.16132498e+00, 2.67521954e+00]],\n",
              "\n",
              "        [[0.00000000e+00, 0.00000000e+00, 0.00000000e+00, ...,\n",
              "          0.00000000e+00, 1.31642492e-02, 4.48474616e-01],\n",
              "         [0.00000000e+00, 0.00000000e+00, 0.00000000e+00, ...,\n",
              "          6.28258467e-01, 1.19641650e+00, 2.76861143e+00],\n",
              "         [0.00000000e+00, 0.00000000e+00, 2.23859000e+00, ...,\n",
              "          3.53109956e+00, 3.84137344e+00, 3.86883926e+00],\n",
              "         ...,\n",
              "         [0.00000000e+00, 0.00000000e+00, 3.19174886e+00, ...,\n",
              "          2.97293043e+00, 3.22848177e+00, 3.31517005e+00],\n",
              "         [0.00000000e+00, 0.00000000e+00, 3.49232626e+00, ...,\n",
              "          3.31697464e+00, 3.58220339e+00, 3.27045679e+00],\n",
              "         [0.00000000e+00, 0.00000000e+00, 3.89481020e+00, ...,\n",
              "          3.35767579e+00, 3.31016397e+00, 3.60942078e+00]],\n",
              "\n",
              "        ...,\n",
              "\n",
              "        [[0.00000000e+00, 0.00000000e+00, 0.00000000e+00, ...,\n",
              "          0.00000000e+00, 0.00000000e+00, 1.89713836e-01],\n",
              "         [0.00000000e+00, 0.00000000e+00, 2.42312193e-01, ...,\n",
              "          0.00000000e+00, 4.01057363e-01, 2.11868465e-01],\n",
              "         [0.00000000e+00, 1.02665687e+00, 1.30620360e+00, ...,\n",
              "          5.97050965e-01, 9.93124366e-01, 4.37935293e-01],\n",
              "         ...,\n",
              "         [0.00000000e+00, 6.93963468e-01, 9.50171173e-01, ...,\n",
              "          4.82406914e-01, 1.23623657e+00, 5.87550521e-01],\n",
              "         [0.00000000e+00, 1.18315291e+00, 8.55711997e-01, ...,\n",
              "          6.00004852e-01, 1.07148933e+00, 4.51887846e-01],\n",
              "         [0.00000000e+00, 4.76224750e-01, 1.30178654e+00, ...,\n",
              "          6.49745464e-01, 7.71818280e-01, 3.71091187e-01]],\n",
              "\n",
              "        [[0.00000000e+00, 0.00000000e+00, 0.00000000e+00, ...,\n",
              "          4.71757561e-01, 6.09339625e-02, 0.00000000e+00],\n",
              "         [0.00000000e+00, 0.00000000e+00, 6.77434378e-04, ...,\n",
              "          0.00000000e+00, 0.00000000e+00, 6.40922859e-02],\n",
              "         [3.16763222e-01, 0.00000000e+00, 3.56110990e-01, ...,\n",
              "          0.00000000e+00, 0.00000000e+00, 0.00000000e+00],\n",
              "         ...,\n",
              "         [0.00000000e+00, 0.00000000e+00, 0.00000000e+00, ...,\n",
              "          4.34356928e-02, 0.00000000e+00, 0.00000000e+00],\n",
              "         [1.60852820e-02, 0.00000000e+00, 0.00000000e+00, ...,\n",
              "          3.89259607e-02, 6.27172589e-02, 8.70632660e-03],\n",
              "         [0.00000000e+00, 0.00000000e+00, 0.00000000e+00, ...,\n",
              "          4.53621894e-02, 0.00000000e+00, 0.00000000e+00]],\n",
              "\n",
              "        [[0.00000000e+00, 0.00000000e+00, 0.00000000e+00, ...,\n",
              "          3.79840255e-01, 1.59468502e-01, 0.00000000e+00],\n",
              "         [8.96956742e-01, 9.12658453e-01, 1.57740450e+00, ...,\n",
              "          3.90366405e-01, 0.00000000e+00, 4.63195220e-02],\n",
              "         [1.01159835e+00, 7.20015615e-02, 6.22333474e-02, ...,\n",
              "          1.06189743e-01, 2.49726251e-01, 3.40605602e-02],\n",
              "         ...,\n",
              "         [1.03666317e+00, 1.14172669e-02, 0.00000000e+00, ...,\n",
              "          1.83716536e-01, 1.32750094e-01, 1.37944967e-01],\n",
              "         [1.03335416e+00, 4.65676725e-01, 0.00000000e+00, ...,\n",
              "          1.34951442e-01, 0.00000000e+00, 0.00000000e+00],\n",
              "         [7.06822753e-01, 4.30258662e-01, 0.00000000e+00, ...,\n",
              "          2.99530268e-01, 1.22694321e-01, 0.00000000e+00]]],\n",
              "\n",
              "\n",
              "       [[[1.86196959e+00, 3.91603899e+00, 4.38755131e+00, ...,\n",
              "          5.15595484e+00, 4.71467400e+00, 4.41836548e+00],\n",
              "         [7.33390450e-01, 2.62532020e+00, 2.26077843e+00, ...,\n",
              "          1.22811413e+00, 8.71725619e-01, 1.26477051e+00],\n",
              "         [5.69777608e-01, 2.57154322e+00, 1.37719917e+00, ...,\n",
              "          0.00000000e+00, 0.00000000e+00, 0.00000000e+00],\n",
              "         ...,\n",
              "         [1.16295159e+00, 3.42546129e+00, 1.55168021e+00, ...,\n",
              "          0.00000000e+00, 0.00000000e+00, 0.00000000e+00],\n",
              "         [1.09090304e+00, 3.82754135e+00, 3.04244804e+00, ...,\n",
              "          6.81620538e-01, 0.00000000e+00, 0.00000000e+00],\n",
              "         [5.78852892e-01, 1.94945621e+00, 2.27112889e+00, ...,\n",
              "          1.36599433e+00, 6.41862869e-01, 7.81376064e-02]],\n",
              "\n",
              "        [[2.57747006e+00, 0.00000000e+00, 0.00000000e+00, ...,\n",
              "          0.00000000e+00, 0.00000000e+00, 0.00000000e+00],\n",
              "         [5.82020223e-01, 0.00000000e+00, 0.00000000e+00, ...,\n",
              "          0.00000000e+00, 0.00000000e+00, 0.00000000e+00],\n",
              "         [1.17949331e+00, 0.00000000e+00, 0.00000000e+00, ...,\n",
              "          2.99293375e+00, 2.07942390e+00, 1.19297767e+00],\n",
              "         ...,\n",
              "         [1.11511397e+00, 0.00000000e+00, 0.00000000e+00, ...,\n",
              "          3.46421981e+00, 3.29154253e+00, 2.92325187e+00],\n",
              "         [9.22533095e-01, 0.00000000e+00, 0.00000000e+00, ...,\n",
              "          1.94278288e+00, 2.42540359e+00, 2.42789602e+00],\n",
              "         [4.88874435e-01, 0.00000000e+00, 0.00000000e+00, ...,\n",
              "          4.61883366e-01, 7.64183640e-01, 8.06402385e-01]],\n",
              "\n",
              "        [[0.00000000e+00, 0.00000000e+00, 0.00000000e+00, ...,\n",
              "          0.00000000e+00, 0.00000000e+00, 0.00000000e+00],\n",
              "         [0.00000000e+00, 0.00000000e+00, 0.00000000e+00, ...,\n",
              "          0.00000000e+00, 0.00000000e+00, 1.15681589e-01],\n",
              "         [0.00000000e+00, 0.00000000e+00, 0.00000000e+00, ...,\n",
              "          3.52231550e+00, 2.79799676e+00, 2.71281099e+00],\n",
              "         ...,\n",
              "         [0.00000000e+00, 0.00000000e+00, 0.00000000e+00, ...,\n",
              "          3.65791130e+00, 4.02330160e+00, 3.70009708e+00],\n",
              "         [0.00000000e+00, 0.00000000e+00, 0.00000000e+00, ...,\n",
              "          2.62147236e+00, 3.31058741e+00, 3.64892864e+00],\n",
              "         [0.00000000e+00, 0.00000000e+00, 0.00000000e+00, ...,\n",
              "          5.84610045e-01, 1.29793119e+00, 2.45148516e+00]],\n",
              "\n",
              "        ...,\n",
              "\n",
              "        [[0.00000000e+00, 0.00000000e+00, 0.00000000e+00, ...,\n",
              "          0.00000000e+00, 0.00000000e+00, 0.00000000e+00],\n",
              "         [0.00000000e+00, 0.00000000e+00, 4.24008965e-02, ...,\n",
              "          0.00000000e+00, 1.20864272e-01, 3.82483006e-02],\n",
              "         [0.00000000e+00, 4.95027691e-01, 1.60637879e+00, ...,\n",
              "          1.07190132e+00, 1.15817356e+00, 3.54228497e-01],\n",
              "         ...,\n",
              "         [0.00000000e+00, 1.25636446e+00, 9.45305407e-01, ...,\n",
              "          8.91060472e-01, 1.19150150e+00, 4.04443681e-01],\n",
              "         [0.00000000e+00, 1.39495671e+00, 0.00000000e+00, ...,\n",
              "          6.79517910e-02, 3.16809535e-01, 0.00000000e+00],\n",
              "         [0.00000000e+00, 1.36758715e-01, 0.00000000e+00, ...,\n",
              "          0.00000000e+00, 2.41002381e-01, 1.78776518e-01]],\n",
              "\n",
              "        [[0.00000000e+00, 0.00000000e+00, 3.44258547e-02, ...,\n",
              "          0.00000000e+00, 0.00000000e+00, 0.00000000e+00],\n",
              "         [0.00000000e+00, 0.00000000e+00, 0.00000000e+00, ...,\n",
              "          0.00000000e+00, 0.00000000e+00, 1.86943322e-01],\n",
              "         [4.44880217e-01, 4.37546492e-01, 1.22449350e+00, ...,\n",
              "          0.00000000e+00, 1.00487813e-01, 0.00000000e+00],\n",
              "         ...,\n",
              "         [2.40207568e-01, 3.84386957e-01, 6.26453340e-01, ...,\n",
              "          9.13507566e-02, 8.80850852e-02, 1.50103301e-01],\n",
              "         [0.00000000e+00, 0.00000000e+00, 5.59821069e-01, ...,\n",
              "          0.00000000e+00, 0.00000000e+00, 1.00301698e-01],\n",
              "         [0.00000000e+00, 0.00000000e+00, 6.20649874e-01, ...,\n",
              "          0.00000000e+00, 0.00000000e+00, 5.89034893e-02]],\n",
              "\n",
              "        [[0.00000000e+00, 0.00000000e+00, 0.00000000e+00, ...,\n",
              "          0.00000000e+00, 0.00000000e+00, 0.00000000e+00],\n",
              "         [2.37754390e-01, 7.30361938e-01, 1.19519138e+00, ...,\n",
              "          1.78600073e+00, 1.66216707e+00, 8.37714076e-01],\n",
              "         [2.56842792e-01, 5.52785397e-01, 1.68947786e-01, ...,\n",
              "          0.00000000e+00, 0.00000000e+00, 0.00000000e+00],\n",
              "         ...,\n",
              "         [0.00000000e+00, 0.00000000e+00, 0.00000000e+00, ...,\n",
              "          0.00000000e+00, 1.18618362e-01, 0.00000000e+00],\n",
              "         [8.78152907e-01, 6.55817032e-01, 1.16612464e-01, ...,\n",
              "          0.00000000e+00, 0.00000000e+00, 2.28615910e-01],\n",
              "         [8.99680793e-01, 1.23972499e+00, 9.12653148e-01, ...,\n",
              "          1.67511091e-01, 3.41448747e-02, 0.00000000e+00]]],\n",
              "\n",
              "\n",
              "       [[[1.54645503e+00, 4.38170910e+00, 3.87895155e+00, ...,\n",
              "          3.63269973e+00, 4.05501032e+00, 4.15393686e+00],\n",
              "         [5.83393037e-01, 3.13930130e+00, 7.56388307e-01, ...,\n",
              "          5.17960498e-03, 4.55138505e-01, 2.37553954e-01],\n",
              "         [5.75199544e-01, 2.42112780e+00, 0.00000000e+00, ...,\n",
              "          0.00000000e+00, 0.00000000e+00, 0.00000000e+00],\n",
              "         ...,\n",
              "         [8.99747789e-01, 1.50282013e+00, 0.00000000e+00, ...,\n",
              "          0.00000000e+00, 0.00000000e+00, 0.00000000e+00],\n",
              "         [1.04579568e+00, 1.57123816e+00, 0.00000000e+00, ...,\n",
              "          0.00000000e+00, 0.00000000e+00, 0.00000000e+00],\n",
              "         [6.59543812e-01, 2.35994697e-01, 0.00000000e+00, ...,\n",
              "          0.00000000e+00, 0.00000000e+00, 0.00000000e+00]],\n",
              "\n",
              "        [[2.31463289e+00, 0.00000000e+00, 0.00000000e+00, ...,\n",
              "          0.00000000e+00, 0.00000000e+00, 0.00000000e+00],\n",
              "         [7.51322508e-01, 0.00000000e+00, 0.00000000e+00, ...,\n",
              "          2.23132402e-01, 0.00000000e+00, 0.00000000e+00],\n",
              "         [1.02076161e+00, 0.00000000e+00, 2.14128494e+00, ...,\n",
              "          3.21871662e+00, 3.20297265e+00, 2.34118438e+00],\n",
              "         ...,\n",
              "         [7.96917975e-01, 0.00000000e+00, 3.31188822e+00, ...,\n",
              "          2.72342348e+00, 2.85974550e+00, 2.57006550e+00],\n",
              "         [6.77384615e-01, 0.00000000e+00, 3.25921392e+00, ...,\n",
              "          2.89336491e+00, 2.89225698e+00, 2.74777055e+00],\n",
              "         [8.52822840e-01, 0.00000000e+00, 3.17877030e+00, ...,\n",
              "          3.11739182e+00, 3.15354776e+00, 2.57321000e+00]],\n",
              "\n",
              "        [[0.00000000e+00, 0.00000000e+00, 0.00000000e+00, ...,\n",
              "          0.00000000e+00, 0.00000000e+00, 0.00000000e+00],\n",
              "         [0.00000000e+00, 0.00000000e+00, 0.00000000e+00, ...,\n",
              "          1.76848745e+00, 0.00000000e+00, 3.99263918e-01],\n",
              "         [0.00000000e+00, 0.00000000e+00, 2.23481250e+00, ...,\n",
              "          3.63047409e+00, 3.36176348e+00, 3.53756642e+00],\n",
              "         ...,\n",
              "         [0.00000000e+00, 0.00000000e+00, 3.52154875e+00, ...,\n",
              "          3.36716557e+00, 3.25135946e+00, 3.33549738e+00],\n",
              "         [0.00000000e+00, 0.00000000e+00, 3.79282165e+00, ...,\n",
              "          3.14899397e+00, 3.43313932e+00, 3.36784387e+00],\n",
              "         [0.00000000e+00, 1.97779700e-01, 3.98133993e+00, ...,\n",
              "          3.23964000e+00, 3.28567553e+00, 3.42996740e+00]],\n",
              "\n",
              "        ...,\n",
              "\n",
              "        [[0.00000000e+00, 0.00000000e+00, 0.00000000e+00, ...,\n",
              "          0.00000000e+00, 0.00000000e+00, 0.00000000e+00],\n",
              "         [0.00000000e+00, 0.00000000e+00, 2.66794711e-01, ...,\n",
              "          0.00000000e+00, 6.34405375e-01, 0.00000000e+00],\n",
              "         [0.00000000e+00, 9.38129187e-01, 1.08687341e+00, ...,\n",
              "          4.45111513e-01, 8.60388875e-01, 2.31680214e-01],\n",
              "         ...,\n",
              "         [0.00000000e+00, 8.75116944e-01, 1.03334951e+00, ...,\n",
              "          4.73333538e-01, 1.26538515e+00, 6.47681594e-01],\n",
              "         [0.00000000e+00, 7.80827761e-01, 5.36746860e-01, ...,\n",
              "          5.47602236e-01, 1.09727609e+00, 4.92157698e-01],\n",
              "         [0.00000000e+00, 3.72798711e-01, 1.06605482e+00, ...,\n",
              "          5.99669397e-01, 7.20238388e-01, 3.56689394e-01]],\n",
              "\n",
              "        [[0.00000000e+00, 0.00000000e+00, 9.73190367e-02, ...,\n",
              "          0.00000000e+00, 0.00000000e+00, 0.00000000e+00],\n",
              "         [0.00000000e+00, 0.00000000e+00, 0.00000000e+00, ...,\n",
              "          0.00000000e+00, 0.00000000e+00, 1.14784181e-01],\n",
              "         [5.38707748e-02, 0.00000000e+00, 2.20850781e-02, ...,\n",
              "          0.00000000e+00, 0.00000000e+00, 1.08308364e-02],\n",
              "         ...,\n",
              "         [0.00000000e+00, 0.00000000e+00, 0.00000000e+00, ...,\n",
              "          3.69325764e-02, 0.00000000e+00, 8.17221329e-02],\n",
              "         [5.27842939e-02, 0.00000000e+00, 6.24156296e-02, ...,\n",
              "          0.00000000e+00, 0.00000000e+00, 0.00000000e+00],\n",
              "         [0.00000000e+00, 0.00000000e+00, 1.02073029e-01, ...,\n",
              "          5.37774339e-02, 1.57278050e-02, 0.00000000e+00]],\n",
              "\n",
              "        [[0.00000000e+00, 0.00000000e+00, 0.00000000e+00, ...,\n",
              "          0.00000000e+00, 0.00000000e+00, 2.17431188e-01],\n",
              "         [8.90394926e-01, 3.79605502e-01, 7.54603207e-01, ...,\n",
              "          3.52467030e-01, 7.33762085e-01, 7.68110096e-01],\n",
              "         [9.71545398e-01, 3.21563810e-01, 1.63117364e-01, ...,\n",
              "          0.00000000e+00, 0.00000000e+00, 1.40273189e-02],\n",
              "         ...,\n",
              "         [9.81998503e-01, 1.74842745e-01, 1.38524443e-01, ...,\n",
              "          3.17664117e-01, 1.79132655e-01, 5.96281923e-02],\n",
              "         [7.84642756e-01, 4.43166822e-01, 7.45789558e-02, ...,\n",
              "          2.57162213e-01, 3.94400433e-02, 1.61448959e-02],\n",
              "         [3.75909418e-01, 5.01232982e-01, 0.00000000e+00, ...,\n",
              "          2.04268411e-01, 1.25568494e-01, 8.89483169e-02]]],\n",
              "\n",
              "\n",
              "       ...,\n",
              "\n",
              "\n",
              "       [[[1.77840328e+00, 4.37478590e+00, 4.57113600e+00, ...,\n",
              "          5.63102055e+00, 4.94328022e+00, 5.08861494e+00],\n",
              "         [6.21110559e-01, 3.84578848e+00, 1.22907543e+00, ...,\n",
              "          2.34990788e+00, 2.62528276e+00, 1.70609772e+00],\n",
              "         [5.41420758e-01, 2.42816639e+00, 2.87273359e-02, ...,\n",
              "          1.07741132e-02, 1.77738297e+00, 2.19799948e+00],\n",
              "         ...,\n",
              "         [9.25225735e-01, 2.58974743e+00, 0.00000000e+00, ...,\n",
              "          0.00000000e+00, 0.00000000e+00, 4.45608497e-01],\n",
              "         [1.04152596e+00, 2.86621141e+00, 0.00000000e+00, ...,\n",
              "          0.00000000e+00, 0.00000000e+00, 0.00000000e+00],\n",
              "         [6.41869247e-01, 2.41660571e+00, 0.00000000e+00, ...,\n",
              "          0.00000000e+00, 0.00000000e+00, 0.00000000e+00]],\n",
              "\n",
              "        [[1.89453292e+00, 0.00000000e+00, 0.00000000e+00, ...,\n",
              "          0.00000000e+00, 0.00000000e+00, 0.00000000e+00],\n",
              "         [4.67361838e-01, 0.00000000e+00, 0.00000000e+00, ...,\n",
              "          0.00000000e+00, 0.00000000e+00, 0.00000000e+00],\n",
              "         [9.80786562e-01, 0.00000000e+00, 2.06897616e+00, ...,\n",
              "          1.42340481e+00, 0.00000000e+00, 0.00000000e+00],\n",
              "         ...,\n",
              "         [1.03623438e+00, 0.00000000e+00, 2.71646476e+00, ...,\n",
              "          2.83811045e+00, 1.82528830e+00, 1.89938143e-01],\n",
              "         [8.30912590e-01, 0.00000000e+00, 1.75434220e+00, ...,\n",
              "          3.00822735e+00, 2.78816438e+00, 1.74163759e+00],\n",
              "         [5.89363039e-01, 0.00000000e+00, 7.51155257e-01, ...,\n",
              "          2.98612976e+00, 3.14526582e+00, 2.68401003e+00]],\n",
              "\n",
              "        [[0.00000000e+00, 0.00000000e+00, 0.00000000e+00, ...,\n",
              "          0.00000000e+00, 0.00000000e+00, 0.00000000e+00],\n",
              "         [0.00000000e+00, 0.00000000e+00, 0.00000000e+00, ...,\n",
              "          0.00000000e+00, 0.00000000e+00, 0.00000000e+00],\n",
              "         [0.00000000e+00, 0.00000000e+00, 2.05093908e+00, ...,\n",
              "          2.83549142e+00, 0.00000000e+00, 2.42291361e-01],\n",
              "         ...,\n",
              "         [0.00000000e+00, 0.00000000e+00, 2.80519390e+00, ...,\n",
              "          3.44628811e+00, 2.69632530e+00, 9.70352888e-01],\n",
              "         [0.00000000e+00, 0.00000000e+00, 1.99710035e+00, ...,\n",
              "          3.47889757e+00, 3.75566220e+00, 2.78065825e+00],\n",
              "         [0.00000000e+00, 0.00000000e+00, 2.04527569e+00, ...,\n",
              "          3.31483650e+00, 3.25594997e+00, 3.63218880e+00]],\n",
              "\n",
              "        ...,\n",
              "\n",
              "        [[0.00000000e+00, 0.00000000e+00, 0.00000000e+00, ...,\n",
              "          0.00000000e+00, 0.00000000e+00, 0.00000000e+00],\n",
              "         [0.00000000e+00, 0.00000000e+00, 0.00000000e+00, ...,\n",
              "          0.00000000e+00, 0.00000000e+00, 0.00000000e+00],\n",
              "         [0.00000000e+00, 6.69091284e-01, 1.23163009e+00, ...,\n",
              "          6.84107363e-01, 8.74439180e-01, 3.28034431e-01],\n",
              "         ...,\n",
              "         [0.00000000e+00, 1.19852746e+00, 8.33287835e-01, ...,\n",
              "          9.21507835e-01, 7.84534812e-01, 0.00000000e+00],\n",
              "         [0.00000000e+00, 1.50351548e+00, 1.24993551e+00, ...,\n",
              "          8.23913097e-01, 9.00399923e-01, 0.00000000e+00],\n",
              "         [0.00000000e+00, 1.59485191e-01, 9.36230481e-01, ...,\n",
              "          7.86195874e-01, 7.45611429e-01, 2.51846522e-01]],\n",
              "\n",
              "        [[1.32273078e-01, 0.00000000e+00, 0.00000000e+00, ...,\n",
              "          4.30389494e-02, 1.58086419e-01, 0.00000000e+00],\n",
              "         [0.00000000e+00, 0.00000000e+00, 3.15060139e-01, ...,\n",
              "          1.57263294e-01, 0.00000000e+00, 8.65613967e-02],\n",
              "         [5.13212919e-01, 0.00000000e+00, 6.28568769e-01, ...,\n",
              "          3.95798624e-01, 1.28546321e+00, 5.76607347e-01],\n",
              "         ...,\n",
              "         [1.59772739e-01, 0.00000000e+00, 0.00000000e+00, ...,\n",
              "          0.00000000e+00, 0.00000000e+00, 3.32035840e-01],\n",
              "         [0.00000000e+00, 0.00000000e+00, 0.00000000e+00, ...,\n",
              "          9.48888063e-03, 0.00000000e+00, 0.00000000e+00],\n",
              "         [0.00000000e+00, 0.00000000e+00, 0.00000000e+00, ...,\n",
              "          3.97980399e-02, 4.13047969e-02, 7.17715397e-02]],\n",
              "\n",
              "        [[0.00000000e+00, 0.00000000e+00, 0.00000000e+00, ...,\n",
              "          0.00000000e+00, 0.00000000e+00, 0.00000000e+00],\n",
              "         [9.39275205e-01, 1.37652016e+00, 1.62250483e+00, ...,\n",
              "          1.48373985e+00, 1.86114371e+00, 1.04731894e+00],\n",
              "         [1.03884685e+00, 4.45255458e-01, 5.33673704e-01, ...,\n",
              "          3.43248174e-02, 4.10588324e-01, 4.10042435e-01],\n",
              "         ...,\n",
              "         [7.57319212e-01, 0.00000000e+00, 1.54816031e-01, ...,\n",
              "          3.50950472e-02, 1.29207522e-01, 2.25414276e-01],\n",
              "         [8.43621671e-01, 2.34192967e-01, 1.08336069e-01, ...,\n",
              "          0.00000000e+00, 0.00000000e+00, 6.70102984e-02],\n",
              "         [7.42473066e-01, 3.70506525e-01, 2.72022158e-01, ...,\n",
              "          9.31367353e-02, 7.08985254e-02, 1.20253183e-01]]],\n",
              "\n",
              "\n",
              "       [[[2.10020590e+00, 4.13115931e+00, 4.18243408e+00, ...,\n",
              "          5.17834067e-01, 0.00000000e+00, 0.00000000e+00],\n",
              "         [8.66926610e-01, 3.16757679e+00, 9.63255763e-01, ...,\n",
              "          0.00000000e+00, 0.00000000e+00, 0.00000000e+00],\n",
              "         [7.77620137e-01, 2.17781568e+00, 0.00000000e+00, ...,\n",
              "          0.00000000e+00, 0.00000000e+00, 0.00000000e+00],\n",
              "         ...,\n",
              "         [7.47407556e-01, 2.55545759e+00, 0.00000000e+00, ...,\n",
              "          0.00000000e+00, 0.00000000e+00, 0.00000000e+00],\n",
              "         [1.04852986e+00, 2.60158443e+00, 0.00000000e+00, ...,\n",
              "          0.00000000e+00, 0.00000000e+00, 0.00000000e+00],\n",
              "         [7.94406772e-01, 6.19306505e-01, 0.00000000e+00, ...,\n",
              "          0.00000000e+00, 0.00000000e+00, 0.00000000e+00]],\n",
              "\n",
              "        [[2.16004515e+00, 0.00000000e+00, 0.00000000e+00, ...,\n",
              "          1.95750546e+00, 3.45237851e+00, 3.23852134e+00],\n",
              "         [4.24587607e-01, 0.00000000e+00, 0.00000000e+00, ...,\n",
              "          2.92849946e+00, 3.12834978e+00, 2.70866442e+00],\n",
              "         [8.72677445e-01, 0.00000000e+00, 2.28313518e+00, ...,\n",
              "          2.75928116e+00, 3.02000189e+00, 2.68526697e+00],\n",
              "         ...,\n",
              "         [6.66949570e-01, 0.00000000e+00, 2.93492174e+00, ...,\n",
              "          2.78946161e+00, 2.87959671e+00, 2.62451601e+00],\n",
              "         [5.09197295e-01, 0.00000000e+00, 2.98194623e+00, ...,\n",
              "          2.85882521e+00, 2.94994402e+00, 2.64490843e+00],\n",
              "         [5.96065044e-01, 0.00000000e+00, 2.94331264e+00, ...,\n",
              "          3.11859775e+00, 3.22099161e+00, 2.58954501e+00]],\n",
              "\n",
              "        [[0.00000000e+00, 0.00000000e+00, 0.00000000e+00, ...,\n",
              "          1.15559554e+00, 2.38757920e+00, 2.35251689e+00],\n",
              "         [0.00000000e+00, 0.00000000e+00, 0.00000000e+00, ...,\n",
              "          3.27813745e+00, 3.61544943e+00, 3.55289769e+00],\n",
              "         [0.00000000e+00, 0.00000000e+00, 2.27286148e+00, ...,\n",
              "          3.44340134e+00, 3.23595881e+00, 3.19292068e+00],\n",
              "         ...,\n",
              "         [0.00000000e+00, 0.00000000e+00, 2.86499119e+00, ...,\n",
              "          2.96337414e+00, 3.09554076e+00, 3.17380071e+00],\n",
              "         [0.00000000e+00, 0.00000000e+00, 3.24393630e+00, ...,\n",
              "          3.04313660e+00, 3.26144409e+00, 3.37518811e+00],\n",
              "         [0.00000000e+00, 0.00000000e+00, 3.62366962e+00, ...,\n",
              "          3.11027265e+00, 3.16118765e+00, 3.38849640e+00]],\n",
              "\n",
              "        ...,\n",
              "\n",
              "        [[0.00000000e+00, 0.00000000e+00, 0.00000000e+00, ...,\n",
              "          1.90175921e-01, 3.03952634e-01, 1.34086281e-01],\n",
              "         [0.00000000e+00, 2.47789621e-02, 2.65749991e-01, ...,\n",
              "          1.45780265e-01, 1.16412854e+00, 5.20875752e-01],\n",
              "         [0.00000000e+00, 7.61733890e-01, 1.23017919e+00, ...,\n",
              "          4.79800522e-01, 1.25031209e+00, 6.88540161e-01],\n",
              "         ...,\n",
              "         [0.00000000e+00, 6.97900534e-01, 8.90982747e-01, ...,\n",
              "          4.48715359e-01, 1.14224768e+00, 5.44364691e-01],\n",
              "         [0.00000000e+00, 8.32346737e-01, 6.62312627e-01, ...,\n",
              "          5.81898868e-01, 1.04320443e+00, 4.56327796e-01],\n",
              "         [0.00000000e+00, 5.82760513e-01, 1.06177866e+00, ...,\n",
              "          4.98434991e-01, 6.57685280e-01, 3.34202319e-01]],\n",
              "\n",
              "        [[0.00000000e+00, 0.00000000e+00, 4.11002725e-01, ...,\n",
              "          1.15141667e-01, 0.00000000e+00, 0.00000000e+00],\n",
              "         [0.00000000e+00, 0.00000000e+00, 6.24568127e-02, ...,\n",
              "          1.76586792e-01, 1.48135945e-01, 2.01148167e-01],\n",
              "         [3.65794688e-01, 0.00000000e+00, 5.50816715e-01, ...,\n",
              "          0.00000000e+00, 9.09413025e-03, 1.09625921e-01],\n",
              "         ...,\n",
              "         [4.55208402e-03, 0.00000000e+00, 0.00000000e+00, ...,\n",
              "          2.43510474e-02, 0.00000000e+00, 0.00000000e+00],\n",
              "         [1.49796128e-01, 0.00000000e+00, 0.00000000e+00, ...,\n",
              "          7.66262598e-03, 1.54765267e-02, 3.25036841e-03],\n",
              "         [0.00000000e+00, 0.00000000e+00, 2.28658691e-01, ...,\n",
              "          8.67230743e-02, 2.67519038e-02, 1.15549192e-03]],\n",
              "\n",
              "        [[0.00000000e+00, 0.00000000e+00, 0.00000000e+00, ...,\n",
              "          1.06165364e-01, 0.00000000e+00, 0.00000000e+00],\n",
              "         [9.61994946e-01, 9.59546626e-01, 1.32538438e+00, ...,\n",
              "          9.67592672e-02, 5.70930019e-02, 9.59312320e-02],\n",
              "         [1.17659950e+00, 3.17628920e-01, 5.35926938e-01, ...,\n",
              "          2.92724092e-02, 7.35023916e-02, 0.00000000e+00],\n",
              "         ...,\n",
              "         [7.90252149e-01, 0.00000000e+00, 0.00000000e+00, ...,\n",
              "          2.11392686e-01, 8.55777636e-02, 4.98234853e-02],\n",
              "         [1.08128262e+00, 4.56679344e-01, 0.00000000e+00, ...,\n",
              "          1.12583265e-01, 0.00000000e+00, 0.00000000e+00],\n",
              "         [9.73952949e-01, 6.13882065e-01, 0.00000000e+00, ...,\n",
              "          1.86397091e-01, 8.43691230e-02, 3.60969156e-02]]],\n",
              "\n",
              "\n",
              "       [[[2.15602636e+00, 5.05885553e+00, 5.04599857e+00, ...,\n",
              "          5.41906416e-01, 0.00000000e+00, 2.93239862e-01],\n",
              "         [9.94423270e-01, 2.63159418e+00, 8.37206125e-01, ...,\n",
              "          0.00000000e+00, 0.00000000e+00, 0.00000000e+00],\n",
              "         [6.36732936e-01, 1.78903937e+00, 1.07035801e-01, ...,\n",
              "          0.00000000e+00, 0.00000000e+00, 0.00000000e+00],\n",
              "         ...,\n",
              "         [6.71280682e-01, 2.24869680e+00, 0.00000000e+00, ...,\n",
              "          0.00000000e+00, 0.00000000e+00, 0.00000000e+00],\n",
              "         [1.03891063e+00, 1.91728330e+00, 0.00000000e+00, ...,\n",
              "          0.00000000e+00, 0.00000000e+00, 0.00000000e+00],\n",
              "         [8.36718142e-01, 6.22222900e-01, 0.00000000e+00, ...,\n",
              "          0.00000000e+00, 0.00000000e+00, 0.00000000e+00]],\n",
              "\n",
              "        [[2.01225185e+00, 0.00000000e+00, 0.00000000e+00, ...,\n",
              "          1.96212351e+00, 3.28480268e+00, 1.85523343e+00],\n",
              "         [2.37313196e-01, 0.00000000e+00, 0.00000000e+00, ...,\n",
              "          2.72637367e+00, 3.41953731e+00, 2.35847330e+00],\n",
              "         [8.75617504e-01, 0.00000000e+00, 2.27437282e+00, ...,\n",
              "          2.69329596e+00, 3.08849597e+00, 2.61113739e+00],\n",
              "         ...,\n",
              "         [8.32393527e-01, 0.00000000e+00, 3.04659796e+00, ...,\n",
              "          2.77361727e+00, 2.80939031e+00, 2.51358509e+00],\n",
              "         [6.55693114e-01, 0.00000000e+00, 2.90395021e+00, ...,\n",
              "          2.84579730e+00, 2.86759782e+00, 2.64401364e+00],\n",
              "         [6.32905900e-01, 0.00000000e+00, 2.74295306e+00, ...,\n",
              "          2.98053622e+00, 3.21709776e+00, 2.61831737e+00]],\n",
              "\n",
              "        [[0.00000000e+00, 0.00000000e+00, 0.00000000e+00, ...,\n",
              "          1.21562862e+00, 2.60604715e+00, 1.51660311e+00],\n",
              "         [0.00000000e+00, 0.00000000e+00, 0.00000000e+00, ...,\n",
              "          3.35244894e+00, 3.79033089e+00, 3.47880626e+00],\n",
              "         [0.00000000e+00, 0.00000000e+00, 2.55363894e+00, ...,\n",
              "          3.50588226e+00, 3.19135475e+00, 3.55567932e+00],\n",
              "         ...,\n",
              "         [0.00000000e+00, 0.00000000e+00, 2.74792147e+00, ...,\n",
              "          2.99112892e+00, 3.11466265e+00, 3.21935797e+00],\n",
              "         [0.00000000e+00, 0.00000000e+00, 3.22478151e+00, ...,\n",
              "          3.19419670e+00, 3.35839534e+00, 3.20553637e+00],\n",
              "         [0.00000000e+00, 0.00000000e+00, 3.59212732e+00, ...,\n",
              "          3.09217429e+00, 3.28553438e+00, 3.44365978e+00]],\n",
              "\n",
              "        ...,\n",
              "\n",
              "        [[0.00000000e+00, 0.00000000e+00, 0.00000000e+00, ...,\n",
              "          0.00000000e+00, 4.91376430e-01, 0.00000000e+00],\n",
              "         [0.00000000e+00, 0.00000000e+00, 0.00000000e+00, ...,\n",
              "          2.61327058e-01, 1.18841982e+00, 3.43178272e-01],\n",
              "         [0.00000000e+00, 1.28047740e+00, 1.25971091e+00, ...,\n",
              "          6.14600420e-01, 1.27982986e+00, 7.38824844e-01],\n",
              "         ...,\n",
              "         [0.00000000e+00, 2.84099996e-01, 7.22148955e-01, ...,\n",
              "          4.28734690e-01, 1.16448081e+00, 5.73107064e-01],\n",
              "         [0.00000000e+00, 1.19236875e+00, 7.73055196e-01, ...,\n",
              "          5.92599928e-01, 1.06352937e+00, 4.54089522e-01],\n",
              "         [0.00000000e+00, 6.44941747e-01, 1.21305120e+00, ...,\n",
              "          5.14905512e-01, 6.91008151e-01, 3.64744812e-01]],\n",
              "\n",
              "        [[0.00000000e+00, 0.00000000e+00, 2.37974394e-02, ...,\n",
              "          2.68534929e-01, 8.60785618e-02, 1.08794436e-01],\n",
              "         [0.00000000e+00, 0.00000000e+00, 2.03163624e-02, ...,\n",
              "          2.58232892e-01, 1.73757136e-01, 6.51005879e-02],\n",
              "         [1.19845316e-01, 0.00000000e+00, 6.92236602e-01, ...,\n",
              "          0.00000000e+00, 0.00000000e+00, 8.64640251e-02],\n",
              "         ...,\n",
              "         [2.61077642e-01, 0.00000000e+00, 7.53938705e-02, ...,\n",
              "          1.13346398e-01, 0.00000000e+00, 0.00000000e+00],\n",
              "         [0.00000000e+00, 0.00000000e+00, 0.00000000e+00, ...,\n",
              "          0.00000000e+00, 4.68757413e-02, 1.21635990e-02],\n",
              "         [0.00000000e+00, 0.00000000e+00, 1.38585359e-01, ...,\n",
              "          7.47709796e-02, 1.00388201e-02, 1.63298119e-02]],\n",
              "\n",
              "        [[0.00000000e+00, 0.00000000e+00, 0.00000000e+00, ...,\n",
              "          2.75171906e-01, 0.00000000e+00, 0.00000000e+00],\n",
              "         [1.22571874e+00, 1.65772200e+00, 1.90816033e+00, ...,\n",
              "          8.37295279e-02, 0.00000000e+00, 1.35255791e-02],\n",
              "         [6.98418498e-01, 3.08658004e-01, 2.23823890e-01, ...,\n",
              "          1.23699447e-02, 3.35204042e-02, 0.00000000e+00],\n",
              "         ...,\n",
              "         [6.56025887e-01, 0.00000000e+00, 0.00000000e+00, ...,\n",
              "          1.93141282e-01, 8.08893368e-02, 5.58487177e-02],\n",
              "         [1.07601619e+00, 3.81787419e-01, 6.52024429e-03, ...,\n",
              "          1.40474305e-01, 0.00000000e+00, 0.00000000e+00],\n",
              "         [9.33793545e-01, 5.65335155e-01, 0.00000000e+00, ...,\n",
              "          1.99686274e-01, 9.16899815e-02, 1.61507875e-02]]]],\n",
              "      dtype=float32)"
            ]
          },
          "metadata": {},
          "execution_count": 18
        }
      ],
      "source": [
        "\n",
        "trained_feature"
      ]
    },
    {
      "cell_type": "code",
      "execution_count": null,
      "metadata": {
        "colab": {
          "base_uri": "https://localhost:8080/"
        },
        "id": "6amxQmo8iAdB",
        "outputId": "1a45ef16-1006-4fa4-e20e-c7a3d5805216"
      },
      "outputs": [
        {
          "output_type": "execute_result",
          "data": {
            "text/plain": [
              "(4200, 512, 1, 1)"
            ]
          },
          "metadata": {},
          "execution_count": 15
        }
      ],
      "source": [
        "trained_feature.shape"
      ]
    },
    {
      "cell_type": "code",
      "source": [
        "trained_feature_n=trained_feature.reshape(4200,512)"
      ],
      "metadata": {
        "id": "j23ifqP2iZl9"
      },
      "execution_count": null,
      "outputs": []
    },
    {
      "cell_type": "code",
      "execution_count": null,
      "metadata": {
        "colab": {
          "base_uri": "https://localhost:8080/"
        },
        "id": "HnsYB_AmiTzt",
        "outputId": "f7e9fb54-9683-42b1-a385-c9036ee05bf2"
      },
      "outputs": [
        {
          "output_type": "execute_result",
          "data": {
            "text/plain": [
              "DescribeResult(nobs=4200, minmax=(0, 2), mean=1.012857142857143, variance=0.6676126969006225, skewness=-0.02363788340209929, kurtosis=-1.5013958316291849)"
            ]
          },
          "metadata": {},
          "execution_count": 19
        }
      ],
      "source": [
        "from scipy import stats\n",
        "stats.describe(trained_label)\n",
        "#trained_label.describe()"
      ]
    },
    {
      "cell_type": "code",
      "execution_count": null,
      "metadata": {
        "colab": {
          "base_uri": "https://localhost:8080/"
        },
        "id": "j2NQ1ZqRiZ-C",
        "outputId": "48dae25d-daff-4484-f3bf-824b7ada85ef"
      },
      "outputs": [
        {
          "output_type": "execute_result",
          "data": {
            "text/plain": [
              "(4200,)"
            ]
          },
          "metadata": {},
          "execution_count": 18
        }
      ],
      "source": [
        "trained_label.shape"
      ]
    },
    {
      "cell_type": "code",
      "execution_count": null,
      "metadata": {
        "id": "xonNLFdkYdTf"
      },
      "outputs": [],
      "source": [
        "#T-SNE\n",
        "from sklearn.manifold import TSNE\n",
        "import plotly.express as px\n",
        "#plot_matrix_grid(model.coef_[0].T.reshape(-1,224,224))"
      ]
    },
    {
      "cell_type": "code",
      "execution_count": null,
      "metadata": {
        "colab": {
          "base_uri": "https://localhost:8080/",
          "height": 542
        },
        "id": "J0_9YaaHdgIv",
        "outputId": "3247d389-4b52-4e51-e345-1a4067e8ac7b"
      },
      "outputs": [
        {
          "output_type": "display_data",
          "data": {
            "text/html": [
              "<html>\n",
              "<head><meta charset=\"utf-8\" /></head>\n",
              "<body>\n",
              "    <div>            <script src=\"https://cdnjs.cloudflare.com/ajax/libs/mathjax/2.7.5/MathJax.js?config=TeX-AMS-MML_SVG\"></script><script type=\"text/javascript\">if (window.MathJax && window.MathJax.Hub && window.MathJax.Hub.Config) {window.MathJax.Hub.Config({SVG: {font: \"STIX-Web\"}});}</script>                <script type=\"text/javascript\">window.PlotlyConfig = {MathJaxConfig: 'local'};</script>\n",
              "        <script charset=\"utf-8\" src=\"https://cdn.plot.ly/plotly-2.24.1.min.js\"></script>                <div id=\"882ddfad-1933-491f-ac22-ffdc5c60473c\" class=\"plotly-graph-div\" style=\"height:525px; width:100%;\"></div>            <script type=\"text/javascript\">                                    window.PLOTLYENV=window.PLOTLYENV || {};                                    if (document.getElementById(\"882ddfad-1933-491f-ac22-ffdc5c60473c\")) {                    Plotly.newPlot(                        \"882ddfad-1933-491f-ac22-ffdc5c60473c\",                        [{\"hovertemplate\":\"x=%{x}\\u003cbr\\u003eindex=%{y}\\u003cbr\\u003e=%{marker.color}\\u003cextra\\u003e\\u003c\\u002fextra\\u003e\",\"legendgroup\":\"\",\"marker\":{\"color\":[1,2,2,0,0,2,1,1,2,0,1,1,1,1,0,0,2,1,2,2,2,2,1,2,1,0,0,1,0,2,0,2,2,1,1,2,2,1,0,2,2,1,2,0,1,1,1,0,0,0,1,2,0,2,1,1,0,0,0,0,1,2,0,0,2,2,1,0,1,2,1,0,0,0,0,0,0,0,2,2,0,1,0,1,2,1,1,0,0,2,0,1,1,0,0,0,2,0,2,0,2,1,0,0,2,2,2,2,0,2,0,1,2,0,2,0,1,0,1,2,2,2,2,1,0,0,2,0,2,1,0,0,0,1,0,2,1,2,0,0,2,1,2,2,2,1,2,0,0,2,1,1,1,1,0,0,2,2,2,1,2,2,2,1,1,0,1,2,1,2,1,2,2,0,1,0,1,0,2,1,0,0,0,1,2,1,0,0,2,1,2,0,2,1,2,2,2,2,1,0,2,2,1,1,2,0,1,2,2,2,1,1,1,0,2,1,1,1,2,0,0,1,1,1,1,1,2,2,0,0,2,2,0,1,0,1,2,1,0,2,2,1,1,0,1,2,2,2,2,2,1,1,1,2,2,2,1,1,2,1,2,1,1,2,1,1,1,2,0,1,1,1,2,0,2,0,0,0,1,0,0,1,2,0,0,2,2,0,2,0,2,1,0,2,2,0,2,0,0,2,0,1,1,2,2,0,2,2,1,1,1,0,1,0,1,1,2,1,2,0,0,1,1,0,2,2,2,2,2,2,0,1,1,0,0,0,2,2,0,2,2,0,0,2,2,2,0,2,2,2,2,2,1,0,0,1,1,1,1,2,1,1,2,0,1,1,1,2,1,1,2,0,0,1,1,2,1,0,1,2,2,1,0,2,1,0,1,1,0,2,1,2,1,2,1,2,1,2,2,2,1,0,1,1,1,0,2,0,1,2,2,0,1,2,1,2,2,2,0,2,1,0,2,0,0,0,2,2,0,0,1,1,2,2,0,0,1,1,1,0,0,1,2,0,1,1,0,1,0,1,1,1,1,0,2,0,0,1,2,2,0,2,0,1,0,1,2,1,0,2,0,2,1,1,0,2,0,1,1,1,1,2,0,2,1,0,0,2,2,0,2,1,2,0,0,1,2,1,1,0,2,0,0,2,2,1,0,2,0,0,1,1,2,1,2,1,0,0,2,2,2,2,0,0,2,0,2,2,2,0,1,2,0,2,1,0,2,2,1,0,2,0,0,0,1,0,1,2,1,0,2,0,0,0,0,1,1,0,1,0,1,1,2,2,0,1,2,2,2,2,0,0,1,1,1,2,2,0,0,2,2,2,0,1,1,1,0,1,1,1,2,2,2,2,1,2,0,2,0,0,0,2,1,2,1,1,2,2,1,1,2,0,0,1,0,2,0,0,2,2,2,2,2,1,0,0,1,1,2,2,1,2,1,2,1,0,2,2,0,1,1,1,1,2,2,2,0,1,0,2,2,1,1,1,1,0,0,0,2,1,0,0,2,0,2,1,2,1,0,1,1,1,1,0,1,1,0,1,0,2,0,0,0,1,2,0,1,0,2,0,2,2,1,0,0,1,0,1,0,1,1,1,1,1,0,2,2,1,2,1,0,0,2,0,2,1,1,1,1,2,2,1,0,0,2,0,2,1,0,0,0,0,1,2,1,2,0,0,2,1,1,1,1,1,1,0,0,1,2,2,0,1,2,1,2,1,0,2,1,0,2,2,0,2,1,1,2,2,0,1,1,1,2,2,2,0,2,2,2,0,2,1,2,1,1,2,1,1,2,1,1,2,2,2,2,0,0,2,2,2,0,0,0,2,0,1,2,1,2,0,2,2,0,0,2,2,0,0,0,2,2,1,1,2,0,2,2,2,0,2,2,1,1,2,1,0,1,0,2,1,1,2,0,2,1,0,1,0,2,1,2,2,0,2,0,1,0,0,1,1,1,0,0,1,0,0,0,2,1,1,1,1,1,2,2,0,1,0,0,0,0,0,2,0,2,1,0,1,1,0,2,0,0,2,1,0,2,1,1,0,1,0,1,1,1,1,1,2,2,0,2,0,2,0,1,1,0,0,2,2,1,0,2,0,2,2,0,2,0,0,0,0,2,0,2,1,2,1,1,1,2,2,0,1,1,1,0,2,1,0,0,2,2,1,1,1,0,0,2,2,1,1,2,1,2,2,1,0,2,2,0,1,0,2,1,0,1,2,0,0,1,0,2,1,2,2,1,2,1,0,1,2,2,2,0,2,0,1,1,1,0,1,2,0,2,0,1,2,2,2,2,2,2,2,2,0,0,1,1,0,1,2,1,2,0,1,2,2,2,1,0,2,1,0,2,2,0,0,1,1,2,1,2,2,2,1,1,0,1,1,1,2,1,0,2,0,0,2,2,1,2,0,2,2,1,0,1,1,1,2,2,2,2,2,1,1,0,0,1,2,0,1,1,1,1,0,2,0,2,2,2,1,0,0,2,2,2,2,1,0,0,0,1,0,1,2,0,1,1,1,0,0,2,0,0,0,0,0,1,1,1,2,2,2,2,1,2,2,2,0,0,1,1,2,1,0,2,0,2,2,1,0,1,1,2,1,0,2,2,1,0,1,0,1,2,0,0,0,1,1,0,0,1,2,1,1,1,2,1,2,0,0,2,2,1,1,1,0,1,0,0,2,2,0,0,0,0,1,0,1,0,2,2,2,1,1,0,1,0,0,2,0,1,1,0,2,2,1,1,2,0,0,0,2,0,1,1,0,0,1,1,1,1,2,2,0,0,0,0,2,0,1,2,1,0,1,2,2,2,0,1,2,2,2,1,2,1,0,0,1,0,0,1,1,0,1,2,2,0,0,2,1,1,0,0,2,0,2,2,1,1,0,1,1,2,0,2,2,1,1,1,1,2,1,0,2,1,0,1,1,1,1,0,0,0,0,2,0,2,1,0,1,1,0,2,2,2,2,1,0,2,2,1,1,1,1,2,0,1,0,2,0,1,1,2,0,1,0,2,2,0,0,0,2,1,0,2,0,0,0,0,2,2,0,0,2,1,2,1,0,0,2,2,2,0,0,1,1,1,1,1,0,0,1,1,1,2,1,1,1,1,1,0,2,1,2,1,1,0,1,0,0,0,2,1,1,2,1,0,0,1,1,0,0,0,2,1,1,1,2,0,0,2,0,0,2,1,1,0,0,2,2,2,1,0,2,1,0,2,0,2,1,2,2,2,1,0,2,1,1,2,2,2,2,2,1,1,2,2,0,2,1,0,0,0,0,2,2,0,2,0,1,1,1,2,2,1,2,2,1,0,1,0,2,2,0,2,0,0,2,1,0,1,1,0,2,2,1,2,2,1,2,1,2,0,1,0,1,1,2,1,2,1,0,1,1,2,1,2,2,0,0,0,0,2,1,0,0,0,1,2,0,2,2,1,2,1,2,1,0,1,0,1,0,1,2,1,2,1,1,0,2,1,1,0,2,2,1,2,1,0,0,0,0,1,2,1,2,0,0,0,2,1,1,1,2,2,1,0,2,0,1,2,0,2,2,1,1,0,1,2,1,1,0,0,2,2,1,1,0,1,2,2,1,1,1,0,0,2,1,0,0,2,2,2,1,1,1,2,2,0,0,1,2,2,0,2,2,1,0,1,2,0,0,2,2,1,1,2,1,0,1,0,2,2,1,1,2,0,1,1,2,2,0,1,0,1,0,1,1,2,0,0,2,2,0,1,2,1,1,0,1,0,1,2,0,1,2,0,2,1,2,0,1,0,1,2,0,0,0,0,0,2,0,0,2,1,2,0,0,1,2,2,0,1,0,0,1,2,2,2,2,1,2,1,2,0,2,0,1,0,0,0,2,0,1,1,2,2,0,2,0,2,0,0,0,0,1,2,1,1,0,2,1,0,1,0,1,0,2,2,0,1,1,2,1,0,2,0,2,1,0,2,0,1,1,2,1,2,1,0,1,1,2,1,1,2,2,1,1,0,0,0,2,1,1,1,1,2,0,1,0,1,2,1,2,2,2,2,0,1,0,1,2,2,0,2,2,0,0,1,2,0,1,0,1,0,0,2,1,0,1,2,1,2,2,2,0,1,2,2,0,2,2,0,1,1,2,1,2,0,0,1,2,2,0,0,1,2,2,1,2,2,2,2,1,2,1,1,0,2,2,0,0,0,1,0,1,0,1,1,0,2,2,0,0,2,2,2,0,1,0,2,1,2,1,0,2,2,0,1,2,2,2,0,0,1,1,2,2,1,2,0,1,1,0,1,2,2,2,0,1,0,0,0,0,0,2,1,0,1,2,1,2,2,2,0,2,1,0,0,0,1,0,0,0,1,0,1,1,2,2,2,2,1,1,1,1,2,0,2,0,0,1,0,2,2,0,2,2,0,2,1,2,0,0,2,1,2,2,0,2,1,0,1,1,2,1,1,2,1,0,0,1,0,0,1,2,2,0,1,1,1,1,1,1,0,2,0,1,2,0,1,0,2,0,1,0,1,0,0,1,1,2,0,2,1,1,0,1,2,1,2,1,0,2,0,0,2,1,0,1,0,1,0,0,2,1,1,2,2,2,1,0,0,1,2,0,1,0,2,2,2,0,0,1,1,1,2,2,1,1,2,0,1,2,2,2,2,1,0,0,1,2,1,1,1,2,2,2,0,2,2,2,2,0,0,0,1,1,1,2,2,1,0,2,2,0,2,2,1,2,1,0,1,1,1,0,2,1,1,0,2,1,0,1,1,0,0,1,0,1,2,0,1,1,1,2,2,1,0,1,0,1,2,2,1,1,1,1,2,0,2,0,2,1,2,2,2,1,0,0,0,2,2,1,2,1,0,2,1,2,2,2,0,1,2,1,2,0,2,0,2,2,2,2,0,2,0,1,0,0,2,2,0,0,0,2,1,0,1,2,0,0,2,1,0,2,1,0,2,1,1,2,0,2,2,1,1,0,0,0,2,1,1,2,2,2,2,2,1,1,1,1,1,2,2,1,0,1,0,2,0,2,2,1,1,0,2,1,0,1,2,1,1,0,2,2,1,0,0,0,2,0,0,0,2,2,2,0,1,1,2,0,0,0,1,2,1,0,2,1,2,1,2,2,2,0,1,1,2,0,0,2,1,0,2,1,1,0,1,1,2,2,1,2,0,1,1,2,2,1,1,1,0,0,0,2,2,2,1,1,1,0,0,2,0,0,2,0,1,2,1,2,2,1,0,1,2,0,1,2,0,0,2,0,2,2,2,0,2,0,0,0,2,0,2,0,2,0,1,0,2,0,1,0,2,2,0,0,1,1,2,0,1,0,2,1,2,0,2,0,2,0,1,2,1,1,0,2,2,0,0,0,2,1,0,2,1,1,1,1,2,2,0,2,0,1,2,0,2,0,2,1,0,0,0,0,0,0,0,1,0,0,1,2,2,0,1,0,1,2,2,0,2,2,2,0,0,2,0,0,0,1,2,1,1,2,2,0,1,1,1,2,1,0,2,1,2,0,2,0,2,2,1,0,1,0,1,1,2,0,2,2,2,2,1,0,1,1,2,0,2,1,1,0,2,0,0,2,0,0,0,0,1,0,1,2,0,0,1,1,1,2,0,1,1,0,1,2,2,1,0,0,1,2,0,0,1,2,0,0,0,2,1,0,0,0,0,2,0,2,2,1,0,2,0,1,1,1,0,2,2,2,1,0,1,0,0,2,2,0,1,1,1,2,0,2,2,0,1,0,2,0,1,0,1,0,0,2,0,1,0,2,2,0,1,2,1,2,0,2,0,1,2,1,0,0,2,2,0,1,0,0,0,2,2,1,1,2,1,1,2,1,2,0,1,1,2,0,0,1,0,0,1,2,1,2,1,1,1,0,2,2,0,1,0,1,2,2,0,0,1,0,1,0,2,2,0,2,2,0,2,0,1,1,1,0,2,0,2,0,1,1,1,1,1,2,1,2,1,0,0,1,2,0,2,0,2,0,0,0,0,2,1,2,0,2,2,1,1,1,0,0,1,0,2,2,1,1,0,2,0,1,1,0,1,2,0,0,0,2,0,1,2,1,2,0,2,0,0,1,2,1,2,2,0,0,1,0,0,0,2,1,2,2,2,1,2,1,0,1,2,1,1,1,1,2,1,2,1,1,1,0,0,2,1,1,2,0,2,0,2,2,1,2,0,0,0,1,1,2,0,2,0,2,1,0,2,0,2,2,1,0,0,0,0,2,1,1,2,0,0,2,0,1,2,0,0,2,0,0,1,1,0,1,1,0,2,2,0,2,0,2,2,0,2,1,1,0,1,2,2,2,1,0,2,1,2,2,1,2,2,0,0,0,0,1,1,0,0,1,0,2,2,0,2,1,0,1,1,1,0,0,2,1,0,1,0,0,1,1,0,2,2,2,0,2,1,0,2,2,2,2,1,0,1,2,1,2,0,0,1,1,1,0,0,2,2,0,2,1,0,1,2,1,0,2,2,0,2,2,0,2,2,0,1,1,0,0,0,0,0,2,1,2,2,0,2,1,2,1,0,2,1,1,2,2,1,0,1,0,0,0,0,1,2,1,1,2,0,0,1,0,0,2,2,2,1,1,1,2,2,0,1,0,0,0,1,0,2,0,0,0,0,1,1,0,1,1,1,0,0,1,2,2,0,1,2,2,1,1,1,0,2,0,1,2,2,2,0,0,0,2,1,2,0,2,1,2,0,0,0,1,0,0,0,0,1,0,1,1,0,1,1,0,0,1,2,2,0,1,2,2,0,2,1,0,0,2,0,0,2,1,1,2,0,2,1,1,2,2,1,2,1,1,0,1,2,2,0,1,0,2,2,2,0,0,2,0,2,1,0,1,0,0,2,1,0,2,0,1,2,1,1,1,1,2,2,1,1,1,0,2,1,2,1,0,2,0,2,1,2,2,1,0,2,1,2,1,2,1,1,0,0,1,2,1,2,1,2,1,1,0,0,0,1,2,1,2,1,1,1,2,2,2,1,2,2,1,0,2,0,0,2,1,1,2,0,1,2,0,0,2,0,2,0,0,0,1,0,1,0,2,2,0,2,1,1,1,0,2,0,2,0,0,0,0,0,1,1,2,2,0,2,1,2,1,1,1,2,1,1,1,0,0,0,0,1,0,2,1,2,2,2,0,1,2,1,2,0,0,1,1,1,2,0,2,2,1,2,1,2,1,1,1,2,1,2,2,2,2,1,1,1,1,1,1,1,0,2,2,1,1,2,2,1,0,2,1,1,2,0,1,0,2,1,2,2,0,2,0,2,1,1,0,0,0,0,1,2,2,1,1,2,0,1,1,2,0,0,1,0,1,2,2,1,0,0,1,0,2,0,1,1,2,2,1,0,0,1,0,0,0,0,2,0,1,2,1,0,2,2,0,0,1,0,1,0,0,0,1,1,2,0,0,0,0,0,1,0,0,2,2,2,1,0,0,0,1,1,1,2,1,1,2,0,0,2,1,1,1,1,1,0,1,0,2,1,1,1,1,2,2,1,0,1,2,0,1,2,1,0,2,1,1,0,1,1,1,2,0,2,2,1,2,2,0,2,1,2,1,1,0,2,2,2,0,2,0,2,1,0,2,2,1,0,1,0,2,2,2,1,2,2,1,1,0,0,0,1,1,1,1,2,2,1,0,0,2,0,2,1,0,0,1,0,0,1,0,2,0,1,2,0,0,2,1,0,0,2,1,2,2,0,1,1,0,2,2,2,0,2,1,0,0,0,2,2,2,1,0,1,0,0,2,2,2,1,0,2,1,0,1,1,0,1,2,2,0,2,2,1,1,1,0,2,1,1,0,1,0,0,0,0,1,1,2,1,1,1,2,2,1,1,0,2,0,2,0,1,0,2,1,0,2,1,0,1,1,1,0,1,1,1,0,2,1,0,2,1,2,2,0,0,2,2,1,2,0,2,0,2,0,1,0,2,1,0,0,1,1,0,0,1,1,2,0,0,0,0,0,0,0,1,2,2,1,0,2,0,1,0,2,2,2,1,2,2,0,1,0,1,0,0,0,2,1,1,1,0,1,1,2,2,2,2,2,1,2,0,0,2,0,2,1,1,2,0,1,1,1,1,2,1,2,1,0,2,1,1,1,2,0,2,0,0,0,2,0,0,2,1,2,1,0,0,2,0,2,0,2,1,2,1,1,0,2,1,1,0,0,2,0,2,2,2,1,2,1,0,2,1,2,1,0,0,2,0,1,0,0,1,2,0,2,1,2,0,2,1,2,1,2,1,1,2,0,1,2,0,0,2,2,0,0,1,2,0,1,1,2,1,2,1,0,2,1,2,1,0,0,0,0,2,2,0,0,2,2,1,1,2,1,1,1,2,0,1,1,0,1,2,0,0,2,2,1,0,2,1,1,0,0,0,2,2,0,2,2,0,0,2,1,2,1,0,0,0,1,2,1,2,1,2,1,2,1,1,1,0,0,0,0,1,1,1,1,0,1,1,1,1,0,1,2,0,1,0,1,1,1,0,2,0,2,0,1,1,2,1,1,2,2,0,1,0,2,2,0,1,0,0,2,2,1,1,2,0,2,1,1,0,2,2,1,0,0,2,1,2,2,2,1,2,1,1,2,1,0,0,2,1,1,0,0,1,1,2,0,1,1,2,2,0,2,2,0,1,0,0,2,1,2,2,2,0,2,1,0,2,2,0,0,1,2,2,2,0,0,1,2,0,0,1,2,0,1,0,2,1,0,2,0,0,1,2,2,0,1,1,0,0,1,1,0,2,0,0,0,1,2,1,1,1,0,0,2,0,2,2,2,1,2,2,0,0,2,0,1,1,1,1,0,2,1,1,0,1,0,2,2,1,1,1,1,1,1,2,1,0,0,0,0,1,1,1,2,1,1,0,2,1,2,1,1,1,0,0,1,1,1,2,0,1,2,2,2,1,1,2,1,1,0,0,0,1,1,0,0,0,1,2,0,0,0,1,0,2,0,0,2,2,2,0,0,2,0,1,2,1,2,0,2,1,0,2,0,2,0,0,2,2,0,1,0,1,0,0,2,2,1,1,2,0,2,2,0,0,2,1,1,2,0,0,1,0,0,2,0,0,2,2,2,1,0,2,2,2,2,2,2,0,2,0,0,0,0,0,2,1,0,2,0,2,2,2,2,1,2,0,0,1,2,1,2,2,2,2,1,0,1,0,0,1,2,1,1,0,0,2,0,2,2,2,2,2,2,2,1,1,2,2,2,2,1,2,2,0,1,0,2,1,1,1,0,0,2,0,2,2,2,0,2,2,2,0,2,0,0,2,2,0,2,1,1,1,1,1,1,1,1,2,2,2,0,1,1,2,0,2,1,1,1,2,0,1,2,0,1,2,1,0,0,0,0,1,1,2,2,0,2,2,1,0,2,1,0,1,2,0,2,1,0,0,2,2,0,1,2,0,0,2,2,1,0,2,0,1,2,0,0,0,0,0,2,1,2,1,2,2,0,0,2,2,1,2,1,0,0,2,2,2,1,1,2,1,0,1,0],\"coloraxis\":\"coloraxis\",\"symbol\":\"circle\"},\"mode\":\"markers\",\"name\":\"\",\"showlegend\":false,\"x\":[19.976207733154297,-41.2963752746582,-9.029301643371582,30.287595748901367,46.67390823364258,-48.71760559082031,-23.233179092407227,-1.313600778579712,-26.442073822021484,40.708587646484375,-13.739168167114258,-12.32192325592041,-5.7604193687438965,-1.6193422079086304,20.92633819580078,35.13529586791992,-3.3567161560058594,32.981475830078125,5.237704277038574,-20.201520919799805,-33.10597610473633,-45.331336975097656,16.825157165527344,-42.25509262084961,-4.18959903717041,41.15137481689453,35.96949768066406,5.630122184753418,25.17525863647461,-37.42228317260742,32.23147964477539,-35.4293327331543,-10.93820858001709,9.574599266052246,-25.271778106689453,0.8194934725761414,-18.9993839263916,28.208314895629883,34.31452560424805,-32.30304718017578,-22.665000915527344,-13.346607208251953,2.2107415199279785,44.79238510131836,4.274782657623291,-10.120756149291992,-5.941638946533203,14.349787712097168,19.348371505737305,4.994973659515381,-8.48802375793457,-42.62302780151367,22.407716751098633,-39.27194595336914,-4.10429573059082,-3.5722999572753906,51.10972213745117,20.76520347595215,11.614102363586426,10.23771858215332,25.78791618347168,-24.077810287475586,-3.6123225688934326,11.867633819580078,-17.52521514892578,-23.548221588134766,10.912761688232422,8.198525428771973,35.80498504638672,-32.71294021606445,0.06908170878887177,-12.403203964233398,32.42931365966797,10.699089050292969,15.705581665039062,-17.40937042236328,44.21154022216797,30.91280174255371,-28.013690948486328,-47.317867279052734,-5.277822494506836,-12.578615188598633,30.468351364135742,7.946584701538086,-8.32419490814209,1.5965142250061035,-44.62578582763672,10.756448745727539,47.99777603149414,-19.879772186279297,18.92588233947754,-6.349201679229736,17.749570846557617,19.6286563873291,21.44822120666504,-9.38932991027832,-34.40277099609375,8.012454986572266,-39.2878303527832,38.18372344970703,17.16167640686035,13.697425842285156,48.941925048828125,18.6014347076416,-31.083906173706055,-49.1119270324707,-19.89499855041504,-27.899391174316406,54.286163330078125,-29.234336853027344,-6.197150707244873,34.43002700805664,-40.10118103027344,40.1989860534668,-40.219181060791016,46.05630874633789,12.350537300109863,49.2849006652832,-7.759603977203369,-4.554487705230713,10.16938591003418,-18.41765785217285,-12.71751594543457,8.672776222229004,20.719831466674805,-11.898992538452148,-16.497182846069336,10.68420124053955,-37.445377349853516,-8.141766548156738,14.364287376403809,-23.803974151611328,35.5054931640625,29.36244773864746,5.171240329742432,-30.369014739990234,25.18589210510254,-51.8364143371582,53.506103515625,24.87308120727539,-28.474821090698242,-15.821577072143555,-13.812919616699219,8.967083930969238,-44.448638916015625,-9.112723350524902,3.03493070602417,44.322872161865234,-0.5776191353797913,-34.855224609375,7.427088260650635,9.275806427001953,10.938199043273926,-26.879592895507812,17.493812561035156,44.06397247314453,-14.392204284667969,-51.418373107910156,2.6665923595428467,16.934261322021484,7.796650409698486,5.463395595550537,-0.47809669375419617,-24.192890167236328,-9.691239356994629,34.46111297607422,4.5120344161987305,-16.009449005126953,34.08412551879883,-33.76133346557617,-7.657978057861328,-45.212608337402344,-45.69887924194336,9.755529403686523,-5.4019389152526855,48.00309371948242,21.09408187866211,34.79316329956055,-36.938228607177734,-8.642281532287598,21.038076400756836,9.600475311279297,44.05248260498047,0.17510969936847687,-2.7114737033843994,-7.7914605140686035,33.38230895996094,29.52094268798828,-39.95768737792969,-25.96004867553711,-44.4987678527832,16.476072311401367,-15.758768081665039,-1.6236706972122192,-12.063522338867188,-49.97867965698242,-44.841453552246094,5.478031158447266,-12.543355941772461,51.071571350097656,-36.05990982055664,-14.678592681884766,29.677536010742188,20.271900177001953,-13.565402030944824,26.19404411315918,2.5635836124420166,14.68356704711914,-22.630876541137695,-49.19373321533203,-13.328858375549316,9.77000904083252,9.136932373046875,29.247251510620117,-29.88681411743164,2.4050135612487793,-6.6071319580078125,-10.57871150970459,7.3861799240112305,12.262137413024902,34.5316276550293,10.995413780212402,-26.610206604003906,-12.98420524597168,-16.779394149780273,-28.473337173461914,-2.0623815059661865,-5.583432197570801,17.35591697692871,48.9683723449707,-42.0273323059082,-19.8575439453125,23.148887634277344,25.980308532714844,26.57679557800293,1.7317118644714355,-43.96711349487305,2.9026167392730713,38.88336944580078,-48.870849609375,-15.340197563171387,12.622182846069336,17.831117630004883,56.66402053833008,17.976696014404297,9.738361358642578,-32.51625061035156,3.83996319770813,-35.46432113647461,-30.184049606323242,12.162672996520996,10.015320777893066,-10.068133354187012,-47.94416046142578,16.63985824584961,-37.37080764770508,-14.736948013305664,12.47291088104248,8.131357192993164,9.870818138122559,0.46019014716148376,-4.410584449768066,-9.7481107711792,-33.307918548583984,-28.516775131225586,-2.7002792358398438,-11.335519790649414,4.215040683746338,43.810672760009766,-16.74005889892578,-5.907331943511963,6.7695417404174805,-18.678531646728516,-12.83116340637207,-47.74421691894531,-13.165148735046387,14.336749076843262,-8.264843940734863,35.055870056152344,47.58347702026367,39.74488067626953,5.208324909210205,-33.64705276489258,21.165077209472656,29.721580505371094,-35.2635383605957,-34.29344177246094,19.807912826538086,-37.561920166015625,45.73874282836914,-32.99359893798828,29.225093841552734,21.237327575683594,-17.465377807617188,-21.75693130493164,29.947206497192383,-52.966209411621094,32.43803405761719,26.046966552734375,-40.03759002685547,43.67344284057617,1.6188627481460571,25.26668930053711,-38.8667106628418,-25.74281883239746,25.769285202026367,3.163206100463867,0.4106653332710266,19.70834732055664,-2.8783984184265137,11.17782974243164,-8.202493667602539,-4.6934123039245605,21.080490112304688,-26.356462478637695,27.07146644592285,-23.167564392089844,-9.282520294189453,-23.277751922607422,12.485125541687012,6.756150722503662,6.4645843505859375,-0.17732830345630646,-8.61435604095459,-27.3217716217041,-40.657142639160156,11.737320899963379,-5.896088600158691,-30.505008697509766,-50.57611846923828,46.31249237060547,19.659772872924805,22.97031021118164,24.047618865966797,39.98754119873047,16.12970733642578,10.517906188964844,-40.04542922973633,-7.855067729949951,23.796586990356445,11.100465774536133,52.367191314697266,23.4440860748291,-35.00037384033203,8.76536750793457,49.01608657836914,38.546897888183594,-24.701292037963867,-42.5948371887207,-21.1829891204834,-30.471208572387695,-23.738637924194336,-29.7813777923584,42.51533889770508,27.46967315673828,-13.081355094909668,-25.471433639526367,29.039920806884766,-13.295875549316406,8.165242195129395,-12.781182289123535,3.9459338188171387,-18.07105255126953,43.06456756591797,-5.086162567138672,-21.81279182434082,-34.91152572631836,-11.620720863342285,14.894268989562988,-14.976414680480957,-16.803977966308594,24.160585403442383,-4.336665153503418,9.709171295166016,-8.912389755249023,0.7763072848320007,-0.17819635570049286,44.27658462524414,12.094072341918945,-22.640920639038086,-23.683303833007812,-21.145721435546875,17.595829010009766,-4.881635665893555,2.6788296699523926,9.950202941894531,-20.9565486907959,8.889134407043457,56.63374710083008,-22.251110076904297,15.10023021697998,-20.97164535522461,7.1027655601501465,-49.32786560058594,1.846910834312439,7.977301597595215,3.5422966480255127,-33.94308090209961,17.261964797973633,-9.983325958251953,-8.317232131958008,14.324225425720215,1.1936469078063965,-5.238210678100586,17.099794387817383,12.614558219909668,-21.67295265197754,41.88968276977539,9.282319068908691,-54.672245025634766,-25.381258010864258,0.6344665288925171,-18.118755340576172,-10.85379409790039,9.664238929748535,-0.4989772140979767,-53.14357376098633,-11.29770278930664,-6.413541316986084,-43.72290802001953,33.408042907714844,29.76180648803711,-51.062408447265625,46.06805419921875,10.42548942565918,31.31992530822754,-43.67576217651367,-21.05616569519043,13.7554292678833,29.26854705810547,27.028247833251953,-11.951929092407227,1.4835957288742065,-43.918304443359375,29.30533790588379,18.901880264282227,3.841299057006836,3.4663734436035156,-11.152616500854492,-15.053084373474121,40.3930778503418,-29.033748626708984,-23.616443634033203,35.374717712402344,-15.507543563842773,23.46332550048828,8.478453636169434,-2.8820908069610596,39.42427062988281,-9.252096176147461,18.780654907226562,16.829099655151367,-0.17465902864933014,27.8828067779541,-39.34037780761719,16.757431030273438,28.591703414916992,9.961857795715332,-47.71513748168945,-36.92784118652344,-14.190756797790527,-42.99241256713867,15.183293342590332,-3.4721624851226807,13.306100845336914,-15.686216354370117,-38.73927307128906,-24.979127883911133,22.260364532470703,-17.447528839111328,45.54515838623047,-16.18001365661621,-6.8913469314575195,12.69017219543457,21.578203201293945,-3.8228323459625244,27.11874771118164,8.378996849060059,-8.108246803283691,2.773837089538574,4.987527370452881,-23.31623077392578,2.762390613555908,-10.955265045166016,1.989855170249939,28.40826416015625,29.291990280151367,-47.99938201904297,-6.090859413146973,40.22577667236328,-48.534549713134766,-0.6037562489509583,0.11355676501989365,-27.640817642211914,51.139305114746094,19.011598587036133,-13.344515800476074,-17.55971336364746,-2.2160074710845947,27.115737915039062,-5.127797603607178,32.86825180053711,12.225325584411621,3.501932382583618,-38.3201789855957,28.198198318481445,10.952807426452637,-31.969884872436523,-1.716946005821228,-12.177578926086426,21.669631958007812,-22.563657760620117,-1.4846218824386597,31.731992721557617,-38.40916442871094,29.867734909057617,46.492313385009766,28.39775848388672,-10.914790153503418,-23.066911697387695,-47.0485725402832,-43.651123046875,49.73673629760742,27.656633377075195,-38.94880676269531,-3.860424280166626,-30.593114852905273,-11.347301483154297,-45.82672119140625,6.1802897453308105,28.91777801513672,-44.98737335205078,50.37186813354492,-6.727652549743652,12.648507118225098,19.61966323852539,-25.858089447021484,-11.197681427001953,-15.030839920043945,39.66503143310547,-51.40126419067383,19.51443862915039,17.30873680114746,29.2634220123291,22.182287216186523,30.3865909576416,-1.7192059755325317,-49.501163482666016,-10.146291732788086,6.569400310516357,-23.584308624267578,-6.15980863571167,12.296442031860352,13.923179626464844,-20.586706161499023,-6.744592666625977,-0.29423788189888,38.462928771972656,2.0846126079559326,27.67692756652832,-19.67172622680664,3.6609795093536377,-23.145906448364258,-3.087951183319092,53.36082458496094,14.87847900390625,-42.95799255371094,-15.195091247558594,-16.633058547973633,-10.08968734741211,46.52445602416992,39.348323822021484,-9.667448043823242,6.0474419593811035,-8.208758354187012,2.651841163635254,-33.834712982177734,49.29347229003906,37.7633171081543,-42.498268127441406,3.1104815006256104,-26.187875747680664,27.59380531311035,-13.215224266052246,-12.625174522399902,19.458730697631836,36.36058807373047,9.988337516784668,-15.390533447265625,5.3519673347473145,-16.52056312561035,-38.624515533447266,-4.629785537719727,2.6718859672546387,5.382447242736816,-30.89209747314453,46.572166442871094,4.595037937164307,52.90045928955078,11.216622352600098,50.66679763793945,-22.43174171447754,19.749841690063477,-37.38227462768555,6.789989471435547,-21.608739852905273,-28.385709762573242,-46.4379997253418,12.125495910644531,-10.77231216430664,-39.31576919555664,49.96913528442383,21.276315689086914,8.0239839553833,14.40768814086914,3.9986047744750977,36.62113571166992,-3.523179531097412,-15.524250030517578,-41.23975372314453,-42.79220962524414,-12.623190879821777,-4.692564010620117,30.466115951538086,48.60708999633789,17.551830291748047,19.62065887451172,-0.4363804757595062,-42.08180236816406,7.851701736450195,7.319485664367676,-37.33827590942383,-12.122678756713867,-16.752212524414062,-12.51005744934082,11.145956993103027,-17.89828872680664,2.362898111343384,50.00721740722656,-13.413533210754395,22.821561813354492,-10.24337100982666,-9.871027946472168,-53.696292877197266,-24.915708541870117,13.855264663696289,21.614673614501953,0.7694871425628662,21.346317291259766,-32.022857666015625,-8.962921142578125,25.786746978759766,-25.002120971679688,0.04562851041555405,-13.073814392089844,9.734951972961426,29.153457641601562,36.417152404785156,-1.7338429689407349,32.75716018676758,29.08526611328125,36.45683670043945,-31.527158737182617,0.9623443484306335,-33.9664306640625,-12.805849075317383,-24.46778106689453,-23.593318939208984,14.41213607788086,5.125466346740723,-22.413198471069336,-7.378157138824463,-5.179571151733398,-2.0147545337677,-11.42006778717041,29.621944427490234,32.60307312011719,-12.847820281982422,12.728947639465332,-33.57310485839844,-3.99221134185791,13.500524520874023,-3.374706745147705,15.454732894897461,-54.37931823730469,53.5512809753418,-13.499276161193848,-0.41882002353668213,-0.6753327250480652,14.577731132507324,-6.692617893218994,-18.236446380615234,18.82756805419922,-5.998990058898926,48.08226013183594,-5.714848041534424,0.6167406439781189,20.77517318725586,19.612646102905273,-20.16493034362793,-23.736839294433594,-45.2839241027832,-21.65590476989746,3.7749569416046143,34.20703125,-34.70526885986328,-44.92270278930664,1.4487287998199463,-18.825176239013672,30.428726196289062,33.00786590576172,47.65312576293945,-40.5192985534668,11.612014770507812,-10.663207054138184,12.592824935913086,8.007611274719238,6.176413059234619,-23.638044357299805,-35.896488189697266,-29.071949005126953,23.526540756225586,42.7204475402832,51.71833419799805,-6.628005027770996,18.954395294189453,-45.32521057128906,23.04154396057129,31.664093017578125,7.470058917999268,14.141584396362305,-17.580730438232422,-3.328648090362549,-50.337894439697266,-14.051759719848633,-35.511566162109375,11.61906623840332,-9.354104042053223,7.4989213943481445,-5.047636985778809,-28.238601684570312,18.56736183166504,-5.635599136352539,8.065564155578613,0.03974263742566109,10.359903335571289,53.06389617919922,17.02161407470703,-36.67136764526367,-49.41226577758789,-5.041189670562744,-15.194316864013672,7.008771896362305,15.415003776550293,-16.229555130004883,7.8880391120910645,25.522584915161133,-27.0432186126709,-16.004776000976562,48.37760925292969,-38.991493225097656,11.72024917602539,27.257734298706055,-33.75860595703125,17.483097076416016,13.498526573181152,-48.536476135253906,-1.0465303659439087,14.168723106384277,20.00724983215332,-14.147828102111816,-12.226069450378418,-0.2830277383327484,-12.451298713684082,7.447573184967041,7.679279327392578,-18.954633712768555,-36.121952056884766,-37.75645446777344,52.69456481933594,0.5637423992156982,29.494112014770508,-16.683679580688477,-4.878902435302734,-22.170040130615234,-37.663902282714844,23.68971061706543,12.39255142211914,12.235991477966309,3.9842214584350586,4.933537483215332,15.862446784973145,-6.558490753173828,-17.258827209472656,-8.215489387512207,53.2978515625,46.868804931640625,-20.045995712280273,-51.49940872192383,-36.598384857177734,37.966678619384766,-7.075778484344482,24.234651565551758,5.70433235168457,14.142887115478516,30.14580726623535,-12.106147766113281,15.948224067687988,-53.025718688964844,39.36231994628906,-28.460437774658203,-45.03203582763672,-1.5634876489639282,33.67092514038086,-35.30915069580078,-22.609922409057617,52.67243957519531,11.514878273010254,33.723304748535156,-37.14381790161133,-9.71439266204834,0.4001449942588806,19.723302841186523,-37.47338104248047,20.228736877441406,3.2649848461151123,-52.456573486328125,-21.689315795898438,32.200645446777344,-42.5639762878418,-22.059831619262695,35.057918548583984,11.539360046386719,-36.54861831665039,-20.952356338500977,29.355674743652344,-22.31793975830078,31.588714599609375,-18.982553482055664,-10.014544486999512,12.985541343688965,-17.623271942138672,4.220359802246094,-29.105878829956055,-14.116302490234375,32.84615707397461,22.207477569580078,44.679561614990234,0.1306486427783966,5.822998046875,-43.08574295043945,-18.037702560424805,11.010241508483887,-20.755170822143555,21.57474708557129,-11.387601852416992,-14.455053329467773,26.30043601989746,-9.857857704162598,8.776960372924805,22.083148956298828,20.89507293701172,18.546369552612305,2.7659761905670166,-2.435783624649048,42.550140380859375,6.514533996582031,-42.75380325317383,6.526030540466309,27.343481063842773,-16.947750091552734,-23.23091697692871,0.37643831968307495,-34.12567901611328,-46.51385498046875,19.419227600097656,-9.420541763305664,47.34294509887695,34.72170639038086,13.999555587768555,39.39760971069336,37.180198669433594,-34.6819953918457,-5.477078437805176,-11.365435600280762,29.82086181640625,20.37210464477539,20.125141143798828,-9.812596321105957,-7.793432712554932,-53.28837203979492,14.539175033569336,22.148075103759766,-8.482316017150879,-13.449536323547363,23.66933822631836,4.617743492126465,4.260518550872803,-24.93691062927246,24.945186614990234,-2.0776398181915283,42.2373046875,10.044918060302734,19.877361297607422,-5.732848644256592,-15.082255363464355,-0.05072605609893799,7.654349327087402,-50.26982116699219,7.30007266998291,-7.203735828399658,12.91793441772461,-27.394887924194336,40.10098648071289,35.26834487915039,13.776728630065918,-3.731602668762207,12.102646827697754,-4.21419620513916,-35.571083068847656,12.436225891113281,-10.08764934539795,-40.715492248535156,22.8569393157959,-46.54310607910156,-17.366111755371094,52.19778823852539,-18.553754806518555,-9.780250549316406,34.255577087402344,21.605745315551758,5.503965377807617,7.307269096374512,22.257062911987305,-52.11552429199219,8.823756217956543,-14.566211700439453,-2.9199814796447754,-11.534547805786133,-1.923396110534668,-33.21932601928711,-14.659067153930664,50.14284896850586,20.231639862060547,6.032686233520508,-11.46790599822998,48.35340118408203,-36.900146484375,9.903054237365723,4.055679798126221,19.68266487121582,-17.67108154296875,-22.675769805908203,-8.083354949951172,-21.601476669311523,20.65599250793457,19.071691513061523,16.987512588500977,-1.162614107131958,-41.93177795410156,21.077594757080078,-2.1713013648986816,-47.39985656738281,-12.392084121704102,-22.03645133972168,-17.033964157104492,15.589945793151855,43.00798034667969,8.366625785827637,-38.248252868652344,23.06130599975586,10.729690551757812,13.93746280670166,-8.41878604888916,-9.859009742736816,38.10190963745117,25.144739151000977,-24.801807403564453,29.605220794677734,39.953834533691406,8.247091293334961,4.885408401489258,10.123319625854492,11.153426170349121,-52.438819885253906,-40.6161003112793,-14.645803451538086,-33.2531623840332,-8.615375518798828,36.022132873535156,11.060735702514648,5.696688175201416,-36.2099723815918,-20.50057029724121,29.5911865234375,-25.069778442382812,53.06116485595703,-4.758686065673828,5.587676525115967,24.07735252380371,-9.074891090393066,4.585058212280273,7.778016567230225,32.030887603759766,-49.424652099609375,15.76155948638916,10.537566184997559,-40.50068283081055,-3.651822328567505,-38.340999603271484,-24.414154052734375,-39.442806243896484,3.264545440673828,-45.4100341796875,-2.4130237102508545,48.869747161865234,24.942909240722656,14.112299919128418,23.96904182434082,49.357383728027344,-1.0900691747665405,-1.5677846670150757,11.926986694335938,-34.078941345214844,36.191986083984375,-7.091933250427246,-37.632179260253906,7.5177202224731445,5.556743621826172,-20.228416442871094,46.569400787353516,-50.5959587097168,-12.744891166687012,12.438454627990723,-33.61113739013672,-44.02824783325195,40.21687316894531,14.152277946472168,18.803817749023438,17.45000457763672,-30.6749210357666,17.262266159057617,-43.85065460205078,-17.131460189819336,-25.71971893310547,-13.056702613830566,-6.019951820373535,11.947213172912598,22.556730270385742,-25.540496826171875,7.434067726135254,-41.633304595947266,-10.798619270324707,31.78445816040039,20.242420196533203,49.01849365234375,53.96697235107422,-25.569454193115234,-15.625364303588867,-0.5663965344429016,3.859166383743286,9.326194763183594,-45.45847702026367,15.633249282836914,31.828046798706055,53.54622268676758,3.5385708808898926,-27.594480514526367,-0.12869378924369812,-11.794632911682129,-45.15843200683594,-23.231740951538086,-28.423887252807617,2.8710687160491943,16.534303665161133,-19.239227294921875,38.032203674316406,31.658126831054688,3.8480796813964844,-18.241254806518555,21.898880004882812,-24.774953842163086,17.65884017944336,-16.335620880126953,-9.341033935546875,24.46623420715332,-42.28327941894531,31.744890213012695,-1.318365454673767,-53.27360916137695,-18.946836471557617,20.94232940673828,28.396160125732422,22.504480361938477,-37.50680160522461,-31.979419708251953,13.972801208496094,-30.043027877807617,35.315921783447266,-13.755846977233887,48.856693267822266,-31.964414596557617,-7.649283409118652,38.74661636352539,-14.85693645477295,-22.83064079284668,-17.73280143737793,-15.851094245910645,-24.405492782592773,7.891820907592773,-6.96036434173584,30.151994705200195,-28.286460876464844,13.582657814025879,26.41520881652832,20.134328842163086,44.944705963134766,18.3967342376709,4.586236953735352,4.4330153465271,25.040542602539062,-19.070924758911133,3.239409923553467,26.06169891357422,-33.303958892822266,-1.3852717876434326,17.573192596435547,-29.861440658569336,-8.421127319335938,1.284429907798767,54.487091064453125,3.2535011768341064,0.6023733615875244,-48.927146911621094,-7.775103569030762,-3.318669557571411,-34.86814498901367,12.754465103149414,-53.770042419433594,7.708906173706055,20.30424690246582,53.29652404785156,-12.585527420043945,-3.1872735023498535,-37.25279235839844,17.097360610961914,33.25117874145508,-44.030296325683594,-14.559457778930664,-7.311066627502441,20.330211639404297,3.2105801105499268,30.422590255737305,-10.275737762451172,-21.0226993560791,11.684590339660645,-8.133317947387695,29.000770568847656,29.037303924560547,-43.89207458496094,-0.34558388590812683,29.945680618286133,-16.53700828552246,-13.972272872924805,-7.956440448760986,11.814454078674316,-3.2076003551483154,-22.422021865844727,11.002318382263184,-8.916275978088379,34.00613021850586,26.973495483398438,-38.136444091796875,-4.201266765594482,1.8662891387939453,31.5116024017334,-0.11941122263669968,-3.3616647720336914,-28.642227172851562,14.678505897521973,-9.699278831481934,0.12366891652345657,-53.38682556152344,10.127825736999512,36.939884185791016,12.59625244140625,-4.369788646697998,21.077810287475586,19.00278663635254,19.492996215820312,45.565635681152344,-55.21626663208008,-47.987213134765625,-46.18415832519531,-1.8045393228530884,-10.011837005615234,-5.576775550842285,-7.60146951675415,28.85268211364746,10.919988632202148,-23.36176109313965,53.28599166870117,3.0115749835968018,-21.98597526550293,9.509143829345703,-17.878772735595703,-41.92429733276367,25.083866119384766,13.121444702148438,-21.241641998291016,-7.713118553161621,20.58987808227539,23.907682418823242,-35.6651496887207,41.87604904174805,4.994663238525391,-29.172800064086914,47.2275276184082,-0.19386132061481476,-11.560659408569336,-9.472986221313477,4.164827346801758,15.935796737670898,-22.539257049560547,-35.339969635009766,28.088401794433594,26.872920989990234,24.006240844726562,-4.738314151763916,5.15957498550415,10.39155101776123,-0.22966226935386658,-7.6069655418396,21.40472412109375,27.372760772705078,15.409439086914062,-38.40829849243164,-12.98598575592041,-4.558976173400879,0.5492977499961853,17.763587951660156,4.356835842132568,-21.101133346557617,-33.00064468383789,10.620244979858398,-27.92131805419922,21.32204818725586,0.9125251770019531,16.77757453918457,-3.977206230163574,-33.530738830566406,28.428810119628906,-12.402274131774902,-0.5377218127250671,40.28977966308594,-3.647345542907715,0.8228135704994202,-5.811645984649658,-40.249534606933594,11.752164840698242,-36.78356170654297,23.973115921020508,-25.556427001953125,45.67359161376953,39.121856689453125,-24.219499588012695,40.684791564941406,-4.560449600219727,1.6877093315124512,1.2441309690475464,-29.42134666442871,43.53355407714844,6.259323596954346,22.656139373779297,-27.006126403808594,41.405818939208984,-49.46463394165039,-48.61212158203125,14.004977226257324,-15.000801086425781,10.561809539794922,-17.12787628173828,2.9667015075683594,-44.840023040771484,39.84712600708008,-22.381986618041992,-12.768476486206055,-5.0421061515808105,-14.752920150756836,-24.2047061920166,24.227079391479492,1.4398242235183716,21.31951332092285,-13.526174545288086,29.846637725830078,11.600451469421387,-38.34605026245117,38.73815155029297,8.079727172851562,9.759506225585938,9.767142295837402,24.637636184692383,-7.63521671295166,51.65631866455078,-31.622709274291992,-1.172171711921692,-23.941667556762695,-29.229917526245117,2.378255844116211,38.762550354003906,-35.954246520996094,-52.35382080078125,-5.455198764801025,-22.563602447509766,-15.630730628967285,-2.4109182357788086,-33.42531967163086,19.573408126831055,-11.083595275878906,16.252004623413086,-40.64512634277344,32.73573303222656,3.044492244720459,-17.329862594604492,-8.284483909606934,10.885604858398438,3.014586925506592,51.42749786376953,-43.62912368774414,6.373032093048096,-7.218171119689941,14.33523178100586,38.278541564941406,-53.71968460083008,35.35203170776367,51.18837356567383,-53.06153106689453,23.47659683227539,37.86484909057617,-7.008016586303711,19.500228881835938,-21.545391082763672,-42.772579193115234,-44.605323791503906,37.35196304321289,-40.311241149902344,11.897214889526367,-15.619129180908203,12.323372840881348,15.240479469299316,14.36341667175293,-41.956600189208984,-33.19816589355469,-39.04007339477539,51.09299087524414,9.893444061279297,-11.14689826965332,9.77832317352295,4.360248565673828,12.363944053649902,1.610038161277771,20.95558738708496,-6.924832344055176,3.2972049713134766,-21.56899642944336,-12.480311393737793,1.0842169523239136,14.563148498535156,-7.072591781616211,17.752159118652344,-24.53706932067871,-44.739437103271484,33.79151916503906,-17.270835876464844,-4.631320953369141,7.224042892456055,-15.592704772949219,25.625625610351562,12.129438400268555,-24.70232582092285,22.82275390625,42.2172966003418,12.70574951171875,-45.52434158325195,-30.500118255615234,-5.616278648376465,3.194692611694336,16.796693801879883,25.800310134887695,14.473885536193848,-6.200929641723633,-24.385229110717773,30.318553924560547,18.58180046081543,33.130462646484375,-43.96895980834961,32.945167541503906,10.72445297241211,-13.797000885009766,-2.3472225666046143,12.851353645324707,8.819127082824707,-20.267244338989258,-6.3810038566589355,12.171609878540039,-12.406432151794434,3.618539333343506,-4.976644039154053,30.184661865234375,54.65470886230469,-22.261608123779297,-49.20366668701172,-28.266983032226562,20.597644805908203,14.415046691894531,-33.3641242980957,29.892414093017578,37.34585189819336,-31.110340118408203,31.652719497680664,-13.845726013183594,14.028947830200195,-7.195274829864502,-39.48308563232422,-51.00804901123047,-21.061817169189453,25.740089416503906,6.173294544219971,15.368560791015625,-2.2227249145507812,-20.55563735961914,1.6979620456695557,-25.889062881469727,-10.910170555114746,-13.364202499389648,33.93881607055664,-0.31464529037475586,-12.944076538085938,-14.228666305541992,54.08422088623047,-7.622717380523682,6.17533016204834,13.428313255310059,9.659892082214355,-7.36888313293457,-17.17909812927246,-45.633079528808594,-41.43505096435547,9.088485717773438,44.49666213989258,37.94331741333008,22.05668067932129,12.027056694030762,32.869102478027344,-55.12410354614258,-45.10206604003906,30.984800338745117,-24.764751434326172,-11.248498916625977,-12.104479789733887,1.9891855716705322,-1.5411227941513062,47.254398345947266,-26.698637008666992,-53.10800552368164,6.6549577713012695,10.777907371520996,16.61180877685547,18.385602951049805,-13.64738655090332,-13.337791442871094,51.09600067138672,19.218734741210938,18.343685150146484,35.605247497558594,7.939028263092041,-20.814922332763672,-11.521100997924805,-45.74082946777344,-7.823622226715088,-15.704347610473633,-19.37996482849121,-3.4602887630462646,-25.823074340820312,51.744346618652344,-10.882243156433105,40.38289260864258,-12.238309860229492,25.337718963623047,-14.479750633239746,1.5929884910583496,-51.3914909362793,-24.121435165405273,48.65365982055664,-13.377248764038086,-1.7119345664978027,-22.245296478271484,16.354965209960938,-9.083168029785156,-50.64086151123047,26.463764190673828,33.041038513183594,37.49076843261719,39.38637924194336,-52.213436126708984,32.81983947753906,15.102075576782227,17.95151710510254,47.91239547729492,-27.674144744873047,-3.1331405639648438,46.13886260986328,-32.791690826416016,-42.77539825439453,-1.1866446733474731,3.1211843490600586,-25.307510375976562,-3.4657950401306152,18.306692123413086,23.19053077697754,1.7544070482254028,18.78978729248047,0.005739110987633467,29.148296356201172,2.523054599761963,-44.6395378112793,-24.887401580810547,-21.86410903930664,19.414297103881836,9.52211856842041,9.807433128356934,6.915440082550049,-14.667638778686523,-16.509946823120117,15.032764434814453,-1.870597243309021,-46.78076171875,-16.556957244873047,-29.368701934814453,7.137243270874023,-3.192277193069458,-3.540684461593628,45.14909744262695,12.498991012573242,-3.4679975509643555,-39.29098892211914,32.19369125366211,-21.338830947875977,32.90261459350586,42.511924743652344,15.802001953125,-17.874372482299805,-17.629291534423828,-12.356382369995117,0.8471933603286743,-32.557029724121094,-33.07941818237305,-7.069577217102051,28.788454055786133,-26.04801368713379,38.95875549316406,14.464762687683105,14.617570877075195,21.884395599365234,-7.751126766204834,-25.354097366333008,-2.1550920009613037,16.32742691040039,42.96907043457031,10.57497501373291,-7.9067277908325195,-15.4921293258667,18.12793731689453,27.631715774536133,30.832958221435547,-41.337764739990234,-34.3012580871582,-8.849404335021973,-14.131383895874023,45.54693603515625,21.88223648071289,-22.22915267944336,-51.297027587890625,-21.19074058532715,-6.24623441696167,8.258255958557129,13.858311653137207,25.604291915893555,-37.25368881225586,0.09331944584846497,19.364356994628906,27.482135772705078,-43.535797119140625,-14.578828811645508,13.0646333694458,-35.638126373291016,21.32090187072754,9.365945816040039,3.6841976642608643,-24.460020065307617,20.96686363220215,51.66570281982422,10.08745002746582,-32.45957946777344,-14.590038299560547,30.984533309936523,-28.822790145874023,-32.90207290649414,12.557509422302246,7.109803199768066,29.75699806213379,-18.067453384399414,-11.081243515014648,1.9310301542282104,16.74769401550293,-39.065818786621094,-16.71331787109375,16.568798065185547,14.174822807312012,-24.558837890625,38.50050354003906,1.7193992137908936,21.534788131713867,-26.65250015258789,1.720832109451294,9.345314979553223,-18.65322494506836,-40.303855895996094,0.7733220458030701,9.18587875366211,-25.09121322631836,6.509511947631836,-50.967529296875,36.84931564331055,11.585741996765137,31.069534301757812,-24.597883224487305,33.416526794433594,32.758541107177734,12.092989921569824,8.082782745361328,-3.369123697280884,6.997425556182861,-10.425848007202148,-17.879661560058594,-8.237951278686523,-5.37152099609375,-53.405845642089844,9.790504455566406,24.435375213623047,-17.922788619995117,4.886005401611328,44.328025817871094,-16.856719970703125,-37.68681335449219,10.000977516174316,-1.4318287372589111,-34.06594467163086,19.352216720581055,-33.35959243774414,21.161954879760742,-5.284096717834473,13.341137886047363,-16.8034610748291,40.73194122314453,25.862579345703125,-33.98564529418945,49.03706359863281,31.91518211364746,-12.583929061889648,11.311179161071777,5.578688144683838,-52.13648223876953,11.110268592834473,-5.219196796417236,-30.5123348236084,33.6901741027832,-50.60957717895508,32.430904388427734,-9.999189376831055,21.23048973083496,-4.017506122589111,-22.492156982421875,15.621134757995605,17.060625076293945,35.40476989746094,24.75092887878418,24.667280197143555,-29.197311401367188,-39.29275894165039,-17.337779998779297,-45.981903076171875,-8.24250316619873,-13.321101188659668,5.979213714599609,-19.56058120727539,2.1327707767486572,-38.03555679321289,25.54953384399414,25.994592666625977,27.487958908081055,11.351529121398926,31.61712074279785,-45.67802047729492,48.099769592285156,-12.926897048950195,33.148189544677734,-33.02482223510742,-32.183311462402344,39.51947784423828,-35.28702163696289,-3.2159695625305176,-45.04883575439453,31.072124481201172,23.038175582885742,-2.6588428020477295,49.36058044433594,22.603168487548828,-42.86011505126953,4.7671685218811035,-9.019073486328125,21.77188491821289,-1.2071864604949951,-25.320405960083008,2.9504141807556152,-11.981643676757812,7.958345413208008,-1.5330668687820435,27.192848205566406,-10.840462684631348,-29.803409576416016,18.23133087158203,27.730005264282227,-2.639747142791748,-26.245037078857422,-25.998844146728516,18.19561195373535,-32.38945770263672,2.1002774238586426,-26.01516342163086,31.51117706298828,23.080339431762695,-27.56373405456543,32.61207580566406,-2.614078998565674,9.325801849365234,0.3470393419265747,7.802275657653809,3.4785101413726807,9.533272743225098,13.8417387008667,-15.053939819335938,4.595895290374756,-45.50362014770508,8.431436538696289,-24.461170196533203,3.1276609897613525,-36.7472038269043,18.276710510253906,-16.677444458007812,25.21328353881836,42.321685791015625,19.01502799987793,1.395437479019165,4.050086975097656,-13.33603286743164,-3.151315927505493,-26.078405380249023,-4.665266513824463,21.140769958496094,-23.12505340576172,31.532485961914062,-19.083492279052734,-47.57672119140625,8.074172973632812,7.6717987060546875,-25.69353485107422,-12.63668441772461,-54.73643493652344,24.257022857666016,29.900175094604492,52.61748504638672,31.817047119140625,-29.735332489013672,-17.673099517822266,-19.420793533325195,-13.342456817626953,-24.733829498291016,31.29667854309082,18.150083541870117,0.4981832504272461,-0.8386908769607544,7.709499359130859,2.4100289344787598,43.145267486572266,4.187742710113525,7.743370532989502,31.955615997314453,-18.003509521484375,22.23766326904297,53.00038146972656,-16.341623306274414,-21.261682510375977,30.553482055664062,-39.56855392456055,-47.911258697509766,-34.330257415771484,-19.256513595581055,-9.416903495788574,-7.171750068664551,-20.205957412719727,-2.580387592315674,-22.70002555847168,11.056042671203613,36.648380279541016,-11.011014938354492,32.33550262451172,6.265463829040527,-14.051250457763672,-43.510562896728516,52.33200454711914,19.15514373779297,5.301245212554932,-49.22633743286133,-10.963165283203125,54.102203369140625,-5.638005256652832,-3.3543009757995605,9.875534057617188,-15.555994987487793,31.184490203857422,-5.9964518547058105,-37.31174850463867,-15.15610408782959,-36.110538482666016,13.646355628967285,-27.861291885375977,-0.6173806190490723,0.46923109889030457,25.802690505981445,-28.89731216430664,-38.949676513671875,11.111773490905762,45.05463409423828,18.724943161010742,-18.66978645324707,32.795902252197266,28.85545539855957,21.202037811279297,32.93022155761719,6.661795139312744,18.79874038696289,-51.18044662475586,-49.63221740722656,2.4101691246032715,-24.37964630126953,-40.689815521240234,-7.474811553955078,-21.32579803466797,50.44702911376953,21.34736442565918,30.762163162231445,-51.21635818481445,-8.998054504394531,4.5418901443481445,7.396340370178223,19.795331954956055,-49.43827438354492,20.422922134399414,23.794328689575195,16.12957763671875,-13.25249195098877,-15.805996894836426,-20.762588500976562,11.766180992126465,42.76085662841797,14.895234107971191,-25.74803924560547,-20.68744659423828,-30.797208786010742,14.887801170349121,-10.009001731872559,51.86595153808594,-12.584567070007324,10.992347717285156,20.740711212158203,-14.458358764648438,-43.52006912231445,-49.55107116699219,-53.73698806762695,21.541784286499023,26.376577377319336,-9.390539169311523,47.72134780883789,18.04605484008789,-3.221468448638916,42.75395202636719,-30.11332893371582,19.118249893188477,28.854461669921875,4.2058329582214355,-33.01498031616211,-21.525760650634766,2.806786298751831,-49.022300720214844,-34.55921173095703,45.164363861083984,-1.7552058696746826,2.265146017074585,33.13970947265625,13.308384895324707,1.7129852771759033,-50.96955871582031,19.963973999023438,29.301748275756836,0.18160122632980347,0.9581025242805481,13.627324104309082,25.825857162475586,-11.745059967041016,-17.163557052612305,-13.41162109375,-41.92837905883789,-23.59258460998535,14.136587142944336,2.7852466106414795,24.906692504882812,-27.648361206054688,-0.5154830813407898,54.32973098754883,-47.36873245239258,2.6127359867095947,14.325040817260742,13.964262008666992,32.90620422363281,-20.653791427612305,-11.973773956298828,35.381038665771484,32.034027099609375,-26.446895599365234,15.20703125,-34.92951583862305,31.076101303100586,-23.854991912841797,40.37729263305664,32.257049560546875,-33.69112777709961,32.418922424316406,-6.846149444580078,-46.36650848388672,22.147579193115234,-44.67338180541992,-16.524568557739258,13.369778633117676,-4.567153453826904,-11.108782768249512,-0.21973662078380585,-10.519347190856934,-10.735560417175293,-6.927680969238281,-15.371133804321289,-0.2280653417110443,16.49204444885254,-20.017377853393555,19.62830352783203,29.712594985961914,23.65332794189453,-8.183082580566406,-48.900474548339844,40.290714263916016,33.56691360473633,-12.758917808532715,5.59731388092041,-13.288376808166504,1.914119839668274,-20.46674156188965,-8.680078506469727,-42.17896270751953,47.28881072998047,-23.213207244873047,2.6888411045074463,35.27813720703125,-23.29460906982422,37.31076431274414,-48.86079788208008,33.05649185180664,-6.605144023895264,10.010433197021484,-25.343219757080078,32.071659088134766,40.016998291015625,-13.438376426696777,-12.71170711517334,-24.90913963317871,9.796306610107422,-37.3045539855957,20.07671546936035,29.24201202392578,40.12533187866211,-27.749540328979492,-1.557315468788147,3.4826931953430176,-22.407913208007812,6.914572715759277,-5.216243743896484,-40.14460372924805,32.99519348144531,21.11541748046875,-36.77939987182617,4.749876022338867,20.093175888061523,-10.689697265625,47.141414642333984,29.574941635131836,-25.746498107910156,-6.886992454528809,-40.585227966308594,-8.07627010345459,6.5307769775390625,-49.374725341796875,-4.811954021453857,-45.01589584350586,10.348422050476074,13.433537483215332,32.8247184753418,17.9005069732666,9.035209655761719,-13.999629974365234,9.907540321350098,55.7045783996582,8.490026473999023,-5.514779090881348,-46.0493049621582,51.86758804321289,-5.220292568206787,-10.293500900268555,20.147306442260742,-2.060981035232544,-26.98520278930664,-32.77176284790039,-3.105736494064331,0.8400081396102905,8.8238525390625,36.534061431884766,16.73508644104004,-2.0669493675231934,-16.544498443603516,4.673964023590088,-1.7576618194580078,3.4457898139953613,34.7826042175293,40.63566589355469,12.220807075500488,-4.711949825286865,34.53945541381836,9.690196990966797,-7.076385498046875,-34.93406677246094,-38.0706787109375,-10.638065338134766,42.1744499206543,-26.513309478759766,-17.34628677368164,-38.53314971923828,-21.49480628967285,30.14429473876953,12.872501373291016,19.85541343688965,13.6395902633667,8.864860534667969,-0.8326950073242188,-16.03852653503418,-52.35662078857422,25.969558715820312,29.705080032348633,-35.51813507080078,-16.63424301147461,53.29666519165039,-17.529888153076172,-31.692718505859375,20.885725021362305,-53.08003234863281,-12.082453727722168,11.087023735046387,-23.024484634399414,-10.943099021911621,5.018477916717529,18.47117805480957,8.031484603881836,-29.5185604095459,-3.867828845977783,20.244123458862305,-6.3961100578308105,10.395999908447266,24.605127334594727,-11.837949752807617,-8.776288986206055,4.270378589630127,11.5336332321167,15.578878402709961,46.230350494384766,-12.57924747467041,-47.26204299926758,-2.584355592727661,-28.490121841430664,-4.244297027587891,-14.633082389831543,-35.439754486083984,-34.119590759277344,14.505380630493164,43.6363410949707,2.54302716255188,41.51471710205078,32.42606735229492,1.768770694732666,-27.88337516784668,-2.8404929637908936,-25.371490478515625,-7.3171868324279785,-8.757567405700684,-29.280773162841797,56.41500473022461,-6.138088703155518,29.108949661254883,-39.71943283081055,-6.4388346672058105,-19.992860794067383,-37.92034912109375,14.129839897155762,5.119876861572266,46.8484001159668,27.898761749267578,-5.635601997375488,-40.62666702270508,-47.29594039916992,31.41376495361328,-34.83214569091797,-3.217844009399414,46.96162033081055,-11.264138221740723,17.409303665161133,12.727895736694336,-51.13860321044922,-18.602235794067383,48.986759185791016,-0.028843216598033905,-14.498604774475098,24.765331268310547,-45.38296890258789,50.215911865234375,-33.53325271606445,20.736988067626953,-13.816909790039062,-41.677555084228516,-20.532917022705078,-54.22397232055664,27.958749771118164,5.950023174285889,3.038527727127075,31.31467056274414,26.47905921936035,9.648496627807617,-47.3858757019043,-22.866897583007812,24.128767013549805,31.9093074798584,40.342220306396484,-35.28197479248047,28.30454444885254,38.24847412109375,26.311382293701172,-49.62647247314453,14.141319274902344,-6.744135856628418,-39.37973403930664,13.04342269897461,51.54790115356445,6.339916229248047,-40.41815185546875,8.96599006652832,-27.17439079284668,27.993741989135742,2.33058500289917,-18.433940887451172,13.942398071289062,-37.378482818603516,-52.390113830566406,10.712931632995605,-7.810549259185791,30.022592544555664,18.55443572998047,26.957462310791016,-16.154949188232422,1.764591097831726,-4.932338714599609,-40.97060775756836,8.628058433532715,13.258440017700195,-30.44877815246582,10.136555671691895,5.529825687408447,1.6503875255584717,9.407320976257324,15.115478515625,11.931924819946289,-40.690155029296875,-4.798473358154297,5.841994762420654,21.28105354309082,-14.414664268493652,10.795247077941895,-52.081756591796875,29.065013885498047,-9.275672912597656,-0.1483117789030075,-1.689970850944519,-28.970773696899414,46.54802322387695,-22.440217971801758,-10.081876754760742,51.542972564697266,-0.7778292894363403,-7.389309406280518,3.3428804874420166,28.76624298095703,-3.0227513313293457,-16.86011505126953,-33.96907424926758,26.40997314453125,36.935691833496094,38.897823333740234,46.354888916015625,-48.30116271972656,32.49570083618164,-4.347593784332275,10.466996192932129,-51.792659759521484,-10.315465927124023,-47.62598419189453,29.09457015991211,-0.11300503462553024,30.21776008605957,-39.636619567871094,7.048421859741211,35.871788024902344,26.761653900146484,20.919130325317383,-36.91081237792969,-12.617385864257812,44.078216552734375,-4.14566707611084,-23.096420288085938,8.150958061218262,-19.311294555664062,-37.42066955566406,-19.365034103393555,-12.857239723205566,16.541372299194336,3.620417356491089,13.602629661560059,-48.561279296875,30.739347457885742,27.154315948486328,-35.373687744140625,18.58809471130371,7.950720310211182,-34.431392669677734,2.2631378173828125,-19.100988388061523,39.4597053527832,4.846032619476318,-21.077163696289062,-47.19721984863281,-28.63080406188965,-21.225801467895508,-13.915343284606934,40.13264846801758,-5.661189079284668,-12.776798248291016,-19.6964054107666,11.361767768859863,-7.464027404785156,10.822515487670898,20.79532241821289,24.642597198486328,36.352970123291016,38.20853042602539,-41.37211608886719,-51.97966384887695,-42.74285125732422,-2.333991527557373,19.944561004638672,10.23928451538086,22.232810974121094,54.10165786743164,-13.64135456085205,10.65539264678955,15.820748329162598,4.199477672576904,-4.447946548461914,-7.441507816314697,-13.751838684082031,0.08650325983762741,-18.639795303344727,-21.74522590637207,24.303552627563477,-6.019395351409912,24.60845184326172,-48.914588928222656,10.20289134979248,28.917797088623047,-47.17264938354492,22.8734188079834,-6.170931816101074,-36.55210494995117,23.211042404174805,13.92628288269043,-31.652278900146484,10.120962142944336,40.34246063232422,-21.465545654296875,28.888856887817383,-6.0091753005981445,28.669401168823242,-50.76963424682617,35.45047378540039,-48.44160079956055,-36.293766021728516,-26.790245056152344,-2.3486452102661133,34.095340728759766,33.14756393432617,-52.793174743652344,49.34012222290039,8.125497817993164,31.13332176208496,-21.744035720825195,-36.896541595458984,-20.5631046295166,0.8388903141021729,14.380322456359863,28.944093704223633,-46.081573486328125,36.6513557434082,-10.12819766998291,9.049572944641113,-35.923465728759766,-0.38236889243125916,-20.529499053955078,45.55490493774414,-34.45574951171875,53.24770736694336,-37.64324951171875,51.497596740722656,-4.303928852081299,-0.8382132649421692,17.2946834564209,-8.687830924987793,13.126448631286621,-10.576364517211914,-32.84476852416992,-7.199654579162598,45.69227600097656,21.585603713989258,-51.503257751464844,22.1751766204834,40.92797088623047,-47.59497833251953,-7.606947422027588,-2.915595054626465,-12.134417533874512,-17.497108459472656,-8.378442764282227,-36.643760681152344,38.58306884765625,13.958881378173828,20.135700225830078,-9.203580856323242,-22.366159439086914,31.82634735107422,-5.915395259857178,30.50269317626953,-40.86988830566406,32.936614990234375,17.447378158569336,-6.78187894821167,-6.088078498840332,11.9467134475708,-11.499934196472168,24.69517707824707,13.927459716796875,34.57508087158203,-21.708602905273438,-16.81397247314453,-9.986641883850098,-16.175968170166016,-44.92494583129883,11.545565605163574,29.19992446899414,33.71852493286133,-9.70130729675293,1.7626798152923584,-10.896512985229492,-32.74720764160156,-48.997291564941406,-25.255184173583984,-53.418087005615234,38.486148834228516,47.92445373535156,-38.185096740722656,13.427857398986816,-3.3058087825775146,49.62222671508789,33.005523681640625,-3.468393564224243,21.796125411987305,20.942649841308594,3.3188087940216064,-21.74591064453125,44.58918762207031,-14.041778564453125,-24.25058364868164,19.856067657470703,-26.860212326049805,27.75404930114746,13.514982223510742,-5.569927215576172,0.5191531777381897,-19.34335708618164,25.63007926940918,-28.548328399658203,18.082122802734375,-14.082550048828125,-25.02141571044922,-24.413562774658203,38.509788513183594,12.97210693359375,20.518630981445312,22.07951545715332,0.6945860981941223,7.815109729766846,41.735801696777344,-20.607473373413086,-51.225303649902344,-24.313997268676758,-24.81837272644043,31.588956832885742,36.182342529296875,-12.174158096313477,22.275197982788086,-1.7497655153274536,26.714279174804688,-48.211856842041016,26.450708389282227,4.042745113372803,48.80559539794922,-34.334449768066406,4.145190238952637,-4.313434600830078,-50.52812576293945,17.127153396606445,10.766186714172363,30.99127197265625,4.785091400146484,8.492470741271973,23.582674026489258,-6.885563850402832,-42.94533920288086,10.175097465515137,30.674901962280273,-4.290173530578613,-7.989026069641113,-26.3383846282959,4.223564147949219,20.201189041137695,-12.523696899414062,13.624430656433105,12.185016632080078,29.161123275756836,-52.796173095703125,-52.938255310058594,2.7445180416107178,10.091912269592285,-2.417450189590454,1.4901851415634155,-28.683950424194336,21.028738021850586,14.637106895446777,1.63560950756073,-15.123088836669922,21.381160736083984,50.99139404296875,-19.651878356933594,-31.561649322509766,26.087907791137695,-24.401626586914062,16.612112045288086,38.151817321777344,5.008143901824951,-46.383304595947266,4.585862159729004,-36.665733337402344,-13.142327308654785,21.730478286743164,2.4373106956481934,-54.94938659667969,40.03081512451172,4.920497894287109,22.242294311523438,5.824655532836914,36.832481384277344,-29.26578140258789,7.247585773468018,-42.59775924682617,1.2503669261932373,20.80988883972168,7.2089762687683105,21.088743209838867,35.22001647949219,-16.61782455444336,-44.14878845214844,50.188663482666016,-18.742786407470703,20.171382904052734,7.215226173400879,-24.158702850341797,46.18797302246094,-42.51508331298828,5.470999717712402,5.756277561187744,9.15299129486084,-3.012021780014038,-46.04877471923828,16.21712303161621,-3.2195188999176025,-3.6613821983337402,14.894330978393555,37.02083969116211,47.10935974121094,-30.472551345825195,6.568429946899414,5.465529918670654,20.29300308227539,-34.0030632019043,-21.989181518554688,-23.875871658325195,-3.1008572578430176,-46.54113006591797,-5.728691101074219,-3.019279956817627,53.81637191772461,-47.50502395629883,7.079930782318115,15.594216346740723,7.856152057647705,24.8392391204834,10.184593200683594,55.11324691772461,-47.42401123046875,-24.704833984375,49.528778076171875,-23.72764778137207,2.4936797618865967,13.706290245056152,27.448091506958008,-27.810020446777344,6.395565032958984,-5.467136859893799,-17.07187271118164,-11.041552543640137,6.781446933746338,22.71356773376465,-34.283729553222656,-2.870993137359619,-38.66725540161133,33.04342269897461,-10.072519302368164,15.663324356079102,-15.457569122314453,43.01089859008789,-6.009411811828613,8.637272834777832,21.92945098876953,8.308428764343262,-45.831295013427734,-7.657054424285889,-11.96884822845459,-4.70499324798584,-9.481427192687988,-14.189266204833984,-23.231847763061523,41.92604446411133,-38.35576629638672,-45.25310516357422,27.640047073364258,28.655054092407227,9.764060020446777,31.37181854248047,-4.4384894371032715,21.57391357421875,44.47172164916992,11.063440322875977,-6.9253106117248535,22.391056060791016,6.821796417236328,37.80944061279297,-50.901878356933594,-49.711402893066406,32.63459777832031,-33.205284118652344,-12.902399063110352,-16.47249984741211,-20.17027473449707,18.716169357299805,19.152462005615234,5.593689441680908,10.461901664733887,31.697160720825195,-37.600765228271484,52.9599723815918,-33.688026428222656,14.354019165039062,-23.409074783325195,24.3890323638916,1.4662771224975586,0.23446433246135712,26.5224666595459,-4.896524906158447,4.484142303466797,-12.652350425720215,3.294588327407837,15.27804946899414,-20.88391876220703,19.669883728027344,-32.06378173828125,24.13057518005371,-33.687015533447266,16.819631576538086,-15.905182838439941,-5.945720195770264,17.945383071899414,-10.26676082611084,31.26641082763672,-51.42121887207031,3.3985817432403564,-14.586612701416016,52.96647644042969,-29.074724197387695,-35.72263717651367,17.523969650268555,-13.929201126098633,11.965326309204102,29.72446632385254,22.09185028076172,4.617700099945068,12.54433822631836,-34.490074157714844,-33.914390563964844,-22.064777374267578,20.470922470092773,20.702899932861328,-11.867121696472168,25.945737838745117,15.679780006408691,10.44743824005127,37.724098205566406,16.014619827270508,-4.903282165527344,36.905189514160156,-14.248443603515625,34.19166946411133,-49.36231994628906,20.05552101135254,11.669878959655762,-39.04199981689453,2.2923505306243896,-6.947905540466309,-8.916295051574707,-12.8411865234375,23.596681594848633,53.379817962646484,0.8606036305427551,-6.095235824584961,28.072919845581055,-55.63768005371094,-11.159343719482422,26.231801986694336,18.750885009765625,20.82374382019043,40.042274475097656,28.848480224609375,13.927411079406738,-30.27340316772461,-9.925445556640625,-25.43475914001465,-42.86470031738281,-7.263479232788086,-5.135854721069336,-35.168601989746094,25.24888801574707,31.715654373168945,-2.888549566268921,-44.831817626953125,-15.762080192565918,-15.514274597167969,2.9905126094818115,-14.606644630432129,0.8449615240097046,-15.610820770263672,-5.9191999435424805,-5.21658182144165,-10.828932762145996,-6.388683319091797,-8.019293785095215,14.255509376525879,-29.776039123535156,3.7504522800445557,-3.494582176208496,1.4030907154083252,56.813411712646484,6.323756217956543,21.122638702392578,-52.66825485229492,-15.5778226852417,34.40838623046875,-3.58103609085083,13.343891143798828,-7.658213138580322,14.441594123840332,-28.83745765686035,11.49318790435791,-35.23942565917969,28.92083168029785,-40.579524993896484,50.14522171020508,-26.404743194580078,22.233718872070312,11.418848991394043,-11.721774101257324,37.59391784667969,-42.16958999633789,-34.80995559692383,-11.729513168334961,8.057429313659668,44.57861328125,19.59349822998047,-8.127274513244629,-16.094289779663086,-25.69692039489746,29.97148323059082,-52.49835968017578,44.55504608154297,-6.838954448699951,-54.414215087890625,15.380526542663574,-10.992542266845703,-36.04961013793945,12.05276870727539,-3.2177560329437256,-6.799867630004883,31.217113494873047,-14.41342544555664,-5.035067081451416,8.273624420166016,35.24839401245117,22.768718719482422,12.576292037963867,41.978736877441406,8.883318901062012,-33.64359664916992,-23.557464599609375,-0.5610260963439941,37.33393859863281,-20.52191925048828,-15.913342475891113,24.260915756225586,-53.492740631103516,15.733514785766602,34.06996154785156,-7.703500270843506,34.41764831542969,-34.20463562011719,-18.499704360961914,12.768251419067383,6.7394609451293945,19.48013687133789,-36.43775177001953,4.778908729553223,-7.1219000816345215,-26.052576065063477,14.954499244689941,-37.0005989074707,-47.818687438964844,31.5560359954834,-7.616758346557617,-3.7814507484436035,45.46760940551758,-21.027748107910156,14.878432273864746,53.47275161743164,41.694664001464844,-20.841205596923828,34.13972854614258,2.5256688594818115,-10.401250839233398,24.5528621673584,-14.2291898727417,-24.076751708984375,6.044888019561768,-26.229141235351562,34.27787399291992,-9.56733512878418,24.600324630737305,20.25360679626465,-7.482032299041748,-6.4450883865356445,1.9811339378356934,8.844482421875,-4.935764789581299,23.86046028137207,-13.148900032043457,2.0087246894836426,49.27315139770508,-36.6767463684082,-32.43829345703125,-27.27241325378418,8.910015106201172,-5.877143383026123,17.086063385009766,52.61359786987305,-53.2285270690918,-21.744216918945312,-40.38553237915039,-47.520267486572266,-3.8082327842712402,26.537979125976562,-11.414437294006348,-8.96999454498291,-0.8824343681335449,-20.662607192993164,-29.26983642578125,29.692188262939453,28.603069305419922,15.5098295211792,11.195670127868652,31.81090545654297,6.2771477699279785,-0.5828603506088257,-39.51220703125,31.80851173400879,-20.755630493164062,16.97664451599121,30.82170295715332,30.92416763305664,4.873134613037109,22.337074279785156,8.556953430175781,-53.481956481933594,-34.28242492675781,28.947696685791016,-27.109519958496094,-10.75280475616455,48.33510208129883,-34.90168380737305,-35.08845520019531,11.35047435760498,-24.05032730102539,32.0252799987793,39.83008575439453,-2.537885904312134,11.94192886352539,22.65985679626465,36.980281829833984,-52.42551803588867,21.857494354248047,-14.26121711730957,-1.4523755311965942,-2.6345713138580322,-32.72491455078125,13.630417823791504,5.198319911956787,5.837648868560791,28.204734802246094,-36.031185150146484,-7.288321495056152,-3.166053295135498,-44.955078125,-39.9355583190918,-16.033740997314453,11.000212669372559,19.197973251342773,4.837536811828613,44.9342041015625,47.072105407714844,26.698274612426758,-22.999935150146484,5.5439348220825195,3.583221912384033,-3.9918856620788574,-21.418432235717773,22.41826629638672,21.443443298339844,7.835484981536865,53.073631286621094,8.274967193603516,0.09524617344141006,-38.72690963745117,-45.982330322265625,14.139552116394043,-20.210548400878906,13.912647247314453,-11.988058090209961,-14.526290893554688,-15.931722640991211,34.65995788574219,34.1680793762207,-15.3181734085083,8.849579811096191,-11.287612915039062,11.495489120483398,-46.98197555541992,-12.984424591064453,-11.89175033569336,-8.468466758728027,23.466814041137695,24.031234741210938,19.43002700805664,-14.69962215423584,2.045893430709839,-3.070509910583496,-9.110908508300781,1.8234057426452637,41.11104965209961,1.8272769451141357,-39.808204650878906,-9.468513488769531,29.385469436645508,-26.775894165039062,-8.336169242858887,5.165048122406006,7.127760410308838,-20.13920021057129,-4.0409393310546875,24.73299789428711,3.2412610054016113,48.333717346191406,36.65357208251953,-45.96956253051758,-42.63917541503906,11.681270599365234,32.44487380981445,-31.880590438842773,15.250142097473145,-27.375282287597656,17.278766632080078,-30.966224670410156,26.138080596923828,-30.37588882446289,-14.134739875793457,-27.7185001373291,22.211008071899414,-16.2492618560791,4.874164581298828,-12.71690559387207,1.1929649114608765,32.12316131591797,13.783661842346191,6.924124240875244,-15.344576835632324,7.785821914672852,-17.131227493286133,-27.091995239257812,8.015445709228516,26.503385543823242,19.318552017211914,21.21769142150879,14.628171920776367,30.423410415649414,-40.051090240478516,-33.864810943603516,11.099344253540039,-8.623329162597656,-46.17807388305664,-38.8007926940918,51.751468658447266,-33.3720588684082,25.203454971313477,29.205549240112305,45.71482849121094,-26.2902774810791,20.409156799316406,17.202110290527344,14.092530250549316,-0.047156184911727905,-45.57910919189453,-8.941426277160645,57.14356231689453,-27.345500946044922,11.236820220947266,-1.7452932596206665,-21.730815887451172,1.8405160903930664,-8.628005027770996,-15.379101753234863,-13.157228469848633,6.610386371612549,25.478633880615234,-44.8634033203125,-50.05528259277344,-42.887454986572266,38.65497970581055,33.32294845581055,8.183417320251465,1.394743800163269,-23.765459060668945,-53.844520568847656,30.566797256469727,-1.3225547075271606,-19.423866271972656,36.32386016845703,-39.851112365722656,28.817766189575195,2.179877281188965,-13.083500862121582,-9.138179779052734,56.8436393737793,-5.221909999847412,9.163676261901855,-3.344214677810669,8.587044715881348,-2.3432564735412598,17.837656021118164,-14.99476146697998,5.892228603363037,-16.5635986328125,-17.51682472229004,5.940586566925049,-34.81169891357422,2.324472188949585,-1.3922011852264404,-0.12005993723869324,23.249238967895508,-10.56489086151123,4.9641289710998535,-15.224047660827637,-35.073760986328125,4.81294059753418,25.832088470458984,-34.90848922729492,29.445335388183594,-3.1773974895477295,6.871453762054443,-37.460540771484375,10.459563255310059,-10.377752304077148,54.07695007324219,13.527636528015137,-6.047091484069824,-18.535648345947266,-7.876540660858154,-19.121355056762695,18.133752822875977,-12.974390029907227,48.1973991394043,29.974002838134766,-10.80456829071045,7.191863536834717,-10.372749328613281,-31.303850173950195,-4.281000137329102,-26.992202758789062,6.73624324798584,-12.655089378356934,39.2267951965332,33.218170166015625,20.501760482788086,16.30914878845215,-44.051292419433594,-14.712542533874512,-12.476503372192383,-46.00553894042969,-10.967060089111328,15.127296447753906,-29.108118057250977,15.52933120727539,5.506480693817139,9.476805686950684,7.025091648101807,-12.224881172180176,7.658726692199707,17.242048263549805,-13.328261375427246,52.34934997558594,54.270408630371094,-26.194631576538086,-6.052938938140869,32.42607116699219,-31.895008087158203,-4.697256565093994,-2.4609227180480957,-11.761810302734375,18.781387329101562,-12.709220886230469,-55.19919967651367,14.83984375,-38.19375228881836,-16.250272750854492,40.81480026245117,25.3115234375,27.871946334838867,13.930828094482422,-1.7835438251495361,5.437737464904785,-2.940472364425659,-30.011295318603516,27.3596134185791,-55.17994689941406,-1.1676040887832642,20.775245666503906,7.192294120788574,-7.092476844787598,-16.59695053100586,37.43567657470703,-49.26064682006836,37.67731475830078,7.312089443206787,41.64192199707031,12.875323295593262,29.639894485473633,31.48760414123535,-7.301252365112305,-24.79276466369629,-6.70003080368042,15.489409446716309,-45.213134765625,6.529674530029297,-20.359312057495117,-11.63468074798584,-13.937468528747559,15.453190803527832,-19.15575408935547,-14.572271347045898,1.7893986701965332,-8.737478256225586,-22.490760803222656,39.781925201416016,31.5410099029541,45.26332473754883,-11.310474395751953,9.149651527404785,-18.39003562927246,4.371767044067383,-4.083771228790283,-52.45432662963867,-14.8909912109375,33.1744499206543,19.170278549194336,-17.302898406982422,18.812503814697266,-23.91767692565918,15.278984069824219,37.266845703125,9.332505226135254,21.848596572875977,-7.5359296798706055,21.132823944091797,-17.26316261291504,-44.617286682128906,-25.33604621887207,3.2096519470214844,-12.304322242736816,48.48230743408203,-3.021383762359619,-14.867255210876465,15.141274452209473,5.9689717292785645,-13.306050300598145,-8.034195899963379,-15.845346450805664,-45.527244567871094,9.341913223266602,10.588516235351562,-21.977336883544922,50.04937744140625,-23.905441284179688,9.526525497436523,9.353302001953125,-17.44988250732422,4.076479911804199,42.53599166870117,-25.919586181640625,-29.406909942626953,-17.820743560791016,-12.31147575378418,5.841078281402588,7.268625736236572,-0.19343484938144684,48.017642974853516,-16.95820426940918,-4.024346828460693,-13.804911613464355,-38.90045166015625,28.36324691772461,10.948413848876953,-7.224435806274414,21.206560134887695,18.93954086303711,-22.132736206054688,0.3888590931892395,-0.38999828696250916,-55.287452697753906,22.660917282104492,-33.781410217285156,33.46609115600586,-19.81366539001465,43.86043930053711,30.54141616821289,14.311432838439941,9.47696304321289,-8.65522289276123,-34.3718376159668,-39.79747009277344,2.7414565086364746,33.344844818115234,-48.25896453857422,32.35232162475586,-12.54533576965332,-3.1944780349731445,-38.69077682495117,26.25154685974121,2.9229655265808105,8.851234436035156,19.24346351623535,-2.7292842864990234,-33.8618049621582,-23.513286590576172,-9.957391738891602,45.103538513183594,24.962783813476562,14.952559471130371,52.188255310058594,-34.64372253417969,5.990015029907227,6.980795383453369,-8.680164337158203,9.117378234863281,-43.16935729980469,-18.562580108642578,6.724604606628418,44.48005294799805,-6.931515216827393,16.863069534301758,11.978363037109375,8.715819358825684,32.53255844116211,-34.28067398071289,6.048893928527832,16.965015411376953,-43.30918502807617,33.83966827392578,24.646774291992188,-48.85710525512695,-49.081886291503906,8.490898132324219,14.97634220123291,12.946357727050781,-24.323057174682617,22.20160484313965,7.518733978271484,20.293197631835938,11.259533882141113,17.590927124023438,10.777532577514648,-47.607017517089844,30.641765594482422,17.243410110473633,10.43683910369873,5.5007853507995605,-14.206223487854004,-27.085119247436523,19.412572860717773,2.4453237056732178,-12.129598617553711,-23.19512939453125,-51.740482330322266,-20.412931442260742,47.83808135986328,44.6200065612793,9.257781028747559,1.1898399591445923,-12.620133399963379,-23.025829315185547,-11.297776222229004,16.728612899780273,13.249894142150879,-0.24743574857711792,14.705300331115723,34.10489273071289,-2.3865983486175537,-3.710648536682129,-4.560142517089844,-27.204885482788086,-14.330202102661133,-6.055115222930908,47.05336380004883,9.355565071105957,1.8635183572769165,7.957040786743164,1.361670732498169,-20.940935134887695,-12.810083389282227,-2.977046012878418,-27.69367027282715,-5.6998419761657715,14.127509117126465,17.68031883239746,9.150846481323242,-37.861106872558594,24.85009002685547,-8.713520050048828,-33.83122253417969,-9.007205963134766,13.186054229736328,18.040077209472656,23.077274322509766,-12.634994506835938,6.980927467346191,9.095471382141113,-1.4520970582962036,3.486478328704834,-25.12779426574707,39.41064453125,13.129658699035645,-27.94857406616211,18.4565372467041,18.01979637145996,-49.54934310913086,45.792205810546875,-43.271209716796875,-10.90007495880127,7.540894985198975,-15.73931884765625,-26.64992904663086,24.947193145751953,22.178260803222656,-51.816184997558594,-17.553590774536133,-2.7436299324035645,-44.589508056640625,37.79915237426758,-17.023483276367188,36.6944694519043,2.819221019744873,-42.60081481933594,-4.569903373718262,-5.6971354484558105,41.84321212768555,-25.231529235839844,55.5746955871582,-48.13812255859375,3.6653435230255127,-17.2451229095459,15.17935848236084,-21.75151824951172,19.02644157409668,6.928709506988525,1.9654654264450073,19.250974655151367,21.765941619873047,52.915138244628906,-15.282294273376465,-11.598746299743652,-4.978612422943115,-6.047266960144043,-42.547237396240234,-40.654449462890625,20.861860275268555,19.514095306396484,17.335994720458984,-44.57370376586914,1.1436190605163574,-13.154155731201172,7.701681137084961,32.9895133972168,-6.004186153411865,31.939544677734375,22.728788375854492,-10.000296592712402,4.618618011474609,-13.265416145324707,-23.991058349609375,-9.995231628417969,-8.04435920715332,-12.658829689025879,9.434027671813965,53.34782791137695,-49.06242752075195,-6.705682754516602,12.630382537841797,9.52839183807373,-32.94465637207031,8.682804107666016,-16.501373291015625,-33.55571365356445,8.341410636901855,12.162246704101562,25.62706756591797,19.568103790283203,-54.205657958984375,-12.966090202331543,-18.821237564086914,46.58721923828125,-16.80445098876953,26.624771118164062,7.0653862953186035,12.728599548339844,7.910599708557129,-29.513797760009766,-20.08467674255371,-36.988868713378906,27.525609970092773,50.47506332397461,-4.7745585441589355,13.706018447875977,22.08403968811035,-45.39362716674805,-6.786177635192871,-21.8696231842041,-3.437696695327759,56.35995864868164,-23.392852783203125,2.5336244106292725,6.239436149597168,-10.559215545654297,-29.857074737548828,34.604393005371094,34.11843490600586,-33.36088943481445,-26.915822982788086,42.14668273925781,-41.521217346191406,0.16187076270580292,-1.5006731748580933,-12.687172889709473,3.3847506046295166,14.681304931640625,-41.47190475463867,-23.174779891967773,11.840225219726562,21.534528732299805,13.663799285888672,43.83768081665039,14.498379707336426,13.257179260253906,6.5650105476379395,16.022491455078125,1.4903738498687744,-38.53953552246094,-14.849163055419922,15.584233283996582,-20.560516357421875,-42.68653106689453,9.293384552001953,-25.912778854370117,-16.622800827026367,40.717281341552734,-44.598270416259766,47.009010314941406,-4.858178615570068,52.286922454833984,-10.419200897216797,29.848953247070312,-8.433592796325684,5.170980930328369,8.663148880004883,2.493873119354248,-14.19482135772705,38.28721618652344,-27.485750198364258,-8.304399490356445,-23.323211669921875,45.741817474365234,-16.817440032958984,15.663373947143555,4.877111911773682,8.422568321228027,-3.2513091564178467,-12.177626609802246,52.5213508605957,-45.89738845825195,31.237518310546875,-12.28376579284668,12.39164924621582,25.315034866333008,-18.446699142456055,-43.778564453125,-1.6110700368881226,29.971439361572266,-20.592254638671875,34.83298873901367,-34.33478927612305,21.71626091003418,-50.75239944458008,23.41346549987793,-26.916275024414062,18.424070358276367,-19.296558380126953,-24.676448822021484,16.54918670654297,42.16969299316406,-1.3093839883804321,17.55878257751465,3.028949499130249,41.40768814086914,-12.263528823852539,-2.6353907585144043,-53.30323028564453,8.190125465393066,26.210962295532227,-8.312699317932129,50.61452102661133,29.971128463745117,52.7391357421875,28.55827522277832,12.282636642456055,-16.40296745300293,-40.070343017578125,17.710159301757812,13.551793098449707,-29.520099639892578,15.456175804138184,23.452674865722656,12.860791206359863,-48.045284271240234,-28.60836410522461,-48.456443786621094,20.45830535888672,-15.351030349731445,-34.825592041015625,-2.7350311279296875,2.3954098224639893,30.989206314086914,7.385753154754639,41.91292190551758,7.8858866691589355,29.954801559448242,-22.082630157470703,-26.800800323486328,-15.075159072875977,-5.27088737487793,13.662238121032715,-6.10862922668457,16.900663375854492,-26.217897415161133,-17.86899185180664,-15.350110054016113,-0.28817227482795715,-11.85922908782959,8.734185218811035,-16.69548988342285,26.830251693725586,54.52487564086914,-38.70323181152344,40.09938430786133,-16.251859664916992,-25.284563064575195,32.940914154052734,-43.73481750488281,33.02927017211914,13.989842414855957,8.498193740844727,-5.960403919219971,-14.73636531829834,-10.979501724243164,-7.221174240112305,5.20084285736084,13.606354713439941,19.634111404418945,-7.978042125701904,-8.116576194763184,-3.7755086421966553,-16.48464584350586,-18.380189895629883,27.690441131591797,-53.898746490478516,38.80775451660156,-9.673093795776367,10.74661636352539,-51.44831848144531,47.16287612915039,24.4710636138916,-11.429632186889648,9.940287590026855,-54.077613830566406,36.42766189575195,-4.042246341705322,25.7700138092041,4.235534191131592,6.428218364715576,-40.20052719116211,11.348503112792969,-15.192843437194824,3.8483312129974365,-45.402957916259766,-16.260482788085938,12.973837852478027,43.92249298095703,7.2923808097839355,-9.83468246459961,29.103971481323242,22.468379974365234,44.26826095581055,-38.74867630004883,28.781652450561523,-11.755441665649414,-45.27733612060547,-40.85148239135742,-1.3040847778320312,-40.0495719909668,-9.049430847167969,11.639762878417969,-35.085182189941406,19.583009719848633,-28.98357391357422,9.149580001831055,1.191057562828064,32.50138854980469,-32.345428466796875,28.44011878967285,6.731795787811279,14.348672866821289,53.38010787963867,-1.1935975551605225,-13.830740928649902,13.867697715759277,-18.57817268371582,-20.584922790527344,5.6125993728637695,46.044376373291016,-36.847225189208984,-13.020166397094727,-32.70365905761719,13.113992691040039,-1.4273672103881836,-8.770968437194824,24.356557846069336,3.173772096633911,46.47960662841797,19.020387649536133,-18.26881980895996,5.3123674392700195,38.6075553894043,-45.94343948364258,-32.205787658691406,45.47063446044922,35.54725646972656,-24.032175064086914,-51.98728561401367,44.60392761230469,17.439537048339844,0.8694785833358765,8.684053421020508,-9.579363822937012,-45.20470428466797,5.715040683746338,40.71184539794922,-19.708393096923828,20.601720809936523,-28.468271255493164,25.647415161132812,34.147499084472656,20.969884872436523,-3.8424863815307617,8.902885437011719,-46.85649871826172,-49.307884216308594,34.83788299560547,24.357942581176758,-18.546865463256836,-43.434906005859375,20.84272003173828,-21.683658599853516,-18.174787521362305,-16.103870391845703,-9.441431045532227,17.398319244384766,-22.015798568725586,26.202842712402344,6.5924482345581055,-18.00461196899414,30.21154022216797,-28.708147048950195,-20.658344268798828,17.953054428100586,47.34667205810547,6.320858478546143,-25.852022171020508,14.868261337280273,32.180633544921875,-21.139667510986328,30.300844192504883,4.826779842376709,-11.769855499267578,35.822998046875,22.24927520751953,-48.3512077331543,-10.527965545654297,20.09774398803711,-33.91084289550781,-15.403587341308594,5.921622276306152,9.50338077545166,-3.449214458465576,19.010793685913086,-26.243019104003906,2.390423536300659,11.08719539642334,8.96677017211914,11.96300220489502,-3.9514262676239014,17.325279235839844,-6.845770359039307,-0.834293782711029,5.873783588409424,-51.80644989013672,14.803986549377441,-0.25392788648605347,2.68035888671875,-22.63509178161621,-7.452262878417969,30.520030975341797,15.754349708557129,4.086272239685059,9.418094635009766,-4.937828063964844,2.732133626937866,-21.374595642089844,2.7347490787506104,20.227622985839844,-23.917940139770508,7.397511005401611,-18.904577255249023,-26.690099716186523,21.01062774658203,-24.63986587524414,6.281044960021973,-4.645171642303467,-15.193824768066406,0.6648359894752502,12.460227966308594,-6.406043529510498,3.1337838172912598,21.822355270385742,-44.78184127807617,28.238588333129883,-33.257808685302734,9.434783935546875,27.18209457397461,8.195919036865234,-49.290550231933594,21.845462799072266,14.448358535766602,-40.799564361572266,-22.962604522705078,44.5385627746582,12.387149810791016,36.96247482299805,-29.308944702148438,-33.43886184692383,8.452805519104004,-10.663323402404785,1.4521595239639282,22.612552642822266,-25.836748123168945,-29.238229751586914,11.393406867980957,20.592470169067383,-26.82575225830078,8.871377944946289,-25.171144485473633,3.5956995487213135,-12.658400535583496,18.172832489013672,-55.62078857421875,-2.165632724761963,-6.5540313720703125,24.325071334838867,18.168548583984375,-33.40025329589844,24.432350158691406,-17.606056213378906,8.38576889038086,8.62811279296875,-2.8456902503967285,-28.012252807617188,-7.591606140136719,-16.669889450073242,-27.471656799316406,-11.580854415893555,23.472867965698242,40.702552795410156,-19.866792678833008,13.615447998046875,-26.929460525512695,33.11432647705078,43.43465042114258,-28.05426597595215,-4.442915916442871,-25.89447784423828,45.30084228515625,32.67113494873047,-6.272096157073975,-0.03601404279470444,-4.958450794219971,14.524996757507324,-38.9229850769043,-24.235441207885742,31.675426483154297,2.8836004734039307,21.367206573486328,22.681184768676758,-20.23106575012207,8.745315551757812,-47.152164459228516,-50.78357696533203,-14.674788475036621,33.99077224731445,-39.28308868408203,36.74296951293945,23.38062286376953,-9.582979202270508,-54.6635856628418,54.085453033447266,-23.506534576416016,13.774187088012695,-32.90373611450195,-16.74106216430664,-17.39539909362793,17.759063720703125,5.860642910003662,0.16176088154315948,-52.18698501586914,19.426738739013672,28.411500930786133,-11.300579071044922,-33.808349609375,27.8887939453125,15.316534996032715,4.265351295471191,-32.91680908203125,8.889549255371094,28.054039001464844,-22.75972557067871,31.39868927001953,-8.218695640563965,29.22222137451172,-22.5575008392334,-2.1874072551727295,-9.994245529174805,-0.08227323740720749,-3.154374361038208,53.28102111816406,-37.82490921020508,27.874996185302734,-11.890948295593262,22.884227752685547,-49.88552474975586,10.275123596191406,38.276023864746094,-0.44420120120048523,-5.73594331741333,-2.324169397354126,-0.5984431505203247,32.25855255126953,28.849475860595703,41.84361267089844,15.614090919494629,-34.09215545654297,20.184728622436523,-52.584922790527344,4.537532806396484,-21.787639617919922,21.440372467041016,-43.316558837890625,-29.56844711303711,16.151277542114258,36.44486618041992,-50.25076675415039,10.248913764953613,-15.078495025634766,-4.0174689292907715,-13.056044578552246,6.6750922203063965,53.211570739746094,-17.513227462768555,-10.016969680786133,-44.70558547973633,19.02387809753418,10.063551902770996,39.4592399597168,-21.801244735717773,-3.5368244647979736,2.6370840072631836,-8.046902656555176,11.08678913116455,-1.1590368747711182,-26.151933670043945,-27.003738403320312,-20.783655166625977,-13.0099458694458,48.04927062988281,11.411726951599121,17.59325408935547,46.706783294677734,16.622493743896484,-23.915781021118164,-10.594736099243164,-8.420764923095703,-13.838407516479492,-12.896055221557617,42.778099060058594,-0.375133216381073,-6.948172569274902,-34.59949493408203,3.5724644660949707,-17.356748580932617,2.5492947101593018,19.34672737121582,-14.8450927734375,-25.200233459472656,-2.3694188594818115,16.2978572845459,4.0548095703125,18.237974166870117,2.4659957885742188,-23.497159957885742,-47.4941291809082,-4.314266204833984,-17.37256622314453,3.639143943786621,-23.042606353759766,-9.712479591369629,-12.3836088180542,16.788497924804688,-5.770592212677002,46.500728607177734,25.257802963256836,-5.2029643058776855,42.61549377441406,0.12451240420341492,6.711888790130615,7.669498920440674,-28.453479766845703,50.56496047973633,-10.20517635345459,9.729470252990723,31.37797737121582,29.52864646911621,-42.94304275512695,12.444982528686523,-0.927236020565033,-39.344478607177734,-31.829801559448242,-27.230205535888672,-12.060112953186035,49.131141662597656,-11.959490776062012,21.611324310302734,-1.970993161201477,-21.71891212463379,-5.475438117980957,-18.334318161010742,3.834132671356201,-45.26016616821289,30.452495574951172,54.86730194091797,-17.43537712097168,0.8058741688728333,-13.469852447509766,-10.356698989868164,32.06687545776367,-47.227420806884766,-12.080148696899414,23.351131439208984,-3.5752291679382324,23.116193771362305,1.5645099878311157,19.561311721801758,31.5499324798584,-25.56122589111328,-46.360042572021484,27.63527488708496,19.566396713256836,-49.016937255859375,48.75543975830078,-16.81368637084961,-50.50379180908203,-5.390579700469971,45.21514892578125,-16.16249656677246,8.843106269836426,-23.9881591796875,-44.082359313964844,50.345985412597656,-6.23422908782959,35.647464752197266,46.7552375793457,33.968021392822266,-20.08633041381836,-7.078438758850098,-3.2011919021606445,0.3498400151729584,-26.951152801513672,-45.648136138916016,-10.57221508026123,12.768649101257324,-8.817636489868164,-48.52778625488281,-30.407146453857422,-31.547889709472656,-11.86606502532959,-20.70585823059082,26.747976303100586,-51.82133865356445,21.030969619750977,29.05259895324707,22.73540687561035,0.1906086504459381,34.08091354370117,-3.477933406829834,35.9321174621582,-8.609859466552734,-51.006935119628906,22.688772201538086,-51.14967346191406,0.9880809783935547,-11.344837188720703,-30.78289794921875,29.048107147216797,-9.967228889465332,25.990671157836914,56.66368865966797,33.78786849975586,1.3753457069396973,-7.8408708572387695,-30.723949432373047,-11.07387638092041,-19.60736083984375,-36.16722869873047,6.938363552093506,-5.134383678436279,-11.689600944519043,20.851394653320312,10.122261047363281,21.27348518371582,-12.1316499710083,-1.190443754196167,-17.93102264404297,33.3545036315918,50.74809265136719,-20.87184715270996,45.634033203125,0.05879488214850426,-43.505619049072266,48.45918273925781,-46.58372116088867,-0.06545072793960571,-39.69417190551758,-34.830596923828125,28.39266014099121,6.4222917556762695,-15.534276008605957,16.467391967773438,-10.67601203918457,8.529948234558105,22.39852523803711,8.6859769821167,-13.779778480529785,31.76175880432129,-2.565297842025757,45.244625091552734,-20.519773483276367,19.779550552368164,24.965970993041992,18.83510971069336,48.782169342041016,12.539763450622559,2.781749725341797,12.644671440124512,-43.07373046875,-3.608950614929199,-55.63094711303711,-4.892625331878662,-14.792442321777344,-44.895694732666016,-30.972536087036133,11.163960456848145,-17.539398193359375,35.40767288208008,47.51683044433594,1.793729305267334,5.84750509262085,2.390848159790039,-10.714027404785156,26.66956329345703,2.654606819152832,-16.533554077148438,-14.00368595123291,-46.21198272705078,-21.367130279541016,-14.555209159851074,0.9764450192451477,-6.001006603240967,-30.735706329345703,-33.08177185058594,44.1594123840332,-24.715749740600586,1.1106656789779663,-15.454837799072266,15.578205108642578,-2.1425530910491943,-11.398547172546387,-11.154794692993164,5.549947261810303,-35.91754913330078,38.48250961303711,34.776153564453125,-6.773681640625,12.883174896240234,-10.225726127624512,-39.35858154296875,7.922238826751709,34.35013961791992,-13.358330726623535,-3.0052671432495117,38.14885330200195,15.027441024780273,9.609663963317871,-20.746458053588867,-6.5547919273376465,23.993873596191406,-11.793266296386719,-23.069557189941406,22.682016372680664,18.08461570739746,-23.084680557250977,-8.647578239440918,38.21115493774414,5.683617115020752,-33.75337219238281,-18.917861938476562,-3.8282394409179688,22.837759017944336,40.61250305175781,9.082429885864258,-48.631927490234375,-19.009428024291992,46.60477066040039,29.367469787597656,-52.756675720214844,13.328365325927734,9.618548393249512,-49.302207946777344,-30.72596549987793,24.095314025878906,14.983413696289062,-22.766315460205078,-13.698366165161133,36.37394714355469,-49.76255798339844,10.27667236328125,42.78894805908203,43.24523162841797,14.080784797668457,-9.567712783813477,-50.89952850341797,31.373754501342773,-2.399134397506714,-9.501178741455078,-31.838441848754883,-32.987239837646484,32.383487701416016,53.9597282409668,-30.910701751708984,-44.39429473876953,14.42503547668457,-14.405377388000488,12.711878776550293,17.440322875976562,39.8648567199707,-43.007850646972656,-30.638185501098633,-18.724531173706055,9.775065422058105,-9.296602249145508,-23.980098724365234,-12.65672492980957,15.255532264709473,-16.61840057373047,46.060482025146484],\"xaxis\":\"x\",\"y\":[0,1,2,3,4,5,6,7,8,9,10,11,12,13,14,15,16,17,18,19,20,21,22,23,24,25,26,27,28,29,30,31,32,33,34,35,36,37,38,39,40,41,42,43,44,45,46,47,48,49,50,51,52,53,54,55,56,57,58,59,60,61,62,63,64,65,66,67,68,69,70,71,72,73,74,75,76,77,78,79,80,81,82,83,84,85,86,87,88,89,90,91,92,93,94,95,96,97,98,99,100,101,102,103,104,105,106,107,108,109,110,111,112,113,114,115,116,117,118,119,120,121,122,123,124,125,126,127,128,129,130,131,132,133,134,135,136,137,138,139,140,141,142,143,144,145,146,147,148,149,150,151,152,153,154,155,156,157,158,159,160,161,162,163,164,165,166,167,168,169,170,171,172,173,174,175,176,177,178,179,180,181,182,183,184,185,186,187,188,189,190,191,192,193,194,195,196,197,198,199,200,201,202,203,204,205,206,207,208,209,210,211,212,213,214,215,216,217,218,219,220,221,222,223,224,225,226,227,228,229,230,231,232,233,234,235,236,237,238,239,240,241,242,243,244,245,246,247,248,249,250,251,252,253,254,255,256,257,258,259,260,261,262,263,264,265,266,267,268,269,270,271,272,273,274,275,276,277,278,279,280,281,282,283,284,285,286,287,288,289,290,291,292,293,294,295,296,297,298,299,300,301,302,303,304,305,306,307,308,309,310,311,312,313,314,315,316,317,318,319,320,321,322,323,324,325,326,327,328,329,330,331,332,333,334,335,336,337,338,339,340,341,342,343,344,345,346,347,348,349,350,351,352,353,354,355,356,357,358,359,360,361,362,363,364,365,366,367,368,369,370,371,372,373,374,375,376,377,378,379,380,381,382,383,384,385,386,387,388,389,390,391,392,393,394,395,396,397,398,399,400,401,402,403,404,405,406,407,408,409,410,411,412,413,414,415,416,417,418,419,420,421,422,423,424,425,426,427,428,429,430,431,432,433,434,435,436,437,438,439,440,441,442,443,444,445,446,447,448,449,450,451,452,453,454,455,456,457,458,459,460,461,462,463,464,465,466,467,468,469,470,471,472,473,474,475,476,477,478,479,480,481,482,483,484,485,486,487,488,489,490,491,492,493,494,495,496,497,498,499,500,501,502,503,504,505,506,507,508,509,510,511,512,513,514,515,516,517,518,519,520,521,522,523,524,525,526,527,528,529,530,531,532,533,534,535,536,537,538,539,540,541,542,543,544,545,546,547,548,549,550,551,552,553,554,555,556,557,558,559,560,561,562,563,564,565,566,567,568,569,570,571,572,573,574,575,576,577,578,579,580,581,582,583,584,585,586,587,588,589,590,591,592,593,594,595,596,597,598,599,600,601,602,603,604,605,606,607,608,609,610,611,612,613,614,615,616,617,618,619,620,621,622,623,624,625,626,627,628,629,630,631,632,633,634,635,636,637,638,639,640,641,642,643,644,645,646,647,648,649,650,651,652,653,654,655,656,657,658,659,660,661,662,663,664,665,666,667,668,669,670,671,672,673,674,675,676,677,678,679,680,681,682,683,684,685,686,687,688,689,690,691,692,693,694,695,696,697,698,699,700,701,702,703,704,705,706,707,708,709,710,711,712,713,714,715,716,717,718,719,720,721,722,723,724,725,726,727,728,729,730,731,732,733,734,735,736,737,738,739,740,741,742,743,744,745,746,747,748,749,750,751,752,753,754,755,756,757,758,759,760,761,762,763,764,765,766,767,768,769,770,771,772,773,774,775,776,777,778,779,780,781,782,783,784,785,786,787,788,789,790,791,792,793,794,795,796,797,798,799,800,801,802,803,804,805,806,807,808,809,810,811,812,813,814,815,816,817,818,819,820,821,822,823,824,825,826,827,828,829,830,831,832,833,834,835,836,837,838,839,840,841,842,843,844,845,846,847,848,849,850,851,852,853,854,855,856,857,858,859,860,861,862,863,864,865,866,867,868,869,870,871,872,873,874,875,876,877,878,879,880,881,882,883,884,885,886,887,888,889,890,891,892,893,894,895,896,897,898,899,900,901,902,903,904,905,906,907,908,909,910,911,912,913,914,915,916,917,918,919,920,921,922,923,924,925,926,927,928,929,930,931,932,933,934,935,936,937,938,939,940,941,942,943,944,945,946,947,948,949,950,951,952,953,954,955,956,957,958,959,960,961,962,963,964,965,966,967,968,969,970,971,972,973,974,975,976,977,978,979,980,981,982,983,984,985,986,987,988,989,990,991,992,993,994,995,996,997,998,999,1000,1001,1002,1003,1004,1005,1006,1007,1008,1009,1010,1011,1012,1013,1014,1015,1016,1017,1018,1019,1020,1021,1022,1023,1024,1025,1026,1027,1028,1029,1030,1031,1032,1033,1034,1035,1036,1037,1038,1039,1040,1041,1042,1043,1044,1045,1046,1047,1048,1049,1050,1051,1052,1053,1054,1055,1056,1057,1058,1059,1060,1061,1062,1063,1064,1065,1066,1067,1068,1069,1070,1071,1072,1073,1074,1075,1076,1077,1078,1079,1080,1081,1082,1083,1084,1085,1086,1087,1088,1089,1090,1091,1092,1093,1094,1095,1096,1097,1098,1099,1100,1101,1102,1103,1104,1105,1106,1107,1108,1109,1110,1111,1112,1113,1114,1115,1116,1117,1118,1119,1120,1121,1122,1123,1124,1125,1126,1127,1128,1129,1130,1131,1132,1133,1134,1135,1136,1137,1138,1139,1140,1141,1142,1143,1144,1145,1146,1147,1148,1149,1150,1151,1152,1153,1154,1155,1156,1157,1158,1159,1160,1161,1162,1163,1164,1165,1166,1167,1168,1169,1170,1171,1172,1173,1174,1175,1176,1177,1178,1179,1180,1181,1182,1183,1184,1185,1186,1187,1188,1189,1190,1191,1192,1193,1194,1195,1196,1197,1198,1199,1200,1201,1202,1203,1204,1205,1206,1207,1208,1209,1210,1211,1212,1213,1214,1215,1216,1217,1218,1219,1220,1221,1222,1223,1224,1225,1226,1227,1228,1229,1230,1231,1232,1233,1234,1235,1236,1237,1238,1239,1240,1241,1242,1243,1244,1245,1246,1247,1248,1249,1250,1251,1252,1253,1254,1255,1256,1257,1258,1259,1260,1261,1262,1263,1264,1265,1266,1267,1268,1269,1270,1271,1272,1273,1274,1275,1276,1277,1278,1279,1280,1281,1282,1283,1284,1285,1286,1287,1288,1289,1290,1291,1292,1293,1294,1295,1296,1297,1298,1299,1300,1301,1302,1303,1304,1305,1306,1307,1308,1309,1310,1311,1312,1313,1314,1315,1316,1317,1318,1319,1320,1321,1322,1323,1324,1325,1326,1327,1328,1329,1330,1331,1332,1333,1334,1335,1336,1337,1338,1339,1340,1341,1342,1343,1344,1345,1346,1347,1348,1349,1350,1351,1352,1353,1354,1355,1356,1357,1358,1359,1360,1361,1362,1363,1364,1365,1366,1367,1368,1369,1370,1371,1372,1373,1374,1375,1376,1377,1378,1379,1380,1381,1382,1383,1384,1385,1386,1387,1388,1389,1390,1391,1392,1393,1394,1395,1396,1397,1398,1399,1400,1401,1402,1403,1404,1405,1406,1407,1408,1409,1410,1411,1412,1413,1414,1415,1416,1417,1418,1419,1420,1421,1422,1423,1424,1425,1426,1427,1428,1429,1430,1431,1432,1433,1434,1435,1436,1437,1438,1439,1440,1441,1442,1443,1444,1445,1446,1447,1448,1449,1450,1451,1452,1453,1454,1455,1456,1457,1458,1459,1460,1461,1462,1463,1464,1465,1466,1467,1468,1469,1470,1471,1472,1473,1474,1475,1476,1477,1478,1479,1480,1481,1482,1483,1484,1485,1486,1487,1488,1489,1490,1491,1492,1493,1494,1495,1496,1497,1498,1499,1500,1501,1502,1503,1504,1505,1506,1507,1508,1509,1510,1511,1512,1513,1514,1515,1516,1517,1518,1519,1520,1521,1522,1523,1524,1525,1526,1527,1528,1529,1530,1531,1532,1533,1534,1535,1536,1537,1538,1539,1540,1541,1542,1543,1544,1545,1546,1547,1548,1549,1550,1551,1552,1553,1554,1555,1556,1557,1558,1559,1560,1561,1562,1563,1564,1565,1566,1567,1568,1569,1570,1571,1572,1573,1574,1575,1576,1577,1578,1579,1580,1581,1582,1583,1584,1585,1586,1587,1588,1589,1590,1591,1592,1593,1594,1595,1596,1597,1598,1599,1600,1601,1602,1603,1604,1605,1606,1607,1608,1609,1610,1611,1612,1613,1614,1615,1616,1617,1618,1619,1620,1621,1622,1623,1624,1625,1626,1627,1628,1629,1630,1631,1632,1633,1634,1635,1636,1637,1638,1639,1640,1641,1642,1643,1644,1645,1646,1647,1648,1649,1650,1651,1652,1653,1654,1655,1656,1657,1658,1659,1660,1661,1662,1663,1664,1665,1666,1667,1668,1669,1670,1671,1672,1673,1674,1675,1676,1677,1678,1679,1680,1681,1682,1683,1684,1685,1686,1687,1688,1689,1690,1691,1692,1693,1694,1695,1696,1697,1698,1699,1700,1701,1702,1703,1704,1705,1706,1707,1708,1709,1710,1711,1712,1713,1714,1715,1716,1717,1718,1719,1720,1721,1722,1723,1724,1725,1726,1727,1728,1729,1730,1731,1732,1733,1734,1735,1736,1737,1738,1739,1740,1741,1742,1743,1744,1745,1746,1747,1748,1749,1750,1751,1752,1753,1754,1755,1756,1757,1758,1759,1760,1761,1762,1763,1764,1765,1766,1767,1768,1769,1770,1771,1772,1773,1774,1775,1776,1777,1778,1779,1780,1781,1782,1783,1784,1785,1786,1787,1788,1789,1790,1791,1792,1793,1794,1795,1796,1797,1798,1799,1800,1801,1802,1803,1804,1805,1806,1807,1808,1809,1810,1811,1812,1813,1814,1815,1816,1817,1818,1819,1820,1821,1822,1823,1824,1825,1826,1827,1828,1829,1830,1831,1832,1833,1834,1835,1836,1837,1838,1839,1840,1841,1842,1843,1844,1845,1846,1847,1848,1849,1850,1851,1852,1853,1854,1855,1856,1857,1858,1859,1860,1861,1862,1863,1864,1865,1866,1867,1868,1869,1870,1871,1872,1873,1874,1875,1876,1877,1878,1879,1880,1881,1882,1883,1884,1885,1886,1887,1888,1889,1890,1891,1892,1893,1894,1895,1896,1897,1898,1899,1900,1901,1902,1903,1904,1905,1906,1907,1908,1909,1910,1911,1912,1913,1914,1915,1916,1917,1918,1919,1920,1921,1922,1923,1924,1925,1926,1927,1928,1929,1930,1931,1932,1933,1934,1935,1936,1937,1938,1939,1940,1941,1942,1943,1944,1945,1946,1947,1948,1949,1950,1951,1952,1953,1954,1955,1956,1957,1958,1959,1960,1961,1962,1963,1964,1965,1966,1967,1968,1969,1970,1971,1972,1973,1974,1975,1976,1977,1978,1979,1980,1981,1982,1983,1984,1985,1986,1987,1988,1989,1990,1991,1992,1993,1994,1995,1996,1997,1998,1999,2000,2001,2002,2003,2004,2005,2006,2007,2008,2009,2010,2011,2012,2013,2014,2015,2016,2017,2018,2019,2020,2021,2022,2023,2024,2025,2026,2027,2028,2029,2030,2031,2032,2033,2034,2035,2036,2037,2038,2039,2040,2041,2042,2043,2044,2045,2046,2047,2048,2049,2050,2051,2052,2053,2054,2055,2056,2057,2058,2059,2060,2061,2062,2063,2064,2065,2066,2067,2068,2069,2070,2071,2072,2073,2074,2075,2076,2077,2078,2079,2080,2081,2082,2083,2084,2085,2086,2087,2088,2089,2090,2091,2092,2093,2094,2095,2096,2097,2098,2099,2100,2101,2102,2103,2104,2105,2106,2107,2108,2109,2110,2111,2112,2113,2114,2115,2116,2117,2118,2119,2120,2121,2122,2123,2124,2125,2126,2127,2128,2129,2130,2131,2132,2133,2134,2135,2136,2137,2138,2139,2140,2141,2142,2143,2144,2145,2146,2147,2148,2149,2150,2151,2152,2153,2154,2155,2156,2157,2158,2159,2160,2161,2162,2163,2164,2165,2166,2167,2168,2169,2170,2171,2172,2173,2174,2175,2176,2177,2178,2179,2180,2181,2182,2183,2184,2185,2186,2187,2188,2189,2190,2191,2192,2193,2194,2195,2196,2197,2198,2199,2200,2201,2202,2203,2204,2205,2206,2207,2208,2209,2210,2211,2212,2213,2214,2215,2216,2217,2218,2219,2220,2221,2222,2223,2224,2225,2226,2227,2228,2229,2230,2231,2232,2233,2234,2235,2236,2237,2238,2239,2240,2241,2242,2243,2244,2245,2246,2247,2248,2249,2250,2251,2252,2253,2254,2255,2256,2257,2258,2259,2260,2261,2262,2263,2264,2265,2266,2267,2268,2269,2270,2271,2272,2273,2274,2275,2276,2277,2278,2279,2280,2281,2282,2283,2284,2285,2286,2287,2288,2289,2290,2291,2292,2293,2294,2295,2296,2297,2298,2299,2300,2301,2302,2303,2304,2305,2306,2307,2308,2309,2310,2311,2312,2313,2314,2315,2316,2317,2318,2319,2320,2321,2322,2323,2324,2325,2326,2327,2328,2329,2330,2331,2332,2333,2334,2335,2336,2337,2338,2339,2340,2341,2342,2343,2344,2345,2346,2347,2348,2349,2350,2351,2352,2353,2354,2355,2356,2357,2358,2359,2360,2361,2362,2363,2364,2365,2366,2367,2368,2369,2370,2371,2372,2373,2374,2375,2376,2377,2378,2379,2380,2381,2382,2383,2384,2385,2386,2387,2388,2389,2390,2391,2392,2393,2394,2395,2396,2397,2398,2399,2400,2401,2402,2403,2404,2405,2406,2407,2408,2409,2410,2411,2412,2413,2414,2415,2416,2417,2418,2419,2420,2421,2422,2423,2424,2425,2426,2427,2428,2429,2430,2431,2432,2433,2434,2435,2436,2437,2438,2439,2440,2441,2442,2443,2444,2445,2446,2447,2448,2449,2450,2451,2452,2453,2454,2455,2456,2457,2458,2459,2460,2461,2462,2463,2464,2465,2466,2467,2468,2469,2470,2471,2472,2473,2474,2475,2476,2477,2478,2479,2480,2481,2482,2483,2484,2485,2486,2487,2488,2489,2490,2491,2492,2493,2494,2495,2496,2497,2498,2499,2500,2501,2502,2503,2504,2505,2506,2507,2508,2509,2510,2511,2512,2513,2514,2515,2516,2517,2518,2519,2520,2521,2522,2523,2524,2525,2526,2527,2528,2529,2530,2531,2532,2533,2534,2535,2536,2537,2538,2539,2540,2541,2542,2543,2544,2545,2546,2547,2548,2549,2550,2551,2552,2553,2554,2555,2556,2557,2558,2559,2560,2561,2562,2563,2564,2565,2566,2567,2568,2569,2570,2571,2572,2573,2574,2575,2576,2577,2578,2579,2580,2581,2582,2583,2584,2585,2586,2587,2588,2589,2590,2591,2592,2593,2594,2595,2596,2597,2598,2599,2600,2601,2602,2603,2604,2605,2606,2607,2608,2609,2610,2611,2612,2613,2614,2615,2616,2617,2618,2619,2620,2621,2622,2623,2624,2625,2626,2627,2628,2629,2630,2631,2632,2633,2634,2635,2636,2637,2638,2639,2640,2641,2642,2643,2644,2645,2646,2647,2648,2649,2650,2651,2652,2653,2654,2655,2656,2657,2658,2659,2660,2661,2662,2663,2664,2665,2666,2667,2668,2669,2670,2671,2672,2673,2674,2675,2676,2677,2678,2679,2680,2681,2682,2683,2684,2685,2686,2687,2688,2689,2690,2691,2692,2693,2694,2695,2696,2697,2698,2699,2700,2701,2702,2703,2704,2705,2706,2707,2708,2709,2710,2711,2712,2713,2714,2715,2716,2717,2718,2719,2720,2721,2722,2723,2724,2725,2726,2727,2728,2729,2730,2731,2732,2733,2734,2735,2736,2737,2738,2739,2740,2741,2742,2743,2744,2745,2746,2747,2748,2749,2750,2751,2752,2753,2754,2755,2756,2757,2758,2759,2760,2761,2762,2763,2764,2765,2766,2767,2768,2769,2770,2771,2772,2773,2774,2775,2776,2777,2778,2779,2780,2781,2782,2783,2784,2785,2786,2787,2788,2789,2790,2791,2792,2793,2794,2795,2796,2797,2798,2799,2800,2801,2802,2803,2804,2805,2806,2807,2808,2809,2810,2811,2812,2813,2814,2815,2816,2817,2818,2819,2820,2821,2822,2823,2824,2825,2826,2827,2828,2829,2830,2831,2832,2833,2834,2835,2836,2837,2838,2839,2840,2841,2842,2843,2844,2845,2846,2847,2848,2849,2850,2851,2852,2853,2854,2855,2856,2857,2858,2859,2860,2861,2862,2863,2864,2865,2866,2867,2868,2869,2870,2871,2872,2873,2874,2875,2876,2877,2878,2879,2880,2881,2882,2883,2884,2885,2886,2887,2888,2889,2890,2891,2892,2893,2894,2895,2896,2897,2898,2899,2900,2901,2902,2903,2904,2905,2906,2907,2908,2909,2910,2911,2912,2913,2914,2915,2916,2917,2918,2919,2920,2921,2922,2923,2924,2925,2926,2927,2928,2929,2930,2931,2932,2933,2934,2935,2936,2937,2938,2939,2940,2941,2942,2943,2944,2945,2946,2947,2948,2949,2950,2951,2952,2953,2954,2955,2956,2957,2958,2959,2960,2961,2962,2963,2964,2965,2966,2967,2968,2969,2970,2971,2972,2973,2974,2975,2976,2977,2978,2979,2980,2981,2982,2983,2984,2985,2986,2987,2988,2989,2990,2991,2992,2993,2994,2995,2996,2997,2998,2999,3000,3001,3002,3003,3004,3005,3006,3007,3008,3009,3010,3011,3012,3013,3014,3015,3016,3017,3018,3019,3020,3021,3022,3023,3024,3025,3026,3027,3028,3029,3030,3031,3032,3033,3034,3035,3036,3037,3038,3039,3040,3041,3042,3043,3044,3045,3046,3047,3048,3049,3050,3051,3052,3053,3054,3055,3056,3057,3058,3059,3060,3061,3062,3063,3064,3065,3066,3067,3068,3069,3070,3071,3072,3073,3074,3075,3076,3077,3078,3079,3080,3081,3082,3083,3084,3085,3086,3087,3088,3089,3090,3091,3092,3093,3094,3095,3096,3097,3098,3099,3100,3101,3102,3103,3104,3105,3106,3107,3108,3109,3110,3111,3112,3113,3114,3115,3116,3117,3118,3119,3120,3121,3122,3123,3124,3125,3126,3127,3128,3129,3130,3131,3132,3133,3134,3135,3136,3137,3138,3139,3140,3141,3142,3143,3144,3145,3146,3147,3148,3149,3150,3151,3152,3153,3154,3155,3156,3157,3158,3159,3160,3161,3162,3163,3164,3165,3166,3167,3168,3169,3170,3171,3172,3173,3174,3175,3176,3177,3178,3179,3180,3181,3182,3183,3184,3185,3186,3187,3188,3189,3190,3191,3192,3193,3194,3195,3196,3197,3198,3199,3200,3201,3202,3203,3204,3205,3206,3207,3208,3209,3210,3211,3212,3213,3214,3215,3216,3217,3218,3219,3220,3221,3222,3223,3224,3225,3226,3227,3228,3229,3230,3231,3232,3233,3234,3235,3236,3237,3238,3239,3240,3241,3242,3243,3244,3245,3246,3247,3248,3249,3250,3251,3252,3253,3254,3255,3256,3257,3258,3259,3260,3261,3262,3263,3264,3265,3266,3267,3268,3269,3270,3271,3272,3273,3274,3275,3276,3277,3278,3279,3280,3281,3282,3283,3284,3285,3286,3287,3288,3289,3290,3291,3292,3293,3294,3295,3296,3297,3298,3299,3300,3301,3302,3303,3304,3305,3306,3307,3308,3309,3310,3311,3312,3313,3314,3315,3316,3317,3318,3319,3320,3321,3322,3323,3324,3325,3326,3327,3328,3329,3330,3331,3332,3333,3334,3335,3336,3337,3338,3339,3340,3341,3342,3343,3344,3345,3346,3347,3348,3349,3350,3351,3352,3353,3354,3355,3356,3357,3358,3359,3360,3361,3362,3363,3364,3365,3366,3367,3368,3369,3370,3371,3372,3373,3374,3375,3376,3377,3378,3379,3380,3381,3382,3383,3384,3385,3386,3387,3388,3389,3390,3391,3392,3393,3394,3395,3396,3397,3398,3399,3400,3401,3402,3403,3404,3405,3406,3407,3408,3409,3410,3411,3412,3413,3414,3415,3416,3417,3418,3419,3420,3421,3422,3423,3424,3425,3426,3427,3428,3429,3430,3431,3432,3433,3434,3435,3436,3437,3438,3439,3440,3441,3442,3443,3444,3445,3446,3447,3448,3449,3450,3451,3452,3453,3454,3455,3456,3457,3458,3459,3460,3461,3462,3463,3464,3465,3466,3467,3468,3469,3470,3471,3472,3473,3474,3475,3476,3477,3478,3479,3480,3481,3482,3483,3484,3485,3486,3487,3488,3489,3490,3491,3492,3493,3494,3495,3496,3497,3498,3499,3500,3501,3502,3503,3504,3505,3506,3507,3508,3509,3510,3511,3512,3513,3514,3515,3516,3517,3518,3519,3520,3521,3522,3523,3524,3525,3526,3527,3528,3529,3530,3531,3532,3533,3534,3535,3536,3537,3538,3539,3540,3541,3542,3543,3544,3545,3546,3547,3548,3549,3550,3551,3552,3553,3554,3555,3556,3557,3558,3559,3560,3561,3562,3563,3564,3565,3566,3567,3568,3569,3570,3571,3572,3573,3574,3575,3576,3577,3578,3579,3580,3581,3582,3583,3584,3585,3586,3587,3588,3589,3590,3591,3592,3593,3594,3595,3596,3597,3598,3599,3600,3601,3602,3603,3604,3605,3606,3607,3608,3609,3610,3611,3612,3613,3614,3615,3616,3617,3618,3619,3620,3621,3622,3623,3624,3625,3626,3627,3628,3629,3630,3631,3632,3633,3634,3635,3636,3637,3638,3639,3640,3641,3642,3643,3644,3645,3646,3647,3648,3649,3650,3651,3652,3653,3654,3655,3656,3657,3658,3659,3660,3661,3662,3663,3664,3665,3666,3667,3668,3669,3670,3671,3672,3673,3674,3675,3676,3677,3678,3679,3680,3681,3682,3683,3684,3685,3686,3687,3688,3689,3690,3691,3692,3693,3694,3695,3696,3697,3698,3699,3700,3701,3702,3703,3704,3705,3706,3707,3708,3709,3710,3711,3712,3713,3714,3715,3716,3717,3718,3719,3720,3721,3722,3723,3724,3725,3726,3727,3728,3729,3730,3731,3732,3733,3734,3735,3736,3737,3738,3739,3740,3741,3742,3743,3744,3745,3746,3747,3748,3749,3750,3751,3752,3753,3754,3755,3756,3757,3758,3759,3760,3761,3762,3763,3764,3765,3766,3767,3768,3769,3770,3771,3772,3773,3774,3775,3776,3777,3778,3779,3780,3781,3782,3783,3784,3785,3786,3787,3788,3789,3790,3791,3792,3793,3794,3795,3796,3797,3798,3799,3800,3801,3802,3803,3804,3805,3806,3807,3808,3809,3810,3811,3812,3813,3814,3815,3816,3817,3818,3819,3820,3821,3822,3823,3824,3825,3826,3827,3828,3829,3830,3831,3832,3833,3834,3835,3836,3837,3838,3839,3840,3841,3842,3843,3844,3845,3846,3847,3848,3849,3850,3851,3852,3853,3854,3855,3856,3857,3858,3859,3860,3861,3862,3863,3864,3865,3866,3867,3868,3869,3870,3871,3872,3873,3874,3875,3876,3877,3878,3879,3880,3881,3882,3883,3884,3885,3886,3887,3888,3889,3890,3891,3892,3893,3894,3895,3896,3897,3898,3899,3900,3901,3902,3903,3904,3905,3906,3907,3908,3909,3910,3911,3912,3913,3914,3915,3916,3917,3918,3919,3920,3921,3922,3923,3924,3925,3926,3927,3928,3929,3930,3931,3932,3933,3934,3935,3936,3937,3938,3939,3940,3941,3942,3943,3944,3945,3946,3947,3948,3949,3950,3951,3952,3953,3954,3955,3956,3957,3958,3959,3960,3961,3962,3963,3964,3965,3966,3967,3968,3969,3970,3971,3972,3973,3974,3975,3976,3977,3978,3979,3980,3981,3982,3983,3984,3985,3986,3987,3988,3989,3990,3991,3992,3993,3994,3995,3996,3997,3998,3999,4000,4001,4002,4003,4004,4005,4006,4007,4008,4009,4010,4011,4012,4013,4014,4015,4016,4017,4018,4019,4020,4021,4022,4023,4024,4025,4026,4027,4028,4029,4030,4031,4032,4033,4034,4035,4036,4037,4038,4039,4040,4041,4042,4043,4044,4045,4046,4047,4048,4049,4050,4051,4052,4053,4054,4055,4056,4057,4058,4059,4060,4061,4062,4063,4064,4065,4066,4067,4068,4069,4070,4071,4072,4073,4074,4075,4076,4077,4078,4079,4080,4081,4082,4083,4084,4085,4086,4087,4088,4089,4090,4091,4092,4093,4094,4095,4096,4097,4098,4099,4100,4101,4102,4103,4104,4105,4106,4107,4108,4109,4110,4111,4112,4113,4114,4115,4116,4117,4118,4119,4120,4121,4122,4123,4124,4125,4126,4127,4128,4129,4130,4131,4132,4133,4134,4135,4136,4137,4138,4139,4140,4141,4142,4143,4144,4145,4146,4147,4148,4149,4150,4151,4152,4153,4154,4155,4156,4157,4158,4159,4160,4161,4162,4163,4164,4165,4166,4167,4168,4169,4170,4171,4172,4173,4174,4175,4176,4177,4178,4179,4180,4181,4182,4183,4184,4185,4186,4187,4188,4189,4190,4191,4192,4193,4194,4195,4196,4197,4198,4199],\"yaxis\":\"y\",\"type\":\"scattergl\"}],                        {\"template\":{\"data\":{\"histogram2dcontour\":[{\"type\":\"histogram2dcontour\",\"colorbar\":{\"outlinewidth\":0,\"ticks\":\"\"},\"colorscale\":[[0.0,\"#0d0887\"],[0.1111111111111111,\"#46039f\"],[0.2222222222222222,\"#7201a8\"],[0.3333333333333333,\"#9c179e\"],[0.4444444444444444,\"#bd3786\"],[0.5555555555555556,\"#d8576b\"],[0.6666666666666666,\"#ed7953\"],[0.7777777777777778,\"#fb9f3a\"],[0.8888888888888888,\"#fdca26\"],[1.0,\"#f0f921\"]]}],\"choropleth\":[{\"type\":\"choropleth\",\"colorbar\":{\"outlinewidth\":0,\"ticks\":\"\"}}],\"histogram2d\":[{\"type\":\"histogram2d\",\"colorbar\":{\"outlinewidth\":0,\"ticks\":\"\"},\"colorscale\":[[0.0,\"#0d0887\"],[0.1111111111111111,\"#46039f\"],[0.2222222222222222,\"#7201a8\"],[0.3333333333333333,\"#9c179e\"],[0.4444444444444444,\"#bd3786\"],[0.5555555555555556,\"#d8576b\"],[0.6666666666666666,\"#ed7953\"],[0.7777777777777778,\"#fb9f3a\"],[0.8888888888888888,\"#fdca26\"],[1.0,\"#f0f921\"]]}],\"heatmap\":[{\"type\":\"heatmap\",\"colorbar\":{\"outlinewidth\":0,\"ticks\":\"\"},\"colorscale\":[[0.0,\"#0d0887\"],[0.1111111111111111,\"#46039f\"],[0.2222222222222222,\"#7201a8\"],[0.3333333333333333,\"#9c179e\"],[0.4444444444444444,\"#bd3786\"],[0.5555555555555556,\"#d8576b\"],[0.6666666666666666,\"#ed7953\"],[0.7777777777777778,\"#fb9f3a\"],[0.8888888888888888,\"#fdca26\"],[1.0,\"#f0f921\"]]}],\"heatmapgl\":[{\"type\":\"heatmapgl\",\"colorbar\":{\"outlinewidth\":0,\"ticks\":\"\"},\"colorscale\":[[0.0,\"#0d0887\"],[0.1111111111111111,\"#46039f\"],[0.2222222222222222,\"#7201a8\"],[0.3333333333333333,\"#9c179e\"],[0.4444444444444444,\"#bd3786\"],[0.5555555555555556,\"#d8576b\"],[0.6666666666666666,\"#ed7953\"],[0.7777777777777778,\"#fb9f3a\"],[0.8888888888888888,\"#fdca26\"],[1.0,\"#f0f921\"]]}],\"contourcarpet\":[{\"type\":\"contourcarpet\",\"colorbar\":{\"outlinewidth\":0,\"ticks\":\"\"}}],\"contour\":[{\"type\":\"contour\",\"colorbar\":{\"outlinewidth\":0,\"ticks\":\"\"},\"colorscale\":[[0.0,\"#0d0887\"],[0.1111111111111111,\"#46039f\"],[0.2222222222222222,\"#7201a8\"],[0.3333333333333333,\"#9c179e\"],[0.4444444444444444,\"#bd3786\"],[0.5555555555555556,\"#d8576b\"],[0.6666666666666666,\"#ed7953\"],[0.7777777777777778,\"#fb9f3a\"],[0.8888888888888888,\"#fdca26\"],[1.0,\"#f0f921\"]]}],\"surface\":[{\"type\":\"surface\",\"colorbar\":{\"outlinewidth\":0,\"ticks\":\"\"},\"colorscale\":[[0.0,\"#0d0887\"],[0.1111111111111111,\"#46039f\"],[0.2222222222222222,\"#7201a8\"],[0.3333333333333333,\"#9c179e\"],[0.4444444444444444,\"#bd3786\"],[0.5555555555555556,\"#d8576b\"],[0.6666666666666666,\"#ed7953\"],[0.7777777777777778,\"#fb9f3a\"],[0.8888888888888888,\"#fdca26\"],[1.0,\"#f0f921\"]]}],\"mesh3d\":[{\"type\":\"mesh3d\",\"colorbar\":{\"outlinewidth\":0,\"ticks\":\"\"}}],\"scatter\":[{\"fillpattern\":{\"fillmode\":\"overlay\",\"size\":10,\"solidity\":0.2},\"type\":\"scatter\"}],\"parcoords\":[{\"type\":\"parcoords\",\"line\":{\"colorbar\":{\"outlinewidth\":0,\"ticks\":\"\"}}}],\"scatterpolargl\":[{\"type\":\"scatterpolargl\",\"marker\":{\"colorbar\":{\"outlinewidth\":0,\"ticks\":\"\"}}}],\"bar\":[{\"error_x\":{\"color\":\"#2a3f5f\"},\"error_y\":{\"color\":\"#2a3f5f\"},\"marker\":{\"line\":{\"color\":\"#E5ECF6\",\"width\":0.5},\"pattern\":{\"fillmode\":\"overlay\",\"size\":10,\"solidity\":0.2}},\"type\":\"bar\"}],\"scattergeo\":[{\"type\":\"scattergeo\",\"marker\":{\"colorbar\":{\"outlinewidth\":0,\"ticks\":\"\"}}}],\"scatterpolar\":[{\"type\":\"scatterpolar\",\"marker\":{\"colorbar\":{\"outlinewidth\":0,\"ticks\":\"\"}}}],\"histogram\":[{\"marker\":{\"pattern\":{\"fillmode\":\"overlay\",\"size\":10,\"solidity\":0.2}},\"type\":\"histogram\"}],\"scattergl\":[{\"type\":\"scattergl\",\"marker\":{\"colorbar\":{\"outlinewidth\":0,\"ticks\":\"\"}}}],\"scatter3d\":[{\"type\":\"scatter3d\",\"line\":{\"colorbar\":{\"outlinewidth\":0,\"ticks\":\"\"}},\"marker\":{\"colorbar\":{\"outlinewidth\":0,\"ticks\":\"\"}}}],\"scattermapbox\":[{\"type\":\"scattermapbox\",\"marker\":{\"colorbar\":{\"outlinewidth\":0,\"ticks\":\"\"}}}],\"scatterternary\":[{\"type\":\"scatterternary\",\"marker\":{\"colorbar\":{\"outlinewidth\":0,\"ticks\":\"\"}}}],\"scattercarpet\":[{\"type\":\"scattercarpet\",\"marker\":{\"colorbar\":{\"outlinewidth\":0,\"ticks\":\"\"}}}],\"carpet\":[{\"aaxis\":{\"endlinecolor\":\"#2a3f5f\",\"gridcolor\":\"white\",\"linecolor\":\"white\",\"minorgridcolor\":\"white\",\"startlinecolor\":\"#2a3f5f\"},\"baxis\":{\"endlinecolor\":\"#2a3f5f\",\"gridcolor\":\"white\",\"linecolor\":\"white\",\"minorgridcolor\":\"white\",\"startlinecolor\":\"#2a3f5f\"},\"type\":\"carpet\"}],\"table\":[{\"cells\":{\"fill\":{\"color\":\"#EBF0F8\"},\"line\":{\"color\":\"white\"}},\"header\":{\"fill\":{\"color\":\"#C8D4E3\"},\"line\":{\"color\":\"white\"}},\"type\":\"table\"}],\"barpolar\":[{\"marker\":{\"line\":{\"color\":\"#E5ECF6\",\"width\":0.5},\"pattern\":{\"fillmode\":\"overlay\",\"size\":10,\"solidity\":0.2}},\"type\":\"barpolar\"}],\"pie\":[{\"automargin\":true,\"type\":\"pie\"}]},\"layout\":{\"autotypenumbers\":\"strict\",\"colorway\":[\"#636efa\",\"#EF553B\",\"#00cc96\",\"#ab63fa\",\"#FFA15A\",\"#19d3f3\",\"#FF6692\",\"#B6E880\",\"#FF97FF\",\"#FECB52\"],\"font\":{\"color\":\"#2a3f5f\"},\"hovermode\":\"closest\",\"hoverlabel\":{\"align\":\"left\"},\"paper_bgcolor\":\"white\",\"plot_bgcolor\":\"#E5ECF6\",\"polar\":{\"bgcolor\":\"#E5ECF6\",\"angularaxis\":{\"gridcolor\":\"white\",\"linecolor\":\"white\",\"ticks\":\"\"},\"radialaxis\":{\"gridcolor\":\"white\",\"linecolor\":\"white\",\"ticks\":\"\"}},\"ternary\":{\"bgcolor\":\"#E5ECF6\",\"aaxis\":{\"gridcolor\":\"white\",\"linecolor\":\"white\",\"ticks\":\"\"},\"baxis\":{\"gridcolor\":\"white\",\"linecolor\":\"white\",\"ticks\":\"\"},\"caxis\":{\"gridcolor\":\"white\",\"linecolor\":\"white\",\"ticks\":\"\"}},\"coloraxis\":{\"colorbar\":{\"outlinewidth\":0,\"ticks\":\"\"}},\"colorscale\":{\"sequential\":[[0.0,\"#0d0887\"],[0.1111111111111111,\"#46039f\"],[0.2222222222222222,\"#7201a8\"],[0.3333333333333333,\"#9c179e\"],[0.4444444444444444,\"#bd3786\"],[0.5555555555555556,\"#d8576b\"],[0.6666666666666666,\"#ed7953\"],[0.7777777777777778,\"#fb9f3a\"],[0.8888888888888888,\"#fdca26\"],[1.0,\"#f0f921\"]],\"sequentialminus\":[[0.0,\"#0d0887\"],[0.1111111111111111,\"#46039f\"],[0.2222222222222222,\"#7201a8\"],[0.3333333333333333,\"#9c179e\"],[0.4444444444444444,\"#bd3786\"],[0.5555555555555556,\"#d8576b\"],[0.6666666666666666,\"#ed7953\"],[0.7777777777777778,\"#fb9f3a\"],[0.8888888888888888,\"#fdca26\"],[1.0,\"#f0f921\"]],\"diverging\":[[0,\"#8e0152\"],[0.1,\"#c51b7d\"],[0.2,\"#de77ae\"],[0.3,\"#f1b6da\"],[0.4,\"#fde0ef\"],[0.5,\"#f7f7f7\"],[0.6,\"#e6f5d0\"],[0.7,\"#b8e186\"],[0.8,\"#7fbc41\"],[0.9,\"#4d9221\"],[1,\"#276419\"]]},\"xaxis\":{\"gridcolor\":\"white\",\"linecolor\":\"white\",\"ticks\":\"\",\"title\":{\"standoff\":15},\"zerolinecolor\":\"white\",\"automargin\":true,\"zerolinewidth\":2},\"yaxis\":{\"gridcolor\":\"white\",\"linecolor\":\"white\",\"ticks\":\"\",\"title\":{\"standoff\":15},\"zerolinecolor\":\"white\",\"automargin\":true,\"zerolinewidth\":2},\"scene\":{\"xaxis\":{\"backgroundcolor\":\"#E5ECF6\",\"gridcolor\":\"white\",\"linecolor\":\"white\",\"showbackground\":true,\"ticks\":\"\",\"zerolinecolor\":\"white\",\"gridwidth\":2},\"yaxis\":{\"backgroundcolor\":\"#E5ECF6\",\"gridcolor\":\"white\",\"linecolor\":\"white\",\"showbackground\":true,\"ticks\":\"\",\"zerolinecolor\":\"white\",\"gridwidth\":2},\"zaxis\":{\"backgroundcolor\":\"#E5ECF6\",\"gridcolor\":\"white\",\"linecolor\":\"white\",\"showbackground\":true,\"ticks\":\"\",\"zerolinecolor\":\"white\",\"gridwidth\":2}},\"shapedefaults\":{\"line\":{\"color\":\"#2a3f5f\"}},\"annotationdefaults\":{\"arrowcolor\":\"#2a3f5f\",\"arrowhead\":0,\"arrowwidth\":1},\"geo\":{\"bgcolor\":\"white\",\"landcolor\":\"#E5ECF6\",\"subunitcolor\":\"white\",\"showland\":true,\"showlakes\":true,\"lakecolor\":\"white\"},\"title\":{\"x\":0.05},\"mapbox\":{\"style\":\"light\"}}},\"xaxis\":{\"anchor\":\"y\",\"domain\":[0.0,1.0],\"title\":{\"text\":\"x\"}},\"yaxis\":{\"anchor\":\"x\",\"domain\":[0.0,1.0],\"title\":{\"text\":\"index\"}},\"coloraxis\":{\"colorbar\":{\"title\":{\"text\":\"\"}},\"colorscale\":[[0.0,\"#0d0887\"],[0.1111111111111111,\"#46039f\"],[0.2222222222222222,\"#7201a8\"],[0.3333333333333333,\"#9c179e\"],[0.4444444444444444,\"#bd3786\"],[0.5555555555555556,\"#d8576b\"],[0.6666666666666666,\"#ed7953\"],[0.7777777777777778,\"#fb9f3a\"],[0.8888888888888888,\"#fdca26\"],[1.0,\"#f0f921\"]]},\"legend\":{\"tracegroupgap\":0},\"margin\":{\"t\":60}},                        {\"responsive\": true}                    ).then(function(){\n",
              "                            \n",
              "var gd = document.getElementById('882ddfad-1933-491f-ac22-ffdc5c60473c');\n",
              "var x = new MutationObserver(function (mutations, observer) {{\n",
              "        var display = window.getComputedStyle(gd).display;\n",
              "        if (!display || display === 'none') {{\n",
              "            console.log([gd, 'removed!']);\n",
              "            Plotly.purge(gd);\n",
              "            observer.disconnect();\n",
              "        }}\n",
              "}});\n",
              "\n",
              "// Listen for the removal of the full notebook cells\n",
              "var notebookContainer = gd.closest('#notebook-container');\n",
              "if (notebookContainer) {{\n",
              "    x.observe(notebookContainer, {childList: true});\n",
              "}}\n",
              "\n",
              "// Listen for the clearing of the current output cell\n",
              "var outputEl = gd.closest('.output');\n",
              "if (outputEl) {{\n",
              "    x.observe(outputEl, {childList: true});\n",
              "}}\n",
              "\n",
              "                        })                };                            </script>        </div>\n",
              "</body>\n",
              "</html>"
            ]
          },
          "metadata": {}
        }
      ],
      "source": [
        "tsne=TSNE(n_components=2, random_state=0, learning_rate='auto')\n",
        "projections=tsne.fit_transform(trained_feature_n)\n",
        "fig=px.scatter(projections[:,0], projections[:,1], color=trained_label,labels={\"color\":\"\"})\n",
        "fig.show()"
      ]
    },
    {
      "cell_type": "code",
      "source": [
        "#task 2 Pretrained ResNet18 applied to Dataset2 & 3\n",
        "dataset2 = datasets.ImageFolder(\"/content/drive/My Drive/Comp 432/Dataset2\", transforms.Compose([\n",
        "        torchvision.transforms.Resize((224,224)),\n",
        "        torchvision.transforms.ColorJitter(hue=.05, saturation=.05),\n",
        "        torchvision.transforms.RandomHorizontalFlip(),\n",
        "        torchvision.transforms.RandomRotation(20),\n",
        "        transforms.ToTensor(),\n",
        "        transforms.Normalize([0.485, 0.456, 0.406], [0.229, 0.224, 0.225])]))\n",
        "\n",
        "train_set, test_set = torch.utils.data.random_split(dataset,[0.7,0.3])                # splits dataset into specified ratios\n",
        "train_loader = DataLoader(train_set,shuffle=True,batch_size=16, num_workers=0)         # create train loader\n",
        "test_loader = DataLoader(test_set,batch_size=16, num_workers=0)  # create test loader\n"
      ],
      "metadata": {
        "id": "4falhgicL2H2"
      },
      "execution_count": null,
      "outputs": []
    },
    {
      "cell_type": "code",
      "source": [
        "val_loss = []\n",
        "\n",
        "with torch.no_grad():\n",
        "          pretrained_model.eval()\n",
        "          running_loss = 0.0\n",
        "          running_score = 0.0\n",
        "          for image,label in test_loader:\n",
        "                image = image.to('cuda')\n",
        "                label = label.to('cuda')\n",
        "                optimizer.zero_grad()\n",
        "                y_pred = model.forward(image)\n",
        "                l = loss(y_pred,label)\n",
        "                running_loss += l.item()\n",
        "\n",
        "                val, index_ = torch.max(y_pred,axis=1)\n",
        "                running_score += torch.sum(index_ == label.data).item()\n",
        "\n",
        "          epoch_score = running_score/len(test_loader.dataset)\n",
        "          epoch_loss = running_loss/len(test_loader.dataset)\n",
        "          val_loss.append(epoch_loss)\n",
        "          print(\"Validation loss: {}, accuracy: {}\".format(epoch_loss,epoch_score))\n",
        "\n",
        "          all_predictions = []\n",
        "          true_labels = []\n",
        "          for inputs, labels in test_loader:\n",
        "              inputs, labels = inputs.to('cuda'), labels.to('cuda')\n",
        "              outputs = model.forward(inputs)\n",
        "              _, predicted = torch.max(outputs.data, 1)\n",
        "              all_predictions.extend(predicted.cpu().numpy())\n",
        "              true_labels.extend(labels.cpu().numpy())\n",
        "\n",
        "classification_rep = classification_report(true_labels, all_predictions, target_names=dataset2.classes)\n",
        "print(classification_rep)"
      ],
      "metadata": {
        "colab": {
          "base_uri": "https://localhost:8080/",
          "height": 384
        },
        "id": "OXUUzCHONEnz",
        "outputId": "54759728-5503-48c1-abdd-855705835b47"
      },
      "execution_count": null,
      "outputs": [
        {
          "output_type": "stream",
          "name": "stdout",
          "text": [
            "Validation loss: 0.629561579320063, accuracy: 0.0\n"
          ]
        },
        {
          "output_type": "error",
          "ename": "ValueError",
          "evalue": "ignored",
          "traceback": [
            "\u001b[0;31m---------------------------------------------------------------------------\u001b[0m",
            "\u001b[0;31mValueError\u001b[0m                                Traceback (most recent call last)",
            "\u001b[0;32m<ipython-input-22-7f2abe64261e>\u001b[0m in \u001b[0;36m<cell line: 32>\u001b[0;34m()\u001b[0m\n\u001b[1;32m     30\u001b[0m               \u001b[0mtrue_labels\u001b[0m\u001b[0;34m.\u001b[0m\u001b[0mextend\u001b[0m\u001b[0;34m(\u001b[0m\u001b[0mlabels\u001b[0m\u001b[0;34m.\u001b[0m\u001b[0mcpu\u001b[0m\u001b[0;34m(\u001b[0m\u001b[0;34m)\u001b[0m\u001b[0;34m.\u001b[0m\u001b[0mnumpy\u001b[0m\u001b[0;34m(\u001b[0m\u001b[0;34m)\u001b[0m\u001b[0;34m)\u001b[0m\u001b[0;34m\u001b[0m\u001b[0;34m\u001b[0m\u001b[0m\n\u001b[1;32m     31\u001b[0m \u001b[0;34m\u001b[0m\u001b[0m\n\u001b[0;32m---> 32\u001b[0;31m \u001b[0mclassification_rep\u001b[0m \u001b[0;34m=\u001b[0m \u001b[0mclassification_report\u001b[0m\u001b[0;34m(\u001b[0m\u001b[0mtrue_labels\u001b[0m\u001b[0;34m,\u001b[0m \u001b[0mall_predictions\u001b[0m\u001b[0;34m,\u001b[0m \u001b[0mtarget_names\u001b[0m\u001b[0;34m=\u001b[0m\u001b[0mdataset2\u001b[0m\u001b[0;34m.\u001b[0m\u001b[0mclasses\u001b[0m\u001b[0;34m)\u001b[0m\u001b[0;34m\u001b[0m\u001b[0;34m\u001b[0m\u001b[0m\n\u001b[0m\u001b[1;32m     33\u001b[0m \u001b[0mprint\u001b[0m\u001b[0;34m(\u001b[0m\u001b[0mclassification_rep\u001b[0m\u001b[0;34m)\u001b[0m\u001b[0;34m\u001b[0m\u001b[0;34m\u001b[0m\u001b[0m\n",
            "\u001b[0;32m/usr/local/lib/python3.10/dist-packages/sklearn/metrics/_classification.py\u001b[0m in \u001b[0;36mclassification_report\u001b[0;34m(y_true, y_pred, labels, target_names, sample_weight, digits, output_dict, zero_division)\u001b[0m\n\u001b[1;32m   2330\u001b[0m             )\n\u001b[1;32m   2331\u001b[0m         \u001b[0;32melse\u001b[0m\u001b[0;34m:\u001b[0m\u001b[0;34m\u001b[0m\u001b[0;34m\u001b[0m\u001b[0m\n\u001b[0;32m-> 2332\u001b[0;31m             raise ValueError(\n\u001b[0m\u001b[1;32m   2333\u001b[0m                 \u001b[0;34m\"Number of classes, {0}, does not match size of \"\u001b[0m\u001b[0;34m\u001b[0m\u001b[0;34m\u001b[0m\u001b[0m\n\u001b[1;32m   2334\u001b[0m                 \u001b[0;34m\"target_names, {1}. Try specifying the labels \"\u001b[0m\u001b[0;34m\u001b[0m\u001b[0;34m\u001b[0m\u001b[0m\n",
            "\u001b[0;31mValueError\u001b[0m: Number of classes, 3, does not match size of target_names, 2. Try specifying the labels parameter"
          ]
        }
      ]
    },
    {
      "cell_type": "code",
      "source": [
        "print(dataset2.classes)"
      ],
      "metadata": {
        "colab": {
          "base_uri": "https://localhost:8080/"
        },
        "id": "dzkp3HY0UYuB",
        "outputId": "28de6642-7134-48da-daed-91a15917dff9"
      },
      "execution_count": null,
      "outputs": [
        {
          "output_type": "stream",
          "name": "stdout",
          "text": [
            "['Dataset 2', '__MACOSX']\n"
          ]
        }
      ]
    },
    {
      "cell_type": "code",
      "source": [
        "import torchvision.models as models"
      ],
      "metadata": {
        "id": "ZeGPMWB8EdU9"
      },
      "execution_count": null,
      "outputs": []
    },
    {
      "cell_type": "code",
      "execution_count": null,
      "metadata": {
        "id": "6AbK63CLlM9Y",
        "colab": {
          "base_uri": "https://localhost:8080/"
        },
        "outputId": "068f3e5e-a0eb-45f4-bb5b-37f5a4a951e1"
      },
      "outputs": [
        {
          "output_type": "stream",
          "name": "stderr",
          "text": [
            "/usr/local/lib/python3.10/dist-packages/torchvision/models/_utils.py:208: UserWarning: The parameter 'pretrained' is deprecated since 0.13 and may be removed in the future, please use 'weights' instead.\n",
            "  warnings.warn(\n",
            "/usr/local/lib/python3.10/dist-packages/torchvision/models/_utils.py:223: UserWarning: Arguments other than a weight enum or `None` for 'weights' are deprecated since 0.13 and may be removed in the future. The current behavior is equivalent to passing `weights=VGG16_Weights.IMAGENET1K_V1`. You can also use `weights=VGG16_Weights.DEFAULT` to get the most up-to-date weights.\n",
            "  warnings.warn(msg)\n"
          ]
        }
      ],
      "source": [
        "device=torch.device(\"cuda\" if torch.cuda.is_available() else \"cpu\")\n",
        "VGG_16=models.vgg16(pretrained=True)"
      ]
    },
    {
      "cell_type": "code",
      "source": [
        "#loss = nn.CrossEntropyLoss()\n",
        "#optimizer_vgg16= optim.SGD(VGG_16.parameters(), lr=0.0001,momentum=0.9)"
      ],
      "metadata": {
        "id": "inJ9oASQEm6p"
      },
      "execution_count": null,
      "outputs": []
    }
  ],
  "metadata": {
    "accelerator": "GPU",
    "colab": {
      "provenance": [],
      "toc_visible": true
    },
    "kernelspec": {
      "display_name": "Python 3",
      "name": "python3"
    },
    "language_info": {
      "name": "python"
    }
  },
  "nbformat": 4,
  "nbformat_minor": 0
}