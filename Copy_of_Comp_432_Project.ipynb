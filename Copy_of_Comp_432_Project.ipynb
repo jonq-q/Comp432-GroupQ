{
  "cells": [
    {
      "cell_type": "code",
      "execution_count": 1,
      "metadata": {
        "id": "wGGhmFiP-7cH"
      },
      "outputs": [],
      "source": [
        "import torch\n",
        "import torchvision\n",
        "import numpy as np\n",
        "import torch.nn as nn\n",
        "import torch.optim as optim\n",
        "from torch.utils.data import DataLoader\n",
        "from torchvision import datasets, transforms\n",
        "from sklearn.metrics import classification_report\n",
        "import matplotlib.pyplot as plt"
      ]
    },
    {
      "cell_type": "code",
      "execution_count": 2,
      "metadata": {
        "id": "rnnr8Nk_lUTw",
        "colab": {
          "base_uri": "https://localhost:8080/"
        },
        "outputId": "d4fd82b6-f18e-49d9-87e4-164a408397f6"
      },
      "outputs": [
        {
          "output_type": "stream",
          "name": "stdout",
          "text": [
            "Mounted at /content/drive/\n",
            "Looks that a private key is already created. If you have already push it to github, no action required.\n",
            " Otherwise, Please go to https://github.com/settings/ssh/new to upload the following key: \n",
            "ssh-ed25519 AAAAC3NzaC1lZDI1NTE5AAAAIKsdgQltK+JTZbl5J1o7j408pGhjNyf4YUbWJmSugvZz root@b884b6fcbf02\n",
            "\n",
            "Please use SSH method to clone repo.\n"
          ]
        }
      ],
      "source": [
        "!wget -q https://raw.githubusercontent.com/tsunrise/colab-github/main/colab_github.py\n",
        "import colab_github\n",
        "colab_github.github_auth(persistent_key=True)\n",
        "\n",
        "# method to import git data into colab taken from:\n",
        "# https://github.com/tsunrise/colab-github"
      ]
    },
    {
      "cell_type": "code",
      "source": [
        "!git clone git@github.com:jonq-q/Comp432-GroupQ.git"
      ],
      "metadata": {
        "colab": {
          "base_uri": "https://localhost:8080/"
        },
        "id": "lOcx5r5OUk3D",
        "outputId": "7f58b916-99ab-4df6-bea1-61f50d6b3262"
      },
      "execution_count": 3,
      "outputs": [
        {
          "output_type": "stream",
          "name": "stdout",
          "text": [
            "Cloning into 'Comp432-GroupQ'...\n",
            "remote: Enumerating objects: 18054, done.\u001b[K\n",
            "remote: Total 18054 (delta 0), reused 0 (delta 0), pack-reused 18054\u001b[K\n",
            "Receiving objects: 100% (18054/18054), 1.14 GiB | 30.87 MiB/s, done.\n",
            "Resolving deltas: 100% (17/17), done.\n",
            "Updating files: 100% (18018/18018), done.\n"
          ]
        }
      ]
    },
    {
      "cell_type": "code",
      "execution_count": null,
      "metadata": {
        "colab": {
          "base_uri": "https://localhost:8080/"
        },
        "id": "F9wvKgBI8RwQ",
        "outputId": "ac3da601-3237-4d6e-d29a-7585911ad61b"
      },
      "outputs": [
        {
          "output_type": "stream",
          "name": "stdout",
          "text": [
            "Drive already mounted at /content/drive; to attempt to forcibly remount, call drive.mount(\"/content/drive\", force_remount=True).\n"
          ]
        }
      ],
      "source": [
        "#from google.colab import drive\n",
        "#drive.mount('/content/drive')"
      ]
    },
    {
      "cell_type": "code",
      "execution_count": 5,
      "metadata": {
        "id": "nrWSomotvgKw"
      },
      "outputs": [],
      "source": [
        "dataset = datasets.ImageFolder(\"/content/Comp432-GroupQ/Dataset 1\", transforms.Compose([\n",
        "        torchvision.transforms.Resize((224,224)),\n",
        "        torchvision.transforms.ColorJitter(hue=.05, saturation=.05),\n",
        "        torchvision.transforms.RandomHorizontalFlip(),\n",
        "        torchvision.transforms.RandomRotation(20),\n",
        "        transforms.ToTensor(),\n",
        "        transforms.Normalize([0.485, 0.456, 0.406], [0.229, 0.224, 0.225])]))\n",
        "\n",
        "train_set, test_set = torch.utils.data.random_split(dataset,[0.7,0.3])                # splits dataset into specified ratios\n",
        "train_loader = DataLoader(train_set,shuffle=True,batch_size=16, num_workers=0)         # create train loader\n",
        "test_loader = DataLoader(test_set,batch_size=16, num_workers=0)  # create test loader"
      ]
    },
    {
      "cell_type": "code",
      "execution_count": 6,
      "metadata": {
        "colab": {
          "base_uri": "https://localhost:8080/"
        },
        "id": "Lq6KVtqwBOXd",
        "outputId": "7e20d06a-6cc8-4258-9f7c-382d10174bcb"
      },
      "outputs": [
        {
          "output_type": "stream",
          "name": "stderr",
          "text": [
            "Downloading: \"https://github.com/pytorch/vision/zipball/v0.10.0\" to /root/.cache/torch/hub/v0.10.0.zip\n",
            "/usr/local/lib/python3.10/dist-packages/torchvision/models/_utils.py:208: UserWarning: The parameter 'pretrained' is deprecated since 0.13 and may be removed in the future, please use 'weights' instead.\n",
            "  warnings.warn(\n",
            "/usr/local/lib/python3.10/dist-packages/torchvision/models/_utils.py:223: UserWarning: Arguments other than a weight enum or `None` for 'weights' are deprecated since 0.13 and may be removed in the future. The current behavior is equivalent to passing `weights=None`.\n",
            "  warnings.warn(msg)\n"
          ]
        }
      ],
      "source": [
        "model = torch.hub.load('pytorch/vision:v0.10.0', 'resnet18', pretrained=False)\n",
        "\n",
        "if torch.cuda.is_available():\n",
        "    model = model.to('cuda')\n",
        "\n",
        "loss = nn.CrossEntropyLoss()\n",
        "optimizer = optim.Adam(model.parameters(), lr=0.0001)"
      ]
    },
    {
      "cell_type": "code",
      "execution_count": 7,
      "metadata": {
        "colab": {
          "base_uri": "https://localhost:8080/"
        },
        "id": "ILwUd3kMJe4S",
        "outputId": "03342061-e99e-49a3-ae30-bfaf191bd5ea"
      },
      "outputs": [
        {
          "output_type": "stream",
          "name": "stdout",
          "text": [
            "Epoch 1/10, Loss: 0.5883, Accuracy: 95.76%\n",
            "Epoch 2/10, Loss: 0.0065, Accuracy: 100.00%\n",
            "Epoch 3/10, Loss: 0.0028, Accuracy: 100.00%\n",
            "Epoch 4/10, Loss: 0.0016, Accuracy: 100.00%\n",
            "Epoch 5/10, Loss: 0.0011, Accuracy: 100.00%\n",
            "Epoch 6/10, Loss: 0.0008, Accuracy: 100.00%\n",
            "Epoch 7/10, Loss: 0.0006, Accuracy: 100.00%\n",
            "Epoch 8/10, Loss: 0.0004, Accuracy: 100.00%\n",
            "Epoch 9/10, Loss: 0.0003, Accuracy: 100.00%\n",
            "Epoch 10/10, Loss: 0.0003, Accuracy: 100.00%\n"
          ]
        }
      ],
      "source": [
        "num_epochs = 10\n",
        "train_losses = []\n",
        "train_accuracies = []\n",
        "\n",
        "for epoch in range(num_epochs):\n",
        "    model.train()\n",
        "    current_loss = 0.0\n",
        "    correct = 0\n",
        "    total = 0\n",
        "    round = 0\n",
        "\n",
        "    for inputs, labels in train_loader:\n",
        "        #print(inputs.shape)\n",
        "        #print(inputs)\n",
        "        inputs, labels = inputs.to('cuda'), labels.to('cuda')\n",
        "        optimizer.zero_grad()\n",
        "        y_pred = model(inputs)\n",
        "        l = loss(y_pred, labels)\n",
        "        l.backward()\n",
        "        optimizer.step()\n",
        "        #round += 1\n",
        "        #print(round)\n",
        "\n",
        "        current_loss += l.item()\n",
        "        _, predicted = torch.max(y_pred.data, 1)\n",
        "        total += labels.size(0)\n",
        "        correct += (predicted == labels).sum().item()\n",
        "\n",
        "    train_accuracy = 100 * correct / total\n",
        "    train_loss = current_loss / len(train_loader)\n",
        "    train_accuracies.append(train_accuracy)\n",
        "    train_losses.append(train_loss)\n",
        "    print(f'Epoch {epoch + 1}/{num_epochs}, Loss: {train_loss:.4f}, Accuracy: {train_accuracy:.2f}%')"
      ]
    },
    {
      "cell_type": "code",
      "execution_count": 8,
      "metadata": {
        "colab": {
          "base_uri": "https://localhost:8080/"
        },
        "id": "JxWOBSMkRESH",
        "outputId": "e70c4f55-7a8e-46e7-963a-285d4cc177c3"
      },
      "outputs": [
        {
          "output_type": "stream",
          "name": "stdout",
          "text": [
            "Validation loss: 1.414547329962564e-05, accuracy: 1.0\n",
            "                    precision    recall  f1-score   support\n",
            "\n",
            "Colorectal Cancer        1.00      1.00      1.00      1800\n",
            "\n",
            "          accuracy                           1.00      1800\n",
            "         macro avg       1.00      1.00      1.00      1800\n",
            "      weighted avg       1.00      1.00      1.00      1800\n",
            "\n"
          ]
        }
      ],
      "source": [
        "val_loss = []\n",
        "\n",
        "with torch.no_grad():\n",
        "          model.eval()\n",
        "          running_loss = 0.0\n",
        "          running_score = 0.0\n",
        "          for image,label in test_loader:\n",
        "                image = image.to('cuda')\n",
        "                label = label.to('cuda')\n",
        "                optimizer.zero_grad()\n",
        "                y_pred = model.forward(image)\n",
        "                l = loss(y_pred,label)\n",
        "                running_loss += l.item()\n",
        "\n",
        "                val, index_ = torch.max(y_pred,axis=1)\n",
        "                running_score += torch.sum(index_ == label.data).item()\n",
        "\n",
        "          epoch_score = running_score/len(test_loader.dataset)\n",
        "          epoch_loss = running_loss/len(test_loader.dataset)\n",
        "          val_loss.append(epoch_loss)\n",
        "          print(\"Validation loss: {}, accuracy: {}\".format(epoch_loss,epoch_score))\n",
        "\n",
        "          all_predictions = []\n",
        "          true_labels = []\n",
        "          for inputs, labels in test_loader:\n",
        "              inputs, labels = inputs.to('cuda'), labels.to('cuda')\n",
        "              outputs = model.forward(inputs)\n",
        "              _, predicted = torch.max(outputs.data, 1)\n",
        "              all_predictions.extend(predicted.cpu().numpy())\n",
        "              true_labels.extend(labels.cpu().numpy())\n",
        "\n",
        "classification_rep = classification_report(true_labels, all_predictions, target_names=dataset.classes)\n",
        "print(classification_rep)"
      ]
    },
    {
      "cell_type": "markdown",
      "metadata": {
        "id": "8jjPh3d2amIe"
      },
      "source": [
        "**Save trained model from dataset 1**"
      ]
    },
    {
      "cell_type": "code",
      "execution_count": 11,
      "metadata": {
        "id": "TeTdDu_YR16c"
      },
      "outputs": [],
      "source": [
        "torch.save(model.state_dict(), '/content/drive/My Drive/TrainedModel')"
      ]
    },
    {
      "cell_type": "code",
      "execution_count": 12,
      "metadata": {
        "colab": {
          "base_uri": "https://localhost:8080/"
        },
        "id": "8k40xiMg7GXv",
        "outputId": "61c99b55-fd26-42cb-b01a-c6cbf73f7121"
      },
      "outputs": [
        {
          "output_type": "stream",
          "name": "stderr",
          "text": [
            "Using cache found in /root/.cache/torch/hub/pytorch_vision_v0.10.0\n",
            "/usr/local/lib/python3.10/dist-packages/torchvision/models/_utils.py:208: UserWarning: The parameter 'pretrained' is deprecated since 0.13 and may be removed in the future, please use 'weights' instead.\n",
            "  warnings.warn(\n",
            "/usr/local/lib/python3.10/dist-packages/torchvision/models/_utils.py:223: UserWarning: Arguments other than a weight enum or `None` for 'weights' are deprecated since 0.13 and may be removed in the future. The current behavior is equivalent to passing `weights=None`.\n",
            "  warnings.warn(msg)\n"
          ]
        },
        {
          "output_type": "execute_result",
          "data": {
            "text/plain": [
              "<All keys matched successfully>"
            ]
          },
          "metadata": {},
          "execution_count": 12
        }
      ],
      "source": [
        "pretrained_model = torch.hub.load('pytorch/vision:v0.10.0', 'resnet18', pretrained=False)\n",
        "pretrained_model.load_state_dict(torch.load('/content/drive/My Drive/TrainedModel', map_location=torch.device('cuda')))"
      ]
    },
    {
      "cell_type": "code",
      "execution_count": 13,
      "metadata": {
        "colab": {
          "base_uri": "https://localhost:8080/"
        },
        "id": "0chnAIXX7Qxl",
        "outputId": "1d226c91-e645-45af-d8a2-f532162e562f"
      },
      "outputs": [
        {
          "output_type": "stream",
          "name": "stdout",
          "text": [
            "                    precision    recall  f1-score   support\n",
            "\n",
            "Colorectal Cancer        1.00      1.00      1.00      1800\n",
            "\n",
            "          accuracy                           1.00      1800\n",
            "         macro avg       1.00      1.00      1.00      1800\n",
            "      weighted avg       1.00      1.00      1.00      1800\n",
            "\n"
          ]
        }
      ],
      "source": [
        "pretrained_model.to('cuda')\n",
        "\n",
        "with torch.no_grad():\n",
        "          pretrained_model.eval()\n",
        "          all_predictions = []\n",
        "          true_labels = []\n",
        "          for inputs, labels in test_loader:\n",
        "              inputs, labels = inputs.to('cuda'), labels.to('cuda')\n",
        "              outputs = pretrained_model.forward(inputs)\n",
        "              _, predicted = torch.max(outputs.data, 1)\n",
        "              all_predictions.extend(predicted.cpu().numpy())\n",
        "              true_labels.extend(labels.cpu().numpy())\n",
        "\n",
        "classification_rep = classification_report(true_labels, all_predictions, target_names=dataset.classes)\n",
        "print(classification_rep)"
      ]
    },
    {
      "cell_type": "code",
      "execution_count": 14,
      "metadata": {
        "colab": {
          "base_uri": "https://localhost:8080/"
        },
        "id": "RhxkjQS9lOAC",
        "outputId": "b6dbb7c0-0b99-4376-be68-45d47b31035f"
      },
      "outputs": [
        {
          "output_type": "stream",
          "name": "stdout",
          "text": [
            "[[[   0    0]\n",
            "  [   0 1800]]\n",
            "\n",
            " [[1800    0]\n",
            "  [   0    0]]\n",
            "\n",
            " [[1800    0]\n",
            "  [   0    0]]]\n"
          ]
        }
      ],
      "source": [
        "from sklearn.metrics import multilabel_confusion_matrix\n",
        "\n",
        "confMatrix = multilabel_confusion_matrix(true_labels, all_predictions, labels=[0, 1, 2])\n",
        "print(confMatrix)"
      ]
    },
    {
      "cell_type": "code",
      "source": [
        "enumerate(train_loader)"
      ],
      "metadata": {
        "colab": {
          "base_uri": "https://localhost:8080/"
        },
        "id": "QllwMh5y7NbR",
        "outputId": "e96576b2-5ebb-49c1-adc9-82f4d08376d0"
      },
      "execution_count": 15,
      "outputs": [
        {
          "output_type": "execute_result",
          "data": {
            "text/plain": [
              "<enumerate at 0x7d8447e39640>"
            ]
          },
          "metadata": {},
          "execution_count": 15
        }
      ]
    },
    {
      "cell_type": "code",
      "execution_count": 16,
      "metadata": {
        "colab": {
          "base_uri": "https://localhost:8080/"
        },
        "id": "kVStMbnQlTav",
        "outputId": "c2c042e8-87c8-4870-9229-8b04f4acb300"
      },
      "outputs": [
        {
          "output_type": "execute_result",
          "data": {
            "text/plain": [
              "ResNet(\n",
              "  (conv1): Conv2d(3, 64, kernel_size=(7, 7), stride=(2, 2), padding=(3, 3), bias=False)\n",
              "  (bn1): BatchNorm2d(64, eps=1e-05, momentum=0.1, affine=True, track_running_stats=True)\n",
              "  (relu): ReLU(inplace=True)\n",
              "  (maxpool): MaxPool2d(kernel_size=3, stride=2, padding=1, dilation=1, ceil_mode=False)\n",
              "  (layer1): Sequential(\n",
              "    (0): BasicBlock(\n",
              "      (conv1): Conv2d(64, 64, kernel_size=(3, 3), stride=(1, 1), padding=(1, 1), bias=False)\n",
              "      (bn1): BatchNorm2d(64, eps=1e-05, momentum=0.1, affine=True, track_running_stats=True)\n",
              "      (relu): ReLU(inplace=True)\n",
              "      (conv2): Conv2d(64, 64, kernel_size=(3, 3), stride=(1, 1), padding=(1, 1), bias=False)\n",
              "      (bn2): BatchNorm2d(64, eps=1e-05, momentum=0.1, affine=True, track_running_stats=True)\n",
              "    )\n",
              "    (1): BasicBlock(\n",
              "      (conv1): Conv2d(64, 64, kernel_size=(3, 3), stride=(1, 1), padding=(1, 1), bias=False)\n",
              "      (bn1): BatchNorm2d(64, eps=1e-05, momentum=0.1, affine=True, track_running_stats=True)\n",
              "      (relu): ReLU(inplace=True)\n",
              "      (conv2): Conv2d(64, 64, kernel_size=(3, 3), stride=(1, 1), padding=(1, 1), bias=False)\n",
              "      (bn2): BatchNorm2d(64, eps=1e-05, momentum=0.1, affine=True, track_running_stats=True)\n",
              "    )\n",
              "  )\n",
              "  (layer2): Sequential(\n",
              "    (0): BasicBlock(\n",
              "      (conv1): Conv2d(64, 128, kernel_size=(3, 3), stride=(2, 2), padding=(1, 1), bias=False)\n",
              "      (bn1): BatchNorm2d(128, eps=1e-05, momentum=0.1, affine=True, track_running_stats=True)\n",
              "      (relu): ReLU(inplace=True)\n",
              "      (conv2): Conv2d(128, 128, kernel_size=(3, 3), stride=(1, 1), padding=(1, 1), bias=False)\n",
              "      (bn2): BatchNorm2d(128, eps=1e-05, momentum=0.1, affine=True, track_running_stats=True)\n",
              "      (downsample): Sequential(\n",
              "        (0): Conv2d(64, 128, kernel_size=(1, 1), stride=(2, 2), bias=False)\n",
              "        (1): BatchNorm2d(128, eps=1e-05, momentum=0.1, affine=True, track_running_stats=True)\n",
              "      )\n",
              "    )\n",
              "    (1): BasicBlock(\n",
              "      (conv1): Conv2d(128, 128, kernel_size=(3, 3), stride=(1, 1), padding=(1, 1), bias=False)\n",
              "      (bn1): BatchNorm2d(128, eps=1e-05, momentum=0.1, affine=True, track_running_stats=True)\n",
              "      (relu): ReLU(inplace=True)\n",
              "      (conv2): Conv2d(128, 128, kernel_size=(3, 3), stride=(1, 1), padding=(1, 1), bias=False)\n",
              "      (bn2): BatchNorm2d(128, eps=1e-05, momentum=0.1, affine=True, track_running_stats=True)\n",
              "    )\n",
              "  )\n",
              "  (layer3): Sequential(\n",
              "    (0): BasicBlock(\n",
              "      (conv1): Conv2d(128, 256, kernel_size=(3, 3), stride=(2, 2), padding=(1, 1), bias=False)\n",
              "      (bn1): BatchNorm2d(256, eps=1e-05, momentum=0.1, affine=True, track_running_stats=True)\n",
              "      (relu): ReLU(inplace=True)\n",
              "      (conv2): Conv2d(256, 256, kernel_size=(3, 3), stride=(1, 1), padding=(1, 1), bias=False)\n",
              "      (bn2): BatchNorm2d(256, eps=1e-05, momentum=0.1, affine=True, track_running_stats=True)\n",
              "      (downsample): Sequential(\n",
              "        (0): Conv2d(128, 256, kernel_size=(1, 1), stride=(2, 2), bias=False)\n",
              "        (1): BatchNorm2d(256, eps=1e-05, momentum=0.1, affine=True, track_running_stats=True)\n",
              "      )\n",
              "    )\n",
              "    (1): BasicBlock(\n",
              "      (conv1): Conv2d(256, 256, kernel_size=(3, 3), stride=(1, 1), padding=(1, 1), bias=False)\n",
              "      (bn1): BatchNorm2d(256, eps=1e-05, momentum=0.1, affine=True, track_running_stats=True)\n",
              "      (relu): ReLU(inplace=True)\n",
              "      (conv2): Conv2d(256, 256, kernel_size=(3, 3), stride=(1, 1), padding=(1, 1), bias=False)\n",
              "      (bn2): BatchNorm2d(256, eps=1e-05, momentum=0.1, affine=True, track_running_stats=True)\n",
              "    )\n",
              "  )\n",
              "  (layer4): Sequential(\n",
              "    (0): BasicBlock(\n",
              "      (conv1): Conv2d(256, 512, kernel_size=(3, 3), stride=(2, 2), padding=(1, 1), bias=False)\n",
              "      (bn1): BatchNorm2d(512, eps=1e-05, momentum=0.1, affine=True, track_running_stats=True)\n",
              "      (relu): ReLU(inplace=True)\n",
              "      (conv2): Conv2d(512, 512, kernel_size=(3, 3), stride=(1, 1), padding=(1, 1), bias=False)\n",
              "      (bn2): BatchNorm2d(512, eps=1e-05, momentum=0.1, affine=True, track_running_stats=True)\n",
              "      (downsample): Sequential(\n",
              "        (0): Conv2d(256, 512, kernel_size=(1, 1), stride=(2, 2), bias=False)\n",
              "        (1): BatchNorm2d(512, eps=1e-05, momentum=0.1, affine=True, track_running_stats=True)\n",
              "      )\n",
              "    )\n",
              "    (1): BasicBlock(\n",
              "      (conv1): Conv2d(512, 512, kernel_size=(3, 3), stride=(1, 1), padding=(1, 1), bias=False)\n",
              "      (bn1): BatchNorm2d(512, eps=1e-05, momentum=0.1, affine=True, track_running_stats=True)\n",
              "      (relu): ReLU(inplace=True)\n",
              "      (conv2): Conv2d(512, 512, kernel_size=(3, 3), stride=(1, 1), padding=(1, 1), bias=False)\n",
              "      (bn2): BatchNorm2d(512, eps=1e-05, momentum=0.1, affine=True, track_running_stats=True)\n",
              "    )\n",
              "  )\n",
              "  (avgpool): AdaptiveAvgPool2d(output_size=(1, 1))\n",
              "  (fc): Linear(in_features=512, out_features=1000, bias=True)\n",
              ")"
            ]
          },
          "metadata": {},
          "execution_count": 16
        }
      ],
      "source": [
        "pretrained_model"
      ]
    },
    {
      "cell_type": "code",
      "execution_count": 17,
      "metadata": {
        "colab": {
          "base_uri": "https://localhost:8080/"
        },
        "id": "kbOjmj10sgqc",
        "outputId": "1621e220-da8b-485e-f02f-dc946143fdad"
      },
      "outputs": [
        {
          "output_type": "execute_result",
          "data": {
            "text/plain": [
              "<generator object Module.children at 0x7d8447e136f0>"
            ]
          },
          "metadata": {},
          "execution_count": 17
        }
      ],
      "source": [
        "pretrained_model.children()"
      ]
    },
    {
      "cell_type": "code",
      "execution_count": 18,
      "metadata": {
        "id": "t1HS7SWuNM7J"
      },
      "outputs": [],
      "source": [
        "device=torch.device(\"cuda:0\"if torch.cuda.is_available() else \"cpu\")"
      ]
    },
    {
      "cell_type": "code",
      "execution_count": 19,
      "metadata": {
        "colab": {
          "base_uri": "https://localhost:8080/"
        },
        "id": "oXzDan6T6C5B",
        "outputId": "23a3efbf-71dc-4b22-ede1-f7eb85278d5d"
      },
      "outputs": [
        {
          "output_type": "stream",
          "name": "stdout",
          "text": [
            "[Conv2d(3, 64, kernel_size=(7, 7), stride=(2, 2), padding=(3, 3), bias=False), BatchNorm2d(64, eps=1e-05, momentum=0.1, affine=True, track_running_stats=True), ReLU(inplace=True), MaxPool2d(kernel_size=3, stride=2, padding=1, dilation=1, ceil_mode=False), Sequential(\n",
            "  (0): BasicBlock(\n",
            "    (conv1): Conv2d(64, 64, kernel_size=(3, 3), stride=(1, 1), padding=(1, 1), bias=False)\n",
            "    (bn1): BatchNorm2d(64, eps=1e-05, momentum=0.1, affine=True, track_running_stats=True)\n",
            "    (relu): ReLU(inplace=True)\n",
            "    (conv2): Conv2d(64, 64, kernel_size=(3, 3), stride=(1, 1), padding=(1, 1), bias=False)\n",
            "    (bn2): BatchNorm2d(64, eps=1e-05, momentum=0.1, affine=True, track_running_stats=True)\n",
            "  )\n",
            "  (1): BasicBlock(\n",
            "    (conv1): Conv2d(64, 64, kernel_size=(3, 3), stride=(1, 1), padding=(1, 1), bias=False)\n",
            "    (bn1): BatchNorm2d(64, eps=1e-05, momentum=0.1, affine=True, track_running_stats=True)\n",
            "    (relu): ReLU(inplace=True)\n",
            "    (conv2): Conv2d(64, 64, kernel_size=(3, 3), stride=(1, 1), padding=(1, 1), bias=False)\n",
            "    (bn2): BatchNorm2d(64, eps=1e-05, momentum=0.1, affine=True, track_running_stats=True)\n",
            "  )\n",
            "), Sequential(\n",
            "  (0): BasicBlock(\n",
            "    (conv1): Conv2d(64, 128, kernel_size=(3, 3), stride=(2, 2), padding=(1, 1), bias=False)\n",
            "    (bn1): BatchNorm2d(128, eps=1e-05, momentum=0.1, affine=True, track_running_stats=True)\n",
            "    (relu): ReLU(inplace=True)\n",
            "    (conv2): Conv2d(128, 128, kernel_size=(3, 3), stride=(1, 1), padding=(1, 1), bias=False)\n",
            "    (bn2): BatchNorm2d(128, eps=1e-05, momentum=0.1, affine=True, track_running_stats=True)\n",
            "    (downsample): Sequential(\n",
            "      (0): Conv2d(64, 128, kernel_size=(1, 1), stride=(2, 2), bias=False)\n",
            "      (1): BatchNorm2d(128, eps=1e-05, momentum=0.1, affine=True, track_running_stats=True)\n",
            "    )\n",
            "  )\n",
            "  (1): BasicBlock(\n",
            "    (conv1): Conv2d(128, 128, kernel_size=(3, 3), stride=(1, 1), padding=(1, 1), bias=False)\n",
            "    (bn1): BatchNorm2d(128, eps=1e-05, momentum=0.1, affine=True, track_running_stats=True)\n",
            "    (relu): ReLU(inplace=True)\n",
            "    (conv2): Conv2d(128, 128, kernel_size=(3, 3), stride=(1, 1), padding=(1, 1), bias=False)\n",
            "    (bn2): BatchNorm2d(128, eps=1e-05, momentum=0.1, affine=True, track_running_stats=True)\n",
            "  )\n",
            "), Sequential(\n",
            "  (0): BasicBlock(\n",
            "    (conv1): Conv2d(128, 256, kernel_size=(3, 3), stride=(2, 2), padding=(1, 1), bias=False)\n",
            "    (bn1): BatchNorm2d(256, eps=1e-05, momentum=0.1, affine=True, track_running_stats=True)\n",
            "    (relu): ReLU(inplace=True)\n",
            "    (conv2): Conv2d(256, 256, kernel_size=(3, 3), stride=(1, 1), padding=(1, 1), bias=False)\n",
            "    (bn2): BatchNorm2d(256, eps=1e-05, momentum=0.1, affine=True, track_running_stats=True)\n",
            "    (downsample): Sequential(\n",
            "      (0): Conv2d(128, 256, kernel_size=(1, 1), stride=(2, 2), bias=False)\n",
            "      (1): BatchNorm2d(256, eps=1e-05, momentum=0.1, affine=True, track_running_stats=True)\n",
            "    )\n",
            "  )\n",
            "  (1): BasicBlock(\n",
            "    (conv1): Conv2d(256, 256, kernel_size=(3, 3), stride=(1, 1), padding=(1, 1), bias=False)\n",
            "    (bn1): BatchNorm2d(256, eps=1e-05, momentum=0.1, affine=True, track_running_stats=True)\n",
            "    (relu): ReLU(inplace=True)\n",
            "    (conv2): Conv2d(256, 256, kernel_size=(3, 3), stride=(1, 1), padding=(1, 1), bias=False)\n",
            "    (bn2): BatchNorm2d(256, eps=1e-05, momentum=0.1, affine=True, track_running_stats=True)\n",
            "  )\n",
            "), Sequential(\n",
            "  (0): BasicBlock(\n",
            "    (conv1): Conv2d(256, 512, kernel_size=(3, 3), stride=(2, 2), padding=(1, 1), bias=False)\n",
            "    (bn1): BatchNorm2d(512, eps=1e-05, momentum=0.1, affine=True, track_running_stats=True)\n",
            "    (relu): ReLU(inplace=True)\n",
            "    (conv2): Conv2d(512, 512, kernel_size=(3, 3), stride=(1, 1), padding=(1, 1), bias=False)\n",
            "    (bn2): BatchNorm2d(512, eps=1e-05, momentum=0.1, affine=True, track_running_stats=True)\n",
            "    (downsample): Sequential(\n",
            "      (0): Conv2d(256, 512, kernel_size=(1, 1), stride=(2, 2), bias=False)\n",
            "      (1): BatchNorm2d(512, eps=1e-05, momentum=0.1, affine=True, track_running_stats=True)\n",
            "    )\n",
            "  )\n",
            "  (1): BasicBlock(\n",
            "    (conv1): Conv2d(512, 512, kernel_size=(3, 3), stride=(1, 1), padding=(1, 1), bias=False)\n",
            "    (bn1): BatchNorm2d(512, eps=1e-05, momentum=0.1, affine=True, track_running_stats=True)\n",
            "    (relu): ReLU(inplace=True)\n",
            "    (conv2): Conv2d(512, 512, kernel_size=(3, 3), stride=(1, 1), padding=(1, 1), bias=False)\n",
            "    (bn2): BatchNorm2d(512, eps=1e-05, momentum=0.1, affine=True, track_running_stats=True)\n",
            "  )\n",
            "), AdaptiveAvgPool2d(output_size=(1, 1)), Linear(in_features=512, out_features=1000, bias=True)]\n"
          ]
        }
      ],
      "source": [
        "from typing_extensions import Self\n",
        "print(list(pretrained_model.children()))\n",
        "#features=list(pretrained_model.children())[:-2] #rid pooling and fc\n",
        "features=list(pretrained_model.children())[:-1] #only remove fc\n",
        "model_out=nn.Sequential(*features).to(device)\n",
        "def for_feature(loader):\n",
        "  data_tmp=[]\n",
        "  label_tmp=[]\n",
        "\n",
        "  with torch.no_grad():\n",
        "      for img,label in loader:\n",
        "        img=img.to(device)\n",
        "       # labels=labels.to(device)\n",
        "        #labels=torch.torch.tensor(labels, dtype=torch.long)\n",
        "\n",
        "        output1=model_out(img)\n",
        "\n",
        "       # labels1=np.array([int(i) for in in lablels])\n",
        "       # for i in labels1:\n",
        "        #    label1=i\n",
        "         #   lasds.append(labels)\n",
        "          #  for i in outputs:\n",
        "           #     tmp.append(i)\n",
        "            #labels = labels.to(DEVICE)\n",
        "            #outputs = torch.tensor(outputs)\n",
        "           # outputs = outputs.to(DEVICE)\n",
        "           ## loss = loss_fn(outputs, labels)\n",
        "          #  test_loss += loss.item()\n",
        "           # ps = torch.exp(outputs)\n",
        "           # top_p, top_class = ps.topk(1, dim=1)\n",
        "          #  equals = top_class == labels.view(*top_class.shape)\n",
        "          #  accuracy += torch.mean(equals.type(torch.FloatTensor)).item()\n",
        "        #acc.append(accuracy / len(test_loader))\n",
        "\n",
        "#lapsds = torch.Tensor(lasds)\n",
        "#tmp = torch.Tensor(tmp)\n",
        "#print(acc)\n",
        "# with open('ResNet_Test_FTLoss.txt', 'w') as f:\n",
        "#     for item in loss_FocalLoss:\n",
        "#         f.write(\"%s\\n\" % item)\n",
        "        #output=nn.functional.softmax(output1,dim=0)#not needed i think\n",
        "        data_tmp.append(output1.cpu().numpy())\n",
        "        label_tmp.append(label.cpu().numpy())\n",
        "        #print('label: ' +str(label))\n",
        "\n",
        "\n",
        "\n",
        "  return np.vstack(data_tmp), np.hstack(label_tmp)\n",
        "\n",
        "#np.save(\"Feature_ResNet_Test\", tmp)\n",
        "#np.save(\"Label_ResNet_Test\", lasds)\n",
        "\n",
        "\n"
      ]
    },
    {
      "cell_type": "code",
      "source": [
        "trained_feature, trained_label=for_feature(train_loader)"
      ],
      "metadata": {
        "id": "kdSFIHPJahJ-"
      },
      "execution_count": 20,
      "outputs": []
    },
    {
      "cell_type": "code",
      "execution_count": 21,
      "metadata": {
        "colab": {
          "base_uri": "https://localhost:8080/"
        },
        "id": "ctUXiB33e2MM",
        "outputId": "4f234104-e865-4bb9-ccde-0b75b46d87bc"
      },
      "outputs": [
        {
          "output_type": "execute_result",
          "data": {
            "text/plain": [
              "array([[[[1.4567748 ]],\n",
              "\n",
              "        [[2.1761758 ]],\n",
              "\n",
              "        [[0.42183247]],\n",
              "\n",
              "        ...,\n",
              "\n",
              "        [[1.8665917 ]],\n",
              "\n",
              "        [[0.02740316]],\n",
              "\n",
              "        [[0.32328293]]],\n",
              "\n",
              "\n",
              "       [[[1.1903226 ]],\n",
              "\n",
              "        [[0.3890672 ]],\n",
              "\n",
              "        [[0.17162059]],\n",
              "\n",
              "        ...,\n",
              "\n",
              "        [[0.72148335]],\n",
              "\n",
              "        [[1.0154445 ]],\n",
              "\n",
              "        [[0.29301634]]],\n",
              "\n",
              "\n",
              "       [[[1.4535049 ]],\n",
              "\n",
              "        [[2.1874237 ]],\n",
              "\n",
              "        [[0.42623675]],\n",
              "\n",
              "        ...,\n",
              "\n",
              "        [[1.9371736 ]],\n",
              "\n",
              "        [[0.02388712]],\n",
              "\n",
              "        [[0.31092116]]],\n",
              "\n",
              "\n",
              "       ...,\n",
              "\n",
              "\n",
              "       [[[1.5259755 ]],\n",
              "\n",
              "        [[2.244106  ]],\n",
              "\n",
              "        [[0.44283777]],\n",
              "\n",
              "        ...,\n",
              "\n",
              "        [[1.9384283 ]],\n",
              "\n",
              "        [[0.04457682]],\n",
              "\n",
              "        [[0.33210197]]],\n",
              "\n",
              "\n",
              "       [[[1.4833624 ]],\n",
              "\n",
              "        [[2.2563384 ]],\n",
              "\n",
              "        [[0.42646915]],\n",
              "\n",
              "        ...,\n",
              "\n",
              "        [[1.9350481 ]],\n",
              "\n",
              "        [[0.02035372]],\n",
              "\n",
              "        [[0.32039255]]],\n",
              "\n",
              "\n",
              "       [[[1.1620165 ]],\n",
              "\n",
              "        [[0.37747237]],\n",
              "\n",
              "        [[0.19465993]],\n",
              "\n",
              "        ...,\n",
              "\n",
              "        [[0.7225223 ]],\n",
              "\n",
              "        [[0.47790852]],\n",
              "\n",
              "        [[0.30377996]]]], dtype=float32)"
            ]
          },
          "metadata": {},
          "execution_count": 21
        }
      ],
      "source": [
        "trained_feature"
      ]
    },
    {
      "cell_type": "code",
      "execution_count": 22,
      "metadata": {
        "colab": {
          "base_uri": "https://localhost:8080/"
        },
        "id": "6amxQmo8iAdB",
        "outputId": "b09b8f9d-a188-4b76-d8e5-ae6e07f0453b"
      },
      "outputs": [
        {
          "output_type": "execute_result",
          "data": {
            "text/plain": [
              "(4200, 512, 1, 1)"
            ]
          },
          "metadata": {},
          "execution_count": 22
        }
      ],
      "source": [
        "trained_feature.shape"
      ]
    },
    {
      "cell_type": "code",
      "source": [
        "trained_feature_n=trained_feature.reshape(4200,512)"
      ],
      "metadata": {
        "id": "j23ifqP2iZl9"
      },
      "execution_count": 23,
      "outputs": []
    },
    {
      "cell_type": "code",
      "execution_count": 24,
      "metadata": {
        "colab": {
          "base_uri": "https://localhost:8080/"
        },
        "id": "HnsYB_AmiTzt",
        "outputId": "99e32c18-a1c6-4243-84a2-353230ad0541"
      },
      "outputs": [
        {
          "output_type": "execute_result",
          "data": {
            "text/plain": [
              "DescribeResult(nobs=4200, minmax=(0, 0), mean=0.0, variance=0.0, skewness=nan, kurtosis=nan)"
            ]
          },
          "metadata": {},
          "execution_count": 24
        }
      ],
      "source": [
        "from scipy import stats\n",
        "stats.describe(trained_label)\n",
        "#trained_label.describe()"
      ]
    },
    {
      "cell_type": "code",
      "execution_count": 25,
      "metadata": {
        "colab": {
          "base_uri": "https://localhost:8080/"
        },
        "id": "j2NQ1ZqRiZ-C",
        "outputId": "999fd3b4-d26b-408f-d45e-30c7c07ab325"
      },
      "outputs": [
        {
          "output_type": "execute_result",
          "data": {
            "text/plain": [
              "(4200,)"
            ]
          },
          "metadata": {},
          "execution_count": 25
        }
      ],
      "source": [
        "trained_label.shape"
      ]
    },
    {
      "cell_type": "code",
      "execution_count": 26,
      "metadata": {
        "id": "xonNLFdkYdTf"
      },
      "outputs": [],
      "source": [
        "#T-SNE\n",
        "from sklearn.manifold import TSNE\n",
        "import plotly.express as px\n",
        "#plot_matrix_grid(model.coef_[0].T.reshape(-1,224,224))"
      ]
    },
    {
      "cell_type": "code",
      "execution_count": 27,
      "metadata": {
        "colab": {
          "base_uri": "https://localhost:8080/",
          "height": 542
        },
        "id": "J0_9YaaHdgIv",
        "outputId": "ab998b83-8bca-40fa-9ecd-431fe9de9e71"
      },
      "outputs": [
        {
          "output_type": "display_data",
          "data": {
            "text/html": [
              "<html>\n",
              "<head><meta charset=\"utf-8\" /></head>\n",
              "<body>\n",
              "    <div>            <script src=\"https://cdnjs.cloudflare.com/ajax/libs/mathjax/2.7.5/MathJax.js?config=TeX-AMS-MML_SVG\"></script><script type=\"text/javascript\">if (window.MathJax && window.MathJax.Hub && window.MathJax.Hub.Config) {window.MathJax.Hub.Config({SVG: {font: \"STIX-Web\"}});}</script>                <script type=\"text/javascript\">window.PlotlyConfig = {MathJaxConfig: 'local'};</script>\n",
              "        <script charset=\"utf-8\" src=\"https://cdn.plot.ly/plotly-2.24.1.min.js\"></script>                <div id=\"92df32a9-a57f-4814-81f9-af4e2f85a7e2\" class=\"plotly-graph-div\" style=\"height:525px; width:100%;\"></div>            <script type=\"text/javascript\">                                    window.PLOTLYENV=window.PLOTLYENV || {};                                    if (document.getElementById(\"92df32a9-a57f-4814-81f9-af4e2f85a7e2\")) {                    Plotly.newPlot(                        \"92df32a9-a57f-4814-81f9-af4e2f85a7e2\",                        [{\"hovertemplate\":\"x=%{x}\\u003cbr\\u003eindex=%{y}\\u003cbr\\u003e=%{marker.color}\\u003cextra\\u003e\\u003c\\u002fextra\\u003e\",\"legendgroup\":\"\",\"marker\":{\"color\":[0,0,0,0,0,0,0,0,0,0,0,0,0,0,0,0,0,0,0,0,0,0,0,0,0,0,0,0,0,0,0,0,0,0,0,0,0,0,0,0,0,0,0,0,0,0,0,0,0,0,0,0,0,0,0,0,0,0,0,0,0,0,0,0,0,0,0,0,0,0,0,0,0,0,0,0,0,0,0,0,0,0,0,0,0,0,0,0,0,0,0,0,0,0,0,0,0,0,0,0,0,0,0,0,0,0,0,0,0,0,0,0,0,0,0,0,0,0,0,0,0,0,0,0,0,0,0,0,0,0,0,0,0,0,0,0,0,0,0,0,0,0,0,0,0,0,0,0,0,0,0,0,0,0,0,0,0,0,0,0,0,0,0,0,0,0,0,0,0,0,0,0,0,0,0,0,0,0,0,0,0,0,0,0,0,0,0,0,0,0,0,0,0,0,0,0,0,0,0,0,0,0,0,0,0,0,0,0,0,0,0,0,0,0,0,0,0,0,0,0,0,0,0,0,0,0,0,0,0,0,0,0,0,0,0,0,0,0,0,0,0,0,0,0,0,0,0,0,0,0,0,0,0,0,0,0,0,0,0,0,0,0,0,0,0,0,0,0,0,0,0,0,0,0,0,0,0,0,0,0,0,0,0,0,0,0,0,0,0,0,0,0,0,0,0,0,0,0,0,0,0,0,0,0,0,0,0,0,0,0,0,0,0,0,0,0,0,0,0,0,0,0,0,0,0,0,0,0,0,0,0,0,0,0,0,0,0,0,0,0,0,0,0,0,0,0,0,0,0,0,0,0,0,0,0,0,0,0,0,0,0,0,0,0,0,0,0,0,0,0,0,0,0,0,0,0,0,0,0,0,0,0,0,0,0,0,0,0,0,0,0,0,0,0,0,0,0,0,0,0,0,0,0,0,0,0,0,0,0,0,0,0,0,0,0,0,0,0,0,0,0,0,0,0,0,0,0,0,0,0,0,0,0,0,0,0,0,0,0,0,0,0,0,0,0,0,0,0,0,0,0,0,0,0,0,0,0,0,0,0,0,0,0,0,0,0,0,0,0,0,0,0,0,0,0,0,0,0,0,0,0,0,0,0,0,0,0,0,0,0,0,0,0,0,0,0,0,0,0,0,0,0,0,0,0,0,0,0,0,0,0,0,0,0,0,0,0,0,0,0,0,0,0,0,0,0,0,0,0,0,0,0,0,0,0,0,0,0,0,0,0,0,0,0,0,0,0,0,0,0,0,0,0,0,0,0,0,0,0,0,0,0,0,0,0,0,0,0,0,0,0,0,0,0,0,0,0,0,0,0,0,0,0,0,0,0,0,0,0,0,0,0,0,0,0,0,0,0,0,0,0,0,0,0,0,0,0,0,0,0,0,0,0,0,0,0,0,0,0,0,0,0,0,0,0,0,0,0,0,0,0,0,0,0,0,0,0,0,0,0,0,0,0,0,0,0,0,0,0,0,0,0,0,0,0,0,0,0,0,0,0,0,0,0,0,0,0,0,0,0,0,0,0,0,0,0,0,0,0,0,0,0,0,0,0,0,0,0,0,0,0,0,0,0,0,0,0,0,0,0,0,0,0,0,0,0,0,0,0,0,0,0,0,0,0,0,0,0,0,0,0,0,0,0,0,0,0,0,0,0,0,0,0,0,0,0,0,0,0,0,0,0,0,0,0,0,0,0,0,0,0,0,0,0,0,0,0,0,0,0,0,0,0,0,0,0,0,0,0,0,0,0,0,0,0,0,0,0,0,0,0,0,0,0,0,0,0,0,0,0,0,0,0,0,0,0,0,0,0,0,0,0,0,0,0,0,0,0,0,0,0,0,0,0,0,0,0,0,0,0,0,0,0,0,0,0,0,0,0,0,0,0,0,0,0,0,0,0,0,0,0,0,0,0,0,0,0,0,0,0,0,0,0,0,0,0,0,0,0,0,0,0,0,0,0,0,0,0,0,0,0,0,0,0,0,0,0,0,0,0,0,0,0,0,0,0,0,0,0,0,0,0,0,0,0,0,0,0,0,0,0,0,0,0,0,0,0,0,0,0,0,0,0,0,0,0,0,0,0,0,0,0,0,0,0,0,0,0,0,0,0,0,0,0,0,0,0,0,0,0,0,0,0,0,0,0,0,0,0,0,0,0,0,0,0,0,0,0,0,0,0,0,0,0,0,0,0,0,0,0,0,0,0,0,0,0,0,0,0,0,0,0,0,0,0,0,0,0,0,0,0,0,0,0,0,0,0,0,0,0,0,0,0,0,0,0,0,0,0,0,0,0,0,0,0,0,0,0,0,0,0,0,0,0,0,0,0,0,0,0,0,0,0,0,0,0,0,0,0,0,0,0,0,0,0,0,0,0,0,0,0,0,0,0,0,0,0,0,0,0,0,0,0,0,0,0,0,0,0,0,0,0,0,0,0,0,0,0,0,0,0,0,0,0,0,0,0,0,0,0,0,0,0,0,0,0,0,0,0,0,0,0,0,0,0,0,0,0,0,0,0,0,0,0,0,0,0,0,0,0,0,0,0,0,0,0,0,0,0,0,0,0,0,0,0,0,0,0,0,0,0,0,0,0,0,0,0,0,0,0,0,0,0,0,0,0,0,0,0,0,0,0,0,0,0,0,0,0,0,0,0,0,0,0,0,0,0,0,0,0,0,0,0,0,0,0,0,0,0,0,0,0,0,0,0,0,0,0,0,0,0,0,0,0,0,0,0,0,0,0,0,0,0,0,0,0,0,0,0,0,0,0,0,0,0,0,0,0,0,0,0,0,0,0,0,0,0,0,0,0,0,0,0,0,0,0,0,0,0,0,0,0,0,0,0,0,0,0,0,0,0,0,0,0,0,0,0,0,0,0,0,0,0,0,0,0,0,0,0,0,0,0,0,0,0,0,0,0,0,0,0,0,0,0,0,0,0,0,0,0,0,0,0,0,0,0,0,0,0,0,0,0,0,0,0,0,0,0,0,0,0,0,0,0,0,0,0,0,0,0,0,0,0,0,0,0,0,0,0,0,0,0,0,0,0,0,0,0,0,0,0,0,0,0,0,0,0,0,0,0,0,0,0,0,0,0,0,0,0,0,0,0,0,0,0,0,0,0,0,0,0,0,0,0,0,0,0,0,0,0,0,0,0,0,0,0,0,0,0,0,0,0,0,0,0,0,0,0,0,0,0,0,0,0,0,0,0,0,0,0,0,0,0,0,0,0,0,0,0,0,0,0,0,0,0,0,0,0,0,0,0,0,0,0,0,0,0,0,0,0,0,0,0,0,0,0,0,0,0,0,0,0,0,0,0,0,0,0,0,0,0,0,0,0,0,0,0,0,0,0,0,0,0,0,0,0,0,0,0,0,0,0,0,0,0,0,0,0,0,0,0,0,0,0,0,0,0,0,0,0,0,0,0,0,0,0,0,0,0,0,0,0,0,0,0,0,0,0,0,0,0,0,0,0,0,0,0,0,0,0,0,0,0,0,0,0,0,0,0,0,0,0,0,0,0,0,0,0,0,0,0,0,0,0,0,0,0,0,0,0,0,0,0,0,0,0,0,0,0,0,0,0,0,0,0,0,0,0,0,0,0,0,0,0,0,0,0,0,0,0,0,0,0,0,0,0,0,0,0,0,0,0,0,0,0,0,0,0,0,0,0,0,0,0,0,0,0,0,0,0,0,0,0,0,0,0,0,0,0,0,0,0,0,0,0,0,0,0,0,0,0,0,0,0,0,0,0,0,0,0,0,0,0,0,0,0,0,0,0,0,0,0,0,0,0,0,0,0,0,0,0,0,0,0,0,0,0,0,0,0,0,0,0,0,0,0,0,0,0,0,0,0,0,0,0,0,0,0,0,0,0,0,0,0,0,0,0,0,0,0,0,0,0,0,0,0,0,0,0,0,0,0,0,0,0,0,0,0,0,0,0,0,0,0,0,0,0,0,0,0,0,0,0,0,0,0,0,0,0,0,0,0,0,0,0,0,0,0,0,0,0,0,0,0,0,0,0,0,0,0,0,0,0,0,0,0,0,0,0,0,0,0,0,0,0,0,0,0,0,0,0,0,0,0,0,0,0,0,0,0,0,0,0,0,0,0,0,0,0,0,0,0,0,0,0,0,0,0,0,0,0,0,0,0,0,0,0,0,0,0,0,0,0,0,0,0,0,0,0,0,0,0,0,0,0,0,0,0,0,0,0,0,0,0,0,0,0,0,0,0,0,0,0,0,0,0,0,0,0,0,0,0,0,0,0,0,0,0,0,0,0,0,0,0,0,0,0,0,0,0,0,0,0,0,0,0,0,0,0,0,0,0,0,0,0,0,0,0,0,0,0,0,0,0,0,0,0,0,0,0,0,0,0,0,0,0,0,0,0,0,0,0,0,0,0,0,0,0,0,0,0,0,0,0,0,0,0,0,0,0,0,0,0,0,0,0,0,0,0,0,0,0,0,0,0,0,0,0,0,0,0,0,0,0,0,0,0,0,0,0,0,0,0,0,0,0,0,0,0,0,0,0,0,0,0,0,0,0,0,0,0,0,0,0,0,0,0,0,0,0,0,0,0,0,0,0,0,0,0,0,0,0,0,0,0,0,0,0,0,0,0,0,0,0,0,0,0,0,0,0,0,0,0,0,0,0,0,0,0,0,0,0,0,0,0,0,0,0,0,0,0,0,0,0,0,0,0,0,0,0,0,0,0,0,0,0,0,0,0,0,0,0,0,0,0,0,0,0,0,0,0,0,0,0,0,0,0,0,0,0,0,0,0,0,0,0,0,0,0,0,0,0,0,0,0,0,0,0,0,0,0,0,0,0,0,0,0,0,0,0,0,0,0,0,0,0,0,0,0,0,0,0,0,0,0,0,0,0,0,0,0,0,0,0,0,0,0,0,0,0,0,0,0,0,0,0,0,0,0,0,0,0,0,0,0,0,0,0,0,0,0,0,0,0,0,0,0,0,0,0,0,0,0,0,0,0,0,0,0,0,0,0,0,0,0,0,0,0,0,0,0,0,0,0,0,0,0,0,0,0,0,0,0,0,0,0,0,0,0,0,0,0,0,0,0,0,0,0,0,0,0,0,0,0,0,0,0,0,0,0,0,0,0,0,0,0,0,0,0,0,0,0,0,0,0,0,0,0,0,0,0,0,0,0,0,0,0,0,0,0,0,0,0,0,0,0,0,0,0,0,0,0,0,0,0,0,0,0,0,0,0,0,0,0,0,0,0,0,0,0,0,0,0,0,0,0,0,0,0,0,0,0,0,0,0,0,0,0,0,0,0,0,0,0,0,0,0,0,0,0,0,0,0,0,0,0,0,0,0,0,0,0,0,0,0,0,0,0,0,0,0,0,0,0,0,0,0,0,0,0,0,0,0,0,0,0,0,0,0,0,0,0,0,0,0,0,0,0,0,0,0,0,0,0,0,0,0,0,0,0,0,0,0,0,0,0,0,0,0,0,0,0,0,0,0,0,0,0,0,0,0,0,0,0,0,0,0,0,0,0,0,0,0,0,0,0,0,0,0,0,0,0,0,0,0,0,0,0,0,0,0,0,0,0,0,0,0,0,0,0,0,0,0,0,0,0,0,0,0,0,0,0,0,0,0,0,0,0,0,0,0,0,0,0,0,0,0,0,0,0,0,0,0,0,0,0,0,0,0,0,0,0,0,0,0,0,0,0,0,0,0,0,0,0,0,0,0,0,0,0,0,0,0,0,0,0,0,0,0,0,0,0,0,0,0,0,0,0,0,0,0,0,0,0,0,0,0,0,0,0,0,0,0,0,0,0,0,0,0,0,0,0,0,0,0,0,0,0,0,0,0,0,0,0,0,0,0,0,0,0,0,0,0,0,0,0,0,0,0,0,0,0,0,0,0,0,0,0,0,0,0,0,0,0,0,0,0,0,0,0,0,0,0,0,0,0,0,0,0,0,0,0,0,0,0,0,0,0,0,0,0,0,0,0,0,0,0,0,0,0,0,0,0,0,0,0,0,0,0,0,0,0,0,0,0,0,0,0,0,0,0,0,0,0,0,0,0,0,0,0,0,0,0,0,0,0,0,0,0,0,0,0,0,0,0,0,0,0,0,0,0,0,0,0,0,0,0,0,0,0,0,0,0,0,0,0,0,0,0,0,0,0,0,0,0,0,0,0,0,0,0,0,0,0,0,0,0,0,0,0,0,0,0,0,0,0,0,0,0,0,0,0,0,0,0,0,0,0,0,0,0,0,0,0,0,0,0,0,0,0,0,0,0,0,0,0,0,0,0,0,0,0,0,0,0,0,0,0,0,0,0,0,0,0,0,0,0,0,0,0,0,0,0,0,0,0,0,0,0,0,0,0,0,0,0,0,0,0,0,0,0,0,0,0,0,0,0,0,0,0,0,0,0,0,0,0,0,0,0,0,0,0,0,0,0,0,0,0,0,0,0,0,0,0,0,0,0,0,0,0,0,0,0,0,0,0,0,0,0,0,0,0,0,0,0,0,0,0,0,0,0,0,0,0,0,0,0,0,0,0,0,0,0,0,0,0,0,0,0,0,0,0,0,0,0,0,0,0,0,0,0,0,0,0,0,0,0,0,0,0,0,0,0,0,0,0,0,0,0,0,0,0,0,0,0,0,0,0,0,0,0,0,0,0,0,0,0,0,0,0,0,0,0,0,0,0,0,0,0,0,0,0,0,0,0,0,0,0,0,0,0,0,0,0,0,0,0,0,0,0,0,0,0,0,0,0,0,0,0,0,0,0,0,0,0,0,0,0,0,0,0,0,0,0,0,0,0,0,0,0,0,0,0,0,0,0,0,0,0,0,0,0,0,0,0,0,0,0,0,0,0,0,0,0,0,0,0,0,0,0,0,0,0,0,0,0,0,0,0,0,0,0,0,0,0,0,0,0,0,0,0,0,0,0,0,0,0,0,0,0,0,0,0,0,0,0,0,0,0,0,0,0,0,0,0,0,0,0,0,0,0,0,0,0,0,0,0,0,0,0,0,0,0,0,0,0,0,0,0,0,0,0,0,0,0,0,0,0,0,0,0,0,0,0,0,0,0,0,0,0,0,0,0,0,0,0,0,0,0,0,0,0,0,0,0,0,0,0,0,0,0,0,0,0,0,0,0,0,0,0,0,0,0,0,0,0,0,0,0,0,0,0,0,0,0,0,0,0,0,0,0,0,0,0,0,0,0,0,0,0,0,0,0,0,0,0,0,0,0,0,0,0,0,0,0,0,0,0,0,0,0,0,0,0,0,0,0,0,0,0,0,0,0,0,0,0,0,0,0,0,0,0,0,0,0,0,0,0,0,0,0,0,0,0,0,0,0,0,0,0,0,0,0,0,0,0,0,0,0,0,0,0,0,0,0,0,0,0,0,0,0,0,0,0,0,0,0,0,0,0,0,0,0,0,0,0,0,0,0,0,0,0,0,0,0,0,0,0,0,0,0,0,0,0,0,0,0,0,0,0,0,0,0,0,0,0,0,0,0,0,0,0,0,0,0,0,0,0,0,0,0,0,0,0,0,0,0,0,0,0,0,0,0,0,0,0,0,0,0,0,0,0,0,0,0,0,0,0,0,0,0,0,0,0,0,0,0,0,0,0,0,0,0,0,0,0,0,0,0,0,0,0,0,0,0,0,0,0,0,0,0,0,0,0,0,0,0,0,0,0,0,0,0,0,0,0,0,0,0,0,0,0,0,0,0,0,0,0,0,0,0,0,0,0,0,0,0,0,0,0,0,0,0,0,0,0,0,0,0,0,0,0,0,0,0,0,0,0,0,0,0,0,0,0,0,0,0,0,0,0,0,0,0,0,0,0,0,0,0,0,0,0,0,0,0,0,0,0,0,0,0,0,0,0,0,0,0,0,0,0,0,0,0,0,0,0,0,0,0,0,0,0,0,0,0,0,0,0,0,0,0,0,0,0,0,0,0,0,0,0,0,0,0,0,0,0,0,0,0,0,0,0,0,0,0,0,0,0,0,0,0,0,0,0,0,0,0,0,0,0,0,0,0,0,0,0,0,0,0,0,0,0,0,0,0,0,0,0,0,0,0,0,0,0,0,0,0,0,0,0,0,0,0,0,0,0,0,0,0,0,0,0,0,0,0,0,0,0,0,0,0,0,0,0,0,0,0,0,0,0,0,0,0,0,0,0,0,0,0,0,0,0,0,0,0,0,0,0,0,0,0,0,0,0,0,0,0,0,0,0,0,0,0,0,0,0,0,0,0,0,0,0,0,0,0,0,0,0,0,0,0,0,0,0,0,0,0,0,0,0,0,0,0,0,0,0,0,0,0,0,0,0,0,0,0,0,0,0,0,0,0,0,0,0,0,0,0,0,0,0,0,0,0,0,0,0,0,0,0,0,0,0,0,0,0,0,0,0,0,0,0,0,0,0,0,0,0,0,0,0,0,0,0,0,0,0,0,0,0,0,0,0,0,0,0,0,0,0,0,0,0,0,0,0,0,0,0,0,0,0,0,0,0,0,0,0,0,0,0,0,0,0,0,0,0,0,0,0,0,0,0,0,0,0,0,0,0,0,0,0,0,0,0,0,0,0,0,0,0,0,0,0,0,0,0,0,0,0,0,0,0,0,0,0,0,0,0,0,0,0,0,0,0,0,0,0,0,0,0,0,0,0,0,0,0,0,0,0,0,0,0,0,0,0,0,0,0,0,0,0,0,0,0,0,0,0,0,0,0,0,0,0,0,0,0,0,0,0,0,0,0,0,0,0,0,0,0,0,0,0,0,0,0,0,0,0,0,0,0,0,0,0,0,0,0,0,0,0,0,0,0,0,0,0,0,0,0,0,0,0,0,0,0,0,0,0,0,0,0,0,0,0,0,0,0,0,0,0,0,0,0,0,0,0,0,0,0,0,0,0,0,0,0,0,0,0,0,0,0,0,0,0,0,0,0,0,0,0,0,0,0,0,0,0,0,0,0,0,0,0,0,0,0,0,0,0,0,0,0,0,0,0,0,0,0,0,0,0,0,0,0,0,0,0,0,0,0,0,0,0,0,0,0,0,0,0,0,0,0,0,0,0,0,0,0,0,0,0,0,0,0,0,0,0,0,0,0,0,0,0,0,0,0,0,0,0,0,0,0,0,0,0,0,0,0,0,0,0,0,0,0,0,0,0,0,0,0,0,0,0,0,0,0,0,0,0,0,0,0,0,0,0,0,0,0,0,0,0,0,0,0,0,0,0,0,0,0,0,0,0,0,0,0,0,0,0,0,0,0,0,0,0,0,0,0,0,0,0,0,0,0,0,0,0,0,0,0,0,0,0,0,0,0,0,0,0,0,0,0,0,0,0,0,0,0,0,0,0,0,0,0,0,0,0,0,0,0,0,0,0,0,0,0,0,0,0,0,0,0,0,0,0,0,0,0,0,0,0,0,0,0,0,0,0,0,0,0,0,0,0,0,0,0,0,0,0,0,0,0,0,0,0,0,0,0,0,0,0,0,0],\"coloraxis\":\"coloraxis\",\"symbol\":\"circle\"},\"mode\":\"markers\",\"name\":\"\",\"showlegend\":false,\"x\":[15.42806339263916,-38.68891143798828,-31.028154373168945,-0.47438129782676697,22.149328231811523,47.87827682495117,-30.647138595581055,-21.410446166992188,32.6700439453125,-24.89837074279785,-19.238723754882812,-16.060794830322266,-28.590492248535156,-20.246252059936523,12.990507125854492,-13.259366989135742,59.479190826416016,-43.41200256347656,-5.151651859283447,-18.905649185180664,-29.13082504272461,-11.459870338439941,-16.520051956176758,51.42580795288086,-11.606241226196289,49.63402557373047,-41.742210388183594,63.275596618652344,-17.406768798828125,-15.362151145935059,3.2926011085510254,-21.881637573242188,-20.70336151123047,-32.445796966552734,-12.407720565795898,-27.554655075073242,-45.78131866455078,8.456242561340332,51.27626419067383,41.103572845458984,22.53829574584961,-6.9072794914245605,-14.270673751831055,4.779633522033691,30.94947624206543,6.9087910652160645,10.944389343261719,1.3704572916030884,-5.855813503265381,34.31409454345703,-22.71221160888672,5.3975958824157715,-42.527523040771484,-22.246959686279297,-33.324256896972656,-15.593663215637207,-17.970245361328125,14.049060821533203,-35.19894790649414,68.24661254882812,40.20578384399414,-6.125784873962402,-22.241167068481445,-20.20517921447754,45.3304328918457,37.407474517822266,7.055173873901367,-28.621055603027344,-26.941478729248047,26.58170509338379,-15.455058097839355,41.099403381347656,4.483526706695557,55.89500427246094,20.48365592956543,-48.7043571472168,3.568983793258667,36.71391677856445,2.1706061363220215,-37.57966232299805,43.9682502746582,-47.36588668823242,13.960590362548828,-37.75022506713867,-18.316158294677734,46.812355041503906,40.45930480957031,-20.182588577270508,-5.766786575317383,45.34126663208008,5.472494602203369,-7.977872848510742,-4.793668270111084,47.306793212890625,-9.50780200958252,-19.4581356048584,9.115981101989746,-5.832976341247559,-9.63565444946289,-37.08123779296875,-28.68253517150879,29.096181869506836,62.309974670410156,3.4799976348876953,-39.91474151611328,4.594292640686035,35.68696594238281,-25.615753173828125,3.094571828842163,-19.451087951660156,52.5689697265625,-44.206390380859375,3.52805233001709,46.582908630371094,31.54677391052246,62.343570709228516,-21.099836349487305,37.34477996826172,-24.929399490356445,12.599390029907227,-34.35597610473633,-41.47097396850586,-40.38724899291992,-23.016563415527344,-27.027734756469727,-13.484925270080566,12.67024040222168,-8.065942764282227,-25.34719467163086,21.12887191772461,-13.333365440368652,64.61221313476562,-25.269733428955078,-38.444889068603516,-29.51338005065918,-0.3294234573841095,-25.14496612548828,10.846297264099121,49.1683464050293,-40.5216064453125,-16.50923728942871,-36.783782958984375,-44.903289794921875,-19.92618179321289,-6.488595008850098,-19.711780548095703,-24.235971450805664,30.67476463317871,-45.886634826660156,42.37832260131836,-4.642850399017334,62.28519821166992,21.637683868408203,26.26535415649414,35.498680114746094,-18.853050231933594,12.603461265563965,-14.439164161682129,57.50423812866211,59.545223236083984,-27.014192581176758,-13.939180374145508,15.60084342956543,-26.05386734008789,33.985836029052734,66.36663818359375,-13.836118698120117,-30.34654426574707,-13.03244400024414,1.7166489362716675,-16.963232040405273,-3.678945779800415,22.938060760498047,-14.59977912902832,6.374454498291016,30.676414489746094,-16.304847717285156,11.278804779052734,8.449762344360352,-17.540626525878906,-33.31772232055664,-1.8585009574890137,65.09471130371094,-24.437793731689453,-19.835695266723633,3.5933175086975098,-35.3726692199707,31.12187385559082,49.99009704589844,-10.808780670166016,6.454456806182861,28.943073272705078,-22.02090835571289,38.09708023071289,-3.6924476623535156,-15.202919006347656,62.36009216308594,25.425092697143555,67.61396026611328,5.129331588745117,-49.6906852722168,-20.441558837890625,1.0228434801101685,11.163936614990234,47.24192428588867,60.55080032348633,-14.238652229309082,-25.62556266784668,-40.13010025024414,-11.379708290100098,4.183459758758545,-22.523265838623047,-44.3935432434082,24.97332763671875,37.03285598754883,11.3121976852417,-45.05795669555664,45.77204895019531,31.665586471557617,33.65675735473633,-2.4241912364959717,-22.903512954711914,-4.106606960296631,-29.086267471313477,-40.64796447753906,-4.081873893737793,-13.851431846618652,8.272330284118652,-33.020668029785156,25.75961685180664,-4.731071472167969,-45.06771469116211,65.1511459350586,-9.916694641113281,-9.67030143737793,-27.028181076049805,15.910841941833496,31.727556228637695,-23.992359161376953,-14.33725357055664,-47.94374465942383,-44.281700134277344,-33.99927520751953,-11.643020629882812,47.99128341674805,25.279052734375,-27.666475296020508,-3.394360303878784,9.907190322875977,-1.8649564981460571,-16.599960327148438,-10.845369338989258,-0.46993371844291687,-9.509507179260254,-35.6324462890625,-38.06023406982422,52.95283889770508,-20.237089157104492,0.974009096622467,32.02277374267578,-13.973505973815918,-11.277748107910156,-15.690560340881348,-37.87487030029297,46.29267883300781,-11.491093635559082,56.158390045166016,-17.182985305786133,47.3385009765625,-31.443544387817383,-0.9146261215209961,-43.875614166259766,-7.625359058380127,-15.928934097290039,-10.116313934326172,-13.510106086730957,14.126455307006836,-41.44816970825195,49.1776123046875,57.72541809082031,-33.2812614440918,15.552288055419922,-34.93307113647461,-4.379831314086914,-11.38193416595459,57.09516143798828,4.685352325439453,35.15336608886719,12.414981842041016,-6.936067581176758,-48.30685043334961,-19.81523323059082,-21.88436508178711,49.97768020629883,16.555742263793945,24.923254013061523,56.20946502685547,14.045565605163574,-22.240083694458008,31.518016815185547,23.864891052246094,-2.461186647415161,1.6248100996017456,-8.346210479736328,-12.480347633361816,-46.69316101074219,29.643329620361328,-27.083913803100586,9.866426467895508,-24.348072052001953,-41.51249313354492,-37.10943603515625,-3.0476319789886475,5.576634407043457,5.161943435668945,-8.124855995178223,-22.308393478393555,3.973696231842041,11.600859642028809,-29.65267562866211,49.20351028442383,55.45295715332031,46.81914520263672,13.63629150390625,-1.119471549987793,-18.063518524169922,-7.408965587615967,-3.5089192390441895,50.24055480957031,4.287180423736572,-38.19508743286133,-7.433598041534424,4.198226451873779,14.70032024383545,9.477479934692383,41.894283294677734,-12.394791603088379,45.67405700683594,5.861374855041504,-27.015676498413086,56.608673095703125,-27.615629196166992,30.122867584228516,-21.529800415039062,-26.479190826416016,4.103567600250244,-23.028348922729492,-19.73607063293457,-28.506210327148438,33.9112548828125,-44.993534088134766,46.690879821777344,-22.266603469848633,44.9124870300293,-20.96784782409668,-34.7286262512207,11.78626823425293,54.688865661621094,12.588170051574707,-38.04951858520508,-16.78042221069336,64.1268539428711,64.46858215332031,-21.317716598510742,-35.9887809753418,-20.206697463989258,-24.93593406677246,-4.653395652770996,60.283447265625,-27.850107192993164,-11.730175971984863,24.113000869750977,-16.749711990356445,-13.003042221069336,-26.917314529418945,-18.767942428588867,19.454973220825195,47.19322204589844,-2.7492876052856445,55.65736770629883,-22.52252960205078,-32.486961364746094,31.74543571472168,-3.968207359313965,29.478084564208984,-45.998573303222656,62.023075103759766,-46.626922607421875,-4.202132225036621,60.216102600097656,4.946568965911865,-36.884033203125,-6.527276039123535,37.69513702392578,-28.826139450073242,43.13066482543945,-38.796051025390625,9.182981491088867,36.695640563964844,61.158206939697266,-35.852169036865234,-40.65123748779297,45.28334045410156,-26.64931297302246,-46.42225646972656,-1.667986512184143,52.02509307861328,30.85411262512207,11.567679405212402,-43.00202560424805,-24.799985885620117,-15.166258811950684,56.589141845703125,25.354270935058594,-25.948822021484375,52.98868942260742,13.136432647705078,-7.52305269241333,21.51917266845703,-2.5923216342926025,-9.91145133972168,-27.581039428710938,-20.537391662597656,47.173397064208984,27.533859252929688,-9.430635452270508,-6.178229808807373,-44.61479568481445,39.86367416381836,-9.452409744262695,39.15736770629883,17.952463150024414,-9.583984375,-13.37781047821045,-33.122318267822266,-0.9318642616271973,10.224498748779297,-38.3817024230957,-8.835809707641602,-7.230406761169434,32.109130859375,-7.812002658843994,13.685437202453613,-18.638864517211914,16.223346710205078,-38.22159194946289,11.000946998596191,43.91239929199219,-5.636584281921387,-0.24968236684799194,27.130966186523438,-31.017274856567383,-11.793028831481934,27.841548919677734,-16.59758186340332,-34.14424133300781,-3.73173451423645,-11.17703914642334,8.317126274108887,-0.6779144406318665,22.355030059814453,-20.674116134643555,-0.2909105718135834,59.89714431762695,11.13940143585205,56.1231803894043,32.418704986572266,-44.004127502441406,-34.462337493896484,42.85886764526367,-20.537939071655273,-30.04526138305664,12.988665580749512,7.4004034996032715,11.835627555847168,30.139829635620117,-23.64072608947754,43.60331726074219,14.6827974319458,-34.93072509765625,-24.577552795410156,-8.202061653137207,-20.37358283996582,56.03950119018555,39.461524963378906,7.97195291519165,-5.856956481933594,-21.9009952545166,-12.82853889465332,-47.27354431152344,-32.90646743774414,3.0578880310058594,-10.071152687072754,-21.25604248046875,-6.906008243560791,49.94228744506836,13.455488204956055,48.19126510620117,13.81959342956543,-33.218074798583984,-18.31562614440918,-6.457789421081543,-9.601190567016602,-13.767603874206543,-19.13056182861328,10.804839134216309,-42.532535552978516,-33.55590057373047,-27.526968002319336,26.376815795898438,16.7490291595459,29.88650894165039,-15.22799301147461,-24.748525619506836,-27.289899826049805,-29.81305694580078,-36.367977142333984,41.129417419433594,41.75319290161133,-26.998550415039062,23.762880325317383,-19.366703033447266,-39.6367301940918,6.041182041168213,4.783355712890625,-21.727975845336914,-42.527523040771484,-26.859472274780273,10.255688667297363,6.162635803222656,40.17637252807617,-19.68172264099121,-27.59137725830078,-45.1450080871582,-0.7652137875556946,20.335420608520508,-37.236446380615234,-47.59189224243164,43.02355194091797,-11.544845581054688,19.591739654541016,-20.61908721923828,-17.0234375,-20.840112686157227,-23.058666229248047,52.87041473388672,-18.57597541809082,49.08413314819336,54.5245361328125,-30.934072494506836,24.601543426513672,-46.12967300415039,-28.627918243408203,44.754302978515625,-27.244184494018555,46.23622512817383,35.93686294555664,53.073394775390625,55.556617736816406,-24.82649040222168,11.863912582397461,1.408729910850525,9.606271743774414,-33.55280685424805,-3.7727184295654297,-2.157738447189331,-19.713359832763672,31.1312255859375,-25.1636962890625,-35.252506256103516,-25.900850296020508,16.619287490844727,-22.797767639160156,-44.927825927734375,-24.25035285949707,57.793155670166016,24.319110870361328,-11.042547225952148,-31.268447875976562,20.494617462158203,-23.60338592529297,-7.833720684051514,-34.1200065612793,63.0236701965332,21.8441162109375,56.04959487915039,9.511541366577148,52.984825134277344,26.917131423950195,-46.163387298583984,21.44215202331543,-7.114960670471191,17.83182144165039,38.48748779296875,-20.95810890197754,-25.426088333129883,6.106537342071533,-48.83041000366211,-11.956998825073242,-5.849295139312744,-33.26035690307617,27.864526748657227,14.841612815856934,-11.600624084472656,43.05384063720703,-38.294273376464844,64.28785705566406,-30.334182739257812,61.56072235107422,38.44353485107422,-28.597719192504883,-33.262203216552734,64.34803009033203,-22.03959083557129,8.744172096252441,29.6671142578125,3.816558361053467,-23.059640884399414,3.411904811859131,22.739591598510742,-4.524367332458496,7.676912307739258,-34.31433868408203,-2.269697427749634,-34.57271194458008,44.26890182495117,-34.79184341430664,-23.797195434570312,47.97230529785156,-16.944772720336914,3.3955295085906982,4.273020267486572,17.758193969726562,12.156698226928711,25.141956329345703,-17.506486892700195,1.5380092859268188,11.950406074523926,39.483192443847656,-3.924175262451172,-27.888545989990234,-8.922385215759277,16.79571533203125,-46.28785705566406,-10.900269508361816,-8.365692138671875,-21.77146339416504,-2.1032004356384277,-1.5885862112045288,-25.274356842041016,-30.379411697387695,5.4241862297058105,-17.648714065551758,-12.13828182220459,-15.747215270996094,6.5414042472839355,39.8316764831543,-15.866052627563477,55.9686393737793,59.927406311035156,0.5251310467720032,4.724124431610107,-13.487342834472656,-26.622583389282227,47.032264709472656,-40.69826126098633,-34.312705993652344,10.40791130065918,-0.31001710891723633,56.1038818359375,-11.686527252197266,-45.60538864135742,42.23603439331055,-6.404824733734131,33.540225982666016,8.941822052001953,57.22011184692383,-8.800010681152344,8.325600624084473,-26.083251953125,-28.88805389404297,-49.91096115112305,-22.291051864624023,-46.63414001464844,53.1274528503418,-46.574066162109375,-18.459959030151367,-30.044687271118164,65.29289245605469,-44.537322998046875,-33.792781829833984,61.8585205078125,-20.548730850219727,21.61699867248535,-25.002830505371094,-4.516332626342773,47.46625900268555,-29.12238311767578,-4.324178695678711,26.64850425720215,-16.17079734802246,-11.314624786376953,-17.382640838623047,66.06838989257812,40.89284896850586,55.51628875732422,61.31106185913086,21.33687973022461,-11.167287826538086,-37.03511428833008,-13.998307228088379,-16.224170684814453,16.583877563476562,32.707576751708984,-28.557140350341797,-25.297746658325195,-2.7722833156585693,-15.296140670776367,-35.68433380126953,-27.631433486938477,-5.00152587890625,54.5107307434082,41.62510681152344,-43.59328842163086,41.15635299682617,28.019140243530273,-2.872018575668335,54.512142181396484,28.255136489868164,7.997651100158691,26.282447814941406,-44.29698944091797,-1.9980969429016113,-11.638559341430664,-11.613844871520996,-21.90610122680664,43.20267105102539,-33.95487594604492,-43.55508041381836,-24.512027740478516,-37.131256103515625,-43.59385299682617,-10.318831443786621,-35.7166633605957,-24.736295700073242,-20.97736358642578,-17.907102584838867,57.56251525878906,33.25288772583008,17.283782958984375,-20.809703826904297,-40.19729995727539,57.4666633605957,-18.92357063293457,-42.46531677246094,16.943506240844727,27.057275772094727,-39.48564529418945,34.35895538330078,-12.630229949951172,-43.60198974609375,4.977575778961182,-19.577693939208984,-16.68926239013672,-33.26011657714844,7.256093502044678,-11.760759353637695,-5.182252407073975,3.4682676792144775,25.40234375,-27.77156639099121,25.295429229736328,-18.294010162353516,45.343196868896484,-33.31603240966797,-1.0073766708374023,-9.316235542297363,11.421926498413086,7.129807472229004,-22.804147720336914,-16.14960289001465,24.857515335083008,-8.167597770690918,62.436370849609375,-9.043511390686035,5.520654678344727,-5.247894763946533,32.381046295166016,-47.24697494506836,-19.621448516845703,-27.604276657104492,41.221946716308594,19.718507766723633,21.561378479003906,25.184547424316406,60.51409149169922,24.97041893005371,-3.583118438720703,-0.4434688985347748,6.973062992095947,-16.833768844604492,21.96285057067871,-29.76410484313965,-29.31974220275879,47.02628707885742,-40.00648498535156,-25.679359436035156,-13.651582717895508,45.731666564941406,-22.475643157958984,-0.4652133285999298,-22.85289192199707,-35.2608642578125,-23.872806549072266,1.0634664297103882,-31.05636215209961,-22.001279830932617,-0.029684673994779587,-10.780410766601562,-6.412485122680664,11.647233009338379,10.836904525756836,-47.93634796142578,-30.11159324645996,37.0438232421875,-50.46963882446289,-6.657689571380615,-7.135626792907715,39.737159729003906,-25.250253677368164,-22.153947830200195,7.060194969177246,38.30335235595703,-13.524848937988281,0.7124010324478149,-26.870756149291992,10.62723445892334,64.60370635986328,1.5561285018920898,-13.272377967834473,-38.21605682373047,0.9131502509117126,21.220829010009766,11.17158031463623,-31.124250411987305,-12.153779029846191,35.808555603027344,2.5560381412506104,-13.78056812286377,57.32781982421875,64.99304962158203,-1.8828251361846924,-36.95400619506836,3.984113931655884,49.316688537597656,-19.504301071166992,55.80791473388672,-36.4409065246582,44.91227722167969,-49.916561126708984,23.24803924560547,-31.3144588470459,41.81834030151367,-44.427860260009766,28.276384353637695,16.353740692138672,5.673398494720459,6.090142726898193,57.667720794677734,1.2264587879180908,-38.234222412109375,53.875484466552734,6.526675701141357,4.751312255859375,-25.72047233581543,11.431593894958496,-19.788742065429688,-40.91633987426758,19.555477142333984,-35.929630279541016,-30.69257164001465,-40.833316802978516,-41.17521286010742,-5.80554723739624,1.4657418727874756,38.63595962524414,21.679231643676758,7.203611850738525,27.16803741455078,-16.946369171142578,56.36975860595703,-39.12158203125,-15.758630752563477,0.7076701521873474,-37.82514953613281,-27.691104888916016,26.81810760498047,-29.36720848083496,-27.526390075683594,-12.11307144165039,60.31471252441406,-30.56658363342285,-40.64265441894531,-26.863603591918945,-10.46109390258789,57.83265686035156,-23.344266891479492,-43.760215759277344,-19.7739200592041,-44.40816116333008,9.30915641784668,-9.493061065673828,-23.957462310791016,-23.541906356811523,8.710064888000488,64.03201293945312,-22.60044288635254,4.878010272979736,53.62572479248047,34.4298210144043,52.39470291137695,-34.894535064697266,-21.446319580078125,-38.3690071105957,37.68806076049805,-20.88951873779297,34.78128433227539,25.7312068939209,21.67676544189453,7.975176811218262,-35.48583984375,2.310805082321167,-31.74806785583496,-29.363269805908203,16.42327117919922,66.27538299560547,35.289424896240234,42.664329528808594,-3.0237984657287598,14.485541343688965,-18.763641357421875,-35.16215133666992,-30.55205726623535,-13.577486038208008,-23.061750411987305,43.68769454956055,-17.971616744995117,-13.661917686462402,-18.703218460083008,-18.59390640258789,62.93986511230469,-44.86791229248047,-15.84119987487793,-46.624839782714844,-39.41288757324219,-40.13420867919922,-47.00112533569336,-30.578378677368164,-0.08705455809831619,1.90355384349823,-12.068670272827148,-50.245113372802734,62.22752380371094,60.368324279785156,-47.69289016723633,9.392471313476562,8.536723136901855,7.415112018585205,21.70563507080078,-12.220046997070312,-30.057598114013672,12.065229415893555,-1.1302012205123901,15.852188110351562,53.42634201049805,0.21825174987316132,30.62515640258789,-21.371597290039062,-30.266685485839844,-24.72650718688965,49.387550354003906,-45.62995529174805,-33.22718048095703,-38.462181091308594,42.289302825927734,0.4724505543708801,-20.34535789489746,24.226694107055664,46.053646087646484,8.300469398498535,48.942203521728516,-46.497657775878906,-21.803361892700195,-27.946687698364258,62.33650588989258,-6.984835624694824,21.111555099487305,-27.32360076904297,21.050722122192383,-31.74363136291504,-23.72847557067871,-28.035633087158203,-41.74889373779297,-26.21976661682129,-40.40237808227539,-8.912487030029297,-17.105409622192383,8.317543983459473,60.89419937133789,13.021740913391113,-3.8209545612335205,-34.446590423583984,4.045187950134277,-31.027963638305664,-33.22298812866211,-23.10365104675293,-37.0754508972168,-33.96471405029297,15.500738143920898,21.874479293823242,56.66458511352539,21.522090911865234,-44.55044174194336,54.14280319213867,34.566497802734375,0.3230135142803192,-45.47568893432617,2.365595579147339,-20.41084098815918,-44.208229064941406,-39.79051971435547,24.73931884765625,7.781567096710205,-31.415742874145508,21.00277328491211,4.664936065673828,-6.412286281585693,49.41389465332031,22.487985610961914,-42.92843246459961,54.11310958862305,-30.19814682006836,-29.60382652282715,64.87690734863281,-15.038485527038574,11.744203567504883,-1.5526586771011353,19.814741134643555,-5.056344985961914,6.02445125579834,1.563137173652649,1.8637497425079346,27.11397933959961,-34.157958984375,45.66242599487305,-19.376882553100586,45.39949417114258,-30.58097267150879,-5.607307434082031,62.852413177490234,61.76742935180664,-13.35335636138916,57.168190002441406,41.762428283691406,6.4192023277282715,48.12636184692383,13.782793998718262,-0.6911376714706421,-4.7443437576293945,-20.20532989501953,-13.04605770111084,-3.054644823074341,-33.58206558227539,-20.714677810668945,-22.06463623046875,-45.02035903930664,5.883969783782959,-15.200899124145508,14.593990325927734,-20.895719528198242,7.493560314178467,38.932273864746094,0.27866798639297485,47.54032897949219,21.503236770629883,35.59916687011719,-8.26109504699707,59.529850006103516,-38.847923278808594,-1.4709818363189697,-7.449156284332275,12.603891372680664,-23.454164505004883,-15.33857250213623,-4.749856948852539,-5.129086971282959,-4.061179161071777,46.3474235534668,1.5246772766113281,39.622528076171875,6.021416187286377,-36.68914031982422,-22.463632583618164,-22.408157348632812,6.937750339508057,-47.64058303833008,23.369234085083008,24.912368774414062,-44.144222259521484,-14.570051193237305,17.592750549316406,63.46345520019531,-38.01957321166992,-31.851089477539062,53.21173095703125,8.295049667358398,-20.789859771728516,-7.365535259246826,-49.28041076660156,-31.1669979095459,7.163311958312988,-38.58992004394531,-45.519752502441406,24.467384338378906,-12.282407760620117,1.7838947772979736,6.601533889770508,55.719451904296875,-19.81964874267578,6.497623443603516,-26.8187198638916,30.427034378051758,-25.545732498168945,13.644608497619629,-42.46814727783203,-6.014296531677246,1.2819721698760986,54.628395080566406,-28.13960838317871,-44.00065994262695,-27.32814598083496,3.1586391925811768,-37.265018463134766,-20.17173957824707,-26.707103729248047,-6.114692211151123,-19.9093074798584,62.3009033203125,-36.811798095703125,-4.563598155975342,63.256465911865234,-16.513919830322266,-6.663789749145508,-2.810154914855957,46.90143966674805,68.14505767822266,53.45865249633789,49.65192413330078,65.8096694946289,3.971742868423462,-18.225627899169922,-36.656349182128906,1.7291524410247803,-23.800487518310547,-13.897622108459473,12.440752029418945,-29.002788543701172,62.08734893798828,-47.20589828491211,-19.302881240844727,-18.78309440612793,48.77969741821289,34.13151168823242,0.27454742789268494,15.80606460571289,7.127078056335449,-27.921428680419922,7.4793701171875,-35.99882888793945,1.241406798362732,2.4100940227508545,12.84001636505127,-7.037589073181152,34.94783020019531,-33.44339370727539,40.11777877807617,-19.995864868164062,-38.5927734375,19.2556095123291,32.02825164794922,-9.702194213867188,-18.7699031829834,-24.176542282104492,-16.059717178344727,67.05384063720703,30.267118453979492,-44.126731872558594,-20.376611709594727,-3.3947696685791016,-32.72586441040039,-44.517154693603516,53.4875373840332,8.284595489501953,10.954764366149902,9.5228910446167,-1.7372701168060303,-24.673147201538086,-26.57913589477539,27.1467227935791,44.60118103027344,29.00194549560547,1.099066138267517,-40.79556655883789,49.66236877441406,-28.51972770690918,-0.6464337706565857,-13.648347854614258,-3.919469118118286,59.38729476928711,-24.426488876342773,-40.862770080566406,2.118842601776123,-34.45191192626953,-4.15546989440918,5.378201007843018,-47.28455352783203,7.719717502593994,-46.78140640258789,-6.449577331542969,-37.6546745300293,8.270071029663086,-8.604300498962402,-27.22435188293457,-10.35447883605957,-6.3346405029296875,-20.60637855529785,1.9331837892532349,-15.156224250793457,-11.905179977416992,-7.156517505645752,-38.56137466430664,12.692010879516602,51.68734359741211,51.54212951660156,-42.35636520385742,-22.137264251708984,-45.103416442871094,-27.856918334960938,42.70536804199219,3.1835103034973145,47.146095275878906,5.815357685089111,-19.658140182495117,23.883319854736328,-6.60652494430542,20.5499210357666,-30.782133102416992,-26.297056198120117,-13.759098052978516,-37.68565368652344,-6.9434661865234375,8.950942993164062,-36.750244140625,6.840188980102539,21.75582504272461,-45.70558166503906,9.00267219543457,-31.83517837524414,-17.65227508544922,-26.719202041625977,-5.744080543518066,-24.789579391479492,-26.123268127441406,12.984585762023926,-14.257628440856934,-36.35516357421875,-14.186110496520996,29.504104614257812,-5.880465507507324,-38.98810958862305,-35.07457733154297,-29.11407470703125,14.256170272827148,-40.261260986328125,3.1112253665924072,-25.94104766845703,-26.853164672851562,13.694411277770996,-20.018810272216797,55.7965202331543,-10.372776985168457,-18.865177154541016,-12.298096656799316,-40.8797721862793,-20.86881446838379,64.40149688720703,41.97456359863281,57.0300407409668,-29.999263763427734,4.014042854309082,8.38761043548584,-31.823259353637695,-23.387638092041016,-26.651403427124023,-45.439598083496094,-8.410903930664062,-34.257606506347656,1.862413763999939,14.738214492797852,-13.401683807373047,11.912342071533203,58.37747573852539,14.130294799804688,12.706461906433105,-31.013742446899414,-28.43878173828125,10.960070610046387,-4.385735988616943,4.3900041580200195,-23.441946029663086,-24.348712921142578,67.94256591796875,0.1994604766368866,23.996234893798828,-7.7005391120910645,-22.665748596191406,-22.887720108032227,56.5689697265625,-28.755035400390625,2.3670194149017334,15.39698314666748,26.262210845947266,-22.339109420776367,-4.676565170288086,62.54731750488281,13.322525978088379,2.6101410388946533,-8.898085594177246,54.411659240722656,30.186979293823242,-8.85312271118164,24.619657516479492,56.932376861572266,-26.70432472229004,7.608775615692139,30.847309112548828,-38.226470947265625,25.4354305267334,19.774002075195312,-34.700748443603516,33.12959671020508,-21.72516441345215,-12.722542762756348,38.641929626464844,32.67234802246094,0.15250547230243683,-4.992823123931885,-17.98015785217285,-0.37253323197364807,44.99447250366211,-6.2566375732421875,9.786508560180664,-14.81548023223877,32.815330505371094,-19.342365264892578,5.859426498413086,-19.476097106933594,9.142916679382324,6.834370136260986,-1.6471480131149292,55.41304397583008,48.0367317199707,30.009868621826172,62.00684356689453,52.54996871948242,52.16297149658203,40.133548736572266,10.309897422790527,-42.11256790161133,10.257181167602539,4.904837131500244,50.89467239379883,-7.767287731170654,13.135222434997559,17.891836166381836,10.55411148071289,-12.658234596252441,9.183534622192383,10.90453052520752,-48.82061767578125,53.610355377197266,18.08384895324707,16.12486457824707,-28.692855834960938,17.023088455200195,44.47876739501953,31.33197021484375,-36.6010627746582,-25.783601760864258,35.255462646484375,61.89503860473633,-25.034364700317383,-39.96857452392578,-26.85418128967285,-27.261568069458008,-13.368301391601562,30.4046573638916,31.137489318847656,2.816049814224243,-12.69952392578125,5.8828935623168945,42.21519088745117,-22.650949478149414,-12.915074348449707,53.37204360961914,51.22960662841797,1.4340258836746216,22.591642379760742,40.57243347167969,-28.775135040283203,-0.47299495339393616,-20.584871292114258,-11.467081069946289,-21.925865173339844,-41.83952713012695,59.3765754699707,7.998460292816162,-47.50051498413086,30.28196144104004,65.91400146484375,-17.42481803894043,-2.5995965003967285,-15.4129638671875,-41.23248291015625,2.801753520965576,-3.3781654834747314,-47.592308044433594,-5.316809177398682,16.36480712890625,-12.383499145507812,-0.32811349630355835,12.014416694641113,47.51213073730469,13.426614761352539,-37.78708267211914,10.126171112060547,-23.84502601623535,-40.70597839355469,4.302730560302734,-13.921992301940918,15.684361457824707,-0.34557685256004333,-25.91875648498535,49.65705490112305,5.635748386383057,38.12095642089844,-9.212514877319336,-43.46213150024414,-3.261752128601074,-13.110633850097656,-15.830731391906738,64.81605529785156,-3.0590968132019043,-5.03294563293457,50.31889724731445,-40.431358337402344,-6.014608860015869,-41.74785232543945,42.72270202636719,8.868124961853027,11.676316261291504,54.70506286621094,13.369487762451172,6.80689811706543,30.240184783935547,17.141183853149414,-32.120792388916016,64.98230743408203,-6.120975494384766,-46.094669342041016,6.686515808105469,-12.877104759216309,-23.611373901367188,-1.1347639560699463,-24.055646896362305,6.250912666320801,31.90207290649414,-15.156789779663086,-30.924388885498047,16.009552001953125,62.43484878540039,4.147921562194824,-18.295133590698242,14.144564628601074,25.231433868408203,-2.5598576068878174,-5.090943336486816,16.338491439819336,-23.62439727783203,13.499217987060547,65.25678253173828,62.04576110839844,-23.373838424682617,-36.519676208496094,28.75719451904297,-34.52668380737305,63.06880187988281,-46.098628997802734,50.47346878051758,0.36878764629364014,-32.34853744506836,45.68186950683594,-23.140546798706055,-23.713529586791992,-28.153120040893555,-34.60577392578125,-0.38854241371154785,1.029157280921936,15.279303550720215,-36.5781135559082,-18.03136444091797,-38.96669006347656,22.638843536376953,1.8039616346359253,-47.172340393066406,-29.929611206054688,45.78981018066406,2.213768243789673,48.996612548828125,27.550458908081055,0.5765072107315063,-48.891048431396484,8.11435604095459,10.454752922058105,-15.756304740905762,-4.301274299621582,44.49506378173828,9.235289573669434,20.52834701538086,1.203621506690979,49.758827209472656,21.046066284179688,-5.39691162109375,55.54057693481445,-20.237686157226562,14.601072311401367,-11.415794372558594,33.33888626098633,-4.976409435272217,-21.407569885253906,-4.42011022567749,-28.09627914428711,-36.46385192871094,-29.590484619140625,3.6838274002075195,-7.892754554748535,38.94447708129883,14.989113807678223,-29.001571655273438,37.38064193725586,-22.394678115844727,32.888885498046875,12.747692108154297,-9.662150382995605,-3.9054558277130127,53.60095977783203,-5.723658561706543,-39.94976043701172,21.700719833374023,-1.0910305976867676,44.63834762573242,-22.12325096130371,-8.193609237670898,-23.528154373168945,48.829750061035156,-28.4818058013916,56.208656311035156,-24.262516021728516,48.95071792602539,50.6196174621582,-31.309959411621094,-2.0644569396972656,5.346690654754639,-19.6079158782959,20.862049102783203,51.769962310791016,-17.067750930786133,-16.0808162689209,22.252199172973633,-5.126575469970703,32.644065856933594,54.03728103637695,-33.91938018798828,-46.439945220947266,59.802391052246094,31.031681060791016,-25.423337936401367,-4.785001754760742,-4.577027320861816,13.319127082824707,43.49311065673828,-30.177709579467773,37.680084228515625,-20.23549461364746,-37.60649871826172,55.644962310791016,-42.34554672241211,6.593775272369385,-28.837238311767578,-43.19225311279297,45.115631103515625,-13.064488410949707,-0.47375208139419556,8.013509750366211,52.111934661865234,-10.756096839904785,6.357271671295166,-13.79882526397705,-27.40257453918457,-19.776479721069336,-17.813066482543945,13.607508659362793,12.635337829589844,-41.245033264160156,50.816097259521484,19.246076583862305,-19.23494529724121,33.335357666015625,33.77238464355469,26.394065856933594,8.308623313903809,0.20102311670780182,-38.79482650756836,-40.05038070678711,60.08192443847656,-26.08336067199707,-17.151193618774414,-21.915531158447266,62.06132888793945,-32.939579010009766,-47.304779052734375,33.82634353637695,29.782501220703125,-21.76203727722168,9.638961791992188,4.693312644958496,-14.338933944702148,-6.144352436065674,9.450297355651855,-14.23836612701416,-38.50776290893555,-37.826820373535156,-38.80322265625,-46.9028434753418,32.98137283325195,11.737247467041016,-13.044659614562988,-17.286380767822266,42.348567962646484,1.6342943906784058,-44.950462341308594,-14.989093780517578,-29.276235580444336,-11.763899803161621,25.058591842651367,56.08220291137695,41.505401611328125,54.58795928955078,-34.24574279785156,-38.151817321777344,-17.465538024902344,-29.933134078979492,-28.896215438842773,57.22818374633789,-0.7964301109313965,-29.00149154663086,20.40608024597168,-26.051530838012695,-5.658605098724365,22.98304557800293,-18.70509147644043,49.08143997192383,53.75800323486328,58.821197509765625,-14.643394470214844,-10.131651878356934,-48.65244674682617,57.50952911376953,27.357152938842773,-43.7869758605957,-19.781896591186523,-46.618133544921875,-26.463224411010742,-27.711484909057617,11.138623237609863,-6.45247745513916,24.244155883789062,67.30548858642578,-2.8344566822052,21.512348175048828,-24.088319778442383,-40.27525329589844,-3.1824371814727783,4.097468376159668,-47.35671615600586,64.87408447265625,-37.93840408325195,50.681663513183594,31.513437271118164,62.45820617675781,3.787008047103882,-1.982817530632019,60.11058044433594,-37.79983901977539,-20.438331604003906,-6.1064887046813965,-1.3944545984268188,7.637477874755859,47.83659744262695,-46.53998565673828,-17.55800437927246,-24.338289260864258,16.960466384887695,-4.983866214752197,8.81723690032959,-4.703991413116455,-0.12939903140068054,-38.694488525390625,-27.742053985595703,-45.841434478759766,-27.54132843017578,-0.3344096839427948,-21.146528244018555,-30.258583068847656,28.286008834838867,13.413119316101074,-17.789030075073242,-38.379093170166016,-8.765058517456055,-46.03421401977539,-39.63634490966797,11.387857437133789,16.063745498657227,-20.95948028564453,15.074060440063477,-42.67206954956055,18.01242446899414,-30.44733428955078,-9.82503890991211,-5.848261833190918,-21.575345993041992,50.067726135253906,54.73527526855469,51.00100326538086,-24.289520263671875,6.3993096351623535,22.53827476501465,5.424661636352539,25.24634552001953,-35.34323501586914,-18.597774505615234,-23.896251678466797,56.67629623413086,-29.38277244567871,34.10797119140625,13.58456039428711,62.05628967285156,63.29802322387695,-35.34156036376953,5.393511772155762,-45.13917541503906,-4.434792518615723,-8.479185104370117,-38.94111633300781,-45.06576156616211,-27.11777114868164,-38.88909912109375,-29.374814987182617,14.225964546203613,-13.321141242980957,22.17779541015625,-23.136857986450195,-42.1342887878418,-42.87974166870117,-18.499277114868164,-13.899650573730469,-14.789141654968262,-5.911433219909668,-27.67435646057129,-26.121612548828125,63.608638763427734,52.049190521240234,56.830196380615234,-22.04836654663086,59.4732780456543,-41.275455474853516,-27.38995361328125,-10.440349578857422,49.568241119384766,-47.37205123901367,-37.81254959106445,-9.189873695373535,20.026140213012695,-8.180702209472656,-13.764631271362305,47.685665130615234,-43.8834228515625,-10.203736305236816,52.88951873779297,-19.214176177978516,15.91423511505127,25.749919891357422,10.644210815429688,-9.743279457092285,-40.32221603393555,31.10856056213379,15.902926445007324,-33.05714797973633,48.04421615600586,-8.679792404174805,-46.46672821044922,-4.2104268074035645,-24.370899200439453,-28.09555435180664,-33.933223724365234,7.93790864944458,-3.010873317718506,-25.780942916870117,10.308916091918945,18.79993438720703,-23.023975372314453,1.8827567100524902,-7.955266952514648,-1.0138674974441528,-5.817850112915039,-27.826671600341797,27.488554000854492,21.835390090942383,-18.233800888061523,-20.243488311767578,63.56334686279297,-39.13020706176758,48.45032501220703,59.55455780029297,-31.017616271972656,7.534193515777588,23.19016456604004,-17.439083099365234,-33.09518051147461,-9.969413757324219,2.343160629272461,51.64148712158203,23.061601638793945,-8.769988059997559,-2.4374492168426514,-40.778751373291016,10.969457626342773,-16.349863052368164,2.177971839904785,-29.95292091369629,-3.1697840690612793,67.5614013671875,-7.084030628204346,-38.238590240478516,5.447970867156982,53.13816452026367,63.11962127685547,-25.624168395996094,4.103883743286133,-21.161264419555664,-25.920164108276367,-24.242387771606445,-18.180166244506836,-17.87986183166504,5.9398579597473145,-19.487770080566406,-33.24430465698242,-20.61989974975586,-24.903839111328125,-7.158935070037842,-5.300236701965332,23.97380828857422,-3.4916934967041016,2.2275309562683105,-41.47391891479492,7.493630409240723,-3.4910378456115723,12.245142936706543,-31.111276626586914,5.033685684204102,-22.963687896728516,-47.79633331298828,-37.68954086303711,57.0919189453125,1.0295902490615845,-5.2131195068359375,45.36339569091797,-6.463399410247803,39.247703552246094,58.84637451171875,11.981988906860352,53.050537109375,-12.915610313415527,-15.735305786132812,-14.021371841430664,33.60792922973633,-21.213579177856445,-4.130622386932373,52.40006637573242,-3.4503939151763916,12.345213890075684,37.03498077392578,42.219852447509766,-5.647552967071533,11.983356475830078,48.9880485534668,-14.394046783447266,9.958883285522461,-29.553070068359375,-25.781972885131836,53.78496170043945,-22.432443618774414,-48.04155349731445,1.4379749298095703,-19.10423469543457,-7.674496173858643,-16.87099266052246,33.87017059326172,-5.611885070800781,-12.184368133544922,28.124624252319336,-4.383665084838867,-47.33759689331055,33.43606185913086,5.003184795379639,47.977298736572266,31.165773391723633,-35.79909133911133,-33.199440002441406,-29.8186092376709,31.98533821105957,1.8014622926712036,30.122726440429688,61.048282623291016,28.506240844726562,16.815021514892578,-34.793304443359375,-35.97023010253906,-16.566001892089844,32.274940490722656,-17.53988265991211,3.8791418075561523,-42.93307113647461,-36.445213317871094,16.31147003173828,-33.36890411376953,-5.895515441894531,42.52228927612305,7.715959548950195,6.1772074699401855,-37.032100677490234,-20.50043487548828,13.71960735321045,15.566533088684082,58.91946792602539,22.726045608520508,29.081886291503906,-16.351318359375,-3.11759352684021,-21.33225440979004,10.45406436920166,-9.65853500366211,53.12535858154297,-12.930243492126465,-45.25741195678711,46.785858154296875,8.309202194213867,-28.11264419555664,-28.322946548461914,-16.36075782775879,-31.84170150756836,-2.6504039764404297,20.981014251708984,-3.9964613914489746,-33.86290740966797,7.150348663330078,9.488001823425293,-33.059242248535156,26.795175552368164,-22.626453399658203,2.77923846244812,8.50107479095459,-17.168245315551758,8.024935722351074,-49.42625045776367,5.152538299560547,64.77635192871094,31.678991317749023,-24.46658706665039,-5.592276573181152,-41.60887145996094,13.501395225524902,-29.857315063476562,-3.235856056213379,-25.764202117919922,-46.745208740234375,12.842724800109863,41.747413635253906,61.81146240234375,24.250879287719727,19.188032150268555,64.41565704345703,16.805212020874023,11.020001411437988,9.451484680175781,-13.152388572692871,-49.94314956665039,57.46834945678711,5.986294269561768,20.552570343017578,55.504859924316406,-15.137886047363281,-27.821624755859375,-48.33897399902344,-32.12482452392578,65.12333679199219,23.985605239868164,-3.8776206970214844,4.965521335601807,-1.820868968963623,-6.57326078414917,-19.826025009155273,-9.155450820922852,2.690700054168701,34.46961212158203,30.73283576965332,-12.671731948852539,4.563050270080566,-21.59331512451172,25.130359649658203,8.611108779907227,50.45256042480469,52.84058380126953,-33.143943786621094,-36.762054443359375,-27.45762062072754,-5.403687953948975,-26.696332931518555,2.0722036361694336,-36.713199615478516,-24.038532257080078,6.010044097900391,2.254847288131714,17.302522659301758,19.948400497436523,-2.9173667430877686,-14.032316207885742,-21.46065902709961,48.02421569824219,45.93496322631836,11.084912300109863,-45.24836730957031,8.474752426147461,-38.52178955078125,13.589071273803711,58.81654357910156,-20.52268409729004,0.22310510277748108,27.761695861816406,18.304637908935547,-23.915485382080078,38.57323455810547,-45.057838439941406,-15.41241455078125,31.65548324584961,-47.69384002685547,0.46977564692497253,36.84855270385742,-25.961729049682617,27.706392288208008,22.14751434326172,27.615367889404297,46.21464157104492,-36.557281494140625,-20.088584899902344,-2.952610969543457,-1.1069494485855103,-13.441213607788086,-26.694028854370117,0.8316694498062134,-18.826595306396484,7.623269081115723,2.2371723651885986,-1.2596062421798706,-17.155834197998047,-43.850868225097656,-29.441478729248047,-32.81941604614258,8.84192180633545,-33.01777648925781,-0.3920963704586029,-27.145538330078125,-26.26605796813965,5.913529872894287,15.217911720275879,11.445152282714844,-17.356468200683594,-6.628323078155518,10.398945808410645,1.739047884941101,-38.5609130859375,-4.584334373474121,-9.545894622802734,-22.586929321289062,-14.560352325439453,-7.518314838409424,-38.44209671020508,-19.9639835357666,34.77077865600586,-43.30717468261719,-5.772451400756836,-4.618369102478027,-28.870588302612305,45.98685073852539,0.6141675114631653,-20.518423080444336,-41.141475677490234,45.50857925415039,-33.601654052734375,-32.78437042236328,-14.908468246459961,35.53670883178711,41.451515197753906,-14.324853897094727,-4.089020729064941,9.950737953186035,-3.1495096683502197,47.133514404296875,-14.393412590026855,-11.59805965423584,-17.363372802734375,-14.999186515808105,30.830257415771484,16.50386619567871,54.32452392578125,34.88569641113281,20.767108917236328,-5.43130350112915,-9.014689445495605,-23.6638126373291,45.255123138427734,-34.56038284301758,-18.544836044311523,-32.11659622192383,53.84943389892578,27.451017379760742,29.86077117919922,-6.7234787940979,29.92416763305664,-42.74661636352539,-30.80430793762207,-38.085018157958984,-34.99759292602539,12.503218650817871,-41.41911315917969,55.28239440917969,-43.13517379760742,-13.832310676574707,52.9526252746582,-39.04227066040039,-4.258309364318848,-13.721212387084961,3.215143918991089,-17.1075496673584,-45.873687744140625,36.77784729003906,9.279367446899414,-37.84222412109375,10.50811767578125,7.41366720199585,-26.337247848510742,25.653881072998047,-36.166717529296875,47.003536224365234,23.730772018432617,-37.061161041259766,-6.843414783477783,-22.3499813079834,59.608333587646484,-41.162078857421875,14.726129531860352,-25.89487075805664,-35.285316467285156,34.72208786010742,-39.22168731689453,42.626705169677734,5.492537021636963,21.890308380126953,-40.548919677734375,-20.606142044067383,-15.714555740356445,-1.6687185764312744,-30.28544807434082,13.135190963745117,-23.23384666442871,13.313735008239746,-24.104291915893555,-11.320168495178223,2.2799861431121826,-38.75508499145508,-25.601581573486328,24.483699798583984,38.61576843261719,-9.930381774902344,15.826996803283691,-28.462739944458008,49.2879753112793,45.12244415283203,-11.562318801879883,-2.275717258453369,-12.07174015045166,6.657009124755859,-9.678984642028809,-35.052886962890625,-29.9410343170166,-26.13625717163086,-2.6469202041625977,-47.532203674316406,54.32065200805664,23.171432495117188,-27.767648696899414,38.18498992919922,-7.1739068031311035,4.768265724182129,-31.187170028686523,-26.821971893310547,-13.886697769165039,-7.994827747344971,25.12250328063965,33.72854232788086,-7.027237892150879,9.391740798950195,65.074462890625,-9.086828231811523,47.99262619018555,59.70207214355469,-5.657410144805908,-15.965468406677246,66.89497375488281,-38.89628219604492,-40.275177001953125,9.497331619262695,-13.77182674407959,-5.774209022521973,11.111589431762695,12.074058532714844,50.99959945678711,-29.65867805480957,-17.572843551635742,-13.359058380126953,14.403061866760254,-27.923614501953125,48.519283294677734,-13.55059814453125,-47.01181411743164,-7.809324264526367,52.728309631347656,22.53882598876953,-24.792144775390625,30.629695892333984,3.805567502975464,-8.767147064208984,-45.451332092285156,-0.8572611212730408,34.57184982299805,-32.89652633666992,-3.334073781967163,-21.496868133544922,67.184326171875,6.813124179840088,-7.556919097900391,-9.712693214416504,54.43669891357422,-23.18026351928711,15.122651100158691,20.738656997680664,-11.848816871643066,-23.48724937438965,-13.003609657287598,62.46012496948242,36.93406677246094,-26.15374183654785,58.55126190185547,-28.566125869750977,-1.1747568845748901,-41.79957962036133,66.35132598876953,-7.619758129119873,5.817122459411621,12.86431884765625,18.86771583557129,-5.046332359313965,-30.50790786743164,-31.665531158447266,-23.793893814086914,-15.090739250183105,55.875484466552734,-23.330595016479492,2.839407444000244,-38.118770599365234,-38.59742736816406,-19.108701705932617,41.68918991088867,-43.315773010253906,58.36000061035156,-4.0247015953063965,0.08492084592580795,-3.315591812133789,29.503280639648438,-45.1562385559082,-15.651987075805664,18.730199813842773,41.86284255981445,55.90935134887695,11.091649055480957,-2.701820135116577,44.16584396362305,42.06401062011719,48.14339828491211,-44.829280853271484,7.433735370635986,66.87804412841797,-11.054920196533203,13.309986114501953,-36.391845703125,8.679098129272461,56.62767028808594,47.495361328125,36.90510177612305,-34.60392379760742,-15.117406845092773,49.73183059692383,50.298954010009766,4.787379264831543,-39.44388961791992,-37.387977600097656,17.438465118408203,-11.156755447387695,49.92613983154297,-13.60898494720459,-45.635231018066406,-21.74256706237793,39.0665168762207,30.373353958129883,12.630512237548828,-7.431735992431641,-13.336252212524414,-9.293932914733887,20.00238037109375,60.708614349365234,62.41361999511719,30.64659881591797,-20.974275588989258,-16.85528564453125,8.579692840576172,-23.22301483154297,-15.603510856628418,64.38981628417969,-7.375298500061035,50.12326431274414,-44.45664978027344,2.4099080562591553,3.282292604446411,55.557525634765625,64.43202209472656,-18.884851455688477,9.981819152832031,-34.54424285888672,-14.550049781799316,-44.455589294433594,-33.85500717163086,15.844417572021484,-12.717464447021484,-8.220240592956543,57.612693786621094,-48.98807144165039,-43.09088134765625,-32.95347213745117,21.45793914794922,-28.126657485961914,0.7806521058082581,-12.3733491897583,-39.20444869995117,-11.707745552062988,46.204505920410156,-32.1119270324707,-41.18474578857422,63.74543762207031,-34.70341491699219,-30.360013961791992,-35.08458709716797,-14.9993896484375,-22.484323501586914,56.921661376953125,9.94748592376709,-49.43107223510742,-10.216907501220703,14.001185417175293,63.282676696777344,-0.8668570518493652,-40.702293395996094,5.128427028656006,45.162662506103516,4.019099712371826,-8.320663452148438,-22.95376205444336,-24.353975296020508,-0.7435664534568787,34.79072189331055,68.28238677978516,1.4665998220443726,-45.93221664428711,41.4415283203125,-0.8747632503509521,36.375728607177734,-34.73377990722656,-15.444332122802734,-26.36810302734375,43.77046203613281,25.58644676208496,-28.133913040161133,56.14626693725586,-28.44367027282715,48.34287643432617,-44.734710693359375,35.91629409790039,-7.381806373596191,30.29969024658203,-2.8684725761413574,-47.46062088012695,-0.07148394733667374,-4.2907257080078125,-24.206602096557617,54.6514892578125,14.91266918182373,64.65376281738281,54.02975845336914,11.570650100708008,-30.00108528137207,-45.04924011230469,-27.078933715820312,-20.761245727539062,-0.038472000509500504,9.920950889587402,57.46281051635742,-27.4674015045166,21.78080177307129,20.506267547607422,-42.927040100097656,-16.36907958984375,-42.43029022216797,15.517045021057129,-11.686383247375488,59.84638595581055,2.0706934928894043,-4.41576623916626,-0.6320658326148987,14.6528959274292,16.49662208557129,-7.738864898681641,4.045779228210449,-42.55699920654297,4.96563196182251,35.0553092956543,-5.644144535064697,-28.006433486938477,-7.341226577758789,6.23922872543335,-34.049076080322266,44.9362907409668,-20.565128326416016,-9.721091270446777,-31.011781692504883,-25.70341682434082,8.839360237121582,54.492740631103516,19.859638214111328,14.839715003967285,39.32102584838867,-15.149231910705566,1.682124137878418,-17.345781326293945,42.79030990600586,-22.647823333740234,-21.108190536499023,-9.704418182373047,-44.8061408996582,-19.63615608215332,58.563568115234375,-19.133934020996094,37.93838119506836,0.5052483677864075,-23.531824111938477,51.01545333862305,38.54338073730469,58.75730895996094,4.716928482055664,5.682925701141357,44.80888366699219,16.816234588623047,-1.7456235885620117,-39.09046173095703,5.323843479156494,-22.63054084777832,-25.851337432861328,9.494422912597656,5.2363409996032715,-27.799318313598633,45.20092010498047,37.54754638671875,-25.494796752929688,-40.97646713256836,36.0505256652832,-41.90483093261719,-31.25771713256836,-12.411426544189453,-3.167843818664551,-23.693462371826172,5.466963291168213,21.87234115600586,-28.453319549560547,11.167641639709473,26.62275505065918,24.242197036743164,23.068408966064453,8.766575813293457,-43.618709564208984,47.85758972167969,-42.59210205078125,4.496144771575928,-22.810516357421875,31.213438034057617,-4.538289546966553,-6.215511798858643,-49.25556945800781,61.55042266845703,-39.97465896606445,-31.243656158447266,55.26674270629883,-26.080415725708008,67.85704803466797,47.4111328125,-49.75665283203125,3.5273313522338867,-44.76283264160156,-36.44921112060547,-15.53912353515625,-24.01047706604004,32.766361236572266,-15.380507469177246,11.773736000061035,-16.495447158813477,-29.72905158996582,-39.74217987060547,-3.9342660903930664,36.90580368041992,-25.01433753967285,-5.4463396072387695,47.050193786621094,10.763694763183594,-13.732382774353027,-15.735112190246582,-25.402477264404297,50.48689270019531,-31.82249641418457,-27.589794158935547,29.340457916259766,49.49293899536133,-12.730535507202148,-18.14480209350586,66.34480285644531,-38.34668731689453,40.1503791809082,-30.38866424560547,10.835078239440918,-26.703975677490234,40.4288215637207,54.73704147338867,-34.04508590698242,-40.94081497192383,-22.68165397644043,-23.789386749267578,-34.80866241455078,41.82294464111328,-20.799165725708008,37.2398567199707,4.124644756317139,-13.145939826965332,-5.826722621917725,9.618339538574219,-24.008150100708008,-0.5061690807342529,15.884920120239258,-26.12380027770996,27.91462516784668,-20.96902084350586,-6.483945369720459,15.197526931762695,-35.71540069580078,-33.212608337402344,1.6512455940246582,59.35066223144531,11.614421844482422,-31.85503578186035,-21.560850143432617,-24.930532455444336,6.872167110443115,27.390684127807617,10.820077896118164,7.930019855499268,0.5408984422683716,-30.26100730895996,-38.43417739868164,49.133060455322266,37.43186569213867,-45.17490768432617,-1.076022982597351,-26.537248611450195,9.549713134765625,16.9898681640625,-13.575936317443848,-11.375529289245605,15.93712329864502,14.961427688598633,4.714053630828857,-19.6195068359375,-20.64388656616211,46.579315185546875,-17.515764236450195,-26.676095962524414,-11.18589973449707,-32.72329330444336,-5.536218166351318,-4.130748748779297,-19.231098175048828,-19.190763473510742,10.917078018188477,-12.389914512634277,20.33572769165039,-25.48551368713379,18.273521423339844,5.741333484649658,44.58362579345703,68.14368438720703,17.388500213623047,-45.72127914428711,25.655969619750977,12.115976333618164,11.35546588897705,-0.9071916937828064,-46.75299072265625,35.158531188964844,33.24909210205078,-22.146211624145508,10.605480194091797,-10.10254955291748,-28.227190017700195,1.1753830909729004,-11.141048431396484,54.64418029785156,-8.692832946777344,-2.5949461460113525,22.586727142333984,-24.961183547973633,25.69781494140625,-11.222970962524414,-40.730010986328125,50.144046783447266,-8.312013626098633,-4.212652206420898,0.4817558825016022,29.96589469909668,3.3529396057128906,-32.128875732421875,-45.71800994873047,51.17285919189453,54.88401412963867,29.58289337158203,30.920429229736328,2.9567341804504395,-20.28787612915039,-33.49515914916992,5.146081447601318,35.16440200805664,-16.43239974975586,43.999385833740234,43.82609176635742,5.927779674530029,-40.598838806152344,4.644102573394775,-13.62947940826416,-37.79624557495117,-15.721659660339355,6.7541632652282715,54.520633697509766,5.638083457946777,59.80205535888672,3.4320003986358643,-45.3276252746582,5.754319667816162,42.71377944946289,-44.22735595703125,-12.440047264099121,5.076167583465576,56.528846740722656,-8.017333984375,-36.5590934753418,-31.020606994628906,61.032073974609375,4.594583511352539,42.09233856201172,6.6985883712768555,22.913330078125,-3.3093271255493164,4.566347599029541,55.6966438293457,25.327381134033203,-18.409828186035156,16.597976684570312,-30.226856231689453,-17.43001937866211,9.94677448272705,14.970418930053711,4.228160381317139,23.965087890625,-27.456867218017578,-1.410907506942749,41.04894256591797,30.538957595825195,-40.83599853515625,-3.3927366733551025,-44.44761657714844,-43.87897872924805,-6.661476135253906,-14.169069290161133,-36.23074722290039,-9.889619827270508,-20.566570281982422,53.811614990234375,5.754253387451172,27.840866088867188,-21.60786247253418,-0.4958744943141937,42.296566009521484,58.857765197753906,-9.15578842163086,-21.17290496826172,27.368770599365234,10.053864479064941,-29.618244171142578,-16.233854293823242,33.813926696777344,8.038267135620117,-6.179183483123779,-12.696733474731445,-40.903011322021484,-30.161584854125977,5.344305992126465,0.30044448375701904,14.63652515411377,14.709306716918945,-21.796680450439453,-27.180654525756836,29.03554916381836,23.506189346313477,-38.57489013671875,46.736114501953125,-19.032730102539062,-23.619535446166992,53.822837829589844,-33.71363067626953,-6.199404239654541,1.904698133468628,16.26639175415039,-22.334184646606445,-21.697139739990234,9.106877326965332,-17.961843490600586,59.35896301269531,29.991958618164062,64.62367248535156,-25.566917419433594,-2.6584219932556152,49.348602294921875,-40.395782470703125,38.22711181640625,-33.43367004394531,-27.099035263061523,13.184749603271484,-2.9643523693084717,-28.828556060791016,-13.054145812988281,8.51243782043457,-25.359928131103516,9.367793083190918,-3.6235036849975586,-24.90572166442871,54.178619384765625,41.579097747802734,-15.78502082824707,11.010211944580078,-0.08118480443954468,6.636236190795898,66.03256225585938,-1.3987337350845337,-20.503358840942383,6.948784351348877,-20.09286880493164,46.10429382324219,42.36769104003906,-0.363071084022522,-38.1505126953125,-13.508909225463867,-32.839881896972656,7.319650650024414,-32.413394927978516,-11.977726936340332,-19.15919303894043,55.0264778137207,-10.848206520080566,20.99306869506836,-47.54850387573242,50.34587478637695,-19.06382942199707,-42.93830871582031,-47.65156173706055,2.928314447402954,-12.798017501831055,-20.391923904418945,8.551980018615723,18.644269943237305,63.80412673950195,-24.76024627685547,-23.065994262695312,-26.586944580078125,-37.476600646972656,-6.044369697570801,9.648855209350586,-39.81396484375,61.2364387512207,-24.803991317749023,7.904592037200928,-32.77583694458008,37.01959991455078,-31.71326446533203,-24.073076248168945,11.056312561035156,22.307395935058594,-20.026968002319336,3.716944932937622,-24.462305068969727,-2.039281129837036,-7.369396686553955,26.24591827392578,-35.73664474487305,22.69643783569336,24.432743072509766,-21.337316513061523,-21.030635833740234,-22.006860733032227,64.07101440429688,-22.00426483154297,-27.817922592163086,15.47509765625,44.75190734863281,42.79985809326172,-44.866817474365234,4.131613731384277,7.083592891693115,27.831851959228516,44.59968566894531,0.7373231649398804,-16.188274383544922,2.1055119037628174,28.973283767700195,-16.5277099609375,29.359914779663086,-47.958885192871094,-21.282142639160156,-33.193607330322266,-16.120403289794922,-32.66810989379883,63.557655334472656,-22.951583862304688,4.689141750335693,26.23601722717285,-42.30715560913086,4.982248783111572,-33.94743728637695,52.19917297363281,-4.500061988830566,64.25802612304688,-14.210081100463867,48.21780776977539,4.81791353225708,-2.426669120788574,-18.25472640991211,64.73416137695312,-27.200998306274414,5.973531723022461,49.86277770996094,8.747920036315918,22.847742080688477,5.73237419128418,-39.18634796142578,62.91322708129883,15.589845657348633,0.6326707601547241,63.14284896850586,52.04180145263672,61.44845199584961,-2.027848958969116,-5.425971031188965,23.287351608276367,33.89344024658203,60.981204986572266,53.031089782714844,-9.639016151428223,36.00594711303711,54.33397674560547,-28.657934188842773,-9.651823997497559,-12.121188163757324,-29.85465431213379,4.8365159034729,51.13459014892578,10.95154094696045,22.876359939575195,-48.23567199707031,-44.93820571899414,-10.222270965576172,41.81985092163086,18.747848510742188,65.22795867919922,-43.86559295654297,-20.360763549804688,3.7218174934387207,-43.57496643066406,62.361602783203125,67.93561553955078,13.612128257751465,48.32559585571289,-7.234755992889404,10.049997329711914,-44.25074005126953,2.558198928833008,65.65277099609375,1.8561432361602783,-45.455787658691406,59.84876251220703,-14.531192779541016,33.64814376831055,-18.792491912841797,-40.80248260498047,-48.49485397338867,-11.388498306274414,-39.88161087036133,-5.1928277015686035,-7.708187580108643,-40.657432556152344,-37.09007263183594,11.488903999328613,-45.53664779663086,12.018241882324219,11.669853210449219,20.735519409179688,-30.55166244506836,39.76516342163086,-10.294768333435059,40.649967193603516,31.052797317504883,-22.4527530670166,47.105533599853516,11.189451217651367,35.37691116333008,4.413352966308594,-33.18770217895508,-13.373366355895996,-0.8977640867233276,23.503070831298828,5.401454448699951,-34.51686477661133,61.29754638671875,35.24851608276367,-45.45652770996094,12.329720497131348,25.79966163635254,12.623607635498047,8.052197456359863,12.53824234008789,46.060142517089844,-41.98125457763672,-32.44837188720703,-28.647729873657227,-22.207502365112305,1.789008378982544,5.836835861206055,-18.521520614624023,-24.327699661254883,13.24036979675293,35.11716842651367,54.57848358154297,-6.003948211669922,-22.728639602661133,16.30079460144043,-8.75627613067627,46.810237884521484,-0.752140998840332,5.0669732093811035,49.282623291015625,-45.829673767089844,37.32509994506836,-34.766353607177734,-22.867448806762695,-12.73371696472168,-25.89605140686035,61.10999298095703,58.082916259765625,44.91705322265625,-3.2507193088531494,62.392311096191406,14.985856056213379,49.73785400390625,-42.474571228027344,-17.979961395263672,55.37161636352539,42.84367370605469,48.11268997192383,-23.545551300048828,45.09724807739258,-40.266353607177734,61.84907531738281,-13.94727611541748,57.66061782836914,65.9488754272461,-11.318836212158203,6.179062366485596,15.657288551330566,1.9419971704483032,6.698009490966797,-22.478681564331055,1.3674637079238892,-36.59664535522461,16.081857681274414,33.45604705810547,-8.411828994750977,-28.239173889160156,-8.50234317779541,54.42343521118164,-12.017404556274414,-34.52973175048828,-5.8321075439453125,-7.716775417327881,21.71749496459961,14.877480506896973,-16.766921997070312,-13.231990814208984,-14.234490394592285,-20.661041259765625,-17.844802856445312,-10.625375747680664,9.893238067626953,-12.027031898498535,-25.541419982910156,-26.362337112426758,-19.138334274291992,-24.21119499206543,-43.08833312988281,-39.30289840698242,-38.971153259277344,66.72552490234375,-12.409807205200195,35.91246032714844,-14.32014274597168,-33.564247131347656,44.38727951049805,-19.59231948852539,-12.69908332824707,-5.191883563995361,-40.65570831298828,-31.52191734313965,-27.39912986755371,12.382912635803223,29.877195358276367,8.198065757751465,59.08835983276367,12.9691162109375,-43.57011032104492,11.662339210510254,-27.476850509643555,9.660323143005371,-13.147951126098633,12.959419250488281,7.303674697875977,18.625715255737305,-3.2034401893615723,51.10301208496094,29.66510009765625,-34.71658706665039,-24.257095336914062,-22.650461196899414,59.74166488647461,-21.728296279907227,2.439826726913452,13.784825325012207,-34.40203857421875,-41.73454284667969,11.717660903930664,8.976104736328125,2.3752129077911377,6.039423942565918,30.361230850219727,-39.54049301147461,-2.16961932182312,-8.027570724487305,-0.7390543222427368,-35.533267974853516,-32.33509063720703,-46.43831253051758,3.3476343154907227,-30.09432029724121,-42.35077667236328,-17.18343162536621,-1.6950879096984863,34.41111373901367,10.449141502380371,-4.646324634552002,55.175472259521484,-11.41054916381836,18.969335556030273,-42.59244155883789,37.56803512573242,41.8931884765625,-19.629472732543945,-12.68104076385498,-43.06938171386719,33.00360107421875,-6.517606258392334,2.4328603744506836,-21.574382781982422,-1.8474388122558594,3.639483690261841,-43.331512451171875,10.041213989257812,1.4852325916290283,-24.79457664489746,-9.060976028442383,-42.8413200378418,-21.587947845458984,34.526790618896484,-3.1151700019836426,-1.1125710010528564,-30.477100372314453,61.87356948852539,57.174625396728516,4.144982814788818,-19.470922470092773,-31.918127059936523,36.45087814331055,1.7158234119415283,58.092411041259766,48.397884368896484,-42.972625732421875,-47.97886657714844,30.86414909362793,62.87442398071289,54.77234649658203,0.08146169036626816,49.72505569458008,-5.9276838302612305,54.1097526550293,47.56233596801758,-3.0968003273010254,5.295730113983154,-13.445109367370605,16.043533325195312,-16.57505226135254,-4.962101459503174,-5.753359317779541,-36.187870025634766,-37.77467346191406,-14.356264114379883,-30.44563102722168,13.210200309753418,24.993633270263672,-26.708450317382812,54.718467712402344,12.497459411621094,43.05315017700195,-11.190450668334961,31.575841903686523,24.620616912841797,-25.234813690185547,-43.5027961730957,7.123260021209717,-1.388174295425415,-20.05593490600586,24.863161087036133,-28.502941131591797,24.01545524597168,58.347076416015625,-6.2224507331848145,49.17035675048828,-21.994647979736328,39.2652473449707,-47.62600326538086,47.866947174072266,62.08027648925781,-33.56929397583008,63.65092849731445,57.19496536254883,-20.247230529785156,-42.48424530029297,27.91487693786621,55.09149169921875,26.099624633789062,2.2619073390960693,-28.650409698486328,-10.727642059326172,1.1589610576629639,-24.726455688476562,53.28089141845703,19.197866439819336,-2.6079859733581543,-16.113691329956055,30.234695434570312,41.040287017822266,59.0825080871582,0.6144912838935852,-15.832257270812988,58.65211868286133,46.162105560302734,61.84023666381836,-28.427356719970703,-28.57501983642578,44.8692741394043,-40.121429443359375,38.534603118896484,-5.078161716461182,10.229928970336914,42.26271438598633,-0.9520871043205261,47.664939880371094,51.73356246948242,-36.847328186035156,38.57216262817383,-15.856352806091309,29.721561431884766,26.429948806762695,60.30178451538086,33.31499099731445,23.756023406982422,-28.919321060180664,-5.706473350524902,54.96603775024414,30.288455963134766,-26.552059173583984,20.3470458984375,-34.2122917175293,-16.9869384765625,-20.245092391967773,-33.174076080322266,-10.328051567077637,64.50186157226562,-11.70459270477295,20.991992950439453,-41.51924514770508,65.98590087890625,2.8434054851531982,20.921571731567383,-38.20912170410156,55.560325622558594,-27.040311813354492,-19.997785568237305,35.392799377441406,-42.43766403198242,-33.56692886352539,-1.138255000114441,58.06856155395508,36.85361862182617,3.7032411098480225,-20.300125122070312,28.285778045654297,-7.934650421142578,10.186311721801758,25.33953857421875,-11.29793930053711,-30.486528396606445,-7.727035045623779,-20.6437931060791,50.770565032958984,62.86708068847656,-14.669025421142578,12.686800956726074,-37.82233810424805,-24.671934127807617,15.38366413116455,8.325748443603516,9.71885871887207,33.732887268066406,-21.609132766723633,22.830970764160156,-3.253920555114746,-22.144071578979492,9.271571159362793,-5.62158727645874,-40.18903732299805,-29.864418029785156,-21.62479591369629,-36.85671615600586,-34.42949676513672,21.37462043762207,10.599926948547363,49.79139709472656,10.339315414428711,-44.793251037597656,11.115900039672852,1.4810681343078613,-45.120113372802734,-12.138736724853516,14.875570297241211,10.709036827087402,-3.031766414642334,13.037470817565918,-6.730736255645752,-39.104820251464844,-20.31808090209961,-6.112862586975098,5.239166259765625,12.723494529724121,49.891300201416016,50.84995651245117,16.932781219482422,-7.208280086517334,5.759449005126953,20.06104278564453,-24.79686164855957,-40.66444778442383,-22.880184173583984,-18.734798431396484,-6.669178485870361,-43.91938781738281,33.44855880737305,-33.9062385559082,-33.344390869140625,-8.061383247375488,4.062885284423828,32.14337921142578,-7.942609786987305,25.554058074951172,5.001584053039551,56.07961654663086,52.59132766723633,-19.551589965820312,-13.9262113571167,-36.48436737060547,-13.519282341003418,30.18171501159668,5.3390679359436035,-15.27039623260498,-25.454641342163086,33.38039779663086,57.13707733154297,-27.837467193603516,50.27497100830078,68.23798370361328,-8.020669937133789,-44.77437210083008,-31.442827224731445,40.83491134643555,-22.7833309173584,-13.02524471282959,9.293169021606445,-16.503543853759766,50.113670349121094,25.87830924987793,63.43891906738281,-21.76251792907715,-2.2394001483917236,-12.362222671508789,-37.8613395690918,3.4509005546569824,-31.634185791015625,42.303226470947266,10.720816612243652,-22.872852325439453,-41.82251739501953,-2.2683262825012207,40.87015914916992,19.42544937133789,67.46101379394531,-18.852813720703125,30.916296005249023,11.535065650939941,-2.0591399669647217,33.672794342041016,0.3639286756515503,22.76866340637207,-21.964698791503906,-25.756025314331055,10.649457931518555,37.429866790771484,0.8997071981430054,-37.39201354980469,-15.048534393310547,-26.33529281616211,-13.718339920043945,-3.9440557956695557,-23.459842681884766,-24.80176544189453,3.1781198978424072,-2.1151885986328125,-21.756153106689453,-46.63880157470703,-13.483909606933594,-9.673691749572754,-37.44120788574219,-47.881080627441406,-23.918109893798828,-5.489383220672607,-28.66097640991211,-32.79706573486328,-27.472957611083984,-38.27989196777344,52.33726501464844,-27.033416748046875,43.10443878173828,33.37076950073242,48.754390716552734,40.805660247802734,7.8177714347839355,-13.659828186035156,60.81803894042969,-27.20742416381836,-2.838819980621338,-10.79066276550293,43.02781677246094,2.657932996749878,17.27789306640625,-11.308991432189941,-21.267885208129883,-9.947758674621582,-0.37781041860580444,-32.27016067504883,11.4777193069458,43.80229187011719,-21.006763458251953,26.06356430053711,-17.475791931152344,52.13020706176758,52.49254608154297,-16.223926544189453,-25.904659271240234,-13.802024841308594,47.82145309448242,12.434100151062012,-13.56263542175293,-22.741146087646484,-40.2268180847168,-16.095504760742188,-5.725838661193848,16.768346786499023,-19.002758026123047,-13.8336181640625,-33.284446716308594,-20.65583610534668,-25.81474494934082,51.468360900878906,23.275089263916016,48.781253814697266,-44.04595184326172,-13.004621505737305,-7.271505355834961,5.952070713043213,-13.296099662780762,49.929908752441406,-14.068134307861328,15.680976867675781,0.8787400126457214,-12.915276527404785,-39.550697326660156,-23.815404891967773,-7.774526119232178,6.94651460647583,6.293308258056641,-2.178739070892334,22.499704360961914,48.93418502807617,-25.047718048095703,-37.91941452026367,52.706016540527344,-34.98601150512695,15.471877098083496,-30.61473846435547,13.905686378479004,-32.837249755859375,-3.0207200050354004,62.460365295410156,24.93023109436035,-11.543963432312012,-29.16223907470703,-23.846195220947266,33.881195068359375,-20.200899124145508,-5.050621032714844,-44.822898864746094,49.753395080566406,31.814496994018555,-14.588342666625977,-23.14822769165039,-9.967632293701172,-12.498459815979004,28.480976104736328,-19.793087005615234,62.31321716308594,-36.735050201416016,-20.66885757446289,-34.13987731933594,-22.429914474487305,52.62462615966797,-1.0355147123336792,-40.49018859863281,-7.922262191772461,-33.00657653808594,14.91818618774414,-8.481181144714355,45.566383361816406,-26.609132766723633,46.69051742553711,-31.26805877685547,55.819210052490234,-5.026119232177734,-44.446048736572266,-28.614301681518555,37.809104919433594,9.18588638305664,39.88286590576172,-8.152853965759277,-28.028194427490234,16.841615676879883,-4.431640625,-39.60342025756836,-11.945136070251465,-30.455665588378906,-26.852251052856445,-9.086928367614746,23.59292984008789,-33.49630355834961,5.363052845001221,-12.640613555908203,57.98237228393555,30.383548736572266,56.0014762878418,48.22138595581055,11.779151916503906,-14.540006637573242,8.237914085388184,1.552664875984192,-42.281768798828125,-15.759001731872559,-41.884193420410156,-7.201871871948242,-13.948719024658203,23.403892517089844,-0.24433879554271698,-27.03208351135254,-31.493667602539062,20.366392135620117,-21.331632614135742,16.6490478515625,13.981762886047363,33.09358215332031,-16.710988998413086,38.34858703613281,37.50667190551758,54.552040100097656,37.2607421875,-31.923677444458008,-15.923489570617676,-41.54112243652344,-32.31651306152344,-24.231138229370117,48.61555099487305,-15.740138053894043,-2.895667552947998,-0.9154006242752075,-8.31731128692627,12.907315254211426,-4.0973052978515625,45.03889083862305,-11.196392059326172,-36.48563003540039,-2.3159966468811035,-26.247570037841797,-5.356735706329346,-16.95881462097168,-4.015560626983643,57.50276565551758,-36.90842056274414,-17.086944580078125,-6.502092361450195,-33.415916442871094,67.61691284179688,8.663881301879883,44.52779006958008,-12.749356269836426,48.926292419433594,-25.60061264038086,32.763336181640625,7.9156999588012695,-0.6594635248184204,-2.583630084991455,21.224651336669922,-26.6052303314209,54.39919662475586,-1.5113228559494019,-48.10192108154297,-43.12136459350586,0.9071670174598694,2.476046562194824,-6.44041633605957,23.937175750732422,25.46653938293457,-43.29515838623047,38.97770690917969,56.14697265625,-38.80815505981445,13.679620742797852,3.968071937561035,63.960052490234375,5.3501296043396,40.60886001586914,40.33384704589844,20.926485061645508,22.286935806274414,32.514976501464844,18.855098724365234,19.71086311340332,35.21197509765625,-10.156489372253418,-26.44580078125,35.97134780883789,38.11011505126953,-33.94756317138672,-21.140092849731445,1.5300806760787964,-13.644756317138672,39.958736419677734,-18.949176788330078,14.394379615783691,32.299339294433594,-47.4004020690918,-4.618758678436279,-12.395000457763672,-15.439286231994629,32.00356674194336,-28.14910888671875,45.739437103271484,-44.32596969604492,-35.99114990234375,-44.82526779174805,-14.506317138671875,18.331180572509766,31.81987190246582,1.578552007675171,54.48768997192383,-2.124446392059326,-0.7013939619064331,14.457645416259766,-41.87155532836914,54.72605514526367,-27.56049919128418,14.080324172973633,44.315223693847656,3.5277066230773926,10.964461326599121,23.34036636352539,-5.704135894775391,-27.851848602294922,-27.838184356689453,-35.45045852661133,19.76874351501465,-37.503360748291016,-13.737824440002441,12.223247528076172,-22.509428024291992,-2.672621965408325,13.550189971923828,32.698707580566406,28.136432647705078,-44.01559066772461,48.319732666015625,-29.82810401916504,-5.039789199829102,3.605559825897217,-41.71910095214844,33.08467483520508,4.499658107757568,31.549386978149414,-8.737581253051758,-35.88287353515625,-3.788198471069336,-32.72898864746094,20.308401107788086,20.757787704467773,8.6194486618042,23.672536849975586,29.99253273010254,-25.51115608215332,15.620083808898926,13.486098289489746,6.6014323234558105,-29.27338409423828,0.8481414318084717,-5.7694830894470215,-18.582426071166992,54.79602813720703,-44.10224914550781,57.85671615600586,12.603605270385742,-15.990689277648926,-46.1707649230957,47.89780807495117,-16.48108673095703,-25.51918601989746,-22.305280685424805,-23.9511775970459,2.606241464614868,24.420316696166992,-39.45051574707031,-12.459065437316895,-35.332008361816406,-27.243732452392578,-31.126245498657227,16.558792114257812,-8.52751350402832,17.546384811401367,-12.70560359954834,-32.765254974365234,-40.419986724853516,-41.782188415527344,-7.007291793823242,-14.02211856842041,19.89507293701172,3.67625093460083,-40.00357437133789,-11.732227325439453,-39.09709167480469,35.55876541137695,-2.5440683364868164,54.589900970458984,38.0379524230957,-36.47917938232422,59.24285125732422,64.60488891601562,30.982778549194336,-12.290931701660156,-38.612850189208984,51.07575988769531,53.936866760253906,51.207801818847656,-43.38424301147461,44.71674728393555,-14.6416654586792,-35.78326416015625,-30.51576805114746,22.8104190826416,-5.7561163902282715,13.36596393585205,-24.947053909301758,47.43372344970703,7.327101707458496,-20.848405838012695,-11.923726081848145,-9.938464164733887,-26.678503036499023,-39.47734832763672,-28.821548461914062,-4.659641742706299,25.827945709228516,0.8663350343704224,43.531524658203125,-25.684688568115234,-8.683430671691895,-21.100149154663086,13.176188468933105,15.0829439163208,14.706287384033203,-44.74506378173828,-11.259708404541016,1.0227316617965698,5.709549903869629,9.57119369506836,-7.659701824188232,8.521421432495117,-42.882110595703125,-42.87895202636719,42.5638542175293,-11.230457305908203,60.81089401245117,20.687116622924805,1.9505703449249268,-32.31797409057617,-8.584617614746094,-31.906822204589844,19.915884017944336,62.548194885253906,-28.897241592407227,-34.24998474121094,-5.333913326263428,-4.261312961578369,44.75810241699219,5.360072612762451,14.892095565795898,-2.320478916168213,13.056191444396973,-36.502288818359375,61.93178939819336,-13.029582977294922,1.6245719194412231,48.009559631347656,63.230743408203125,6.364426136016846,-32.60017395019531,-12.857422828674316,-28.7224178314209,-11.469815254211426,47.210418701171875,-14.637795448303223,-42.897579193115234,0.47069793939590454,8.610211372375488,-1.712679147720337,-15.872174263000488,-22.95547866821289,40.149837493896484,-41.943946838378906,-26.049274444580078,-17.85356330871582,-16.78036117553711,-48.58483123779297,11.354994773864746,-8.624500274658203,34.36896896362305,23.869279861450195,-0.3243650496006012,-34.218833923339844,-25.931062698364258,-20.448488235473633,54.694923400878906,-26.442516326904297,-14.42849063873291,-43.26287841796875,-20.355009078979492,-9.262675285339355,17.48661994934082,24.995803833007812,24.11675262451172,58.81195831298828,-3.226655960083008,16.202322006225586,42.452674865722656,18.081697463989258,-32.35279846191406,-0.2720257341861725,2.773524284362793,39.72159194946289,-42.814937591552734,-26.55757713317871,17.418704986572266,-2.1025588512420654,-11.798328399658203,-35.53319549560547,-6.727424621582031,-21.910396575927734,-5.501511096954346,7.417721748352051,-1.898537516593933,-34.524871826171875,59.45808410644531,-31.337738037109375,-17.352643966674805,-27.209430694580078,-0.48737770318984985,56.47098922729492,-10.017684936523438,18.72664451599121,66.09571838378906,20.346715927124023,-0.3559589087963104,-38.44994354248047,-1.671584129333496,-25.379352569580078,2.795475482940674,53.205142974853516,-8.909441947937012,-19.587743759155273,4.101750373840332,2.9485394954681396,33.34349822998047,21.85696029663086,-44.255733489990234,-13.311957359313965,-38.48310089111328,-1.1021146774291992,-22.539121627807617,49.984519958496094,3.562781810760498,-22.523473739624023,62.252349853515625,10.492919921875,-48.969139099121094,-33.00937271118164,-5.745712757110596,5.174671649932861,57.0597038269043,8.02937126159668,-36.043888092041016,15.802734375,22.72261619567871,-46.54802703857422,11.817468643188477,-3.160108804702759,-2.733635902404785,-36.474735260009766,1.5211308002471924,-36.985042572021484,-20.241249084472656,-34.929588317871094,-18.76993751525879,-20.525196075439453,-35.23686981201172,-14.238391876220703,6.056033134460449,-33.46690368652344,-36.92589569091797,-5.607719898223877,30.78095054626465,47.0984992980957,-22.960922241210938,33.387325286865234,30.489097595214844,59.8916130065918,30.625795364379883,-13.852834701538086,47.19601058959961,-6.708157062530518,60.703956604003906,6.764789581298828,58.124691009521484,6.583291053771973,-16.058942794799805,-7.8013410568237305,-15.439784049987793,-8.95160961151123,50.181888580322266,-0.7962237000465393,-10.166885375976562,-27.60485076904297,-47.995033264160156,-28.93901824951172,-7.090968132019043,-21.423240661621094,-27.673343658447266,21.926624298095703,-46.01210021972656,-10.539621353149414,61.09507751464844,-2.0316107273101807,-28.985639572143555,11.960107803344727,63.80810546875,61.69062423706055,-9.735265731811523,17.81780242919922,4.069265365600586,29.218366622924805,6.28490686416626,24.006589889526367,64.27112579345703,-35.53636169433594,34.82742691040039,-5.998510837554932,8.96975326538086,8.075301170349121,45.678436279296875,-31.331083297729492,40.5263671875,-15.619346618652344,33.010093688964844,1.2587049007415771,-27.017566680908203,-7.527543544769287,-9.1703462600708,30.940731048583984,-7.53727388381958,51.30204391479492,-14.488547325134277,8.744163513183594,-47.746299743652344,30.91533851623535,-19.60489273071289,48.62407684326172,-10.50151252746582,-39.964664459228516,-23.2052059173584,-11.777953147888184,-26.04071807861328,-21.049480438232422,-3.863624095916748,-34.65265655517578,-28.091358184814453,56.97549057006836,48.515098571777344,42.228240966796875,-2.1585776805877686,34.812339782714844,-0.44057801365852356,-37.333740234375,-16.738595962524414,-33.32772445678711,-32.27828598022461,33.09296798706055,-16.17939567565918,-17.46649932861328,-33.99917984008789,-22.575897216796875,19.293163299560547,2.6206514835357666,17.90343475341797,61.882957458496094,15.880598068237305,-22.944028854370117,43.08606719970703,-28.087251663208008,54.78433609008789,-40.788604736328125,-25.438358306884766,11.773601531982422,-29.48305320739746,-7.348374366760254,-12.138713836669922,64.63557434082031,-4.171322822570801,-5.614645481109619,19.79132843017578,-24.70882797241211,-3.3458120822906494,-41.508399963378906,-33.2424201965332,7.604179382324219,29.99388885498047,-19.280670166015625,-41.10634994506836,-14.29282283782959,-9.53118896484375,30.87853240966797,56.034507751464844,16.74454689025879,-35.493309020996094,8.132671356201172,3.5637478828430176,-22.03433609008789,-19.75433349609375,0.7117002606391907,5.347572326660156,9.03557300567627,-10.571187019348145,14.7994384765625,-23.88630485534668,39.63053512573242,-30.424991607666016,-11.611623764038086,23.134477615356445,30.077152252197266,-6.8511505126953125,-11.384069442749023,-10.725025177001953,-36.82401657104492,-0.34136131405830383,-38.99649429321289,-24.379348754882812,56.48130416870117,-31.941991806030273,-34.2741813659668,-2.4484031200408936,37.20433044433594,-5.880436420440674,13.866632461547852,9.390474319458008,11.561320304870605,-34.16756820678711,-7.5352373123168945,-36.213478088378906,-17.526742935180664,-10.272473335266113,50.95240783691406,64.74394989013672,-30.445716857910156,-43.064327239990234,-40.32275390625,3.9163739681243896,3.7332050800323486,-37.331626892089844,-13.7804536819458,-13.167220115661621,-11.410497665405273,-38.431129455566406,-30.30948829650879,31.106382369995117,-41.075469970703125,61.48774337768555,11.190982818603516,52.768943786621094,15.54829216003418,-19.41788673400879,-35.08327865600586,33.814144134521484,11.110915184020996,61.949092864990234,45.449951171875,48.583866119384766,-21.50233268737793,-6.8893890380859375,61.03851318359375,34.70253372192383,-31.518964767456055,-19.070138931274414,-21.965192794799805,48.740638732910156,7.438606262207031,-6.372068405151367,-39.39723587036133,-17.24363899230957,-1.4999276399612427,-33.3396110534668,42.048370361328125,-5.721508026123047,-15.373100280761719,-37.06391143798828,-41.87739181518555,-23.05245018005371,-6.8089070320129395,-21.887720108032227,-36.849693298339844,-8.840826034545898,3.080136775970459,-9.193907737731934,-24.885663986206055,-29.265506744384766,23.597747802734375,-39.436946868896484,-18.34122085571289,-20.710445404052734,44.916603088378906,60.43629455566406,60.142730712890625,-43.5047721862793,-31.30756950378418,-48.28383255004883,-9.776232719421387,34.04950714111328,-9.156783103942871,-3.6343798637390137,-26.72075080871582,12.741610527038574,39.662437438964844,62.039608001708984,48.289615631103516,-19.10643196105957,-32.5421028137207,-19.297468185424805,34.38137435913086,-1.7946184873580933,-24.707435607910156,26.934961318969727,-48.22945785522461,-1.042091727256775,-13.023042678833008,-12.07907485961914,-41.92501449584961,-30.932165145874023,-22.64914894104004,-18.49576759338379,-35.27322006225586,5.109749794006348,17.126144409179688,-26.439146041870117,-7.763037204742432,21.59391975402832],\"xaxis\":\"x\",\"y\":[0,1,2,3,4,5,6,7,8,9,10,11,12,13,14,15,16,17,18,19,20,21,22,23,24,25,26,27,28,29,30,31,32,33,34,35,36,37,38,39,40,41,42,43,44,45,46,47,48,49,50,51,52,53,54,55,56,57,58,59,60,61,62,63,64,65,66,67,68,69,70,71,72,73,74,75,76,77,78,79,80,81,82,83,84,85,86,87,88,89,90,91,92,93,94,95,96,97,98,99,100,101,102,103,104,105,106,107,108,109,110,111,112,113,114,115,116,117,118,119,120,121,122,123,124,125,126,127,128,129,130,131,132,133,134,135,136,137,138,139,140,141,142,143,144,145,146,147,148,149,150,151,152,153,154,155,156,157,158,159,160,161,162,163,164,165,166,167,168,169,170,171,172,173,174,175,176,177,178,179,180,181,182,183,184,185,186,187,188,189,190,191,192,193,194,195,196,197,198,199,200,201,202,203,204,205,206,207,208,209,210,211,212,213,214,215,216,217,218,219,220,221,222,223,224,225,226,227,228,229,230,231,232,233,234,235,236,237,238,239,240,241,242,243,244,245,246,247,248,249,250,251,252,253,254,255,256,257,258,259,260,261,262,263,264,265,266,267,268,269,270,271,272,273,274,275,276,277,278,279,280,281,282,283,284,285,286,287,288,289,290,291,292,293,294,295,296,297,298,299,300,301,302,303,304,305,306,307,308,309,310,311,312,313,314,315,316,317,318,319,320,321,322,323,324,325,326,327,328,329,330,331,332,333,334,335,336,337,338,339,340,341,342,343,344,345,346,347,348,349,350,351,352,353,354,355,356,357,358,359,360,361,362,363,364,365,366,367,368,369,370,371,372,373,374,375,376,377,378,379,380,381,382,383,384,385,386,387,388,389,390,391,392,393,394,395,396,397,398,399,400,401,402,403,404,405,406,407,408,409,410,411,412,413,414,415,416,417,418,419,420,421,422,423,424,425,426,427,428,429,430,431,432,433,434,435,436,437,438,439,440,441,442,443,444,445,446,447,448,449,450,451,452,453,454,455,456,457,458,459,460,461,462,463,464,465,466,467,468,469,470,471,472,473,474,475,476,477,478,479,480,481,482,483,484,485,486,487,488,489,490,491,492,493,494,495,496,497,498,499,500,501,502,503,504,505,506,507,508,509,510,511,512,513,514,515,516,517,518,519,520,521,522,523,524,525,526,527,528,529,530,531,532,533,534,535,536,537,538,539,540,541,542,543,544,545,546,547,548,549,550,551,552,553,554,555,556,557,558,559,560,561,562,563,564,565,566,567,568,569,570,571,572,573,574,575,576,577,578,579,580,581,582,583,584,585,586,587,588,589,590,591,592,593,594,595,596,597,598,599,600,601,602,603,604,605,606,607,608,609,610,611,612,613,614,615,616,617,618,619,620,621,622,623,624,625,626,627,628,629,630,631,632,633,634,635,636,637,638,639,640,641,642,643,644,645,646,647,648,649,650,651,652,653,654,655,656,657,658,659,660,661,662,663,664,665,666,667,668,669,670,671,672,673,674,675,676,677,678,679,680,681,682,683,684,685,686,687,688,689,690,691,692,693,694,695,696,697,698,699,700,701,702,703,704,705,706,707,708,709,710,711,712,713,714,715,716,717,718,719,720,721,722,723,724,725,726,727,728,729,730,731,732,733,734,735,736,737,738,739,740,741,742,743,744,745,746,747,748,749,750,751,752,753,754,755,756,757,758,759,760,761,762,763,764,765,766,767,768,769,770,771,772,773,774,775,776,777,778,779,780,781,782,783,784,785,786,787,788,789,790,791,792,793,794,795,796,797,798,799,800,801,802,803,804,805,806,807,808,809,810,811,812,813,814,815,816,817,818,819,820,821,822,823,824,825,826,827,828,829,830,831,832,833,834,835,836,837,838,839,840,841,842,843,844,845,846,847,848,849,850,851,852,853,854,855,856,857,858,859,860,861,862,863,864,865,866,867,868,869,870,871,872,873,874,875,876,877,878,879,880,881,882,883,884,885,886,887,888,889,890,891,892,893,894,895,896,897,898,899,900,901,902,903,904,905,906,907,908,909,910,911,912,913,914,915,916,917,918,919,920,921,922,923,924,925,926,927,928,929,930,931,932,933,934,935,936,937,938,939,940,941,942,943,944,945,946,947,948,949,950,951,952,953,954,955,956,957,958,959,960,961,962,963,964,965,966,967,968,969,970,971,972,973,974,975,976,977,978,979,980,981,982,983,984,985,986,987,988,989,990,991,992,993,994,995,996,997,998,999,1000,1001,1002,1003,1004,1005,1006,1007,1008,1009,1010,1011,1012,1013,1014,1015,1016,1017,1018,1019,1020,1021,1022,1023,1024,1025,1026,1027,1028,1029,1030,1031,1032,1033,1034,1035,1036,1037,1038,1039,1040,1041,1042,1043,1044,1045,1046,1047,1048,1049,1050,1051,1052,1053,1054,1055,1056,1057,1058,1059,1060,1061,1062,1063,1064,1065,1066,1067,1068,1069,1070,1071,1072,1073,1074,1075,1076,1077,1078,1079,1080,1081,1082,1083,1084,1085,1086,1087,1088,1089,1090,1091,1092,1093,1094,1095,1096,1097,1098,1099,1100,1101,1102,1103,1104,1105,1106,1107,1108,1109,1110,1111,1112,1113,1114,1115,1116,1117,1118,1119,1120,1121,1122,1123,1124,1125,1126,1127,1128,1129,1130,1131,1132,1133,1134,1135,1136,1137,1138,1139,1140,1141,1142,1143,1144,1145,1146,1147,1148,1149,1150,1151,1152,1153,1154,1155,1156,1157,1158,1159,1160,1161,1162,1163,1164,1165,1166,1167,1168,1169,1170,1171,1172,1173,1174,1175,1176,1177,1178,1179,1180,1181,1182,1183,1184,1185,1186,1187,1188,1189,1190,1191,1192,1193,1194,1195,1196,1197,1198,1199,1200,1201,1202,1203,1204,1205,1206,1207,1208,1209,1210,1211,1212,1213,1214,1215,1216,1217,1218,1219,1220,1221,1222,1223,1224,1225,1226,1227,1228,1229,1230,1231,1232,1233,1234,1235,1236,1237,1238,1239,1240,1241,1242,1243,1244,1245,1246,1247,1248,1249,1250,1251,1252,1253,1254,1255,1256,1257,1258,1259,1260,1261,1262,1263,1264,1265,1266,1267,1268,1269,1270,1271,1272,1273,1274,1275,1276,1277,1278,1279,1280,1281,1282,1283,1284,1285,1286,1287,1288,1289,1290,1291,1292,1293,1294,1295,1296,1297,1298,1299,1300,1301,1302,1303,1304,1305,1306,1307,1308,1309,1310,1311,1312,1313,1314,1315,1316,1317,1318,1319,1320,1321,1322,1323,1324,1325,1326,1327,1328,1329,1330,1331,1332,1333,1334,1335,1336,1337,1338,1339,1340,1341,1342,1343,1344,1345,1346,1347,1348,1349,1350,1351,1352,1353,1354,1355,1356,1357,1358,1359,1360,1361,1362,1363,1364,1365,1366,1367,1368,1369,1370,1371,1372,1373,1374,1375,1376,1377,1378,1379,1380,1381,1382,1383,1384,1385,1386,1387,1388,1389,1390,1391,1392,1393,1394,1395,1396,1397,1398,1399,1400,1401,1402,1403,1404,1405,1406,1407,1408,1409,1410,1411,1412,1413,1414,1415,1416,1417,1418,1419,1420,1421,1422,1423,1424,1425,1426,1427,1428,1429,1430,1431,1432,1433,1434,1435,1436,1437,1438,1439,1440,1441,1442,1443,1444,1445,1446,1447,1448,1449,1450,1451,1452,1453,1454,1455,1456,1457,1458,1459,1460,1461,1462,1463,1464,1465,1466,1467,1468,1469,1470,1471,1472,1473,1474,1475,1476,1477,1478,1479,1480,1481,1482,1483,1484,1485,1486,1487,1488,1489,1490,1491,1492,1493,1494,1495,1496,1497,1498,1499,1500,1501,1502,1503,1504,1505,1506,1507,1508,1509,1510,1511,1512,1513,1514,1515,1516,1517,1518,1519,1520,1521,1522,1523,1524,1525,1526,1527,1528,1529,1530,1531,1532,1533,1534,1535,1536,1537,1538,1539,1540,1541,1542,1543,1544,1545,1546,1547,1548,1549,1550,1551,1552,1553,1554,1555,1556,1557,1558,1559,1560,1561,1562,1563,1564,1565,1566,1567,1568,1569,1570,1571,1572,1573,1574,1575,1576,1577,1578,1579,1580,1581,1582,1583,1584,1585,1586,1587,1588,1589,1590,1591,1592,1593,1594,1595,1596,1597,1598,1599,1600,1601,1602,1603,1604,1605,1606,1607,1608,1609,1610,1611,1612,1613,1614,1615,1616,1617,1618,1619,1620,1621,1622,1623,1624,1625,1626,1627,1628,1629,1630,1631,1632,1633,1634,1635,1636,1637,1638,1639,1640,1641,1642,1643,1644,1645,1646,1647,1648,1649,1650,1651,1652,1653,1654,1655,1656,1657,1658,1659,1660,1661,1662,1663,1664,1665,1666,1667,1668,1669,1670,1671,1672,1673,1674,1675,1676,1677,1678,1679,1680,1681,1682,1683,1684,1685,1686,1687,1688,1689,1690,1691,1692,1693,1694,1695,1696,1697,1698,1699,1700,1701,1702,1703,1704,1705,1706,1707,1708,1709,1710,1711,1712,1713,1714,1715,1716,1717,1718,1719,1720,1721,1722,1723,1724,1725,1726,1727,1728,1729,1730,1731,1732,1733,1734,1735,1736,1737,1738,1739,1740,1741,1742,1743,1744,1745,1746,1747,1748,1749,1750,1751,1752,1753,1754,1755,1756,1757,1758,1759,1760,1761,1762,1763,1764,1765,1766,1767,1768,1769,1770,1771,1772,1773,1774,1775,1776,1777,1778,1779,1780,1781,1782,1783,1784,1785,1786,1787,1788,1789,1790,1791,1792,1793,1794,1795,1796,1797,1798,1799,1800,1801,1802,1803,1804,1805,1806,1807,1808,1809,1810,1811,1812,1813,1814,1815,1816,1817,1818,1819,1820,1821,1822,1823,1824,1825,1826,1827,1828,1829,1830,1831,1832,1833,1834,1835,1836,1837,1838,1839,1840,1841,1842,1843,1844,1845,1846,1847,1848,1849,1850,1851,1852,1853,1854,1855,1856,1857,1858,1859,1860,1861,1862,1863,1864,1865,1866,1867,1868,1869,1870,1871,1872,1873,1874,1875,1876,1877,1878,1879,1880,1881,1882,1883,1884,1885,1886,1887,1888,1889,1890,1891,1892,1893,1894,1895,1896,1897,1898,1899,1900,1901,1902,1903,1904,1905,1906,1907,1908,1909,1910,1911,1912,1913,1914,1915,1916,1917,1918,1919,1920,1921,1922,1923,1924,1925,1926,1927,1928,1929,1930,1931,1932,1933,1934,1935,1936,1937,1938,1939,1940,1941,1942,1943,1944,1945,1946,1947,1948,1949,1950,1951,1952,1953,1954,1955,1956,1957,1958,1959,1960,1961,1962,1963,1964,1965,1966,1967,1968,1969,1970,1971,1972,1973,1974,1975,1976,1977,1978,1979,1980,1981,1982,1983,1984,1985,1986,1987,1988,1989,1990,1991,1992,1993,1994,1995,1996,1997,1998,1999,2000,2001,2002,2003,2004,2005,2006,2007,2008,2009,2010,2011,2012,2013,2014,2015,2016,2017,2018,2019,2020,2021,2022,2023,2024,2025,2026,2027,2028,2029,2030,2031,2032,2033,2034,2035,2036,2037,2038,2039,2040,2041,2042,2043,2044,2045,2046,2047,2048,2049,2050,2051,2052,2053,2054,2055,2056,2057,2058,2059,2060,2061,2062,2063,2064,2065,2066,2067,2068,2069,2070,2071,2072,2073,2074,2075,2076,2077,2078,2079,2080,2081,2082,2083,2084,2085,2086,2087,2088,2089,2090,2091,2092,2093,2094,2095,2096,2097,2098,2099,2100,2101,2102,2103,2104,2105,2106,2107,2108,2109,2110,2111,2112,2113,2114,2115,2116,2117,2118,2119,2120,2121,2122,2123,2124,2125,2126,2127,2128,2129,2130,2131,2132,2133,2134,2135,2136,2137,2138,2139,2140,2141,2142,2143,2144,2145,2146,2147,2148,2149,2150,2151,2152,2153,2154,2155,2156,2157,2158,2159,2160,2161,2162,2163,2164,2165,2166,2167,2168,2169,2170,2171,2172,2173,2174,2175,2176,2177,2178,2179,2180,2181,2182,2183,2184,2185,2186,2187,2188,2189,2190,2191,2192,2193,2194,2195,2196,2197,2198,2199,2200,2201,2202,2203,2204,2205,2206,2207,2208,2209,2210,2211,2212,2213,2214,2215,2216,2217,2218,2219,2220,2221,2222,2223,2224,2225,2226,2227,2228,2229,2230,2231,2232,2233,2234,2235,2236,2237,2238,2239,2240,2241,2242,2243,2244,2245,2246,2247,2248,2249,2250,2251,2252,2253,2254,2255,2256,2257,2258,2259,2260,2261,2262,2263,2264,2265,2266,2267,2268,2269,2270,2271,2272,2273,2274,2275,2276,2277,2278,2279,2280,2281,2282,2283,2284,2285,2286,2287,2288,2289,2290,2291,2292,2293,2294,2295,2296,2297,2298,2299,2300,2301,2302,2303,2304,2305,2306,2307,2308,2309,2310,2311,2312,2313,2314,2315,2316,2317,2318,2319,2320,2321,2322,2323,2324,2325,2326,2327,2328,2329,2330,2331,2332,2333,2334,2335,2336,2337,2338,2339,2340,2341,2342,2343,2344,2345,2346,2347,2348,2349,2350,2351,2352,2353,2354,2355,2356,2357,2358,2359,2360,2361,2362,2363,2364,2365,2366,2367,2368,2369,2370,2371,2372,2373,2374,2375,2376,2377,2378,2379,2380,2381,2382,2383,2384,2385,2386,2387,2388,2389,2390,2391,2392,2393,2394,2395,2396,2397,2398,2399,2400,2401,2402,2403,2404,2405,2406,2407,2408,2409,2410,2411,2412,2413,2414,2415,2416,2417,2418,2419,2420,2421,2422,2423,2424,2425,2426,2427,2428,2429,2430,2431,2432,2433,2434,2435,2436,2437,2438,2439,2440,2441,2442,2443,2444,2445,2446,2447,2448,2449,2450,2451,2452,2453,2454,2455,2456,2457,2458,2459,2460,2461,2462,2463,2464,2465,2466,2467,2468,2469,2470,2471,2472,2473,2474,2475,2476,2477,2478,2479,2480,2481,2482,2483,2484,2485,2486,2487,2488,2489,2490,2491,2492,2493,2494,2495,2496,2497,2498,2499,2500,2501,2502,2503,2504,2505,2506,2507,2508,2509,2510,2511,2512,2513,2514,2515,2516,2517,2518,2519,2520,2521,2522,2523,2524,2525,2526,2527,2528,2529,2530,2531,2532,2533,2534,2535,2536,2537,2538,2539,2540,2541,2542,2543,2544,2545,2546,2547,2548,2549,2550,2551,2552,2553,2554,2555,2556,2557,2558,2559,2560,2561,2562,2563,2564,2565,2566,2567,2568,2569,2570,2571,2572,2573,2574,2575,2576,2577,2578,2579,2580,2581,2582,2583,2584,2585,2586,2587,2588,2589,2590,2591,2592,2593,2594,2595,2596,2597,2598,2599,2600,2601,2602,2603,2604,2605,2606,2607,2608,2609,2610,2611,2612,2613,2614,2615,2616,2617,2618,2619,2620,2621,2622,2623,2624,2625,2626,2627,2628,2629,2630,2631,2632,2633,2634,2635,2636,2637,2638,2639,2640,2641,2642,2643,2644,2645,2646,2647,2648,2649,2650,2651,2652,2653,2654,2655,2656,2657,2658,2659,2660,2661,2662,2663,2664,2665,2666,2667,2668,2669,2670,2671,2672,2673,2674,2675,2676,2677,2678,2679,2680,2681,2682,2683,2684,2685,2686,2687,2688,2689,2690,2691,2692,2693,2694,2695,2696,2697,2698,2699,2700,2701,2702,2703,2704,2705,2706,2707,2708,2709,2710,2711,2712,2713,2714,2715,2716,2717,2718,2719,2720,2721,2722,2723,2724,2725,2726,2727,2728,2729,2730,2731,2732,2733,2734,2735,2736,2737,2738,2739,2740,2741,2742,2743,2744,2745,2746,2747,2748,2749,2750,2751,2752,2753,2754,2755,2756,2757,2758,2759,2760,2761,2762,2763,2764,2765,2766,2767,2768,2769,2770,2771,2772,2773,2774,2775,2776,2777,2778,2779,2780,2781,2782,2783,2784,2785,2786,2787,2788,2789,2790,2791,2792,2793,2794,2795,2796,2797,2798,2799,2800,2801,2802,2803,2804,2805,2806,2807,2808,2809,2810,2811,2812,2813,2814,2815,2816,2817,2818,2819,2820,2821,2822,2823,2824,2825,2826,2827,2828,2829,2830,2831,2832,2833,2834,2835,2836,2837,2838,2839,2840,2841,2842,2843,2844,2845,2846,2847,2848,2849,2850,2851,2852,2853,2854,2855,2856,2857,2858,2859,2860,2861,2862,2863,2864,2865,2866,2867,2868,2869,2870,2871,2872,2873,2874,2875,2876,2877,2878,2879,2880,2881,2882,2883,2884,2885,2886,2887,2888,2889,2890,2891,2892,2893,2894,2895,2896,2897,2898,2899,2900,2901,2902,2903,2904,2905,2906,2907,2908,2909,2910,2911,2912,2913,2914,2915,2916,2917,2918,2919,2920,2921,2922,2923,2924,2925,2926,2927,2928,2929,2930,2931,2932,2933,2934,2935,2936,2937,2938,2939,2940,2941,2942,2943,2944,2945,2946,2947,2948,2949,2950,2951,2952,2953,2954,2955,2956,2957,2958,2959,2960,2961,2962,2963,2964,2965,2966,2967,2968,2969,2970,2971,2972,2973,2974,2975,2976,2977,2978,2979,2980,2981,2982,2983,2984,2985,2986,2987,2988,2989,2990,2991,2992,2993,2994,2995,2996,2997,2998,2999,3000,3001,3002,3003,3004,3005,3006,3007,3008,3009,3010,3011,3012,3013,3014,3015,3016,3017,3018,3019,3020,3021,3022,3023,3024,3025,3026,3027,3028,3029,3030,3031,3032,3033,3034,3035,3036,3037,3038,3039,3040,3041,3042,3043,3044,3045,3046,3047,3048,3049,3050,3051,3052,3053,3054,3055,3056,3057,3058,3059,3060,3061,3062,3063,3064,3065,3066,3067,3068,3069,3070,3071,3072,3073,3074,3075,3076,3077,3078,3079,3080,3081,3082,3083,3084,3085,3086,3087,3088,3089,3090,3091,3092,3093,3094,3095,3096,3097,3098,3099,3100,3101,3102,3103,3104,3105,3106,3107,3108,3109,3110,3111,3112,3113,3114,3115,3116,3117,3118,3119,3120,3121,3122,3123,3124,3125,3126,3127,3128,3129,3130,3131,3132,3133,3134,3135,3136,3137,3138,3139,3140,3141,3142,3143,3144,3145,3146,3147,3148,3149,3150,3151,3152,3153,3154,3155,3156,3157,3158,3159,3160,3161,3162,3163,3164,3165,3166,3167,3168,3169,3170,3171,3172,3173,3174,3175,3176,3177,3178,3179,3180,3181,3182,3183,3184,3185,3186,3187,3188,3189,3190,3191,3192,3193,3194,3195,3196,3197,3198,3199,3200,3201,3202,3203,3204,3205,3206,3207,3208,3209,3210,3211,3212,3213,3214,3215,3216,3217,3218,3219,3220,3221,3222,3223,3224,3225,3226,3227,3228,3229,3230,3231,3232,3233,3234,3235,3236,3237,3238,3239,3240,3241,3242,3243,3244,3245,3246,3247,3248,3249,3250,3251,3252,3253,3254,3255,3256,3257,3258,3259,3260,3261,3262,3263,3264,3265,3266,3267,3268,3269,3270,3271,3272,3273,3274,3275,3276,3277,3278,3279,3280,3281,3282,3283,3284,3285,3286,3287,3288,3289,3290,3291,3292,3293,3294,3295,3296,3297,3298,3299,3300,3301,3302,3303,3304,3305,3306,3307,3308,3309,3310,3311,3312,3313,3314,3315,3316,3317,3318,3319,3320,3321,3322,3323,3324,3325,3326,3327,3328,3329,3330,3331,3332,3333,3334,3335,3336,3337,3338,3339,3340,3341,3342,3343,3344,3345,3346,3347,3348,3349,3350,3351,3352,3353,3354,3355,3356,3357,3358,3359,3360,3361,3362,3363,3364,3365,3366,3367,3368,3369,3370,3371,3372,3373,3374,3375,3376,3377,3378,3379,3380,3381,3382,3383,3384,3385,3386,3387,3388,3389,3390,3391,3392,3393,3394,3395,3396,3397,3398,3399,3400,3401,3402,3403,3404,3405,3406,3407,3408,3409,3410,3411,3412,3413,3414,3415,3416,3417,3418,3419,3420,3421,3422,3423,3424,3425,3426,3427,3428,3429,3430,3431,3432,3433,3434,3435,3436,3437,3438,3439,3440,3441,3442,3443,3444,3445,3446,3447,3448,3449,3450,3451,3452,3453,3454,3455,3456,3457,3458,3459,3460,3461,3462,3463,3464,3465,3466,3467,3468,3469,3470,3471,3472,3473,3474,3475,3476,3477,3478,3479,3480,3481,3482,3483,3484,3485,3486,3487,3488,3489,3490,3491,3492,3493,3494,3495,3496,3497,3498,3499,3500,3501,3502,3503,3504,3505,3506,3507,3508,3509,3510,3511,3512,3513,3514,3515,3516,3517,3518,3519,3520,3521,3522,3523,3524,3525,3526,3527,3528,3529,3530,3531,3532,3533,3534,3535,3536,3537,3538,3539,3540,3541,3542,3543,3544,3545,3546,3547,3548,3549,3550,3551,3552,3553,3554,3555,3556,3557,3558,3559,3560,3561,3562,3563,3564,3565,3566,3567,3568,3569,3570,3571,3572,3573,3574,3575,3576,3577,3578,3579,3580,3581,3582,3583,3584,3585,3586,3587,3588,3589,3590,3591,3592,3593,3594,3595,3596,3597,3598,3599,3600,3601,3602,3603,3604,3605,3606,3607,3608,3609,3610,3611,3612,3613,3614,3615,3616,3617,3618,3619,3620,3621,3622,3623,3624,3625,3626,3627,3628,3629,3630,3631,3632,3633,3634,3635,3636,3637,3638,3639,3640,3641,3642,3643,3644,3645,3646,3647,3648,3649,3650,3651,3652,3653,3654,3655,3656,3657,3658,3659,3660,3661,3662,3663,3664,3665,3666,3667,3668,3669,3670,3671,3672,3673,3674,3675,3676,3677,3678,3679,3680,3681,3682,3683,3684,3685,3686,3687,3688,3689,3690,3691,3692,3693,3694,3695,3696,3697,3698,3699,3700,3701,3702,3703,3704,3705,3706,3707,3708,3709,3710,3711,3712,3713,3714,3715,3716,3717,3718,3719,3720,3721,3722,3723,3724,3725,3726,3727,3728,3729,3730,3731,3732,3733,3734,3735,3736,3737,3738,3739,3740,3741,3742,3743,3744,3745,3746,3747,3748,3749,3750,3751,3752,3753,3754,3755,3756,3757,3758,3759,3760,3761,3762,3763,3764,3765,3766,3767,3768,3769,3770,3771,3772,3773,3774,3775,3776,3777,3778,3779,3780,3781,3782,3783,3784,3785,3786,3787,3788,3789,3790,3791,3792,3793,3794,3795,3796,3797,3798,3799,3800,3801,3802,3803,3804,3805,3806,3807,3808,3809,3810,3811,3812,3813,3814,3815,3816,3817,3818,3819,3820,3821,3822,3823,3824,3825,3826,3827,3828,3829,3830,3831,3832,3833,3834,3835,3836,3837,3838,3839,3840,3841,3842,3843,3844,3845,3846,3847,3848,3849,3850,3851,3852,3853,3854,3855,3856,3857,3858,3859,3860,3861,3862,3863,3864,3865,3866,3867,3868,3869,3870,3871,3872,3873,3874,3875,3876,3877,3878,3879,3880,3881,3882,3883,3884,3885,3886,3887,3888,3889,3890,3891,3892,3893,3894,3895,3896,3897,3898,3899,3900,3901,3902,3903,3904,3905,3906,3907,3908,3909,3910,3911,3912,3913,3914,3915,3916,3917,3918,3919,3920,3921,3922,3923,3924,3925,3926,3927,3928,3929,3930,3931,3932,3933,3934,3935,3936,3937,3938,3939,3940,3941,3942,3943,3944,3945,3946,3947,3948,3949,3950,3951,3952,3953,3954,3955,3956,3957,3958,3959,3960,3961,3962,3963,3964,3965,3966,3967,3968,3969,3970,3971,3972,3973,3974,3975,3976,3977,3978,3979,3980,3981,3982,3983,3984,3985,3986,3987,3988,3989,3990,3991,3992,3993,3994,3995,3996,3997,3998,3999,4000,4001,4002,4003,4004,4005,4006,4007,4008,4009,4010,4011,4012,4013,4014,4015,4016,4017,4018,4019,4020,4021,4022,4023,4024,4025,4026,4027,4028,4029,4030,4031,4032,4033,4034,4035,4036,4037,4038,4039,4040,4041,4042,4043,4044,4045,4046,4047,4048,4049,4050,4051,4052,4053,4054,4055,4056,4057,4058,4059,4060,4061,4062,4063,4064,4065,4066,4067,4068,4069,4070,4071,4072,4073,4074,4075,4076,4077,4078,4079,4080,4081,4082,4083,4084,4085,4086,4087,4088,4089,4090,4091,4092,4093,4094,4095,4096,4097,4098,4099,4100,4101,4102,4103,4104,4105,4106,4107,4108,4109,4110,4111,4112,4113,4114,4115,4116,4117,4118,4119,4120,4121,4122,4123,4124,4125,4126,4127,4128,4129,4130,4131,4132,4133,4134,4135,4136,4137,4138,4139,4140,4141,4142,4143,4144,4145,4146,4147,4148,4149,4150,4151,4152,4153,4154,4155,4156,4157,4158,4159,4160,4161,4162,4163,4164,4165,4166,4167,4168,4169,4170,4171,4172,4173,4174,4175,4176,4177,4178,4179,4180,4181,4182,4183,4184,4185,4186,4187,4188,4189,4190,4191,4192,4193,4194,4195,4196,4197,4198,4199],\"yaxis\":\"y\",\"type\":\"scattergl\"}],                        {\"template\":{\"data\":{\"histogram2dcontour\":[{\"type\":\"histogram2dcontour\",\"colorbar\":{\"outlinewidth\":0,\"ticks\":\"\"},\"colorscale\":[[0.0,\"#0d0887\"],[0.1111111111111111,\"#46039f\"],[0.2222222222222222,\"#7201a8\"],[0.3333333333333333,\"#9c179e\"],[0.4444444444444444,\"#bd3786\"],[0.5555555555555556,\"#d8576b\"],[0.6666666666666666,\"#ed7953\"],[0.7777777777777778,\"#fb9f3a\"],[0.8888888888888888,\"#fdca26\"],[1.0,\"#f0f921\"]]}],\"choropleth\":[{\"type\":\"choropleth\",\"colorbar\":{\"outlinewidth\":0,\"ticks\":\"\"}}],\"histogram2d\":[{\"type\":\"histogram2d\",\"colorbar\":{\"outlinewidth\":0,\"ticks\":\"\"},\"colorscale\":[[0.0,\"#0d0887\"],[0.1111111111111111,\"#46039f\"],[0.2222222222222222,\"#7201a8\"],[0.3333333333333333,\"#9c179e\"],[0.4444444444444444,\"#bd3786\"],[0.5555555555555556,\"#d8576b\"],[0.6666666666666666,\"#ed7953\"],[0.7777777777777778,\"#fb9f3a\"],[0.8888888888888888,\"#fdca26\"],[1.0,\"#f0f921\"]]}],\"heatmap\":[{\"type\":\"heatmap\",\"colorbar\":{\"outlinewidth\":0,\"ticks\":\"\"},\"colorscale\":[[0.0,\"#0d0887\"],[0.1111111111111111,\"#46039f\"],[0.2222222222222222,\"#7201a8\"],[0.3333333333333333,\"#9c179e\"],[0.4444444444444444,\"#bd3786\"],[0.5555555555555556,\"#d8576b\"],[0.6666666666666666,\"#ed7953\"],[0.7777777777777778,\"#fb9f3a\"],[0.8888888888888888,\"#fdca26\"],[1.0,\"#f0f921\"]]}],\"heatmapgl\":[{\"type\":\"heatmapgl\",\"colorbar\":{\"outlinewidth\":0,\"ticks\":\"\"},\"colorscale\":[[0.0,\"#0d0887\"],[0.1111111111111111,\"#46039f\"],[0.2222222222222222,\"#7201a8\"],[0.3333333333333333,\"#9c179e\"],[0.4444444444444444,\"#bd3786\"],[0.5555555555555556,\"#d8576b\"],[0.6666666666666666,\"#ed7953\"],[0.7777777777777778,\"#fb9f3a\"],[0.8888888888888888,\"#fdca26\"],[1.0,\"#f0f921\"]]}],\"contourcarpet\":[{\"type\":\"contourcarpet\",\"colorbar\":{\"outlinewidth\":0,\"ticks\":\"\"}}],\"contour\":[{\"type\":\"contour\",\"colorbar\":{\"outlinewidth\":0,\"ticks\":\"\"},\"colorscale\":[[0.0,\"#0d0887\"],[0.1111111111111111,\"#46039f\"],[0.2222222222222222,\"#7201a8\"],[0.3333333333333333,\"#9c179e\"],[0.4444444444444444,\"#bd3786\"],[0.5555555555555556,\"#d8576b\"],[0.6666666666666666,\"#ed7953\"],[0.7777777777777778,\"#fb9f3a\"],[0.8888888888888888,\"#fdca26\"],[1.0,\"#f0f921\"]]}],\"surface\":[{\"type\":\"surface\",\"colorbar\":{\"outlinewidth\":0,\"ticks\":\"\"},\"colorscale\":[[0.0,\"#0d0887\"],[0.1111111111111111,\"#46039f\"],[0.2222222222222222,\"#7201a8\"],[0.3333333333333333,\"#9c179e\"],[0.4444444444444444,\"#bd3786\"],[0.5555555555555556,\"#d8576b\"],[0.6666666666666666,\"#ed7953\"],[0.7777777777777778,\"#fb9f3a\"],[0.8888888888888888,\"#fdca26\"],[1.0,\"#f0f921\"]]}],\"mesh3d\":[{\"type\":\"mesh3d\",\"colorbar\":{\"outlinewidth\":0,\"ticks\":\"\"}}],\"scatter\":[{\"fillpattern\":{\"fillmode\":\"overlay\",\"size\":10,\"solidity\":0.2},\"type\":\"scatter\"}],\"parcoords\":[{\"type\":\"parcoords\",\"line\":{\"colorbar\":{\"outlinewidth\":0,\"ticks\":\"\"}}}],\"scatterpolargl\":[{\"type\":\"scatterpolargl\",\"marker\":{\"colorbar\":{\"outlinewidth\":0,\"ticks\":\"\"}}}],\"bar\":[{\"error_x\":{\"color\":\"#2a3f5f\"},\"error_y\":{\"color\":\"#2a3f5f\"},\"marker\":{\"line\":{\"color\":\"#E5ECF6\",\"width\":0.5},\"pattern\":{\"fillmode\":\"overlay\",\"size\":10,\"solidity\":0.2}},\"type\":\"bar\"}],\"scattergeo\":[{\"type\":\"scattergeo\",\"marker\":{\"colorbar\":{\"outlinewidth\":0,\"ticks\":\"\"}}}],\"scatterpolar\":[{\"type\":\"scatterpolar\",\"marker\":{\"colorbar\":{\"outlinewidth\":0,\"ticks\":\"\"}}}],\"histogram\":[{\"marker\":{\"pattern\":{\"fillmode\":\"overlay\",\"size\":10,\"solidity\":0.2}},\"type\":\"histogram\"}],\"scattergl\":[{\"type\":\"scattergl\",\"marker\":{\"colorbar\":{\"outlinewidth\":0,\"ticks\":\"\"}}}],\"scatter3d\":[{\"type\":\"scatter3d\",\"line\":{\"colorbar\":{\"outlinewidth\":0,\"ticks\":\"\"}},\"marker\":{\"colorbar\":{\"outlinewidth\":0,\"ticks\":\"\"}}}],\"scattermapbox\":[{\"type\":\"scattermapbox\",\"marker\":{\"colorbar\":{\"outlinewidth\":0,\"ticks\":\"\"}}}],\"scatterternary\":[{\"type\":\"scatterternary\",\"marker\":{\"colorbar\":{\"outlinewidth\":0,\"ticks\":\"\"}}}],\"scattercarpet\":[{\"type\":\"scattercarpet\",\"marker\":{\"colorbar\":{\"outlinewidth\":0,\"ticks\":\"\"}}}],\"carpet\":[{\"aaxis\":{\"endlinecolor\":\"#2a3f5f\",\"gridcolor\":\"white\",\"linecolor\":\"white\",\"minorgridcolor\":\"white\",\"startlinecolor\":\"#2a3f5f\"},\"baxis\":{\"endlinecolor\":\"#2a3f5f\",\"gridcolor\":\"white\",\"linecolor\":\"white\",\"minorgridcolor\":\"white\",\"startlinecolor\":\"#2a3f5f\"},\"type\":\"carpet\"}],\"table\":[{\"cells\":{\"fill\":{\"color\":\"#EBF0F8\"},\"line\":{\"color\":\"white\"}},\"header\":{\"fill\":{\"color\":\"#C8D4E3\"},\"line\":{\"color\":\"white\"}},\"type\":\"table\"}],\"barpolar\":[{\"marker\":{\"line\":{\"color\":\"#E5ECF6\",\"width\":0.5},\"pattern\":{\"fillmode\":\"overlay\",\"size\":10,\"solidity\":0.2}},\"type\":\"barpolar\"}],\"pie\":[{\"automargin\":true,\"type\":\"pie\"}]},\"layout\":{\"autotypenumbers\":\"strict\",\"colorway\":[\"#636efa\",\"#EF553B\",\"#00cc96\",\"#ab63fa\",\"#FFA15A\",\"#19d3f3\",\"#FF6692\",\"#B6E880\",\"#FF97FF\",\"#FECB52\"],\"font\":{\"color\":\"#2a3f5f\"},\"hovermode\":\"closest\",\"hoverlabel\":{\"align\":\"left\"},\"paper_bgcolor\":\"white\",\"plot_bgcolor\":\"#E5ECF6\",\"polar\":{\"bgcolor\":\"#E5ECF6\",\"angularaxis\":{\"gridcolor\":\"white\",\"linecolor\":\"white\",\"ticks\":\"\"},\"radialaxis\":{\"gridcolor\":\"white\",\"linecolor\":\"white\",\"ticks\":\"\"}},\"ternary\":{\"bgcolor\":\"#E5ECF6\",\"aaxis\":{\"gridcolor\":\"white\",\"linecolor\":\"white\",\"ticks\":\"\"},\"baxis\":{\"gridcolor\":\"white\",\"linecolor\":\"white\",\"ticks\":\"\"},\"caxis\":{\"gridcolor\":\"white\",\"linecolor\":\"white\",\"ticks\":\"\"}},\"coloraxis\":{\"colorbar\":{\"outlinewidth\":0,\"ticks\":\"\"}},\"colorscale\":{\"sequential\":[[0.0,\"#0d0887\"],[0.1111111111111111,\"#46039f\"],[0.2222222222222222,\"#7201a8\"],[0.3333333333333333,\"#9c179e\"],[0.4444444444444444,\"#bd3786\"],[0.5555555555555556,\"#d8576b\"],[0.6666666666666666,\"#ed7953\"],[0.7777777777777778,\"#fb9f3a\"],[0.8888888888888888,\"#fdca26\"],[1.0,\"#f0f921\"]],\"sequentialminus\":[[0.0,\"#0d0887\"],[0.1111111111111111,\"#46039f\"],[0.2222222222222222,\"#7201a8\"],[0.3333333333333333,\"#9c179e\"],[0.4444444444444444,\"#bd3786\"],[0.5555555555555556,\"#d8576b\"],[0.6666666666666666,\"#ed7953\"],[0.7777777777777778,\"#fb9f3a\"],[0.8888888888888888,\"#fdca26\"],[1.0,\"#f0f921\"]],\"diverging\":[[0,\"#8e0152\"],[0.1,\"#c51b7d\"],[0.2,\"#de77ae\"],[0.3,\"#f1b6da\"],[0.4,\"#fde0ef\"],[0.5,\"#f7f7f7\"],[0.6,\"#e6f5d0\"],[0.7,\"#b8e186\"],[0.8,\"#7fbc41\"],[0.9,\"#4d9221\"],[1,\"#276419\"]]},\"xaxis\":{\"gridcolor\":\"white\",\"linecolor\":\"white\",\"ticks\":\"\",\"title\":{\"standoff\":15},\"zerolinecolor\":\"white\",\"automargin\":true,\"zerolinewidth\":2},\"yaxis\":{\"gridcolor\":\"white\",\"linecolor\":\"white\",\"ticks\":\"\",\"title\":{\"standoff\":15},\"zerolinecolor\":\"white\",\"automargin\":true,\"zerolinewidth\":2},\"scene\":{\"xaxis\":{\"backgroundcolor\":\"#E5ECF6\",\"gridcolor\":\"white\",\"linecolor\":\"white\",\"showbackground\":true,\"ticks\":\"\",\"zerolinecolor\":\"white\",\"gridwidth\":2},\"yaxis\":{\"backgroundcolor\":\"#E5ECF6\",\"gridcolor\":\"white\",\"linecolor\":\"white\",\"showbackground\":true,\"ticks\":\"\",\"zerolinecolor\":\"white\",\"gridwidth\":2},\"zaxis\":{\"backgroundcolor\":\"#E5ECF6\",\"gridcolor\":\"white\",\"linecolor\":\"white\",\"showbackground\":true,\"ticks\":\"\",\"zerolinecolor\":\"white\",\"gridwidth\":2}},\"shapedefaults\":{\"line\":{\"color\":\"#2a3f5f\"}},\"annotationdefaults\":{\"arrowcolor\":\"#2a3f5f\",\"arrowhead\":0,\"arrowwidth\":1},\"geo\":{\"bgcolor\":\"white\",\"landcolor\":\"#E5ECF6\",\"subunitcolor\":\"white\",\"showland\":true,\"showlakes\":true,\"lakecolor\":\"white\"},\"title\":{\"x\":0.05},\"mapbox\":{\"style\":\"light\"}}},\"xaxis\":{\"anchor\":\"y\",\"domain\":[0.0,1.0],\"title\":{\"text\":\"x\"}},\"yaxis\":{\"anchor\":\"x\",\"domain\":[0.0,1.0],\"title\":{\"text\":\"index\"}},\"coloraxis\":{\"colorbar\":{\"title\":{\"text\":\"\"}},\"colorscale\":[[0.0,\"#0d0887\"],[0.1111111111111111,\"#46039f\"],[0.2222222222222222,\"#7201a8\"],[0.3333333333333333,\"#9c179e\"],[0.4444444444444444,\"#bd3786\"],[0.5555555555555556,\"#d8576b\"],[0.6666666666666666,\"#ed7953\"],[0.7777777777777778,\"#fb9f3a\"],[0.8888888888888888,\"#fdca26\"],[1.0,\"#f0f921\"]]},\"legend\":{\"tracegroupgap\":0},\"margin\":{\"t\":60}},                        {\"responsive\": true}                    ).then(function(){\n",
              "                            \n",
              "var gd = document.getElementById('92df32a9-a57f-4814-81f9-af4e2f85a7e2');\n",
              "var x = new MutationObserver(function (mutations, observer) {{\n",
              "        var display = window.getComputedStyle(gd).display;\n",
              "        if (!display || display === 'none') {{\n",
              "            console.log([gd, 'removed!']);\n",
              "            Plotly.purge(gd);\n",
              "            observer.disconnect();\n",
              "        }}\n",
              "}});\n",
              "\n",
              "// Listen for the removal of the full notebook cells\n",
              "var notebookContainer = gd.closest('#notebook-container');\n",
              "if (notebookContainer) {{\n",
              "    x.observe(notebookContainer, {childList: true});\n",
              "}}\n",
              "\n",
              "// Listen for the clearing of the current output cell\n",
              "var outputEl = gd.closest('.output');\n",
              "if (outputEl) {{\n",
              "    x.observe(outputEl, {childList: true});\n",
              "}}\n",
              "\n",
              "                        })                };                            </script>        </div>\n",
              "</body>\n",
              "</html>"
            ]
          },
          "metadata": {}
        }
      ],
      "source": [
        "tsne=TSNE(n_components=2, random_state=0, learning_rate='auto')\n",
        "projections=tsne.fit_transform(trained_feature_n)\n",
        "fig=px.scatter(projections[:,0], projections[:,1], color=trained_label,labels={\"color\":\"\"})\n",
        "fig.show()"
      ]
    },
    {
      "cell_type": "code",
      "source": [
        "#task 2 Pretrained ResNet18 applied to Dataset2 & 3\n",
        "dataset2 = datasets.ImageFolder(\"/content/drive/My Drive/Comp 432/Dataset2\", transforms.Compose([\n",
        "        torchvision.transforms.Resize((224,224)),\n",
        "        torchvision.transforms.ColorJitter(hue=.05, saturation=.05),\n",
        "        torchvision.transforms.RandomHorizontalFlip(),\n",
        "        torchvision.transforms.RandomRotation(20),\n",
        "        transforms.ToTensor(),\n",
        "        transforms.Normalize([0.485, 0.456, 0.406], [0.229, 0.224, 0.225])]))\n",
        "\n",
        "train_set, test_set = torch.utils.data.random_split(dataset,[0.7,0.3])                # splits dataset into specified ratios\n",
        "train_loader = DataLoader(train_set,shuffle=True,batch_size=16, num_workers=0)         # create train loader\n",
        "test_loader = DataLoader(test_set,batch_size=16, num_workers=0)  # create test loader\n"
      ],
      "metadata": {
        "id": "4falhgicL2H2"
      },
      "execution_count": null,
      "outputs": []
    },
    {
      "cell_type": "code",
      "source": [
        "val_loss = []\n",
        "\n",
        "with torch.no_grad():\n",
        "          pretrained_model.eval()\n",
        "          running_loss = 0.0\n",
        "          running_score = 0.0\n",
        "          for image,label in test_loader:\n",
        "                image = image.to('cuda')\n",
        "                label = label.to('cuda')\n",
        "                optimizer.zero_grad()\n",
        "                y_pred = model.forward(image)\n",
        "                l = loss(y_pred,label)\n",
        "                running_loss += l.item()\n",
        "\n",
        "                val, index_ = torch.max(y_pred,axis=1)\n",
        "                running_score += torch.sum(index_ == label.data).item()\n",
        "\n",
        "          epoch_score = running_score/len(test_loader.dataset)\n",
        "          epoch_loss = running_loss/len(test_loader.dataset)\n",
        "          val_loss.append(epoch_loss)\n",
        "          print(\"Validation loss: {}, accuracy: {}\".format(epoch_loss,epoch_score))\n",
        "\n",
        "          all_predictions = []\n",
        "          true_labels = []\n",
        "          for inputs, labels in test_loader:\n",
        "              inputs, labels = inputs.to('cuda'), labels.to('cuda')\n",
        "              outputs = model.forward(inputs)\n",
        "              _, predicted = torch.max(outputs.data, 1)\n",
        "              all_predictions.extend(predicted.cpu().numpy())\n",
        "              true_labels.extend(labels.cpu().numpy())\n",
        "\n",
        "classification_rep = classification_report(true_labels, all_predictions, target_names=dataset2.classes)\n",
        "print(classification_rep)"
      ],
      "metadata": {
        "colab": {
          "base_uri": "https://localhost:8080/",
          "height": 384
        },
        "id": "OXUUzCHONEnz",
        "outputId": "54759728-5503-48c1-abdd-855705835b47"
      },
      "execution_count": null,
      "outputs": [
        {
          "output_type": "stream",
          "name": "stdout",
          "text": [
            "Validation loss: 0.629561579320063, accuracy: 0.0\n"
          ]
        },
        {
          "output_type": "error",
          "ename": "ValueError",
          "evalue": "ignored",
          "traceback": [
            "\u001b[0;31m---------------------------------------------------------------------------\u001b[0m",
            "\u001b[0;31mValueError\u001b[0m                                Traceback (most recent call last)",
            "\u001b[0;32m<ipython-input-22-7f2abe64261e>\u001b[0m in \u001b[0;36m<cell line: 32>\u001b[0;34m()\u001b[0m\n\u001b[1;32m     30\u001b[0m               \u001b[0mtrue_labels\u001b[0m\u001b[0;34m.\u001b[0m\u001b[0mextend\u001b[0m\u001b[0;34m(\u001b[0m\u001b[0mlabels\u001b[0m\u001b[0;34m.\u001b[0m\u001b[0mcpu\u001b[0m\u001b[0;34m(\u001b[0m\u001b[0;34m)\u001b[0m\u001b[0;34m.\u001b[0m\u001b[0mnumpy\u001b[0m\u001b[0;34m(\u001b[0m\u001b[0;34m)\u001b[0m\u001b[0;34m)\u001b[0m\u001b[0;34m\u001b[0m\u001b[0;34m\u001b[0m\u001b[0m\n\u001b[1;32m     31\u001b[0m \u001b[0;34m\u001b[0m\u001b[0m\n\u001b[0;32m---> 32\u001b[0;31m \u001b[0mclassification_rep\u001b[0m \u001b[0;34m=\u001b[0m \u001b[0mclassification_report\u001b[0m\u001b[0;34m(\u001b[0m\u001b[0mtrue_labels\u001b[0m\u001b[0;34m,\u001b[0m \u001b[0mall_predictions\u001b[0m\u001b[0;34m,\u001b[0m \u001b[0mtarget_names\u001b[0m\u001b[0;34m=\u001b[0m\u001b[0mdataset2\u001b[0m\u001b[0;34m.\u001b[0m\u001b[0mclasses\u001b[0m\u001b[0;34m)\u001b[0m\u001b[0;34m\u001b[0m\u001b[0;34m\u001b[0m\u001b[0m\n\u001b[0m\u001b[1;32m     33\u001b[0m \u001b[0mprint\u001b[0m\u001b[0;34m(\u001b[0m\u001b[0mclassification_rep\u001b[0m\u001b[0;34m)\u001b[0m\u001b[0;34m\u001b[0m\u001b[0;34m\u001b[0m\u001b[0m\n",
            "\u001b[0;32m/usr/local/lib/python3.10/dist-packages/sklearn/metrics/_classification.py\u001b[0m in \u001b[0;36mclassification_report\u001b[0;34m(y_true, y_pred, labels, target_names, sample_weight, digits, output_dict, zero_division)\u001b[0m\n\u001b[1;32m   2330\u001b[0m             )\n\u001b[1;32m   2331\u001b[0m         \u001b[0;32melse\u001b[0m\u001b[0;34m:\u001b[0m\u001b[0;34m\u001b[0m\u001b[0;34m\u001b[0m\u001b[0m\n\u001b[0;32m-> 2332\u001b[0;31m             raise ValueError(\n\u001b[0m\u001b[1;32m   2333\u001b[0m                 \u001b[0;34m\"Number of classes, {0}, does not match size of \"\u001b[0m\u001b[0;34m\u001b[0m\u001b[0;34m\u001b[0m\u001b[0m\n\u001b[1;32m   2334\u001b[0m                 \u001b[0;34m\"target_names, {1}. Try specifying the labels \"\u001b[0m\u001b[0;34m\u001b[0m\u001b[0;34m\u001b[0m\u001b[0m\n",
            "\u001b[0;31mValueError\u001b[0m: Number of classes, 3, does not match size of target_names, 2. Try specifying the labels parameter"
          ]
        }
      ]
    },
    {
      "cell_type": "code",
      "source": [
        "print(dataset2.classes)"
      ],
      "metadata": {
        "colab": {
          "base_uri": "https://localhost:8080/"
        },
        "id": "dzkp3HY0UYuB",
        "outputId": "28de6642-7134-48da-daed-91a15917dff9"
      },
      "execution_count": null,
      "outputs": [
        {
          "output_type": "stream",
          "name": "stdout",
          "text": [
            "['Dataset 2', '__MACOSX']\n"
          ]
        }
      ]
    },
    {
      "cell_type": "code",
      "source": [
        "import torchvision.models as models"
      ],
      "metadata": {
        "id": "ZeGPMWB8EdU9"
      },
      "execution_count": null,
      "outputs": []
    },
    {
      "cell_type": "code",
      "execution_count": null,
      "metadata": {
        "id": "6AbK63CLlM9Y",
        "colab": {
          "base_uri": "https://localhost:8080/"
        },
        "outputId": "068f3e5e-a0eb-45f4-bb5b-37f5a4a951e1"
      },
      "outputs": [
        {
          "output_type": "stream",
          "name": "stderr",
          "text": [
            "/usr/local/lib/python3.10/dist-packages/torchvision/models/_utils.py:208: UserWarning: The parameter 'pretrained' is deprecated since 0.13 and may be removed in the future, please use 'weights' instead.\n",
            "  warnings.warn(\n",
            "/usr/local/lib/python3.10/dist-packages/torchvision/models/_utils.py:223: UserWarning: Arguments other than a weight enum or `None` for 'weights' are deprecated since 0.13 and may be removed in the future. The current behavior is equivalent to passing `weights=VGG16_Weights.IMAGENET1K_V1`. You can also use `weights=VGG16_Weights.DEFAULT` to get the most up-to-date weights.\n",
            "  warnings.warn(msg)\n"
          ]
        }
      ],
      "source": [
        "device=torch.device(\"cuda\" if torch.cuda.is_available() else \"cpu\")\n",
        "VGG_16=models.vgg16(pretrained=True)"
      ]
    },
    {
      "cell_type": "code",
      "source": [
        "#loss = nn.CrossEntropyLoss()\n",
        "#optimizer_vgg16= optim.SGD(VGG_16.parameters(), lr=0.0001,momentum=0.9)"
      ],
      "metadata": {
        "id": "inJ9oASQEm6p"
      },
      "execution_count": null,
      "outputs": []
    }
  ],
  "metadata": {
    "accelerator": "GPU",
    "colab": {
      "provenance": []
    },
    "kernelspec": {
      "display_name": "Python 3",
      "name": "python3"
    },
    "language_info": {
      "name": "python"
    }
  },
  "nbformat": 4,
  "nbformat_minor": 0
}